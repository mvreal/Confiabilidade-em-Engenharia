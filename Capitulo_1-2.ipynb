{
 "cells": [
  {
   "cell_type": "markdown",
   "id": "1dc445f3-8f0f-41b7-a0fa-541467a1d3db",
   "metadata": {
    "id": "1dc445f3-8f0f-41b7-a0fa-541467a1d3db"
   },
   "source": [
    "### Universidade Federal do Rio Grande - FURG"
   ]
  },
  {
   "cell_type": "markdown",
   "id": "27d28d81-ad30-4559-b52d-0fee9ac96cae",
   "metadata": {
    "id": "27d28d81-ad30-4559-b52d-0fee9ac96cae"
   },
   "source": [
    "### Escola de Engenharia - EE"
   ]
  },
  {
   "cell_type": "markdown",
   "id": "103a5401-6849-4ee0-a254-08a7f684a870",
   "metadata": {
    "id": "103a5401-6849-4ee0-a254-08a7f684a870"
   },
   "source": [
    "### Programa de Pós-graduação em Engenharia Oceânica - PPGEO"
   ]
  },
  {
   "cell_type": "markdown",
   "id": "547b79f5-d7a3-4b02-8ce9-7c1647bff36b",
   "metadata": {
    "id": "547b79f5-d7a3-4b02-8ce9-7c1647bff36b"
   },
   "source": [
    "### Disciplina: Confiabilidade em Engenharia"
   ]
  },
  {
   "cell_type": "markdown",
   "id": "189e93bb-f3e5-4536-9aec-d09046d6929b",
   "metadata": {
    "id": "189e93bb-f3e5-4536-9aec-d09046d6929b"
   },
   "source": [
    "### Professor: Dr. Mauro de Vasconcellos Real"
   ]
  },
  {
   "cell_type": "markdown",
   "id": "c2c02ebe-1f73-4fae-8a1e-9ed64b4b5d93",
   "metadata": {},
   "source": [
    "# __Aula 02__"
   ]
  },
  {
   "cell_type": "markdown",
   "id": "ce78f794-4773-4210-bf0c-d89fd0e707f7",
   "metadata": {
    "id": "ce78f794-4773-4210-bf0c-d89fd0e707f7"
   },
   "source": [
    "# __Capítulo 1 - Conceitos fundamentais de confiabilidade__ <a name=\"section_1\"></a>"
   ]
  },
  {
   "cell_type": "markdown",
   "id": "3ce4b88f-bb46-49e3-b43f-b2c43671b855",
   "metadata": {
    "id": "3ce4b88f-bb46-49e3-b43f-b2c43671b855"
   },
   "source": [
    "[1.3 - Análise e avaliação da segurança: A Teoria da Confiabilidade](#section_13)"
   ]
  },
  {
   "cell_type": "markdown",
   "id": "3e17ec2c-ec34-4711-bf48-764dc8f98e6d",
   "metadata": {
    "id": "3e17ec2c-ec34-4711-bf48-764dc8f98e6d"
   },
   "source": [
    "[1.4 - Projeto de sistemas de engenharia com base na  Teoria da Confiabilidade](#section_14)"
   ]
  },
  {
   "cell_type": "markdown",
   "id": "65bd6cbc-1bc3-4659-9745-fa7e58be371f",
   "metadata": {
    "id": "65bd6cbc-1bc3-4659-9745-fa7e58be371f"
   },
   "source": [
    "[1.5 - Exemplo de aplicação: projeto de uma barra de aço tracionada](#section_15)"
   ]
  },
  {
   "cell_type": "markdown",
   "id": "e35e22ac-13fd-4c43-917c-65a143bdce53",
   "metadata": {
    "id": "e35e22ac-13fd-4c43-917c-65a143bdce53",
    "tags": []
   },
   "source": [
    "[1.6 - Observações e conclusões](#section_16)"
   ]
  },
  {
   "cell_type": "code",
   "execution_count": 1,
   "id": "22361b47-4a21-4384-a93a-98f7923ab7e7",
   "metadata": {},
   "outputs": [],
   "source": [
    "import numpy as np\n",
    "from scipy.stats import norm\n",
    "from scipy import optimize"
   ]
  },
  {
   "cell_type": "markdown",
   "id": "828ff78f-8019-400e-ba88-48c4ff584f53",
   "metadata": {
    "id": "162b3627-6407-4526-b18b-01bcb92e4a46"
   },
   "source": [
    "## __1.3 - Análise e avaliação da segurança: A Teoria da Confiabilidade__ <a name=\"section_13\"></a>"
   ]
  },
  {
   "cell_type": "markdown",
   "id": "1510e612-0436-46fa-a7fd-6aab315e3aa1",
   "metadata": {},
   "source": [
    "### __Confiabilidade de sistemas em Engenharia__"
   ]
  },
  {
   "cell_type": "markdown",
   "id": "5b54bc6b-e5c0-4fc6-a4aa-0a67a405e2db",
   "metadata": {},
   "source": [
    "* Objetivo do projeto em Engenharia: assegurar a performance de um sistema dentro de restrições econômicas.\n"
   ]
  },
  {
   "cell_type": "markdown",
   "id": "cb2c1e73-a59d-42a5-8739-7f648f5170bc",
   "metadata": {},
   "source": [
    "> __Confiabilidade__ é a __medida probabilística__ de que um sistema __desempenhará a função__ para a qual foi projetado, durante sua __vida útil__, dentro das __condições especificadas__ para seu funcionamento.\n"
   ]
  },
  {
   "cell_type": "markdown",
   "id": "ca5b6a7b-c0bb-4c96-b95f-31c50a21f216",
   "metadata": {},
   "source": [
    "$R$ = capacidade ou resistência de um sistema de Engenharia  \n",
    "$S$ = demanda ou solicitação de um sistema de Engenharia  \n",
    "$P(X)$ = probabilidade de que um evento $X$ tem de ocorrer"
   ]
  },
  {
   "cell_type": "markdown",
   "id": "c02c5d64-c59a-4991-a267-4c3f04295229",
   "metadata": {},
   "source": [
    "__Confiabilidade:__ $C=P(R>S)$"
   ]
  },
  {
   "cell_type": "markdown",
   "id": "54f94838-2a9a-4b93-a5f3-b5c26477f5fa",
   "metadata": {},
   "source": [
    "Ou seja, confiabilidade é a probabilidade de que a capacidade do sistema será maior do que a demanda, garantindo que o sistema realizará sua função!"
   ]
  },
  {
   "cell_type": "markdown",
   "id": "88ec43f2-5534-4832-8a2a-b9628a2d7c10",
   "metadata": {},
   "source": [
    "__Probabilidade de falha:__ $P_f=P(R<S)$"
   ]
  },
  {
   "cell_type": "markdown",
   "id": "3f30e7ef-2c74-4e82-be5d-0a2ea9b14ca8",
   "metadata": {},
   "source": [
    "A probabilidade de falha é a possibilidade que existe de a capacidade do sistema ser menor do que a demanda, ou seja, a possibilidade de que o sistema não cumprirá a função para a qual foi projetado."
   ]
  },
  {
   "cell_type": "markdown",
   "id": "b55bf4c3-8846-4660-acb4-60c675035b13",
   "metadata": {},
   "source": [
    "### Problema da Confiabilidade:"
   ]
  },
  {
   "cell_type": "markdown",
   "id": "8bd6d466-0c2a-4f81-a66d-3e458a7660ad",
   "metadata": {},
   "source": [
    "<img src=\"./images1/problema_da_confiabilidade.jpg\" alt=\"problema_da_confiabilidade\" style=\"width:474px\"/>"
   ]
  },
  {
   "cell_type": "markdown",
   "id": "71e4803a-7425-4b2f-b226-05ef2e6afaa6",
   "metadata": {},
   "source": [
    "* Determinar a capacidade do sistema ($R$) capaz de atender a demanda pelo sistema ($S$) dentro de uma certa probabilidade de falha ($P_f$)."
   ]
  },
  {
   "cell_type": "markdown",
   "id": "e530ff0d-3878-4151-8caf-f292713de454",
   "metadata": {},
   "source": [
    "### Exemplos de análise de confiabilidade:"
   ]
  },
  {
   "cell_type": "markdown",
   "id": "771f22f3-0127-4cb3-b15c-9bcd3d2e048d",
   "metadata": {},
   "source": [
    "![Exemplos de análise de confiabilidade](./images1/exemplos_confiabilidade.jpg \"exemplos_confiabilidade\")"
   ]
  },
  {
   "cell_type": "markdown",
   "id": "956c2c3d-0566-41ba-9c71-068ca96ca11a",
   "metadata": {},
   "source": [
    "a) Determinar a capacidade resistente de uma estrutura para suportar determinado carregamento.  \n",
    "b) Determinar a capacidade de um reservatório para atender à demanda de água de uma cidade.  \n",
    "c) Determinar a altura de um molhe de proteção para a maior altura de onda.  \n",
    "d) Determinar a extensão de um cais de porto para atender à demanda de chegada de navios.  "
   ]
  },
  {
   "cell_type": "markdown",
   "id": "c5dd57a8-e11a-45d9-b5ae-f0b22136cc0a",
   "metadata": {},
   "source": [
    "### Confiabilidade na Engenharia"
   ]
  },
  {
   "cell_type": "markdown",
   "id": "bd33121a-984e-4c2b-b715-9229721bbc20",
   "metadata": {},
   "source": [
    "* Na Engenharia a confiabilidade é garantida através de: __coeficientes de segurança__ ou __margens de segurança__.\n",
    "* Normalmente também são adotadas __hipóteses conservadoras de projeto__.\n",
    "* A __máxima demanda__ deve ser suportada pela __capacidade mínima__ do sistema dentro de uma certa __margem de segurança__."
   ]
  },
  {
   "cell_type": "markdown",
   "id": "17bcef0b-bec2-4172-bd77-fe31940e4d78",
   "metadata": {},
   "source": [
    "* É preciso se garantir que: $$R-S>0$$   \n",
    "ou que:   $$\\frac{R}{S}>1,0$$."
   ]
  },
  {
   "cell_type": "markdown",
   "id": "07833f38-3461-46a5-b225-f6b6fa52415f",
   "metadata": {},
   "source": [
    "### Questões importantes:"
   ]
  },
  {
   "cell_type": "markdown",
   "id": "9202c97b-bc3e-4bf2-be1b-3470ced23524",
   "metadata": {},
   "source": [
    "<img src=\"./images1/demanda_capacidade.jpg\" alt=\"demanda x capacidade\" style=\"width:474px\"/>"
   ]
  },
  {
   "cell_type": "markdown",
   "id": "df625afd-5b20-4e7a-813e-abfbe69debb8",
   "metadata": {},
   "source": [
    "* Qual será a demanda máxima do sistema?\n",
    "* Qual será a capacidade mínima do sistema?\n",
    "* Qual a margem de segurança adequada?\n",
    "\n",
    "* Tradicionalmente estas perguntas são respondidas com base na experiência de projeto, construção e operação de sistemas anteriores.\n",
    "\n",
    "* O que fazer quando o sistema a ser construído é diferente da experiência anterior? Novos materiais, formas estruturais inovadoras, carregamentos especiais, etc.\n",
    "\n",
    "* Aplicar os princípios e métodos da __Teoria da Confiabilidade__.\n"
   ]
  },
  {
   "cell_type": "markdown",
   "id": "3f4962f1-91e4-4972-8471-4c8f7004f4ea",
   "metadata": {},
   "source": [
    "<img src=\"./images1/pdf_S_R.jpg\" alt=\"pdfs de S e de R\" style=\"width:474px\"/>"
   ]
  },
  {
   "cell_type": "markdown",
   "id": "aed54e1f-9adc-453f-91d0-9b001617f237",
   "metadata": {},
   "source": [
    "* Para avaliar a incerteza presente no projeto de Engenharia a demanda e a capacidade do sistema são tratadas como variáveis aleatórias.\n",
    "\n",
    "* A __confiabilidade__ do sistema pode ser avaliada em termos de __probabilidade__.\n",
    "\n",
    "* Variáveis aleatórias:\n",
    "* $R$ = capacidade do sistema (resistência)\n",
    "* $S$ = demanda do sistema (solicitação)"
   ]
  },
  {
   "cell_type": "markdown",
   "id": "a04e4671-31c2-4797-b1df-7d49c1aec33a",
   "metadata": {},
   "source": [
    "![seta para baixo](./images1/seta_para_baixo.jpg)"
   ]
  },
  {
   "cell_type": "markdown",
   "id": "f03bd2b2-6cf5-41b8-8c7b-f554a4bb7d1e",
   "metadata": {},
   "source": [
    "* __Análise de confiabilidade__: garantir o evento ($R > S$) ao longo da __vida útil__ estabelecida para o sistema.\n",
    "* Determinar a probabilidade: $P(R>S)$ = confiabilidade\n",
    "* A probabilidade de falha será: $P_f = P(R<S) = 1- P(R>S)$"
   ]
  },
  {
   "cell_type": "markdown",
   "id": "a1f3f250-37fc-4f87-b466-9d9cb2a14a80",
   "metadata": {},
   "source": [
    "* Determinação da probabilidade de falha $P_f$\n",
    "* Para variáveis $R$ e $S$ contínuas:"
   ]
  },
  {
   "cell_type": "markdown",
   "id": "f726cab6-1ea4-46e6-9f49-b9485b16274b",
   "metadata": {},
   "source": [
    "$$P_f= \\int_{-\\infty}^{+\\infty}F_R(s)f_s(s)ds$$"
   ]
  },
  {
   "cell_type": "markdown",
   "id": "5125f359-d641-4127-9a43-c7fb6df3f7fd",
   "metadata": {},
   "source": [
    "Onde: $P(R<s)=F_R(s)$ e $P(s \\leq S \\leq s+ds)=f_S(s)ds$."
   ]
  },
  {
   "cell_type": "markdown",
   "id": "312246b8-6bdd-41a3-9e88-99f6fbb32673",
   "metadata": {},
   "source": [
    "* A probabilidade de não-falha, ou seja, a probabilidade de segurança (confiabilidade) será dada por: $C = 1 - P_f$\n"
   ]
  },
  {
   "cell_type": "markdown",
   "id": "362e7cc7-ed19-4476-845a-dfb34d064644",
   "metadata": {},
   "source": [
    "* Assim, por exemplo, se $P_f=0,0001 = \\frac{1}{10.000} = 0,01\\%$, então: $C = 1 - 0,0001 = 0,9999 = 99,99\\%$"
   ]
  },
  {
   "cell_type": "markdown",
   "id": "0d7b24af-7d14-4135-b9b3-6894f9724cc3",
   "metadata": {},
   "source": [
    "### Probabilidade de falha"
   ]
  },
  {
   "cell_type": "markdown",
   "id": "057c1417-bf12-4c48-900f-f6f8b7549a41",
   "metadata": {},
   "source": [
    "<img src=\"./images1/probabilidade_de_falha.jpg\" alt=\"probabilidade_de_falha\" style=\"width:474px\"/>"
   ]
  },
  {
   "cell_type": "markdown",
   "id": "7353638e-8f27-46e7-986c-dec0c19995fa",
   "metadata": {},
   "source": [
    "A sobreposição entre as curvas $f_S(s)$ e $f_R(r)$ representa uma medida qualitativa da probabilidade de falha $P_f$."
   ]
  },
  {
   "cell_type": "markdown",
   "id": "a84f2327-34e9-462f-9d9f-1830cb41eb3d",
   "metadata": {},
   "source": [
    "Fatores que infuenciam a sobreposição entre as curvas de densidade de probabilidade de $R$ e de $S$:\n",
    "1. A __posição relativa__ entre as duas curvas. \n",
    "2. A __dispersão__ das duas curvas. \n",
    "3. A __forma__ das duas curvas."
   ]
  },
  {
   "cell_type": "markdown",
   "id": "86683a33-e47b-4090-899a-2d61b096cad7",
   "metadata": {},
   "source": [
    "### Posição relativa entre as curvas $f_S(s)$ e $f_R(r)$:"
   ]
  },
  {
   "cell_type": "markdown",
   "id": "85896d57-2ea0-4095-9fe0-1d639befe45a",
   "metadata": {},
   "source": [
    "Quanto maior for o afastamento entre as curvas $f_S(s)$ e $f_R(r)$ menor será a  $P_f$. Na figura abaixo, observa-se que a probabilidade de falha para a curva $R_2$ é menor do que para a curva $R_1$. \n"
   ]
  },
  {
   "cell_type": "markdown",
   "id": "6583b03e-b73c-4969-8c9d-c1efc083eba9",
   "metadata": {},
   "source": [
    "<img src=\"./images1/afastamento.jpg\" alt=\"afastamento entre as curvas\" style=\"width:474px\"/>"
   ]
  },
  {
   "cell_type": "markdown",
   "id": "4a9af08e-81c2-47ee-8be9-943f52177ef9",
   "metadata": {},
   "source": [
    "* A posição relativa entre  as curvas   $f_S(s)$ e $f_R(r)$ pode ser medida de duas formas:\n",
    "* Pelo coeficiente de segurança central:\n",
    "$$\\theta = \\frac{\\mu_R}{\\mu_S}$$\n",
    "\n",
    "* Pela margem de segurança:\n",
    "$$M = \\mu_R - \\mu_S$$\n"
   ]
  },
  {
   "cell_type": "markdown",
   "id": "d570a468-870d-4ffd-b5af-cf4aa3da387a",
   "metadata": {},
   "source": [
    "### Influência do desvio padrão (dispersão):"
   ]
  },
  {
   "cell_type": "markdown",
   "id": "7dfea9ea-0825-4e90-8365-dc1ae5690148",
   "metadata": {},
   "source": [
    "* Quanto maior for o desvio padrão, maior será a $P_f$."
   ]
  },
  {
   "cell_type": "markdown",
   "id": "d10d276b-2da5-44ec-bc37-0387a998e71a",
   "metadata": {},
   "source": [
    "<img src=\"./images1/dispersao.jpg\" alt=\"Influência da dispersão\" style=\"width:474px\"/>"
   ]
  },
  {
   "cell_type": "markdown",
   "id": "2b8dbc37-f52b-41df-a11d-de6ae7527a15",
   "metadata": {},
   "source": [
    "A sobreposição entre as curvas também depende do coeficiente de variação das variáveis $R$ e $S$:"
   ]
  },
  {
   "cell_type": "markdown",
   "id": "23b72f54-a0e1-4e1a-8d61-be16afc46ece",
   "metadata": {},
   "source": [
    "* Coeficiente de variação de $R$:"
   ]
  },
  {
   "cell_type": "markdown",
   "id": "0f76a29d-a966-4781-9404-66a44562f42a",
   "metadata": {},
   "source": [
    "$$\\delta_R = \\frac{\\sigma_R}{\\mu_R}$$"
   ]
  },
  {
   "cell_type": "markdown",
   "id": "e48b6d8c-9baa-421a-9382-b3c214423f94",
   "metadata": {},
   "source": [
    "* Coeficiente de variação de $S$:"
   ]
  },
  {
   "cell_type": "markdown",
   "id": "bd9c838a-923c-471d-94e0-47b962309cf1",
   "metadata": {},
   "source": [
    "$$\\delta_S = \\frac{\\sigma_S}{\\mu_S}$$"
   ]
  },
  {
   "cell_type": "markdown",
   "id": "044da3f2-1d5a-4ec9-a20f-d5445e760f2a",
   "metadata": {},
   "source": [
    "### Influência da forma da curva de densidade de probabilidade (tipo de distribuição de probabilidade)"
   ]
  },
  {
   "cell_type": "markdown",
   "id": "4c403c3e-3ccb-48d1-926e-1a41cfe91fb9",
   "metadata": {},
   "source": [
    "<img src=\"./images1/normal_lognormal.jpg\" alt=\"Normal x Lognormal\" style=\"width:1000px\"/>"
   ]
  },
  {
   "cell_type": "markdown",
   "id": "e744221d-3012-46a7-878b-7f318250aa70",
   "metadata": {},
   "source": [
    "O tipo de distribuição de probabilidade adotada para $R$ e para $S$, também afeta a sobreposição entre as duas curvas."
   ]
  },
  {
   "cell_type": "markdown",
   "id": "7af888c3-2f19-4127-be12-3e22e412bb9c",
   "metadata": {},
   "source": [
    "### Medida de Segurança (Confiabilidade):"
   ]
  },
  {
   "cell_type": "markdown",
   "id": "b9b8a085-f170-46bc-87c1-82ba687d6010",
   "metadata": {},
   "source": [
    "* Uma __medida da segurança__ ou da __confiabilidade__ de um sistema deve ser uma função da __posição relativa__ entre as funções $f_S(s)$ e $f_R(r)$ bem como de seus __graus de dispersão__."
   ]
  },
  {
   "cell_type": "markdown",
   "id": "fb8bc8be-d75b-4b0e-9675-b6afd646a625",
   "metadata": {},
   "source": [
    "$$P_f \\approx g \\left( \\frac{\\mu_R}{\\mu_S}, \\delta_R, \\delta_S \\right)$$"
   ]
  },
  {
   "cell_type": "markdown",
   "id": "ef3384e3-71e9-488f-b46b-4ee582ffe1e9",
   "metadata": {},
   "source": [
    "### Margem de segurança:"
   ]
  },
  {
   "cell_type": "markdown",
   "id": "23542390-d8ba-41aa-b3fa-5118511d34db",
   "metadata": {},
   "source": [
    "* O problema capacidade x demanda pode ser formulado em termos de margem de segurança: $M=R-S$."
   ]
  },
  {
   "cell_type": "markdown",
   "id": "f73e33b7-a118-48f8-a579-cd894fdf1f58",
   "metadata": {},
   "source": [
    "* Se $R$ e $S$ são variáveis aleatórias, $M$ também será uma variável aleatória, com função densidade de probabilidade $f_M(m)$: "
   ]
  },
  {
   "cell_type": "markdown",
   "id": "9697fcbe-035e-406c-a63e-3d4f951b7a82",
   "metadata": {},
   "source": [
    "<img src=\"./images1/pdf_m.jpg\" alt=\"pdf da margem M\" style=\"width:474px\"/>"
   ]
  },
  {
   "cell_type": "markdown",
   "id": "68abfc01-af8a-43f1-8687-abdb71cbd7dc",
   "metadata": {},
   "source": [
    "### Probabilidade de falha $P_f$:"
   ]
  },
  {
   "cell_type": "markdown",
   "id": "b33c3842-7d5f-4b5d-bac4-54bf45d15521",
   "metadata": {},
   "source": [
    "* A falha será a ocorrência do evento: $M<0$\n",
    "* A probabilidade de falha $P_f$, então, será:"
   ]
  },
  {
   "cell_type": "markdown",
   "id": "aabc7480-e448-4c7b-9b7e-6ce4513c15ca",
   "metadata": {},
   "source": [
    "$$P_f=\\int_{-\\infty}^0f_M(m)dm$$"
   ]
  },
  {
   "cell_type": "markdown",
   "id": "e0b9d1be-977c-4c7c-8b13-9401dc3cfc25",
   "metadata": {},
   "source": [
    "Ou seja:"
   ]
  },
  {
   "cell_type": "markdown",
   "id": "9349f801-d2e6-4d88-8b99-7c8bd6df9b05",
   "metadata": {},
   "source": [
    "$$P_f = F_M(0)$$"
   ]
  },
  {
   "cell_type": "markdown",
   "id": "bbd71449-354c-49bd-b0cf-77b5f4a8dfdc",
   "metadata": {},
   "source": [
    "Onde $F_M$ é a densidade de probabilidade acumulada da variável aleatória margem de segurança $M$."
   ]
  },
  {
   "cell_type": "markdown",
   "id": "0f6c647d-c23a-4e00-be13-f500319fe3b2",
   "metadata": {},
   "source": [
    "### Margem de segurança em uma estrutura offshore:"
   ]
  },
  {
   "cell_type": "markdown",
   "id": "d39cfc68-c314-478a-bd51-12188a55bd73",
   "metadata": {},
   "source": [
    "<img src=\"./images1/offshore_structure.jpg\" alt=\"offshore_structure\" style=\"width:474px\"/>"
   ]
  },
  {
   "cell_type": "markdown",
   "id": "002627db-0da7-48fd-84af-fdd590dd18f8",
   "metadata": {},
   "source": [
    "Fonte: https://www.copper.org/applications/marine/cuni/images/cuandni03.gif"
   ]
  },
  {
   "cell_type": "markdown",
   "id": "0c20f9c5-5c2b-4baa-8c1a-b45a26a54c6e",
   "metadata": {},
   "source": [
    "* A capacidade resistente $R$ possui distribuição normal: $N(\\mu_R,\\sigma_R)$  \n",
    "* A carga ou solicitação S possui distribuição normal: $N(\\mu_S,\\sigma_S)$\n",
    "* A margem de segurança, $M=R-S$, também terá distribuição normal: $N(\\mu_M,\\sigma_M)$"
   ]
  },
  {
   "cell_type": "markdown",
   "id": "458e1d27-7356-40b5-b075-ed644e9adb5f",
   "metadata": {},
   "source": [
    "A média da margem de segurança $M$ será:"
   ]
  },
  {
   "cell_type": "markdown",
   "id": "385ebde0-e6a2-4401-b678-bb99d344f5e7",
   "metadata": {},
   "source": [
    "$$\\mu_M=\\mu_R-\\mu_S$$"
   ]
  },
  {
   "cell_type": "markdown",
   "id": "db81069a-59dc-459c-b293-efb3066aa1d6",
   "metadata": {},
   "source": [
    "A variância da margem de segurança $M$, para $R$ e $S$ estatisticamente independentes será:"
   ]
  },
  {
   "cell_type": "markdown",
   "id": "0673f830-f719-415d-8037-1760657348fc",
   "metadata": {},
   "source": [
    "$$\\sigma_M^2=\\sigma_R^2+\\sigma_S^2$$"
   ]
  },
  {
   "cell_type": "markdown",
   "id": "47234100-2779-40c4-94a8-31d045afcd69",
   "metadata": {},
   "source": [
    "A variável padronizada:"
   ]
  },
  {
   "cell_type": "markdown",
   "id": "52edb21c-61c1-460b-872b-3bb2f3739566",
   "metadata": {},
   "source": [
    "$$z=\\frac{M-\\mu_M}{\\sigma_M}$$"
   ]
  },
  {
   "cell_type": "markdown",
   "id": "dfbd23ea-afae-49b9-870f-6cbfd8a28a7c",
   "metadata": {},
   "source": [
    "terá distribuição normal $N(0,1)$.   \n",
    "Então, pode-se determinar a probabilidade de falha $P_f$ através da equação:"
   ]
  },
  {
   "cell_type": "markdown",
   "id": "215f27f6-9d18-4066-8fa8-471237b3370c",
   "metadata": {},
   "source": [
    "$$P_f=F_M(0)=\\Phi\\left(\\frac{-\\mu_M}{\\sigma_M}\\right)=1-\\Phi\\left(\\frac{\\mu_M}{\\sigma_M}\\right)$$"
   ]
  },
  {
   "cell_type": "markdown",
   "id": "69c533b4-a115-4f1c-aadf-e6b7682c0904",
   "metadata": {},
   "source": [
    "Logo, a confiabilidade da estrutura será dada por:"
   ]
  },
  {
   "cell_type": "markdown",
   "id": "bf6a1087-3267-4630-a2c7-bbaa16af5194",
   "metadata": {},
   "source": [
    "$$C=1-P_f=1-F_M(0)=\\Phi\\left(\\frac{\\mu_M}{\\sigma_M}\\right)$$"
   ]
  },
  {
   "cell_type": "markdown",
   "id": "3f5ec818-1a78-4f56-9c19-0e552827f634",
   "metadata": {},
   "source": [
    "### Índice de confiabilidade $\\beta$"
   ]
  },
  {
   "cell_type": "markdown",
   "id": "a33010db-97ad-4632-926c-28da323f222a",
   "metadata": {},
   "source": [
    "É a margem de segurança expressa em unidades de desvio padrão, sendo denominada índice de confiabilidade  e simbolizada por $\\beta$."
   ]
  },
  {
   "cell_type": "markdown",
   "id": "64e15a0b-ec64-435c-a08b-311dd9cb11f0",
   "metadata": {},
   "source": [
    "$$\\beta=\\frac{\\mu_M}{\\sigma_M}=\\frac{\\mu_R-\\mu_S}{\\sqrt{\\sigma_R^2+\\sigma_S^2}}$$"
   ]
  },
  {
   "cell_type": "markdown",
   "id": "37e5a80a-f2fc-4edb-b339-6b45d033028b",
   "metadata": {},
   "source": [
    "<img src=\"./images1/beta.jpg\" alt=\"Definição de Beta\" style=\"width:474px\"/>"
   ]
  },
  {
   "cell_type": "markdown",
   "id": "82392da1-843b-4a74-ba43-e3caa510fe60",
   "metadata": {},
   "source": [
    "Pela figura abaixo se observa que quanto maior for o valor de $\\beta$, menor será a probabilidade de falha $P_f$. Portanto, o índice de confiabilidade $\\beta$ é uma medida de segurança da estrutura!"
   ]
  },
  {
   "cell_type": "markdown",
   "id": "5b77dad2-b3e9-4de9-b231-3589377bd261",
   "metadata": {},
   "source": [
    "<img src=\"./images1/beta_pf.jpg\" alt=\"Beta x Pf\" style=\"width:474px\"/>"
   ]
  },
  {
   "cell_type": "markdown",
   "id": "2c8e51c5-57a3-4d28-b903-9df33d6bb33d",
   "metadata": {},
   "source": [
    "### Interpretação geométrica do índice de confiabilidade $\\beta$"
   ]
  },
  {
   "cell_type": "markdown",
   "id": "08e258fe-ebd0-4c1a-a22f-96d38629a9a9",
   "metadata": {},
   "source": [
    "Tranformando-se as variáveis normais $R$ e $S$ em variáveis normais padronizadas $r'$ e $s'$\":"
   ]
  },
  {
   "cell_type": "markdown",
   "id": "ba3e6f1f-5e45-44e0-b4e9-c49571f835c4",
   "metadata": {},
   "source": [
    "$$r'=\\frac{R-\\mu_R}{\\sigma_R}$$"
   ]
  },
  {
   "cell_type": "markdown",
   "id": "cf1bde49-0bde-4bcd-91d9-91ebcce02052",
   "metadata": {},
   "source": [
    "e:"
   ]
  },
  {
   "cell_type": "markdown",
   "id": "b89e900b-9c0e-4303-8cdf-7cbae30e88d6",
   "metadata": {},
   "source": [
    "$$s'=\\frac{S-\\mu_S}{\\sigma_S}$$"
   ]
  },
  {
   "cell_type": "markdown",
   "id": "e7be276c-6c5f-4b24-8098-50ee2e5d7e42",
   "metadata": {},
   "source": [
    "Logo, a função margem de segurança $M$, ou função estado limite $g(R,S)$, no espaço das variáveis padronizadas será dada por:"
   ]
  },
  {
   "cell_type": "markdown",
   "id": "198d8e60-273a-4f33-a25c-a63ad7c72a70",
   "metadata": {},
   "source": [
    "$$M=g(R,S)=\\mu_R+r'\\sigma_R-\\mu_S-s'\\sigma_S=0$$"
   ]
  },
  {
   "cell_type": "markdown",
   "id": "98844fa8-f989-4380-b6c4-de4da71a414b",
   "metadata": {},
   "source": [
    "Esta é a equação de uma reta no plano $r'0s'$.\n",
    "Segundo a Geometria Analítica, a distância de um ponto $(x_0,y_0)$, no plano $x0y$, a uma reta $ax+by+c =0$ é dada por:"
   ]
  },
  {
   "cell_type": "markdown",
   "id": "2442519a-0989-4dcb-bca8-3ef32d5e2e40",
   "metadata": {},
   "source": [
    "$$d=\\frac{|ax_0+by_0+c|}{\\sqrt{a^2+b^2}}$$"
   ]
  },
  {
   "cell_type": "markdown",
   "id": "f6741bd9-dcb2-48d1-a36a-e8dd3e3e955e",
   "metadata": {},
   "source": [
    "Logo, a distância da origem do sistema de coordenadas padronizadas $(r',s')$ à reta $\\mu_R+r'\\sigma_R-\\mu_S-s'\\sigma_S=0$ será dada por:"
   ]
  },
  {
   "cell_type": "markdown",
   "id": "216eaba2-fea6-4b46-989a-ed270a2ff88d",
   "metadata": {},
   "source": [
    "$$d=\\frac{\\mu_R-\\mu_S}{\\sqrt{\\sigma_R^2+\\sigma_S^2}}=\\beta$$"
   ]
  },
  {
   "cell_type": "markdown",
   "id": "01616e19-e76e-4be9-9ebc-dd459fb4f339",
   "metadata": {},
   "source": [
    "Portanto, o índice de confiabilidade $\\beta$ corresponde à menor distância entre a origem do sistema de coordenadas padronizadas $(r',s')$ e a função estado limite $M=g(R,S)=\\mu_R+r'\\sigma_R-\\mu_S-s'\\sigma_S=0$. Conforme pode ser visualizado na figura abaixo."
   ]
  },
  {
   "cell_type": "markdown",
   "id": "90f9d211-a211-445a-b11a-2bf8fd4c674e",
   "metadata": {},
   "source": [
    "<img src=\"./images1/beta_geometric.jpg\" alt=\"Interpretação geométrica de Beta\" style=\"width:474px\"/>"
   ]
  },
  {
   "cell_type": "markdown",
   "id": "1938d806-d5f8-4ccc-9115-db5e68272822",
   "metadata": {},
   "source": [
    "### Generalização do problema da Confiabilidade"
   ]
  },
  {
   "cell_type": "markdown",
   "id": "f8e82e8e-2235-4dd7-a666-36ea1aa2645d",
   "metadata": {},
   "source": [
    "* A capacidade ou resistência $R$ pode ser uma função de várias variáveis aleatórias: $R=g_R(R_1,R_2,...,R_n)$\n",
    "* A demanda ou solicitação $S$ pode ser uma função de várias variáveis aleatórias: $S=g_S(S_1,S_2,...,S_n)$\n",
    "* Então a margem de segurança ou a função estado limite pode ser uma função genérica de várias variáveis aleatórias: $g(\\textbf{X})=g_X(X_1,X_2,...,X_n)$"
   ]
  },
  {
   "cell_type": "markdown",
   "id": "e0d61f77-2df0-4c7c-b01b-b9db5fb02d9e",
   "metadata": {},
   "source": [
    "* Logo, de forma generalizada, o índice de confiabilidade pode ser definido como sendo igual à menor distância da origem do sistema de coordenadas normais padronizadas independentes $\\textbf{X'}$ ao hiperplano tangente à superfície de falha $g_X(\\textbf{X})=0$, conforme mostrado na figura abaixo, para o caso bidimensional."
   ]
  },
  {
   "cell_type": "markdown",
   "id": "1ffb48ef-b475-44e6-82fd-4641a8291789",
   "metadata": {},
   "source": [
    "<img src=\"./images1/beta_plano_tangente.jpg\" alt=\"Beta - distância ao plano tangente\" style=\"width:474px\"/>"
   ]
  },
  {
   "cell_type": "markdown",
   "id": "02091e27-a4e5-476d-b39d-b9ff43804d89",
   "metadata": {},
   "source": [
    "### Métodos para calcular o índice de confiabilidade $\\beta$"
   ]
  },
  {
   "cell_type": "markdown",
   "id": "4be39e05-c2fb-4a2b-9c16-124ea2f6f01d",
   "metadata": {},
   "source": [
    "* Método de Simulações de Monte Carlo (MCS = Monte Carlo Simulation)\n",
    "* Método de Primeira Ordem e Segundo Momento (FOSM = First Order Second Moment)\n",
    "* Método de Confiabilidade de Primeira Ordem (FORM = First Order Reliability Method)"
   ]
  },
  {
   "cell_type": "markdown",
   "id": "52c84aa1-e0da-43bf-af25-a5e54a2ae2f8",
   "metadata": {},
   "source": [
    "### Método de Simulações de Monte Carlo"
   ]
  },
  {
   "cell_type": "markdown",
   "id": "7b1e2202-8f16-4f12-8ece-bf5812ebd8fc",
   "metadata": {},
   "source": [
    "* Método de maior aplicação e mais genérico.\n",
    "* Exige um grande tempo de processamento para probabilidades de falha muito pequenas e sistemas grandes.\n",
    "* Permite trabalhar com funções estado limite $g_X(\\textbf{X})=0$ bastante complexas.\n",
    "* Os parâmetros de entrada do sistema são gerados aleatóriamente e diversas análises do modelo são realizadas.\n",
    "* Uma análise estatística das diversas respostas do sistema permite avaliar sua probabilidade de falha."
   ]
  },
  {
   "cell_type": "markdown",
   "id": "ca888a8d-4e16-4dfc-af4e-4c777f8eab9f",
   "metadata": {},
   "source": [
    "A figura abaixo ilustra o funcionamento do Método de Simulação de Monte Carlo."
   ]
  },
  {
   "cell_type": "markdown",
   "id": "3dd4e02f-208f-4918-964e-55573d6093be",
   "metadata": {},
   "source": [
    "<img src=\"./images1/monte_carlo.jpg\" alt=\"Método de Simulações de Monte Carlo\" style=\"width:474px\"/>"
   ]
  },
  {
   "cell_type": "markdown",
   "id": "6a376d0a-c392-42e3-a394-c0d6522a292e",
   "metadata": {},
   "source": [
    "Fonte: https://www.incose.org/docs/default-source/default-document-library/system-model-simulation---monte-carlo-probabilities-and-more.pdf?sfvrsn=8a1f9fc6_0"
   ]
  },
  {
   "cell_type": "markdown",
   "id": "e96cfaae-9f12-4646-8ef4-1afc211691b7",
   "metadata": {},
   "source": [
    "### Método de Primeira Ordem e Segundo Momento (FOSM)"
   ]
  },
  {
   "cell_type": "markdown",
   "id": "d788d3dc-b8cc-4551-afef-fef2e098964f",
   "metadata": {},
   "source": [
    "* Os dois primeiros momentos das variáveis aleatórias $X_i$, a média $\\mu_{Xi}$ e o desvio padrão $\\sigma_{Xi}$, devem ser conhecidos.\n",
    "* Admite-se que todas as variáveis aleatórias $X_i$ tenham __distribuição normal__ de probabilidade.\n",
    "* Trata-se de resolver um problema de otimização: encontrar o valor mínimo de $\\beta$, com a restrição de que $g_X(\\textbf{X})=0$."
   ]
  },
  {
   "cell_type": "markdown",
   "id": "36a29e7d-2290-4874-a77a-ef8039252d67",
   "metadata": {},
   "source": [
    "<img src=\"./images1/beta_plano_tangente.jpg\" alt=\"Beta - distância ao plano tangente\" style=\"width:474px\"/>"
   ]
  },
  {
   "cell_type": "markdown",
   "id": "cd21961b-489c-42b7-a327-ea492dfd2cfc",
   "metadata": {},
   "source": [
    "### Método de Confiabilidade de Primeira Ordem (FORM)"
   ]
  },
  {
   "cell_type": "markdown",
   "id": "c6c5b768-c44c-464a-bda6-74e07acbe4f5",
   "metadata": {},
   "source": [
    "* As variáveis $X_i$ podem ter uma distribuição de probabilidade qualquer, desde que matematicamente definida.\n",
    "* As variáveis $X_i$ devem ser transformadas em variáveis de __distribuição normal equivalente__.\n",
    "* É matematicamente mais complexo, porém de melhor precisão que o FOSM.\n",
    "* Solução: minimizar $\\beta$, com a restrição de que $g_X(\\textbf{X})=0$."
   ]
  },
  {
   "cell_type": "markdown",
   "id": "7b905a58-40ea-4f88-9eef-063b0035c9e7",
   "metadata": {},
   "source": [
    "<img src=\"./images1/form.jpg\" alt=\"FORM\" style=\"width:750px\"/>"
   ]
  },
  {
   "cell_type": "markdown",
   "id": "8a4e25b5-4f87-4dad-9593-0a803d3bdef4",
   "metadata": {},
   "source": [
    "Fonte: Titello, E.P. Análise da confiabilidade de vigas de concreto armado reforçado com fibras de aço com relação aos esoforços transversais, 2020. Dissertação (Mestrado em Engenharia Civil). UFRGS."
   ]
  },
  {
   "cell_type": "markdown",
   "id": "cc3f0f9c-9bc8-4feb-b4d4-cdc203873699",
   "metadata": {},
   "source": [
    "[Voltar ao início da aula](#section_1)"
   ]
  },
  {
   "cell_type": "markdown",
   "id": "a69253c8-cc5b-4506-a603-3093bfd155fb",
   "metadata": {},
   "source": [
    "## __1.4 Projeto Baseado em Confiabilidade__ <a name=\"section_14\"></a>"
   ]
  },
  {
   "cell_type": "markdown",
   "id": "8bf93b11-e56e-452f-8d33-eac6a808dde3",
   "metadata": {},
   "source": [
    "* É necessário estabelecer um índice de confiabilidade alvo a ser atingido $\\beta_{alvo}$, ou seja, uma probabilidade de falha $P_f$ deve ser admitida.\n",
    "* As distribuições de probabilidade das variáveis de projeto ($X_i$) devem ser matematicamente definidas.\n",
    "* O ponto de projeto $\\textbf{x}_d$ deve ser determinado iterativamente a partir de um índice de confiabilidade alvo  $\\beta_{alvo}$ pré-fixado.\n",
    "* Deve ser garantida a condição estado limite: $g_X(\\textbf{x}_d)=0$."
   ]
  },
  {
   "cell_type": "markdown",
   "id": "0db7e258-48fd-43fe-8a28-5d7b0caac980",
   "metadata": {},
   "source": [
    "<img src=\"./images1/design_point.jpg\" alt=\"Ponto de projeto\" style=\"width:474px\"/>"
   ]
  },
  {
   "cell_type": "markdown",
   "id": "752b3e7c-e12c-4e2f-801c-df152c0a039f",
   "metadata": {},
   "source": [
    "### Valores de projeto"
   ]
  },
  {
   "cell_type": "markdown",
   "id": "c55ad506-115f-43f6-89d0-133d914ddfcb",
   "metadata": {},
   "source": [
    "* Valor de projeto da variável $x_{di}$:"
   ]
  },
  {
   "cell_type": "markdown",
   "id": "f06f4359-21a3-4dd2-a3e9-2eb798446067",
   "metadata": {},
   "source": [
    "$$x_{di}=\\mu_{Xi}-\\alpha_{Xi}\\beta_{alvo}\\sigma_{Xi}$$"
   ]
  },
  {
   "cell_type": "markdown",
   "id": "fd038aac-769a-4609-a9fc-f4b832a2a5a6",
   "metadata": {},
   "source": [
    "Na equação anterior, $\\alpha_{Xi}$ é o cosseno diretor da variável $X_i$."
   ]
  },
  {
   "cell_type": "markdown",
   "id": "b7aa42de-e489-4b99-9947-e6f62e83104e",
   "metadata": {},
   "source": [
    "* Valor característico da variável $x_{ki}$:"
   ]
  },
  {
   "cell_type": "markdown",
   "id": "981cb702-8e32-4cb9-8284-a344ad100f37",
   "metadata": {},
   "source": [
    "$$x_{ki}=\\mu_{Xi}\\pm k_{Xi}\\sigma_{Xi}$$"
   ]
  },
  {
   "cell_type": "markdown",
   "id": "1ca21752-771f-4550-a69f-4fa87b4816c1",
   "metadata": {},
   "source": [
    "Na equação anterior, $k_{Xi}$ é o fator associado ao quantil associado ao valor característico da variável. Por exemplo, no caso de uma distribuição normal de probabilidade, para um quantil inferior de 5%, tem-se um valor de $k_{Xi}=1,645$."
   ]
  },
  {
   "cell_type": "markdown",
   "id": "404bc977-da9d-4abe-a587-bf88b51a6530",
   "metadata": {},
   "source": [
    "### Condição de segurança"
   ]
  },
  {
   "cell_type": "markdown",
   "id": "e11bd947-2c7e-4ef5-aa50-97d5d59ad3d7",
   "metadata": {},
   "source": [
    "* A equação de projeto (dimensionamento) será dada por:"
   ]
  },
  {
   "cell_type": "markdown",
   "id": "b70139c7-db62-4008-a8a9-efa1cd78025c",
   "metadata": {},
   "source": [
    "$$R_d \\geq S_d$$"
   ]
  },
  {
   "cell_type": "markdown",
   "id": "6a49be3a-d4d7-452e-862c-8c094538cc11",
   "metadata": {},
   "source": [
    "Ou seja, a resistência de cálculo (minorada), deve maior ou igual que a solicitação de cálculo (majorada), ou ainda:"
   ]
  },
  {
   "cell_type": "markdown",
   "id": "92a75538-2c33-43ec-915f-7acefda024af",
   "metadata": {},
   "source": [
    "$$\\phi R_k \\geq \\sum_{i=1}^{n} \\gamma_{fi}S_{ki}$$"
   ]
  },
  {
   "cell_type": "markdown",
   "id": "a2943ae1-fb20-422c-a50a-cef44ef48661",
   "metadata": {},
   "source": [
    "Onde $\\phi$ é o fator de redução da resistência nominal ou característica $R_k$ e os $\\gamma_{fi}$ são os fatores de majoração das solicitações características $S_{ki}$."
   ]
  },
  {
   "cell_type": "markdown",
   "id": "27d198c1-88e9-4015-b8d3-11039c9e6f3b",
   "metadata": {},
   "source": [
    "### Fatores de minoração da resistência"
   ]
  },
  {
   "cell_type": "markdown",
   "id": "ccf4c34f-fbcd-481e-aa72-1ff5aed0becf",
   "metadata": {},
   "source": [
    "* Os fatores de minoração da resistência $\\phi_i$ são dados por:"
   ]
  },
  {
   "cell_type": "markdown",
   "id": "0af8522e-7dee-47c2-8ee8-78713b532a45",
   "metadata": {},
   "source": [
    "$$\\phi_i=\\frac{1}{\\gamma_{mi}}=\\frac{x_{di}}{x_{ki}}=\\frac{1-\\alpha_{Xi}\\beta_{alvo}\\delta_{Xi}}{1-k_{Xi}\\delta_{Xi}}$$"
   ]
  },
  {
   "cell_type": "markdown",
   "id": "466e8331-5471-40c6-bb6b-46e30222d8f2",
   "metadata": {},
   "source": [
    "Na equação anterior, $\\delta_{Xi}$ é o coeficiente de variação da variável $X_i$."
   ]
  },
  {
   "cell_type": "markdown",
   "id": "ae4a0f4b-3af0-4b92-b719-1168b5b996cf",
   "metadata": {},
   "source": [
    "<img src=\"./images1/resistencia.jpg\" alt=\"valor de cálculo da resistência\" style=\"width:474px\"/>"
   ]
  },
  {
   "cell_type": "markdown",
   "id": "dc2bd50b-f7cd-48ad-8ee7-b46bb849cd1f",
   "metadata": {},
   "source": [
    "### Fatores de majoração das cargas"
   ]
  },
  {
   "cell_type": "markdown",
   "id": "c0cc53b5-c060-455c-949e-464a5e5c07c6",
   "metadata": {},
   "source": [
    "* Os fatores de majoração das cargas $\\gamma_{fi}$ são dados por:"
   ]
  },
  {
   "cell_type": "markdown",
   "id": "0241c604-1b9a-44c4-bee4-460723e45af1",
   "metadata": {},
   "source": [
    "$$\\gamma_{fi}=\\frac{x_{di}}{x_{ki}}=\\frac{1-\\alpha_{Xi}\\beta_{alvo}\\delta_{Xi}}{1+k_{Xi}\\delta_{Xi}}$$"
   ]
  },
  {
   "cell_type": "markdown",
   "id": "fe6db06f-8ff8-44eb-8eab-792901850923",
   "metadata": {},
   "source": [
    "<img src=\"./images1/solicitacao.jpg\" alt=\"valores de cálculo da solicitação\" style=\"width:474px\"/>"
   ]
  },
  {
   "cell_type": "markdown",
   "id": "2d58fd03-04d0-4923-8c46-7bbfbccc8537",
   "metadata": {},
   "source": [
    "[Voltar ao início da aula](#section_1)"
   ]
  },
  {
   "cell_type": "markdown",
   "id": "54743e36-e54d-42d3-a12f-bb34d17d27b1",
   "metadata": {},
   "source": [
    "## __1.5 Exemplo de aplicação: projeto de uma barra de aço tracionada__ <a name=\"section_15\"></a>"
   ]
  },
  {
   "cell_type": "markdown",
   "id": "1d9b7d38-dbab-4673-bf6a-ea16d1bb8276",
   "metadata": {},
   "source": [
    "### 1.5.1 Determinação da confiabilidade de um projeto de Engenharia"
   ]
  },
  {
   "cell_type": "markdown",
   "id": "781ac0ca-2540-4194-bf55-d007a411fd72",
   "metadata": {},
   "source": [
    "<img src=\"./images1/tensioned_bar.jpg\" alt=\"Barra tracionada\" style=\"width:474px\"/>"
   ]
  },
  {
   "cell_type": "markdown",
   "id": "c2d3a780-24e8-41a6-bf14-31fe4b350aef",
   "metadata": {},
   "source": [
    "Fonte: Adaptada de Beer, F.P. et al. Mechanics of Materials, 5 ed. New York, McGraw-Hill, 2009. "
   ]
  },
  {
   "cell_type": "markdown",
   "id": "42ec41ee-e67c-449c-b863-73726a6e9b49",
   "metadata": {},
   "source": [
    "Seja o problema do dimensionamento de uma barra de aço submetida à tração uniaxial. A barra é composta de aço A-36 com $f_{yk} = 250 MPa$ e possui seção circular. O carregamento é composto pela soma de uma parcela de esforço normal permanente $G_k=60kN$ e uma parcela de esforço normal variável $Q_k=70kN$. A equação de equilíbrio para o dimensionamento no estado limite último é dada por:"
   ]
  },
  {
   "cell_type": "markdown",
   "id": "6002f98c-f12a-4a42-9666-df9af03a5095",
   "metadata": {},
   "source": [
    "$$R_d=G_d+Q_d$$"
   ]
  },
  {
   "cell_type": "markdown",
   "id": "d75591f9-c8fb-413a-8643-294521c391c3",
   "metadata": {},
   "source": [
    "Ou, expandindo as parcelas:"
   ]
  },
  {
   "cell_type": "markdown",
   "id": "25a90194-c41f-4b96-bb95-a3f9956c6eee",
   "metadata": {},
   "source": [
    "$$\\phi A_s f_{yk}=\\gamma_g G_k + \\gamma_q Q_k$$"
   ]
  },
  {
   "cell_type": "markdown",
   "id": "f3e82bbc-4729-4fca-948b-230006e48c8b",
   "metadata": {},
   "source": [
    "onde $A_s$ é a área da seção transversal da barra. O coeficiente de redução da capacidade resistente $\\phi$ é igual a $0,90$. Os fatores de majoração da carga permanente e da carga variável são, respectivamente, $\\gamma_g = 1,25$ e $\\gamma_q = 1,50$."
   ]
  },
  {
   "cell_type": "markdown",
   "id": "5d44d289-4fb4-4761-bcfd-a1b413b6c16f",
   "metadata": {},
   "source": [
    "Nestas condições a área de aço necessária para o equilíbrio do carregamento externo será dada por:"
   ]
  },
  {
   "cell_type": "markdown",
   "id": "52ca4d47-09fe-4ffd-b9e2-7186dd0cc522",
   "metadata": {},
   "source": [
    "$$A_s = \\frac{\\gamma_g G_k + \\gamma_q Q_k}{\\phi f_{yk}}$$"
   ]
  },
  {
   "cell_type": "code",
   "execution_count": 2,
   "id": "24a2810f-fe9c-42d0-b417-329d4070cde5",
   "metadata": {},
   "outputs": [
    {
     "name": "stdout",
     "output_type": "stream",
     "text": [
      "As = 8.00 cm2\n"
     ]
    }
   ],
   "source": [
    "# Dados de entrada\n",
    "fyk = 25 #kN/cm2\n",
    "Gk = 60 #kN\n",
    "Qk = 70 #kN\n",
    "phi = 0.90\n",
    "gamma_g = 1.25\n",
    "gamma_q = 1.50\n",
    "# Cálculo da área da seção transversal\n",
    "As = (gamma_g * Gk + gamma_q * Qk) / (phi * fyk)\n",
    "print(\"As = {0:0.2f} cm2\".format(As))"
   ]
  },
  {
   "cell_type": "markdown",
   "id": "32a7f650-4ac9-4f96-8734-499c5c6794c3",
   "metadata": {},
   "source": [
    "O diâmetro necessário para a barra será:"
   ]
  },
  {
   "cell_type": "markdown",
   "id": "bfb96205-8275-46da-ac16-427d05ecd2ad",
   "metadata": {},
   "source": [
    "$$ d = \\sqrt{\\frac{4 A_s}{\\pi}} $$"
   ]
  },
  {
   "cell_type": "code",
   "execution_count": 3,
   "id": "84ec0579-3096-412e-b668-a6166d362ec4",
   "metadata": {},
   "outputs": [
    {
     "name": "stdout",
     "output_type": "stream",
     "text": [
      "d = 31.92 mm\n"
     ]
    }
   ],
   "source": [
    "# Cálculo do diâmetro da barra\n",
    "d = np.sqrt(4 * As / np.pi) #cm\n",
    "d = d*10 # mm\n",
    "print(\"d = {0:0.2f} mm\".format(d))"
   ]
  },
  {
   "cell_type": "markdown",
   "id": "4b6bf7ad-c17d-423e-8627-11657795fe70",
   "metadata": {},
   "source": [
    "Logo será adotado um barra com o diâmetro comercial de 32 mm, que corresponde a uma área de aço de $A_s = 8,04 cm^2$."
   ]
  },
  {
   "cell_type": "markdown",
   "id": "d92358b1-39d8-45eb-bc9f-f02a757c3f94",
   "metadata": {},
   "source": [
    "Dados:\n",
    "* A tensão de escoamento do aço possui um valor médio $f_{ym} = 275 MPa$, com um coeficiente de variação $\\delta_{fy} = 0,10$;\n",
    "* A carga permanente possui um valor médio de $G_m = 60 kN$, com um coeficiente de variação $\\delta_g = 0,10$;\n",
    "* A carga variável possui um valor médio de $Q_m =70 kN$, com um coeficiente de variação $\\delta_q = 0,30$;\n",
    "* Todas estas variáveis possuam distribuição normal de probabilidade. \n",
    "Calcular o índice de confiabilidade $\\beta$ e a correspondente probabilidade de falha $P_f$ atingida neste projeto."
   ]
  },
  {
   "cell_type": "code",
   "execution_count": 4,
   "id": "1090718f-9de1-4d89-92b2-8797df8adba5",
   "metadata": {},
   "outputs": [
    {
     "name": "stdout",
     "output_type": "stream",
     "text": [
      "\n",
      "Gm = 60.0 kN\n",
      "sigmaG = 6.0 kN\n",
      "bias_factor_G = 1.0\n",
      "\n",
      "Qm = 70.0 kN\n",
      "sigmaQ = 21.0 kN\n",
      "bias_factor_Q = 1.0\n",
      "\n",
      "Rm = 221.2 kN\n",
      "sigmaR = 22.12 kN\n",
      "bias_factor_R = 0.9091\n"
     ]
    }
   ],
   "source": [
    "# Dados de entrada:\n",
    "fym = 27.50 # kN/cm2\n",
    "delta_fy = 0.10\n",
    "sigma_fy = delta_fy * fym\n",
    "#\n",
    "Gm = 60.00 # kN\n",
    "delta_g = 0.10 \n",
    "sigma_g = delta_g * Gm\n",
    "bias_g = Gk / Gm\n",
    "#\n",
    "Qm = 70.00 # kN\n",
    "delta_q = 0.30 \n",
    "sigma_q = delta_q * Qm\n",
    "bias_q = Qk / Qm\n",
    "# Cálculo da resistência média e do desvio padrão de R\n",
    "d = 3.2 # cm\n",
    "As = np.pi*(d)**2/4\n",
    "Rk = As * fyk\n",
    "Rm = As * fym\n",
    "delta_r = delta_fy\n",
    "sigma_r = delta_r * Rm\n",
    "bias_r = Rk / Rm \n",
    "print(\"\\nGm = {0:0.4} kN\".format(Gm))\n",
    "print(\"sigmaG = {0:0.4} kN\".format(sigma_g))\n",
    "print(\"bias_factor_G = {0:0.4}\".format(bias_g))\n",
    "print(\"\\nQm = {0:0.4} kN\".format(Qm))\n",
    "print(\"sigmaQ = {0:0.4} kN\".format(sigma_q))\n",
    "print(\"bias_factor_Q = {0:0.4}\".format(bias_q))\n",
    "print(\"\\nRm = {0:0.4} kN\".format(Rm))\n",
    "print(\"sigmaR = {0:0.4} kN\".format(sigma_r))\n",
    "print(\"bias_factor_R = {0:0.4}\".format(bias_r))"
   ]
  },
  {
   "cell_type": "markdown",
   "id": "884e481e-e4ea-422b-8087-5797175e1dce",
   "metadata": {},
   "source": [
    "O índice de confiabilidade será dado por:"
   ]
  },
  {
   "cell_type": "markdown",
   "id": "454e6c0a-a99e-48e9-bc98-02c02918528d",
   "metadata": {},
   "source": [
    "$$\\beta = \\frac{Rm - Gm - Qm}{\\sqrt{\\sigma_R^2 + \\sigma_G^2 + \\sigma_Q^2}}$$"
   ]
  },
  {
   "cell_type": "code",
   "execution_count": 5,
   "id": "5cbabb7f-1d63-4482-9ecd-16282b6703da",
   "metadata": {},
   "outputs": [
    {
     "name": "stdout",
     "output_type": "stream",
     "text": [
      "Beta = 2.93\n"
     ]
    }
   ],
   "source": [
    "# Cálculo do índice de confiabilidade Beta\n",
    "beta = (Rm - Gm - Qm) / np.sqrt(sigma_r**2 + sigma_g**2 + sigma_q**2)\n",
    "print(\"Beta = {0:0.3}\".format(beta))"
   ]
  },
  {
   "cell_type": "markdown",
   "id": "70dc1036-e8a9-4319-9f2f-4b03db9dd829",
   "metadata": {},
   "source": [
    "A probabilidade de falha será dada por: $P_f = \\Phi(-\\beta)$"
   ]
  },
  {
   "cell_type": "code",
   "execution_count": 6,
   "id": "82b7c2a3-7193-4e8f-b819-7ea7ef3c45d5",
   "metadata": {},
   "outputs": [
    {
     "name": "stdout",
     "output_type": "stream",
     "text": [
      "Pf = 1.6782e-03\n"
     ]
    }
   ],
   "source": [
    "# Calculo da probabilidade de falha Pf\n",
    "Pf = norm.cdf(-beta)\n",
    "print(\"Pf = {0:0.4e}\".format(Pf))"
   ]
  },
  {
   "cell_type": "markdown",
   "id": "600785fd-cea7-4ffa-8ff6-4bb778034197",
   "metadata": {},
   "source": [
    "### 1.5.2 Determinação dos fatores de segurança para garantir uma confiabilidade mínima ($\\beta_{alvo}$)"
   ]
  },
  {
   "cell_type": "markdown",
   "id": "2de3d2e5-384b-47cc-bb80-7e08c120f05d",
   "metadata": {},
   "source": [
    "No problema anterior, qual devem ser os fatores de segurança $\\phi$, $\\gamma_g$ e $\\gamma_q$, para que se garanta um índice de confiabilidade mínimo $\\beta_{alvo}=3,80$?"
   ]
  },
  {
   "cell_type": "markdown",
   "id": "bfc8f5a8-0ba6-4f2f-b28e-aef8889403dc",
   "metadata": {},
   "source": [
    "Para um carregamento externo fixo, em primeiro lugar deve-se determinar o valor de $R_m$, que corresponde a este valor de $\\beta_{alvo}$, resolvendo a equação não-linear:"
   ]
  },
  {
   "cell_type": "markdown",
   "id": "47090b82-a4d3-40c7-9f42-d6684d8f8956",
   "metadata": {},
   "source": [
    "$$R_m - G_m - Q_m - \\beta_{alvo} \\sqrt{(\\delta_{r} R_m)^2 + (\\delta_g G_m)^2 + (\\delta_Q Q_m)^2} = 0$$"
   ]
  },
  {
   "cell_type": "code",
   "execution_count": 7,
   "id": "7b79882a-0d02-4aaf-96e2-8680e4343aca",
   "metadata": {},
   "outputs": [
    {
     "name": "stdout",
     "output_type": "stream",
     "text": [
      "Rm = 258.6 kN\n",
      "sigmaR = 25.86 kN\n"
     ]
    }
   ],
   "source": [
    "# Definição da função f(Rm)=0\n",
    "def fR(Rm, Gm, Qm, beta_alvo, delta_fy, delta_g, delta_q):\n",
    "    f = Rm - Gm - Qm - beta_alvo * np.sqrt((delta_fy * Rm)**2 + (delta_g * Gm)**2 + (delta_q * Qm)**2)\n",
    "    return f\n",
    "# Cálculo de Rm\n",
    "beta_alvo = 3.80\n",
    "R0 = Rm\n",
    "Rm = optimize.newton(fR, R0, args=(Gm, Qm, beta_alvo, delta_fy, delta_g, delta_q))\n",
    "sigma_r = delta_r * Rm\n",
    "print(\"Rm = {0:0.4} kN\".format(Rm))\n",
    "print(\"sigmaR = {0:0.4} kN\".format(sigma_r))"
   ]
  },
  {
   "cell_type": "markdown",
   "id": "e4466585-9017-4dbc-8369-26da87a20a5e",
   "metadata": {},
   "source": [
    "A função estado limite é dada por: $$R - G - Q = 0$$"
   ]
  },
  {
   "cell_type": "markdown",
   "id": "a8a7ccb7-b957-46fd-8adc-d5863183628d",
   "metadata": {},
   "source": [
    "Os cossenos diretores $\\alpha_{Xi}$ serão dados por:"
   ]
  },
  {
   "cell_type": "markdown",
   "id": "a6dae81f-ed16-4a42-adc7-58bfc91d1902",
   "metadata": {},
   "source": [
    "$$\\alpha_r = \\frac{\\sigma_R}{\\sqrt{\\sigma_R^2 + \\sigma_G^2 + \\sigma_Q^2}}$$"
   ]
  },
  {
   "cell_type": "markdown",
   "id": "d8ac004c-8dda-4cb3-b58b-6d1b6cb98aa2",
   "metadata": {},
   "source": [
    "$$\\alpha_g = \\frac{-\\sigma_G}{\\sqrt{\\sigma_R^2 + \\sigma_G^2 + \\sigma_Q^2}}$$"
   ]
  },
  {
   "cell_type": "markdown",
   "id": "46bf5091-2655-42b4-b20f-8a481023da1c",
   "metadata": {},
   "source": [
    "$$\\alpha_q = \\frac{-\\sigma_Q}{\\sqrt{\\sigma_R^2 + \\sigma_G^2 + \\sigma_Q^2}}$$"
   ]
  },
  {
   "cell_type": "code",
   "execution_count": 8,
   "id": "845d0671-d9f7-4c75-b912-004082d095d9",
   "metadata": {},
   "outputs": [
    {
     "name": "stdout",
     "output_type": "stream",
     "text": [
      "alpha_R = 0.764\n",
      "alpha_G = -0.1772\n",
      "alpha_Q = -0.6204\n"
     ]
    }
   ],
   "source": [
    "# Cálculo dos cossenos diretores\n",
    "D = np.sqrt(sigma_r**2 + sigma_g**2 + sigma_q**2)\n",
    "alpha_r = sigma_r/D\n",
    "alpha_g = -sigma_g/D\n",
    "alpha_q = -sigma_q/D\n",
    "print(\"alpha_R = {0:0.4}\".format(alpha_r))\n",
    "print(\"alpha_G = {0:0.4}\".format(alpha_g))\n",
    "print(\"alpha_Q = {0:0.4}\".format(alpha_q))"
   ]
  },
  {
   "cell_type": "markdown",
   "id": "f87ac053-50fc-4e55-a86f-d6b1979f804b",
   "metadata": {},
   "source": [
    "O fator de redução da capacidade resistente $\\phi$ será dado por: $$\\phi = \\frac{(1-\\alpha_R \\beta_{alvo} \\delta_R)}{(1-k_R \\delta_R)}$$"
   ]
  },
  {
   "cell_type": "markdown",
   "id": "b786b955-e68b-45d0-9e7e-274992891559",
   "metadata": {},
   "source": [
    "O coeficiente $k_R$ corresponde ao fator de bias $\\frac{R_k}{R_m}$ mantido fixo é obtido a partir da equação:"
   ]
  },
  {
   "cell_type": "markdown",
   "id": "9e274ec2-ddf4-4687-8cd2-233974f87296",
   "metadata": {},
   "source": [
    "$$\\frac{R_k}{R_m}=(1-k_R \\delta_R)$$"
   ]
  },
  {
   "cell_type": "code",
   "execution_count": 9,
   "id": "0ccc6bee-c340-47f6-a613-1bfda2eb4d5c",
   "metadata": {},
   "outputs": [
    {
     "name": "stdout",
     "output_type": "stream",
     "text": [
      "k_R = 0.9091\n"
     ]
    }
   ],
   "source": [
    "k_r = (1 - bias_r) / delta_r\n",
    "print(\"k_R = {0:0.4}\".format(k_r))"
   ]
  },
  {
   "cell_type": "code",
   "execution_count": 10,
   "id": "d80d51de-9a16-42e5-a518-f93f679052af",
   "metadata": {},
   "outputs": [
    {
     "name": "stdout",
     "output_type": "stream",
     "text": [
      "phi = 0.78\n"
     ]
    }
   ],
   "source": [
    "# Cálculo do fator de redução da capacidade resistente phi\n",
    "phi = (1 - alpha_r * beta_alvo * delta_r) / (1 - k_r * delta_r)\n",
    "print(\"phi = {0:0.2}\".format(phi))"
   ]
  },
  {
   "cell_type": "markdown",
   "id": "53768a94-842e-41a3-89be-eef0b9376637",
   "metadata": {},
   "source": [
    "O fator de majoração da carga permanente $G$, será dado por:"
   ]
  },
  {
   "cell_type": "markdown",
   "id": "feb726f7-f801-45d5-a9f0-13442cd5a1c0",
   "metadata": {},
   "source": [
    "$$\\gamma_g=\\frac{1-\\alpha_G \\beta_{alvo} \\delta_G}{1+k_G \\delta_G}$$"
   ]
  },
  {
   "cell_type": "markdown",
   "id": "53b20493-768f-49d8-9c94-5a1dd58b0fd7",
   "metadata": {},
   "source": [
    "O coeficiente $k_G$ corresponde ao fator de bias $\\frac{G_k}{G_m}$ mantido fixo é obtido a partir da equação:"
   ]
  },
  {
   "cell_type": "markdown",
   "id": "291cdd5d-1507-4662-9971-223f41bbca9a",
   "metadata": {},
   "source": [
    "$$\\frac{G_k}{G_m}=(1+k_G \\delta_G)$$"
   ]
  },
  {
   "cell_type": "code",
   "execution_count": 11,
   "id": "3cf38ad8-6bc0-4196-870a-7a6b1140fb5b",
   "metadata": {},
   "outputs": [
    {
     "name": "stdout",
     "output_type": "stream",
     "text": [
      "k_G = 0.0\n"
     ]
    }
   ],
   "source": [
    "k_g = (bias_g - 1) / delta_g\n",
    "print(\"k_G = {0:0.4}\".format(k_g))"
   ]
  },
  {
   "cell_type": "markdown",
   "id": "8797e7ac-766f-4f32-a3f9-dbd133c21eb6",
   "metadata": {},
   "source": [
    "O coeficiente $k_G$ resulta igual a zero, por que o valor característico da carga permanente $G_k$ foi tomado como igual ao seu valor médio $G_m$"
   ]
  },
  {
   "cell_type": "code",
   "execution_count": 12,
   "id": "31b781ae-5fd6-46da-9e90-c262fc302942",
   "metadata": {},
   "outputs": [
    {
     "name": "stdout",
     "output_type": "stream",
     "text": [
      "gamma_g = 1.07\n"
     ]
    }
   ],
   "source": [
    "# Cálculo do fator de majoração da carga permanente gamma_g\n",
    "gamma_g = (1 - alpha_g * beta_alvo * delta_g) / (1 + k_g * delta_g)\n",
    "print(\"gamma_g = {0:0.3}\".format(gamma_g))"
   ]
  },
  {
   "cell_type": "markdown",
   "id": "68639765-2a48-4c1f-a770-66ba64ccb473",
   "metadata": {},
   "source": [
    "O fator de majoração da carga variável $Q$, será dado por:"
   ]
  },
  {
   "cell_type": "markdown",
   "id": "2a6f43ab-b219-414d-9170-97b386b425b6",
   "metadata": {},
   "source": [
    "$$\\gamma_q=\\frac{1-\\alpha_q \\beta_{alvo} \\delta_q}{1+k_q \\delta_q}$$"
   ]
  },
  {
   "cell_type": "markdown",
   "id": "4325ff73-71c4-4e54-9388-0a73b8f1898f",
   "metadata": {},
   "source": [
    "O coeficiente $k_q$ corresponde ao fator de bias $\\frac{Q_k}{Q_m}$ mantido fixo é obtido a partir da equação:"
   ]
  },
  {
   "cell_type": "markdown",
   "id": "281319d2-a4cf-46f3-aa9c-0b9722497103",
   "metadata": {},
   "source": [
    "$$\\frac{Q_k}{Q_m}=(1+k_q \\delta_q)$$"
   ]
  },
  {
   "cell_type": "code",
   "execution_count": 13,
   "id": "e7d153f3-5841-40f5-a5be-f9831b0077d0",
   "metadata": {},
   "outputs": [
    {
     "name": "stdout",
     "output_type": "stream",
     "text": [
      "k_G = 0.0\n"
     ]
    }
   ],
   "source": [
    "k_q = (bias_q - 1) / delta_q\n",
    "print(\"k_G = {0:0.4}\".format(k_q))"
   ]
  },
  {
   "cell_type": "markdown",
   "id": "725acd66-120e-44a6-9fa7-178c1bc50d19",
   "metadata": {},
   "source": [
    "O coeficiente $k_q$ resulta igual a zero, por que o valor característico da carga variável $Q_k$ foi tomado como igual ao seu valor médio $Q_m$"
   ]
  },
  {
   "cell_type": "code",
   "execution_count": 14,
   "id": "8ff0a420-dc2c-4b4b-b078-59b591964ae3",
   "metadata": {},
   "outputs": [
    {
     "name": "stdout",
     "output_type": "stream",
     "text": [
      "gamma_q = 1.71\n"
     ]
    }
   ],
   "source": [
    "# Cálculo do fator de majoração da carga permanente gamma_g\n",
    "gamma_q = (1 - alpha_q * beta_alvo * delta_q) / (1 + k_q * delta_q)\n",
    "print(\"gamma_q = {0:0.3}\".format(gamma_q))"
   ]
  },
  {
   "cell_type": "markdown",
   "id": "f247f5f1-c394-40da-a9b4-503a8a82042c",
   "metadata": {},
   "source": [
    "Portanto, para que o índice de confiabilidade alvo $\\beta_{alvo} = 3,80$ seja atingido, o fator de redução da resistência $\\phi$ deverá passar de $0,90$ para $0,78$. Já o fator de segurança para a carga permanente $\\gamma_g$ poderá ser reduzido de $1,25$ para $1,07$, enquanto que o fator de majoração da carga variável $\\gamma_q$ deverá ser aumentado de $1,50$ para $1,71$."
   ]
  },
  {
   "cell_type": "markdown",
   "id": "a60a59a5-b4ca-46de-8803-be1594969f86",
   "metadata": {},
   "source": [
    "Através de um procedimento de calibração, os fatores de segurança de uma norma de projeto podem ser ajustados de forma a garantir uma confiabilidade mínima, mesmo nas situações mais desfavoráveis."
   ]
  },
  {
   "cell_type": "markdown",
   "id": "2333118d-7de5-44be-b225-86f978b7eb09",
   "metadata": {},
   "source": [
    "[Voltar ao início da aula](#section_1)"
   ]
  },
  {
   "cell_type": "markdown",
   "id": "775ddded-24d8-412e-a37a-d1bb8e7d24d1",
   "metadata": {},
   "source": [
    "## __1.6 - Observações e Conclusões__ <a name=\"section_16\"></a>"
   ]
  },
  {
   "cell_type": "markdown",
   "id": "b5a776d8-b332-407b-b64b-b88c969b08d0",
   "metadata": {},
   "source": [
    "* __Não há projeto 100% seguro__! Em todo projeto existe um certo __risco de falha__ devido às __incertezas__ presentes nas variáveis do sistema.\n",
    "\n",
    "* A __Teoria da Confiabilidade__ fornece uma __maneira racional__ de se lidar com as __incertezas__ presentes no projeto de sistemas em engenharia."
   ]
  },
  {
   "cell_type": "markdown",
   "id": "392655c2-a774-4bf8-aaff-2a78089e3029",
   "metadata": {},
   "source": [
    "### Método dos coeficientes de segurança parciais:"
   ]
  },
  {
   "cell_type": "markdown",
   "id": "1abdb6a7-f632-4063-a32c-94d5d37bca0f",
   "metadata": {},
   "source": [
    "* O método dos coeficientes de segurança parciais permite lidar  separadamente com as incertezas presentes na geometria, materiais e cargas. É um método prático para projeto e continuará a ser usado.\n",
    "\n",
    "* Contudo, este método, ao adotar coeficientes de segurança constantes não atinge sempre a mesma confiabilidade. \n",
    "\n",
    "* É preciso garantir um índice de confiabilidade mínimo.\n",
    "\n",
    "* A __calibração das normas__ de projeto de sistemas de engenharia pode garantir um índice de confiabilidade mínimo nas situações mais desfavoráveis."
   ]
  },
  {
   "cell_type": "markdown",
   "id": "db65a76f-934f-4c77-a0e0-7de54f1ad9f9",
   "metadata": {},
   "source": [
    "[Voltar ao início da aula](#section_1)"
   ]
  },
  {
   "cell_type": "markdown",
   "id": "cd3e3ffa-0e04-4925-a842-cea1b29f5e8c",
   "metadata": {},
   "source": [
    "## __Bibliografia__"
   ]
  },
  {
   "cell_type": "markdown",
   "id": "22843f6f-9513-4934-85e2-79f9121882c1",
   "metadata": {},
   "source": [
    "* __Livros__\n",
    "* ANG,  A.  H-S.; TANG,  W. H.. Probability concepts in engineering planning and design. Volume I:  basic principles. New  York, John Wiley & Sons, 1975.\n",
    "* ANG,  A.  H-S.; TANG,  W. H.. Probability concepts in engineering planning and design. Volume II: decision, risk and reliability. New  York, John Wiley & Sons, 1984.\n",
    "* ANG,  A.  H-S.; TANG,  W. H.. Probability concepts in engineering: Emphasis on applications to Civil and Enviromental Engineering.  2nd ed. Hoboken, NJ, John Wiley & Sons, 2007.\n",
    "* BECK, A. T. Confiabilidade e segurança das  estruturas. Rio de Janeiro, Elsevier, 2019.\n",
    "* HALDAR, A. MAHADEVAN, S. Probability, reliability, and statistical methods in engineering design. New York, Wiley, 2000.\n",
    "* MELCHERS, R.E., BECK, A. T.; Structural reliability analysis and prediction. 3rd ed. John Wiley and Sons, 2018, 514p.\n",
    "* __Revistas:__\n",
    "* Structural Safety\n",
    "* Probabilistic Engineering Mechanics\n",
    "* Boletins CEB-FIP (agora fib)\n",
    "* Revista IBRACON de Estruturas e Materiais"
   ]
  },
  {
   "cell_type": "code",
   "execution_count": null,
   "id": "d6548269-ae51-45ef-bcd2-f266faf2099d",
   "metadata": {},
   "outputs": [],
   "source": []
  }
 ],
 "metadata": {
  "colab": {
   "name": "Capítulo_1.ipynb",
   "provenance": []
  },
  "kernelspec": {
   "display_name": "Python 3 (ipykernel)",
   "language": "python",
   "name": "python3"
  },
  "language_info": {
   "codemirror_mode": {
    "name": "ipython",
    "version": 3
   },
   "file_extension": ".py",
   "mimetype": "text/x-python",
   "name": "python",
   "nbconvert_exporter": "python",
   "pygments_lexer": "ipython3",
   "version": "3.10.9"
  }
 },
 "nbformat": 4,
 "nbformat_minor": 5
}
