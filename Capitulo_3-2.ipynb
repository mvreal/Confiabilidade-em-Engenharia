{
 "cells": [
  {
   "cell_type": "markdown",
   "id": "1dc445f3-8f0f-41b7-a0fa-541467a1d3db",
   "metadata": {
    "id": "1dc445f3-8f0f-41b7-a0fa-541467a1d3db"
   },
   "source": [
    "### Universidade Federal do Rio Grande - FURG"
   ]
  },
  {
   "cell_type": "markdown",
   "id": "27d28d81-ad30-4559-b52d-0fee9ac96cae",
   "metadata": {
    "id": "27d28d81-ad30-4559-b52d-0fee9ac96cae"
   },
   "source": [
    "### Escola de Engenharia - EE"
   ]
  },
  {
   "cell_type": "markdown",
   "id": "103a5401-6849-4ee0-a254-08a7f684a870",
   "metadata": {
    "id": "103a5401-6849-4ee0-a254-08a7f684a870"
   },
   "source": [
    "### Programa de Pós-graduação em Engenharia Oceânica - PPGEO"
   ]
  },
  {
   "cell_type": "markdown",
   "id": "547b79f5-d7a3-4b02-8ce9-7c1647bff36b",
   "metadata": {
    "id": "547b79f5-d7a3-4b02-8ce9-7c1647bff36b"
   },
   "source": [
    "### Disciplina: Confiabilidade em Engenharia"
   ]
  },
  {
   "cell_type": "markdown",
   "id": "e0725446-5506-4354-8b96-fd5f60cf025c",
   "metadata": {
    "id": "189e93bb-f3e5-4536-9aec-d09046d6929b"
   },
   "source": [
    "### Professor: Dr. Mauro de Vasconcellos Real"
   ]
  },
  {
   "cell_type": "markdown",
   "id": "0f573eed-b149-49a0-bf9f-5a72b50d1815",
   "metadata": {},
   "source": [
    "# __Aula 06__"
   ]
  },
  {
   "cell_type": "code",
   "execution_count": 72,
   "id": "aae74c59-c562-4c6b-b548-02568c399dd9",
   "metadata": {},
   "outputs": [],
   "source": [
    "import numpy as np\n",
    "import matplotlib.pyplot as plt\n",
    "from scipy.stats import norm\n",
    "from scipy.stats import lognorm\n",
    "from scipy.stats import binom"
   ]
  },
  {
   "cell_type": "markdown",
   "id": "ce78f794-4773-4210-bf0c-d89fd0e707f7",
   "metadata": {
    "id": "ce78f794-4773-4210-bf0c-d89fd0e707f7"
   },
   "source": [
    "# __Capítulo 3 - Modelos analíticos para fenômenos aleatórios__"
   ]
  },
  {
   "cell_type": "markdown",
   "id": "b887beac-b455-45e3-b61e-94df1b6aa93b",
   "metadata": {
    "id": "3764b601-27f8-4189-a03c-e7c7c94f021d"
   },
   "source": [
    "## __3.2 - Principais distribuições de probabilidade__ <a name=\"section_32\"></a>"
   ]
  },
  {
   "cell_type": "markdown",
   "id": "3ce4b88f-bb46-49e3-b43f-b2c43671b855",
   "metadata": {
    "id": "3ce4b88f-bb46-49e3-b43f-b2c43671b855"
   },
   "source": [
    "[3.2.1 - Distribuição Normal](#section_321)  \n",
    "[3.2.2 - Distribuição Lognormal](#section_322)    \n",
    "[3.2.3 - Distribuição Binomial (Sequência de Bernoulli)](#section_323)  \n",
    "[3.2.4 - Distribuição Geométrica](#section_324)   \n",
    "[3.2.5 - Distribuição Binomial Negativa](#section_325)  \n",
    "[3.2.6 - Distribuição de Poisson](#section_326)  \n",
    "[3.2.7 - Distribuição Exponencial](#section_327)   \n",
    "[3.2.8 - Distribuição Gama](#section_328)  \n",
    "[3.2.9 - Distribuição Hipergeometrica](#section_329)   \n",
    "[3.2.10 - Distribuição Beta](#section_3210)   "
   ]
  },
  {
   "cell_type": "markdown",
   "id": "5bafba8c-efa5-4114-9f0e-603f32dbecc4",
   "metadata": {
    "id": "5bafba8c-efa5-4114-9f0e-603f32dbecc4"
   },
   "source": [
    "### 3.2.1 - Distribuição Normal  <a name=\"section_321\"></a>"
   ]
  },
  {
   "cell_type": "markdown",
   "id": "ec6594d5-de59-4224-b246-4145b51f644b",
   "metadata": {
    "tags": []
   },
   "source": [
    "* Também chamada de __Curva de Gauss__.\n",
    "\n",
    "* É a mais utilizada das distribuições.\n",
    "\n",
    "* Parâmetros: $\\mu$ = média e $\\sigma$ = desvio padrão.\n",
    "\n",
    "* Sua FDP é dada por $N(\\mu,\\sigma)$:\n",
    "\n",
    "$$ f_X(x) = \\frac{1}{\\sigma \\sqrt{2 \\pi}} \\exp{\\left[-\\frac{1}{2}\\left(\\frac{x - \\mu}{\\sigma}\\right)^2\\right]} \\qquad -\\infty < x < +\\infty$$\n",
    "\n",
    "* A figura abaixo mostra os efeitos da variação dos parâmetros $\\sigma$ (a) e $\\mu$ (b) sobre a FDP da distribuição normal.\n"
   ]
  },
  {
   "cell_type": "markdown",
   "id": "2ffd078c-c534-47a5-a4c0-b413f37c5160",
   "metadata": {
    "tags": []
   },
   "source": [
    "<img src=\"./images3/normal1.jpg\" alta=\"Distribuição Normal: variação de sigma e de mu\" style=\"width:800px\"/>"
   ]
  },
  {
   "cell_type": "markdown",
   "id": "912a2e3a-d6cf-4d1d-b0dd-8f7bd80a6de7",
   "metadata": {
    "tags": []
   },
   "source": [
    "Fonte: ANG,  A.  H-S.; TANG,  W. H.. Probability concepts in engineering: Emphasis on applications to Civil and Enviromental Engineering.  2nd ed. Hoboken, NJ, John Wiley & Sons, 2007."
   ]
  },
  {
   "cell_type": "markdown",
   "id": "6fed8a23-83cf-4ab0-ac2c-2bd0effe578c",
   "metadata": {
    "id": "6fed8a23-83cf-4ab0-ac2c-2bd0effe578c"
   },
   "source": [
    "#### Distribuição normal padrão:"
   ]
  },
  {
   "cell_type": "markdown",
   "id": "c4dcba7a-615f-4964-96b4-124ff1a2a0eb",
   "metadata": {},
   "source": [
    "A distribuição normal pode ser padronizada através da utilização da variável $S$:\n",
    "\n",
    "$$ s = \\frac{(x-\\mu)}{\\sigma} $$.\n",
    "\n",
    "A variável $S$ é uma variável aleatória de média $\\mu_S = 0$ e de variância unitária $\\sigma_S^2 = 1$, cuja FDP é dada na forma:\n",
    "\n",
    "$$ f_X(x) = \\frac{1}{\\sqrt{2 \\pi}} \\exp{\\left[-\\frac{1}{2} s^2\\right]} \\qquad -\\infty < x < +\\infty$$\n",
    "\n",
    "A figura abaixo mostra um gráfico da função densidade de probabilidade da distribuição normal padronizada, onde $\\Phi(s) = F_S(s)$:"
   ]
  },
  {
   "cell_type": "markdown",
   "id": "152d3ab3-ca71-42fc-959f-562a8d278416",
   "metadata": {
    "tags": []
   },
   "source": [
    "<img src=\"./images3/normal_padronizada.jpg\" alta=\"Distribuição Normal Padronizada\" style=\"width:474px\"/>"
   ]
  },
  {
   "cell_type": "markdown",
   "id": "a1dff21a-c10a-4851-8a38-bc11a8ccd68d",
   "metadata": {
    "tags": []
   },
   "source": [
    "Fonte: Adaptada de ANG,  A.  H-S.; TANG,  W. H.. Probability concepts in engineering: Emphasis on applications to Civil and Enviromental Engineering.  2nd ed. Hoboken, NJ, John Wiley & Sons, 2007."
   ]
  },
  {
   "cell_type": "markdown",
   "id": "cb3e8786-74a7-41b8-8e89-70aa48428d8c",
   "metadata": {
    "id": "cb3e8786-74a7-41b8-8e89-70aa48428d8c"
   },
   "source": [
    "Em função do número de desvios padrões $\\sigma$ considerados à esquerda e à direita da média $\\mu = 0$, tem-se uma probabilidade (área sob a curva normal) de os dados estarem contidos neste intervalo, conforme é mostrado na figura abaixo."
   ]
  },
  {
   "cell_type": "markdown",
   "id": "6c5e4db8-ecdf-4a26-8cf7-ab806dcdc09e",
   "metadata": {
    "tags": []
   },
   "source": [
    "<img src=\"./images3/normal_sigma.jpg\" alta=\"Área sob a curva normal\" style=\"width:474px\"/>"
   ]
  },
  {
   "cell_type": "markdown",
   "id": "7d929a47-6f38-49aa-8640-d920269a93c5",
   "metadata": {
    "tags": []
   },
   "source": [
    "Fonte: Adaptada de ANG,  A.  H-S.; TANG,  W. H.. Probability concepts in engineering: Emphasis on applications to Civil and Enviromental Engineering.  2nd ed. Hoboken, NJ, John Wiley & Sons, 2007."
   ]
  },
  {
   "cell_type": "markdown",
   "id": "c956418a-b901-40f8-93bc-5a309004d74a",
   "metadata": {},
   "source": [
    "#### Cálculo de probabilidades"
   ]
  },
  {
   "cell_type": "markdown",
   "id": "18f9f645-6b81-4167-b5a7-1a143c128248",
   "metadata": {},
   "source": [
    "A probabilidade o evento $a \\leq X \\leq b$ será dada por:\n",
    "\n",
    "$$ P(a \\leq X \\leq b) = \\frac{1}{\\sigma \\sqrt{2 \\pi}} \\int_{a}^{b}\\exp{\\left[-\\frac{1}{2}\\left(\\frac{x - \\mu}{\\sigma}\\right)^2\\right]}dx$$\n",
    "\n",
    "Esta integral representa a área sob a curva normal entre os pontos $x = a$ e $x = b$, conforme mostrado na figura abaixo.\n",
    "\n",
    "Esta integral não possui solução analítica, devendo se valor ser obtido através da utilização de métodos numéricos ou alguma aproximação. Tabelas para a função de distribuição acumulada (FDA) da distribuição normal padronizada costumam estar disponíveis nos apêndices de livros de Estatística e Probabilidade."
   ]
  },
  {
   "cell_type": "markdown",
   "id": "732a40a8-64b9-4ded-8578-8bf81e038e41",
   "metadata": {
    "tags": []
   },
   "source": [
    "<img src=\"./images3/normal_area.jpg\" alta=\"Área sob a curva normal entre os pontos a e b\" style=\"width:474px\"/>"
   ]
  },
  {
   "cell_type": "markdown",
   "id": "78e234a5-ef5e-4b58-85f7-b7889c506ab2",
   "metadata": {
    "tags": []
   },
   "source": [
    "Fonte: Adaptada de ANG,  A.  H-S.; TANG,  W. H.. Probability concepts in engineering: Emphasis on applications to Civil and Enviromental Engineering.  2nd ed. Hoboken, NJ, John Wiley & Sons, 2007."
   ]
  },
  {
   "cell_type": "markdown",
   "id": "441b6369-7154-456b-9602-ed9e11bb1183",
   "metadata": {},
   "source": [
    "Usando-se a distribuição  normal padrão, tem-se que:\n",
    "\n",
    "$$ s_a = \\frac{a - \\mu}{\\sigma} \\quad \\text{e} \\quad s_b = \\frac{b - \\mu}{\\sigma}$$\n",
    "\n",
    "Logo:\n",
    "\n",
    "$$ P(a \\leq X \\leq b) = \\Phi\\left(\\frac{b - \\mu}{\\sigma}\\right) - \\Phi\\left(\\frac{a - \\mu}{\\sigma}\\right)$$\n"
   ]
  },
  {
   "cell_type": "markdown",
   "id": "31ce3c4d-56af-497c-afef-2cd2500eb190",
   "metadata": {},
   "source": [
    "#### Exemplo 3.5 - Precipitação pluviométrica em uma bacia de captação"
   ]
  },
  {
   "cell_type": "markdown",
   "id": "95e4cc76-b7a3-4118-8e15-def68d27c881",
   "metadata": {},
   "source": [
    "A precipitação pluviométrica anual em uma bacia de captação é estimada ter uma distribuição normal com $N(1500 mm, 375mm)$.  \n",
    "a) Qual a probabilidade de que em um ano futuro a precipitação anual será entre $1000 mm$ e $1800 mm$?\n",
    "\n",
    "__Solução__:\n",
    "\n",
    "$$P(1000 \\leq X \\leq 1800) = \\Phi\\left(\\frac{1800 - 1500}{375}\\right) - \\Phi\\left(\\frac{1000 - 1500}{375}\\right) = 0,7881 - 0,0912 = 0,6969 = 69,69\\%$$"
   ]
  },
  {
   "cell_type": "code",
   "execution_count": 73,
   "id": "08c911ac-c6fa-426d-b478-c7ba9137054f",
   "metadata": {},
   "outputs": [
    {
     "name": "stdout",
     "output_type": "stream",
     "text": [
      "Probabilidade acumulada de a = 0.0912\n",
      "Probabilidade acumulada de b = 0.7881\n",
      "Probabilidade do evento 1000 mm < X < 1800 mm = 0.6969\n"
     ]
    }
   ],
   "source": [
    "# Dados de entrada:\n",
    "x_mean = 1500 # mm\n",
    "x_std = 375 # mm\n",
    "a = 1000 # mm\n",
    "b = 1800 # mm\n",
    "pa = norm.cdf(a, x_mean, x_std)\n",
    "pb = norm.cdf(b, x_mean, x_std) \n",
    "px = pb - pa\n",
    "print(\"Probabilidade acumulada de a = {0:0.4f}\".format(pa))\n",
    "print(\"Probabilidade acumulada de b = {0:0.4f}\".format(pb))\n",
    "print(\"Probabilidade do evento 1000 mm < X < 1800 mm = {0:0.4f}\".format(px))"
   ]
  },
  {
   "cell_type": "markdown",
   "id": "58083f81-27ce-4dff-bc54-dfef2f8b2b42",
   "metadata": {},
   "source": [
    "b) Qual a probabilidade de que a precipitação anual será de pelo menos $750 mm$?\n",
    "\n",
    "$$P(X \\geq 750) = 1 - P(X < 750) =1 - \\Phi\\left(\\frac{750 - 1500}{375}\\right) = 1 - 0,02275 = 0,9772 = 97,72\\%$$"
   ]
  },
  {
   "cell_type": "code",
   "execution_count": 74,
   "id": "71ea5bfc-11f6-43d1-b48a-6cd2045625d0",
   "metadata": {},
   "outputs": [
    {
     "name": "stdout",
     "output_type": "stream",
     "text": [
      "Probabilidade acumulada de X < 750 mm = 0.0228\n",
      "Probabilidade do evento X >= 750 mm = 0.9772\n"
     ]
    }
   ],
   "source": [
    "p750 = norm.cdf(750, x_mean, x_std)\n",
    "pxge750 = 1 - p750\n",
    "print(\"Probabilidade acumulada de X < 750 mm = {0:0.4f}\".format(p750))\n",
    "print(\"Probabilidade do evento X >= 750 mm = {0:0.4f}\".format(pxge750))"
   ]
  },
  {
   "cell_type": "markdown",
   "id": "0cebbdd2-bf0b-46e0-9795-f335d882fc9a",
   "metadata": {},
   "source": [
    "c) Qual a precipitação anual que tem uma probabilidade de ocorrência de pelo menos 10%?\n",
    "\n",
    "$$ P(X \\leq x) = 10\\% \\rightarrow \\Phi \\left(\\frac{x - 1.500}{375} \\right) = 0,10 \\rightarrow \\frac{x-1.500}{375}=-1,2816$$\n",
    "\n",
    "$$ x = 1.500 - 1,2816 . 375 = 1.019 mm$$"
   ]
  },
  {
   "cell_type": "code",
   "execution_count": 75,
   "id": "5b43c6df-5c57-407e-800e-c5b6b00bbf4b",
   "metadata": {},
   "outputs": [
    {
     "name": "stdout",
     "output_type": "stream",
     "text": [
      "Variável normal padronizada s tal que P(S<s)=10% = -1.2816\n",
      "Variavel normal x, tal que s = -1,2816 = 1019.4182 mm\n"
     ]
    }
   ],
   "source": [
    "s = norm.ppf(0.10,0.00,1.00)\n",
    "x = x_mean + s * x_std\n",
    "print(\"Variável normal padronizada s tal que P(S<s)=10% = {0:0.4f}\".format(s))\n",
    "print(\"Variavel normal x, tal que s = -1,2816 = {0:0.4f} mm\".format(x))"
   ]
  },
  {
   "cell_type": "markdown",
   "id": "7e84968d-451a-4b24-9c5a-747a0979811e",
   "metadata": {},
   "source": [
    "Ou, de forma direta:"
   ]
  },
  {
   "cell_type": "code",
   "execution_count": 76,
   "id": "fc165e66-14de-4f5b-aec7-951b44efafe3",
   "metadata": {},
   "outputs": [
    {
     "name": "stdout",
     "output_type": "stream",
     "text": [
      "Variavel normal x, tal que P(X<x)=10% = 1019.4182 mm\n"
     ]
    }
   ],
   "source": [
    "x = norm.ppf(0.10, x_mean, x_std)\n",
    "print(\"Variavel normal x, tal que P(X<x)=10% = {0:0.4f} mm\".format(x))"
   ]
  },
  {
   "cell_type": "markdown",
   "id": "4a897e86-4bd8-49f2-99a6-48e2424481e5",
   "metadata": {},
   "source": [
    "[Retornar à lista de distribuições de probabilidade](#section_32) "
   ]
  },
  {
   "cell_type": "markdown",
   "id": "26a2fb12-8cb1-4109-90ed-8759a30eda94",
   "metadata": {
    "id": "5bafba8c-efa5-4114-9f0e-603f32dbecc4"
   },
   "source": [
    "### 3.2.2 - Distribuição Lognormal <a name=\"section_322\"></a>"
   ]
  },
  {
   "cell_type": "markdown",
   "id": "29031f2f-ad81-4bce-8004-27e6c7824f88",
   "metadata": {},
   "source": [
    "* Uma variável aleatória $X$ possui uma distribuição lognormal se o logaritmo neperiano $ln(X)$ possui distribuição normal.\n",
    "\n",
    "* A distribuição lognormal é útil de ser empregada quando todos os valores da variável aleatória $X$ forem positivos $(X>0)$.\n",
    "\n",
    "* Os parâmetros de uma distribuição lognormal são  $\\lambda$ e $\\zeta$, onde: \n",
    "\n",
    "* $\\lambda = E[ln(x)]$, ou seja, a média do logarítmo neperiano de $X$.\n",
    "\n",
    "* $\\zeta = \\sqrt{\\{Var[ln(X)]\\}}$, ou seja, o desvio padrão do logaritmo neperiano de $X$\n",
    "\n",
    "* A FDP de uma variável aleatória lognormal $X$ será dada por:\n",
    "\n",
    "$$ f_X(x) = \\frac{1}{\\sqrt{2 \\pi}\\zeta x } \\exp{-\\frac{1}{2}\\left(\\frac{ln(x) - \\lambda}{\\zeta}\\right)^2} \\qquad 0 < x < +\\infty$$\n"
   ]
  },
  {
   "cell_type": "markdown",
   "id": "db030900-4723-40a0-a8ad-68070ed5d128",
   "metadata": {},
   "source": [
    "A figura abaixo apresenta o aspecto da função FDP para uma variável aleatória lognormal, para diversos valores do parâmetro de dispersão $\\zeta$."
   ]
  },
  {
   "cell_type": "markdown",
   "id": "a3ee14eb-5c9b-4fc3-8e96-545e31a3cc4d",
   "metadata": {},
   "source": [
    "<img src=\"./images3/lognormal.jpg\" alt=\"FDP para uma variável aleatória lognormal.\" style=\"width:474px\"/>"
   ]
  },
  {
   "cell_type": "markdown",
   "id": "8da27dec-68fd-4a2f-998b-ab62aec039b9",
   "metadata": {},
   "source": [
    "Fonte: ANG,  A.  H-S.; TANG,  W. H.. Probability concepts in engineering: Emphasis on applications to Civil and Enviromental Engineering.  2nd ed. Hoboken, NJ, John Wiley & Sons, 2007."
   ]
  },
  {
   "cell_type": "markdown",
   "id": "9a89bd8f-d83f-4d23-8d1e-7e8696678c89",
   "metadata": {},
   "source": [
    "#### Parâmentros da distribuição lognormal"
   ]
  },
  {
   "cell_type": "markdown",
   "id": "fb33d3e9-40c8-4c24-9e82-1fbb70b31357",
   "metadata": {},
   "source": [
    "Uma vez conhecidos os parâmetros média $\\mu$ e desvio padrão $\\sigma$ da variável $X$, os parâmetros da distribuição lognormal podem ser obtidos a partir das seguintes equações:\n",
    "\n",
    "* a) Média $\\lambda$:\n",
    "\n",
    "$$ \\lambda = ln\\mu - \\frac{1}{2}\\zeta^2$$.\n",
    "\n",
    "* b) Variância $\\zeta$:\n",
    "\n",
    "$$ \\zeta^2 = ln\\left( \\frac{\\sigma^2}{\\mu^2} + 1 \\right)$$\n",
    "\n",
    "* c) Mediana $x_m$:\n",
    "\n",
    "$$x_m = \\frac{\\mu}{\\sqrt{1+\\delta^2}}$$\n",
    "\n",
    "* d) Nos casos em que:\n",
    "\n",
    "$$ \\delta = \\frac{\\sigma}{\\mu} \\le 0,30 \\quad \\rightarrow \\quad \\zeta \\approxeq \\delta $$"
   ]
  },
  {
   "cell_type": "markdown",
   "id": "54a384d5-4608-4150-982d-89f78773058a",
   "metadata": {},
   "source": [
    "#### Exemplo 3.6 - Precipitação em uma bacia de captação: modelo com distribuição lognormal"
   ]
  },
  {
   "cell_type": "markdown",
   "id": "aad00981-1caf-4e7c-9397-afddb8d57c83",
   "metadata": {},
   "source": [
    "A precipitação pluviométrica anual em uma bacia de captação possui média $\\mu = 1.500 mm$ e desvio padrão $\\sigma = 375 mm$. Considerar, agora, que o modelo de distribuição de probabilidade da precipitação anual seja lognormal.  \n",
    "a) Qual a probabilidade de que em um ano futuro a precipitação anual será entre $1000 mm$ e $1800 mm$?\n",
    "\n",
    "__Solução__:\n",
    "\n",
    "Cálculo dos parâmetros da distribuição lognormal:\n",
    "\n",
    "$$ \\delta = \\frac{375}{1.500} = 0,25 $$\n",
    "\n",
    "$$ \\zeta^2 = ln\\left( \\frac{\\sigma^2}{\\mu^2} + 1 \\right) = ln\\left( 0,25^2 + 1 \\right) = 0,0606$$\n",
    "\n",
    "$$ \\zeta = \\sqrt{0,0606}= 0,2462$$\n",
    "\n",
    "Note-se que para $\\delta < 0,30 \\rightarrow \\zeta \\approxeq \\delta$\n",
    "\n",
    "$$ \\lambda = ln\\mu - \\frac{1}{2}\\zeta^2 = ln(1500) - \\frac{1}{2}(0,2462)^2 = $$.\n",
    "\n",
    "$$P(1000 \\leq X \\leq 1800) = \\Phi\\left(\\frac{1800 - 1500}{375}\\right) - \\Phi\\left(\\frac{1000 - 1500}{375}\\right) = 0,7881 - 0,0912 = 0,6969 = 69,69\\%$$"
   ]
  },
  {
   "cell_type": "code",
   "execution_count": 77,
   "id": "8af1f6ab-e064-4407-8662-8e2e2069cd6c",
   "metadata": {},
   "outputs": [
    {
     "name": "stdout",
     "output_type": "stream",
     "text": [
      "Parâmetro lambda = 7.2829\n",
      "Parâmetro zeta = 0.2462\n",
      "Probabilidade acumulada de a = 0.0638\n",
      "Probabilidade acumulada de b = 0.8061\n",
      "Probabilidade do evento 1000 mm < X < 1800 mm = 0.7423\n"
     ]
    }
   ],
   "source": [
    "# Parâmetros da distribuição lognormal\n",
    "x_mean = 1500 # mm\n",
    "x_std = 375 # mm\n",
    "delta = x_std / x_mean\n",
    "zetax = np.sqrt(np.log(delta**2 +1))\n",
    "lambdax = np.log(x_mean)-0.5*zetax**2\n",
    "# Cálculo das probabilidades utilizando a distribuição normal de ln(x)\n",
    "sa = (np.log(1000.00)-lambdax)/zetax\n",
    "sb = (np.log(1800.00)-lambdax)/zetax\n",
    "pa = norm.cdf(sa, 0, 1)\n",
    "pb = norm.cdf(sb, 0, 1)\n",
    "px = pb - pa\n",
    "print(\"Parâmetro lambda = {0:0.4f}\".format(lambdax))\n",
    "print(\"Parâmetro zeta = {0:0.4f}\".format(zetax))\n",
    "print(\"Probabilidade acumulada de a = {0:0.4f}\".format(pa))\n",
    "print(\"Probabilidade acumulada de b = {0:0.4f}\".format(pb))\n",
    "print(\"Probabilidade do evento 1000 mm < X < 1800 mm = {0:0.4f}\".format(px))"
   ]
  },
  {
   "cell_type": "markdown",
   "id": "a539ff03-1eb9-459d-b8f7-1e7e80f4a748",
   "metadata": {},
   "source": [
    "Ou usando diretamente a FDA da distribução lognormal:"
   ]
  },
  {
   "cell_type": "code",
   "execution_count": 78,
   "id": "b1339e92-3a48-4650-be08-b9639f528507",
   "metadata": {},
   "outputs": [
    {
     "name": "stdout",
     "output_type": "stream",
     "text": [
      "Parâmetro lambda = 7.2829\n",
      "Parâmetro zeta = 0.2462\n",
      "Parâmetro loc = 0.0000\n",
      "Parâmetro s = 0.2462\n",
      "Parâmetro scale = 1455.2138\n",
      "Probabilidade acumulada de a = 0.0638\n",
      "Probabilidade acumulada de b = 0.8061\n",
      "Probabilidade do evento 1000 mm < X < 1800 mm = 0.7423\n"
     ]
    }
   ],
   "source": [
    "# Parâmetros da distribuição lognormal\n",
    "x_mean = 1500 # mm\n",
    "x_std = 375 # mm\n",
    "delta = x_std / x_mean\n",
    "zetax = np.sqrt(np.log(delta**2 +1))\n",
    "lambdax = np.log(x_mean)-0.5*zetax**2\n",
    "# Parâmetros para scipy.stats lognorm.cdf\n",
    "s = zetax\n",
    "scale =  np.exp(lambdax)\n",
    "loc= 0.00\n",
    "# Cálculo das probabilidades utilizando diretamente a distribuição lognormal\n",
    "a= 1000.00\n",
    "b= 1800.00\n",
    "pa = lognorm.cdf(a, s, loc, scale)\n",
    "pb = lognorm.cdf(b, s, loc, scale)\n",
    "px = pb - pa\n",
    "print(\"Parâmetro lambda = {0:0.4f}\".format(lambdax))\n",
    "print(\"Parâmetro zeta = {0:0.4f}\".format(zetax))\n",
    "print(\"Parâmetro loc = {0:0.4f}\".format(loc))\n",
    "print(\"Parâmetro s = {0:0.4f}\".format(zetax))\n",
    "print(\"Parâmetro scale = {0:0.4f}\".format(scale))\n",
    "print(\"Probabilidade acumulada de a = {0:0.4f}\".format(pa))\n",
    "print(\"Probabilidade acumulada de b = {0:0.4f}\".format(pb))\n",
    "print(\"Probabilidade do evento 1000 mm < X < 1800 mm = {0:0.4f}\".format(px))"
   ]
  },
  {
   "cell_type": "markdown",
   "id": "63318074-35c4-45a2-900c-3a497603d955",
   "metadata": {},
   "source": [
    "b) Qual a probabilidade de que a precipitação anual será de pelo menos $750 mm$?\n",
    "\n",
    "$$P(X \\geq 750) = 1 - P(X < 750) =1 - \\Phi\\left(\\frac{ln(750) - 7,2820}{0,2462}\\right) = 1 - 0,0036 = 0,9964 = 99,64\\%$$"
   ]
  },
  {
   "cell_type": "code",
   "execution_count": 79,
   "id": "9c9d352e-4161-4551-b989-a92878322b7a",
   "metadata": {},
   "outputs": [
    {
     "name": "stdout",
     "output_type": "stream",
     "text": [
      "Probabilidade acumulada de X < 750 mm = 0.0036\n",
      "Probabilidade do evento X >= 750 mm = 0.9964\n"
     ]
    }
   ],
   "source": [
    "# Parâmetros da distribuição lognormal\n",
    "x_mean = 1500 # mm\n",
    "x_std = 375 # mm\n",
    "delta = x_std / x_mean\n",
    "zetax = np.sqrt(np.log(delta**2 +1))\n",
    "lambdax = np.log(x_mean)-0.5*zetax**2\n",
    "# Cálculo das probabilidades utilizando a distribuição normal de ln(x)\n",
    "s750 = (np.log(750)-lambdax)/zetax\n",
    "p750 = norm.cdf(s750, 0, 1)\n",
    "pxge750 = 1 - p750\n",
    "print(\"Probabilidade acumulada de X < 750 mm = {0:0.4f}\".format(p750))\n",
    "print(\"Probabilidade do evento X >= 750 mm = {0:0.4f}\".format(pxge750))"
   ]
  },
  {
   "cell_type": "markdown",
   "id": "3776aa3d-14b6-4a28-9ce7-96dd4a226599",
   "metadata": {},
   "source": [
    "Ou usando diretamente a FDA da distribução lognormal:"
   ]
  },
  {
   "cell_type": "code",
   "execution_count": 80,
   "id": "c6c4a287-23fc-40a7-ade5-1e1b10a4fe67",
   "metadata": {},
   "outputs": [
    {
     "name": "stdout",
     "output_type": "stream",
     "text": [
      "Parâmetro lambda = 7.2829\n",
      "Parâmetro zeta = 0.2462\n",
      "Parâmetro loc = 0.0000\n",
      "Parâmetro s = 0.2462\n",
      "Parâmetro scale = 1455.2138\n",
      "Probabilidade acumulada de X < 750 mm = 0.0036\n",
      "Probabilidade do evento X >= 750 mm = 0.9964\n"
     ]
    }
   ],
   "source": [
    "# Parâmetros da distribuição lognormal\n",
    "x_mean = 1500 # mm\n",
    "x_std = 375 # mm\n",
    "delta = x_std / x_mean\n",
    "zetax = np.sqrt(np.log(delta**2 +1))\n",
    "lambdax = np.log(x_mean)-0.5*zetax**2\n",
    "# Parâmetros para scipy.stats lognorm.cdf\n",
    "s = zetax\n",
    "scale =  np.exp(lambdax)\n",
    "loc= 0.00\n",
    "# Cálculo das probabilidades utilizando diretamente a distribuição lognormal\n",
    "p750 = lognorm.cdf(750.00, s, loc, scale)\n",
    "pxge750 = 1 - p750\n",
    "print(\"Parâmetro lambda = {0:0.4f}\".format(lambdax))\n",
    "print(\"Parâmetro zeta = {0:0.4f}\".format(zetax))\n",
    "print(\"Parâmetro loc = {0:0.4f}\".format(loc))\n",
    "print(\"Parâmetro s = {0:0.4f}\".format(zetax))\n",
    "print(\"Parâmetro scale = {0:0.4f}\".format(scale))\n",
    "print(\"Probabilidade acumulada de X < 750 mm = {0:0.4f}\".format(p750))\n",
    "print(\"Probabilidade do evento X >= 750 mm = {0:0.4f}\".format(pxge750))"
   ]
  },
  {
   "cell_type": "markdown",
   "id": "d68a3b3a-fa83-4f42-8c67-c7e17b22921a",
   "metadata": {},
   "source": [
    "c) Qual a precipitação anual que tem uma probabilidade de ocorrência de pelo menos 10%?\n",
    "\n",
    "$$ P(X \\leq x) = 10\\% \\rightarrow \\Phi \\left(\\frac{ln(x_{10\\%} - 7,2829}{0,2462} \\right) = 0,10 \\rightarrow \\frac{ln(x)-7,2829}{0,2462}=-1,2816$$\n",
    "\n",
    "$$ ln(x) = 7,2829 - 1,2816 . 0,2462 = 6,9674 $$\n",
    "\n",
    "$$ x = \\exp(6,9674) = 1.061,42 mm $$"
   ]
  },
  {
   "cell_type": "code",
   "execution_count": 81,
   "id": "592e5f7e-c46f-43dd-ba26-64187cca5112",
   "metadata": {},
   "outputs": [
    {
     "name": "stdout",
     "output_type": "stream",
     "text": [
      "Variável normal padronizada s tal que P(S<s)=10% = -1.2816\n",
      "ln(x) correspondente a s(10%) = 6.9674\n",
      "Variavel normal x, tal que s = -1,2816 = 1061.4207 mm\n"
     ]
    }
   ],
   "source": [
    "# Parâmetros da distribuição lognormal\n",
    "x_mean = 1500 # mm\n",
    "x_std = 375 # mm\n",
    "delta = x_std / x_mean\n",
    "zetax = np.sqrt(np.log(delta**2 +1))\n",
    "lambdax = np.log(x_mean)-0.5*zetax**2\n",
    "s = norm.ppf(0.10,0.00,1.00)\n",
    "lnx = lambdax + s * zetax\n",
    "x = np.exp(lnx)\n",
    "print(\"Variável normal padronizada s tal que P(S<s)=10% = {0:0.4f}\".format(s))\n",
    "print(\"ln(x) correspondente a s(10%) = {0:0.4f}\".format(lnx))\n",
    "print(\"Variavel normal x, tal que s = -1,2816 = {0:0.4f} mm\".format(x))"
   ]
  },
  {
   "cell_type": "markdown",
   "id": "7dfeccc1-3696-4f15-89fd-8ec465ee8827",
   "metadata": {},
   "source": [
    "Ou, de forma direta:"
   ]
  },
  {
   "cell_type": "code",
   "execution_count": 82,
   "id": "32c2257d-4a4f-49d5-8f7a-278bdc67b0e0",
   "metadata": {},
   "outputs": [
    {
     "name": "stdout",
     "output_type": "stream",
     "text": [
      "Variavel normal x, tal que P(X<x)=10% = 1061.4207 mm\n"
     ]
    }
   ],
   "source": [
    "# Parâmetros da distribuição lognormal\n",
    "x_mean = 1500 # mm\n",
    "x_std = 375 # mm\n",
    "delta = x_std / x_mean\n",
    "zetax = np.sqrt(np.log(delta**2 +1))\n",
    "lambdax = np.log(x_mean)-0.5*zetax**2\n",
    "# Parâmetros para scipy.stats lognorm.cdf\n",
    "s = zetax\n",
    "scale =  np.exp(lambdax)\n",
    "loc= 0.00\n",
    "# Cálculo de x\n",
    "x = lognorm.ppf(0.10, s, loc, scale)\n",
    "print(\"Variavel normal x, tal que P(X<x)=10% = {0:0.4f} mm\".format(x))"
   ]
  },
  {
   "cell_type": "markdown",
   "id": "eec91d38-5b41-40d2-9788-41c21dbf8f68",
   "metadata": {},
   "source": [
    "[Retornar à lista de distribuições de probabilidade](#section_32) "
   ]
  },
  {
   "cell_type": "markdown",
   "id": "db855b45-ca8e-45ff-9579-8270b624c1aa",
   "metadata": {},
   "source": [
    "### 3.2.3 - Distribuição Binomial (Sequência de Bernoulli)  <a name=\"section_323\"></a>"
   ]
  },
  {
   "cell_type": "markdown",
   "id": "7664e00a-92e2-4c2b-a827-292d26d2e1e2",
   "metadata": {},
   "source": [
    "#### Sequência de Bernoulli:\n",
    "\n",
    "1. Cada tentaviva possui apenas dois resultados possíveis: a __ocorrência__ $(p)$ ou a __não-ocorrência__ $(q)$ do evento.\n",
    "\n",
    "2. A probabilidade de ocorrência do evento em cada tentativa é __constante__.\n",
    "\n",
    "3. As tentativas são __estatisticamente independentes__."
   ]
  },
  {
   "cell_type": "markdown",
   "id": "7db86951-5550-4f12-a08f-56310e21c822",
   "metadata": {},
   "source": [
    "#### Distribuição Binomial:\n",
    "\n",
    "* A probabilidade de acontecerem $x$ ocorrências, em $n$ tentativas, com uma probabilidade $p$ em cada tentativa é:\n",
    "\n",
    "$$P(X=x) = \\binom{n}{x} p^x (1-p)^{n-x} \\qquad x = 0, 1, 2, 3, ..., n$$\n",
    "\n",
    "Onde:\n",
    "\n",
    "$$ \\binom{n}{x} = \\frac{n!}{x!(n-x)!} $$\n",
    "\n",
    "É a combinação de $n$ elementos, $x$ a $x$.\n",
    "\n",
    "* Na sequência de Bernoulli as tentativas devem ser discretas.\n",
    "\n",
    "* Porém, problemas de tempo ou espaço contínuos podem ser resolvidos dividindo-se o tempo (ou o espaço) em intervalos finitos e admitindo-se apenas a ocorrência ou a não-ocorrência do evento em cada intervalo."
   ]
  },
  {
   "cell_type": "markdown",
   "id": "30a87af5-d93b-4a29-938c-5a4b3c942fe2",
   "metadata": {},
   "source": [
    "#### Exemplo 3.7 - Cheia máxima anual - Distribuição Binomial\n",
    "\n",
    "No planejamento de um sistema de controle de enchentes é de interesse conhecer-se a ocorrência da máxima cheia anual de um  rio. A probabilidade de a cheia anual exceder um nível $h_0$ é de $0,10$, em um ano.\n",
    "\n",
    "a)Qual a probabilidade de que o nível $h_0$ será excedido uma vez nos próximos cinco anos?\n",
    "\n",
    "__Solução:__\n",
    "\n",
    "$p = 0,10$  \n",
    "$1 - p = 0,90$  \n",
    "$n = 5$  \n",
    "$x = 1$  \n",
    "\n",
    "$$P(X=1) = \\binom{5}{1} (0,1)^1(0,9)^4 = 0,3280=32,80\\%$$\n",
    "\n"
   ]
  },
  {
   "cell_type": "code",
   "execution_count": 83,
   "id": "a57f73f0-e21e-424d-af3d-08513cb50c90",
   "metadata": {},
   "outputs": [
    {
     "name": "stdout",
     "output_type": "stream",
     "text": [
      "Probabilidade de X=1, em 5 anos = 0.3280\n"
     ]
    }
   ],
   "source": [
    "# Entrada de dados\n",
    "n = 5\n",
    "p = 0.10\n",
    "x = 1\n",
    "# Cálculo da probabilidade de que ocorra uma cheia em 5 anos\n",
    "px1 = binom.pmf(x,n,p)\n",
    "print(\"Probabilidade de X=1, em 5 anos = {0:0.4f}\".format(px1))"
   ]
  },
  {
   "cell_type": "markdown",
   "id": "ef394b79-17b2-414e-9ca4-f5760d0a1b43",
   "metadata": {},
   "source": [
    "b)Qual a probabilidade de que haverá no máximo uma cheia superior a $h_0$ nos próximos cinco anos?\n",
    "\n",
    "__Solução:__\n",
    "\n",
    "$$P(X \\leq 1) = P(X=0) + P(X = 1) = \\binom{5}{0} (0,1)^0(0,9)^5 + \\binom{5}{1} (0,1)^1(0,9)^4 = 0,5905 + 0,3280 = 0,9185=91,85\\%$$\n",
    "\n",
    "Esta é a possibilidade de haver nenhuma ou apenas uma cheia em 5 anos."
   ]
  },
  {
   "cell_type": "code",
   "execution_count": 84,
   "id": "fc1724c7-8197-4264-a66a-c9ca6fcf93c3",
   "metadata": {},
   "outputs": [
    {
     "name": "stdout",
     "output_type": "stream",
     "text": [
      "P(X=0) = 0.5905\n",
      "P(X=1) = 0.3280\n",
      "Probabilidade de  X ser no máximo igual a 1, em 5 anos = 0.9185\n"
     ]
    }
   ],
   "source": [
    "# Entrada de dados\n",
    "n = 5\n",
    "p = 0.10\n",
    "# Cálculo da probabilidade de que ocorra uma cheia em 5 anos\n",
    "px0 = binom.pmf(0,n,p)\n",
    "px1 = binom.pmf(1,n,p)\n",
    "pxmax1 = px0 + px1 \n",
    "print(\"P(X=0) = {0:0.4f}\".format(px0))\n",
    "print(\"P(X=1) = {0:0.4f}\".format(px1))\n",
    "print(\"Probabilidade de  X ser no máximo igual a 1, em 5 anos = {0:0.4f}\".format(pxmax1))"
   ]
  },
  {
   "cell_type": "markdown",
   "id": "443c74c7-4e93-466b-86f5-a2cad5d98595",
   "metadata": {},
   "source": [
    "A figura abaixo mostra o gráfico da distribuição binomial para os parâmetros $p = 0,10$ e $n = 5$, observando-se que: $C_n^x = \\binom{n}{x}$, ou seja, combinação de $n$ elementos, $x$ a $x$."
   ]
  },
  {
   "cell_type": "code",
   "execution_count": 101,
   "id": "ea945397-c6bf-4754-bd97-6592d7a5e559",
   "metadata": {},
   "outputs": [
    {
     "data": {
      "image/png": "[encoded data removed]",
      "text/plain": [
       "<Figure size 540x324 with 1 Axes>"
      ]
     },
     "metadata": {
      "needs_background": "light"
     },
     "output_type": "display_data"
    }
   ],
   "source": [
    "# Parâmetros n e p da distribuição binomial\n",
    "n = 5\n",
    "p = 0.10\n",
    "# Definindo os valores de x\n",
    "x_values = list(range(n + 1))\n",
    "# Lista com os valores de pmf para cada valor de x\n",
    "dist = [binom.pmf(x, n, p) for x in x_values ]\n",
    "# Gerando o gráfico da distribuição binomial para n = 5 e p = 0,10\n",
    "fig, ax = plt.subplots(figsize=(7.5, 4.5))\n",
    "ax.bar(x_values, dist)\n",
    "ax.set_ylabel(r'$P(X=x)$', fontsize=14)\n",
    "ax.set_xlabel(r'$X$', fontsize=14)\n",
    "ax.set_title('Distribuição Binomial', fontsize=14)\n",
    "ax.text(2, 0.5, r'$\\displaystyle n = 5 \\quad p = 0,10$', fontsize = 16)\n",
    "ax.text(2, 0.4, r'$\\displaystyle P(X=x) = C_{n}^{x} p^x (1-p)^{n-x}$', fontsize = 16)\n",
    "fig.tight_layout()"
   ]
  },
  {
   "cell_type": "markdown",
   "id": "bc0bbb95-8b8c-4307-90a7-361e371eca95",
   "metadata": {},
   "source": [
    "[Retornar à lista de distribuições de probabilidade](#section_32) "
   ]
  },
  {
   "cell_type": "markdown",
   "id": "ced6a590-b2da-450c-b3d8-76efecd2f4d5",
   "metadata": {},
   "source": [
    "## __Bibliografia__"
   ]
  },
  {
   "cell_type": "markdown",
   "id": "22843f6f-9513-4934-85e2-79f9121882c1",
   "metadata": {},
   "source": [
    "* __Livros__\n",
    "* ANG,  A.  H-S.; TANG,  W. H.. Probability concepts in engineering planning and design. Volume I:  basic principles. New  York, John Wiley & Sons, 1975.\n",
    "* ANG,  A.  H-S.; TANG,  W. H.. Probability concepts in engineering planning and pesign. Volume II: decision, risk and reliability. New  York, John Wiley & Sons, 1984.\n",
    "* ANG,  A.  H-S.; TANG,  W. H.. Probability concepts in engineering: Emphasis on applications to Civil and Enviromental Engineering.  2nd ed. Hoboken, NJ, John Wiley & Sons, 2007.\n",
    "* BECK, A. T. Confiabilidade e segurança das  estruturas. Rio de Janeiro, Elsevier, 2019.\n",
    "* HALDAR, A. MAHADEVAN, S. Probability, reliability, and statistical methods in engineering design. New York, Wiley, 2000.\n",
    "* MELCHERS, R.E., BECK, A. T.; Structural reliability analysis and prediction. 3rd ed. John Wiley and Sons, 2018, 514p."
   ]
  },
  {
   "cell_type": "markdown",
   "id": "663eee9d-d7fc-49f1-848a-7cb4379a2c1c",
   "metadata": {
    "tags": []
   },
   "source": [
    "[Voltar ao início do item 3.2](#section_32)"
   ]
  },
  {
   "cell_type": "code",
   "execution_count": null,
   "id": "dc9e6633-ae59-49c5-9b14-09dfde8b8763",
   "metadata": {},
   "outputs": [],
   "source": []
  }
 ],
 "metadata": {
  "colab": {
   "name": "Capítulo_1.ipynb",
   "provenance": []
  },
  "kernelspec": {
   "display_name": "Python 3",
   "language": "python",
   "name": "python3"
  },
  "language_info": {
   "codemirror_mode": {
    "name": "ipython",
    "version": 3
   },
   "file_extension": ".py",
   "mimetype": "text/x-python",
   "name": "python",
   "nbconvert_exporter": "python",
   "pygments_lexer": "ipython3",
   "version": "3.8.5"
  }
 },
 "nbformat": 4,
 "nbformat_minor": 5
}
