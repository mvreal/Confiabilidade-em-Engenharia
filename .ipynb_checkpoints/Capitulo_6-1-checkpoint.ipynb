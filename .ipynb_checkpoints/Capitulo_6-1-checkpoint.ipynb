{
 "cells": [
  {
   "cell_type": "markdown",
   "id": "ebd052e0",
   "metadata": {
    "id": "1dc445f3-8f0f-41b7-a0fa-541467a1d3db"
   },
   "source": [
    "### Universidade Federal do Rio Grande - FURG"
   ]
  },
  {
   "cell_type": "markdown",
   "id": "32a8467a",
   "metadata": {
    "id": "27d28d81-ad30-4559-b52d-0fee9ac96cae"
   },
   "source": [
    "### Escola de Engenharia - EE"
   ]
  },
  {
   "cell_type": "markdown",
   "id": "69825019",
   "metadata": {
    "id": "103a5401-6849-4ee0-a254-08a7f684a870"
   },
   "source": [
    "### Programa de Pós-graduação em Engenharia Oceânica - PPGEO"
   ]
  },
  {
   "cell_type": "markdown",
   "id": "5252d012",
   "metadata": {
    "id": "547b79f5-d7a3-4b02-8ce9-7c1647bff36b"
   },
   "source": [
    "### Disciplina: Confiabilidade em Engenharia"
   ]
  },
  {
   "cell_type": "markdown",
   "id": "897f5842",
   "metadata": {
    "id": "189e93bb-f3e5-4536-9aec-d09046d6929b"
   },
   "source": [
    "### Professor: Dr. Mauro de Vasconcellos Real"
   ]
  },
  {
   "cell_type": "markdown",
   "id": "868ca87f-48ee-493d-84ec-29d130abfedb",
   "metadata": {
    "tags": []
   },
   "source": [
    "# __Aula 11__"
   ]
  },
  {
   "cell_type": "code",
   "execution_count": 1,
   "id": "4743808b-ff9c-46a4-894c-326338165f75",
   "metadata": {},
   "outputs": [],
   "source": [
    "import numpy as np\n",
    "import matplotlib.pyplot as plt"
   ]
  },
  {
   "cell_type": "markdown",
   "id": "5b7adffe-4558-468c-b85f-18ecd68f2c0a",
   "metadata": {
    "id": "ce78f794-4773-4210-bf0c-d89fd0e707f7"
   },
   "source": [
    "# __Capítulo 6 - Simulação numérica e o Método de Monte Carlo__ <a name=\"section_6\"></a>"
   ]
  },
  {
   "cell_type": "markdown",
   "id": "01fbcc7e-2abf-4bc5-ac27-e153e42b4a31",
   "metadata": {
    "id": "3ce4b88f-bb46-49e3-b43f-b2c43671b855"
   },
   "source": [
    "[6.1 - Introdução](#section_61)  \n",
    "[6.2 - O essencial do Método de Simulações de Monte Carlo](#section_62)  \n",
    "[6.3 - Geração de números aleatórios](#section_63)  \n",
    "[6.4 - Determinação da probabilidade de falha através do Método de Monte Carlo](#section_64)   \n",
    "[6.5 - Aplicações do Método de Monte Carlo](#section_65)   \n",
    "[6.6 - Técnicas de redução de variância](#section_66)   \n",
    "[6.7 - Amostragem por importância](#section_67)   "
   ]
  },
  {
   "cell_type": "markdown",
   "id": "4c33fb1b",
   "metadata": {},
   "source": [
    "## __6.1 - Introdução__  <a name=\"section_61\"></a>"
   ]
  },
  {
   "cell_type": "markdown",
   "id": "09ae05d3-425e-4889-bc88-eb350d8feecf",
   "metadata": {},
   "source": [
    "* Simulação consiste em se tentar reproduzir o comportamento de um sistema através de um modelo físico ou matemático."
   ]
  },
  {
   "cell_type": "markdown",
   "id": "784462bf-5912-4dca-b8b7-38146fb5eac2",
   "metadata": {},
   "source": [
    "<img src=\"./images6/simulations.jpg\" alt=\"Simulações numéricas\" style=\"width:474px\"/>"
   ]
  },
  {
   "cell_type": "markdown",
   "id": "60e934d8-4e94-4ff2-ba39-d908fb101f44",
   "metadata": {},
   "source": [
    "Fonte: https://www.researchgate.net/publication/333496524/figure/fig2/AS:764445592649728@1559269440601/Examples-of-the-models-theories-and-case-studies-in-the-accepted-papers_W640.jpg"
   ]
  },
  {
   "cell_type": "markdown",
   "id": "87962e6f-7739-46b8-a3a8-703f62e772c9",
   "metadata": {},
   "source": [
    "* O progresso dos computadores digitais tem incentivado cada vez mais o uso de modelos numéricos.\n",
    "\n",
    "* A resposta de um modelo depende de seus parâmetros de entrada.\n",
    "\n",
    "* Se os parâmetros de entrada de um modelo são variáveis aleatórias, que possuem determinadas distribuições de probabilidade;\n",
    "\n",
    "* Então, a resposta do modelo também será uma variável aleatória."
   ]
  },
  {
   "cell_type": "markdown",
   "id": "6c8b92f8-2158-47c6-946f-efb0c21e0cbd",
   "metadata": {},
   "source": [
    "<img src=\"./images6/monte_carlo.jpg\" alt=\"Simulações de Monte Carlo\" style=\"width:474px\"/>"
   ]
  },
  {
   "cell_type": "markdown",
   "id": "d80913cc-634d-4147-8572-b200d1778488",
   "metadata": {},
   "source": [
    "* Apenas em alguns poucos casos é possível obter-se analiticamente a distribuição de probabilidade da resposta do sistema em função das distribuições de probabilidade das variáveis de entrada (ver Capítulo 4), como por exemplo no caso em que a função $Y$ é igual ao logaritmo neperiano de uma variável aleatória lognormal, conforme a figura abaixo.\n"
   ]
  },
  {
   "cell_type": "markdown",
   "id": "697127fe-902c-4928-b71f-25b4be2e9cac",
   "metadata": {},
   "source": [
    "<img src=\"./images6/lognormal.jpg\" alt=\"Função logarítmica\" style=\"width:800px\"/>"
   ]
  },
  {
   "cell_type": "markdown",
   "id": "4b1ad4c8-2210-4df0-8397-6a08743f280c",
   "metadata": {},
   "source": [
    "* Em geral:\n",
    "* As variáveis de entrada do sistema possuem distribuições de probabilidade as mais diversas. \n",
    "* A resposta do sistema é governada por uma função altamente não-linear.\n",
    "* Não existe uma função $Y=g(X_1,X_2,...,X_n)$ na forma explícita.\n",
    "* Então, não é possível obter-se uma solução analítica para a distribuição de probabilidade da resposta do sistema.\n",
    "* Surge, então, a necessidade da utilização de métodos numéricos que permitam obter uma estimativa da forma da distribuição de probabilidade da resposta do sistema e seus principais momentos, em função das distribuições de probabilidade dos parâmetros de entrada.\n"
   ]
  },
  {
   "cell_type": "markdown",
   "id": "317cc920-db26-4d75-ac37-f683eb362ad1",
   "metadata": {},
   "source": [
    "<img src=\"./images6/resposta_aleatoria.jpg\" alt=\"Resposta aleatória do sistema\" style=\"width:474px\"/>"
   ]
  },
  {
   "cell_type": "markdown",
   "id": "bf1dd074-3986-483e-ab47-f091eaae6063",
   "metadata": {},
   "source": [
    "* O __Método de Monte Carlo__ consiste basicamente em obter-se uma estimativa da distribuição de probabilidade da resposta de um sistema através das seguintes etapas:\n",
    "1. Geração aleatória dos parâmetros de entrada, de acordo com as suas distribuições de probabilidade específicas;\n",
    "2. Realização de inúmeras simulações com um modelo numérico a partir destes dados; \n",
    "3. Análise estatística das diversas respostas encontradas."
   ]
  },
  {
   "cell_type": "markdown",
   "id": "5fdab05a-34f5-4a57-9a97-eb45db7c42d2",
   "metadata": {},
   "source": [
    "## __6.2 - O essencial do Método de Simulação de Monte Carlo__  <a name=\"section_62\"></a>"
   ]
  },
  {
   "cell_type": "code",
   "execution_count": null,
   "id": "431fac47-b501-48f0-ad13-7f28aa1718d1",
   "metadata": {},
   "outputs": [],
   "source": []
  },
  {
   "cell_type": "markdown",
   "id": "aa210e12",
   "metadata": {
    "tags": []
   },
   "source": [
    "[Retornar ao início da aula](#section_6)"
   ]
  },
  {
   "cell_type": "markdown",
   "id": "30a7fc90",
   "metadata": {},
   "source": [
    "## __Bibliografia__"
   ]
  },
  {
   "cell_type": "markdown",
   "id": "e8f44e93",
   "metadata": {},
   "source": [
    "* __Livros__\n",
    "* ANG,  A.  H-S.; TANG,  W. H.. Probability concepts in engineering planning and design. Volume I:  basic principles. New  York, John Wiley & Sons, 1975.\n",
    "* ANG,  A.  H-S.; TANG,  W. H.. Probability concepts in engineering planning and design. Volume II: decision, risk and reliability. New  York, John Wiley & Sons, 1984.\n",
    "* ANG,  A.  H-S.; TANG,  W. H.. Probability concepts in engineering: Emphasis on applications to Civil and Enviromental Engineering.  2nd ed. Hoboken, NJ, John Wiley & Sons, 2007.\n",
    "* BECK, A. T. Confiabilidade e segurança das  estruturas. Rio de Janeiro, Elsevier, 2019.\n",
    "* HALDAR, A. MAHADEVAN, S. Probability, reliability, and statistical methods in engineering design. New York, Wiley, 2000.\n",
    "* MELCHERS, R.E., BECK, A. T.; Structural reliability analysis and prediction. 3rd ed. John Wiley and Sons, 2018, 514p."
   ]
  }
 ],
 "metadata": {
  "colab": {
   "name": "Capítulo_5.ipynb",
   "provenance": []
  },
  "interpreter": {
   "hash": "f189cad14bda9570c78e3484cdd4044273f5880bd3757c16e7bdbbda1060b186"
  },
  "kernelspec": {
   "display_name": "Python 3 (ipykernel)",
   "language": "python",
   "name": "python3"
  },
  "language_info": {
   "codemirror_mode": {
    "name": "ipython",
    "version": 3
   },
   "file_extension": ".py",
   "mimetype": "text/x-python",
   "name": "python",
   "nbconvert_exporter": "python",
   "pygments_lexer": "ipython3",
   "version": "3.8.5"
  }
 },
 "nbformat": 4,
 "nbformat_minor": 5
}
