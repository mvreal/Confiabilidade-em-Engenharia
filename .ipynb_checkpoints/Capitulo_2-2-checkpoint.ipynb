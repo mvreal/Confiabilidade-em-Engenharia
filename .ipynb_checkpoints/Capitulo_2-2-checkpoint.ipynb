{
 "cells": [
  {
   "cell_type": "markdown",
   "id": "1dc445f3-8f0f-41b7-a0fa-541467a1d3db",
   "metadata": {
    "id": "1dc445f3-8f0f-41b7-a0fa-541467a1d3db"
   },
   "source": [
    "### Universidade Federal do Rio Grande - FURG"
   ]
  },
  {
   "cell_type": "markdown",
   "id": "27d28d81-ad30-4559-b52d-0fee9ac96cae",
   "metadata": {
    "id": "27d28d81-ad30-4559-b52d-0fee9ac96cae"
   },
   "source": [
    "### Escola de Engenharia - EE"
   ]
  },
  {
   "cell_type": "markdown",
   "id": "103a5401-6849-4ee0-a254-08a7f684a870",
   "metadata": {
    "id": "103a5401-6849-4ee0-a254-08a7f684a870"
   },
   "source": [
    "### Programa de Pós-graduação em Engenharia Oceânica - PPGEO"
   ]
  },
  {
   "cell_type": "markdown",
   "id": "547b79f5-d7a3-4b02-8ce9-7c1647bff36b",
   "metadata": {
    "id": "547b79f5-d7a3-4b02-8ce9-7c1647bff36b"
   },
   "source": [
    "### Disciplina: Confiabilidade em Engenharia"
   ]
  },
  {
   "cell_type": "markdown",
   "id": "189e93bb-f3e5-4536-9aec-d09046d6929b",
   "metadata": {
    "id": "189e93bb-f3e5-4536-9aec-d09046d6929b"
   },
   "source": [
    "### Professor: Dr. Mauro de Vasconcellos Real"
   ]
  },
  {
   "cell_type": "markdown",
   "id": "0f573eed-b149-49a0-bf9f-5a72b50d1815",
   "metadata": {},
   "source": [
    "# __Aula 04__"
   ]
  },
  {
   "cell_type": "markdown",
   "id": "ce78f794-4773-4210-bf0c-d89fd0e707f7",
   "metadata": {
    "id": "ce78f794-4773-4210-bf0c-d89fd0e707f7"
   },
   "source": [
    "# __Capítulo 2 - Conceitos básicos de probabilidade__"
   ]
  },
  {
   "cell_type": "markdown",
   "id": "8a7ec9ef-8a2d-45a1-8857-317e15ef0f92",
   "metadata": {
    "id": "3764b601-27f8-4189-a03c-e7c7c94f021d"
   },
   "source": [
    "## __2.3 - Matemática da Probabilidade__ <a name=\"section_23\"></a>"
   ]
  },
  {
   "cell_type": "markdown",
   "id": "3ce4b88f-bb46-49e3-b43f-b2c43671b855",
   "metadata": {
    "id": "3ce4b88f-bb46-49e3-b43f-b2c43671b855"
   },
   "source": [
    "[2.3.1 - Axiomas básicos - Regra da Adição](#section_231)  \n",
    "[2.3.2 - Probabilidade Condicional - Regra da Multiplicação](#section_232)  \n",
    "[2.3.3 - Teorema da Probabilidade Total](#section_233)  \n",
    "[2.3.4 - Teorema de Bayes](#section_234)  "
   ]
  },
  {
   "cell_type": "markdown",
   "id": "3e17ec2c-ec34-4711-bf48-764dc8f98e6d",
   "metadata": {
    "id": "3e17ec2c-ec34-4711-bf48-764dc8f98e6d"
   },
   "source": [
    "[2.4 - Observações conclusivas](#section_24)"
   ]
  },
  {
   "cell_type": "markdown",
   "id": "5bafba8c-efa5-4114-9f0e-603f32dbecc4",
   "metadata": {
    "id": "5bafba8c-efa5-4114-9f0e-603f32dbecc4"
   },
   "source": [
    "### 2.3.1 - Axiomas básicos - Regra da Adição  <a name=\"section_231\"></a>"
   ]
  },
  {
   "cell_type": "markdown",
   "id": "ec6594d5-de59-4224-b246-4145b51f644b",
   "metadata": {
    "tags": []
   },
   "source": [
    "#### Axiomas:"
   ]
  },
  {
   "cell_type": "markdown",
   "id": "a750fab9-0042-46ae-b36c-de90f4457692",
   "metadata": {},
   "source": [
    "1. Para todo evento $E$ em um espaço amostral $S$, há uma probabilidade de ocorrência definida: $P(E) \\geq 0$.\n",
    "2. A probabilidade do evento certo $S$ é: $P(S) = 1,0$.\n",
    "3. Para dois __eventos mutuamente exclusivos__, $E_1$ e $E_2$, vale: $P(E_1 \\cup E_2) = P(E_1) + P(E_2)$"
   ]
  },
  {
   "cell_type": "markdown",
   "id": "c8d8ef7f-6ee7-4a79-9583-1a514ca55410",
   "metadata": {},
   "source": [
    "A probabilidade de um evento é uma medida relativa a outros eventos de um mesmo espaço amostral.\n",
    "Logo:\n",
    "* A probabilidade não deve ser negativa (Axioma 1).\n",
    "* A probabilidade de um evento $E$ deve ser normalizada em relação ao evento certo $S$.  \n",
    "\n",
    "Conclui-se dos Axiomas (1) e (2) que:\n",
    "$$ 0 \\leq P(E) \\leq 1,0$$"
   ]
  },
  {
   "cell_type": "markdown",
   "id": "ce9ea7ef-7f69-4dcd-b114-1703be3c45b8",
   "metadata": {
    "tags": []
   },
   "source": [
    "Com relação ao Axioma (3), considerando-se a probabilidade em sua concepção como frequência relativa, se um evento $E_1$ ocorre $n_1$ vezes entre $n$ repetições de um experimento e outro evento $E_2$ ocorre $n_2$ vezes (onde $E_1$ e $E_2$ são mutuamente exclusivos), então $E_1$ e $E_2$ terão ocorrido $(n_1+n_2)$ vezes: \n",
    "$$P(E_1 \\cup E_2) = \\frac{n_1+n_2}{n}=\\frac{n_1}{n} + \\frac{n_2}{n} = P(E_1) + P(E_2)$$"
   ]
  },
  {
   "cell_type": "markdown",
   "id": "61d7f373-493b-49d3-b60c-87ce9b8576bc",
   "metadata": {},
   "source": [
    "Aplicando-se o Axioma (3) ao evento $E$ e ao seu evento complementar $\\overline{E}$, resulta:\n",
    "$$P(E \\cup \\overline{E}) = P(E) + P(\\overline{E})$$\n",
    "Porém:\n",
    "$$E \\cup \\overline{E} = S$$\n",
    "Então:\n",
    "$$P(E \\cup \\overline{E}) = P(E) + P(\\overline{E}) = P(S) = 1,0$$\n",
    "Logo, chega-se à relação:\n",
    "$$P(E)=1,0-P(\\overline{E})$$"
   ]
  },
  {
   "cell_type": "markdown",
   "id": "aae4a1fa-30f3-471a-b99e-9ba64ae54e3c",
   "metadata": {},
   "source": [
    "#### Regra da adição"
   ]
  },
  {
   "cell_type": "markdown",
   "id": "8766a9e1-238d-4de9-8f83-babc118b902c",
   "metadata": {},
   "source": [
    "Se dois eventos __não são mutuamente exclusivos__, conforme o diagrama de Venn mostrado abaixo, então vale:"
   ]
  },
  {
   "cell_type": "markdown",
   "id": "2ffd078c-c534-47a5-a4c0-b413f37c5160",
   "metadata": {},
   "source": [
    "<img src=\"./images2/regra_da_adicao.jpg\" alta=\"Regra da adição\" style=\"width:474px\"/>"
   ]
  },
  {
   "cell_type": "markdown",
   "id": "ac5980ef-2f01-46e2-9d03-64aa14a24420",
   "metadata": {},
   "source": [
    "$$P(E_1 \\cup E_2) = P(E_1) + P(E_2) - P(E_1 \\cap E_2)$$"
   ]
  },
  {
   "cell_type": "markdown",
   "id": "efb29985-b597-4cec-a3c7-17fb846bc513",
   "metadata": {},
   "source": [
    "Nota: As notações $P(E_1 \\cap E_2)$ e $P(E_1 E_2)$ são equivalentes e serão usadas ao longo deste texto para representar a __intersecção__ entre os eventos $E_1$ e $E_2$."
   ]
  },
  {
   "cell_type": "markdown",
   "id": "3173e88e-7fe2-41f5-89fd-7353a93bb2e0",
   "metadata": {},
   "source": [
    "Demonstração:\n",
    "\n",
    "Do diagrama de Venn mostrado acima, pode-se observar que: $E_1 \\cup E_2 = E_1 \\cup \\overline{E_1}E_2$, onde os eventos $E_1$ e $\\overline{E_1}E_2$ são mutuamente exclusivos.\n",
    "Então, pelo Axioma (3), tem-se que:\n",
    "\n",
    "$$P(E_1 \\cup \\overline{E_1}E_2) = P(E_1) + P(\\overline{E_1}E_2)$$\n",
    "\n",
    "Mas:\n",
    "$$\\overline{E_1}E_2 \\cup E_1 E_2 = (\\overline{E_1} \\cup E_1) E_2 = S E_2 = E2$$\n",
    "\n",
    "Então:\n",
    "$$P(\\overline{E_1}E_2 \\cup E_1 E_2) = P(\\overline{E_1}E_2 ) + P(E_1 E_2) = P(E_2)$$\n",
    "\n",
    "Logo:\n",
    "$$P(\\overline{E_1}E_2 ) = P(E_2) - P(E_1 E_2)$$\n",
    "\n",
    "Portanto:\n",
    "$$P(E_1 \\cup E_2) = P(E_1) + P(E_2) - P(E_1 E_2)$$\n",
    "\n",
    "\n"
   ]
  },
  {
   "cell_type": "markdown",
   "id": "631f8d89-fd9e-45be-81de-ba4b4148aa66",
   "metadata": {},
   "source": [
    "Para três eventos, __não mutuamente exclusivos__ , $E_1$, $E_2$ e $E_3$, tem-se que:  \n",
    "\n",
    "$$P(E_1 \\cup E_2 \\cup E_3) = P((E_1 \\cup E_2) \\cup E_3) =P(E_1 \\cup E_2) + P(E_3) - P((E_1 \\cup E_2)E_3)$$\n",
    "\n",
    "\n",
    "$$P(E_1 \\cup E_2 \\cup E_3) = P(E_1) + P(E_2) + P(E_3) - P(E_1 E_2) - P(E_1 E_3) - P(E_2 E_3) + P(E_1 E_2 E_3)$$"
   ]
  },
  {
   "cell_type": "markdown",
   "id": "6fed8a23-83cf-4ab0-ac2c-2bd0effe578c",
   "metadata": {
    "id": "6fed8a23-83cf-4ab0-ac2c-2bd0effe578c"
   },
   "source": [
    "#### Exemplo 2.3 - Probabilidade de falha de uma treliça isostática"
   ]
  },
  {
   "cell_type": "markdown",
   "id": "138ddbbf-122f-44bc-ba8f-a656a7b7c5cd",
   "metadata": {
    "id": "138ddbbf-122f-44bc-ba8f-a656a7b7c5cd"
   },
   "source": [
    "<img src=\"./images2/truss2.jpg\" alt=\"Treliça isostática\" style=\"width:474px\"/>"
   ]
  },
  {
   "cell_type": "markdown",
   "id": "f2f917a9-9329-465e-8b58-b8da595961c7",
   "metadata": {
    "id": "f2f917a9-9329-465e-8b58-b8da595961c7"
   },
   "source": [
    "Sob a ação da carga $F$, as probabilidades de falha das barras individuais $a$, $b$ e $c$ da treliça mostrada na figura acima são $0,04$, $0,03$ e $0,02$, respectivamente. A ruptura de qualquer barra ocasionará a ruína da treliça. Qual a probabilidade de falha da treliça? Admitir independência estatística entre as falhas das barras. \n",
    "\n",
    "__Solução:__ \n",
    "Eventos:\n",
    "* $A$ = falha da barra $a$: $P(A) = 0,04$\n",
    "* $B$ = falha da barra $b$: $P(B) = 0,03$\n",
    "* $C$ = falha da barra $c$: $P(C) = 0,02$\n",
    "\n",
    "* Evento falha da treliça = $A \\cup B \\cup C$: $P(A \\cup B \\cup C)= P(A) + P(B) + P(C) - P(AB) - P(AC) - P(BC) + P(ABC)$\n",
    "\n",
    "* $P(AB) = P(A)P(B) = (0,04)(0,03) = 0,0012$\n",
    "* $P(AC) = P(A)P(C) = (0,04)(0,02) = 0,0008$\n",
    "* $P(BC) = P(B)P(C) = (0,03)(0,02) = 0,0006$\n",
    "* $P(ABC) = P(A)P(B)P(C) = (0,04)(0,03)(0,02) = 0,00024$\n",
    "\n",
    "* Então:\n",
    "$$P(\\rm {falha\\_da\\_trelica}) = 0,04 + 0,03 + 0,02 - 0,0012 - 0,0008 - 0,0006 + 0,00024 = 0,087424 = 8,7424\\%$$\n",
    "* Forma alternativa:\n",
    "$$P(A \\cup B \\cup C) = 1 - P(\\overline{A}\\overline{B}\\overline{C})$$\n",
    "\n",
    "Neste caso:\n",
    "$$P(\\overline{A}\\overline{B}\\overline{C})=P(\\overline{A})P(\\overline{B})P(\\overline{C})=(1-0,04)(1-0,03)(1-0,02)=0,91258$$\n",
    "\n",
    "Com isso,\n",
    "$$P(\\rm {falha\\_da\\_trelica}) = 1 - 0,91258 = 0,087424 =8,7424\\%$$\n"
   ]
  },
  {
   "cell_type": "markdown",
   "id": "97eec637-1536-42d7-9c31-8e2b5b19d444",
   "metadata": {},
   "source": [
    "[Voltar ao início da aula](#section_23)"
   ]
  },
  {
   "cell_type": "markdown",
   "id": "6277fa44-908a-40d9-bfe5-7d1ea81e3f4d",
   "metadata": {},
   "source": [
    "### 2.3.2 - Probabilidade condicional - Regra da multiplicação  <a name=\"section_232\"></a>"
   ]
  },
  {
   "cell_type": "markdown",
   "id": "76e63cc4-5bc1-43dd-b200-ed7492e99a5e",
   "metadata": {},
   "source": [
    "#### Probabilidade condicional"
   ]
  },
  {
   "cell_type": "markdown",
   "id": "cb3e8786-74a7-41b8-8e89-70aa48428d8c",
   "metadata": {
    "id": "cb3e8786-74a7-41b8-8e89-70aa48428d8c"
   },
   "source": [
    "A probabilidade de um evento pode depender da ocorrência (ou da não ocorrência) de outro evento.  \n",
    "Se esta dependência existe, a probabilidade associada a este evento é um __probabilidade condicional__."
   ]
  },
  {
   "cell_type": "markdown",
   "id": "787155f9-ef2e-4c41-a6f2-b44aeffe6877",
   "metadata": {},
   "source": [
    "<img src=\"./images2/interseccao.jpg\" alt=\"Probabilidade condicional\" style=\"width:474px\"/>"
   ]
  },
  {
   "cell_type": "markdown",
   "id": "26bb391a-eac6-4d14-8f4e-4a1e68b694d1",
   "metadata": {},
   "source": [
    "No espaço amostral da figura acima, a probabilidade do evento $E_1$, assumindo que o evento $E_2$ ocorreu, representada por $P(E_1|E_2)$, ou seja, a probabilidade condicional de $E_1$ dado $E_2$ é:  \n",
    "\n",
    "$$P(E_1|E_2)=\\frac{P(E_1 E_2)}{P(E_2)}$$\n",
    "\n",
    "Isto significa a probabilidade de concretização de um ponto amostral de $E_1$, dentro do espaço amostral reconstituído de $E_2$."
   ]
  },
  {
   "cell_type": "markdown",
   "id": "18f9f645-6b81-4167-b5a7-1a143c128248",
   "metadata": {},
   "source": [
    "A probabilidade condicional é meramente uma generalização da probabilidade de um evento. Quando se fala de probabilidade de um evento $E$, esta está implicitamente condicionada ao espaço $S$.\n",
    "Ou seja, $P(E)$ seria escrito da forma conforme a figura abaixo:\n",
    "\n",
    "$$P(E|S) = \\frac{P(E \\cap S)}{P(S)}=P(E)$$\n",
    "\n",
    "Quando a proabilidade é condicionada a um evento que não seja o espaço amostral original $S$, o __espaço amostral reconstituído__ deve ser explicitado no problema."
   ]
  },
  {
   "cell_type": "markdown",
   "id": "441b6369-7154-456b-9602-ed9e11bb1183",
   "metadata": {},
   "source": [
    "Também se deve observar que:\n",
    "\n",
    "$$P(E_1|E_2) + P(\\overline{E_1}|E_2) = \\frac{P(E_1 E_2)}{P(E_2)} + \\frac{P(\\overline{E_1} E_2)}{P(E_2)} = \\frac{1}{P(E_2)}P\\left[(E_1 \\cup \\overline{E_1}) E_2\\right] = \\frac{P(E_2)}{P(E_2)} = 1,0$$\n",
    "\n",
    "Logo:\n",
    "\n",
    "$$ P(\\overline{E_1}|E_2) = 1,0 - P(E_1|E_2)$$\n",
    "\n",
    "Esta expressão é válida, porque tanto o evento $E_1$ como seu complemento $\\overline{E_1}$  se referem ao mesmo espaço amostral reconstituído $E_2$."
   ]
  },
  {
   "cell_type": "markdown",
   "id": "31ce3c4d-56af-497c-afef-2cd2500eb190",
   "metadata": {},
   "source": [
    "#### Regra da Multiplicação"
   ]
  },
  {
   "cell_type": "markdown",
   "id": "95e4cc76-b7a3-4118-8e15-def68d27c881",
   "metadata": {},
   "source": [
    "A probabilidade de um evento conjunto $E_1 E_2$ ($E_1 \\cap E_2$) é dada pela __regra da multiplicação__:\n",
    "\n",
    "$$P(E_1 E_2) = P(E_1 | E_2) P(E_2)$$\n",
    "\n",
    "ou \n",
    "\n",
    "$$P(E_1 E_2) = P(E_2 | E_1) P(E_1)$$\n",
    "\n",
    "Se E_1 e E_2 são eventos estatisticamente independentes, então, a regra da multiplicação vem a ser:\n",
    "\n",
    "$$P(E_1 E_2) = P(E_1) P(E_2)$$\n",
    "\n",
    "Se $E_1$ e $E_2$ são estatisticamente independentes, seus complementos, $\\bar{E_1}$ e $\\bar{E_2}$, também são estatisticamente independentes. Isto pode ser verificado no caso de dois eventos, como se segue, através da aplicação da __Regra de Morgan__:\n",
    "\n",
    "$$P(\\bar{E_1} \\cap \\bar{E_2}) = P(\\overline{E_1 \\cup E_2}) = 1 - P(E_1 \\cup E_2) = 1 - \\left[P(E_1) + P(E_2) - P(E_1)P(E_2) \\right] = \\left[1 -P(E_1) \\right]  \\left[1 -P(E_2) \\right] = P(\\bar{E_1}) P( \\bar{E_2})$$\n",
    "\n",
    "Todas as regras matemáticas pertinentes à probabilidade se aplicam da mesma forma a probabilidades condicionais dentro do mesmo espaço amostral reconstituído, incluindo:\n",
    "\n",
    "$$P\\left[(E_1 \\cup E_2)|A\\right] = P(E_1|A) + P(E_2|A) - P \\left[(E_1 \\cap E_2)|A\\right]$$\n",
    "\n",
    "e\n",
    "\n",
    "$$P\\left[(E_1 E_2)|A\\right] = P\\left[(E_1 | E_2)|A\\right] P(E_2|A)$$\n",
    "\n",
    "No caso de os eventos $E_1$ e $E_2$ serem estatisticamente independentes, resulta:\n",
    "\n",
    "$$P\\left[(E_1 E_2)|A\\right] = P(E_1|A) P(E_2|A)$$"
   ]
  },
  {
   "cell_type": "markdown",
   "id": "7f3ed019-a800-4b96-b3f1-30ffaff041a5",
   "metadata": {},
   "source": [
    "#### Exemplo 2.4"
   ]
  },
  {
   "cell_type": "markdown",
   "id": "58083f81-27ce-4dff-bc54-dfef2f8b2b42",
   "metadata": {},
   "source": [
    "Considere-se novamente uma cadeia consiste de dois elos, como mostrado na figura abaixo. Se a força $F$ aplicada for de $100 kN$, é óbvio que qualquer  ela da cadeia irá romper se a sua resistência for menor que $100 kN$. Suponha que a probabilidade de isto ocorrer a cada um dos elos seja de $0,05$. Qual a probabilidade de falha da cadeia? "
   ]
  },
  {
   "cell_type": "markdown",
   "id": "0a344f48-eabf-48ce-8bd0-acd22ac11c82",
   "metadata": {},
   "source": [
    "<img src=\"./images2/elos_em_cadeia.jpg\" alt=\"cadeia de elos\" style=\"width:474px\"/>"
   ]
  },
  {
   "cell_type": "markdown",
   "id": "9e5bbb30-806d-469d-972f-efd6f3d0cfdc",
   "metadata": {},
   "source": [
    "Fonte: ANG,  A.  H-S.; TANG,  W. H.. Probability concepts in engineering: Emphasis on applications to Civil and Enviromental Engineering.  2nd ed. Hoboken, NJ, John Wiley & Sons, 2007."
   ]
  },
  {
   "cell_type": "markdown",
   "id": "0cebbdd2-bf0b-46e0-9795-f335d882fc9a",
   "metadata": {},
   "source": [
    "* Evento $E_1$ = falha no elo 1."
   ]
  },
  {
   "cell_type": "markdown",
   "id": "4a897e86-4bd8-49f2-99a6-48e2424481e5",
   "metadata": {},
   "source": [
    "* Evento $E_2$ = falha no elo 2."
   ]
  },
  {
   "cell_type": "markdown",
   "id": "29031f2f-ad81-4bce-8004-27e6c7824f88",
   "metadata": {},
   "source": [
    "* Evento falha na cadeia = $E_1 \\cup E_2$\n",
    "\n",
    "$$P(E_1 \\cup E_2) = P(E_1) + P(E_2) - P(E_1 \\cap E_2) = 0,05 + 0,05 - P(E_1|E_2) P(E_1) = 0,10 - 0,05 P(E_1|E_2)$$"
   ]
  },
  {
   "cell_type": "markdown",
   "id": "2be0e350-abf3-4822-9191-355776dfcab3",
   "metadata": {},
   "source": [
    "* Observa-se que o conhecimento da probabilidade condicional $P(E_1|E_2)$ é necessário, e que a mesma será uma função do grau de dependência entre os eventos $E_1$ e $E_2$."
   ]
  },
  {
   "cell_type": "markdown",
   "id": "d7ff39d3-5012-4b1e-b3f8-3199bc664200",
   "metadata": {},
   "source": [
    "* Por exemplo, se os elos forem selecionados aleatoriamente, de dois fornecedores diferentes, então $E_1$ e $E_2$ podem ser considerados estatisticamente independentes, e, com isso:\n",
    "\n",
    "$$P(E_1 \\cup E_2) = 0,10 - 0,05 . 0,05 = 0,0975$$"
   ]
  },
  {
   "cell_type": "markdown",
   "id": "644279e4-5c74-4d1c-bbff-d7675e466732",
   "metadata": {},
   "source": [
    "* Por outro lado, se os dois elos forem feitos da mesma barra de aço, pelo mesmo fabricante, espera-se que as características dos dois elos sejam bastante semelhantes. No caso extremo, a resistência dos dois elos pode ser considerada a mesma; assim, tem-se que $P(E_1|E_2)=1,0$. Portanto:\n",
    "\n",
    "$$P(E_1 \\cup E_2) = 0,10 - 0,05 . 1,00 = 0,05$$\n",
    "\n",
    "* Note-se que $0,05$ é a mesma probabilidade de falha de um elo.\n",
    "\n",
    "* A probabilidade de falha da cadeia, então, varia entre $0,05$ e $0,0975$, dependendo da probabilidade condicional $P(E_1|E_2)$, a qual é uma função da correlação existente entre as resistências dos dois elos."
   ]
  },
  {
   "cell_type": "markdown",
   "id": "cb0e06bf-941b-4f3b-8d7a-7e9983540574",
   "metadata": {},
   "source": [
    "[Voltar ao início da aula](#section_23)"
   ]
  },
  {
   "cell_type": "markdown",
   "id": "0684bbaf-ce99-4651-92a1-10e0ae2be642",
   "metadata": {},
   "source": [
    "### 2.3.3 - Teorema da Probabilidade Total  <a name=\"section_233\"></a>"
   ]
  },
  {
   "cell_type": "markdown",
   "id": "db030900-4723-40a0-a8ad-68070ed5d128",
   "metadata": {},
   "source": [
    "Sendo $n$ eventos, __mutuamente exclusivos__ e __coletivamente exaustivos__, $E_1, E_2, ..., E_n$, tais que $E_1 \\cup E_2 \\cup ... \\cup E_n = S$ e $A$ um evento no mesmo espaço amostral $S$, conforme a figura abaixo, tem-se que:"
   ]
  },
  {
   "cell_type": "markdown",
   "id": "a3ee14eb-5c9b-4fc3-8e96-545e31a3cc4d",
   "metadata": {},
   "source": [
    "<img src=\"./images2/probabilidade_total.jpg\" alt=\"Teorema da Probabilidade Total\" style=\"width:474px\"/>"
   ]
  },
  {
   "cell_type": "markdown",
   "id": "5f600446-0630-4336-8cea-3e6b7943d1d9",
   "metadata": {},
   "source": [
    "$$ A = A S$$\n",
    "$$ A = A (E_1 \\cup E_2 \\cup ... \\cup E_n)$$\n",
    "$$ A = A E_1 \\cup A E_2 \\cup ... \\cup A E_n$$\n",
    "\n",
    "Logo:\n",
    "\n",
    "$$ P(A) = P(A|E_1).P(E_1) + P(A|E_2).P(E_2) + ... + P(A|E_n).P(E_n)$$\n",
    "\n",
    "Onde $A E_1, A E_2, ..., A E_n$ são também eventos __mutuamente exclusivos__.\n",
    "Este resultado é conhecido como o __Teorema da Probabilidade Total__."
   ]
  },
  {
   "cell_type": "markdown",
   "id": "9a89bd8f-d83f-4d23-8d1e-7e8696678c89",
   "metadata": {},
   "source": [
    "#### Exemplo 2.5 - Aplicação do Teorema da Probabilidade Total"
   ]
  },
  {
   "cell_type": "markdown",
   "id": "fb33d3e9-40c8-4c24-9e82-1fbb70b31357",
   "metadata": {},
   "source": [
    "A viga biapoiada com um balanço, mostrada na figura abaixo, é submetida a ação de uma carga $P$, que pode atuar ou no ponto $A$, ou no ponto $B$. A probabilidade de a carga $P$ atuar no ponto $A$ é de $70\\%$, enquanto a probabilidade de a mesma atuar no ponto $B$ é de $30\\%$. Se a carga estiver sobre o ponto $A$, a probabilidade de falhar por flexão é de $0,01$ e a probabilidade de falhar por esforço cortante é de $0,001$. Por outro lado, quando a carga estiver atuando sobre o ponto $B$ a chance de a viga falhar por flexão passa a ser de $0,02$, enquanto que a chance de falha por esforço cortante permanece a mesma. Independentemente da posição da carga, se ocorrer uma falha por esforço cortante, a chance de ocorrer a falha por flexão é de $90\\%$. Calcular a probabilidade de falha total para esta viga."
   ]
  },
  {
   "cell_type": "markdown",
   "id": "313ff26a-23cc-4032-b355-6bd3f0e65f02",
   "metadata": {},
   "source": [
    "<img src=\"./images2/viga_balanco.jpg\" alt=\"Viga biapoiada em balanço\" style=\"width:474px\"/>"
   ]
  },
  {
   "cell_type": "markdown",
   "id": "cc22b9fa-10a6-415f-b8fa-b225c11f57a2",
   "metadata": {
    "tags": []
   },
   "source": [
    "Fonte: Adaptada de Beer, F.P. et al. Mechanics of Materials, 5 ed. New York, McGraw-Hill, 2009. "
   ]
  },
  {
   "cell_type": "markdown",
   "id": "8860e9a7-a097-45aa-95f1-be740d5d4d57",
   "metadata": {},
   "source": [
    "* __Solução:__\n",
    "\n",
    "Eventos:\n",
    "\n",
    "$A$: a carga está aplicada no ponto $A$.  \n",
    "$B$: a carga está aplicada no ponto $B$.  \n",
    "$F$: a viga falha por flexão.  \n",
    "$S$: a viga falha por esforço cortante (shear).  \n",
    "$C$: colapso da viga.  \n",
    "\n",
    "1. Cálculo da probabilidade de falha no ponto $A$:\n",
    "\n",
    "$$P(C|A) = P(F|A) + P(S|A) - P[(F \\cap S)|A]$$\n",
    "\n",
    "Observe-se que: $P(F \\cap S) = P(F|S)P(S)$.\n",
    "\n",
    "$$P(C|A) = 0,01 + 0,001 - 0,90.0,001 = 0,0101$$\n",
    "\n",
    "2. Cálculo da probabilidade de falha no ponto $B$:\n",
    "\n",
    "$$P(C|B) = P(F|B) + P(S|B) - P[(F \\cap S)|B]$$\n",
    "\n",
    "$$P(C|A) = 0,02 + 0,001 - 0,90.0,001 = 0,0201$$\n",
    "\n",
    "3. Cálculo da probabilidade de colapso da viga (Teorema da Probabilidade Total):\n",
    "\n",
    "$$ P(C) = P(C|A)P(A) + P(C|B).P(B)$$\n",
    "\n",
    "$$ P(C) = 0,0101 . 0,70 + 0,0201 . 0,30 = 0,0171 = 1,71\\%$$"
   ]
  },
  {
   "cell_type": "markdown",
   "id": "60a9f2c9-e99c-4fbb-8733-4b2b160dc52f",
   "metadata": {},
   "source": [
    "[Voltar ao início da aula](#section_23)"
   ]
  },
  {
   "cell_type": "markdown",
   "id": "d101221d-0697-45e5-83f2-364397c1bd8a",
   "metadata": {},
   "source": [
    "### 2.3.4 - Teorema de Bayes  <a name=\"section_234\"></a>"
   ]
  },
  {
   "cell_type": "markdown",
   "id": "df72f5c7-223e-44a8-ab39-ef6f30f1d445",
   "metadata": {},
   "source": [
    "Dadas as mesmas condições de aplicação do Teorema da Probabilidade Total, indicadas na figura abaixo, se o evento $A$ ocorreu, qual a probabilidade de que o evento $E_i$ também ocorra?"
   ]
  },
  {
   "cell_type": "markdown",
   "id": "3f2f87d7-d192-4291-9d8e-754e83a18473",
   "metadata": {},
   "source": [
    "<img src=\"./images2/probabilidade_total.jpg\" alt=\"Teorema da Probabilidade Total\" style=\"width:474px\"/>"
   ]
  },
  {
   "cell_type": "markdown",
   "id": "56ce624b-4a36-4162-ae1f-d7aa7059709f",
   "metadata": {},
   "source": [
    "Pela Regra da Multiplicação:\n",
    "\n",
    "$$ P(A \\cap E_i) = P(A|E_i)P(E_i) = P(E_i|A) P(A)$$\n",
    "\n",
    "Logo:\n",
    "\n",
    "$$P(E_i|A) = \\frac{P(A|E_i)P(E_i)}{P(A)}$$\n",
    "\n",
    "Esta equação representa o __Teorema de Bayes__, e permite o cálculo da probabilidade reversa $P(E_i|A)$.\n",
    "\n",
    "Pelo __Teorema da Probabilidade Total__:\n",
    "\n",
    "$$P(A) = \\sum_{j=1}^{n}{P(A|E_j)P(E_j)}$$"
   ]
  },
  {
   "cell_type": "markdown",
   "id": "65ed37b2-4850-49d2-ad1c-764845217e10",
   "metadata": {},
   "source": [
    "Então resulta que:\n",
    "\n",
    "$$P(E_i|A) = \\frac{P(A|E_i)P(E_i)}{\\sum_{j=1}^{n}{P(A|E_j)P(E_j)}}$$\n",
    "\n",
    "Esta é a expressão geral do __Teorema de Bayes__."
   ]
  },
  {
   "cell_type": "markdown",
   "id": "54a384d5-4608-4150-982d-89f78773058a",
   "metadata": {},
   "source": [
    "#### Exemplo 2.6 - Aplicação do Teorema de Bayes - Prova de carga em estacas de fundação"
   ]
  },
  {
   "cell_type": "markdown",
   "id": "cd3e3ffa-0e04-4925-a842-cea1b29f5e8c",
   "metadata": {
    "tags": []
   },
   "source": [
    "<img src=\"./images2/prova_de_carga.jpg\" style=\"474px\"/>"
   ]
  },
  {
   "cell_type": "markdown",
   "id": "a539ff03-1eb9-459d-b8f7-1e7e80f4a748",
   "metadata": {},
   "source": [
    "Um grupo de estacas de fundação pode suportar uma carga de até $2.000 kN$. Porém, em situações de sobrecarga, o carregamento total pode chegar até $3.000 kN$. O engenheiro de fundações deseja saber qual a probabilidade de o grupo de estacas suportar esta carga excepcional de $3.000 kN$. Da experiência prévia da construção de outros grupos de estacas na mesma obra, sabe-se que existe uma probabilidade $70%$ de que a capacidade última da fundação seja superior a $P_u = 3.000 kN$. Porém, em grupos de estacas para os quais $P_u \\leq 3.000 kN$, há uma chance de $50\\%$ de que $P_u \\leq 2.800 kN$. Então o engenheiro de fundações solicita  uma prova de carga de $2.800 kN$. Qual a probabilidade de o grupo de estacas suportar a carga excepcional de $3.000 kN$, se a prova de carga for bem sucedida?"
   ]
  },
  {
   "cell_type": "markdown",
   "id": "78ed07d5-45eb-4463-96de-1b3266501b70",
   "metadata": {},
   "source": [
    "<img src=\"./images2/teorema_de_bayes.jpg\" alt=\"Teorema de Bayes\" style=\"width:474px\"/>"
   ]
  },
  {
   "cell_type": "markdown",
   "id": "870658bb-027b-467b-8440-ea244cd05dfa",
   "metadata": {},
   "source": [
    "* __Solução:__\n",
    "\n",
    "Eventos:\n",
    "\n",
    "$A$ = a capacidade de carga é maior ou igual que $3.000 kN$.  \n",
    "$\\overline{A}$ = a capacidade de carga é menor que $3.000 kN$.  \n",
    "$T$ = a prova de carga é bem sucedida, ou seja, $P_u \\geq 2.800 kN$  \n",
    "\n",
    "1. Cálculo da probabilidade de a prova de carga ser bem sucedida:\n",
    "\n",
    "Note-se que:\n",
    "\n",
    "$P(A) = 0,70$\n",
    "\n",
    "Logo: $P(\\overline{A}) = 1 - P(A) = 0,30$  \n",
    "\n",
    "$P(\\overline{T}|\\overline{A}) = 0,50$ (chance de a carga ser menor que $2.800 kN$, se for menor que $3.000 kN$).\n",
    "\n",
    "Logo: $P(T|\\overline{A}) = 1 - P(\\overline{T}|\\overline{A}) = 0,50$\n",
    "\n",
    "\n",
    "$$P(T) = P(T|A)P(A) + P(T|\\overline{A})P(\\overline{A}) = 1,00 . 0,70 + 0,50 . 0,30 = 0,85 = 85\\%$$\n",
    "\n",
    "\n",
    "2. Cálculo da probabiliadde de capacidade de carga ser superior a $3.000 kN$ se a prova de carga for bem sucedida (Teorema de Bayes):\n",
    "\n",
    "$$P(A|T) = \\frac{P(T|A)P(A)}{P(T)} = \\frac{1,00 . 0,70}{ 0,85} = 0,8235= 82,35\\%$$\n",
    "\n",
    "Após uma prova de carga de $2.800 kN$ bem sucedida, a chance de o grupo de estacas suportar uma carga de $3.000 kN$ cresce de $70\\%$ para $82,35\\%$!\n",
    "\n"
   ]
  },
  {
   "cell_type": "markdown",
   "id": "d5b14684-767b-4267-97fb-90edb1192233",
   "metadata": {},
   "source": [
    "[Voltar ao início da aula](#section_23)"
   ]
  },
  {
   "cell_type": "markdown",
   "id": "cfacf4e1-2bd2-46a6-affc-eb85c203940e",
   "metadata": {},
   "source": [
    "## __2.4 - Observações conclusivas__ <a name=\"section_24\"></a>\n",
    "\n",
    "* Um problema probabilístico envolve a determininação da proababilidade de um evento dentro de um conjunto exaustivo de possibilidades (espaço de possibilidades).\n",
    "\n",
    "* Principais etapas na formulação e solução de um problema probabilístico:\n",
    "1. Definição do espaço de possibilidades completo e identificação do evento dentro deste espaço.\n",
    "2. Cálculo da probabilidade do evento\n",
    "\n",
    "* Bases para o cálculo de probabilidades:"
   ]
  },
  {
   "cell_type": "markdown",
   "id": "4f1c1f22-2e69-4d03-aa8c-e277048d9262",
   "metadata": {},
   "source": [
    "<img src=\"./images2/teoria_dos_conjuntos.jpg\" alt=\"Teoria dos Conjuntos\" style=\"width:800px\"/>"
   ]
  },
  {
   "cell_type": "markdown",
   "id": "dc7912ba-8d96-4e1a-bb1d-e2d08fb3ee4e",
   "metadata": {},
   "source": [
    "<img src=\"./images2/teoria_da_probabilidade.jpg\" alt=\"Teoria da Probabilidade\" style=\"width:800px\"/>"
   ]
  },
  {
   "cell_type": "markdown",
   "id": "be70b3fe-555a-4b8b-b695-1836fd08c3e1",
   "metadata": {},
   "source": [
    "[Voltar ao início da aula](#section_23)"
   ]
  },
  {
   "cell_type": "markdown",
   "id": "ae7a3996-865a-43f1-8a84-352cb1830ca9",
   "metadata": {},
   "source": [
    "## __Bibliografia__"
   ]
  },
  {
   "cell_type": "markdown",
   "id": "22843f6f-9513-4934-85e2-79f9121882c1",
   "metadata": {},
   "source": [
    "* __Livros__\n",
    "* ANG,  A.  H-S.; TANG,  W. H.. Probability concepts in engineering planning and design. Volume I:  basic principles. New  York, John Wiley & Sons, 1975.\n",
    "* ANG,  A.  H-S.; TANG,  W. H.. Probability concepts in engineering planning and design. Volume II: decision, risk and reliability. New  York, John Wiley & Sons, 1984.\n",
    "* ANG,  A.  H-S.; TANG,  W. H.. Probability concepts in engineering: Emphasis on applications to Civil and Enviromental Engineering.  2nd ed. Hoboken, NJ, John Wiley & Sons, 2007.\n",
    "* BECK, A. T. Confiabilidade e segurança das  estruturas. Rio de Janeiro, Elsevier, 2019.\n",
    "* HALDAR, A. MAHADEVAN, S. Probability, reliability, and statistical methods in engineering design. New York, Wiley, 2000.\n",
    "* MELCHERS, R.E., BECK, A. T.; Structural reliability analysis and prediction. 3rd ed. John Wiley and Sons, 2018, 514p."
   ]
  },
  {
   "cell_type": "code",
   "execution_count": null,
   "id": "ee22730c-3972-449a-b4df-45c9f5c6f071",
   "metadata": {},
   "outputs": [],
   "source": []
  }
 ],
 "metadata": {
  "colab": {
   "name": "Capítulo_1.ipynb",
   "provenance": []
  },
  "kernelspec": {
   "display_name": "Python 3",
   "language": "python",
   "name": "python3"
  },
  "language_info": {
   "codemirror_mode": {
    "name": "ipython",
    "version": 3
   },
   "file_extension": ".py",
   "mimetype": "text/x-python",
   "name": "python",
   "nbconvert_exporter": "python",
   "pygments_lexer": "ipython3",
   "version": "3.8.5"
  }
 },
 "nbformat": 4,
 "nbformat_minor": 5
}
