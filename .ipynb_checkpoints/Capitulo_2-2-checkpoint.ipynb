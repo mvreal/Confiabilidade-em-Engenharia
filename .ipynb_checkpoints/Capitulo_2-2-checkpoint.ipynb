{
 "cells": [
  {
   "cell_type": "markdown",
   "id": "1dc445f3-8f0f-41b7-a0fa-541467a1d3db",
   "metadata": {
    "id": "1dc445f3-8f0f-41b7-a0fa-541467a1d3db"
   },
   "source": [
    "### Universidade Federal do Rio Grande - FURG"
   ]
  },
  {
   "cell_type": "markdown",
   "id": "27d28d81-ad30-4559-b52d-0fee9ac96cae",
   "metadata": {
    "id": "27d28d81-ad30-4559-b52d-0fee9ac96cae"
   },
   "source": [
    "### Escola de Engenharia - EE"
   ]
  },
  {
   "cell_type": "markdown",
   "id": "103a5401-6849-4ee0-a254-08a7f684a870",
   "metadata": {
    "id": "103a5401-6849-4ee0-a254-08a7f684a870"
   },
   "source": [
    "### Programa de Pós-graduação em Engenharia Oceânica - PPGEO"
   ]
  },
  {
   "cell_type": "markdown",
   "id": "547b79f5-d7a3-4b02-8ce9-7c1647bff36b",
   "metadata": {
    "id": "547b79f5-d7a3-4b02-8ce9-7c1647bff36b"
   },
   "source": [
    "### Disciplina: Confiabilidade em Engenharia"
   ]
  },
  {
   "cell_type": "markdown",
   "id": "189e93bb-f3e5-4536-9aec-d09046d6929b",
   "metadata": {
    "id": "189e93bb-f3e5-4536-9aec-d09046d6929b"
   },
   "source": [
    "### Professor: Dr. Mauro de Vasconcellos Real"
   ]
  },
  {
   "cell_type": "markdown",
   "id": "0f573eed-b149-49a0-bf9f-5a72b50d1815",
   "metadata": {},
   "source": [
    "# __Aula 04__"
   ]
  },
  {
   "cell_type": "markdown",
   "id": "ce78f794-4773-4210-bf0c-d89fd0e707f7",
   "metadata": {
    "id": "ce78f794-4773-4210-bf0c-d89fd0e707f7"
   },
   "source": [
    "# __Capítulo 2 - Conceitos básicos de probabilidade__"
   ]
  },
  {
   "cell_type": "markdown",
   "id": "3ce4b88f-bb46-49e3-b43f-b2c43671b855",
   "metadata": {
    "id": "3ce4b88f-bb46-49e3-b43f-b2c43671b855"
   },
   "source": [
    "[2.3 - Matemática da Probabilidade](#section_3)"
   ]
  },
  {
   "cell_type": "markdown",
   "id": "3e17ec2c-ec34-4711-bf48-764dc8f98e6d",
   "metadata": {
    "id": "3e17ec2c-ec34-4711-bf48-764dc8f98e6d"
   },
   "source": [
    "[2.4 - Observações conclusivas](#section_4)"
   ]
  },
  {
   "cell_type": "code",
   "execution_count": 1,
   "id": "22361b47-4a21-4384-a93a-98f7923ab7e7",
   "metadata": {},
   "outputs": [],
   "source": [
    "import numpy as np"
   ]
  },
  {
   "cell_type": "markdown",
   "id": "3764b601-27f8-4189-a03c-e7c7c94f021d",
   "metadata": {
    "id": "3764b601-27f8-4189-a03c-e7c7c94f021d"
   },
   "source": [
    "## __2.3 - Matemática da Probabilidade__ <a name=\"section_3\"></a>"
   ]
  },
  {
   "cell_type": "markdown",
   "id": "5bafba8c-efa5-4114-9f0e-603f32dbecc4",
   "metadata": {
    "id": "5bafba8c-efa5-4114-9f0e-603f32dbecc4"
   },
   "source": [
    "### 2.3.1 - Axiomas básicos - Regra da Adição"
   ]
  },
  {
   "cell_type": "markdown",
   "id": "ec6594d5-de59-4224-b246-4145b51f644b",
   "metadata": {
    "tags": []
   },
   "source": [
    "#### Axiomas:"
   ]
  },
  {
   "cell_type": "markdown",
   "id": "a750fab9-0042-46ae-b36c-de90f4457692",
   "metadata": {},
   "source": [
    "1. Para todo evento $E$ em um espaço amostral $S$, há uma probabilidade de ocorrência definida: $P(E) \\geq 0$.\n",
    "2. A probabilidade do evento certo $S$ é: $P(S) = 1,0$.\n",
    "3. Para dois __eventos mutuamente exclusivos__, $E_1$ e $E_2$, vale: $P(E_1 \\cup E_2) = P(E_1) + P(E_2)$"
   ]
  },
  {
   "cell_type": "markdown",
   "id": "c8d8ef7f-6ee7-4a79-9583-1a514ca55410",
   "metadata": {},
   "source": [
    "A probabilidade de um evento é uma medida relativa a outros eventos de um mesmo espaço amostral.\n",
    "Logo:\n",
    "* A probabilidade não deve ser negativa (Axioma 1).\n",
    "* A probabilidade de um evento $E$ deve ser normalizada em relação ao evento certo $S$.  \n",
    "\n",
    "Conclui-se dos Axiomas (1) e (2) que:\n",
    "$$ 0 \\leq P(E) \\leq 1,0$$"
   ]
  },
  {
   "cell_type": "markdown",
   "id": "ce9ea7ef-7f69-4dcd-b114-1703be3c45b8",
   "metadata": {
    "tags": []
   },
   "source": [
    "Com relação ao Axioma (3), considerando-se a probabilidade em sua concepção como frequência relativa, se um evento $E_1$ ocorre $n_1$ vezes entre $n$ repetições de um experimento e outro evento $E_2$ ocorre $n_2$ vezes (onde $E_1$ e $E_2$ são mutuamente exclusivos), então $E_1$ e $E_2$ terão ocorrido $(n_1+n_2)$ vezes: \n",
    "$$P(E_1 \\cup E_2) = \\frac{n_1+n_2}{n}=\\frac{n_1}{n} + \\frac{n_2}{n} = P(E_1) + P(E_2)$$"
   ]
  },
  {
   "cell_type": "markdown",
   "id": "61d7f373-493b-49d3-b60c-87ce9b8576bc",
   "metadata": {},
   "source": [
    "Aplicando-se o Axioma (3) ao evento $E$ e ao seu evento complementar $\\overline{E}$, resulta:\n",
    "$$P(E \\cup \\overline{E}) = P(E) + P(\\overline{E})$$\n",
    "Porém:\n",
    "$$E \\cup \\overline{E} = S$$\n",
    "Então:\n",
    "$$P(E \\cup \\overline{E}) = P(E) + P(\\overline{E}) = P(S) = 1,0$$\n",
    "Logo, chega-se à relação:\n",
    "$$P(E)=1,0-P(\\overline{E})$$"
   ]
  },
  {
   "cell_type": "markdown",
   "id": "aae4a1fa-30f3-471a-b99e-9ba64ae54e3c",
   "metadata": {},
   "source": [
    "#### Regra da adição"
   ]
  },
  {
   "cell_type": "markdown",
   "id": "8766a9e1-238d-4de9-8f83-babc118b902c",
   "metadata": {},
   "source": [
    "Se dois eventos __não são mutuamente exclusivos__, conforme o diagrama de Venn mostrado abaixo, então vale:"
   ]
  },
  {
   "cell_type": "markdown",
   "id": "2ffd078c-c534-47a5-a4c0-b413f37c5160",
   "metadata": {},
   "source": [
    "<img src=\"./images2/regra_da_adicao.jpg\" alta=\"Regra da adição\" style=\"width:474px\"/>"
   ]
  },
  {
   "cell_type": "markdown",
   "id": "ac5980ef-2f01-46e2-9d03-64aa14a24420",
   "metadata": {},
   "source": [
    "$$P(E_1 \\cup E_2) = P(E_1) + P(E_2) - P(E_1 \\cap E_2)$$"
   ]
  },
  {
   "cell_type": "markdown",
   "id": "efb29985-b597-4cec-a3c7-17fb846bc513",
   "metadata": {},
   "source": [
    "Nota: As notações $P(E_1 \\cap E_2)$ e $P(E_1 E_2)$ são equivalentes e serão usadas ao longo deste texto para representar a __intersecção__ entre os eventos $E_1$ e $E_2$."
   ]
  },
  {
   "cell_type": "markdown",
   "id": "3173e88e-7fe2-41f5-89fd-7353a93bb2e0",
   "metadata": {},
   "source": [
    "Demonstração:\n",
    "\n",
    "Do diagrama de Venn mostrado acima, pode-se observar que: $E_1 \\cup E_2 = E_1 \\cup \\overline{E_1}E_2$, onde os eventos $E_1$ e $\\overline{E_1}E_2$ são mutuamente exclusivos.\n",
    "Então, pelo Axioma (3), tem-se que:\n",
    "\n",
    "$$P(E_1 \\cup \\overline{E_1}E_2) = P(E_1) + P(\\overline{E_1}E_2)$$\n",
    "\n",
    "Mas:\n",
    "$$\\overline{E_1}E_2 \\cup E_1 E_2 = (\\overline{E_1} \\cup E_1) E_2 = S E_2 = E2$$\n",
    "\n",
    "Então:\n",
    "$$P(\\overline{E_1}E_2 \\cup E_1 E_2) = P(\\overline{E_1}E_2 ) + P(E_1 E_2) = P(E_2)$$\n",
    "\n",
    "Logo:\n",
    "$$P(\\overline{E_1}E_2 ) = P(E_2) - P(E_1 E_2)$$\n",
    "\n",
    "Portanto:\n",
    "$$P(E_1 \\cup E_2) = P(E_1) + P(E_2) - P(E_1 E_2)$$\n",
    "\n",
    "\n"
   ]
  },
  {
   "cell_type": "markdown",
   "id": "631f8d89-fd9e-45be-81de-ba4b4148aa66",
   "metadata": {},
   "source": [
    "Para três eventos, __não mutuamente exclusivos__ , $E_1$, $E_2$ e $E_3$, tem-se que:  \n",
    "\n",
    "$$P(E_1 \\cup E_2 \\cup E_3) = P((E_1 \\cup E_2) \\cup E_3) =P(E_1 \\cup E_2) + P(E_3) - P((E_1 \\cup E_2)E_3)$$\n",
    "\n",
    "$$P(E_1 \\cup E_2 \\cup E_3) = P(E_1) + P(E_2) + P(E_3) - P(E_1 E_2) - P(E_1 E_3) - P(E_2 E_3) + P(E_1 E_2 E_3)$$"
   ]
  },
  {
   "cell_type": "markdown",
   "id": "6fed8a23-83cf-4ab0-ac2c-2bd0effe578c",
   "metadata": {
    "id": "6fed8a23-83cf-4ab0-ac2c-2bd0effe578c"
   },
   "source": [
    "#### Exemplo 2.3 - Probabilidade de falha de uma treliça isostática"
   ]
  },
  {
   "cell_type": "markdown",
   "id": "138ddbbf-122f-44bc-ba8f-a656a7b7c5cd",
   "metadata": {
    "id": "138ddbbf-122f-44bc-ba8f-a656a7b7c5cd"
   },
   "source": [
    "<img src=\"./images2/truss2.jpg\" alt=\"Treliça isostática\" style=\"width:474px\"/>"
   ]
  },
  {
   "cell_type": "markdown",
   "id": "f2f917a9-9329-465e-8b58-b8da595961c7",
   "metadata": {
    "id": "f2f917a9-9329-465e-8b58-b8da595961c7"
   },
   "source": [
    "Sob a ação da carga $F$, as probabilidades de falha das barras individuais $a$, $b$ e $c$ da treliça mostrada na figura acima são $0,04$, $0,03$ e $0,02$, respectivamente. A ruptura de qualquer barra ocasionará a ruína da treliça. Qual a probabilidade de falha da treliça? Admitir independência estatística entre as falhas das barras. \n",
    "\n",
    "__Solução:__ \n",
    "Eventos:\n",
    "* $A$ = falha da barra $a$: $P(A) = 0,04$\n",
    "* $B$ = falha da barra $b$: $P(B) = 0,03$\n",
    "* $C$ = falha da barra $c$: $P(C) = 0,02$\n",
    "\n",
    "* Evento falha da treliça = $A \\cup B \\cup C$: $P(A \\cup B \\cup C)= P(A) + P(B) + P(C) - P(AB) - P(AC) - P(BC) + P(ABC)$\n",
    "\n",
    "* $P(AB) = P(A)P(B) = (0,04)(0,03) = 0,0012$\n",
    "* $P(AC) = P(A)P(C) = (0,04)(0,02) = 0,0008$\n",
    "* $P(AB) = P(B)P(C) = (0,03)(0,02) = 0,0006$\n",
    "* $P(ABC) = P(A)P(B)P(C) = (0,04)(0,03)(0,02) = 0,00024$\n",
    "\n",
    "* Então:\n",
    "$$P(falha\\_da\\_trelica) = 0,04 + 0,03 + 0,02 - 0,0012 - 0,0008 - 0,0006 + 0,00024 = 0,087424 = 8,7424\\%$$\n",
    "* Forma alternativa:\n",
    "$$P(A \\cup B \\cup C) = 1 - P(\\overline{A}\\overline{B}\\overline{C})$$\n",
    "\n",
    "Neste caso:\n",
    "$$P(\\overline{A}\\overline{B}\\overline{C})=P(\\overline{A})P(\\overline{B})P(\\overline{C})=(1-0,04)(1-0,03)(1-0,02)=0,91258$$\n",
    "\n",
    "Com isso,\n",
    "$$P(falha\\_da\\_trelica) = 1 - 0,91258 = 0,087424 =8,7424\\%$$"
   ]
  },
  {
   "cell_type": "markdown",
   "id": "6277fa44-908a-40d9-bfe5-7d1ea81e3f4d",
   "metadata": {},
   "source": [
    "### 2.3.2 - Probabilidade condicional - Regra da multiplicação"
   ]
  },
  {
   "cell_type": "markdown",
   "id": "cb3e8786-74a7-41b8-8e89-70aa48428d8c",
   "metadata": {
    "id": "cb3e8786-74a7-41b8-8e89-70aa48428d8c"
   },
   "source": [
    "A probabilidade de um evento pode depender da ocorrência (ou da não ocorrência) de outro evento.  \n",
    "Se esta dependência existe, a probabilidade associada a este evento é um __probabilidade condicional__."
   ]
  },
  {
   "cell_type": "markdown",
   "id": "787155f9-ef2e-4c41-a6f2-b44aeffe6877",
   "metadata": {},
   "source": [
    "<img src=\"./images2/interseccao.jpg\" alt=\"Probabilidade condicional\" style=\"width:474px\"/>"
   ]
  },
  {
   "cell_type": "markdown",
   "id": "26bb391a-eac6-4d14-8f4e-4a1e68b694d1",
   "metadata": {},
   "source": [
    "No espaço amostral da figura acima, a probabilidade do evento $E_1$, assumindo que o evento $E_2$ ocorreu, representada por $P(E_1|E_2)$, ou seja, a probabilidade condicional de $E_1$ dado $E_2$ é:  \n",
    "\n",
    "$$P(E_1|E_2)=\\frac{P(E_1 E_2)}{P(E_2)}$$\n",
    "\n",
    "Isto significa a probabilidade de concretização de um ponto amostral de $E_1$, dentro do espaço amostral reconstituído de $E_2$."
   ]
  },
  {
   "cell_type": "markdown",
   "id": "7f3ed019-a800-4b96-b3f1-30ffaff041a5",
   "metadata": {},
   "source": [
    "#### Aplicação prática da regra de Morgan"
   ]
  },
  {
   "cell_type": "markdown",
   "id": "58083f81-27ce-4dff-bc54-dfef2f8b2b42",
   "metadata": {},
   "source": [
    "Uma cadeia consiste de dois elos, como mostrado na figura abaixo. A cadeia irá sofrer ruptura se um dos elos se quebrar, ou se os dois elos se quebrarem simultaneamente."
   ]
  },
  {
   "cell_type": "markdown",
   "id": "0a344f48-eabf-48ce-8bd0-acd22ac11c82",
   "metadata": {},
   "source": [
    "<img src=\"./images2/elos_em_cadeia.jpg\" alt=\"cadeia de elos\" style=\"width:474px\"/>"
   ]
  },
  {
   "cell_type": "markdown",
   "id": "9e5bbb30-806d-469d-972f-efd6f3d0cfdc",
   "metadata": {},
   "source": [
    "Fonte: ANG,  A.  H-S.; TANG,  W. H.. Probability concepts in engineering: Emphasis on applications to Civil and Enviromental Engineering.  2nd ed. Hoboken, NJ, John Wiley & Sons, 2007."
   ]
  },
  {
   "cell_type": "markdown",
   "id": "0cebbdd2-bf0b-46e0-9795-f335d882fc9a",
   "metadata": {},
   "source": [
    "* Evento $E_1$ = falha no elo 1."
   ]
  },
  {
   "cell_type": "markdown",
   "id": "4a897e86-4bd8-49f2-99a6-48e2424481e5",
   "metadata": {},
   "source": [
    "* Evento $E_2$ = falha no elo 2."
   ]
  },
  {
   "cell_type": "markdown",
   "id": "29031f2f-ad81-4bce-8004-27e6c7824f88",
   "metadata": {},
   "source": [
    "* Evento falha na cadeia = $E_1 \\cup E_2$"
   ]
  },
  {
   "cell_type": "markdown",
   "id": "2be0e350-abf3-4822-9191-355776dfcab3",
   "metadata": {},
   "source": [
    "* A não falha da cadeia corresponde ao evento: $\\overline{E_1 \\cup E_2}$"
   ]
  },
  {
   "cell_type": "markdown",
   "id": "d7ff39d3-5012-4b1e-b3f8-3199bc664200",
   "metadata": {},
   "source": [
    "* Aliás, a não ruptura da cadeia também significa que ambos os elos se mantêm intactos simultaneamente, isto é, corresponde ao evento: $\\overline{E_1} \\cap \\overline{E_2}$"
   ]
  },
  {
   "cell_type": "markdown",
   "id": "644279e4-5c74-4d1c-bbff-d7675e466732",
   "metadata": {},
   "source": [
    "* Vale, então, a __Regra de Morgan__: $$\\overline{E_1 \\cup E_2} = \\overline{E_1} \\cap \\overline{E_2}$$"
   ]
  },
  {
   "cell_type": "markdown",
   "id": "cd3e3ffa-0e04-4925-a842-cea1b29f5e8c",
   "metadata": {
    "tags": []
   },
   "source": [
    "## __Bibliografia__"
   ]
  },
  {
   "cell_type": "markdown",
   "id": "22843f6f-9513-4934-85e2-79f9121882c1",
   "metadata": {},
   "source": [
    "* __Livros__\n",
    "* ANG,  A.  H-S.; TANG,  W. H.. Probability concepts in engineering planning and design. Volume I:  basic principles. New  York, John Wiley & Sons, 1975.\n",
    "* ANG,  A.  H-S.; TANG,  W. H.. Probability concepts in engineering planning and pesign. Volume II: decision, risk and reliability. New  York, John Wiley & Sons, 1984.\n",
    "* ANG,  A.  H-S.; TANG,  W. H.. Probability concepts in engineering: Emphasis on applications to Civil and Enviromental Engineering.  2nd ed. Hoboken, NJ, John Wiley & Sons, 2007.\n",
    "* BECK, A. T. Confiabilidade e segurança das  estruturas. Rio de Janeiro, Elsevier, 2019.\n",
    "* HALDAR, A. MAHADEVAN, S. Probability, reliability, and statistical methods in engineering design. New York, Wiley, 2000.\n",
    "* MELCHERS, R.E., BECK, A. T.; Structural reliability analysis and prediction. 3rd ed. John Wiley and Sons, 2018, 514p.\n",
    "* __Revistas:__\n",
    "* Structural Safety\n",
    "* Probabilistic Engineering Mechanics\n",
    "* Boletins CEB-FIP (agora fib)\n",
    "* Revista IBRACON de Estruturas e Materiais"
   ]
  },
  {
   "cell_type": "code",
   "execution_count": null,
   "id": "d6548269-ae51-45ef-bcd2-f266faf2099d",
   "metadata": {},
   "outputs": [],
   "source": []
  }
 ],
 "metadata": {
  "colab": {
   "name": "Capítulo_1.ipynb",
   "provenance": []
  },
  "kernelspec": {
   "display_name": "Python 3",
   "language": "python",
   "name": "python3"
  },
  "language_info": {
   "codemirror_mode": {
    "name": "ipython",
    "version": 3
   },
   "file_extension": ".py",
   "mimetype": "text/x-python",
   "name": "python",
   "nbconvert_exporter": "python",
   "pygments_lexer": "ipython3",
   "version": "3.8.5"
  }
 },
 "nbformat": 4,
 "nbformat_minor": 5
}
