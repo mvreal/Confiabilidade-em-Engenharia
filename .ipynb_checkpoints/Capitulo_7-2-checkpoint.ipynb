{
 "cells": [
  {
   "cell_type": "markdown",
   "id": "ebd052e0",
   "metadata": {
    "id": "1dc445f3-8f0f-41b7-a0fa-541467a1d3db"
   },
   "source": [
    "### Universidade Federal do Rio Grande - FURG"
   ]
  },
  {
   "cell_type": "markdown",
   "id": "32a8467a",
   "metadata": {
    "id": "27d28d81-ad30-4559-b52d-0fee9ac96cae"
   },
   "source": [
    "### Escola de Engenharia - EE"
   ]
  },
  {
   "cell_type": "markdown",
   "id": "69825019",
   "metadata": {
    "id": "103a5401-6849-4ee0-a254-08a7f684a870"
   },
   "source": [
    "### Programa de Pós-graduação em Engenharia Oceânica - PPGEO"
   ]
  },
  {
   "cell_type": "markdown",
   "id": "5252d012",
   "metadata": {
    "id": "547b79f5-d7a3-4b02-8ce9-7c1647bff36b"
   },
   "source": [
    "### Disciplina: Confiabilidade em Engenharia"
   ]
  },
  {
   "cell_type": "markdown",
   "id": "897f5842",
   "metadata": {
    "id": "189e93bb-f3e5-4536-9aec-d09046d6929b"
   },
   "source": [
    "### Professor: Dr. Mauro de Vasconcellos Real"
   ]
  },
  {
   "cell_type": "markdown",
   "id": "868ca87f-48ee-493d-84ec-29d130abfedb",
   "metadata": {
    "tags": []
   },
   "source": [
    "# __Aula 13__"
   ]
  },
  {
   "cell_type": "code",
   "execution_count": 8,
   "id": "4743808b-ff9c-46a4-894c-326338165f75",
   "metadata": {},
   "outputs": [],
   "source": [
    "import numpy as np\n",
    "import matplotlib.pyplot as plt\n",
    "from scipy import linalg\n",
    "from scipy.stats import norm\n",
    "from scipy.stats import skew\n",
    "from scipy.stats import lognorm\n",
    "from scipy.stats import gumbel_r\n",
    "from scipy.stats import invweibull\n",
    "from scipy import optimize\n",
    "from scipy.special import gamma"
   ]
  },
  {
   "cell_type": "markdown",
   "id": "5b7adffe-4558-468c-b85f-18ecd68f2c0a",
   "metadata": {
    "id": "ce78f794-4773-4210-bf0c-d89fd0e707f7"
   },
   "source": [
    "# __Capítulo 7 - Confiabilidade e Projeto baseado em Confiabilidade__ <a name=\"section_6\"></a>"
   ]
  },
  {
   "cell_type": "markdown",
   "id": "01fbcc7e-2abf-4bc5-ac27-e153e42b4a31",
   "metadata": {
    "id": "3ce4b88f-bb46-49e3-b43f-b2c43671b855",
    "tags": []
   },
   "source": [
    "[7.3 - Algoritimo de Hasofer-Lind-Rackwitz-Fiessler](#section_73)  \n",
    "[7.4 - Método de Confiabilidade de Primeira Ordem (FORM)](#section_74)  "
   ]
  },
  {
   "cell_type": "markdown",
   "id": "4c33fb1b",
   "metadata": {
    "tags": []
   },
   "source": [
    "## __7.3 - Algorítimo de Hasofer-Lind-Rackwitz-Fiessler (HRLF)__  <a name=\"section_73\"></a>"
   ]
  },
  {
   "cell_type": "markdown",
   "id": "49b7ee4c-ff8b-407e-8c69-f53f87a3648a",
   "metadata": {},
   "source": [
    "* Conforme visto no item 7.2, que trata do método FOSM, o procedimento para a determinação do índice de confiabilidade $\\beta$ trata-se, na realidade, de um processo de otimização no espaço das variáveis padronizadas, estatísticamente independentes, $\\textbf{x}^{\\prime}$, dado na forma:\n",
    "\n",
    "1. Minimizar: $d = \\sqrt{\\textbf{x}^{\\prime T} \\textbf{x}^{\\prime}}$\n",
    "\n",
    "2. Sujeito à restrição: $g(\\text{x}^{\\prime}) = 0 $\n",
    "\n",
    "* O algoritmo mais utilizado para resolver este problema é o desenvolvido com as contribuições de Hasofer, Lind, Rackwitz e  Fiessler, por isso chamado de algoritmo HLRF. Ver BECK(2019), HASOFER e LIND(1974) e RACKWITZ e FIESSLER(1978).\n",
    "\n",
    "* Este algoritmo utiliza recursivamente a forma linearizada da superfície de falha na busca do ponto $\\textbf{x}^{\\prime *}$ tal que $g(\\text{x}^{\\prime *}) = 0 $. No entanto, um ponto fraco deste algoritmo é que não se poder garantir a sua convergência no caso de funções estado limite altamente não lineares (BECK, 2019).\n",
    "\n",
    "* O primeiro passo é fazer-se uma expansão  em série de Taylor da função estado limite  $g(\\text{x}^{\\prime *})$ retendo-se até o termo de derivadas de primeira ordem e igualar o mesmo a $0$:\n",
    "\n",
    "$$\\tilde{g}(\\text{x}_{k+1}^{\\prime}) = g(\\textbf{x}_{k}^{\\prime}) +  \\nabla{g}(\\textbf{x}_{k}^{\\prime})^{t}(\\textbf{x}_{k+1}^{\\prime}-\\textbf{x}_{k}^{\\prime}) = 0$$\n",
    "\n",
    "* Onde: $\\nabla{g}(\\textbf{x}_{k}^{\\prime})$ é o gradiente da função estado limite no espaço normal padronizado, avaliado no ponto $\\textbf{x}_{k}^{\\prime}$.\n",
    "\n",
    "* Esta equação pode ser rearranjada na forma:\n",
    "\n",
    "$$ \\nabla{g}(\\textbf{x}_{k}^{\\prime})^{t}\\textbf{x}_{k+1}^{\\prime} =   - \\nabla{g}(\\textbf{x}_{k}^{\\prime})^{t}\\textbf{x}_{k}^{\\prime} - g(\\textbf{x}_{k}^{\\prime})$$\n",
    "\n",
    "* Lembrando o conceito de cossenos diretores\n",
    "\n",
    "$$\\boldsymbol{\\alpha}_k = \\frac{\\nabla{g}(\\textbf{x}_k^{\\prime})}{||\\nabla{g}(\\textbf{x}_k^{\\prime})||}$$\n",
    "\n",
    "* E que a soma dos quadrados dos cossenos diretores é igual a unidade: $\\boldsymbol{\\alpha}_k^T \\boldsymbol{\\alpha}_k = 1$\n",
    "\n",
    "* Então, é possível escrever-se:\n",
    "\n",
    "$$ \\nabla{g}(\\textbf{x}_{k}^{\\prime})^{t}\\textbf{x}_{k+1}^{\\prime} =   - \\left[\\nabla{g}(\\textbf{x}_{k}^{\\prime})^{t}\\textbf{x}_{k}^{\\prime} + g(\\textbf{x}_{k}^{\\prime})\\right]\\boldsymbol{\\alpha}_k^T \\boldsymbol{\\alpha}_k  $$\n",
    "\n",
    "* Ou ainda:\n",
    "\n",
    "$$ \\nabla{g}(\\textbf{x}_{k}^{\\prime})^{t}\\textbf{x}_{k+1}^{\\prime} =   - \\frac{\\left[\\nabla{g}(\\textbf{x}_{k}^{\\prime})^{t}\\textbf{x}_{k}^{\\prime} + g(\\textbf{x}_{k}^{\\prime})\\right]}{||\\nabla{g}(\\textbf{x}_k^{\\prime})||^2}\\nabla{g}(\\textbf{x}_{k}^{\\prime})^{t} \\nabla{g}(\\textbf{x}_{k}^{\\prime})  $$\n",
    "\n",
    "* Então, é possível eliminar-se o fator $\\nabla{g}(\\textbf{x}_{k}^{\\prime})^{t}$ dos dois lados da igualdade na equação anterior, resultando a forma recursiva do algoritimo Hasofer-Lind-Rackwitz-Fiessler (HLRF):\n",
    "\n",
    "$$ \\textbf{x}_{k+1}^{\\prime} =   - \\frac{\\left[\\nabla{g}(\\textbf{x}_{k}^{\\prime})^{t}\\textbf{x}_{k}^{\\prime} + g(\\textbf{x}_{k}^{\\prime})\\right]}{||\\nabla{g}(\\textbf{x}_k^{\\prime})||^2}\\nabla{g}(\\textbf{x}_{k}^{\\prime})  $$\n",
    "\n",
    "* Esta equação envolve o gradiente da função estado limite e o valor da própria função estado limite calculados no ponto $\\textbf{x}_k^{\\prime}$.\n",
    "\n",
    "* Partindo-se de uma estimativa inicial $\\textbf{x}_0$ aplica-se a fórmula recursivamente até que haja convergência no valor de $\\textbf{x}^{\\prime}$ e no valor de $\\beta = \\sqrt{\\textbf{x}^{\\prime T} \\textbf{x}^{\\prime}}$.\n",
    "\n",
    "* Infelizmente não se pode garantir a convergência do método para o ponto de projeto (ponto mais provável de falha), nem que a distância mínima encontrada $d = \\sqrt{\\textbf{x}^{\\prime T} \\textbf{x}^{\\prime}}$ corresponda ao valor mínimo, ou seja, ao índice de confiabilidade $\\beta = d_{min}$.\n",
    "\n",
    "* Uma maneira de se checar os resultados alcançados é resolver o problema empregando-se dois pontos de partida $\\textbf{x}_0$ diferentes e verificar se as duas tentativas convergem para o mesmo resultado. \n"
   ]
  },
  {
   "cell_type": "markdown",
   "id": "cb8913fa-e64d-4f09-95bc-cb51d8ade3f7",
   "metadata": {},
   "source": [
    "#### Algoritimo numérico:\n",
    "\n",
    "1. Escolher os valores iniciais para $\\textbf{x}_0$.\n",
    "\n",
    "2. Obter:\n",
    "\n",
    "$$\\textbf{x}_k^{\\prime} = \\boldsymbol{\\sigma}_{X}^{-1}(\\textbf{x}_k - \\boldsymbol{\\mu_{X}}), \\quad \\nabla{g}(\\textbf{x}_{k}^{\\prime}) \\quad \\text{e} \\quad g(\\textbf{x}_{k}^{\\prime}) $$\n",
    "\n",
    "3. Calcular:\n",
    "\n",
    "$$ \\textbf{x}_{k+1}^{\\prime} =   - \\frac{\\left[\\nabla{g}(\\textbf{x}_{k}^{\\prime})^{t}\\textbf{x}_{k}^{\\prime} + g(\\textbf{x}_{k}^{\\prime})\\right]}{||\\nabla{g}(\\textbf{x}_k^{\\prime})||^2}\\nabla{g}(\\textbf{x}_{k}^{\\prime})  $$\n",
    "\n",
    "4. Calcular:  $\\beta_{k+1} = \\sqrt{\\textbf{x}_{k+1}^{\\prime T} \\textbf{x}_{k+1}^{\\prime}}$ \n",
    "\n",
    "5. Verificar a convergência (BECK, 2019):\n",
    "\n",
    "$$ 1   - \\frac{|\\nabla{g}(\\textbf{x}_{k}^{\\prime})^{t}\\textbf{x}_{k}^{\\prime}|}{||\\nabla{g}(\\textbf{x}_k^{\\prime})||\\times||\\textbf{x}_{k}^{\\prime}||} < \\epsilon \\quad \\text{e} \\quad |g(\\textbf{x}_k^{\\prime})|<\\delta $$\n",
    "\n",
    "* Onde: $\\epsilon = 1\\times10^{-3}$ e $\\delta = 1\\times10^{-3}|g(\\textbf{x})|$\n",
    "\n",
    "6. Se as condições de convergência forem satisfeitas, então: $\\beta = \\beta_{k+1}$ e $\\textbf{x}^{\\prime *} = \\textbf{x}_{k+1}^{\\prime}$\n",
    "\n",
    "7. Caso contrário, repetir os passos de $(2)$ a $(5)$ até a convergência."
   ]
  },
  {
   "cell_type": "markdown",
   "id": "67069d53-624f-4055-af8b-43ac844a6941",
   "metadata": {
    "tags": []
   },
   "source": [
    "### Exemplo 7.5 - Capacidade de carga de uma viga - Solução com o algorítimo HRLF"
   ]
  },
  {
   "cell_type": "markdown",
   "id": "825b69fb-e347-4677-93c1-8945b02f4383",
   "metadata": {},
   "source": [
    "<img src=\"./images7/momento_plastico.jpg\" alt=\"Momento Plástico\" style=\"width:474px\" />"
   ]
  },
  {
   "cell_type": "markdown",
   "id": "ccb37f92-26bf-4465-ba38-e85c20cfe7b4",
   "metadata": {},
   "source": [
    "* O momento plástico (capacidade resistente última no regime plástico) de uma seção de uma viga de aço pode ser dado por: $M_p = YZ$\n",
    "\n",
    "* Onde:\n",
    "\n",
    "* $Y$ é a tensão de escoamento do aço.\n",
    "\n",
    "* $Z$ é o módulo plástico da seção transversal.\n",
    "\n",
    "* Se $M$ é o momento solicitante, a função performance será definida como: $g(\\textbf{X}) = YZ - M$\n",
    "\n",
    "* Admitindo-se que $Y$, $Z$ e $M$ são estatisticamente indenpendentes.\n",
    "\n",
    "* Parâmetros de projeto:\n",
    "\n",
    "* $Y$: $\\mu_Y = 40 kN/cm^2$, $\\delta_Y = 0,125$ e $\\sigma_Y = 5 kN/cm^2$\n",
    "\n",
    "* $Z$: $\\mu_Z = 50 cm^3$, $\\delta_Z = 0,05$ e $\\sigma_Z = 2,5 m^3$\n",
    "\n",
    "* $M$: $\\mu_M= 1.000 kNcm$, $\\delta_M = 0,20$ e $\\sigma_M = 200 kNcm$\n",
    "\n",
    "* __Solução:__\n",
    "\n",
    "* Derivadas parcias: \n",
    "\n",
    "$$\\frac{\\partial{g}}{\\partial{Y^\\prime}} = \\sigma_Y Z$$\n",
    "\n",
    "$$\\frac{\\partial{g}}{\\partial{Z^\\prime}} = \\sigma_Z Y$$\n",
    "\n",
    "$$\\frac{\\partial{g}}{\\partial{M^\\prime}} = -\\sigma_M$$\n",
    "\n",
    "* __$1^a$ Iteração:__\n",
    "\n",
    "* Estimativa do ponto de falha:\n",
    "\n",
    "* $y^*=\\mu_Y = 40 kN/cm^2$\n",
    "* $z^*=\\mu_Z = 50 cm^3$\n",
    "* $m^*=\\mu_M = 1.000 kNcm$\n",
    "\n",
    "* Derivadas em $\\textbf{x}^*$:\n",
    "\n",
    "$$\\left(\\frac{\\partial{g}}{\\partial{Y^{\\prime}}}\\right)_* = 5 \\times 50 = 250$$\n",
    "\n",
    "$$\\left(\\frac{\\partial{g}}{\\partial{Z^{\\prime}}}\\right)_* = 2,5 \\times 40 = 100$$\n",
    "\n",
    "$$\\left(\\frac{\\partial{g}}{\\partial{M^{\\prime}}}\\right)_* = -200$$\n",
    "\n",
    "* Cossenos diretores:\n",
    "\n",
    "$$\\alpha_Y^* = \\frac{250}{\\sqrt{250^2+100^2+(-200)^2}} = \\frac{250}{335,41} = 0,7457$$\n",
    "\n",
    "$$\\alpha_Z^* = \\frac{100}{\\sqrt{250^2+100^2+(-200)^2}} = \\frac{100}{335,41} = 0,2983$$\n",
    "\n",
    "$$\\alpha_M^* = \\frac{-200}{\\sqrt{250^2+100^2+(-200)^2}} = \\frac{-200}{335,41} = -0,5957$$\n",
    "\n",
    "* Ponto de falha $\\textbf{x}^*$: $\\mu_{X_i} - \\alpha_{X_i} \\sigma_{X_i} \\beta$\n",
    "\n",
    "* $y^* = 40 - 0,7457\\times5\\times\\beta = 40 - 3,7285\\times\\beta$\n",
    "\n",
    "* $z^* = 50 - 0,2983\\times2,5\\times\\beta = 50 - 0,7458\\times\\beta$\n",
    "\n",
    "* $m^* = 1000 - 0,5957\\times200\\times\\beta = 1000 - 119,14\\times\\beta$\n",
    "\n",
    "* Cálculo de $\\beta$: $g(\\textbf{x}^*)=0$\n",
    "\n",
    "*$g(\\textbf{x}^*)=(40 - 3,7285\\times\\beta)\\times(50 - 0,7458\\times\\beta) - (1000 - 119,14\\times\\beta) = 0$\n",
    "\n",
    "*$g(\\textbf{x}^*)= 1000 - 335,3970\\times\\beta + 2,7807\\times\\beta^2 = 0$\n",
    "\n",
    "* Solução : $\\beta = 3,06$\n",
    "\n",
    "* $y^* = 40 - 3,7285\\times\\beta = 28,5908$\n",
    "\n",
    "* $z^* = 50 - 0,7458\\times\\beta = 47,7179$\n",
    "\n",
    "* $m^* = 1000 - 119,14\\times\\beta = 1364,5684$\n",
    "\n",
    "* Após 3 iterações, com uma tolerância de $1\\times10^-3$, resulta o valor final de  $\\beta = 3,0491$\n",
    "\n",
    "* Ponto de falha $\\textbf{x}^*$: $y^* = 28,55 kN/cm^2$, $z^*=48,31 cm^3$ e $m^* = 1.379,24 kNcm$."
   ]
  },
  {
   "cell_type": "markdown",
   "id": "b0cc4683-e52b-478c-aa57-518ed1b7e33b",
   "metadata": {
    "tags": []
   },
   "source": [
    "[Retornar ao início da aula](#section_6)"
   ]
  },
  {
   "cell_type": "markdown",
   "id": "90e7840c-906d-4ba8-82b7-c3cded4b9265",
   "metadata": {
    "tags": []
   },
   "source": [
    "[Retornar ao início da aula](#section_6)"
   ]
  },
  {
   "cell_type": "markdown",
   "id": "30a7fc90",
   "metadata": {},
   "source": [
    "## __Bibliografia__"
   ]
  },
  {
   "cell_type": "markdown",
   "id": "78e08737-5ad3-4386-8f3e-3b9f0f4d5b69",
   "metadata": {},
   "source": [
    "* __Livros__\n",
    "* ANG,  A.  H-S.; TANG,  W. H.. Probability concepts in engineering planning and design. Volume I:  basic principles. New  York, John Wiley & Sons, 1975.\n",
    "* ANG,  A.  H-S.; TANG,  W. H.. Probability concepts in engineering planning and design. Volume II: decision, risk and reliability. New  York, John Wiley & Sons, 1984.\n",
    "* ANG,  A.  H-S.; TANG,  W. H.. Probability concepts in engineering: Emphasis on applications to Civil and Enviromental Engineering.  2nd ed. Hoboken, NJ, John Wiley & Sons, 2007.\n",
    "* BECK, A. T. Confiabilidade e segurança das  estruturas. Rio de Janeiro, Elsevier, 2019.\n",
    "* HALDAR, A. MAHADEVAN, S. Probability, reliability, and statistical methods in engineering design. New York, Wiley, 2000.\n",
    "* MELCHERS, R.E., BECK, A. T.; Structural reliability analysis and prediction. 3rd ed. John Wiley and Sons, 2018, 514p."
   ]
  },
  {
   "cell_type": "markdown",
   "id": "e39c51bd-4a53-4a07-a27b-16a2c14cf9c8",
   "metadata": {
    "tags": []
   },
   "source": [
    "[Retornar ao início da aula](#section_6)"
   ]
  }
 ],
 "metadata": {
  "colab": {
   "name": "Capítulo_5.ipynb",
   "provenance": []
  },
  "interpreter": {
   "hash": "f189cad14bda9570c78e3484cdd4044273f5880bd3757c16e7bdbbda1060b186"
  },
  "kernelspec": {
   "display_name": "Python 3 (ipykernel)",
   "language": "python",
   "name": "python3"
  },
  "language_info": {
   "codemirror_mode": {
    "name": "ipython",
    "version": 3
   },
   "file_extension": ".py",
   "mimetype": "text/x-python",
   "name": "python",
   "nbconvert_exporter": "python",
   "pygments_lexer": "ipython3",
   "version": "3.8.5"
  }
 },
 "nbformat": 4,
 "nbformat_minor": 5
}
