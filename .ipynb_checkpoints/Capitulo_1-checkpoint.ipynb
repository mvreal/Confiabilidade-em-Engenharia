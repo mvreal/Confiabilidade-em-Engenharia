{
 "cells": [
  {
   "cell_type": "markdown",
   "id": "1dc445f3-8f0f-41b7-a0fa-541467a1d3db",
   "metadata": {
    "id": "1dc445f3-8f0f-41b7-a0fa-541467a1d3db"
   },
   "source": [
    "### Universidade Federal do Rio Grande - FURG"
   ]
  },
  {
   "cell_type": "markdown",
   "id": "27d28d81-ad30-4559-b52d-0fee9ac96cae",
   "metadata": {
    "id": "27d28d81-ad30-4559-b52d-0fee9ac96cae"
   },
   "source": [
    "### Escola de Engenharia - EE"
   ]
  },
  {
   "cell_type": "markdown",
   "id": "103a5401-6849-4ee0-a254-08a7f684a870",
   "metadata": {
    "id": "103a5401-6849-4ee0-a254-08a7f684a870"
   },
   "source": [
    "### Programa de Pós-graduação em Engenharia Oceânica - PPGEO"
   ]
  },
  {
   "cell_type": "markdown",
   "id": "547b79f5-d7a3-4b02-8ce9-7c1647bff36b",
   "metadata": {
    "id": "547b79f5-d7a3-4b02-8ce9-7c1647bff36b"
   },
   "source": [
    "### Disciplina: Confiabilidade em Engenharia"
   ]
  },
  {
   "cell_type": "markdown",
   "id": "189e93bb-f3e5-4536-9aec-d09046d6929b",
   "metadata": {
    "id": "189e93bb-f3e5-4536-9aec-d09046d6929b"
   },
   "source": [
    "### Professor: Dr. Mauro de Vasconcellos Real"
   ]
  },
  {
   "cell_type": "markdown",
   "id": "ce78f794-4773-4210-bf0c-d89fd0e707f7",
   "metadata": {
    "id": "ce78f794-4773-4210-bf0c-d89fd0e707f7"
   },
   "source": [
    "# __Capítulo 1 - Conceitos fundamentais de confiabilidade__"
   ]
  },
  {
   "cell_type": "markdown",
   "id": "e4c7f828-335f-42ac-b316-e8fd6c4a263c",
   "metadata": {
    "id": "e4c7f828-335f-42ac-b316-e8fd6c4a263c"
   },
   "source": [
    "[1.1 - Introdução: sucessos e desastres na Engenharia](#section_1)"
   ]
  },
  {
   "cell_type": "markdown",
   "id": "f51781d3-f3d2-425f-a7ae-fb5bcf16942f",
   "metadata": {
    "id": "f51781d3-f3d2-425f-a7ae-fb5bcf16942f"
   },
   "source": [
    "[1.2 - Incertezas na Engenharia](#section_2)"
   ]
  },
  {
   "cell_type": "markdown",
   "id": "3ce4b88f-bb46-49e3-b43f-b2c43671b855",
   "metadata": {
    "id": "3ce4b88f-bb46-49e3-b43f-b2c43671b855"
   },
   "source": [
    "[1.3 - Análise e avaliação da segurança: A Teoria da Confiabilidade](#section_3)"
   ]
  },
  {
   "cell_type": "markdown",
   "id": "3e17ec2c-ec34-4711-bf48-764dc8f98e6d",
   "metadata": {
    "id": "3e17ec2c-ec34-4711-bf48-764dc8f98e6d"
   },
   "source": [
    "[1.4 - Projeto de sistemas de engenharia com base na  Teoria da Confiabilidade](#section_4)"
   ]
  },
  {
   "cell_type": "markdown",
   "id": "65bd6cbc-1bc3-4659-9745-fa7e58be371f",
   "metadata": {
    "id": "65bd6cbc-1bc3-4659-9745-fa7e58be371f"
   },
   "source": [
    "[1.5 - Exemplo de aplicação: projeto de uma barra de aço tracionada](#section_5)"
   ]
  },
  {
   "cell_type": "markdown",
   "id": "e35e22ac-13fd-4c43-917c-65a143bdce53",
   "metadata": {
    "id": "e35e22ac-13fd-4c43-917c-65a143bdce53",
    "tags": []
   },
   "source": [
    "[1.6 - Observações e conclusões](#section_6)"
   ]
  },
  {
   "cell_type": "code",
   "execution_count": 15,
   "id": "22361b47-4a21-4384-a93a-98f7923ab7e7",
   "metadata": {},
   "outputs": [],
   "source": [
    "import numpy as np\n",
    "from scipy.stats import norm\n",
    "from scipy import optimize"
   ]
  },
  {
   "cell_type": "markdown",
   "id": "3764b601-27f8-4189-a03c-e7c7c94f021d",
   "metadata": {
    "id": "3764b601-27f8-4189-a03c-e7c7c94f021d"
   },
   "source": [
    "## __1.1 - Introdução: sucessos e desastres na Engenharia__ <a name=\"section_1\"></a>"
   ]
  },
  {
   "cell_type": "markdown",
   "id": "5bafba8c-efa5-4114-9f0e-603f32dbecc4",
   "metadata": {
    "id": "5bafba8c-efa5-4114-9f0e-603f32dbecc4"
   },
   "source": [
    "### Grandes _sucessos_ da Engenharia"
   ]
  },
  {
   "cell_type": "markdown",
   "id": "157432c3-c6ac-4105-b5b2-45e3ad381233",
   "metadata": {
    "id": "157432c3-c6ac-4105-b5b2-45e3ad381233"
   },
   "source": [
    "* Barragem das Três Gargantas - Rio Amarelo - China\n",
    "* Golden Gate Bridge - San Francisco Bay - EUA\n",
    "* Túnel do Canal da Mancha\n",
    "* Burj Khalifa - Dubai - Emirados Árabes Unidos\n",
    "* Ponte de Qingdao Haiwan - China\n",
    "* Hidrelétrica de Itaipu - Rio Paraná - Brasil\n",
    "* Ponte Rio Niterói - Baía da Guanabara - Brasil\n",
    "* Viaduto do Exército - Vespasiano Corrêa - RS - Brasil\n",
    "* Edifício Millennium Palace - Balneário Camboriú - SC - Brasil\n",
    "* Ponte Otávio Frias de Oliveira - Rio Pinheiros - São Paulo - SP - Brasil"
   ]
  },
  {
   "cell_type": "markdown",
   "id": "0b8c3d99-64a5-44e9-9200-89c81286e8e6",
   "metadata": {
    "id": "0b8c3d99-64a5-44e9-9200-89c81286e8e6"
   },
   "source": [
    "### Golden Gate Bridge - San Francisco Bay - EUA - 1937"
   ]
  },
  {
   "cell_type": "markdown",
   "id": "4e3eb7d3-b94e-42a7-9967-eb43d228c585",
   "metadata": {
    "id": "4e3eb7d3-b94e-42a7-9967-eb43d228c585"
   },
   "source": [
    "<img src=\"./images/golden_gate_bridge.jpg\" alt=\"golden_gate_bridge\" style=\"width:474px\"/>"
   ]
  },
  {
   "cell_type": "markdown",
   "id": "470432e7-4165-4e98-91c6-7ea2c80a89e6",
   "metadata": {
    "id": "470432e7-4165-4e98-91c6-7ea2c80a89e6"
   },
   "source": [
    "Fonte: http://4.bp.blogspot.com/-3hCtUe_fsms/UyIfOGOlxbI/AAAAAAAAAQA/8inyRrUNGWk/s1600/aphoto49721.jpg"
   ]
  },
  {
   "cell_type": "markdown",
   "id": "44de5aac-973b-4f8c-80e4-d7ce8e9fdf69",
   "metadata": {
    "id": "44de5aac-973b-4f8c-80e4-d7ce8e9fdf69"
   },
   "source": [
    "* Extensão = 2.100 m\n",
    "* Vão central = 1.280 m!\n",
    "* Ventos fortes!\n",
    "* Terremotos!"
   ]
  },
  {
   "cell_type": "markdown",
   "id": "6fed8a23-83cf-4ab0-ac2c-2bd0effe578c",
   "metadata": {
    "id": "6fed8a23-83cf-4ab0-ac2c-2bd0effe578c"
   },
   "source": [
    "### Túnel do Canal da Mancha - Reino Unido - França - 1994"
   ]
  },
  {
   "cell_type": "markdown",
   "id": "138ddbbf-122f-44bc-ba8f-a656a7b7c5cd",
   "metadata": {
    "id": "138ddbbf-122f-44bc-ba8f-a656a7b7c5cd"
   },
   "source": [
    "<img src=\"./images/channel-tunnel.jpg\" alt=\"channel-tunnel\" style=\"width:474px\"/>"
   ]
  },
  {
   "cell_type": "markdown",
   "id": "5e6d2217-f1ef-407f-97d5-9b965d4f7bf5",
   "metadata": {
    "id": "5e6d2217-f1ef-407f-97d5-9b965d4f7bf5"
   },
   "source": [
    "Fonte: https://www.ice.org.uk/ICEDevelopmentWebPortal/media/what-is-civil-engineering/projects/channel-tunnel.jpg?ext=.jpg"
   ]
  },
  {
   "cell_type": "markdown",
   "id": "f2f917a9-9329-465e-8b58-b8da595961c7",
   "metadata": {
    "id": "f2f917a9-9329-465e-8b58-b8da595961c7"
   },
   "source": [
    "* Extensão = 50 km\n",
    "* Profundidade = 76 m"
   ]
  },
  {
   "cell_type": "markdown",
   "id": "7a7b14ca-0cbb-47d8-bc07-361e9b814407",
   "metadata": {
    "id": "7a7b14ca-0cbb-47d8-bc07-361e9b814407"
   },
   "source": [
    "### Barragem das Três Gargantas - Rio Amarelo - China - 2003"
   ]
  },
  {
   "cell_type": "markdown",
   "id": "a77caf87-a588-418f-b4b9-ec1831e6c009",
   "metadata": {
    "id": "a77caf87-a588-418f-b4b9-ec1831e6c009"
   },
   "source": [
    "<img src=\"./images/three_gorges_dam.jpg\" alt=\"three_gorges_dam\" style=\"width:474px\"/>"
   ]
  },
  {
   "cell_type": "markdown",
   "id": "b4390256-adab-4421-a3df-8fb27dcfb188",
   "metadata": {
    "id": "b4390256-adab-4421-a3df-8fb27dcfb188"
   },
   "source": [
    "Fonte:https://upload.wikimedia.org/wikipedia/commons/thumb/a/ab/ThreeGorgesDam-China2009.jpg/260px-ThreeGorgesDam-China2009.jpg"
   ]
  },
  {
   "cell_type": "markdown",
   "id": "409eacc5-78a9-47ea-93e9-3a7e9c3d8585",
   "metadata": {
    "id": "409eacc5-78a9-47ea-93e9-3a7e9c3d8585"
   },
   "source": [
    "* Maior barragem hidrelétrica do mundo!\n",
    "* Extensão = 2.335 m\n",
    "* Altura = 185 m (um prédio de 62 andares!)\n",
    "* Geração de 22.500 MW/h\n",
    "* Concreto = 27,2 milhões de metros cúbicos."
   ]
  },
  {
   "cell_type": "markdown",
   "id": "945bfd7a-f624-4eb9-88b0-495debce43f0",
   "metadata": {
    "id": "945bfd7a-f624-4eb9-88b0-495debce43f0"
   },
   "source": [
    "###  Burj Khalifa - Dubai - Emirados Árabes Unidos - 2010"
   ]
  },
  {
   "cell_type": "markdown",
   "id": "096fe238-3a51-44e1-bccd-d3e603d49a42",
   "metadata": {
    "id": "096fe238-3a51-44e1-bccd-d3e603d49a42"
   },
   "source": [
    "<img src=\"./images/burj_khalifa.jpg\" alt=\"burj_khalifa\" style=\"width:474px\"/>"
   ]
  },
  {
   "cell_type": "markdown",
   "id": "93c11e03-a614-446e-94a1-eef9ec6225bf",
   "metadata": {
    "id": "93c11e03-a614-446e-94a1-eef9ec6225bf"
   },
   "source": [
    "Fonte: https://3.bp.blogspot.com/-6eF_qNggXJk/T-EcOkOEOpI/AAAAAAAAI3U/9-CVWJ5o3FU/s320/BurjDubai1.jpg"
   ]
  },
  {
   "cell_type": "markdown",
   "id": "cbc08c8c-6d69-4a2d-8619-717624e9a325",
   "metadata": {
    "id": "cbc08c8c-6d69-4a2d-8619-717624e9a325"
   },
   "source": [
    "* Edifício mais alto do mundo!\n",
    "* Altura = 828 m!\n",
    "* 163 andares\n",
    "* Ventos de 160 km/h!\n"
   ]
  },
  {
   "cell_type": "markdown",
   "id": "f42c98c5",
   "metadata": {
    "id": "f42c98c5"
   },
   "source": [
    "### Qingdao-Haiwan Bridge - China - 2011"
   ]
  },
  {
   "cell_type": "markdown",
   "id": "231b0e2b-f34a-413e-b5e7-2760d2ba26a8",
   "metadata": {
    "id": "231b0e2b-f34a-413e-b5e7-2760d2ba26a8"
   },
   "source": [
    "<img src=\"./images/qingdao-haiwan_bridge.jpg\" alt=\"qingdao-haiwan_bridge\" style=\"width:474px\"/>"
   ]
  },
  {
   "cell_type": "markdown",
   "id": "ee193200-923d-49a3-8e3e-1598391906f0",
   "metadata": {
    "id": "ee193200-923d-49a3-8e3e-1598391906f0"
   },
   "source": [
    "Fonte: https://i.pinimg.com/originals/be/fb/a8/befba8392bccebffd6d02e2079df062c.jpg"
   ]
  },
  {
   "cell_type": "markdown",
   "id": "61135cfa-05ca-492c-98d6-58875ace357d",
   "metadata": {
    "id": "61135cfa-05ca-492c-98d6-58875ace357d"
   },
   "source": [
    "* A maior ponte em extensão no mundo!\n",
    "* Extensão = 42,5 km\n",
    "* Resistente a furacões!\n",
    "* Pode suportar terremotos de até 8 graus na Escala Richter!\n",
    "* Resistente ao impacto de um navio de até 300 mil toneladas!\n"
   ]
  },
  {
   "cell_type": "markdown",
   "id": "33103ddb-1c97-4216-add8-917e52ca46c8",
   "metadata": {
    "id": "33103ddb-1c97-4216-add8-917e52ca46c8"
   },
   "source": [
    "### Ponte Rio-Niterói - Baía da Guanabara - RJ - Brasil - 1974"
   ]
  },
  {
   "cell_type": "markdown",
   "id": "cc8905f6-b946-42ab-822c-439d86255004",
   "metadata": {
    "id": "cc8905f6-b946-42ab-822c-439d86255004"
   },
   "source": [
    "<img src=\"./images/ponte_rio-niteroi.jpg\" alt=\"ponte_rio-niteroi\" style=\"width:474px\"/>"
   ]
  },
  {
   "cell_type": "markdown",
   "id": "e057c9be-a7c5-48d1-ad7b-28fef64572da",
   "metadata": {
    "id": "e057c9be-a7c5-48d1-ad7b-28fef64572da"
   },
   "source": [
    "Fonte: https://queromoraremniteroi.com.br/wp-content/uploads/2016/03/ponte_rio_niteroi.png"
   ]
  },
  {
   "cell_type": "markdown",
   "id": "2f6cb82c-2963-4bbb-82e7-6b6035c55e84",
   "metadata": {
    "id": "2f6cb82c-2963-4bbb-82e7-6b6035c55e84"
   },
   "source": [
    "* Extensão = 13,29 km\n",
    "* Altura máxima = 72 m (um edifício de 24 andares)\n",
    "* Vão central = 300 m (vigas de aço).\n",
    "* Ventos fortes!"
   ]
  },
  {
   "cell_type": "markdown",
   "id": "1ec8bd58-5d80-46c0-8b1c-893186113dbb",
   "metadata": {
    "id": "1ec8bd58-5d80-46c0-8b1c-893186113dbb"
   },
   "source": [
    "### Hidrelétrica de Itaipu - Rio Paraná - Brasil-Paraguai - 1975-1982"
   ]
  },
  {
   "cell_type": "markdown",
   "id": "f7c0a17e-d975-45c2-bfb6-828f42130286",
   "metadata": {
    "id": "f7c0a17e-d975-45c2-bfb6-828f42130286"
   },
   "source": [
    "<img src=\"./images/hidreletrica_itaipu.jpg\" alt=\"hidreletrica_itaipu\" style=\"width:474px\"/>"
   ]
  },
  {
   "cell_type": "markdown",
   "id": "5ec731b9-27e0-4668-9170-a03937adab1a",
   "metadata": {
    "id": "5ec731b9-27e0-4668-9170-a03937adab1a"
   },
   "source": [
    "Fonte: https://clickpetroleoegas.com.br/wp-content/uploads/2021/01/Usina-hidreletrica-de-Itaipu-registra-o-seu-maior-indice-de-produtividade-em-2020.jpg"
   ]
  },
  {
   "cell_type": "markdown",
   "id": "cb3e8786-74a7-41b8-8e89-70aa48428d8c",
   "metadata": {
    "id": "cb3e8786-74a7-41b8-8e89-70aa48428d8c"
   },
   "source": [
    "* A segunda maior barragem do mundo!\n",
    "* Extensão = 7.919 m\n",
    "* Altura máxima = 196 m\n",
    "* Equivalente a um prédio de 65 andares!\n",
    "* Volume de concreto = 12,3 milhões de m3!\n",
    "* Geração de 14 mil MW/h"
   ]
  },
  {
   "cell_type": "markdown",
   "id": "af98d9ba-9f6e-465d-9acc-452c52a7e818",
   "metadata": {
    "id": "af98d9ba-9f6e-465d-9acc-452c52a7e818",
    "tags": []
   },
   "source": [
    "### Viaduto do Exército - Vespasiano Corrêa - RS - Brasil - 1978"
   ]
  },
  {
   "cell_type": "markdown",
   "id": "89c11cb0-de55-4454-8591-e665a2b4e18e",
   "metadata": {
    "id": "89c11cb0-de55-4454-8591-e665a2b4e18e"
   },
   "source": [
    "<img src=\"./images/viaduto_do_exercito.jpg\" alt=\"viaduto_do_exercito\" style=\"width:474px\"/>"
   ]
  },
  {
   "cell_type": "markdown",
   "id": "b47ddcc8-f627-4404-8c6b-8ccffa587896",
   "metadata": {
    "id": "b47ddcc8-f627-4404-8c6b-8ccffa587896"
   },
   "source": [
    "Fonte: https://upload.wikimedia.org/wikipedia/commons/thumb/5/55/Viaduto_13.JPG/1200px-Viaduto_13.JPG"
   ]
  },
  {
   "cell_type": "markdown",
   "id": "b1a75ac9-58a6-44f2-a35c-5333d8bb11da",
   "metadata": {
    "id": "b1a75ac9-58a6-44f2-a35c-5333d8bb11da"
   },
   "source": [
    "* Extensão = 509 m\n",
    "* Altura máxima = 143 m (um edifício de 48 andares)\n",
    "* Viaduto ferroviário em concreto armado!\n",
    "* Situado em Vespasiano Corrêa (RS).\n",
    "* Também chamado de Viaduto 13."
   ]
  },
  {
   "cell_type": "markdown",
   "id": "66d183a8-5e84-402c-a8a3-3cb6915a9abc",
   "metadata": {
    "id": "66d183a8-5e84-402c-a8a3-3cb6915a9abc"
   },
   "source": [
    "### Pontes Otávio Frias de Oliveira - Rio Pinheiros - São Paulo - SP - Brasil - 2008"
   ]
  },
  {
   "cell_type": "markdown",
   "id": "b44db252-fc2f-44ab-87ff-0dbc3eede541",
   "metadata": {
    "id": "b44db252-fc2f-44ab-87ff-0dbc3eede541"
   },
   "source": [
    "<img src=\"./images/ponte_estaiada.jpg\" alt=\"ponte_estaiada\" style=\"width:474px\"/>"
   ]
  },
  {
   "cell_type": "markdown",
   "id": "68a4194e-b447-420d-b92d-784150079023",
   "metadata": {
    "id": "68a4194e-b447-420d-b92d-784150079023"
   },
   "source": [
    "Fonte: https://images.alphacoders.com/581/581842.jpg"
   ]
  },
  {
   "cell_type": "markdown",
   "id": "54394f66-2e92-4185-a70b-09dee943aea2",
   "metadata": {
    "id": "54394f66-2e92-4185-a70b-09dee943aea2"
   },
   "source": [
    "* Extensão = 1600 m\n",
    "* Vão central = 290 m!\n",
    "* Altura máxima = 138 m (um edifício de 46 andares)\n",
    "* Ponte estaiada em curva!\n",
    "* Pode suportar ventos de até 250 km/h."
   ]
  },
  {
   "cell_type": "markdown",
   "id": "7b432101-95f6-4f55-9ee0-38202cd8618d",
   "metadata": {
    "id": "7b432101-95f6-4f55-9ee0-38202cd8618d"
   },
   "source": [
    "### Edifício Milenium Palace - Balneário Camboriú - SC - Brasil"
   ]
  },
  {
   "cell_type": "markdown",
   "id": "a11a3d4f-449c-4cb7-bf9a-8b5e83021474",
   "metadata": {
    "id": "a11a3d4f-449c-4cb7-bf9a-8b5e83021474"
   },
   "source": [
    "<img src=\"./images/millennium_palace.jpg\" alt=\"./images/millennium_palace.jpg\" style=\"width:474px\"/>"
   ]
  },
  {
   "cell_type": "markdown",
   "id": "48a9d1b3-e02e-45ce-90bd-52b3caf36388",
   "metadata": {
    "id": "48a9d1b3-e02e-45ce-90bd-52b3caf36388"
   },
   "source": [
    "Fonte: https://3.bp.blogspot.com/-Ag_k_2ZYVOk/VNNPLVz4KCI/AAAAAAABDjs/rhrIZBiuVx4/s1600/Millennium-Palace-Camboriu_predio-mais-alto-do-Brasil.JPG"
   ]
  },
  {
   "cell_type": "markdown",
   "id": "9a437c4c-3cce-499e-8c68-9b0c8a5a56ed",
   "metadata": {
    "id": "9a437c4c-3cce-499e-8c68-9b0c8a5a56ed"
   },
   "source": [
    "* Edifício mais alto do Brasil!\n",
    "* Altura = 177 m!\n",
    "* 46 andares."
   ]
  },
  {
   "cell_type": "markdown",
   "id": "18f3c66e-38a4-4834-a6eb-6a72c377c6f3",
   "metadata": {
    "id": "18f3c66e-38a4-4834-a6eb-6a72c377c6f3"
   },
   "source": [
    "### Grandes _desastres_ da Engenharia"
   ]
  },
  {
   "cell_type": "markdown",
   "id": "1ee591c1-30db-40f2-82d0-e065dd3d4176",
   "metadata": {
    "id": "1ee591c1-30db-40f2-82d0-e065dd3d4176"
   },
   "source": [
    "* A Ponte de Tacoma Narrows\n",
    "* Central Nuclear de Chernobyl\n",
    "* Sistema de Canais e Diques de Nova Orleães\n",
    "* Explosão da Plataforma Deep Water Horizon\n",
    "* Falha da Barragem de Banqiao\n",
    "* Queda do Pavilhão da Gameleira\n",
    "* Desabamento do Edifício Rio Palace\n",
    "* Desmoronamento no Metro Linha 4 \n",
    "* Ruptura da Barragem de Mariana\n",
    "* Desabamento de Edifício em Belém do Pará\n"
   ]
  },
  {
   "cell_type": "markdown",
   "id": "97e1b4a3-dfb7-4bb2-934c-5fce9759c5eb",
   "metadata": {
    "id": "97e1b4a3-dfb7-4bb2-934c-5fce9759c5eb"
   },
   "source": [
    "### A ponte de Tacoma Narrows - WA - EUA - 1940"
   ]
  },
  {
   "cell_type": "markdown",
   "id": "782ede7a-6c40-4574-80e1-fc80bdb5d01e",
   "metadata": {
    "id": "782ede7a-6c40-4574-80e1-fc80bdb5d01e"
   },
   "source": [
    "<img src=\"./images/tacoma-narrows-bridge.jpg\" alt=\"tacoma-narrows-bridge\" style=\"width:474px;\"/>"
   ]
  },
  {
   "cell_type": "markdown",
   "id": "256c8658-9438-4711-8c20-c8800d9c6aa2",
   "metadata": {
    "id": "256c8658-9438-4711-8c20-c8800d9c6aa2"
   },
   "source": [
    "Fonte: https://buildingcue.it/wp-content/uploads/2016/06/tacoma-narrows-bridge.jpg"
   ]
  },
  {
   "cell_type": "markdown",
   "id": "9471f6c0-43ab-435e-afec-7e7fbd249e1b",
   "metadata": {
    "id": "9471f6c0-43ab-435e-afec-7e7fbd249e1b"
   },
   "source": [
    "* Extensão = 1.810 m\n",
    "* Vão central = 853,4 m!\n",
    "* Altura do tabuleiro = 59 m (um edifício de 20 andares)\n",
    "* Ponte pênsil\n",
    "* Entrou em colapso com um vento de 64 km/h.\n",
    "* O tabuleiro, muito esbelto, entrou em ressonância no modo de vibração por torção!"
   ]
  },
  {
   "cell_type": "markdown",
   "id": "c5ae61ad-6255-42e8-a5f6-e5c247bd3618",
   "metadata": {
    "id": "c5ae61ad-6255-42e8-a5f6-e5c247bd3618"
   },
   "source": [
    "### Ruptura da barragem de Banqiao -  Província de Henan - China - 1975"
   ]
  },
  {
   "cell_type": "markdown",
   "id": "e4be03bc-934d-490d-af36-2aaf3b29f215",
   "metadata": {
    "id": "e4be03bc-934d-490d-af36-2aaf3b29f215"
   },
   "source": [
    "<img src=\"./images/banqiao_dam.png\" alt=\"banqiao_dam\" style=\"width:474px;\"/>"
   ]
  },
  {
   "cell_type": "markdown",
   "id": "0a72b7c7-ff62-46ad-98b5-8c89efa99b4b",
   "metadata": {
    "id": "0a72b7c7-ff62-46ad-98b5-8c89efa99b4b"
   },
   "source": [
    "Fonte: https://vtwp-media.s3-accelerate.amazonaws.com/2019/03/Banqiao-Dam-Failure-of-1975-2-20-screenshot.png"
   ]
  },
  {
   "cell_type": "markdown",
   "id": "2aee5e09-4b7e-4b84-8396-558554305bcd",
   "metadata": {
    "id": "2aee5e09-4b7e-4b84-8396-558554305bcd"
   },
   "source": [
    "* A Barragem de Banqiao é uma barragem no meio de outras 62 barragens, na província de Henan, na China.\n",
    "* O colapso da barragem de Banqiao, resultado das chuvas fortes causadas pelo tufão Nina em 1975.\n",
    "* Causou um dos maiores desastres naturais da história registrada, resultando na morte de cerca de 171.000 pessoas.\n"
   ]
  },
  {
   "cell_type": "markdown",
   "id": "a59f82b1-bf9d-4623-baf3-9721fdaf1f78",
   "metadata": {
    "id": "a59f82b1-bf9d-4623-baf3-9721fdaf1f78"
   },
   "source": [
    "### Desastre Nuclear de Chernobyl - Ucrânia - URSS - 1986"
   ]
  },
  {
   "cell_type": "markdown",
   "id": "a3ab69b6-45f8-4274-b9ef-efe313dba322",
   "metadata": {
    "id": "a3ab69b6-45f8-4274-b9ef-efe313dba322"
   },
   "source": [
    "<img src=\"./images/chernobyl.jpg\" alt=\"chernobyl\" style=\"width:474px;\"/>"
   ]
  },
  {
   "cell_type": "markdown",
   "id": "68e72910-9b6e-442d-b15f-57e09ba8f033",
   "metadata": {
    "id": "68e72910-9b6e-442d-b15f-57e09ba8f033"
   },
   "source": [
    "Fonte: https://www.filo.news/img/2020/04/26/chernobyl-2_1.jpg"
   ]
  },
  {
   "cell_type": "markdown",
   "id": "6cf9116c-85e0-4278-86c2-d2684337148e",
   "metadata": {
    "id": "6cf9116c-85e0-4278-86c2-d2684337148e"
   },
   "source": [
    "* Maior desastre em uma usina termo nuclear do mundo!\n",
    "* Ocorreu uma explosão inesperada do reator da durante um teste para avaliação da segurança no caso de falta de energia na usina.\n",
    "* Havia falhas de projeto no reator e o teste de segurança foi mal conduzido pelos operadores."
   ]
  },
  {
   "cell_type": "markdown",
   "id": "253028d6-4e6b-4b51-805f-37942e75fb3c",
   "metadata": {
    "id": "253028d6-4e6b-4b51-805f-37942e75fb3c"
   },
   "source": [
    "### Falha dos diques de proteção de New Orleãs - Lousiana - EUA - 2005"
   ]
  },
  {
   "cell_type": "markdown",
   "id": "e5035531-278f-4a50-b21d-b61e65a847f6",
   "metadata": {
    "id": "e5035531-278f-4a50-b21d-b61e65a847f6"
   },
   "source": [
    "<img src=\"./images/new_orleans.png\" alt=\"new_orleans\" style=\"width:474px;\"/>"
   ]
  },
  {
   "cell_type": "markdown",
   "id": "ebddba88-3178-4e3e-838d-80f0262d9a6d",
   "metadata": {
    "id": "ebddba88-3178-4e3e-838d-80f0262d9a6d"
   },
   "source": [
    "Fonte: https://www.researchgate.net/profile/Nathaniel_Bergman/publication/237512978/figure/fig2/AS:298737051160578@1448235871336/New-Orleans-levee-failure-by-Hurricane-Katrina-a-Category-3-hurricane-on-August-29.png"
   ]
  },
  {
   "cell_type": "markdown",
   "id": "0816c920-ea6d-435e-b030-328f4ee8e56d",
   "metadata": {
    "id": "0816c920-ea6d-435e-b030-328f4ee8e56d"
   },
   "source": [
    "* O furacão Katrina atingiu a costa na madrugada de 29 de agosto de 2005, no sudeste da Louisiana, a leste de Nova Orleans. \n",
    "* Em toda a área, diques e paredes de inundação falharam ou foram rompidos em mais de 50 locais.\n",
    "* Oitenta por cento da cidade de Nova Orleans foi inundada, a uma profundidade de mais de 3 m em alguns bairros."
   ]
  },
  {
   "cell_type": "markdown",
   "id": "935a9921-8414-4fbe-9a4c-45252dec3bbf",
   "metadata": {
    "id": "935a9921-8414-4fbe-9a4c-45252dec3bbf"
   },
   "source": [
    "### Explosão da plataforma Deepwater Horizon - Golfo do México - EUA - 2010"
   ]
  },
  {
   "cell_type": "markdown",
   "id": "87ba83ab-cb2d-46b4-b480-c62400f5ca9c",
   "metadata": {
    "id": "87ba83ab-cb2d-46b4-b480-c62400f5ca9c"
   },
   "source": [
    "<img src=\"./images/deepwater_horizon.jpg\" alt=\"deepwater_horizon\" style=\"width:474px\"/>"
   ]
  },
  {
   "cell_type": "markdown",
   "id": "dfce549c-321d-4488-b761-575b29f2d994",
   "metadata": {
    "id": "dfce549c-321d-4488-b761-575b29f2d994"
   },
   "source": [
    "Fonte: https://www.fatosdesconhecidos.com.br/wp-content/uploads/2019/10/AM-BH230_BPCASE_M_20150118161036-1-600x400.jpg"
   ]
  },
  {
   "cell_type": "markdown",
   "id": "0c4ac66b-f187-4d15-ba0d-8836064c2342",
   "metadata": {
    "id": "0c4ac66b-f187-4d15-ba0d-8836064c2342"
   },
   "source": [
    "* A sonda estava na fase final da perfuração de um poço no Golfo do México.\n",
    "* Uma falha no revestimento do poço possibilitou que os fluidos inflamáveis fossem liberados descontroladamente.\n",
    "* Morreram onze pessoas em consequência deste acidente.\n",
    "* O derrame de petróleo resultante prejudicou o habitat de centenas de espécies de animais."
   ]
  },
  {
   "cell_type": "markdown",
   "id": "d25471a5-5481-436d-9cd2-5430db70cd62",
   "metadata": {
    "id": "d25471a5-5481-436d-9cd2-5430db70cd62"
   },
   "source": [
    "### Queda do Pavilhão da Gameleira - Belo Horizonte - MG - Brasil - 1971"
   ]
  },
  {
   "cell_type": "markdown",
   "id": "5553999c-8606-4d79-b01f-6f8d23649f5c",
   "metadata": {
    "id": "5553999c-8606-4d79-b01f-6f8d23649f5c"
   },
   "source": [
    "<img src=\"./images/gameleira.png\" alt=\"gameleira\" style=\"width:474px\"/>"
   ]
  },
  {
   "cell_type": "markdown",
   "id": "f4fc871a-04db-4bc5-b7af-b4ad925ff7fc",
   "metadata": {
    "id": "f4fc871a-04db-4bc5-b7af-b4ad925ff7fc"
   },
   "source": [
    "Fonte: https://4.bp.blogspot.com/-1AK_Exf8oSI/Un6XquM3ALI/AAAAAAAAHrA/XA2Xpe3KOIs/s1600/Gameleira+1.PNG"
   ]
  },
  {
   "cell_type": "markdown",
   "id": "6783f301-eee0-4514-aa0b-dc3a95933225",
   "metadata": {
    "id": "6783f301-eee0-4514-aa0b-dc3a95933225"
   },
   "source": [
    "* Em 4 de fevereiro de 1971, morreram 69 operários e 50 ficaram feridos no desabamento do Pavilhão de Exposições da Gameleira.\n",
    "* É tido como o maior acidente da construção civil brasileira.\n",
    "* Ignorando a opinião de operários, que alertaram os engenheiros sobre fissuras e estalos nos alicerces, foi dada ordem para a retirada do escoramento da obra.\n"
   ]
  },
  {
   "cell_type": "markdown",
   "id": "ae030a05-41db-4199-8186-8d2876ecb498",
   "metadata": {
    "id": "ae030a05-41db-4199-8186-8d2876ecb498"
   },
   "source": [
    "### Queda do Edifício Palace II - Rio de Janeiro - RJ - Brasil - 1998"
   ]
  },
  {
   "cell_type": "markdown",
   "id": "fee02b8c-5bfe-40ea-a5c5-c5b265a4b459",
   "metadata": {
    "id": "fee02b8c-5bfe-40ea-a5c5-c5b265a4b459"
   },
   "source": [
    "<img src=\"./images/palaceii.jpg\" alt=\"palaceii\" style=\"width:474px\"/>"
   ]
  },
  {
   "cell_type": "markdown",
   "id": "dba4f0b8-19f8-417e-b9f3-94395bbd1d72",
   "metadata": {
    "id": "dba4f0b8-19f8-417e-b9f3-94395bbd1d72"
   },
   "source": [
    "Fonte: https://ogimg.infoglobo.com.br/in/22423721-27b-b80/FT1086A/652/40700851_24021998DOMINGOS-PEIXOTORIPREDIO-PALACE-IIQUE-DESABOU-NA-BARRA-DA-TIJUCA-OS.jpg"
   ]
  },
  {
   "cell_type": "markdown",
   "id": "43fed19a-d4d8-4abf-aba5-10c49f7177f6",
   "metadata": {
    "id": "43fed19a-d4d8-4abf-aba5-10c49f7177f6"
   },
   "source": [
    "* Palace II foi um edifício residencial de 22 andares, construído na Barra da Tijuca, Rio de Janeiro.\n",
    "* Foi implodido no dia 28 de fevereiro de 1998.\n",
    "* As investigações encontraram como causa da tragédia um erro estrutural de cálculo (assinado pelo engenheiro responsável) nas colunas de sustentação do prédio.\n",
    "* Também foram detectados erros de construção."
   ]
  },
  {
   "cell_type": "markdown",
   "id": "70b44e89-fcc5-4b1a-a333-b38848767cd1",
   "metadata": {
    "id": "70b44e89-fcc5-4b1a-a333-b38848767cd1"
   },
   "source": [
    "### Desabamento no Metrô Linha 4 - São Paulo - SP - 2007"
   ]
  },
  {
   "cell_type": "markdown",
   "id": "e3ae9f32-8f50-4eeb-afe6-b67ba8394915",
   "metadata": {
    "id": "e3ae9f32-8f50-4eeb-afe6-b67ba8394915"
   },
   "source": [
    "<img src=\"./images/metro_linha_4.jpg\" alt=\"metro_linha_4\" style=\"width:474px\"/>"
   ]
  },
  {
   "cell_type": "markdown",
   "id": "7688e09e-69d5-4ced-8065-7e63fd3670b6",
   "metadata": {
    "id": "7688e09e-69d5-4ced-8065-7e63fd3670b6"
   },
   "source": [
    "Fonte: https://www.esquerdadiario.com.br/local/cache-vignettes/L720xH481/arton12149-643d4.jpg?1626324725"
   ]
  },
  {
   "cell_type": "markdown",
   "id": "9d2195c4-ca70-4cf7-8d01-495ba0fed658",
   "metadata": {
    "id": "9d2195c4-ca70-4cf7-8d01-495ba0fed658"
   },
   "source": [
    "* Em 12 de janeiro de 2007, a população de São Paulo foi surpreendida por um desabamento repentino e assustador.\n",
    "* Aconteceu no canteiro de obras da estação Pinheiros da Linha 4-Amarela.\n",
    "* Abriu uma cratera com cerca de 80 m de diâmetro e vários metros de profundidade, arrastando quatro caminhões, um micro‑ônibus, dois carros e matando sete pessoas.\n"
   ]
  },
  {
   "cell_type": "markdown",
   "id": "6cae3c7c-b772-4c9d-8a8e-e8598ad57281",
   "metadata": {
    "id": "6cae3c7c-b772-4c9d-8a8e-e8598ad57281"
   },
   "source": [
    "### Queda do Edifício Real Class - Belém do Pará - PA - Brasil - 2011"
   ]
  },
  {
   "cell_type": "markdown",
   "id": "48d1550a-168a-4f56-a26b-b87f8946e363",
   "metadata": {
    "id": "48d1550a-168a-4f56-a26b-b87f8946e363"
   },
   "source": [
    "<img src=\"./images/real_class.jpg\" alt=\"real_class\" style=\"width:474px\"/>"
   ]
  },
  {
   "cell_type": "markdown",
   "id": "4092487e-1288-4846-a38d-10bd727681eb",
   "metadata": {
    "id": "4092487e-1288-4846-a38d-10bd727681eb"
   },
   "source": [
    "Fonte: http://1.bp.blogspot.com/-OWlPIDUVpiU/TyXU9hXpqdI/AAAAAAAAJTI/qxhAUw4ryH4/s320/Real-Class.jpg"
   ]
  },
  {
   "cell_type": "markdown",
   "id": "ebbc5161-9636-472f-be57-9b47193c2403",
   "metadata": {
    "id": "ebbc5161-9636-472f-be57-9b47193c2403"
   },
   "source": [
    "* O edifício Real Class, de 35 andares, em Belém, desabou no dia 29 de janeiro de 2011.\n",
    "* Três pessoas morreram: dois operários e uma mulher idosa, que estava em uma casa vizinha quando o prédio caiu.\n",
    "* Concepção estrutural inadequada levou ao colapso do prédio quando a estrutura foi submetida a uma combinação elevada de carregamentos verticais e horizontais. \n",
    "* Fundações foram corretamente projetadas."
   ]
  },
  {
   "cell_type": "markdown",
   "id": "d7a9893d-74e7-4936-be53-1162bd0a9b00",
   "metadata": {
    "id": "d7a9893d-74e7-4936-be53-1162bd0a9b00"
   },
   "source": [
    "### Ruptura da barragem de Brumadinho - MG - Brasil - 2019"
   ]
  },
  {
   "cell_type": "markdown",
   "id": "827eb7f9-f826-46e7-b993-76ca4c4c4148",
   "metadata": {
    "id": "827eb7f9-f826-46e7-b993-76ca4c4c4148"
   },
   "source": [
    "<img src=\"./images/brumadinho.png\" alt=\"brumadinho\" style=\"width:474px\"/>"
   ]
  },
  {
   "cell_type": "markdown",
   "id": "54c73035-a3fb-46a9-b82f-2edaf9c349ad",
   "metadata": {
    "id": "54c73035-a3fb-46a9-b82f-2edaf9c349ad"
   },
   "source": [
    "Fonte: https://ogimg.infoglobo.com.br/in/23420350-121-173/FT1086A/652/Screenshot_6.png"
   ]
  },
  {
   "cell_type": "markdown",
   "id": "fcb77f16-426e-4e07-9fe3-8dc142e679bc",
   "metadata": {
    "id": "fcb77f16-426e-4e07-9fe3-8dc142e679bc"
   },
   "source": [
    "* A ruptura da barragem de Brumadinho, em 25 de janeiro de 2019, foi o maior acidente com barragens no Brasil em perda de vidas humanas.\n",
    "* A barragem servia para a contenção de rejeitos de mineração.\n",
    "* Foi um dos maiores desastres ambientais da mineração do país, após o rompimento da barragem em Mariana, MG, em 2015.\n",
    "* Este desastre industrial, humanitário e ambiental provocou a morte de 270 pessoas, incluindo dez desaparecidas."
   ]
  },
  {
   "cell_type": "markdown",
   "id": "8706e630-e4e5-439c-9bde-62dfa36456f9",
   "metadata": {
    "id": "8706e630-e4e5-439c-9bde-62dfa36456f9"
   },
   "source": [
    "### __Por quê??__"
   ]
  },
  {
   "cell_type": "markdown",
   "id": "5f2c6f09-6d0b-468d-80ee-af7624a2f167",
   "metadata": {
    "id": "5f2c6f09-6d0b-468d-80ee-af7624a2f167"
   },
   "source": [
    "<img src=\"./images/why_buildings_fall_down.jpg\" alt=\"why_buildings_fall_down\" style=\"width:474px\"/>"
   ]
  },
  {
   "cell_type": "markdown",
   "id": "df5ef7c3-b36d-40ec-bc47-027fe2c0dc77",
   "metadata": {
    "id": "df5ef7c3-b36d-40ec-bc47-027fe2c0dc77"
   },
   "source": [
    "<img src=\"./images/salvadori_mother-in-law.jpg\" alt=\"salvadori_mother-in-law\" style=\"width:474px\"/>"
   ]
  },
  {
   "cell_type": "markdown",
   "id": "109d3f29-9d9b-403e-bc72-51380431152d",
   "metadata": {
    "id": "109d3f29-9d9b-403e-bc72-51380431152d"
   },
   "source": [
    "## __1.2 - Incertezas no projeto de Engenharia__ <a name=\"section_2\"></a>"
   ]
  },
  {
   "cell_type": "markdown",
   "id": "82cfd8ff-e1c6-4d9e-8115-920f670e2f42",
   "metadata": {
    "id": "82cfd8ff-e1c6-4d9e-8115-920f670e2f42"
   },
   "source": [
    "<img src=\"./images/projeto_em_engenharia.jpg\" alt=\"projeto_em_engenharia\" style=\"width:474px\"/>"
   ]
  },
  {
   "cell_type": "markdown",
   "id": "03a891f9-183e-496e-97b9-11fb843485b4",
   "metadata": {
    "id": "03a891f9-183e-496e-97b9-11fb843485b4"
   },
   "source": [
    "Fonte: adaptada de http://www.gpskal.com.br/wp-content/uploads/2015/11/engenharia-001.jpg"
   ]
  },
  {
   "cell_type": "markdown",
   "id": "89f992fd-045a-4494-b30d-420d65d88beb",
   "metadata": {
    "id": "89f992fd-045a-4494-b30d-420d65d88beb"
   },
   "source": [
    "Projetos de Engenharia devem ser realizados sem informações completas sobre o sistema a ser criado.\n",
    "\n",
    "Em todo o projeto existem __incertezas__: propriedades dos materiais, dimensões, cargas, métodos de cálculo, etc.\n"
   ]
  },
  {
   "cell_type": "markdown",
   "id": "1790c94a-ef3b-4eca-a721-de5fd2cdbcad",
   "metadata": {
    "id": "1790c94a-ef3b-4eca-a721-de5fd2cdbcad"
   },
   "source": [
    "### __Incertezas__: aquilo que não sabemos ao certo."
   ]
  },
  {
   "cell_type": "markdown",
   "id": "c384cee6-7b50-4db8-b924-b198fe8da222",
   "metadata": {
    "id": "c384cee6-7b50-4db8-b924-b198fe8da222"
   },
   "source": [
    "__a) Incertezas físicas__: geralmente presentes nas dimensões, ações, propriedades dos materiais, etc;\n"
   ]
  },
  {
   "cell_type": "markdown",
   "id": "81eb23fe-3294-4b6b-9ebd-16df4fdf3b65",
   "metadata": {
    "id": "81eb23fe-3294-4b6b-9ebd-16df4fdf3b65"
   },
   "source": [
    "<img src=\"./images/fc_dique_seco_rg.jpg\" alt=\"fc_dique_seco_rg\" style=\"width:474px\"/>"
   ]
  },
  {
   "cell_type": "markdown",
   "id": "5a37fee5-618a-49ff-a8a7-5a826acfe224",
   "metadata": {
    "id": "5a37fee5-618a-49ff-a8a7-5a826acfe224"
   },
   "source": [
    "A figura acima mostra a variação da resistência à compressão do concreto utilizado na construção do dique seco do Estaleiro Rio Grande, medida em 183 corpos de prova 10x20, no porto de Rio Grande - RS, com $f_{ck}$ = 35 MPa. Observa-se que a resistência varia de um exemplar para outro."
   ]
  },
  {
   "cell_type": "markdown",
   "id": "05dc4962-eaf5-48a1-b8ac-26aeca829dc1",
   "metadata": {
    "id": "05dc4962-eaf5-48a1-b8ac-26aeca829dc1"
   },
   "source": [
    "__b)Incertezas  estatísticas:__  provenientes  da  extrapolação  de  parâmetros  estatísticos obtidos a partir de uma amostra finita a uma população inteira;\n"
   ]
  },
  {
   "cell_type": "markdown",
   "id": "81b15a35-f634-4250-a855-42160b153c99",
   "metadata": {
    "id": "81b15a35-f634-4250-a855-42160b153c99"
   },
   "source": [
    "<img src=\"./images/histograma.jpg\" alt=\"histograma_fc\" style=\"width:474px\"/>"
   ]
  },
  {
   "cell_type": "markdown",
   "id": "8773af23-63c8-4fc8-b8ba-51fa8077be0b",
   "metadata": {
    "id": "8773af23-63c8-4fc8-b8ba-51fa8077be0b"
   },
   "source": [
    "A figura acima mostra um histograma da resistência à compressão de corpos de prova cilíndricos do concreto com $f_{ck}=40MPa$ utilizado na construção do dique seco do Estaleiro Rio Grande, no porto de Rio Grande, RS. A linha vermelha mostra o ajuste de uma distribuição normal com $f_{cm}= 49,49MPa$ e desvio padrão $\\sigma_{fc}=3,92MPa$ a esta amostra com 434 exemplares."
   ]
  },
  {
   "cell_type": "markdown",
   "id": "f9180a64-79e6-4f52-85e1-3c124ebf7d20",
   "metadata": {
    "id": "f9180a64-79e6-4f52-85e1-3c124ebf7d20"
   },
   "source": [
    "__c) Incertezas  devido  a  fatores  humanos__:  ação  do  homem,  intencional  ou  não,  no comportamento do sistema estrutural (ex.: medições em laboratório);"
   ]
  },
  {
   "cell_type": "markdown",
   "id": "942f7eea-1953-4125-b27b-5a3c2d0dd77e",
   "metadata": {
    "id": "942f7eea-1953-4125-b27b-5a3c2d0dd77e"
   },
   "source": [
    "<img src=\"./images/ensaio_compressão.jpg\" alt=\"ensaio_compressão\" style=\"width:474px\"/>"
   ]
  },
  {
   "cell_type": "markdown",
   "id": "fbb06d8d-1a35-4ed7-b6aa-7c031d9a6fbe",
   "metadata": {},
   "source": [
    "Fonte: http://www.paulofilhoengenharia.com.br/images/atuacao/Lab-concreto/Laboratorio_05.jpg"
   ]
  },
  {
   "cell_type": "markdown",
   "id": "2480b272-4e0a-4112-b3d4-547fc4d86010",
   "metadata": {
    "id": "2480b272-4e0a-4112-b3d4-547fc4d86010"
   },
   "source": [
    "O resultado de um ensaio de resistência à compressão do concreto em laboratório depende também do nível de treinamento do laboratorista."
   ]
  },
  {
   "cell_type": "markdown",
   "id": "a2029a84-d4e0-4b31-9194-cad464439836",
   "metadata": {
    "id": "a2029a84-d4e0-4b31-9194-cad464439836"
   },
   "source": [
    "__d) Incertezas de cunho fenomenológico:__ existência de eventos não previsíveis e não levados em consideração;"
   ]
  },
  {
   "cell_type": "markdown",
   "id": "af79a44a-2351-4fae-a4e4-1f4bda73c0e8",
   "metadata": {
    "id": "af79a44a-2351-4fae-a4e4-1f4bda73c0e8"
   },
   "source": [
    "<img src=\"./images/tacoma-narrows-bridge.jpg\" alt=\"tacoma-narrows-bridge\" style=\"width:474px;\"/>"
   ]
  },
  {
   "cell_type": "markdown",
   "id": "04379f5c-4c39-4e49-9bed-138190d44238",
   "metadata": {
    "id": "04379f5c-4c39-4e49-9bed-138190d44238"
   },
   "source": [
    "O fênomeno aerodinâmico de ressonância em tabuleiros esbeltos de pontes pênseis não era perfeitamente conhecido na época da construção da ponte de Tacoma Narrows, e sua ocorrência não foi prevista no projeto da ponte."
   ]
  },
  {
   "cell_type": "markdown",
   "id": "a3d03033-fd95-404c-9cc9-3f00a33a60f6",
   "metadata": {
    "id": "a3d03033-fd95-404c-9cc9-3f00a33a60f6"
   },
   "source": [
    "__e) Incertezas  de  modelamento:__  proveniente  das  simplificações  e  das  hipóteses  adotadas para a modelagem do comportamento estrutural, etc."
   ]
  },
  {
   "cell_type": "markdown",
   "id": "f7753343-88ef-4e29-928f-742f004d9860",
   "metadata": {
    "id": "f7753343-88ef-4e29-928f-742f004d9860"
   },
   "source": [
    "<img src=\"./images//modelo_navio_ondas.jpg\" alt=\"Incertezas de Modelo\" style=\"width:600px\"/>"
   ]
  },
  {
   "cell_type": "markdown",
   "id": "ed61e376-6377-45d3-b587-624f2dc51a18",
   "metadata": {},
   "source": [
    "Fontes: (a) https://www.hellenicshippingnews.com/wp-content/uploads/2015/08/Frontline-Front-Ardenne-VLCC-BIG.jpg  \n",
    "        (b) http://www.umich.edu/~vrl/sel_prj/wave_ship/view01.web.gif"
   ]
  },
  {
   "cell_type": "markdown",
   "id": "d158888e-916d-4270-b2a9-9fc7d5630a42",
   "metadata": {
    "id": "d158888e-916d-4270-b2a9-9fc7d5630a42"
   },
   "source": [
    "Modelo simplificado de ação das ondas do mar sobre um navio."
   ]
  },
  {
   "cell_type": "markdown",
   "id": "01d189bf-2d29-4973-a211-23bd028766c8",
   "metadata": {
    "id": "01d189bf-2d29-4973-a211-23bd028766c8"
   },
   "source": [
    "### __Garantia de performance de um sistema de Engenharia__"
   ]
  },
  {
   "cell_type": "markdown",
   "id": "2f60a7ff-a496-4b3a-8f7b-9e9543dd1ddc",
   "metadata": {
    "id": "2f60a7ff-a496-4b3a-8f7b-9e9543dd1ddc"
   },
   "source": [
    "* Como existem __incertezas__ no projeto existe sempre algum __risco__ de o sistema não atingir a performance estabelecida.\n",
    "* Então, a garantia de performance do sistema não pode ser estabelecida  com 100% de segurança.\n"
   ]
  },
  {
   "cell_type": "markdown",
   "id": "05bcf307-a6d8-41c1-88cb-32a83a362b78",
   "metadata": {
    "id": "05bcf307-a6d8-41c1-88cb-32a83a362b78"
   },
   "source": [
    "<img src=\"./images/incerteza_risco.jpg\" alt=\"Incerteza x Risco\" style=\"width:474px\"/>"
   ]
  },
  {
   "cell_type": "markdown",
   "id": "6c9e0d50-b0a6-4d99-9ad2-1d5a0311c943",
   "metadata": {
    "id": "6c9e0d50-b0a6-4d99-9ad2-1d5a0311c943"
   },
   "source": [
    "### __Exemplo: projeto de uma estrutura offshore__"
   ]
  },
  {
   "cell_type": "markdown",
   "id": "ccbff9a2-0709-4fd9-8186-7f183e03fe08",
   "metadata": {
    "id": "ccbff9a2-0709-4fd9-8186-7f183e03fe08"
   },
   "source": [
    "<img src=\"./images/offshore_structure.jpg\" alt=\"offshore_structure\" style=\"width:474px\"/>"
   ]
  },
  {
   "cell_type": "markdown",
   "id": "f1f45803-0c7f-4c0c-85a0-ea62b1d9e80e",
   "metadata": {},
   "source": [
    "Fonte: https://www.copper.org/applications/marine/cuni/images/cuandni03.gif"
   ]
  },
  {
   "cell_type": "markdown",
   "id": "9031dc8b-22f2-4b99-bd6c-15744c5af420",
   "metadata": {
    "id": "9031dc8b-22f2-4b99-bd6c-15744c5af420"
   },
   "source": [
    "### __Incertezas:__\n",
    "* Qual o máximo valor da __carga__ que vai atuar sobre a estrutura durante sua vida útil?\n",
    "* Qual será o mínimo valor da __resistência do material__  empregado na estrutura?\n",
    "* Quais as __dimensões reais__ das peças estruturais após a construção?\n",
    "* Qual a precisão do __modelo de análise estrutural__?\n"
   ]
  },
  {
   "cell_type": "markdown",
   "id": "42b0b2fe-cd30-4ac5-be52-28226efaa58d",
   "metadata": {
    "id": "42b0b2fe-cd30-4ac5-be52-28226efaa58d"
   },
   "source": [
    "### __Risco em Engenharia:__"
   ]
  },
  {
   "cell_type": "markdown",
   "id": "54604485-18b2-40f6-b75a-4408826dcdbb",
   "metadata": {
    "id": "54604485-18b2-40f6-b75a-4408826dcdbb"
   },
   "source": [
    "* Onde existe __incerteza__ existirá __risco__!\n",
    "* O risco de falha em sistemas de Engenharia é frequentemente inevitável!\n",
    "* A __segurança__ de um sistema de Engenharia somente pode ser estabelecida em termos de __probabilidade__!"
   ]
  },
  {
   "cell_type": "markdown",
   "id": "37103105-a930-433e-b304-d85af3b0d79e",
   "metadata": {
    "id": "37103105-a930-433e-b304-d85af3b0d79e"
   },
   "source": [
    "> Failure is central to engineering. Every single calculation that an engineer makes is a failure calculation. Successful engineering is all about understanding how things break or fail. Henry Petroski"
   ]
  },
  {
   "cell_type": "markdown",
   "id": "828ff78f-8019-400e-ba88-48c4ff584f53",
   "metadata": {
    "id": "162b3627-6407-4526-b18b-01bcb92e4a46"
   },
   "source": [
    "## __1.3 - Análise e avaliação da segurança: A Teoria da Confiabilidade__ <a name=\"section_3\"></a>"
   ]
  },
  {
   "cell_type": "markdown",
   "id": "1510e612-0436-46fa-a7fd-6aab315e3aa1",
   "metadata": {},
   "source": [
    "### __Confiabilidade de sistemas em Engenharia__"
   ]
  },
  {
   "cell_type": "markdown",
   "id": "5b54bc6b-e5c0-4fc6-a4aa-0a67a405e2db",
   "metadata": {},
   "source": [
    "* Objetivo do projeto em Engenharia: assegurar a performance de um sistema dentro de restrições econômicas.\n"
   ]
  },
  {
   "cell_type": "markdown",
   "id": "cb2c1e73-a59d-42a5-8739-7f648f5170bc",
   "metadata": {},
   "source": [
    "> __Confiabilidade__ é a __medida probabilística__ de que um sistema __desempenhará a função__ para a qual foi projetado, durante sua __vida útil__, dentro das __condições especificadas__ para seu funcionamento.\n"
   ]
  },
  {
   "cell_type": "markdown",
   "id": "ca5b6a7b-c0bb-4c96-b95f-31c50a21f216",
   "metadata": {},
   "source": [
    "$R$ = capacidade ou resistência de um sistema de Engenharia  \n",
    "$S$ = demanda ou solicitação de um sistema de Engenharia  \n",
    "$P(X)$ = probabilidade de que um evento $X$ tem de ocorrer"
   ]
  },
  {
   "cell_type": "markdown",
   "id": "c02c5d64-c59a-4991-a267-4c3f04295229",
   "metadata": {},
   "source": [
    "__Confiabilidade:__ $C=P(R>S)$"
   ]
  },
  {
   "cell_type": "markdown",
   "id": "54f94838-2a9a-4b93-a5f3-b5c26477f5fa",
   "metadata": {},
   "source": [
    "Ou seja, confiabilidade é a probabilidade de que a capacidade do sistema será maior do que a demanda, garantindo que o sistema realizará sua função!"
   ]
  },
  {
   "cell_type": "markdown",
   "id": "88ec43f2-5534-4832-8a2a-b9628a2d7c10",
   "metadata": {},
   "source": [
    "__Probabilidade de falha:__ $P_f=P(R<S)$"
   ]
  },
  {
   "cell_type": "markdown",
   "id": "3f30e7ef-2c74-4e82-be5d-0a2ea9b14ca8",
   "metadata": {},
   "source": [
    "A probabilidade de falha é a possibilidade que existe de a capacidade do sistema ser menor do que a demanda, ou seja, a possibilidade de que o sistema não cumprirá a função para o qual foi projetado."
   ]
  },
  {
   "cell_type": "markdown",
   "id": "b55bf4c3-8846-4660-acb4-60c675035b13",
   "metadata": {},
   "source": [
    "### Problema da Confiabilidade:"
   ]
  },
  {
   "cell_type": "markdown",
   "id": "8bd6d466-0c2a-4f81-a66d-3e458a7660ad",
   "metadata": {},
   "source": [
    "<img src=\"./images/problema_da_confiabilidade.jpg\" alt=\"problema_da_confiabilidade\" style=\"width:474px\"/>"
   ]
  },
  {
   "cell_type": "markdown",
   "id": "71e4803a-7425-4b2f-b226-05ef2e6afaa6",
   "metadata": {},
   "source": [
    "* Determinar a capacidade do sistema ($R$) capaz de atender a demanda pelo sistema ($S$) dentro de uma certa probabilidade de falha ($P_f$)."
   ]
  },
  {
   "cell_type": "markdown",
   "id": "e530ff0d-3878-4151-8caf-f292713de454",
   "metadata": {},
   "source": [
    "### Exemplos de análise de confiabilidade:"
   ]
  },
  {
   "cell_type": "markdown",
   "id": "771f22f3-0127-4cb3-b15c-9bcd3d2e048d",
   "metadata": {},
   "source": [
    "![Exemplos de análise de confiabilidade](images/exemplos_confiabilidade.jpg \"exemplos_confiabilidade\")"
   ]
  },
  {
   "cell_type": "markdown",
   "id": "956c2c3d-0566-41ba-9c71-068ca96ca11a",
   "metadata": {},
   "source": [
    "a) Determinar a capacidade resistente de uma estrutura para suportar determinado carregamento.  \n",
    "b) Determinar a capacidade de um reservatório para atender à demanda de água de uma cidade.  \n",
    "c) Determinar a altura de um molhe de proteção para a maior altura de onda.  \n",
    "d) Determinar a extensão de um cais de porto para atender à demanda de chegada de navios.  "
   ]
  },
  {
   "cell_type": "markdown",
   "id": "c5dd57a8-e11a-45d9-b5ae-f0b22136cc0a",
   "metadata": {},
   "source": [
    "### Confiabilidade na Engenharia"
   ]
  },
  {
   "cell_type": "markdown",
   "id": "bd33121a-984e-4c2b-b715-9229721bbc20",
   "metadata": {},
   "source": [
    "* Na Engenharia a confiabilidade é garantida através de: __coeficientes de segurança__ ou __margens de segurança__.\n",
    "* Normalmente também são adotadas __hipóteses conservadoras de projeto__.\n",
    "* A __máxima demanda__ deve ser suportada pela __capacidade mínima__ do sistema dentro de uma certa __margem de segurança__."
   ]
  },
  {
   "cell_type": "markdown",
   "id": "17bcef0b-bec2-4172-bd77-fe31940e4d78",
   "metadata": {},
   "source": [
    "* É preciso se garantir que: $$R-S>0$$   \n",
    "ou que:   $$\\frac{R}{S}>1,0$$."
   ]
  },
  {
   "cell_type": "markdown",
   "id": "07833f38-3461-46a5-b225-f6b6fa52415f",
   "metadata": {},
   "source": [
    "### Questões importantes:"
   ]
  },
  {
   "cell_type": "markdown",
   "id": "9202c97b-bc3e-4bf2-be1b-3470ced23524",
   "metadata": {},
   "source": [
    "<img src=\"./images/demanda_capacidade.jpg\" alt=\"demanda x capacidade\" style=\"width:474px\"/>"
   ]
  },
  {
   "cell_type": "markdown",
   "id": "df625afd-5b20-4e7a-813e-abfbe69debb8",
   "metadata": {},
   "source": [
    "* Qual será a demanda máxima do sistema?\n",
    "* Qual será a capacidade mínima do sistema?\n",
    "* Qual a margem de segurança adequada?\n",
    "\n",
    "* Tradicionalmente estas perguntas são respondidas com base na experiência de projeto, construção e operação de sistemas anteriores.\n",
    "\n",
    "* O que fazer quando o sistema a ser construído é diferente da experiência anterior? Novos materiais, formas estruturais inovadoras, carregamentos especiais, etc.\n",
    "\n",
    "* Aplicar os princípios e métodos da __Teoria da Confiabilidade__.\n"
   ]
  },
  {
   "cell_type": "markdown",
   "id": "3f4962f1-91e4-4972-8471-4c8f7004f4ea",
   "metadata": {},
   "source": [
    "<img src=\"./images/pdf_S_R.jpg\" alt=\"pdfs de S e de R\" style=\"width:474px\"/>"
   ]
  },
  {
   "cell_type": "markdown",
   "id": "aed54e1f-9adc-453f-91d0-9b001617f237",
   "metadata": {},
   "source": [
    "* Para avaliar a incerteza presente no projeto de Engenharia a demanda e a capacidade do sistema são tratadas como variáveis aleatórias.\n",
    "\n",
    "* A __confiabilidade__ do sistema pode ser avaliada em termos de __probabilidade__.\n",
    "\n",
    "* Variáveis aleatórias:\n",
    "* $R$ = capacidade do sistema (resistência)\n",
    "* $S$ = demanda do sistema (solicitação)"
   ]
  },
  {
   "cell_type": "markdown",
   "id": "a04e4671-31c2-4797-b1df-7d49c1aec33a",
   "metadata": {},
   "source": [
    "![seta para baixo](images/seta_para_baixo.jpg)"
   ]
  },
  {
   "cell_type": "markdown",
   "id": "f03bd2b2-6cf5-41b8-8c7b-f554a4bb7d1e",
   "metadata": {},
   "source": [
    "* __Análise de confiabilidade__: garantir o evento ($R > S$) ao longo da __vida útil__ estabelecida para o sistema.\n",
    "* Determinar a probabilidade: $P(R>S)$ = confiabilidade\n",
    "* A probabilidade de falha será: $P_f = P(R<S) = 1- P(R>S)$"
   ]
  },
  {
   "cell_type": "markdown",
   "id": "a1f3f250-37fc-4f87-b466-9d9cb2a14a80",
   "metadata": {},
   "source": [
    "* Determinação da probabilidade de falha $P_f$\n",
    "* Para variáveis $R$ e $S$ contínuas:"
   ]
  },
  {
   "cell_type": "markdown",
   "id": "f726cab6-1ea4-46e6-9f49-b9485b16274b",
   "metadata": {},
   "source": [
    "$$P_f= \\int_{-\\infty}^{+\\infty}F_R(s)f_s(s)ds$$"
   ]
  },
  {
   "cell_type": "markdown",
   "id": "5125f359-d641-4127-9a43-c7fb6df3f7fd",
   "metadata": {},
   "source": [
    "Onde: $P(R<s)=F_R(s)$ e $P(s \\leq S \\leq s+ds)=f_S(s)ds$."
   ]
  },
  {
   "cell_type": "markdown",
   "id": "312246b8-6bdd-41a3-9e88-99f6fbb32673",
   "metadata": {},
   "source": [
    "* A probabilidade de não-falha, ou seja, a probabilidade de segurança (confiabilidade) será dada por: $C = 1 - P_f$\n"
   ]
  },
  {
   "cell_type": "markdown",
   "id": "362e7cc7-ed19-4476-845a-dfb34d064644",
   "metadata": {},
   "source": [
    "* Assim, por exemplo, se $P_f=0,0001 = \\frac{1}{10.000} = 0,01\\%$, então: $C = 1 - 0,0001 = 0,9999 = 99,99\\%$"
   ]
  },
  {
   "cell_type": "markdown",
   "id": "0d7b24af-7d14-4135-b9b3-6894f9724cc3",
   "metadata": {},
   "source": [
    "### Probabilidade de falha"
   ]
  },
  {
   "cell_type": "markdown",
   "id": "057c1417-bf12-4c48-900f-f6f8b7549a41",
   "metadata": {},
   "source": [
    "<img src=\"./images/probabilidade_de_falha.jpg\" alt=\"probabilidade_de_falha\" style=\"width:474px\"/>"
   ]
  },
  {
   "cell_type": "markdown",
   "id": "7353638e-8f27-46e7-986c-dec0c19995fa",
   "metadata": {},
   "source": [
    "A sobreposição entre as curvas $f_S(s)$ e $f_R(r)$ representa uma medida qualitativa da probabilidade de falha $P_f$."
   ]
  },
  {
   "cell_type": "markdown",
   "id": "a84f2327-34e9-462f-9d9f-1830cb41eb3d",
   "metadata": {},
   "source": [
    "Fatores que infuenciam a sobreposição entre as curvas de densidade de probabilidade de $R$ e de $S$:\n",
    "1. A __posição relativa__ entre as duas curvas. \n",
    "2. A __dispersão__ das duas curvas. \n",
    "3. A __forma__ das duas curvas."
   ]
  },
  {
   "cell_type": "markdown",
   "id": "86683a33-e47b-4090-899a-2d61b096cad7",
   "metadata": {},
   "source": [
    "### Posição relativa entre as curvas $f_S(s)$ e $f_R(r)$:"
   ]
  },
  {
   "cell_type": "markdown",
   "id": "85896d57-2ea0-4095-9fe0-1d639befe45a",
   "metadata": {},
   "source": [
    "Quanto maior for o afastamento entre as curvas $f_S(s)$ e $f_R(r)$ menor será a  $P_f$. Na figura abaixo, observa-se que a probabilidade de falha para a curva $R_2$ é menor do que para a curva $R_1$. \n"
   ]
  },
  {
   "cell_type": "markdown",
   "id": "6583b03e-b73c-4969-8c9d-c1efc083eba9",
   "metadata": {},
   "source": [
    "<img src=\"./images/afastamento.jpg\" alt=\"afastamento entre as curvas\" style=\"width:474px\"/>"
   ]
  },
  {
   "cell_type": "markdown",
   "id": "4a9af08e-81c2-47ee-8be9-943f52177ef9",
   "metadata": {},
   "source": [
    "* A posição relativa entre  as curvas   $f_S(s)$ e $f_R(r)$ pode ser medida de duas formas:\n",
    "* Pelo coeficiente de segurança central:\n",
    "$$\\theta = \\frac{\\mu_R}{\\mu_S}$$\n",
    "\n",
    "* Pela margem de segurança:\n",
    "$$M = \\mu_R - \\mu_S$$\n"
   ]
  },
  {
   "cell_type": "markdown",
   "id": "d570a468-870d-4ffd-b5af-cf4aa3da387a",
   "metadata": {},
   "source": [
    "### Influência do desvio padrão (dispersão):"
   ]
  },
  {
   "cell_type": "markdown",
   "id": "7dfea9ea-0825-4e90-8365-dc1ae5690148",
   "metadata": {},
   "source": [
    "* Quanto maior for o desvio padrão, maior será a $P_f$."
   ]
  },
  {
   "cell_type": "markdown",
   "id": "d10d276b-2da5-44ec-bc37-0387a998e71a",
   "metadata": {},
   "source": [
    "<img src=\"images/dispersao.jpg\" alt=\"Influência da dispersão\" style=\"width:474px\"/>"
   ]
  },
  {
   "cell_type": "markdown",
   "id": "2b8dbc37-f52b-41df-a11d-de6ae7527a15",
   "metadata": {},
   "source": [
    "A sobreposição entre as curvas também depende do coeficiente de variação das variáveis $R$ e $S$:"
   ]
  },
  {
   "cell_type": "markdown",
   "id": "23b72f54-a0e1-4e1a-8d61-be16afc46ece",
   "metadata": {},
   "source": [
    "* Coeficiente de variação de $R$:"
   ]
  },
  {
   "cell_type": "markdown",
   "id": "0f76a29d-a966-4781-9404-66a44562f42a",
   "metadata": {},
   "source": [
    "$$\\delta_R = \\frac{\\sigma_R}{\\mu_R}$$"
   ]
  },
  {
   "cell_type": "markdown",
   "id": "e48b6d8c-9baa-421a-9382-b3c214423f94",
   "metadata": {},
   "source": [
    "* Coeficiente de variação de $S$:"
   ]
  },
  {
   "cell_type": "markdown",
   "id": "bd9c838a-923c-471d-94e0-47b962309cf1",
   "metadata": {},
   "source": [
    "$$\\delta_S = \\frac{\\sigma_S}{\\mu_S}$$"
   ]
  },
  {
   "cell_type": "markdown",
   "id": "044da3f2-1d5a-4ec9-a20f-d5445e760f2a",
   "metadata": {},
   "source": [
    "### Influência da forma da curva de densidade de probabilidade (tipo de distribuição de probabilidade)"
   ]
  },
  {
   "cell_type": "markdown",
   "id": "4c403c3e-3ccb-48d1-926e-1a41cfe91fb9",
   "metadata": {},
   "source": [
    "<img src=\"./images/normal_lognormal.jpg\" alt=\"Normal x Lognormal\" style=\"width:1000px\"/>"
   ]
  },
  {
   "cell_type": "markdown",
   "id": "e744221d-3012-46a7-878b-7f318250aa70",
   "metadata": {},
   "source": [
    "O tipo de distribuição de probabilidade adotada para $R$ e para $S$, também afeta a sobreposição entre as duas curvas."
   ]
  },
  {
   "cell_type": "markdown",
   "id": "7af888c3-2f19-4127-be12-3e22e412bb9c",
   "metadata": {},
   "source": [
    "### Medida de Segurança (Confiabilidade):"
   ]
  },
  {
   "cell_type": "markdown",
   "id": "b9b8a085-f170-46bc-87c1-82ba687d6010",
   "metadata": {},
   "source": [
    "* Uma __medida da segurança__ ou da __confiabilidade__ de um sistema deve ser uma função da __posição relativa__ entre as funções $f_S(s)$ e $f_R(r)$ bem como de seus __graus de dispersão__."
   ]
  },
  {
   "cell_type": "markdown",
   "id": "fb8bc8be-d75b-4b0e-9675-b6afd646a625",
   "metadata": {},
   "source": [
    "$$P_f \\approx g \\left( \\frac{\\mu_R}{\\mu_S}, \\delta_R, \\delta_S \\right)$$"
   ]
  },
  {
   "cell_type": "markdown",
   "id": "ef3384e3-71e9-488f-b46b-4ee582ffe1e9",
   "metadata": {},
   "source": [
    "### Margem de segurança:"
   ]
  },
  {
   "cell_type": "markdown",
   "id": "23542390-d8ba-41aa-b3fa-5118511d34db",
   "metadata": {},
   "source": [
    "* O problema capacidade x demanda pode ser formulado em termos de margem de segurança: $M=R-S$."
   ]
  },
  {
   "cell_type": "markdown",
   "id": "f73e33b7-a118-48f8-a579-cd894fdf1f58",
   "metadata": {},
   "source": [
    "* Se $R$ e $S$ são variáveis aleatórias, $M$ também será uma variável aleatória, com função densidade de probabilidade $f_M(m)$: "
   ]
  },
  {
   "cell_type": "markdown",
   "id": "9697fcbe-035e-406c-a63e-3d4f951b7a82",
   "metadata": {},
   "source": [
    "<img src=\"./images/pdf_m.jpg\" alt=\"pdf da margem M\" style=\"width:474px\"/>"
   ]
  },
  {
   "cell_type": "markdown",
   "id": "68abfc01-af8a-43f1-8687-abdb71cbd7dc",
   "metadata": {},
   "source": [
    "### Probabilidade de falha $P_f$:"
   ]
  },
  {
   "cell_type": "markdown",
   "id": "b33c3842-7d5f-4b5d-bac4-54bf45d15521",
   "metadata": {},
   "source": [
    "* A falha será a ocorrência do evento: $M<0$\n",
    "* A probabilidade de falha $P_f$, então, será:"
   ]
  },
  {
   "cell_type": "markdown",
   "id": "aabc7480-e448-4c7b-9b7e-6ce4513c15ca",
   "metadata": {},
   "source": [
    "$$P_f=\\int_{-\\infty}^0f_M(m)dm$$"
   ]
  },
  {
   "cell_type": "markdown",
   "id": "e0b9d1be-977c-4c7c-8b13-9401dc3cfc25",
   "metadata": {},
   "source": [
    "Ou seja:"
   ]
  },
  {
   "cell_type": "markdown",
   "id": "9349f801-d2e6-4d88-8b99-7c8bd6df9b05",
   "metadata": {},
   "source": [
    "$$P_f = F_M(0)$$"
   ]
  },
  {
   "cell_type": "markdown",
   "id": "bbd71449-354c-49bd-b0cf-77b5f4a8dfdc",
   "metadata": {},
   "source": [
    "Onde $F_M$ é a densidade de probabilidade acumulada da variável aleatória margem de segurança $M$."
   ]
  },
  {
   "cell_type": "markdown",
   "id": "0f6c647d-c23a-4e00-be13-f500319fe3b2",
   "metadata": {},
   "source": [
    "### Margem de segurança em uma estrutura offshore:"
   ]
  },
  {
   "cell_type": "markdown",
   "id": "d39cfc68-c314-478a-bd51-12188a55bd73",
   "metadata": {},
   "source": [
    "<img src=\"./images/offshore_structure.jpg\" alt=\"offshore_structure\" style=\"width:474px\"/>"
   ]
  },
  {
   "cell_type": "markdown",
   "id": "002627db-0da7-48fd-84af-fdd590dd18f8",
   "metadata": {},
   "source": [
    "Fonte: https://www.copper.org/applications/marine/cuni/images/cuandni03.gif"
   ]
  },
  {
   "cell_type": "markdown",
   "id": "0c20f9c5-5c2b-4baa-8c1a-b45a26a54c6e",
   "metadata": {},
   "source": [
    "* A capacidade resistente $R$ possui distribuição normal: $N(\\mu_R,\\sigma_R)$  \n",
    "* A carga ou solicitação S possui distribuição normal: $N(\\mu_S,\\sigma_S)$\n",
    "* A margem de segurança, $M=R-S$, também terá distribuição normal: $N(\\mu_M,\\sigma_M)$"
   ]
  },
  {
   "cell_type": "markdown",
   "id": "458e1d27-7356-40b5-b075-ed644e9adb5f",
   "metadata": {},
   "source": [
    "A média da margem de segurança $M$ será:"
   ]
  },
  {
   "cell_type": "markdown",
   "id": "385ebde0-e6a2-4401-b678-bb99d344f5e7",
   "metadata": {},
   "source": [
    "$$\\mu_M=\\mu_R-\\mu_S$$"
   ]
  },
  {
   "cell_type": "markdown",
   "id": "db81069a-59dc-459c-b293-efb3066aa1d6",
   "metadata": {},
   "source": [
    "A variância da margem de segurança $M$, para $R$ e $S$ estatisticamente independentes será:"
   ]
  },
  {
   "cell_type": "markdown",
   "id": "0673f830-f719-415d-8037-1760657348fc",
   "metadata": {},
   "source": [
    "$$\\sigma_M^2=\\sigma_R^2+\\sigma_S^2$$"
   ]
  },
  {
   "cell_type": "markdown",
   "id": "47234100-2779-40c4-94a8-31d045afcd69",
   "metadata": {},
   "source": [
    "A variável padronizada:"
   ]
  },
  {
   "cell_type": "markdown",
   "id": "52edb21c-61c1-460b-872b-3bb2f3739566",
   "metadata": {},
   "source": [
    "$$z=\\frac{M-\\mu_M}{\\sigma_M}$$"
   ]
  },
  {
   "cell_type": "markdown",
   "id": "dfbd23ea-afae-49b9-870f-6cbfd8a28a7c",
   "metadata": {},
   "source": [
    "terá distribuição normal $N(0,1)$.   \n",
    "Então, pode-se determinar a probabilidade de falha $P_f$ através da equação:"
   ]
  },
  {
   "cell_type": "markdown",
   "id": "215f27f6-9d18-4066-8fa8-471237b3370c",
   "metadata": {},
   "source": [
    "$$P_f=F_M(0)=\\Phi\\left(\\frac{-\\mu_M}{\\sigma_M}\\right)=1-\\Phi\\left(\\frac{-\\mu_M}{\\sigma_M}\\right)$$"
   ]
  },
  {
   "cell_type": "markdown",
   "id": "69c533b4-a115-4f1c-aadf-e6b7682c0904",
   "metadata": {},
   "source": [
    "Logo, a confiabilidade da estrutura será dada por:"
   ]
  },
  {
   "cell_type": "markdown",
   "id": "bf6a1087-3267-4630-a2c7-bbaa16af5194",
   "metadata": {},
   "source": [
    "$$C=1-P_f=1-F_M(0)=\\Phi\\left(\\frac{\\mu_M}{\\sigma_M}\\right)$$"
   ]
  },
  {
   "cell_type": "markdown",
   "id": "3f5ec818-1a78-4f56-9c19-0e552827f634",
   "metadata": {},
   "source": [
    "### Índice de confiabilidade $\\beta$"
   ]
  },
  {
   "cell_type": "markdown",
   "id": "a33010db-97ad-4632-926c-28da323f222a",
   "metadata": {},
   "source": [
    "É a margem de segurança expressa em unidades de desvio padrão, sendo denominada índice de confiabilidade  e simbolizada por $\\beta$."
   ]
  },
  {
   "cell_type": "markdown",
   "id": "64e15a0b-ec64-435c-a08b-311dd9cb11f0",
   "metadata": {},
   "source": [
    "$$\\beta=\\frac{\\mu_M}{\\sigma_M}=\\frac{\\mu_R-\\mu_S}{\\sqrt{\\sigma_R^2+\\sigma_S^2}}$$"
   ]
  },
  {
   "cell_type": "markdown",
   "id": "37e5a80a-f2fc-4edb-b339-6b45d033028b",
   "metadata": {},
   "source": [
    "<img src=\"./images/beta.jpg\" alt=\"Definição de Beta\" style=\"width:474px\"/>"
   ]
  },
  {
   "cell_type": "markdown",
   "id": "82392da1-843b-4a74-ba43-e3caa510fe60",
   "metadata": {},
   "source": [
    "Pela figura abaixo se observa que quanto maior for o valor de $\\beta$, menor será a probabilidade de falha $P_f$. Portanto, o índice de confiabilidade $\\beta$ é uma medida de segurança da estrutura!"
   ]
  },
  {
   "cell_type": "markdown",
   "id": "5b77dad2-b3e9-4de9-b231-3589377bd261",
   "metadata": {},
   "source": [
    "<img src=\"./images/beta_pf.jpg\" alt=\"Beta x Pf\" style=\"width:474px\"/>"
   ]
  },
  {
   "cell_type": "markdown",
   "id": "2c8e51c5-57a3-4d28-b903-9df33d6bb33d",
   "metadata": {},
   "source": [
    "### Interpretação geométrica do índice de confiabilidade $\\beta$"
   ]
  },
  {
   "cell_type": "markdown",
   "id": "08e258fe-ebd0-4c1a-a22f-96d38629a9a9",
   "metadata": {},
   "source": [
    "Tranformando-se as variáveis normais $R$ e $S$ em variáveis normais padronizadas $r'$ e $s'$\":"
   ]
  },
  {
   "cell_type": "markdown",
   "id": "ba3e6f1f-5e45-44e0-b4e9-c49571f835c4",
   "metadata": {},
   "source": [
    "$$r'=\\frac{R-\\mu_R}{\\sigma_R}$$"
   ]
  },
  {
   "cell_type": "markdown",
   "id": "cf1bde49-0bde-4bcd-91d9-91ebcce02052",
   "metadata": {},
   "source": [
    "e:"
   ]
  },
  {
   "cell_type": "markdown",
   "id": "b89e900b-9c0e-4303-8cdf-7cbae30e88d6",
   "metadata": {},
   "source": [
    "$$s'=\\frac{S-\\mu_S}{\\sigma_S}$$"
   ]
  },
  {
   "cell_type": "markdown",
   "id": "e7be276c-6c5f-4b24-8098-50ee2e5d7e42",
   "metadata": {},
   "source": [
    "Logo, a função margem de segurança $M$, ou função estado limite $g(R,S)$, no espaço das variáveis padronizadas será dada por:"
   ]
  },
  {
   "cell_type": "markdown",
   "id": "198d8e60-273a-4f33-a25c-a63ad7c72a70",
   "metadata": {},
   "source": [
    "$$M=g(R,S)=\\mu_R+r'\\sigma_R-\\mu_S-s'\\sigma_S=0$$"
   ]
  },
  {
   "cell_type": "markdown",
   "id": "98844fa8-f989-4380-b6c4-de4da71a414b",
   "metadata": {},
   "source": [
    "Esta é a equação de uma reta no plano $r'0s'$.\n",
    "Segundo a Geometria Analítica, a distância de um ponto $(x_0,y_0)$, no plano $x0y$, a uma reta $ax+by+c =0$ é dada por:"
   ]
  },
  {
   "cell_type": "markdown",
   "id": "2442519a-0989-4dcb-bca8-3ef32d5e2e40",
   "metadata": {},
   "source": [
    "$$d=\\frac{|ax_0+by_0+c|}{\\sqrt{a^2+b^2}}$$"
   ]
  },
  {
   "cell_type": "markdown",
   "id": "f6741bd9-dcb2-48d1-a36a-e8dd3e3e955e",
   "metadata": {},
   "source": [
    "Logo, a distância da origem do sistema de coordenadas padronizadas $(r',s')$ à reta $\\mu_R+r'\\sigma_R-\\mu_S-s'\\sigma_S=0$ será dada por:"
   ]
  },
  {
   "cell_type": "markdown",
   "id": "216eaba2-fea6-4b46-989a-ed270a2ff88d",
   "metadata": {},
   "source": [
    "$$d=\\frac{\\mu_R-\\mu_S}{\\sqrt{\\sigma_R^2+\\sigma_S^2}}=\\beta$$"
   ]
  },
  {
   "cell_type": "markdown",
   "id": "01616e19-e76e-4be9-9ebc-dd459fb4f339",
   "metadata": {},
   "source": [
    "Portanto, o índice de confiabilidade $\\beta$ corresponde à menor distância entre a origem do sistema de coordenadas padronizadas $(r',s')$ e a função estado limite $M=g(R,S)=\\mu_R+r'\\sigma_R-\\mu_S-s'\\sigma_S=0$. Conforme pode ser visualizado na figura abaixo."
   ]
  },
  {
   "cell_type": "markdown",
   "id": "90f9d211-a211-445a-b11a-2bf8fd4c674e",
   "metadata": {},
   "source": [
    "<img src=\"./images/beta_geometric.jpg\" alt=\"Interpretação geométrica de Beta\" style=\"width:474px\"/>"
   ]
  },
  {
   "cell_type": "markdown",
   "id": "1938d806-d5f8-4ccc-9115-db5e68272822",
   "metadata": {},
   "source": [
    "### Generalização do problema da Confiabilidade"
   ]
  },
  {
   "cell_type": "markdown",
   "id": "f8e82e8e-2235-4dd7-a666-36ea1aa2645d",
   "metadata": {},
   "source": [
    "* A capacidade ou resistência $R$ pode ser uma função de várias variáveis aleatórias: $R=g_R(R_1,R_2,...,R_n)$\n",
    "* A demanda ou solicitação $S$ pode ser uma função de várias variáveis aleatórias: $S=g_S(S_1,S_2,...,S_n)$\n",
    "* Então a margem de segurança ou a função estado limite pode ser uma função genérica de várias variáveis aleatórias: $g(\\textbf{X})=g_X(X_1,X_2,...,X_n)$"
   ]
  },
  {
   "cell_type": "markdown",
   "id": "e0d61f77-2df0-4c7c-b01b-b9db5fb02d9e",
   "metadata": {},
   "source": [
    "* Logo, de forma generalizada, o índice de confiabilidade pode ser definido como sendo igual à menor distância da origem do sistema de coordenadas normais padronizadas independentes $\\textbf{X'}$ ao hiperplano tangente à superfície de falha $g_X(\\textbf{X})=0$, conforme mostrado na figura abaixo, para o caso bidimensional."
   ]
  },
  {
   "cell_type": "markdown",
   "id": "1ffb48ef-b475-44e6-82fd-4641a8291789",
   "metadata": {},
   "source": [
    "<img src=\"./images/beta_plano_tangente.jpg\" alt=\"Beta - distância ao plano tangente\" style=\"width:474px\"/>"
   ]
  },
  {
   "cell_type": "markdown",
   "id": "02091e27-a4e5-476d-b39d-b9ff43804d89",
   "metadata": {},
   "source": [
    "### Métodos para calcular o índice de confiabilidade $\\beta$"
   ]
  },
  {
   "cell_type": "markdown",
   "id": "4be39e05-c2fb-4a2b-9c16-124ea2f6f01d",
   "metadata": {},
   "source": [
    "* Método de Simulações de Monte Carlo (MCS = Monte Carlo Simulation)\n",
    "* Método de Primeira Ordem e Segundo Momento (FOSM = First Order Second Moment)\n",
    "* Método de Confiabilidade de Primeira Ordem (FORM = First Order Reliability Method)"
   ]
  },
  {
   "cell_type": "markdown",
   "id": "52c84aa1-e0da-43bf-af25-a5e54a2ae2f8",
   "metadata": {},
   "source": [
    "### Método de Simulações de Monte Carlo"
   ]
  },
  {
   "cell_type": "markdown",
   "id": "7b1e2202-8f16-4f12-8ece-bf5812ebd8fc",
   "metadata": {},
   "source": [
    "* Método de maior aplicação e mais genérico.\n",
    "* Exige um grande tempo de processamento para probabilidades de falha muito pequenas e sistemas grandes.\n",
    "* Permite trabalhar com funções estado limite $g_X(\\textbf{X})=0$ bastante complexas.\n",
    "* Os parâmetros de entrada do sistema são gerados aleatóriamente e diversas análises do modelo são realizadas.\n",
    "* Uma análise estatística das diversas respostas do sistema permite avaliar sua probabilidade de falha."
   ]
  },
  {
   "cell_type": "markdown",
   "id": "ca888a8d-4e16-4dfc-af4e-4c777f8eab9f",
   "metadata": {},
   "source": [
    "A figura abaixo ilustra o funcionamento do Método de Simulação de Monte Carlo."
   ]
  },
  {
   "cell_type": "markdown",
   "id": "3dd4e02f-208f-4918-964e-55573d6093be",
   "metadata": {},
   "source": [
    "<img src=\"./images/monte_carlo.jpg\" alt=\"Método de Simulações de Monte Carlo\" style=\"width:474px\"/>"
   ]
  },
  {
   "cell_type": "markdown",
   "id": "6a376d0a-c392-42e3-a394-c0d6522a292e",
   "metadata": {},
   "source": [
    "Fonte: https://www.incose.org/docs/default-source/default-document-library/system-model-simulation---monte-carlo-probabilities-and-more.pdf?sfvrsn=8a1f9fc6_0"
   ]
  },
  {
   "cell_type": "markdown",
   "id": "e96cfaae-9f12-4646-8ef4-1afc211691b7",
   "metadata": {},
   "source": [
    "### Método de Primeira Ordem e Segundo Momento (FOSM)"
   ]
  },
  {
   "cell_type": "markdown",
   "id": "d788d3dc-b8cc-4551-afef-fef2e098964f",
   "metadata": {},
   "source": [
    "* Os dois primeiros momentos das variáveis aleatórias $X_i$, a média $\\mu_{Xi}$ e o desvio padrão $\\sigma_{Xi}$, devem ser conhecidos.\n",
    "* Admite-se que todas as variáveis aleatórias $X_i$ tenham __distribuição normal__ de probabilidade.\n",
    "* Trata-se de resolver um problema de otimização: encontrar o valor mínimo de $\\beta$, com a restrição de que $g_X(\\textbf{X})=0$."
   ]
  },
  {
   "cell_type": "markdown",
   "id": "36a29e7d-2290-4874-a77a-ef8039252d67",
   "metadata": {},
   "source": [
    "<img src=\"./images/beta_plano_tangente.jpg\" alt=\"Beta - distância ao plano tangente\" style=\"width:474px\"/>"
   ]
  },
  {
   "cell_type": "markdown",
   "id": "cd21961b-489c-42b7-a327-ea492dfd2cfc",
   "metadata": {},
   "source": [
    "### Método de Confiabilidade de Primeira Ordem (FORM)"
   ]
  },
  {
   "cell_type": "markdown",
   "id": "c6c5b768-c44c-464a-bda6-74e07acbe4f5",
   "metadata": {},
   "source": [
    "* As variáveis $X_i$ podem ter uma distribuição de probabilidade qualquer, desde que matematicamente definida.\n",
    "* As variáveis $X_i$ devem ser transformadas em variáveis de __distribuição normal equivalente__.\n",
    "* É matematicamente mais complexo, porém de melhor precisão que o FOSM.\n",
    "* Solução: minimizar $\\beta$, com a restrição de que $g_X(\\textbf{X})=0$."
   ]
  },
  {
   "cell_type": "markdown",
   "id": "7b905a58-40ea-4f88-9eef-063b0035c9e7",
   "metadata": {},
   "source": [
    "<img src=\"./images/form.jpg\" alt=\"FORM\" style=\"width:750px\"/>"
   ]
  },
  {
   "cell_type": "markdown",
   "id": "a69253c8-cc5b-4506-a603-3093bfd155fb",
   "metadata": {},
   "source": [
    "## __1.4 Projeto Baseado em Confiabilidade__ <a name=\"section_4\"></a>"
   ]
  },
  {
   "cell_type": "markdown",
   "id": "8bf93b11-e56e-452f-8d33-eac6a808dde3",
   "metadata": {},
   "source": [
    "* É necessário estabelecer um índice de confiabilidade alvo a ser atingido $\\beta_{alvo}$, ou seja, uma probabilidade de falha $P_f$ deve ser admitida.\n",
    "* As distribuições de probabilidade das variáveis de projeto ($X_i$) devem ser matematicamente definidas.\n",
    "* O ponto de projeto $\\textbf{x}_d$ deve ser determinado iterativamente a partir de um índice de confiabilidade alvo  $\\beta_{alvo}$ pré-fixado.\n",
    "* Deve ser garantida a condição estado limite: $g_X(\\textbf{x}_d)=0$."
   ]
  },
  {
   "cell_type": "markdown",
   "id": "0db7e258-48fd-43fe-8a28-5d7b0caac980",
   "metadata": {},
   "source": [
    "<img src=\"./images/design_point.jpg\" alt=\"Ponto de projeto\" style=\"width:474px\"/>"
   ]
  },
  {
   "cell_type": "markdown",
   "id": "752b3e7c-e12c-4e2f-801c-df152c0a039f",
   "metadata": {},
   "source": [
    "### Valores de projeto"
   ]
  },
  {
   "cell_type": "markdown",
   "id": "c55ad506-115f-43f6-89d0-133d914ddfcb",
   "metadata": {},
   "source": [
    "* Valor de projeto da variável $x_{di}$:"
   ]
  },
  {
   "cell_type": "markdown",
   "id": "f06f4359-21a3-4dd2-a3e9-2eb798446067",
   "metadata": {},
   "source": [
    "$$x_{di}=\\mu_{Xi}-\\alpha_{Xi}\\beta_{alvo}\\sigma_{Xi}$$"
   ]
  },
  {
   "cell_type": "markdown",
   "id": "fd038aac-769a-4609-a9fc-f4b832a2a5a6",
   "metadata": {},
   "source": [
    "Na equação anterior, $\\alpha_{Xi}$ é o cosseno diretor da variável $X_i$."
   ]
  },
  {
   "cell_type": "markdown",
   "id": "b7aa42de-e489-4b99-9947-e6f62e83104e",
   "metadata": {},
   "source": [
    "* Valor característico da variável $x_{ki}$:"
   ]
  },
  {
   "cell_type": "markdown",
   "id": "981cb702-8e32-4cb9-8284-a344ad100f37",
   "metadata": {},
   "source": [
    "$$x_{ki}=\\mu_{Xi}\\pm k_{Xi}\\sigma_{Xi}$$"
   ]
  },
  {
   "cell_type": "markdown",
   "id": "1ca21752-771f-4550-a69f-4fa87b4816c1",
   "metadata": {},
   "source": [
    "Na equação anterior, $k_{Xi}$ é o fator associado ao quantil associado ao valor característico da variável. Por exemplo, no caso de uma distribuição normal de probabilidade, para um quantil inferior de 5%, tem-se um valor de $k_{Xi}=1,645$."
   ]
  },
  {
   "cell_type": "markdown",
   "id": "404bc977-da9d-4abe-a587-bf88b51a6530",
   "metadata": {},
   "source": [
    "### Condição de segurança"
   ]
  },
  {
   "cell_type": "markdown",
   "id": "e11bd947-2c7e-4ef5-aa50-97d5d59ad3d7",
   "metadata": {},
   "source": [
    "* A equação de projeto (dimensionamento) será dada por:"
   ]
  },
  {
   "cell_type": "markdown",
   "id": "b70139c7-db62-4008-a8a9-efa1cd78025c",
   "metadata": {},
   "source": [
    "$$R_d \\geq S_d$$"
   ]
  },
  {
   "cell_type": "markdown",
   "id": "6a49be3a-d4d7-452e-862c-8c094538cc11",
   "metadata": {},
   "source": [
    "Ou seja, a resistência de cálculo (minorada), deve maior ou igual que a solicitação de cálculo (majorada), ou ainda:"
   ]
  },
  {
   "cell_type": "markdown",
   "id": "92a75538-2c33-43ec-915f-7acefda024af",
   "metadata": {},
   "source": [
    "$$\\phi R_k \\geq \\sum_{i=1}^{n} \\gamma_{fi}S_{ki}$$"
   ]
  },
  {
   "cell_type": "markdown",
   "id": "a2943ae1-fb20-422c-a50a-cef44ef48661",
   "metadata": {},
   "source": [
    "Onde $\\phi$ é o fator de redução da resistência nominal ou característica $R_k$ e os $\\gamma_{fi}$ são os fatores de majoração das solicitações características $S_{ki}$."
   ]
  },
  {
   "cell_type": "markdown",
   "id": "27d198c1-88e9-4015-b8d3-11039c9e6f3b",
   "metadata": {},
   "source": [
    "### Fatores de minoração da resistência"
   ]
  },
  {
   "cell_type": "markdown",
   "id": "ccf4c34f-fbcd-481e-aa72-1ff5aed0becf",
   "metadata": {},
   "source": [
    "* Os fatores de minoração da resistência $\\phi_i$ são dados por:"
   ]
  },
  {
   "cell_type": "markdown",
   "id": "0af8522e-7dee-47c2-8ee8-78713b532a45",
   "metadata": {},
   "source": [
    "$$\\phi_i=\\frac{1}{\\gamma_{mi}}=\\frac{x_{di}}{x_{ki}}=\\frac{1-\\alpha_{Xi}\\beta_{alvo}\\delta_{Xi}}{1-k_{Xi}\\delta_{Xi}}$$"
   ]
  },
  {
   "cell_type": "markdown",
   "id": "466e8331-5471-40c6-bb6b-46e30222d8f2",
   "metadata": {},
   "source": [
    "Na equação anterior, $\\delta_{Xi}$ é o coeficiente de variação da variável $X_i$."
   ]
  },
  {
   "cell_type": "markdown",
   "id": "ae4a0f4b-3af0-4b92-b719-1168b5b996cf",
   "metadata": {},
   "source": [
    "<img src=\"./images/resistencia.jpg\" alt=\"valor de cálculo da resistência\" style=\"width:474px\"/>"
   ]
  },
  {
   "cell_type": "markdown",
   "id": "dc2bd50b-f7cd-48ad-8ee7-b46bb849cd1f",
   "metadata": {},
   "source": [
    "### Fatores de majoração das cargas"
   ]
  },
  {
   "cell_type": "markdown",
   "id": "c0cc53b5-c060-455c-949e-464a5e5c07c6",
   "metadata": {},
   "source": [
    "* Os fatores de majoração das cargas $\\gamma_{fi}$ são dados por:"
   ]
  },
  {
   "cell_type": "markdown",
   "id": "0241c604-1b9a-44c4-bee4-460723e45af1",
   "metadata": {},
   "source": [
    "$$\\gamma_{fi}=\\frac{x_{di}}{x_{ki}}=\\frac{1-\\alpha_{Xi}\\beta_{alvo}\\delta_{Xi}}{1+k_{Xi}\\delta_{Xi}}$$"
   ]
  },
  {
   "cell_type": "markdown",
   "id": "fe6db06f-8ff8-44eb-8eab-792901850923",
   "metadata": {},
   "source": [
    "<img src=\"./images/solicitacao.jpg\" alt=\"valores de cálculo da solicitação\" style=\"width:474px\"/>"
   ]
  },
  {
   "cell_type": "markdown",
   "id": "54743e36-e54d-42d3-a12f-bb34d17d27b1",
   "metadata": {},
   "source": [
    "## __1.5 Exemplo de aplicação: projeto de uma barra de aço tracionada__ <a name=\"section_5\"></a>"
   ]
  },
  {
   "cell_type": "markdown",
   "id": "1d9b7d38-dbab-4673-bf6a-ea16d1bb8276",
   "metadata": {},
   "source": [
    "### 1.5.1 Determinação da confiabilidade de um projeto de Engenharia"
   ]
  },
  {
   "cell_type": "markdown",
   "id": "42ec41ee-e67c-449c-b863-73726a6e9b49",
   "metadata": {},
   "source": [
    "Seja o problema do dimensionamento de uma barra de aço submetida à tração uniaxial. A barra é composta de aço A-36 com $f_{yk} = 250 MPa$ e possui seção circular. O carregamento é composto pela soma de uma parcela de esforço normal permanente $G_k=60kN$ e uma parcela de esforço normal variável $Q_k=70kN$. A equação de equilíbrio para o dimensionamento no estado limite último é dada por:"
   ]
  },
  {
   "cell_type": "markdown",
   "id": "6002f98c-f12a-4a42-9666-df9af03a5095",
   "metadata": {},
   "source": [
    "$$R_d=G_d+Q_d$$"
   ]
  },
  {
   "cell_type": "markdown",
   "id": "d75591f9-c8fb-413a-8643-294521c391c3",
   "metadata": {},
   "source": [
    "Ou, expandindo as parcelas:"
   ]
  },
  {
   "cell_type": "markdown",
   "id": "25a90194-c41f-4b96-bb95-a3f9956c6eee",
   "metadata": {},
   "source": [
    "$$\\phi A_s f_{yk}=\\gamma_g G_k + \\gamma_q Q_k$$"
   ]
  },
  {
   "cell_type": "markdown",
   "id": "f3e82bbc-4729-4fca-948b-230006e48c8b",
   "metadata": {},
   "source": [
    "onde $A_s$ é a área da seção transversal da barra. O coeficiente de redução da capacidade resistente $\\phi$ é igual a $0,90$. Os fatores de majoração da carga permanente e da carga variável são, respectivamente, $\\gamma_g = 1,25$ e $\\gamma_q = 1,50$."
   ]
  },
  {
   "cell_type": "markdown",
   "id": "5d44d289-4fb4-4761-bcfd-a1b413b6c16f",
   "metadata": {},
   "source": [
    "Nestas condições a área de aço necessária para o equilíbrio do carregamento externo será dada por:"
   ]
  },
  {
   "cell_type": "markdown",
   "id": "52ca4d47-09fe-4ffd-b9e2-7186dd0cc522",
   "metadata": {},
   "source": [
    "$$A_s = \\frac{\\gamma_g G_k + \\gamma_q Q_k}{\\phi f_{yk}}$$"
   ]
  },
  {
   "cell_type": "code",
   "execution_count": 16,
   "id": "24a2810f-fe9c-42d0-b417-329d4070cde5",
   "metadata": {},
   "outputs": [
    {
     "name": "stdout",
     "output_type": "stream",
     "text": [
      "As = 8.00 cm2\n"
     ]
    }
   ],
   "source": [
    "# Dados de entrada\n",
    "fyk = 25 #kN/cm2\n",
    "Gk = 60 #kN\n",
    "Qk = 70 #kN\n",
    "phi = 0.90\n",
    "gamma_g = 1.25\n",
    "gamma_q = 1.50\n",
    "# Cálculo da área da seção transversal\n",
    "As = (gamma_g * Gk + gamma_q * Qk) / (phi * fyk)\n",
    "print(\"As = {0:0.2f} cm2\".format(As))"
   ]
  },
  {
   "cell_type": "markdown",
   "id": "32a7f650-4ac9-4f96-8734-499c5c6794c3",
   "metadata": {},
   "source": [
    "O diâmetro necessário para a barra será:"
   ]
  },
  {
   "cell_type": "markdown",
   "id": "bfb96205-8275-46da-ac16-427d05ecd2ad",
   "metadata": {},
   "source": [
    "$$ d = \\sqrt{\\frac{4 A_s}{\\pi}} $$"
   ]
  },
  {
   "cell_type": "code",
   "execution_count": 17,
   "id": "84ec0579-3096-412e-b668-a6166d362ec4",
   "metadata": {},
   "outputs": [
    {
     "name": "stdout",
     "output_type": "stream",
     "text": [
      "d = 31.92 mm\n"
     ]
    }
   ],
   "source": [
    "# Cálculo do diâmetro da barra\n",
    "d = np.sqrt(4 * As / np.pi) #cm\n",
    "d = d*10 # mm\n",
    "print(\"d = {0:0.2f} mm\".format(d))"
   ]
  },
  {
   "cell_type": "markdown",
   "id": "4b6bf7ad-c17d-423e-8627-11657795fe70",
   "metadata": {},
   "source": [
    "Logo será adotado um barra com o diâmetro comercial de 32 mm, que corresponde a uma área de aço de $A_s = 8,04 cm^2$."
   ]
  },
  {
   "cell_type": "markdown",
   "id": "d92358b1-39d8-45eb-bc9f-f02a757c3f94",
   "metadata": {},
   "source": [
    "Dados:\n",
    "* A tensão de escoamento do aço possui um valor médio $f_{ym} = 275 MPa$, com um coeficiente de variação $\\delta_{fy} = 0,10$;\n",
    "* A carga permanente possui um valor médio de $G_m = 60 kN$, com um coeficiente de variação $\\delta_g = 0,10$;\n",
    "* A carga permanente possui um valor médio de $Q_m =70 kN$, com um coeficiente de variação $\\delta_g = 0,30$;\n",
    "* Todas estas variáveis possuam distribuição normal de probabilidade. \n",
    "Calcular o índice de confiabilidade $\\beta$ e a correspondente probabilidade de falha $P_f$ atingida neste projeto."
   ]
  },
  {
   "cell_type": "code",
   "execution_count": 18,
   "id": "1090718f-9de1-4d89-92b2-8797df8adba5",
   "metadata": {},
   "outputs": [
    {
     "name": "stdout",
     "output_type": "stream",
     "text": [
      "\n",
      "Gm = 60.0 kN\n",
      "sigmaG = 6.0 kN\n",
      "bias_factor_G = 1.0\n",
      "\n",
      "Qm = 70.0 kN\n",
      "sigmaQ = 21.0 kN\n",
      "bias_factor_Q = 1.0\n",
      "\n",
      "Rm = 221.2 kN\n",
      "sigmaR = 22.12 kN\n",
      "bias_factor_R = 0.9091\n"
     ]
    }
   ],
   "source": [
    "# Dados de entrada:\n",
    "fym = 27.50 # kN/cm2\n",
    "delta_fy = 0.10\n",
    "sigma_fy = delta_fy * fym\n",
    "#\n",
    "Gm = 60.00 # kN\n",
    "delta_g = 0.10 \n",
    "sigma_g = delta_g * Gm\n",
    "bias_g = Gk / Gm\n",
    "#\n",
    "Qm = 70.00 # kN\n",
    "delta_q = 0.30 \n",
    "sigma_q = delta_q * Qm\n",
    "bias_q = Qk / Qm\n",
    "# Cálculo da resistência média e do desvio padrão de R\n",
    "d = 3.2 # cm\n",
    "As = np.pi*(d)**2/4\n",
    "Rk = As * fyk\n",
    "Rm = As * fym\n",
    "delta_r = delta_fy\n",
    "sigma_r = delta_r * Rm\n",
    "bias_r = Rk / Rm \n",
    "print(\"\\nGm = {0:0.4} kN\".format(Gm))\n",
    "print(\"sigmaG = {0:0.4} kN\".format(sigma_g))\n",
    "print(\"bias_factor_G = {0:0.4}\".format(bias_g))\n",
    "print(\"\\nQm = {0:0.4} kN\".format(Qm))\n",
    "print(\"sigmaQ = {0:0.4} kN\".format(sigma_q))\n",
    "print(\"bias_factor_Q = {0:0.4}\".format(bias_q))\n",
    "print(\"\\nRm = {0:0.4} kN\".format(Rm))\n",
    "print(\"sigmaR = {0:0.4} kN\".format(sigma_r))\n",
    "print(\"bias_factor_R = {0:0.4}\".format(bias_r))"
   ]
  },
  {
   "cell_type": "markdown",
   "id": "884e481e-e4ea-422b-8087-5797175e1dce",
   "metadata": {},
   "source": [
    "O índice de confiabilidade será dado por:"
   ]
  },
  {
   "cell_type": "markdown",
   "id": "454e6c0a-a99e-48e9-bc98-02c02918528d",
   "metadata": {},
   "source": [
    "$$\\beta = \\frac{Rm - Gm - Qm}{\\sqrt{\\sigma_R^2 + \\sigma_G^2 + \\sigma_Q^2}}$$"
   ]
  },
  {
   "cell_type": "code",
   "execution_count": 19,
   "id": "5cbabb7f-1d63-4482-9ecd-16282b6703da",
   "metadata": {},
   "outputs": [
    {
     "name": "stdout",
     "output_type": "stream",
     "text": [
      "Beta = 2.93\n"
     ]
    }
   ],
   "source": [
    "# Cálculo do índice de confiabilidade Beta\n",
    "beta = (Rm - Gm - Qm) / np.sqrt(sigma_r**2 + sigma_g**2 + sigma_q**2)\n",
    "print(\"Beta = {0:0.3}\".format(beta))"
   ]
  },
  {
   "cell_type": "markdown",
   "id": "70dc1036-e8a9-4319-9f2f-4b03db9dd829",
   "metadata": {},
   "source": [
    "A probabilidade de falha será dada por: $P_f = \\Phi(-\\beta)$"
   ]
  },
  {
   "cell_type": "code",
   "execution_count": 20,
   "id": "82b7c2a3-7193-4e8f-b819-7ea7ef3c45d5",
   "metadata": {},
   "outputs": [
    {
     "name": "stdout",
     "output_type": "stream",
     "text": [
      "Pf = 1.6782e-03\n"
     ]
    }
   ],
   "source": [
    "# Calculo da probabilidade de falha Pf\n",
    "Pf = norm.cdf(-beta)\n",
    "print(\"Pf = {0:0.4e}\".format(Pf))"
   ]
  },
  {
   "cell_type": "markdown",
   "id": "600785fd-cea7-4ffa-8ff6-4bb778034197",
   "metadata": {},
   "source": [
    "### 1.5.2 Determinação dos fatores de seguranção para garantir uma confiabilidade mínima ($\\beta_{alvo}$)"
   ]
  },
  {
   "cell_type": "markdown",
   "id": "2de3d2e5-384b-47cc-bb80-7e08c120f05d",
   "metadata": {},
   "source": [
    "No problema anterior, qual devem ser os fatores de segurança $\\phi$, $\\gamma_g$ e $\\gamma_q$, para que se garanta um índice de confiabilidade mínimo $\\beta_{alvo}=3,80$?"
   ]
  },
  {
   "cell_type": "markdown",
   "id": "bfc8f5a8-0ba6-4f2f-b28e-aef8889403dc",
   "metadata": {},
   "source": [
    "Para um carregamento externo fixo, em primeiro lugar deve-se determinar o valor de $R_m$, que corresponde a este valor de $\\beta_{alvo}$, resolvendo a equação não-linear:"
   ]
  },
  {
   "cell_type": "markdown",
   "id": "47090b82-a4d3-40c7-9f42-d6684d8f8956",
   "metadata": {},
   "source": [
    "$$R_m - G_m - Q_m - \\beta_{alvo} \\sqrt{(\\delta_{r} R_m)^2 + (\\delta_g G_m)^2 + (\\delta_Q Q_m)^2} = 0$$"
   ]
  },
  {
   "cell_type": "code",
   "execution_count": 21,
   "id": "7b79882a-0d02-4aaf-96e2-8680e4343aca",
   "metadata": {},
   "outputs": [
    {
     "name": "stdout",
     "output_type": "stream",
     "text": [
      "Rm = 258.6 kN\n",
      "sigmaR = 25.86 kN\n"
     ]
    }
   ],
   "source": [
    "# Definição da função f(Rm)=0\n",
    "def fR(Rm, Gm, Qm, beta_alvo, delta_fy, delta_g, delta_q):\n",
    "    f = Rm - Gm - Qm - beta_alvo * np.sqrt((delta_fy * Rm)**2 + (delta_g * Gm)**2 + (delta_q * Qm)**2)\n",
    "    return f\n",
    "# Cálculo de Rm\n",
    "beta_alvo = 3.80\n",
    "R0 = Rm\n",
    "Rm = optimize.newton(fR, R0, args=(Gm, Qm, beta_alvo, delta_fy, delta_g, delta_q))\n",
    "sigma_r = delta_r * Rm\n",
    "print(\"Rm = {0:0.4} kN\".format(Rm))\n",
    "print(\"sigmaR = {0:0.4} kN\".format(sigma_r))"
   ]
  },
  {
   "cell_type": "markdown",
   "id": "e4466585-9017-4dbc-8369-26da87a20a5e",
   "metadata": {},
   "source": [
    "A função estado limite é dada por: $$R - G - Q = 0$$"
   ]
  },
  {
   "cell_type": "markdown",
   "id": "a8a7ccb7-b957-46fd-8adc-d5863183628d",
   "metadata": {},
   "source": [
    "Os cossenos diretores $\\alpha_{Xi}$ serão dados por:"
   ]
  },
  {
   "cell_type": "markdown",
   "id": "a6dae81f-ed16-4a42-adc7-58bfc91d1902",
   "metadata": {},
   "source": [
    "$$\\alpha_r = \\frac{\\sigma_R}{\\sqrt{\\sigma_R^2 + \\sigma_G^2 + \\sigma_Q^2}}$$"
   ]
  },
  {
   "cell_type": "markdown",
   "id": "d8ac004c-8dda-4cb3-b58b-6d1b6cb98aa2",
   "metadata": {},
   "source": [
    "$$\\alpha_g = \\frac{-\\sigma_G}{\\sqrt{\\sigma_R^2 + \\sigma_G^2 + \\sigma_Q^2}}$$"
   ]
  },
  {
   "cell_type": "markdown",
   "id": "46bf5091-2655-42b4-b20f-8a481023da1c",
   "metadata": {},
   "source": [
    "$$\\alpha_q = \\frac{-\\sigma_Q}{\\sqrt{\\sigma_R^2 + \\sigma_G^2 + \\sigma_Q^2}}$$"
   ]
  },
  {
   "cell_type": "code",
   "execution_count": 22,
   "id": "845d0671-d9f7-4c75-b912-004082d095d9",
   "metadata": {},
   "outputs": [
    {
     "name": "stdout",
     "output_type": "stream",
     "text": [
      "alpha_R = 0.764\n",
      "alpha_G = -0.1772\n",
      "alpha_Q = -0.6204\n"
     ]
    }
   ],
   "source": [
    "# Cálculo dos cossenos diretores\n",
    "D = np.sqrt(sigma_r**2 + sigma_g**2 + sigma_q**2)\n",
    "alpha_r = sigma_r/D\n",
    "alpha_g = -sigma_g/D\n",
    "alpha_q = -sigma_q/D\n",
    "print(\"alpha_R = {0:0.4}\".format(alpha_r))\n",
    "print(\"alpha_G = {0:0.4}\".format(alpha_g))\n",
    "print(\"alpha_Q = {0:0.4}\".format(alpha_q))"
   ]
  },
  {
   "cell_type": "markdown",
   "id": "f87ac053-50fc-4e55-a86f-d6b1979f804b",
   "metadata": {},
   "source": [
    "O fator de redução da capacidade resistente $\\phi$ será dado por: $$\\phi = \\frac{(1-\\alpha_R \\beta_{alvo} \\delta_R)}{(1-k_R \\delta_R)}$$"
   ]
  },
  {
   "cell_type": "markdown",
   "id": "b786b955-e68b-45d0-9e7e-274992891559",
   "metadata": {},
   "source": [
    "O coeficiente $k_R$ corresponde ao fator de bias $\\frac{R_k}{R_m}$ mantido fixo é obtido a partir da equação:"
   ]
  },
  {
   "cell_type": "markdown",
   "id": "9e274ec2-ddf4-4687-8cd2-233974f87296",
   "metadata": {},
   "source": [
    "$$\\frac{R_k}{R_m}=(1-k_R \\delta_R)$$"
   ]
  },
  {
   "cell_type": "code",
   "execution_count": 23,
   "id": "0ccc6bee-c340-47f6-a613-1bfda2eb4d5c",
   "metadata": {},
   "outputs": [
    {
     "name": "stdout",
     "output_type": "stream",
     "text": [
      "k_R = 0.9091\n"
     ]
    }
   ],
   "source": [
    "k_r = (1 - bias_r) / delta_r\n",
    "print(\"k_R = {0:0.4}\".format(k_r))"
   ]
  },
  {
   "cell_type": "code",
   "execution_count": 24,
   "id": "d80d51de-9a16-42e5-a518-f93f679052af",
   "metadata": {},
   "outputs": [
    {
     "name": "stdout",
     "output_type": "stream",
     "text": [
      "phi = 0.78\n"
     ]
    }
   ],
   "source": [
    "# Cálculo do fator de redução da capacidade resistente phi\n",
    "phi = (1 - alpha_r * beta_alvo * delta_r) / (1 - k_r * delta_r)\n",
    "print(\"phi = {0:0.2}\".format(phi))"
   ]
  },
  {
   "cell_type": "markdown",
   "id": "53768a94-842e-41a3-89be-eef0b9376637",
   "metadata": {},
   "source": [
    "O fator de majoração da carga permanente $G$, será dado por:"
   ]
  },
  {
   "cell_type": "markdown",
   "id": "feb726f7-f801-45d5-a9f0-13442cd5a1c0",
   "metadata": {},
   "source": [
    "$$\\gamma_g=\\frac{1-\\alpha_G \\beta_{alvo} \\delta_G}{1+k_G \\delta_G}$$"
   ]
  },
  {
   "cell_type": "markdown",
   "id": "53b20493-768f-49d8-9c94-5a1dd58b0fd7",
   "metadata": {},
   "source": [
    "O coeficiente $k_G$ corresponde ao fator de bias $\\frac{G_k}{G_m}$ mantido fixo é obtido a partir da equação:"
   ]
  },
  {
   "cell_type": "markdown",
   "id": "291cdd5d-1507-4662-9971-223f41bbca9a",
   "metadata": {},
   "source": [
    "$$\\frac{G_k}{G_m}=(1+k_G \\delta_G)$$"
   ]
  },
  {
   "cell_type": "code",
   "execution_count": 25,
   "id": "3cf38ad8-6bc0-4196-870a-7a6b1140fb5b",
   "metadata": {},
   "outputs": [
    {
     "name": "stdout",
     "output_type": "stream",
     "text": [
      "k_G = 0.0\n"
     ]
    }
   ],
   "source": [
    "k_g = (bias_g - 1) / delta_g\n",
    "print(\"k_G = {0:0.4}\".format(k_g))"
   ]
  },
  {
   "cell_type": "markdown",
   "id": "8797e7ac-766f-4f32-a3f9-dbd133c21eb6",
   "metadata": {},
   "source": [
    "O coeficiente $k_G$ resulta igual a zero, por que o valor característico da carga permanente $G_k$ foi tomado como igual ao seu valor médio $G_m$"
   ]
  },
  {
   "cell_type": "code",
   "execution_count": 26,
   "id": "31b781ae-5fd6-46da-9e90-c262fc302942",
   "metadata": {},
   "outputs": [
    {
     "name": "stdout",
     "output_type": "stream",
     "text": [
      "gamma_g = 1.07\n"
     ]
    }
   ],
   "source": [
    "# Cálculo do fator de majoração da carga permanente gamma_g\n",
    "gamma_g = (1 - alpha_g * beta_alvo * delta_g) / (1 + k_g * delta_g)\n",
    "print(\"gamma_g = {0:0.3}\".format(gamma_g))"
   ]
  },
  {
   "cell_type": "markdown",
   "id": "68639765-2a48-4c1f-a770-66ba64ccb473",
   "metadata": {},
   "source": [
    "O fator de majoração da carga variável $Q$, será dado por:"
   ]
  },
  {
   "cell_type": "markdown",
   "id": "2a6f43ab-b219-414d-9170-97b386b425b6",
   "metadata": {},
   "source": [
    "$$\\gamma_q=\\frac{1-\\alpha_q \\beta_{alvo} \\delta_q}{1+k_q \\delta_q}$$"
   ]
  },
  {
   "cell_type": "markdown",
   "id": "4325ff73-71c4-4e54-9388-0a73b8f1898f",
   "metadata": {},
   "source": [
    "O coeficiente $k_q$ corresponde ao fator de bias $\\frac{Q_k}{Q_m}$ mantido fixo é obtido a partir da equação:"
   ]
  },
  {
   "cell_type": "markdown",
   "id": "281319d2-a4cf-46f3-aa9c-0b9722497103",
   "metadata": {},
   "source": [
    "$$\\frac{Q_k}{Q_m}=(1+k_q \\delta_q)$$"
   ]
  },
  {
   "cell_type": "code",
   "execution_count": 27,
   "id": "e7d153f3-5841-40f5-a5be-f9831b0077d0",
   "metadata": {},
   "outputs": [
    {
     "name": "stdout",
     "output_type": "stream",
     "text": [
      "k_G = 0.0\n"
     ]
    }
   ],
   "source": [
    "k_q = (bias_q - 1) / delta_q\n",
    "print(\"k_G = {0:0.4}\".format(k_q))"
   ]
  },
  {
   "cell_type": "markdown",
   "id": "725acd66-120e-44a6-9fa7-178c1bc50d19",
   "metadata": {},
   "source": [
    "O coeficiente $k_q$ resulta igual a zero, por que o valor característico da carga variável $Q_k$ foi tomado como igual ao seu valor médio $Q_m$"
   ]
  },
  {
   "cell_type": "code",
   "execution_count": 28,
   "id": "8ff0a420-dc2c-4b4b-b078-59b591964ae3",
   "metadata": {},
   "outputs": [
    {
     "name": "stdout",
     "output_type": "stream",
     "text": [
      "gamma_q = 1.71\n"
     ]
    }
   ],
   "source": [
    "# Cálculo do fator de majoração da carga permanente gamma_g\n",
    "gamma_q = (1 - alpha_q * beta_alvo * delta_q) / (1 + k_q * delta_q)\n",
    "print(\"gamma_q = {0:0.3}\".format(gamma_q))"
   ]
  },
  {
   "cell_type": "markdown",
   "id": "f247f5f1-c394-40da-a9b4-503a8a82042c",
   "metadata": {},
   "source": [
    "Portanto, para que o índice de confiabilidade alvo $\\beta_{alvo} = 3,80$ seja atingido, o fator de redução da resistência $\\phi$ deverá passar de $0,90$ para $0,78$. Já o fator de segurança para a carga permanente $\\gamma_g$ poderá ser reduzido de $1,25$ para $1,07$, enquanto que o fator de majoração da carga variável $\\gamma_q$ deverá ser aumentado de $1,50$ para $1,71$."
   ]
  },
  {
   "cell_type": "markdown",
   "id": "a60a59a5-b4ca-46de-8803-be1594969f86",
   "metadata": {},
   "source": [
    "Através de um procedimento de calibração, os fatores de segurança de uma norma de projeto podem ser ajustados de forma a garantir uma confiabilidade mínima, mesmo nas situações mais desfavoráveis."
   ]
  },
  {
   "cell_type": "code",
   "execution_count": null,
   "id": "fa30eeb7-c692-4540-82e0-19cef00f78e1",
   "metadata": {},
   "outputs": [],
   "source": []
  }
 ],
 "metadata": {
  "colab": {
   "name": "Capítulo_1.ipynb",
   "provenance": []
  },
  "kernelspec": {
   "display_name": "Python 3",
   "language": "python",
   "name": "python3"
  },
  "language_info": {
   "codemirror_mode": {
    "name": "ipython",
    "version": 3
   },
   "file_extension": ".py",
   "mimetype": "text/x-python",
   "name": "python",
   "nbconvert_exporter": "python",
   "pygments_lexer": "ipython3",
   "version": "3.8.5"
  }
 },
 "nbformat": 4,
 "nbformat_minor": 5
}
