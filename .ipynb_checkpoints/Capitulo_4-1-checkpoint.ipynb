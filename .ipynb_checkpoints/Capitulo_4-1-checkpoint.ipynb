{
 "cells": [
  {
   "cell_type": "markdown",
   "id": "1dc445f3-8f0f-41b7-a0fa-541467a1d3db",
   "metadata": {
    "id": "1dc445f3-8f0f-41b7-a0fa-541467a1d3db"
   },
   "source": [
    "### Universidade Federal do Rio Grande - FURG"
   ]
  },
  {
   "cell_type": "markdown",
   "id": "27d28d81-ad30-4559-b52d-0fee9ac96cae",
   "metadata": {
    "id": "27d28d81-ad30-4559-b52d-0fee9ac96cae"
   },
   "source": [
    "### Escola de Engenharia - EE"
   ]
  },
  {
   "cell_type": "markdown",
   "id": "103a5401-6849-4ee0-a254-08a7f684a870",
   "metadata": {
    "id": "103a5401-6849-4ee0-a254-08a7f684a870"
   },
   "source": [
    "### Programa de Pós-graduação em Engenharia Oceânica - PPGEO"
   ]
  },
  {
   "cell_type": "markdown",
   "id": "547b79f5-d7a3-4b02-8ce9-7c1647bff36b",
   "metadata": {
    "id": "547b79f5-d7a3-4b02-8ce9-7c1647bff36b"
   },
   "source": [
    "### Disciplina: Confiabilidade em Engenharia"
   ]
  },
  {
   "cell_type": "markdown",
   "id": "189e93bb-f3e5-4536-9aec-d09046d6929b",
   "metadata": {
    "id": "189e93bb-f3e5-4536-9aec-d09046d6929b"
   },
   "source": [
    "### Professor: Dr. Mauro de Vasconcellos Real"
   ]
  },
  {
   "cell_type": "markdown",
   "id": "0f573eed-b149-49a0-bf9f-5a72b50d1815",
   "metadata": {},
   "source": [
    "# __Aula 08__"
   ]
  },
  {
   "cell_type": "code",
   "execution_count": null,
   "id": "aae74c59-c562-4c6b-b548-02568c399dd9",
   "metadata": {},
   "outputs": [],
   "source": [
    "import numpy as np"
   ]
  },
  {
   "cell_type": "markdown",
   "id": "ce78f794-4773-4210-bf0c-d89fd0e707f7",
   "metadata": {
    "id": "ce78f794-4773-4210-bf0c-d89fd0e707f7"
   },
   "source": [
    "# __Capítulo 4 - Funções de variáveis aleatórias__"
   ]
  },
  {
   "cell_type": "markdown",
   "id": "74b3dab9-565b-43d2-8c1c-0a706f3281cf",
   "metadata": {
    "id": "3ce4b88f-bb46-49e3-b43f-b2c43671b855"
   },
   "source": [
    "[4.1 - Introdução](#section_41)  \n",
    "[4.2 - Distribuições de probabilidade derivadas](#section_42)  "
   ]
  },
  {
   "cell_type": "markdown",
   "id": "d90305d1-d176-4fbf-975b-16df68ecba50",
   "metadata": {
    "id": "3764b601-27f8-4189-a03c-e7c7c94f021d"
   },
   "source": [
    "## __4.1 - Introdução__ <a name=\"section_41\"></a>"
   ]
  },
  {
   "cell_type": "markdown",
   "id": "ec6594d5-de59-4224-b246-4145b51f644b",
   "metadata": {
    "tags": []
   },
   "source": [
    "* Alguns problemas de Engenharia envolvem o cálculo de uma relação funcional entre uma variável dependente e uma ou mais variáveis independentes.\n",
    "\n",
    "* __Se uma ou mais variáveis independentes forem variáveis aleatórias, a variável dependente também será uma variável aleatória__.\n",
    "\n",
    "#### Função de variáveis aleatórias:\n",
    "\n",
    "* A distribuição de probabilidade e os principais momentos estatísticos de uma função de variáveis aleatórias podem ser determinados a partir das distribuições de probabilidade das variáveis aleatórias básicas.\n"
   ]
  },
  {
   "cell_type": "markdown",
   "id": "363aab30-f03b-4ade-9787-42f520b93182",
   "metadata": {},
   "source": [
    "## __4.2 - Distribuições de probabilidade derivadas__  <a name=\"section_42\"></a>"
   ]
  },
  {
   "cell_type": "markdown",
   "id": "81e235ec-da21-4c33-87e8-53af2266c836",
   "metadata": {
    "id": "3ce4b88f-bb46-49e3-b43f-b2c43671b855"
   },
   "source": [
    "[4.2.1 - Função de uma única variável](#section_421)  \n",
    "[4.2.2 - Função de múltiplas variáveis](#section_422)  "
   ]
  },
  {
   "cell_type": "markdown",
   "id": "18c962ac-c9ac-4fea-a401-1e33bab0d52d",
   "metadata": {},
   "source": [
    "### 4.2.1 - Função de uma única variável <a name=\"section_421\"></a>"
   ]
  },
  {
   "cell_type": "markdown",
   "id": "a99647b0-c5aa-4b93-a9bb-0718c9c316fe",
   "metadata": {},
   "source": [
    "* Seja a função: $Y=g(X)$\n",
    "    \n",
    "* Isto significa que, quando $Y=y$,\n",
    "\n",
    "* Então: $X = x = g^{-1}(y)$\n",
    "\n",
    "* Logo: $P(Y=y) = P(X=x) = P[X=g^{-1}(y)]$\n",
    "\n",
    "* Em termos de probabilidade acumulada: $P(Y \\leq y) = P(X \\leq x) = P[X \\leq g^{-1}(y)]$\n",
    "\n",
    "* Portanto: $F_Y(y) = F_X\\left[g^{-1}(y)\\right]$\n",
    "\n",
    "* Mudando a variável de integração:\n",
    "\n",
    "$$ F_Y(y) = \\int_{-\\infty}^{g^{-1}(y)}f_X(x)dx = \\int_{-\\infty}^{y}f_X[g^{-1}(y)]\\frac{dg^{-1}}{dy}dy $$\n",
    "\n",
    "* Logo:\n",
    "\n",
    "$$f_Y(y) = \\frac{dF_Y(y)}{dy} = f_X[g^{-1}(y)] \\left|\\frac{dg^{-1}}{dy}\\right|$$\n"
   ]
  },
  {
   "cell_type": "markdown",
   "id": "69d5e1e0-38fb-4561-8c81-97de07303b0d",
   "metadata": {},
   "source": [
    "#### Exemplo 4.1 - Variável normal padronizada\n",
    "\n",
    "* $X$ é uma variável aleatória normal de parâmetros $\\mu_X$ e $\\sigma_X$.\n",
    "\n",
    "$$f_X(x) = \\frac{1}{\\sqrt{2\\pi}\\sigma} \\exp{-\\frac{1}{2}\\left(\\frac{x-\\mu_X}{\\sigma_X}\\right)^2}$$\n",
    "\n",
    "* Qual a função densidade de probabilidade para:\n",
    "\n",
    "$$Y = \\frac{X-\\mu_X}{\\sigma_X}$$\n"
   ]
  },
  {
   "cell_type": "markdown",
   "id": "669afcb0-b718-4a2b-a337-71b531ddbabd",
   "metadata": {},
   "source": [
    "[Retornar ao início da aula](#section_31)"
   ]
  },
  {
   "cell_type": "markdown",
   "id": "ced6a590-b2da-450c-b3d8-76efecd2f4d5",
   "metadata": {},
   "source": [
    "## __Bibliografia__"
   ]
  },
  {
   "cell_type": "markdown",
   "id": "22843f6f-9513-4934-85e2-79f9121882c1",
   "metadata": {},
   "source": [
    "* __Livros__\n",
    "* ANG,  A.  H-S.; TANG,  W. H.. Probability concepts in engineering planning and design. Volume I:  basic principles. New  York, John Wiley & Sons, 1975.\n",
    "* ANG,  A.  H-S.; TANG,  W. H.. Probability concepts in engineering planning and pesign. Volume II: decision, risk and reliability. New  York, John Wiley & Sons, 1984.\n",
    "* ANG,  A.  H-S.; TANG,  W. H.. Probability concepts in engineering: Emphasis on applications to Civil and Enviromental Engineering.  2nd ed. Hoboken, NJ, John Wiley & Sons, 2007.\n",
    "* BECK, A. T. Confiabilidade e segurança das  estruturas. Rio de Janeiro, Elsevier, 2019.\n",
    "* HALDAR, A. MAHADEVAN, S. Probability, reliability, and statistical methods in engineering design. New York, Wiley, 2000.\n",
    "* MELCHERS, R.E., BECK, A. T.; Structural reliability analysis and prediction. 3rd ed. John Wiley and Sons, 2018, 514p."
   ]
  },
  {
   "cell_type": "code",
   "execution_count": null,
   "id": "d6548269-ae51-45ef-bcd2-f266faf2099d",
   "metadata": {},
   "outputs": [],
   "source": []
  }
 ],
 "metadata": {
  "colab": {
   "name": "Capítulo_1.ipynb",
   "provenance": []
  },
  "kernelspec": {
   "display_name": "Python 3",
   "language": "python",
   "name": "python3"
  },
  "language_info": {
   "codemirror_mode": {
    "name": "ipython",
    "version": 3
   },
   "file_extension": ".py",
   "mimetype": "text/x-python",
   "name": "python",
   "nbconvert_exporter": "python",
   "pygments_lexer": "ipython3",
   "version": "3.8.5"
  }
 },
 "nbformat": 4,
 "nbformat_minor": 5
}
