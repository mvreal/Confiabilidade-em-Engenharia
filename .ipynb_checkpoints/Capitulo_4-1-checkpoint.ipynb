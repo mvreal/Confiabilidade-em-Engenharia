{
 "cells": [
  {
   "cell_type": "markdown",
   "id": "1dc445f3-8f0f-41b7-a0fa-541467a1d3db",
   "metadata": {
    "id": "1dc445f3-8f0f-41b7-a0fa-541467a1d3db"
   },
   "source": [
    "### Universidade Federal do Rio Grande - FURG"
   ]
  },
  {
   "cell_type": "markdown",
   "id": "27d28d81-ad30-4559-b52d-0fee9ac96cae",
   "metadata": {
    "id": "27d28d81-ad30-4559-b52d-0fee9ac96cae"
   },
   "source": [
    "### Escola de Engenharia - EE"
   ]
  },
  {
   "cell_type": "markdown",
   "id": "103a5401-6849-4ee0-a254-08a7f684a870",
   "metadata": {
    "id": "103a5401-6849-4ee0-a254-08a7f684a870"
   },
   "source": [
    "### Programa de Pós-graduação em Engenharia Oceânica - PPGEO"
   ]
  },
  {
   "cell_type": "markdown",
   "id": "547b79f5-d7a3-4b02-8ce9-7c1647bff36b",
   "metadata": {
    "id": "547b79f5-d7a3-4b02-8ce9-7c1647bff36b"
   },
   "source": [
    "### Disciplina: Confiabilidade em Engenharia"
   ]
  },
  {
   "cell_type": "markdown",
   "id": "189e93bb-f3e5-4536-9aec-d09046d6929b",
   "metadata": {
    "id": "189e93bb-f3e5-4536-9aec-d09046d6929b"
   },
   "source": [
    "### Professor: Dr. Mauro de Vasconcellos Real"
   ]
  },
  {
   "cell_type": "markdown",
   "id": "0f573eed-b149-49a0-bf9f-5a72b50d1815",
   "metadata": {},
   "source": [
    "# __Aula 08__"
   ]
  },
  {
   "cell_type": "code",
   "execution_count": 3,
   "id": "aae74c59-c562-4c6b-b548-02568c399dd9",
   "metadata": {},
   "outputs": [],
   "source": [
    "import numpy as np\n",
    "import matplotlib.pyplot as plt\n",
    "from scipy.stats import norm"
   ]
  },
  {
   "cell_type": "markdown",
   "id": "ce78f794-4773-4210-bf0c-d89fd0e707f7",
   "metadata": {
    "id": "ce78f794-4773-4210-bf0c-d89fd0e707f7"
   },
   "source": [
    "# __Capítulo 4 - Funções de variáveis aleatórias__"
   ]
  },
  {
   "cell_type": "markdown",
   "id": "74b3dab9-565b-43d2-8c1c-0a706f3281cf",
   "metadata": {
    "id": "3ce4b88f-bb46-49e3-b43f-b2c43671b855"
   },
   "source": [
    "[4.1 - Introdução](#section_41)  \n",
    "[4.2 - Distribuições de probabilidade derivadas](#section_42)  "
   ]
  },
  {
   "cell_type": "markdown",
   "id": "d90305d1-d176-4fbf-975b-16df68ecba50",
   "metadata": {
    "id": "3764b601-27f8-4189-a03c-e7c7c94f021d"
   },
   "source": [
    "## __4.1 - Introdução__ <a name=\"section_41\"></a>"
   ]
  },
  {
   "cell_type": "markdown",
   "id": "ec6594d5-de59-4224-b246-4145b51f644b",
   "metadata": {
    "tags": []
   },
   "source": [
    "* Alguns problemas de Engenharia envolvem o cálculo de uma relação funcional entre uma variável dependente e uma ou mais variáveis independentes.\n",
    "\n",
    "* __Se uma ou mais variáveis independentes forem variáveis aleatórias, a variável dependente também será uma variável aleatória__.\n",
    "\n",
    "#### Função de variáveis aleatórias:\n",
    "\n",
    "* A distribuição de probabilidade e os principais momentos estatísticos de uma função de variáveis aleatórias podem ser determinados a partir das distribuições de probabilidade das variáveis aleatórias básicas.\n"
   ]
  },
  {
   "cell_type": "markdown",
   "id": "363aab30-f03b-4ade-9787-42f520b93182",
   "metadata": {},
   "source": [
    "## __4.2 - Distribuições de probabilidade derivadas__  <a name=\"section_42\"></a>"
   ]
  },
  {
   "cell_type": "markdown",
   "id": "81e235ec-da21-4c33-87e8-53af2266c836",
   "metadata": {
    "id": "3ce4b88f-bb46-49e3-b43f-b2c43671b855"
   },
   "source": [
    "[4.2.1 - Função de uma única variável](#section_421)  \n",
    "[4.2.2 - Função de múltiplas variáveis](#section_422)  "
   ]
  },
  {
   "cell_type": "markdown",
   "id": "18c962ac-c9ac-4fea-a401-1e33bab0d52d",
   "metadata": {},
   "source": [
    "### 4.2.1 - Função de uma única variável <a name=\"section_421\"></a>"
   ]
  },
  {
   "cell_type": "markdown",
   "id": "a99647b0-c5aa-4b93-a9bb-0718c9c316fe",
   "metadata": {},
   "source": [
    "* Seja a função: $Y=g(X)$\n",
    "    \n",
    "* Isto significa que, quando $Y=y$,\n",
    "\n",
    "* Então: $X = x = g^{-1}(y)$\n",
    "\n",
    "* Logo: $P(Y=y) = P(X=x) = P[X=g^{-1}(y)]$\n",
    "\n",
    "* Em termos de probabilidade acumulada: $P(Y \\leq y) = P(X \\leq x) = P[X \\leq g^{-1}(y)]$\n",
    "\n",
    "* Portanto: $F_Y(y) = F_X\\left[g^{-1}(y)\\right]$\n",
    "\n",
    "* Mudando a variável de integração:\n",
    "\n",
    "$$ F_Y(y) = \\int_{-\\infty}^{g^{-1}(y)}f_X(x)dx = \\int_{-\\infty}^{y}f_X[g^{-1}(y)]\\frac{dg^{-1}}{dy}dy $$\n",
    "\n",
    "* Logo:\n",
    "\n",
    "$$f_Y(y) = \\frac{dF_Y(y)}{dy} = f_X[g^{-1}(y)] \\left|\\frac{dg^{-1}}{dy}\\right|$$\n"
   ]
  },
  {
   "cell_type": "markdown",
   "id": "69d5e1e0-38fb-4561-8c81-97de07303b0d",
   "metadata": {},
   "source": [
    "#### Exemplo 4.1 - Variável normal padronizada\n",
    "\n",
    "* $X$ é uma variável aleatória normal de parâmetros $\\mu_X$ e $\\sigma_X$.\n",
    "\n",
    "$$f_X(x) = \\frac{1}{\\sqrt{2\\pi}\\sigma} \\exp{-\\frac{1}{2}\\left(\\frac{x-\\mu_X}{\\sigma_X}\\right)^2}$$\n",
    "\n",
    "* Determinar a função densidade de probabilidade para a função:\n",
    "\n",
    "$$Y = \\frac{X-\\mu_X}{\\sigma_X}$$\n",
    "\n",
    "* Densidade de probabilidade derivada:\n",
    "\n",
    "Função inversa: $$x = \\sigma_X y + \\mu_X$$\n",
    "\n",
    "Derivada: $$ \\frac{dg^{-1}}{dy} = \\frac{dx}{dy} = \\sigma_X$$\n",
    "\n",
    "\n",
    "\n",
    "$$f_Y(y) = f_X[g^{-1}(y)] \\left|\\frac{dg^{-1}}{dy}\\right| = \\frac{1}{\\sqrt{2\\pi}\\sigma_X}\\exp{\\left[\\frac{-\\frac{1}{2}(\\sigma_X y + \\mu_X - \\mu_X)^2}{\\sigma_X^2}\\right]}\\sigma_X =  \\frac{1}{\\sqrt{2\\pi}}\\exp{\\left(-\\frac{y^2}{2}\\right)}$$\n",
    "\n"
   ]
  },
  {
   "cell_type": "markdown",
   "id": "f6b651e4-dfdc-4e99-96a1-c71a4711c7bf",
   "metadata": {},
   "source": [
    "#### Exemplo 4.2 - Variável lognormal.\n",
    "\n",
    "* $X$ é uma variável aleatória lognormal de parâmetros $\\lambda$ e $\\zeta$.\n",
    "* Qual é a distribuição de probabilidade de $Y=ln(X)$?\n",
    "\n",
    "$$f_X(x) = \\frac{1}{\\sqrt{2\\pi}\\zeta x} \\exp{-\\frac{1}{2}\\left(\\frac{ln(x)-\\lambda}{\\zeta}\\right)^2}$$\n",
    "\n",
    "* Densidade de probabilidade derivada:\n",
    "\n",
    "Função inversa: $$x = e^y$$\n",
    "\n",
    "Derivada: $$ \\frac{dg^{-1}}{dy} = \\frac{dx}{dy} = e^y$$\n",
    "\n",
    "\n",
    "\n",
    "$$f_Y(y) = f_X[g^{-1}(y)] \\left|\\frac{dg^{-1}}{dy}\\right| = \\frac{1}{\\sqrt{2\\pi}\\sigma e^y}\\exp{\\left[\\frac{-\\frac{1}{2}(ln(e^y) - \\lambda)^2}{\\zeta^2}\\right]}e^y =   \\frac{1}{\\sqrt{2\\pi}\\zeta} \\exp{\\left[-\\frac{1}{2}\\left(\\frac{y-\\lambda}{\\zeta}\\right)^2\\right]}$$\n",
    "\n",
    "* Logo, a distribuição de $Y$ é normal com média $E[ln(X)]=\\lambda$ e variância $Var[ln(X)]=\\zeta^2$.\n"
   ]
  },
  {
   "cell_type": "markdown",
   "id": "5492e7aa-ec1e-4d6e-a879-90562787e446",
   "metadata": {},
   "source": [
    "#### Exemplo 4.3 - Altura de dique de proteção contra cheias"
   ]
  },
  {
   "cell_type": "markdown",
   "id": "11d82f54-240a-4d3f-8781-086e904ab7c6",
   "metadata": {},
   "source": [
    "<img src=\"./images4/dique.jpg\" alt=\"Dique de proteção contra cheias\" style=\"width:474px\"/>"
   ]
  },
  {
   "cell_type": "markdown",
   "id": "064beb23-8717-477c-8a39-5c345b2893ee",
   "metadata": {},
   "source": [
    "Fonte: https://cdn.cfr.org/sites/default/files/styles/slide_3_2/public/image/2015/08/Renewing-America-New-Orleans-Wall-20150824.jpg"
   ]
  },
  {
   "cell_type": "markdown",
   "id": "4abb5986-2822-45d3-82dc-d9978251c375",
   "metadata": {},
   "source": [
    "A altura de um dique deve ter uma diferença em relação ao nível máximo do reservatório para prevenir que ondas causadas pelo vento ultrapassem o seu topo.\n",
    "\n",
    "* Fórmula da altura de onda:\n",
    "\n",
    "$$ Z = \\frac{F}{7000d}V^2$$\n",
    "\n",
    "* $Z$ = altura da onda (m)\n",
    "* $F$ = comprimento do Fetch (m)\n",
    "* $d$ = profundidade média ao longo do fetch (m)\n",
    "* $V$ = velocidade do vento (m/s).\n"
   ]
  },
  {
   "cell_type": "markdown",
   "id": "76de935c-b7d9-49ca-a18b-63376e58a173",
   "metadata": {},
   "source": [
    "<img src=\"./images4/fetch.jpg\" alt=\"Fetch\" style=\"width:474px\"/>"
   ]
  },
  {
   "cell_type": "markdown",
   "id": "b2005da1-120b-4319-9a21-9e0018d08ae9",
   "metadata": {},
   "source": [
    "Fonte: https://www.vos.noaa.gov/MWL/apr_06/Images/Wave-Fig-2.jpg"
   ]
  },
  {
   "cell_type": "markdown",
   "id": "00786b58-602a-4c88-8c11-3fae8d0994af",
   "metadata": {},
   "source": [
    "* Velocidade do vento $V$:\n",
    "\n",
    "* Distribuição exponencial com média $v_0$:\n",
    "\n",
    "$$f_V(v) = \\frac{1}{v_0}\\exp{\\left(-\\frac{v}{v_0}\\right)}, \\quad v \\ge 0$$\n",
    "\n",
    "Fazendo-se:\n",
    "\n",
    "$$ a = \\frac{F}{7000d} \\rightarrow Z = aV^2$$\n",
    "\n",
    "Então: \n",
    "\n",
    "$$v = \\pm \\sqrt{\\frac{z}{a}}$$\n",
    "\n",
    "e\n",
    "\n",
    "$$\\left|\\frac{dv}{dz}\\right| = \\frac{1}{2\\sqrt{az}}$$\n",
    "\n",
    "* Densidadede probabilidade de $Z$\n",
    "\n",
    "$$f_Z(z) = \\frac{1}{2\\sqrt{az}}\\left[f_V\\left(-\\sqrt{\\frac{z}{a}}\\right) + f_V\\left(+\\sqrt{\\frac{z}{a}}\\right)\\right]$$\n",
    "\n",
    "Porém: $f_V(v) = 0$, para $v < 0$.\n",
    "\n",
    "Logo:\n",
    "\n",
    "$$ f_Z(z) = \\frac{1}{2\\sqrt{az}}\\left[f_V\\left(+\\sqrt{\\frac{z}{a}}\\right)\\right]$$\n",
    "\n",
    "Donde:\n",
    "\n",
    "$$f_Z(z) = \\frac{1}{2v_0\\sqrt{az}}\\exp{\\left(-\\frac{1}{v_0}\\sqrt{\\frac{z}{a}}\\right)}$$   \n",
    "\n",
    "* A figura abaixo apresenta os gráficos para as funções densidade de probabilidade da velocidade do vento $V$ e sua derivada, a altura de onda $Z$, para os parâmetros $v_0 = 5 m/s$, $d = 5 m$ e $F = 700 m$.\n"
   ]
  },
  {
   "cell_type": "code",
   "execution_count": 4,
   "id": "95802068-88f8-4c18-b81e-13aff4d7888d",
   "metadata": {},
   "outputs": [
    {
     "data": {
      "image/png": "[encoded data removed]",
      "text/plain": [
       "<Figure size 684x288 with 2 Axes>"
      ]
     },
     "metadata": {
      "needs_background": "light"
     },
     "output_type": "display_data"
    }
   ],
   "source": [
    "# Dados de entrada:\n",
    "v0 = 5.00\n",
    "d = 5.00\n",
    "F = 700.00\n",
    "a = F / (7000 * d)\n",
    "# Cálculo das funções densidade de probabilidade\n",
    "v = np.linspace(0,30, 500)\n",
    "fv = 1 / v0 * np.exp(- v / v0)\n",
    "z = np.linspace(0.01,6, 500)\n",
    "fz = 1 / (2 * v0 * np.sqrt(a * z) ) * np.exp(- 1 / v0 * np.sqrt( z / a))\n",
    "# Geração dos gráficos\n",
    "plt.figure(1, figsize=(9.5, 4))\n",
    "# Gráfico fV(v) \n",
    "plt.subplot(1, 2, 1)\n",
    "plt.plot(v, fv, color='blue', label=\"$f_V(v)$\")\n",
    "plt.xlabel('velocidade do vento $V$ (m/s)')\n",
    "plt.ylabel(r'$f_V(v)$')\n",
    "plt.legend(loc='upper right')\n",
    "plt.xlim(0,30)\n",
    "plt.ylim(0,0.20)\n",
    "plt.text(5, 0.15, r\"$f_V(v) = \\frac{1}{v_0}\\exp{\\left(-\\frac{v}{v_0}\\right)}, \\quad v_0 = 5 m/s$\", fontsize=\"14\")\n",
    "# Gráfico fZ(z)\n",
    "plt.subplot(1, 2, 2)\n",
    "plt.plot(z, fz, color='red', label=\"$f_Z(z)$\")\n",
    "plt.xlabel('altura da onda $Z$ (m)')\n",
    "plt.ylabel('$f_Z(z)$')\n",
    "plt.legend(loc='upper right')\n",
    "plt.xlim(0,6)\n",
    "plt.ylim(0,2)\n",
    "plt.text(1, 1.50, r\"$f_Z(z) = \\frac{1}{2v_0\\sqrt{az}}\\exp{\\left(-\\frac{1}{v_0}\\sqrt{\\frac{z}{a}}\\right)}$\", fontsize=\"14\")\n",
    "plt.text(1, 1.10, r\"$v_0 = 5 m/s, \\quad a = 0,02$\", fontsize=\"14\")\n",
    "plt.tight_layout()\n",
    "plt.show()"
   ]
  },
  {
   "cell_type": "markdown",
   "id": "89886eb6-d785-40f5-8727-12ab3a061105",
   "metadata": {},
   "source": [
    "### 4.2.2 - Função de múltiplas variáveis <a name=\"section_422\"></a>"
   ]
  },
  {
   "cell_type": "markdown",
   "id": "d9f07c92-7857-4e3e-b70c-65f19e673f92",
   "metadata": {},
   "source": [
    "* Função $Z$ de $X$ e de $Y$: $Z = g(X,Y)$\n",
    "\n",
    "* Evento: \n",
    "\n",
    "$$(Z<z) = [g(X,Y) \\leq z] = \\cup_{\\{g(x,y) \\leq z\\}}(X \\leq x, Y \\leq y)$$\n",
    "\n",
    "#### Função densidade de probabiliade acumulada de $Z$:\n",
    "\n",
    "$$F_Z(z) = \\int\\int_{g(x,y) \\leq z} f_{X,Y}(x,y)dxdy$$\n",
    "\n",
    "* Mudança de variável: $X$ por $Z$\n",
    "\n",
    "$$F_Z(z) = \\int_{-\\infty}^{+\\infty}\\int_{-\\infty}^{g^{-1}(z,y)} f_{X,Y}(x,y)dxdy$$\n",
    "\n",
    "$$F_Z(z) = \\int_{-\\infty}^{+\\infty}\\int_{-\\infty}^{z} f_{X,Y}\\left[g^{-1}(z,y),y\\right]\\left|\\frac{\\partial g^{-1}}{\\partial z}\\right|dzdy$$\n",
    "\n",
    "#### Função densidade de probabilidade de $Z$:\n",
    "\n",
    "$$f_Z(z) = \\frac{dF_Z(z)}{dz} = \\int_{-\\infty}^{+\\infty}f_{X,Y}\\left[g^{-1}(z,y),y\\right]\\left|\\frac{\\partial g^{-1}}{\\partial z}\\right|dy$$\n",
    "\n",
    "#### Função soma: $Z = aX + bY$\n",
    "\n",
    "* Então:\n",
    "\n",
    "$$ x = \\frac{z - by}{a}  \\quad \\text{e} \\quad \\left|\\frac{\\partial g^{-1}}{\\partial z}\\right| = \\frac{\\partial x}{\\partial z} = \\frac{1}{a}$$\n",
    "\n",
    "$$f_Z(z) = \\int_{-\\infty}^{+\\infty}\\frac{1}{|a|}f_{X,Y}\\left[\\left(\\frac{z-by}{a}\\right),y\\right]dy$$\n",
    "\n",
    "* Se $X$ e $Y$ forem estatisticamente independentes:\n",
    "\n",
    "$$f_Z(z) = \\int_{-\\infty}^{+\\infty}\\frac{1}{|a|}f_{X}\\left(\\frac{z-by}{a}\\right)f_Y(y)dy$$  \n",
    "\n",
    "\n",
    "\n",
    "\n",
    "\n",
    "#### Soma de duas variáveis normais $X$ e $Y$ estatisticamente independentes: $Z = X + Y$\n",
    "\n",
    "\n",
    "$$f_Z(z) = \\frac{1}{2\\pi \\sigma_X \\sigma_Y} \\int_{-\\infty}^{+\\infty}\\exp{\\left\\{-\\frac{1}{2}\\left[\\left(\\frac{z-y-\\mu_X}{\\sigma_X}\\right)^2 + \\left(\\frac{y-\\mu_Y}{\\sigma_Y}\\right)^2\\right]\\right\\}}dy$$\n",
    "\n",
    "\n",
    "* Após algumas transformações algébricas:\n",
    "\n",
    "\n",
    "$$f_Z(z) = \\frac{1}{2\\pi \\sqrt{ \\sigma_X^2 + \\sigma_Y^2}} exp{\\left\\{-\\frac{1}{2}\\left[\\frac{z -(\\mu_X+\\mu_Y)}{\\sqrt{ \\sigma_X^2 + \\sigma_Y^2}}\\right]^2 \\right\\}}$$\n",
    "\n",
    "\n",
    "* Onde:\n",
    "\n",
    "* __Média da Soma__: $\\mu_Z = \\mu_X + \\mu_Y$\n",
    "\n",
    "* __Variância da Soma__: $\\sigma_Z^2 = \\sigma_X^2 + \\sigma_Y^2$\n",
    "\n",
    "\n",
    "#### Generalização:\n",
    "\n",
    "* Soma de $n$ variáveis aleatórias normais estatisticamente independentes: $$Z = \\sum_{i=1}^{n} a_i X_i$$\n",
    "\n",
    "* __Média da Soma__: $$\\mu_Z = \\sum_{i=1}^{n} a_i \\mu_{X_i}$$\n",
    "\n",
    "* __Variância da Soma__: $$\\sigma_Z^2 = \\sum_{i=1}^{n} a_i^2 \\sigma_{X_i}^2$$\n",
    "\n",
    "\n",
    "\n",
    "\n",
    "\n"
   ]
  },
  {
   "cell_type": "markdown",
   "id": "1d53a77e-02ee-4df0-b954-43248bd0f5a1",
   "metadata": {},
   "source": [
    "#### Exemplo 4.4 - Cargas em pilares de edifício"
   ]
  },
  {
   "cell_type": "markdown",
   "id": "60e69298-94ab-46cf-8de7-c0fcceabf2f1",
   "metadata": {},
   "source": [
    "<img src=\"./images4/cargas_pilares.jpg\" alt=\"Cargas em pilares\" style=\"width:474px\"/>"
   ]
  },
  {
   "cell_type": "markdown",
   "id": "374a1452-277c-4aea-9a4a-2471dbc318da",
   "metadata": {},
   "source": [
    "Fonte: https://wall.atlasrwi.com/wp-content/uploads/sites/2/2019/08/type-i.png"
   ]
  },
  {
   "cell_type": "markdown",
   "id": "ee509f48-bbb1-4c6d-bbf1-5af3acc3c555",
   "metadata": {},
   "source": [
    "* __Cargas__:\n",
    "\n",
    "* Carga permanente: $G \\rightarrow \\mu_G = 200 kN \\rightarrow \\sigma_G = 14 kN$\n",
    "    \n",
    "* Carga acidental: $Q \\rightarrow \\mu_Q = 300 kN \\rightarrow \\sigma_Q = 36 kN$\n",
    "    \n",
    "* Carga de vento: $W \\rightarrow \\mu_W = 150 kN \\rightarrow \\sigma_W = 30 kN$\n",
    "\n",
    "* Hipótese: as cargas atuantes obedecem a uma distribuição normal de probabilidade.\n",
    "    \n",
    "* Capacidade resistente do pilar: $R \\ge S = G + Q + W$\n",
    "\n",
    "* __(a)__ Calcular a  média e o desvio padrão da carga total $S$:\n",
    "\n",
    "* $ S = G + Q + W$, também será normal.\n",
    "\n",
    "* Então: \n",
    "\n",
    "$$\\mu_S = \\mu_G + \\mu_Q + \\mu_W = 200 + 300 + 150 = 650 kN$$\n",
    "\n",
    "$$\\sigma_S = \\sqrt{\\sigma_G^2 + \\sigma_Q^2 + \\sigma_W^2} = \\sqrt{ 14^2 + 36^2 + 30^2} = 49 kN$$\n",
    "\n",
    "* __(b)__ Se a resistência do pilar $R$ também possui distribuição normal com um valor médio igual a 1,5 vezes a carga média total e um coeficiente de variação de 15%, qual é a probabilidade de falha do pilar? Considerar que as cargas e a resistência são estatisticamente independentes.\n",
    "\n",
    "* A falha ocorrerá quando  a resistência $R$ for menor que a carga aplicada $S$.\n",
    "* A margem de segurança será: $M = R – S$\n",
    "* Haverá falha quando: $M<0$\n",
    "* Se $R$ e $S$ são variáveis gaussianas e independentes, a margem $M$ também será uma variável gaussiana, então:\n",
    "\n",
    "$$\\mu_M = \\mu_R - \\mu_S = 1,5.650 - 650 = 325 kN$$\n",
    "\n",
    "$$ \\sigma_M = \\sqrt{ \\sigma_R^2 + \\sigma_S^2} = \\sqrt{(0,15.975)^2 + (48,91)^2} = 154,21 kN$$\n",
    "\n",
    "* A probabilidade de falha do pilar será:\n",
    "\n",
    "$$P(M<0) = \\Phi\\left(\\frac{0 - \\mu_M}{\\sigma_M}\\right) = \\left(\\frac{-325}{154,24}\\right) = \\Phi(-2,1075) = 0,0175 = 1,75\\%$$"
   ]
  },
  {
   "cell_type": "code",
   "execution_count": 5,
   "id": "91e5ebac-e8e6-4f80-b086-9f0d6662570b",
   "metadata": {},
   "outputs": [
    {
     "name": "stdout",
     "output_type": "stream",
     "text": [
      "Solicitação média muS = 650.0000 kN\n",
      "Desvio padrão da solicitação sigmaS = 48.9081 kN\n",
      "Resistência média muR = 975.0000 kN\n",
      "Desvio padrão da resistência sigmaR = 146.2500 kN\n",
      "Margem de segurança média muM = 325.0000\n",
      "Desvio padrão da margem de segurança sigmaM = 154.2111 kN\n",
      "Margem de segurança padronizada padronizada zM = muM / sigmaM = -2.1075\n",
      "Probabilidade de falha Pf = 0.0175\n"
     ]
    }
   ],
   "source": [
    "# Dados de entrada:\n",
    "# Carregamento S\n",
    "muG = 200.00 # kN\n",
    "sigmaG = 14.00 # kN\n",
    "muQ = 300.00 # kN\n",
    "sigmaQ = 36.00 # kN\n",
    "muW = 150.00 # kN\n",
    "sigmaW = 30.00 # kN\n",
    "muS = muG + muQ + muW\n",
    "sigmaS = np.sqrt(sigmaG ** 2 + sigmaQ ** 2 + sigmaW ** 2)\n",
    "# Capacidade resistente R\n",
    "muR = 1.5 * muS\n",
    "sigmaR = 0.15 * muR\n",
    "# Margem de segurança M\n",
    "muM = muR - muS\n",
    "sigmaM = np.sqrt(sigmaR ** 2 + sigmaS ** 2)\n",
    "zM = - muM / sigmaM\n",
    "pf = norm.cdf(zM)\n",
    "print(\"Solicitação média muS = {0:0.4f} kN\".format(muS))\n",
    "print(\"Desvio padrão da solicitação sigmaS = {0:0.4f} kN\".format(sigmaS))\n",
    "print(\"Resistência média muR = {0:0.4f} kN\".format(muR))\n",
    "print(\"Desvio padrão da resistência sigmaR = {0:0.4f} kN\".format(sigmaR))\n",
    "print(\"Margem de segurança média muM = {0:0.4f}\".format(muM))\n",
    "print(\"Desvio padrão da margem de segurança sigmaM = {0:0.4f} kN\".format(sigmaM))\n",
    "print(\"Margem de segurança padronizada padronizada zM = muM / sigmaM = {0:0.4f}\".format(zM))\n",
    "print(\"Probabilidade de falha Pf = {0:0.4f}\".format(pf))"
   ]
  },
  {
   "cell_type": "markdown",
   "id": "faf3124a-ff61-490a-82a5-79f5bb3a6719",
   "metadata": {},
   "source": [
    "#### Produto de variáveis aleatórias\n",
    "\n",
    "* Para o produto de duas variáveis aleatórias: $Z = XY$\n",
    "\n",
    "$$ X = \\frac{Z}{Y} \\quad \\text{e} \\quad \\frac{dx}{dz} = \\frac{1}{y}$$\n",
    "\n",
    "Então:\n",
    "\n",
    "$$ f_Z(z) = \\frac{dF_Z(z)}{dz} = \\int_{-\\infty}^{+\\infty}f_{X,Y}\\left[g^{-1}(z,y),y\\right]\\left|\\frac{\\partial g^{-1}(z,y)}{\\partial z}\\right|dy$$\n",
    "\n",
    "$$ f_Z(z) = \\frac{dF_Z(z)}{dz} =  \\int_{-\\infty}^{+\\infty}\\left|\\frac{1}{y}\\right|f_{X,Y}\\left(\\frac{z}{y},y\\right)dy$$"
   ]
  },
  {
   "cell_type": "markdown",
   "id": "219cfd11-7a12-4aae-86e1-1b306eafbf57",
   "metadata": {},
   "source": [
    "#### Quociente de duas variáveis aleatórias\n",
    "\n",
    "* Para o produto de duas variáveis aleatórias: $Z = \\frac{X}{Y}$\n",
    "\n",
    "$$ X = ZY \\quad \\text{e} \\quad \\frac{dx}{dz} = y$$\n",
    "\n",
    "Então:\n",
    "\n",
    "$$ f_Z(z) = \\frac{dF_Z(z)}{dz} = \\int_{-\\infty}^{+\\infty}f_{X,Y}\\left[g^{-1}(z,y),y\\right]\\left|\\frac{\\partial g^{-1}(z,y)}{\\partial z}\\right|dy$$\n",
    "\n",
    "$$ f_Z(z) = \\frac{dF_Z(z)}{dz} =  \\int_{-\\infty}^{+\\infty}|y|f_{X,Y}\\left(\\frac{z}{y},y\\right)dy$$"
   ]
  },
  {
   "cell_type": "markdown",
   "id": "86787d85-2e3b-478a-ba43-b53f587929c2",
   "metadata": {},
   "source": [
    "#### Produto de variáveis de distribuição lognormal\n",
    "\n",
    "* $X_i$ = $n$ variáveis de distribuição lognormal.\n",
    "\n",
    "* Então:\n",
    "\n",
    "$$ Z = \\prod_{i=1}^{n} X_i \\rightarrow ln(Z) = \\sum_{i=1}^{n}ln(X_i)$$\n",
    "\n",
    "* Logo $ln(Z)$ é normal , portanto $Z$ é lognormal com parâmetros:\n",
    "\n",
    "$$ \\lambda_Z = E[ln(Z)] = \\sum_{i=1}^{n}\\lambda_{X_i} \\quad \\text{e} \\quad \\zeta_{Z}^2 = Var[ln(Z)] = \\sum_{i=1}^{n} \\zeta_{X_i}^2$$\n"
   ]
  },
  {
   "cell_type": "markdown",
   "id": "8ee5ab8d-6a5e-42ed-99a6-7f98df2b5c09",
   "metadata": {},
   "source": [
    "#### Exemplo 4.5 - Projeto de viga de madeira"
   ]
  },
  {
   "cell_type": "markdown",
   "id": "1258bad6-bf71-4f23-8c8e-048a28006bde",
   "metadata": {},
   "source": [
    "<img src=\"./images4/viga_madeira.jpg\" alt=\"Viga de madeira\" style=\"width:474px\"/>"
   ]
  },
  {
   "cell_type": "markdown",
   "id": "12898154-3b51-4141-8041-e5491e80480f",
   "metadata": {},
   "source": [
    "* Viga de madeira engastada e livre com 5 m de vão, e seção retangular com $b = 15 cm$ e $h = 30 cm$\n",
    "\n",
    "* A carga distribuída $q$ possui média $\\mu_q = 2,50 kN/m$ e coeficiente de variação $\\delta_q = \\frac{\\sigma_q}{\\mu_q} =15\\%$, com uma distribuição lognormal de probabilidade.\n",
    "\n",
    "* A tensão normal admissível na flexão $r$ tem um valor médio igual a $\\mu_r = 30 MPa$ e coeficiente de variação $\\delta_r = \\frac{\\sigma_r}{\\mu_r} =20\\%$, e também obedece a uma distribuição lognormal de probabilidade.\n",
    "\n",
    "* (a) Determine a probabilidade de a máxima tensão normal na flexão ($s$) exceder a resistência à flexão da viga ($r$).\n",
    "\n",
    "Momento fletor solicitante:\n",
    "\n",
    "$$ M = \\frac{qL^2}{2} \\rightarrow \\mu_M = \\frac{\\mu_qL^2}{2} = \\frac{(2,50)(5,0)^2}{2} = 31,25 kNm$$\n",
    "\n",
    "Tensão normal máxima solicitante:\n",
    "\n",
    "$$ s = \\frac{6M}{bh^2} \\rightarrow \\mu_S = \\frac{6\\mu_M}{bh^2} = \\frac{6(31,25.10^3)}{(0,15)(0,30)^2} = 13,89 MPa$$\n",
    "\n",
    "Lembrando que: $\\delta_S = \\delta_q = 15\\%$\n",
    "\n",
    "Fator de segurança: \n",
    "\n",
    "$$\\gamma = \\frac{r}{s}$$\n",
    "\n",
    "Probabilidade de falha:\n",
    "\n",
    "$$P_f = P(\\gamma < 1,0) = P\\left(\\frac{r}{s}<1,0\\right) = P\\left[ln(\\gamma) = ln\\left(\\frac{r}{s}\\right)<0,0\\right]$$\n",
    "\n",
    "Se $s$ e $r$ possuem distribuição lognormal, então: $ln(\\gamma) =ln(\\frac{r}{s}) = ln(r) - ln(s)$, possui distribuição normal!\n",
    "\n",
    "Parâmetros da resistência:\n",
    "\n",
    "$$\\zeta_r = \\sqrt{ln(1+\\delta_r)^2} = \\sqrt{ln(1 + 0,20^2)} = 0,1980$$\n",
    "$$\\lambda_r = ln(\\mu_r) - \\frac{1}{2}\\zeta_r^2 = ln(30) - \\frac{1}{2}(0,1980)^2 = 3,3816$$\n",
    "\n",
    "Parâmetros da solicitação:\n",
    "\n",
    "$$\\zeta_s = \\sqrt{ln(1+\\delta_s)^2} = \\sqrt{ln(1 + 0,15^2)} = 0,1492$$\n",
    "$$\\lambda_s = ln(\\mu_s) - \\frac{1}{2}\\zeta_s^2 = ln(13,89) - \\frac{1}{2}(0,1492)^2 = 2,6200$$\n",
    "\n",
    "Parâmetros do fator de segurança $ln(\\gamma)$:\n",
    "\n",
    "$$ \\lambda = E[ln(\\gamma)] = E\\left[ln\\left(\\frac{r}{s}\\right)\\right] = \\lambda_r - \\lambda_s = 3,3816 - 2,6200 = 0,7616$$\n",
    "\n",
    "$$ \\zeta = \\sqrt{Var[ln(\\gamma)]} = \\sqrt{Var\\left[ln\\left(\\frac{r}{s}\\right)\\right]} = \\sqrt{ \\zeta_r^2 + \\zeta_s^2} = \\sqrt{ 0,1980^2 + 0,1492^2} = 0,2479$$\n",
    "\n",
    "Cálculo da probabilidade de falha:\n",
    "\n",
    "$$ P[ln(\\gamma)<0,0] =P\\left[ln\\left(\\frac{r}{s}\\right)<0,0\\right] = \\Phi\\left(\\frac{0 - 0,7616}{0,2479}\\right) = \\Phi(-3,0719) = 0,00106 = 0,106\\%$$"
   ]
  },
  {
   "cell_type": "code",
   "execution_count": 15,
   "id": "b53fef98-f542-43c2-b3a6-5a7a30507c25",
   "metadata": {},
   "outputs": [
    {
     "name": "stdout",
     "output_type": "stream",
     "text": [
      "mu_r = 30.00 MPa\n",
      "sigma_r = 6.00 MPa\n",
      "mu_s = 13.89 MPa\n",
      "sigma_s = 2.08 MPa\n",
      "lambda_r = 3.3816\n",
      "zeta_r = 0.1980\n",
      "lambda_s = 2.6200\n",
      "zeta_s = 0.1492\n",
      "lambda_g = 0.7616\n",
      "zeta_g = 0.2479\n",
      "z_g = -3.0719\n",
      "Pf = 1.0636e-03\n"
     ]
    }
   ],
   "source": [
    "# Dados de entrada\n",
    "muq = 2.50 # kNm\n",
    "deltaq = 0.15\n",
    "sigmaq = deltaq * muq\n",
    "mur = 30 #MPa\n",
    "deltar = 0.20\n",
    "sigmar = deltar * mur # MPa\n",
    "lv = 5.00 # m\n",
    "b = 0.15 # m\n",
    "h = 0.30 # m\n",
    "# Parâmetros da solicitação\n",
    "mum = muq * 1000. * lv ** 2 /2.\n",
    "sigmam = deltaq * mum\n",
    "mus = 6 * mum / (b * h ** 2) * 1.e-6 # MPa\n",
    "sigmas = deltaq * mus\n",
    "zetas = np.sqrt(np.log(1 + deltaq ** 2))\n",
    "lambdas = np.log(mus)-1./2. * zetas ** 2\n",
    "# Parâmetros da resistência\n",
    "zetar = np.sqrt(np.log(1 + deltar ** 2))\n",
    "lambdar = np.log(mur)-1./2.*zetar ** 2\n",
    "# Parâmetros do fator de segurança gamma = r/s\n",
    "lambdag = lambdar - lambdas\n",
    "zetag = np.sqrt(zetar ** 2 + zetas ** 2)\n",
    "# Ponto de falha gamma = 1,0 ou ln(gamma)=0,0\n",
    "zg = (0 - lambdag)/zetag\n",
    "pf = norm.cdf(zg, 0, 1)\n",
    "print(\"mu_r = {0:0.2f} MPa\".format(mur))\n",
    "print(\"sigma_r = {0:0.2f} MPa\".format(sigmar))\n",
    "print(\"mu_s = {0:0.2f} MPa\".format(mus))\n",
    "print(\"sigma_s = {0:0.2f} MPa\".format(sigmas))\n",
    "print(\"lambda_r = {0:0.4f}\".format(lambdar))\n",
    "print(\"zeta_r = {0:0.4f}\".format(zetar))\n",
    "print(\"lambda_s = {0:0.4f}\".format(lambdas))\n",
    "print(\"zeta_s = {0:0.4f}\".format(zetas))\n",
    "print(\"lambda_g = {0:0.4f}\".format(lambdag))\n",
    "print(\"zeta_g = {0:0.4f}\".format(zetag))\n",
    "print(\"z_g = {0:0.4f}\".format(zg))\n",
    "print(\"Pf = {0:0.4e}\".format(pf))"
   ]
  },
  {
   "cell_type": "markdown",
   "id": "669afcb0-b718-4a2b-a337-71b531ddbabd",
   "metadata": {},
   "source": [
    "[Retornar ao início da aula](#section_41)"
   ]
  },
  {
   "cell_type": "markdown",
   "id": "ced6a590-b2da-450c-b3d8-76efecd2f4d5",
   "metadata": {},
   "source": [
    "## __Bibliografia__"
   ]
  },
  {
   "cell_type": "markdown",
   "id": "22843f6f-9513-4934-85e2-79f9121882c1",
   "metadata": {},
   "source": [
    "* __Livros__\n",
    "* ANG,  A.  H-S.; TANG,  W. H.. Probability concepts in engineering planning and design. Volume I:  basic principles. New  York, John Wiley & Sons, 1975.\n",
    "* ANG,  A.  H-S.; TANG,  W. H.. Probability concepts in engineering planning and design. Volume II: decision, risk and reliability. New  York, John Wiley & Sons, 1984.\n",
    "* ANG,  A.  H-S.; TANG,  W. H.. Probability concepts in engineering: Emphasis on applications to Civil and Enviromental Engineering.  2nd ed. Hoboken, NJ, John Wiley & Sons, 2007.\n",
    "* BECK, A. T. Confiabilidade e segurança das  estruturas. Rio de Janeiro, Elsevier, 2019.\n",
    "* HALDAR, A. MAHADEVAN, S. Probability, reliability, and statistical methods in engineering design. New York, Wiley, 2000.\n",
    "* MELCHERS, R.E., BECK, A. T.; Structural reliability analysis and prediction. 3rd ed. John Wiley and Sons, 2018, 514p."
   ]
  },
  {
   "cell_type": "code",
   "execution_count": null,
   "id": "d6548269-ae51-45ef-bcd2-f266faf2099d",
   "metadata": {},
   "outputs": [],
   "source": []
  }
 ],
 "metadata": {
  "colab": {
   "name": "Capítulo_1.ipynb",
   "provenance": []
  },
  "kernelspec": {
   "display_name": "Python 3",
   "language": "python",
   "name": "python3"
  },
  "language_info": {
   "codemirror_mode": {
    "name": "ipython",
    "version": 3
   },
   "file_extension": ".py",
   "mimetype": "text/x-python",
   "name": "python",
   "nbconvert_exporter": "python",
   "pygments_lexer": "ipython3",
   "version": "3.8.5"
  }
 },
 "nbformat": 4,
 "nbformat_minor": 5
}
