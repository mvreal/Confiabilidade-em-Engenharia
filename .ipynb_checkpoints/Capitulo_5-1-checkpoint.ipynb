{
 "cells": [
  {
   "cell_type": "markdown",
   "id": "1dc445f3-8f0f-41b7-a0fa-541467a1d3db",
   "metadata": {
    "id": "1dc445f3-8f0f-41b7-a0fa-541467a1d3db"
   },
   "source": [
    "### Universidade Federal do Rio Grande - FURG"
   ]
  },
  {
   "cell_type": "markdown",
   "id": "27d28d81-ad30-4559-b52d-0fee9ac96cae",
   "metadata": {
    "id": "27d28d81-ad30-4559-b52d-0fee9ac96cae"
   },
   "source": [
    "### Escola de Engenharia - EE"
   ]
  },
  {
   "cell_type": "markdown",
   "id": "103a5401-6849-4ee0-a254-08a7f684a870",
   "metadata": {
    "id": "103a5401-6849-4ee0-a254-08a7f684a870"
   },
   "source": [
    "### Programa de Pós-graduação em Engenharia Oceânica - PPGEO"
   ]
  },
  {
   "cell_type": "markdown",
   "id": "547b79f5-d7a3-4b02-8ce9-7c1647bff36b",
   "metadata": {
    "id": "547b79f5-d7a3-4b02-8ce9-7c1647bff36b"
   },
   "source": [
    "### Disciplina: Confiabilidade em Engenharia"
   ]
  },
  {
   "cell_type": "markdown",
   "id": "189e93bb-f3e5-4536-9aec-d09046d6929b",
   "metadata": {
    "id": "189e93bb-f3e5-4536-9aec-d09046d6929b"
   },
   "source": [
    "### Professor: Dr. Mauro de Vasconcellos Real"
   ]
  },
  {
   "cell_type": "markdown",
   "id": "0f573eed-b149-49a0-bf9f-5a72b50d1815",
   "metadata": {},
   "source": [
    "# __Aula 10__"
   ]
  },
  {
   "cell_type": "code",
   "execution_count": 1,
   "id": "aae74c59-c562-4c6b-b548-02568c399dd9",
   "metadata": {},
   "outputs": [],
   "source": [
    "import numpy as np\n",
    "import matplotlib.pyplot as plt\n",
    "from scipy.stats import norm"
   ]
  },
  {
   "cell_type": "markdown",
   "id": "ce78f794-4773-4210-bf0c-d89fd0e707f7",
   "metadata": {
    "id": "ce78f794-4773-4210-bf0c-d89fd0e707f7"
   },
   "source": [
    "# __Capítulo 5 - Distribuições de valores extremos__ <a name=\"section_5\"></a>"
   ]
  },
  {
   "cell_type": "markdown",
   "id": "9fe80ac0-158e-4bb7-b298-5704288afa5d",
   "metadata": {
    "id": "3ce4b88f-bb46-49e3-b43f-b2c43671b855"
   },
   "source": [
    "[5.1 - Introdução](#section_51)  \n",
    "[5.2 - Distribuições exatas](#section_52)  \n",
    "[5.3 - Distribuições assintóticas](#section_53)  \n",
    "[5.4 - Parâmetros das distribuições de valores extremos](#section_54) "
   ]
  },
  {
   "cell_type": "markdown",
   "id": "363aab30-f03b-4ade-9787-42f520b93182",
   "metadata": {},
   "source": [
    "## __5.1 - Introdução__  <a name=\"section_51\"></a>"
   ]
  },
  {
   "cell_type": "markdown",
   "id": "a99647b0-c5aa-4b93-a9bb-0718c9c316fe",
   "metadata": {},
   "source": [
    "* O valores extremos (máximos e mínimos) de fenômenos naturais são de especial interesse e importância para a Engenharia.\n",
    "\n",
    "Exemplos:  \n",
    "Altura máxima de onda em 50 anos;  \n",
    "Velocidade máxima do vento em 50 anos;  \n",
    "Vazão anual máxima (ou mínima) de um rio.  \n",
    "\n",
    "* Quando se fala em valores extremos, trata-se do máximo $Y_n$ (ou do mínimo $Y_1$) de uma amostra de $n$ elementos, dentro de uma população com distribuição de probabilidade conhecida $F_X(x)$.\n",
    "\n",
    "* Neste caso, cada valor extremo, máximo ou mínimo, será uma variável aleatória, $Y_n$ ou $Y_1$, com sua distribuição de probabilidade própria, que poderá ser exata ou assintótica, $F_Y(y)$.\n",
    "\n"
   ]
  },
  {
   "cell_type": "markdown",
   "id": "547a7285-9a2e-49b8-aa9a-8e0ccce580b9",
   "metadata": {},
   "source": [
    "## __5.2 - Distribuições exatas__  <a name=\"section_52\"></a>"
   ]
  },
  {
   "cell_type": "markdown",
   "id": "69d5e1e0-38fb-4561-8c81-97de07303b0d",
   "metadata": {},
   "source": [
    "* Seja uma variável aleatória $X$ (população) com distribuição de probabilidade $F_X(x)$.\n",
    "\n",
    "* Uma amostra de tamanho $n$ desta população terá um valor máximo e um valor mínimo.\n",
    "\n",
    "* Este valores extremos variam de uma amostra para outra e possuem uma distribuição de probabilidade própria que se relaciona com $F_X(x)$."
   ]
  },
  {
   "cell_type": "markdown",
   "id": "39635195-5bc8-43f9-b154-26b53667dca6",
   "metadata": {},
   "source": [
    "### Amostra de tamanho $n$:\n",
    "\n",
    "* Uma amostra de tamanho n equivale a um conjunto de observações $(x_1, x_2,...,x_n)$.\n",
    "* Cada elemento da amostra não pode ser previsto, sendo cada um uma variável aleatória.\n",
    "* Uma amostra pode ser vista como um conjunto de variáveis aleatórias $(X_1,X_2,...,X_n)$.\n",
    "\n",
    "* Dada uma amostra: $(X_1,X_2,...,X_n)$.\n",
    "\n",
    "* O valor máximo será dado por: $Y_n = m\\acute ax(X_1,X_2,...,X_n)$\n",
    "\n",
    "* O valor mínimo será dado por: $Y_1 = m\\acute in(X_1,X_2,...,X_n)$"
   ]
  },
  {
   "cell_type": "markdown",
   "id": "2e5e7a38-a54d-45f8-a5db-4c0e136880a5",
   "metadata": {},
   "source": [
    "### Distribuição de $Y_n$ (máximos):\n",
    "\n",
    "* Hipótese: as variáveis $X_1,X_2,...,X_n$ são estatisticamente independentes e possuem a mesma distribuição: $F_{X_1}(x) = F_{X_2}(x) =...=F_{X_n}(x) =F_{X}(x)$\n",
    "\n",
    "* Se $Y_n$ for menor que um certo valor $y$;\n",
    "\n",
    "* Então, cada um dos valores $X_1,X_2,...,X_n$ deve ser menor que $y$;\n",
    "\n",
    "* Logo a distribuição acumulada de $Y_n$ será: $F_{Y_n} = P(X_1 \\leq y, X_2 \\leq y, ..., X_n \\leq y)$;\n",
    "\n",
    "* Portanto:\n",
    "\n",
    "$$ F_{Y_n} = \\left[F_{X}(y)\\right]^n$$\n",
    "\n",
    "* A função densidade de probabilidade acumulada de $Y_n$ será, então:\n",
    "\n",
    "$$f_{Y_n}(y) = \\frac{dF_{Y_n}(y)}{dy} = \\frac{d}{dy}[F_X(y)]^n$$\n",
    "\n",
    "$$f_{Y_n}(y) = n[F_X(y)]^{n-1}f_X(y)$$"
   ]
  },
  {
   "cell_type": "markdown",
   "id": "33d066d8-3e64-4a56-89b8-c343c92c5d76",
   "metadata": {},
   "source": [
    "### Distribuição de $Y_1$ (mínimos):\n",
    "\n",
    "* Hipótese: as variáveis $X_1,X_2,...,X_n$ são estatisticamente independentes e possuem a mesma distribuição: $F_{X_1}(x) = F_{X_2}(x) =...=F_{X_n}(x) =F_{X}(x)$\n",
    "\n",
    "* Se $Y_1$ for maior que um certo valor $y$;\n",
    "\n",
    "* Então, cada um dos valores $X_1,X_2,...,X_n$ deve ser maior que $y$;\n",
    "\n",
    "* Logo a distribuição acumulada de $Y_1$ será: $1 - F_{Y_1} = P(X_1 > y, X_2 > y, ..., X_n > y)$;\n",
    "\n",
    "* Portanto:\n",
    "\n",
    "$$1 - F_{Y_1} = \\left[1 - F_{X}(y)\\right]^n$$\n",
    "\n",
    "$$F_{Y_1} = 1 - \\left[1 - F_{X}(y)\\right]^n$$\n",
    "\n",
    "* A função densidade de probabilidade acumulada de $Y_1$ será, então:\n",
    "\n",
    "$$f_{Y_1}(y) = \\frac{dF_{Y_1}(y)}{dy} = \\frac{d}{dy}\\left\\{1 - [1 - F_X(y)]^n\\right\\}$$\n",
    "\n",
    "$$f_{Y_1}(y) = n[1 - F_X(y)]^{n-1}f_X(y)$$\n"
   ]
  },
  {
   "cell_type": "markdown",
   "id": "42ff7460-4fa4-4631-8c49-24eaf3b6e96b",
   "metadata": {},
   "source": [
    "### Distribuições exatas de $Y_n$ e $Y_1$:\n",
    "\n",
    "* As distribuições de probabilidade exatas dos valores máximo $Y_n$  e  mínimo $Y_1$ de amostras de tamanho $n$ são uma função da distribuição de probabilidade da variável aleatória inicial $X$."
   ]
  },
  {
   "cell_type": "markdown",
   "id": "192b05a7-d731-4114-8f2d-6f3be207402d",
   "metadata": {},
   "source": [
    "#### Exemplo 5.1 - Distribuição exponencial"
   ]
  },
  {
   "cell_type": "code",
   "execution_count": 19,
   "id": "374a7f25-24d6-471f-81a3-cbb4599280a0",
   "metadata": {},
   "outputs": [
    {
     "data": {
      "image/png": "[encoded data removed]",
      "text/plain": [
       "<Figure size 648x324 with 2 Axes>"
      ]
     },
     "metadata": {
      "needs_background": "light"
     },
     "output_type": "display_data"
    }
   ],
   "source": [
    "# Dados de entrada\n",
    "lambdax = 1.00\n",
    "x = np.linspace(0.00, 5.00, 1000)\n",
    "# Cálculo de fX(x)\n",
    "pdfx = lambax * np.exp(-lambdax * x)\n",
    "cdfx = 1 - np.exp(-lambdax * x)\n",
    "# Geração do gráfico de fX(x)\n",
    "plt.figure(1, figsize=(9, 4.5))\n",
    "plt.subplot(1, 2, 1)\n",
    "plt.plot(x, pdfx, color='blue')\n",
    "plt.xlabel('variável aleatória $x$')\n",
    "plt.ylabel(r'densidade de probabilidade $f_X(x)$')\n",
    "plt.title('Distribuição Exponencial')\n",
    "plt.xlim(0,5)\n",
    "plt.ylim(0,1.00)\n",
    "plt.text(2, 0.5, r\"$f_X(x) = \\lambda e^{\\left(-\\lambda x\\right)}$\", fontsize=\"16\")\n",
    "plt.text(2, 0.4, r\"$\\lambda = 1.0$\", fontsize=\"16\")\n",
    "# Gráfico FX(x)\n",
    "plt.subplot(1, 2, 2)\n",
    "plt.plot(x, cdfx, color='red')\n",
    "plt.xlabel('variável aleatória $x$')\n",
    "plt.ylabel('distribuição acumulada $F_X(x)$')\n",
    "plt.title('Distribuição Exponencial')\n",
    "plt.xlim(0,5)\n",
    "plt.ylim(0,1)\n",
    "plt.text(2, 0.5, r\"$F_X(x) = 1 - e^{\\left(-\\lambda x\\right)}$\", fontsize=\"16\")\n",
    "plt.text(2, 0.4, r\"$\\lambda = 1.0$\", fontsize=\"16\")\n",
    "plt.tight_layout()\n",
    "plt.show()"
   ]
  },
  {
   "cell_type": "code",
   "execution_count": null,
   "id": "754f10c9-438c-4591-b8b3-8f6447576d04",
   "metadata": {},
   "outputs": [],
   "source": []
  },
  {
   "cell_type": "markdown",
   "id": "94727872-f7f6-486b-939e-12268ddf43de",
   "metadata": {
    "tags": []
   },
   "source": [
    "[Retornar ao início da aula](#section_5)"
   ]
  },
  {
   "cell_type": "markdown",
   "id": "669afcb0-b718-4a2b-a337-71b531ddbabd",
   "metadata": {
    "tags": []
   },
   "source": [
    "[Retornar ao início da aula](#section_5)"
   ]
  },
  {
   "cell_type": "markdown",
   "id": "ced6a590-b2da-450c-b3d8-76efecd2f4d5",
   "metadata": {},
   "source": [
    "## __Bibliografia__"
   ]
  },
  {
   "cell_type": "markdown",
   "id": "22843f6f-9513-4934-85e2-79f9121882c1",
   "metadata": {},
   "source": [
    "* __Livros__\n",
    "* ANG,  A.  H-S.; TANG,  W. H.. Probability concepts in engineering planning and design. Volume I:  basic principles. New  York, John Wiley & Sons, 1975.\n",
    "* ANG,  A.  H-S.; TANG,  W. H.. Probability concepts in engineering planning and design. Volume II: decision, risk and reliability. New  York, John Wiley & Sons, 1984.\n",
    "* ANG,  A.  H-S.; TANG,  W. H.. Probability concepts in engineering: Emphasis on applications to Civil and Enviromental Engineering.  2nd ed. Hoboken, NJ, John Wiley & Sons, 2007.\n",
    "* BECK, A. T. Confiabilidade e segurança das  estruturas. Rio de Janeiro, Elsevier, 2019.\n",
    "* HALDAR, A. MAHADEVAN, S. Probability, reliability, and statistical methods in engineering design. New York, Wiley, 2000.\n",
    "* MELCHERS, R.E., BECK, A. T.; Structural reliability analysis and prediction. 3rd ed. John Wiley and Sons, 2018, 514p."
   ]
  }
 ],
 "metadata": {
  "colab": {
   "name": "Capítulo_5.ipynb",
   "provenance": []
  },
  "kernelspec": {
   "display_name": "Python 3",
   "language": "python",
   "name": "python3"
  },
  "language_info": {
   "codemirror_mode": {
    "name": "ipython",
    "version": 3
   },
   "file_extension": ".py",
   "mimetype": "text/x-python",
   "name": "python",
   "nbconvert_exporter": "python",
   "pygments_lexer": "ipython3",
   "version": "3.8.5"
  }
 },
 "nbformat": 4,
 "nbformat_minor": 5
}
