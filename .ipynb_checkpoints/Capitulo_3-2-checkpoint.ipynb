{
 "cells": [
  {
   "cell_type": "markdown",
   "id": "1dc445f3-8f0f-41b7-a0fa-541467a1d3db",
   "metadata": {
    "id": "1dc445f3-8f0f-41b7-a0fa-541467a1d3db"
   },
   "source": [
    "### Universidade Federal do Rio Grande - FURG"
   ]
  },
  {
   "cell_type": "markdown",
   "id": "27d28d81-ad30-4559-b52d-0fee9ac96cae",
   "metadata": {
    "id": "27d28d81-ad30-4559-b52d-0fee9ac96cae"
   },
   "source": [
    "### Escola de Engenharia - EE"
   ]
  },
  {
   "cell_type": "markdown",
   "id": "103a5401-6849-4ee0-a254-08a7f684a870",
   "metadata": {
    "id": "103a5401-6849-4ee0-a254-08a7f684a870"
   },
   "source": [
    "### Programa de Pós-graduação em Engenharia Oceânica - PPGEO"
   ]
  },
  {
   "cell_type": "markdown",
   "id": "547b79f5-d7a3-4b02-8ce9-7c1647bff36b",
   "metadata": {
    "id": "547b79f5-d7a3-4b02-8ce9-7c1647bff36b"
   },
   "source": [
    "### Disciplina: Confiabilidade em Engenharia"
   ]
  },
  {
   "cell_type": "markdown",
   "id": "e0725446-5506-4354-8b96-fd5f60cf025c",
   "metadata": {
    "id": "189e93bb-f3e5-4536-9aec-d09046d6929b"
   },
   "source": [
    "### Professor: Dr. Mauro de Vasconcellos Real"
   ]
  },
  {
   "cell_type": "markdown",
   "id": "0f573eed-b149-49a0-bf9f-5a72b50d1815",
   "metadata": {},
   "source": [
    "# __Aula 06__"
   ]
  },
  {
   "cell_type": "code",
   "execution_count": 66,
   "id": "aae74c59-c562-4c6b-b548-02568c399dd9",
   "metadata": {},
   "outputs": [],
   "source": [
    "import numpy as np\n",
    "import matplotlib.pyplot as plt\n",
    "from scipy.stats import norm\n",
    "from scipy.stats import lognorm\n",
    "from scipy.stats import binom\n",
    "from scipy.stats import poisson\n",
    "import scipy.special as sp\n",
    "from scipy.stats import beta"
   ]
  },
  {
   "cell_type": "markdown",
   "id": "ce78f794-4773-4210-bf0c-d89fd0e707f7",
   "metadata": {
    "id": "ce78f794-4773-4210-bf0c-d89fd0e707f7"
   },
   "source": [
    "# __Capítulo 3 - Modelos analíticos para fenômenos aleatórios__"
   ]
  },
  {
   "cell_type": "markdown",
   "id": "b887beac-b455-45e3-b61e-94df1b6aa93b",
   "metadata": {
    "id": "3764b601-27f8-4189-a03c-e7c7c94f021d"
   },
   "source": [
    "## __3.2 - Principais distribuições de probabilidade__ <a name=\"section_32\"></a>"
   ]
  },
  {
   "cell_type": "markdown",
   "id": "3ce4b88f-bb46-49e3-b43f-b2c43671b855",
   "metadata": {
    "id": "3ce4b88f-bb46-49e3-b43f-b2c43671b855"
   },
   "source": [
    "[3.2.1 - Distribuição Normal](#section_321)  \n",
    "[3.2.2 - Distribuição Lognormal](#section_322)    \n",
    "[3.2.3 - Distribuição Binomial (Sequência de Bernoulli)](#section_323)  \n",
    "[3.2.4 - Distribuição Geométrica](#section_324)   \n",
    "[3.2.5 - Distribuição Binomial Negativa](#section_325)  \n",
    "[3.2.6 - Distribuição de Poisson](#section_326)  \n",
    "[3.2.7 - Distribuição Exponencial](#section_327)   \n",
    "[3.2.8 - Distribuição Gama](#section_328)  \n",
    "[3.2.9 - Distribuição Hipergeometrica](#section_329)   \n",
    "[3.2.10 - Distribuição Beta](#section_3210)   "
   ]
  },
  {
   "cell_type": "markdown",
   "id": "5bafba8c-efa5-4114-9f0e-603f32dbecc4",
   "metadata": {
    "id": "5bafba8c-efa5-4114-9f0e-603f32dbecc4"
   },
   "source": [
    "### 3.2.1 - Distribuição Normal  <a name=\"section_321\"></a>"
   ]
  },
  {
   "cell_type": "markdown",
   "id": "ec6594d5-de59-4224-b246-4145b51f644b",
   "metadata": {
    "tags": []
   },
   "source": [
    "* Também chamada de __Curva de Gauss__.\n",
    "\n",
    "* É a mais utilizada das distribuições.\n",
    "\n",
    "* Parâmetros: $\\mu$ = média e $\\sigma$ = desvio padrão.\n",
    "\n",
    "* Sua FDP é dada por $N(\\mu,\\sigma)$:\n",
    "\n",
    "$$ f_X(x) = \\frac{1}{\\sigma \\sqrt{2 \\pi}} \\exp{\\left[-\\frac{1}{2}\\left(\\frac{x - \\mu}{\\sigma}\\right)^2\\right]} \\qquad -\\infty < x < +\\infty$$\n",
    "\n",
    "* A figura abaixo mostra os efeitos da variação dos parâmetros $\\sigma$ (a) e $\\mu$ (b) sobre a FDP da distribuição normal.\n"
   ]
  },
  {
   "cell_type": "markdown",
   "id": "2ffd078c-c534-47a5-a4c0-b413f37c5160",
   "metadata": {
    "tags": []
   },
   "source": [
    "<img src=\"./images3/normal1.jpg\" alta=\"Distribuição Normal: variação de sigma e de mu\" style=\"width:800px\"/>"
   ]
  },
  {
   "cell_type": "markdown",
   "id": "912a2e3a-d6cf-4d1d-b0dd-8f7bd80a6de7",
   "metadata": {
    "tags": []
   },
   "source": [
    "Fonte: ANG,  A.  H-S.; TANG,  W. H.. Probability concepts in engineering: Emphasis on applications to Civil and Enviromental Engineering.  2nd ed. Hoboken, NJ, John Wiley & Sons, 2007."
   ]
  },
  {
   "cell_type": "markdown",
   "id": "6fed8a23-83cf-4ab0-ac2c-2bd0effe578c",
   "metadata": {
    "id": "6fed8a23-83cf-4ab0-ac2c-2bd0effe578c"
   },
   "source": [
    "#### Distribuição normal padrão:"
   ]
  },
  {
   "cell_type": "markdown",
   "id": "c4dcba7a-615f-4964-96b4-124ff1a2a0eb",
   "metadata": {},
   "source": [
    "A distribuição normal pode ser padronizada através da utilização da variável $S$:\n",
    "\n",
    "$$ s = \\frac{(x-\\mu)}{\\sigma} $$.\n",
    "\n",
    "A variável $S$ é uma variável aleatória de média $\\mu_S = 0$ e de variância unitária $\\sigma_S^2 = 1$, cuja FDP é dada na forma:\n",
    "\n",
    "$$ f_X(x) = \\frac{1}{\\sqrt{2 \\pi}} \\exp{\\left[-\\frac{1}{2} s^2\\right]} \\qquad -\\infty < x < +\\infty$$\n",
    "\n",
    "A figura abaixo mostra um gráfico da função densidade de probabilidade da distribuição normal padronizada, onde $\\Phi(s) = F_S(s)$:"
   ]
  },
  {
   "cell_type": "markdown",
   "id": "152d3ab3-ca71-42fc-959f-562a8d278416",
   "metadata": {
    "tags": []
   },
   "source": [
    "<img src=\"./images3/normal_padronizada.jpg\" alta=\"Distribuição Normal Padronizada\" style=\"width:474px\"/>"
   ]
  },
  {
   "cell_type": "markdown",
   "id": "a1dff21a-c10a-4851-8a38-bc11a8ccd68d",
   "metadata": {
    "tags": []
   },
   "source": [
    "Fonte: Adaptada de ANG,  A.  H-S.; TANG,  W. H.. Probability concepts in engineering: Emphasis on applications to Civil and Enviromental Engineering.  2nd ed. Hoboken, NJ, John Wiley & Sons, 2007."
   ]
  },
  {
   "cell_type": "markdown",
   "id": "cb3e8786-74a7-41b8-8e89-70aa48428d8c",
   "metadata": {
    "id": "cb3e8786-74a7-41b8-8e89-70aa48428d8c"
   },
   "source": [
    "Em função do número de desvios padrões $\\sigma$ considerados à esquerda e à direita da média $\\mu = 0$, tem-se uma probabilidade (área sob a curva normal) de os dados estarem contidos neste intervalo, conforme é mostrado na figura abaixo."
   ]
  },
  {
   "cell_type": "markdown",
   "id": "6c5e4db8-ecdf-4a26-8cf7-ab806dcdc09e",
   "metadata": {
    "tags": []
   },
   "source": [
    "<img src=\"./images3/normal_sigma.jpg\" alta=\"Área sob a curva normal\" style=\"width:474px\"/>"
   ]
  },
  {
   "cell_type": "markdown",
   "id": "7d929a47-6f38-49aa-8640-d920269a93c5",
   "metadata": {
    "tags": []
   },
   "source": [
    "Fonte: Adaptada de ANG,  A.  H-S.; TANG,  W. H.. Probability concepts in engineering: Emphasis on applications to Civil and Enviromental Engineering.  2nd ed. Hoboken, NJ, John Wiley & Sons, 2007."
   ]
  },
  {
   "cell_type": "markdown",
   "id": "c956418a-b901-40f8-93bc-5a309004d74a",
   "metadata": {},
   "source": [
    "#### Cálculo de probabilidades"
   ]
  },
  {
   "cell_type": "markdown",
   "id": "18f9f645-6b81-4167-b5a7-1a143c128248",
   "metadata": {},
   "source": [
    "A probabilidade o evento $a \\leq X \\leq b$ será dada por:\n",
    "\n",
    "$$ P(a \\leq X \\leq b) = \\frac{1}{\\sigma \\sqrt{2 \\pi}} \\int_{a}^{b}\\exp{\\left[-\\frac{1}{2}\\left(\\frac{x - \\mu}{\\sigma}\\right)^2\\right]}dx$$\n",
    "\n",
    "Esta integral representa a área sob a curva normal entre os pontos $x = a$ e $x = b$, conforme mostrado na figura abaixo.\n",
    "\n",
    "Esta integral não possui solução analítica, devendo se valor ser obtido através da utilização de métodos numéricos ou alguma aproximação. Tabelas para a função de distribuição acumulada (FDA) da distribuição normal padronizada costumam estar disponíveis nos apêndices de livros de Estatística e Probabilidade."
   ]
  },
  {
   "cell_type": "markdown",
   "id": "732a40a8-64b9-4ded-8578-8bf81e038e41",
   "metadata": {
    "tags": []
   },
   "source": [
    "<img src=\"./images3/normal_area.jpg\" alta=\"Área sob a curva normal entre os pontos a e b\" style=\"width:474px\"/>"
   ]
  },
  {
   "cell_type": "markdown",
   "id": "78e234a5-ef5e-4b58-85f7-b7889c506ab2",
   "metadata": {
    "tags": []
   },
   "source": [
    "Fonte: Adaptada de ANG,  A.  H-S.; TANG,  W. H.. Probability concepts in engineering: Emphasis on applications to Civil and Enviromental Engineering.  2nd ed. Hoboken, NJ, John Wiley & Sons, 2007."
   ]
  },
  {
   "cell_type": "markdown",
   "id": "441b6369-7154-456b-9602-ed9e11bb1183",
   "metadata": {},
   "source": [
    "Usando-se a distribuição  normal padrão, tem-se que:\n",
    "\n",
    "$$ s_a = \\frac{a - \\mu}{\\sigma} \\quad \\text{e} \\quad s_b = \\frac{b - \\mu}{\\sigma}$$\n",
    "\n",
    "Logo:\n",
    "\n",
    "$$ P(a \\leq X \\leq b) = \\Phi\\left(\\frac{b - \\mu}{\\sigma}\\right) - \\Phi\\left(\\frac{a - \\mu}{\\sigma}\\right)$$\n"
   ]
  },
  {
   "cell_type": "markdown",
   "id": "31ce3c4d-56af-497c-afef-2cd2500eb190",
   "metadata": {},
   "source": [
    "#### Exemplo 3.5 - Precipitação pluviométrica em uma bacia de captação"
   ]
  },
  {
   "cell_type": "markdown",
   "id": "95e4cc76-b7a3-4118-8e15-def68d27c881",
   "metadata": {},
   "source": [
    "A precipitação pluviométrica anual em uma bacia de captação é estimada ter uma distribuição normal com $N(1500 mm, 375mm)$.  \n",
    "a) Qual a probabilidade de que em um ano futuro a precipitação anual será entre $1000 mm$ e $1800 mm$?\n",
    "\n",
    "__Solução__:\n",
    "\n",
    "$$P(1000 \\leq X \\leq 1800) = \\Phi\\left(\\frac{1800 - 1500}{375}\\right) - \\Phi\\left(\\frac{1000 - 1500}{375}\\right) = 0,7881 - 0,0912 = 0,6969 = 69,69\\%$$"
   ]
  },
  {
   "cell_type": "code",
   "execution_count": 95,
   "id": "08c911ac-c6fa-426d-b478-c7ba9137054f",
   "metadata": {},
   "outputs": [
    {
     "name": "stdout",
     "output_type": "stream",
     "text": [
      "Probabilidade acumulada de a = 0.0912\n",
      "Probabilidade acumulada de b = 0.7881\n",
      "Probabilidade do evento 1000 mm < X < 1800 mm = 0.6969\n"
     ]
    }
   ],
   "source": [
    "# Dados de entrada:\n",
    "x_mean = 1500 # mm\n",
    "x_std = 375 # mm\n",
    "a = 1000 # mm\n",
    "b = 1800 # mm\n",
    "pa = norm.cdf(a, x_mean, x_std)\n",
    "pb = norm.cdf(b, x_mean, x_std) \n",
    "px = pb - pa\n",
    "print(\"Probabilidade acumulada de a = {0:0.4f}\".format(pa))\n",
    "print(\"Probabilidade acumulada de b = {0:0.4f}\".format(pb))\n",
    "print(\"Probabilidade do evento 1000 mm < X < 1800 mm = {0:0.4f}\".format(px))"
   ]
  },
  {
   "cell_type": "markdown",
   "id": "58083f81-27ce-4dff-bc54-dfef2f8b2b42",
   "metadata": {},
   "source": [
    "b) Qual a probabilidade de que a precipitação anual será de pelo menos $750 mm$?\n",
    "\n",
    "$$P(X \\geq 750) = 1 - P(X < 750) =1 - \\Phi\\left(\\frac{750 - 1500}{375}\\right) = 1 - 0,02275 = 0,9772 = 97,72\\%$$"
   ]
  },
  {
   "cell_type": "code",
   "execution_count": 96,
   "id": "71ea5bfc-11f6-43d1-b48a-6cd2045625d0",
   "metadata": {},
   "outputs": [
    {
     "name": "stdout",
     "output_type": "stream",
     "text": [
      "Probabilidade acumulada de X < 750 mm = 0.0228\n",
      "Probabilidade do evento X >= 750 mm = 0.9772\n"
     ]
    }
   ],
   "source": [
    "p750 = norm.cdf(750, x_mean, x_std)\n",
    "pxge750 = 1 - p750\n",
    "print(\"Probabilidade acumulada de X < 750 mm = {0:0.4f}\".format(p750))\n",
    "print(\"Probabilidade do evento X >= 750 mm = {0:0.4f}\".format(pxge750))"
   ]
  },
  {
   "cell_type": "markdown",
   "id": "0cebbdd2-bf0b-46e0-9795-f335d882fc9a",
   "metadata": {},
   "source": [
    "c) Qual a precipitação anual que tem uma probabilidade de ocorrência de pelo menos 10%?\n",
    "\n",
    "$$ P(X \\leq x) = 10\\% \\rightarrow \\Phi \\left(\\frac{x - 1.500}{375} \\right) = 0,10 \\rightarrow \\frac{x-1.500}{375}=-1,2816$$\n",
    "\n",
    "$$ x = 1.500 - 1,2816 . 375 = 1.019 mm$$"
   ]
  },
  {
   "cell_type": "code",
   "execution_count": 97,
   "id": "5b43c6df-5c57-407e-800e-c5b6b00bbf4b",
   "metadata": {},
   "outputs": [
    {
     "name": "stdout",
     "output_type": "stream",
     "text": [
      "Variável normal padronizada s tal que P(S<s)=10% = -1.2816\n",
      "Variavel normal x, tal que s = -1,2816 = 1019.4182 mm\n"
     ]
    }
   ],
   "source": [
    "s = norm.ppf(0.10,0.00,1.00)\n",
    "x = x_mean + s * x_std\n",
    "print(\"Variável normal padronizada s tal que P(S<s)=10% = {0:0.4f}\".format(s))\n",
    "print(\"Variavel normal x, tal que s = -1,2816 = {0:0.4f} mm\".format(x))"
   ]
  },
  {
   "cell_type": "markdown",
   "id": "7e84968d-451a-4b24-9c5a-747a0979811e",
   "metadata": {},
   "source": [
    "Ou, de forma direta:"
   ]
  },
  {
   "cell_type": "code",
   "execution_count": 98,
   "id": "fc165e66-14de-4f5b-aec7-951b44efafe3",
   "metadata": {},
   "outputs": [
    {
     "name": "stdout",
     "output_type": "stream",
     "text": [
      "Variavel normal x, tal que P(X<x)=10% = 1019.4182 mm\n"
     ]
    }
   ],
   "source": [
    "x = norm.ppf(0.10, x_mean, x_std)\n",
    "print(\"Variavel normal x, tal que P(X<x)=10% = {0:0.4f} mm\".format(x))"
   ]
  },
  {
   "cell_type": "markdown",
   "id": "4a897e86-4bd8-49f2-99a6-48e2424481e5",
   "metadata": {},
   "source": [
    "[Retornar à lista de distribuições de probabilidade](#section_32) "
   ]
  },
  {
   "cell_type": "markdown",
   "id": "26a2fb12-8cb1-4109-90ed-8759a30eda94",
   "metadata": {
    "id": "5bafba8c-efa5-4114-9f0e-603f32dbecc4"
   },
   "source": [
    "### 3.2.2 - Distribuição Lognormal <a name=\"section_322\"></a>"
   ]
  },
  {
   "cell_type": "markdown",
   "id": "29031f2f-ad81-4bce-8004-27e6c7824f88",
   "metadata": {},
   "source": [
    "* Uma variável aleatória $X$ possui uma distribuição lognormal se o logaritmo neperiano $ln(X)$ possui distribuição normal.\n",
    "\n",
    "* A distribuição lognormal é útil de ser empregada quando todos os valores da variável aleatória $X$ forem positivos $(X>0)$.\n",
    "\n",
    "* Os parâmetros de uma distribuição lognormal são  $\\lambda$ e $\\zeta$, onde: \n",
    "\n",
    "* $\\lambda = E[ln(x)]$, ou seja, a média do logarítmo neperiano de $X$.\n",
    "\n",
    "* $\\zeta = \\sqrt{\\{Var[ln(X)]\\}}$, ou seja, o desvio padrão do logaritmo neperiano de $X$\n",
    "\n",
    "* A FDP de uma variável aleatória lognormal $X$ será dada por:\n",
    "\n",
    "$$ f_X(x) = \\frac{1}{\\sqrt{2 \\pi}\\zeta x } \\exp{-\\frac{1}{2}\\left(\\frac{ln(x) - \\lambda}{\\zeta}\\right)^2} \\qquad 0 < x < +\\infty$$\n"
   ]
  },
  {
   "cell_type": "markdown",
   "id": "db030900-4723-40a0-a8ad-68070ed5d128",
   "metadata": {},
   "source": [
    "A figura abaixo apresenta o aspecto da função FDP para uma variável aleatória lognormal, para diversos valores do parâmetro de dispersão $\\zeta$."
   ]
  },
  {
   "cell_type": "markdown",
   "id": "a3ee14eb-5c9b-4fc3-8e96-545e31a3cc4d",
   "metadata": {},
   "source": [
    "<img src=\"./images3/lognormal.jpg\" alt=\"FDP para uma variável aleatória lognormal.\" style=\"width:474px\"/>"
   ]
  },
  {
   "cell_type": "markdown",
   "id": "8da27dec-68fd-4a2f-998b-ab62aec039b9",
   "metadata": {},
   "source": [
    "Fonte: ANG,  A.  H-S.; TANG,  W. H.. Probability concepts in engineering: Emphasis on applications to Civil and Enviromental Engineering.  2nd ed. Hoboken, NJ, John Wiley & Sons, 2007."
   ]
  },
  {
   "cell_type": "markdown",
   "id": "9a89bd8f-d83f-4d23-8d1e-7e8696678c89",
   "metadata": {},
   "source": [
    "#### Parâmentros da distribuição lognormal"
   ]
  },
  {
   "cell_type": "markdown",
   "id": "fb33d3e9-40c8-4c24-9e82-1fbb70b31357",
   "metadata": {},
   "source": [
    "Uma vez conhecidos os parâmetros média $\\mu$ e desvio padrão $\\sigma$ da variável $X$, os parâmetros da distribuição lognormal podem ser obtidos a partir das seguintes equações:\n",
    "\n",
    "* a) Média $\\lambda$:\n",
    "\n",
    "$$ \\lambda = ln\\mu - \\frac{1}{2}\\zeta^2$$.\n",
    "\n",
    "* b) Variância $\\zeta$:\n",
    "\n",
    "$$ \\zeta^2 = ln\\left( \\frac{\\sigma^2}{\\mu^2} + 1 \\right)$$\n",
    "\n",
    "* c) Mediana $x_m$:\n",
    "\n",
    "$$x_m = \\frac{\\mu}{\\sqrt{1+\\delta^2}}$$\n",
    "\n",
    "* d) Nos casos em que:\n",
    "\n",
    "$$ \\delta = \\frac{\\sigma}{\\mu} \\le 0,30 \\quad \\rightarrow \\quad \\zeta \\approxeq \\delta $$"
   ]
  },
  {
   "cell_type": "markdown",
   "id": "54a384d5-4608-4150-982d-89f78773058a",
   "metadata": {},
   "source": [
    "#### Exemplo 3.6 - Precipitação em uma bacia de captação: modelo com distribuição lognormal"
   ]
  },
  {
   "cell_type": "markdown",
   "id": "aad00981-1caf-4e7c-9397-afddb8d57c83",
   "metadata": {},
   "source": [
    "A precipitação pluviométrica anual em uma bacia de captação possui média $\\mu = 1.500 mm$ e desvio padrão $\\sigma = 375 mm$. Considerar, agora, que o modelo de distribuição de probabilidade da precipitação anual seja lognormal.  \n",
    "a) Qual a probabilidade de que em um ano futuro a precipitação anual será entre $1000 mm$ e $1800 mm$?\n",
    "\n",
    "__Solução__:\n",
    "\n",
    "Cálculo dos parâmetros da distribuição lognormal:\n",
    "\n",
    "$$ \\delta = \\frac{375}{1.500} = 0,25 $$\n",
    "\n",
    "$$ \\zeta^2 = ln\\left( \\frac{\\sigma^2}{\\mu^2} + 1 \\right) = ln\\left( 0,25^2 + 1 \\right) = 0,0606$$\n",
    "\n",
    "$$ \\zeta = \\sqrt{0,0606}= 0,2462$$\n",
    "\n",
    "Note-se que para $\\delta < 0,30 \\rightarrow \\zeta \\approxeq \\delta$\n",
    "\n",
    "$$ \\lambda = ln\\mu - \\frac{1}{2}\\zeta^2 = ln(1500) - \\frac{1}{2}(0,2462)^2 = $$.\n",
    "\n",
    "$$P(1000 \\leq X \\leq 1800) = \\Phi\\left(\\frac{1800 - 1500}{375}\\right) - \\Phi\\left(\\frac{1000 - 1500}{375}\\right) = 0,7881 - 0,0912 = 0,6969 = 69,69\\%$$"
   ]
  },
  {
   "cell_type": "code",
   "execution_count": 99,
   "id": "8af1f6ab-e064-4407-8662-8e2e2069cd6c",
   "metadata": {},
   "outputs": [
    {
     "name": "stdout",
     "output_type": "stream",
     "text": [
      "Parâmetro lambda = 7.2829\n",
      "Parâmetro zeta = 0.2462\n",
      "Probabilidade acumulada de a = 0.0638\n",
      "Probabilidade acumulada de b = 0.8061\n",
      "Probabilidade do evento 1000 mm < X < 1800 mm = 0.7423\n"
     ]
    }
   ],
   "source": [
    "# Parâmetros da distribuição lognormal\n",
    "x_mean = 1500 # mm\n",
    "x_std = 375 # mm\n",
    "delta = x_std / x_mean\n",
    "zetax = np.sqrt(np.log(delta**2 +1))\n",
    "lambdax = np.log(x_mean)-0.5*zetax**2\n",
    "# Cálculo das probabilidades utilizando a distribuição normal de ln(x)\n",
    "sa = (np.log(1000.00)-lambdax)/zetax\n",
    "sb = (np.log(1800.00)-lambdax)/zetax\n",
    "pa = norm.cdf(sa, 0, 1)\n",
    "pb = norm.cdf(sb, 0, 1)\n",
    "px = pb - pa\n",
    "print(\"Parâmetro lambda = {0:0.4f}\".format(lambdax))\n",
    "print(\"Parâmetro zeta = {0:0.4f}\".format(zetax))\n",
    "print(\"Probabilidade acumulada de a = {0:0.4f}\".format(pa))\n",
    "print(\"Probabilidade acumulada de b = {0:0.4f}\".format(pb))\n",
    "print(\"Probabilidade do evento 1000 mm < X < 1800 mm = {0:0.4f}\".format(px))"
   ]
  },
  {
   "cell_type": "markdown",
   "id": "a539ff03-1eb9-459d-b8f7-1e7e80f4a748",
   "metadata": {},
   "source": [
    "Ou usando diretamente a FDA da distribução lognormal:"
   ]
  },
  {
   "cell_type": "code",
   "execution_count": 100,
   "id": "b1339e92-3a48-4650-be08-b9639f528507",
   "metadata": {},
   "outputs": [
    {
     "name": "stdout",
     "output_type": "stream",
     "text": [
      "Parâmetro lambda = 7.2829\n",
      "Parâmetro zeta = 0.2462\n",
      "Parâmetro loc = 0.0000\n",
      "Parâmetro s = 0.2462\n",
      "Parâmetro scale = 1455.2138\n",
      "Probabilidade acumulada de a = 0.0638\n",
      "Probabilidade acumulada de b = 0.8061\n",
      "Probabilidade do evento 1000 mm < X < 1800 mm = 0.7423\n"
     ]
    }
   ],
   "source": [
    "# Parâmetros da distribuição lognormal\n",
    "x_mean = 1500 # mm\n",
    "x_std = 375 # mm\n",
    "delta = x_std / x_mean\n",
    "zetax = np.sqrt(np.log(delta**2 +1))\n",
    "lambdax = np.log(x_mean)-0.5*zetax**2\n",
    "# Parâmetros para scipy.stats lognorm.cdf\n",
    "s = zetax\n",
    "scale =  np.exp(lambdax)\n",
    "loc= 0.00\n",
    "# Cálculo das probabilidades utilizando diretamente a distribuição lognormal\n",
    "a= 1000.00\n",
    "b= 1800.00\n",
    "pa = lognorm.cdf(a, s, loc, scale)\n",
    "pb = lognorm.cdf(b, s, loc, scale)\n",
    "px = pb - pa\n",
    "print(\"Parâmetro lambda = {0:0.4f}\".format(lambdax))\n",
    "print(\"Parâmetro zeta = {0:0.4f}\".format(zetax))\n",
    "print(\"Parâmetro loc = {0:0.4f}\".format(loc))\n",
    "print(\"Parâmetro s = {0:0.4f}\".format(zetax))\n",
    "print(\"Parâmetro scale = {0:0.4f}\".format(scale))\n",
    "print(\"Probabilidade acumulada de a = {0:0.4f}\".format(pa))\n",
    "print(\"Probabilidade acumulada de b = {0:0.4f}\".format(pb))\n",
    "print(\"Probabilidade do evento 1000 mm < X < 1800 mm = {0:0.4f}\".format(px))"
   ]
  },
  {
   "cell_type": "markdown",
   "id": "63318074-35c4-45a2-900c-3a497603d955",
   "metadata": {},
   "source": [
    "b) Qual a probabilidade de que a precipitação anual será de pelo menos $750 mm$?\n",
    "\n",
    "$$P(X \\geq 750) = 1 - P(X < 750) =1 - \\Phi\\left(\\frac{ln(750) - 7,2820}{0,2462}\\right) = 1 - 0,0036 = 0,9964 = 99,64\\%$$"
   ]
  },
  {
   "cell_type": "code",
   "execution_count": 101,
   "id": "9c9d352e-4161-4551-b989-a92878322b7a",
   "metadata": {},
   "outputs": [
    {
     "name": "stdout",
     "output_type": "stream",
     "text": [
      "Probabilidade acumulada de X < 750 mm = 0.0036\n",
      "Probabilidade do evento X >= 750 mm = 0.9964\n"
     ]
    }
   ],
   "source": [
    "# Parâmetros da distribuição lognormal\n",
    "x_mean = 1500 # mm\n",
    "x_std = 375 # mm\n",
    "delta = x_std / x_mean\n",
    "zetax = np.sqrt(np.log(delta**2 +1))\n",
    "lambdax = np.log(x_mean)-0.5*zetax**2\n",
    "# Cálculo das probabilidades utilizando a distribuição normal de ln(x)\n",
    "s750 = (np.log(750)-lambdax)/zetax\n",
    "p750 = norm.cdf(s750, 0, 1)\n",
    "pxge750 = 1 - p750\n",
    "print(\"Probabilidade acumulada de X < 750 mm = {0:0.4f}\".format(p750))\n",
    "print(\"Probabilidade do evento X >= 750 mm = {0:0.4f}\".format(pxge750))"
   ]
  },
  {
   "cell_type": "markdown",
   "id": "3776aa3d-14b6-4a28-9ce7-96dd4a226599",
   "metadata": {},
   "source": [
    "Ou usando diretamente a FDA da distribução lognormal:"
   ]
  },
  {
   "cell_type": "code",
   "execution_count": 102,
   "id": "c6c4a287-23fc-40a7-ade5-1e1b10a4fe67",
   "metadata": {},
   "outputs": [
    {
     "name": "stdout",
     "output_type": "stream",
     "text": [
      "Parâmetro lambda = 7.2829\n",
      "Parâmetro zeta = 0.2462\n",
      "Parâmetro loc = 0.0000\n",
      "Parâmetro s = 0.2462\n",
      "Parâmetro scale = 1455.2138\n",
      "Probabilidade acumulada de X < 750 mm = 0.0036\n",
      "Probabilidade do evento X >= 750 mm = 0.9964\n"
     ]
    }
   ],
   "source": [
    "# Parâmetros da distribuição lognormal\n",
    "x_mean = 1500 # mm\n",
    "x_std = 375 # mm\n",
    "delta = x_std / x_mean\n",
    "zetax = np.sqrt(np.log(delta**2 +1))\n",
    "lambdax = np.log(x_mean)-0.5*zetax**2\n",
    "# Parâmetros para scipy.stats lognorm.cdf\n",
    "s = zetax\n",
    "scale =  np.exp(lambdax)\n",
    "loc= 0.00\n",
    "# Cálculo das probabilidades utilizando diretamente a distribuição lognormal\n",
    "p750 = lognorm.cdf(750.00, s, loc, scale)\n",
    "pxge750 = 1 - p750\n",
    "print(\"Parâmetro lambda = {0:0.4f}\".format(lambdax))\n",
    "print(\"Parâmetro zeta = {0:0.4f}\".format(zetax))\n",
    "print(\"Parâmetro loc = {0:0.4f}\".format(loc))\n",
    "print(\"Parâmetro s = {0:0.4f}\".format(zetax))\n",
    "print(\"Parâmetro scale = {0:0.4f}\".format(scale))\n",
    "print(\"Probabilidade acumulada de X < 750 mm = {0:0.4f}\".format(p750))\n",
    "print(\"Probabilidade do evento X >= 750 mm = {0:0.4f}\".format(pxge750))"
   ]
  },
  {
   "cell_type": "markdown",
   "id": "d68a3b3a-fa83-4f42-8c67-c7e17b22921a",
   "metadata": {},
   "source": [
    "c) Qual a precipitação anual que tem uma probabilidade de ocorrência de pelo menos 10%?\n",
    "\n",
    "$$ P(X \\leq x) = 10\\% \\rightarrow \\Phi \\left(\\frac{ln(x_{10\\%} - 7,2829}{0,2462} \\right) = 0,10 \\rightarrow \\frac{ln(x)-7,2829}{0,2462}=-1,2816$$\n",
    "\n",
    "$$ ln(x) = 7,2829 - 1,2816 . 0,2462 = 6,9674 $$\n",
    "\n",
    "$$ x = \\exp(6,9674) = 1.061,42 mm $$"
   ]
  },
  {
   "cell_type": "code",
   "execution_count": 103,
   "id": "592e5f7e-c46f-43dd-ba26-64187cca5112",
   "metadata": {},
   "outputs": [
    {
     "name": "stdout",
     "output_type": "stream",
     "text": [
      "Variável normal padronizada s tal que P(S<s)=10% = -1.2816\n",
      "ln(x) correspondente a s(10%) = 6.9674\n",
      "Variavel normal x, tal que s = -1,2816 = 1061.4207 mm\n"
     ]
    }
   ],
   "source": [
    "# Parâmetros da distribuição lognormal\n",
    "x_mean = 1500 # mm\n",
    "x_std = 375 # mm\n",
    "delta = x_std / x_mean\n",
    "zetax = np.sqrt(np.log(delta**2 +1))\n",
    "lambdax = np.log(x_mean)-0.5*zetax**2\n",
    "s = norm.ppf(0.10,0.00,1.00)\n",
    "lnx = lambdax + s * zetax\n",
    "x = np.exp(lnx)\n",
    "print(\"Variável normal padronizada s tal que P(S<s)=10% = {0:0.4f}\".format(s))\n",
    "print(\"ln(x) correspondente a s(10%) = {0:0.4f}\".format(lnx))\n",
    "print(\"Variavel normal x, tal que s = -1,2816 = {0:0.4f} mm\".format(x))"
   ]
  },
  {
   "cell_type": "markdown",
   "id": "7dfeccc1-3696-4f15-89fd-8ec465ee8827",
   "metadata": {},
   "source": [
    "Ou, de forma direta:"
   ]
  },
  {
   "cell_type": "code",
   "execution_count": 104,
   "id": "32c2257d-4a4f-49d5-8f7a-278bdc67b0e0",
   "metadata": {},
   "outputs": [
    {
     "name": "stdout",
     "output_type": "stream",
     "text": [
      "Variavel normal x, tal que P(X<x)=10% = 1061.4207 mm\n"
     ]
    }
   ],
   "source": [
    "# Parâmetros da distribuição lognormal\n",
    "x_mean = 1500 # mm\n",
    "x_std = 375 # mm\n",
    "delta = x_std / x_mean\n",
    "zetax = np.sqrt(np.log(delta**2 +1))\n",
    "lambdax = np.log(x_mean)-0.5*zetax**2\n",
    "# Parâmetros para scipy.stats lognorm.cdf\n",
    "s = zetax\n",
    "scale =  np.exp(lambdax)\n",
    "loc= 0.00\n",
    "# Cálculo de x\n",
    "x = lognorm.ppf(0.10, s, loc, scale)\n",
    "print(\"Variavel normal x, tal que P(X<x)=10% = {0:0.4f} mm\".format(x))"
   ]
  },
  {
   "cell_type": "markdown",
   "id": "eec91d38-5b41-40d2-9788-41c21dbf8f68",
   "metadata": {},
   "source": [
    "[Retornar à lista de distribuições de probabilidade](#section_32) "
   ]
  },
  {
   "cell_type": "markdown",
   "id": "db855b45-ca8e-45ff-9579-8270b624c1aa",
   "metadata": {},
   "source": [
    "### 3.2.3 - Distribuição Binomial (Sequência de Bernoulli)  <a name=\"section_323\"></a>"
   ]
  },
  {
   "cell_type": "markdown",
   "id": "7664e00a-92e2-4c2b-a827-292d26d2e1e2",
   "metadata": {},
   "source": [
    "#### Sequência de Bernoulli:\n",
    "\n",
    "1. Cada tentaviva possui apenas dois resultados possíveis: a __ocorrência__ $(p)$ ou a __não-ocorrência__ $(q)$ do evento.\n",
    "\n",
    "2. A probabilidade de ocorrência do evento em cada tentativa é __constante__.\n",
    "\n",
    "3. As tentativas são __estatisticamente independentes__."
   ]
  },
  {
   "cell_type": "markdown",
   "id": "7db86951-5550-4f12-a08f-56310e21c822",
   "metadata": {},
   "source": [
    "#### Distribuição Binomial:\n",
    "\n",
    "* A probabilidade de acontecerem $x$ ocorrências, em $n$ tentativas, com uma probabilidade $p$ em cada tentativa é:\n",
    "\n",
    "$$P(X=x) = \\binom{n}{x} p^x (1-p)^{n-x} \\qquad x = 0, 1, 2, 3, ..., n$$\n",
    "\n",
    "Onde:\n",
    "\n",
    "$$ \\binom{n}{x} = \\frac{n!}{x!(n-x)!} $$\n",
    "\n",
    "É a combinação de $n$ elementos, $x$ a $x$.\n",
    "\n",
    "* Na sequência de Bernoulli as tentativas devem ser discretas.\n",
    "\n",
    "* Porém, problemas de tempo ou espaço contínuos podem ser resolvidos dividindo-se o tempo (ou o espaço) em intervalos finitos e admitindo-se apenas a ocorrência ou a não-ocorrência do evento em cada intervalo."
   ]
  },
  {
   "cell_type": "markdown",
   "id": "30a87af5-d93b-4a29-938c-5a4b3c942fe2",
   "metadata": {},
   "source": [
    "#### Exemplo 3.7 - Cheia máxima anual - Distribuição Binomial\n",
    "\n",
    "No planejamento de um sistema de controle de enchentes é de interesse conhecer-se a ocorrência da máxima cheia anual de um  rio. A probabilidade de a cheia anual exceder um nível $h_0$ é de $0,10$, em um ano.\n",
    "\n",
    "a)Qual a probabilidade de que o nível $h_0$ será excedido uma vez nos próximos cinco anos?\n",
    "\n",
    "__Solução:__\n",
    "\n",
    "$p = 0,10$  \n",
    "$1 - p = 0,90$  \n",
    "$n = 5$  \n",
    "$x = 1$  \n",
    "\n",
    "$$P(X=1) = \\binom{5}{1} (0,1)^1(0,9)^4 = 0,3280=32,80\\%$$\n",
    "\n"
   ]
  },
  {
   "cell_type": "code",
   "execution_count": 105,
   "id": "a57f73f0-e21e-424d-af3d-08513cb50c90",
   "metadata": {},
   "outputs": [
    {
     "name": "stdout",
     "output_type": "stream",
     "text": [
      "Probabilidade de X=1, em 5 anos = 0.3280\n"
     ]
    }
   ],
   "source": [
    "# Entrada de dados\n",
    "n = 5\n",
    "p = 0.10\n",
    "x = 1\n",
    "# Cálculo da probabilidade de que ocorra uma cheia em 5 anos\n",
    "px1 = binom.pmf(x,n,p)\n",
    "print(\"Probabilidade de X=1, em 5 anos = {0:0.4f}\".format(px1))"
   ]
  },
  {
   "cell_type": "markdown",
   "id": "ef394b79-17b2-414e-9ca4-f5760d0a1b43",
   "metadata": {},
   "source": [
    "b)Qual a probabilidade de que haverá no máximo uma cheia superior a $h_0$ nos próximos cinco anos?\n",
    "\n",
    "__Solução:__\n",
    "\n",
    "$$P(X \\leq 1) = P(X=0) + P(X = 1) = \\binom{5}{0} (0,1)^0(0,9)^5 + \\binom{5}{1} (0,1)^1(0,9)^4 = 0,5905 + 0,3280 = 0,9185=91,85\\%$$\n",
    "\n",
    "Esta é a possibilidade de haver nenhuma ou apenas uma cheia em 5 anos."
   ]
  },
  {
   "cell_type": "code",
   "execution_count": 106,
   "id": "fc1724c7-8197-4264-a66a-c9ca6fcf93c3",
   "metadata": {},
   "outputs": [
    {
     "name": "stdout",
     "output_type": "stream",
     "text": [
      "P(X=0) = 0.5905\n",
      "P(X=1) = 0.3280\n",
      "Probabilidade de  X ser no máximo igual a 1, em 5 anos = 0.9185\n"
     ]
    }
   ],
   "source": [
    "# Entrada de dados\n",
    "n = 5\n",
    "p = 0.10\n",
    "# Cálculo da probabilidade de que ocorra uma cheia em 5 anos\n",
    "px0 = binom.pmf(0,n,p)\n",
    "px1 = binom.pmf(1,n,p)\n",
    "pxmax1 = px0 + px1 \n",
    "print(\"P(X=0) = {0:0.4f}\".format(px0))\n",
    "print(\"P(X=1) = {0:0.4f}\".format(px1))\n",
    "print(\"Probabilidade de  X ser no máximo igual a 1, em 5 anos = {0:0.4f}\".format(pxmax1))"
   ]
  },
  {
   "cell_type": "markdown",
   "id": "443c74c7-4e93-466b-86f5-a2cad5d98595",
   "metadata": {},
   "source": [
    "A figura abaixo mostra o gráfico da distribuição binomial para os parâmetros $p = 0,10$ e $n = 5$, observando-se que: $C_n^x = \\binom{n}{x}$, ou seja, combinação de $n$ elementos, $x$ a $x$."
   ]
  },
  {
   "cell_type": "code",
   "execution_count": 107,
   "id": "ea945397-c6bf-4754-bd97-6592d7a5e559",
   "metadata": {},
   "outputs": [
    {
     "data": {
      "image/png": "[encoded data removed]",
      "text/plain": [
       "<Figure size 540x324 with 1 Axes>"
      ]
     },
     "metadata": {
      "needs_background": "light"
     },
     "output_type": "display_data"
    }
   ],
   "source": [
    "# Parâmetros n e p da distribuição binomial\n",
    "n = 5\n",
    "p = 0.10\n",
    "# Definindo os valores de x\n",
    "x_values = list(range(n + 1))\n",
    "# Lista com os valores de pmf para cada valor de x\n",
    "dist = [binom.pmf(x, n, p) for x in x_values ]\n",
    "# Gerando o gráfico da distribuição binomial para n = 5 e p = 0,10\n",
    "fig, ax = plt.subplots(figsize=(7.5, 4.5))\n",
    "ax.bar(x_values, dist)\n",
    "ax.set_ylabel(r'$P(X=x)$', fontsize=14)\n",
    "ax.set_xlabel(r'$X$', fontsize=14)\n",
    "ax.set_title('Distribuição Binomial', fontsize=14)\n",
    "ax.text(2, 0.5, r'$ n = 5 \\quad p = 0,10$', fontsize = 16)\n",
    "ax.text(2, 0.4, r'$ P(X=x) = C_{n}^{x} p^x (1-p)^{n-x}$', fontsize = 16)\n",
    "fig.tight_layout()"
   ]
  },
  {
   "cell_type": "markdown",
   "id": "bc0bbb95-8b8c-4307-90a7-361e371eca95",
   "metadata": {},
   "source": [
    "[Retornar à lista de distribuições de probabilidade](#section_32) "
   ]
  },
  {
   "cell_type": "markdown",
   "id": "b27d9dee-e122-4e2a-826a-c05564f603c9",
   "metadata": {},
   "source": [
    "### 3.2.4 - Distribuição Geométrica <a name=\"section_324\"></a>"
   ]
  },
  {
   "cell_type": "markdown",
   "id": "08f88446-cb9d-421b-a754-630a4cd8357e",
   "metadata": {},
   "source": [
    "* Em uma seqüência de Bernoulli, o número de tentativas até que um evento especificado ocorra pela primeira vez é governado pela __Distribuição Geométrica__.\n",
    "\n",
    "* O evento é realizado na _t-ésima_ tentativa:\n",
    "\n",
    "$$P(T=t) = pq^{(t-1)} \\qquad t = 1, 2, 3, ...$$\n",
    "\n",
    "* O __período de retorno__ de um evento, ou tempo de recorrência médio, será dado por:\n",
    "\n",
    "$$\\bar{T} = E(T) = \\sum_{t=1}^{\\infty}tpq^{(t-1)} = p(1 + 2q + 3q^2 + ...)$$\n",
    "\n",
    "* Para $q<1$, a série infinita conduz a:\n",
    "\n",
    "$$\\bar{T} = \\frac{1}{p} $$\n",
    "\n",
    "* __O período de retorno é o inverso da probabilidade de ocorrência do evento!__\n",
    "\n",
    "O gráfico abaixo ilustra a convergência do valor esperado do tempo de retorno $E(T)$ para o inverso da probabilidade de ocorrência do evento $\\frac{1}{p}$, com o crescimento do número de termos da série.\n"
   ]
  },
  {
   "cell_type": "code",
   "execution_count": 108,
   "id": "2c2372d0-21e5-45e6-90b1-b735cdc48fd7",
   "metadata": {},
   "outputs": [
    {
     "name": "stdout",
     "output_type": "stream",
     "text": [
      "Período médio de retorno = 20.0\n"
     ]
    },
    {
     "data": {
      "image/png": "[encoded data removed]",
      "text/plain": [
       "<Figure size 612x432 with 1 Axes>"
      ]
     },
     "metadata": {
      "needs_background": "light"
     },
     "output_type": "display_data"
    }
   ],
   "source": [
    "# Entrada de dados\n",
    "n = 250\n",
    "p = 0.05\n",
    "q = 1 - p\n",
    "esp_t = np.zeros(n+1)\n",
    "soma = 0\n",
    "# Cálculo do valor esperado do tempo de retorno\n",
    "for t in range(1, n+1, 1):\n",
    "    soma += t * q ** (t-1)\n",
    "    esp_t[t] = p * soma\n",
    "print(\"Período médio de retorno = {0:0.4}\".format(esp_t[-1]))\n",
    "# Gráfico de convergência da série\n",
    "plt.figure(figsize=(8.5, 6))\n",
    "plt.plot(esp_t)\n",
    "plt.axhline(y=20, color=\"gray\", linestyle=':', zorder=-1)\n",
    "plt.text(50, 12.5, r'$ \\bar{T} = E(T) = \\sum_{t=1}^{\\infty}tpq^{(t-1)} = p(1 + 2q + 3q^2 + ...)$', fontsize=16)\n",
    "plt.text(50, 10, r'$ p = 0,05 \\rightarrow \\bar{T}= \\frac{1}{p} = 20 \\quad anos$', fontsize=16)\n",
    "plt.xlabel(\"Número de termos da série\")\n",
    "plt.ylabel(r\"$\\bar{T}$\")\n",
    "plt.title(\"Período de retorno médio\")\n",
    "plt.tight_layout()\n",
    "plt.show()"
   ]
  },
  {
   "cell_type": "markdown",
   "id": "362531c8-73fc-4d0f-8016-9515d2c4f01a",
   "metadata": {
    "tags": []
   },
   "source": [
    "#### Exemplo 3.8 - Plataforma offshore\n",
    "\n",
    "A plataforma offshore indicada na figura abaixo está construída $8m$ acima do nível do mar. A probabilidade de esta altura ser superada pelas ondas do mar em um ano é de $5\\%$.  \n",
    "Qual a probabilidade de as ondas cobrirem a plataforma em seu período de retorno?"
   ]
  },
  {
   "cell_type": "markdown",
   "id": "b6ab80f1-bb4c-4f37-aab2-43fb28037908",
   "metadata": {},
   "source": [
    "<img src=\"./images3/plataforma.jpg\" alt=\"Plataforma offshore\" style=\"width:474px\"/>"
   ]
  },
  {
   "cell_type": "markdown",
   "id": "31a3a0d9-e97b-4f3c-8d93-d2e1b7315af1",
   "metadata": {},
   "source": [
    "Fonte: ANG,  A.  H-S.; TANG,  W. H.. Probability concepts in engineering: Emphasis on applications to Civil and Enviromental Engineering.  2nd ed. Hoboken, NJ, John Wiley & Sons, 2007."
   ]
  },
  {
   "cell_type": "markdown",
   "id": "e891d4c5-06ec-40d4-bdd5-b510072310ae",
   "metadata": {},
   "source": [
    "__Solução:__\n",
    "\n",
    "Cálculo do período de retorno:\n",
    "\n",
    "$$ \\bar{T} = \\frac{1}{p} = \\frac{1}{0,05} = 20 \\quad \\text{anos}$$\n",
    "\n",
    "Cálculo da probabilidade da onda encobrir a plataforma no período de retorno:\n",
    "\n",
    "A probabilidade de a plataforma não ser encoberta no período de um ano é $q = 1 - p = 1 - 0,05 = 0,95$.\n",
    "\n",
    "$$P(H > 8m \\quad \\text{em 20 anos}) = 1 - (0,95)^{20} = 1 - 0,3585 = 0,6415$$"
   ]
  },
  {
   "cell_type": "markdown",
   "id": "bec51a32-ede6-48b6-88a3-bf5678911475",
   "metadata": {},
   "source": [
    "#### Probabilidade de ocorrência de um evento dentro do seu período de retorno:\n",
    "\n",
    "$$P(nenhuma \\quad ocorr\\hat encia \\quad em \\quad \\bar{T})=(1-p)^{\\bar{T}}$$\n",
    "\n",
    "Empregando a fórmula da expansão binomial:\n",
    "\n",
    "$$(x+y)^n = \\sum_{k=0}^{\\infty} \\binom{n}{k}x^{(n-k)}y^{k}$$\n",
    "\n",
    "Resulta:\n",
    "\n",
    "$$(1-p)^{\\bar{T}} = \\binom{\\bar{T}}{0}1^{\\bar{T}}p^0 +\\binom{\\bar{T}}{1}1^{(\\bar{T}-1)}p^1 +\\binom{\\bar{T}}{2}1^{(\\bar{T}-2)}p^2 +\\binom{\\bar{T}}{3}1^{(\\bar{T}-3)}p^3 + ...$$\n",
    "\n",
    "$$(1-p)^{\\bar{T}} = 1 - p + \\frac{\\bar{T}!}{2!(\\bar{T}-2)!}p^2 - \\frac{\\bar{T}!}{3!(\\bar{T}-3)}p^3 + ...$$\n",
    "\n",
    "Para valores grandes de $\\bar{T}$ e pequenos de $p$, tem-se que:\n",
    "\n",
    "$$(1-p)^{\\bar{T}} = 1 - p + \\frac{\\bar{T}!}{2!(\\bar{T}-2)!}p^2 - \\frac{\\bar{T}!}{3!(\\bar{T}-3)}p^3 + ... = e^{-\\bar{T}p}$$\n",
    "\n",
    "Logo:\n",
    "\n",
    "$$P(nenhuma \\quad ocorr\\hat encia \\quad em \\quad \\bar{T})= (1-p)^{\\bar{T}} \\approxeq e^{(-\\bar{T}p)} = e^{(-1)} = 0,3679$$\n",
    "\n",
    "Então, a probabilidade de ocorrência de um evento dentro de seu período de retorno será dada por:\n",
    "\n",
    "$$P(ocorr\\hat encia \\quad em \\quad \\bar{T})= 1 - 0,3679 = 0,6321 = 63,21\\%$$\n",
    "\n",
    "Ou seja, para um evento raro ($p$ pequeno), com o período de retorno longo ($\\bar{T}$ grande), a probabilidade de ocorrência do evento em seu período de retorno tende para o valor $0,6321 = 63,21\\%$.  \n",
    "Isto é válido mesmo para um período de retorno de $20$ anos, como o do Exemplo 3.8, pois neste caso a diferença é de apenas $1,50\\%$.  \n",
    "\n",
    "Por isso, a norma brasileira NBR-6123:1988, \"Forças devidas ao vento em edificações\", em seu item 5.4 estabelece que:\n",
    "\n",
    ">Segundo a definição de 5.1, a velocidade básica Vo é a velocidade do vento que apresenta um período de recorrência médio de 50 anos. A probabilidade de que a velocidade Vo seja igualada ou excedida neste período é de 63%.\n"
   ]
  },
  {
   "cell_type": "markdown",
   "id": "e972cad4-f810-48c4-9fb7-c8a04f462f2c",
   "metadata": {},
   "source": [
    "[Retornar à lista de distribuições de probabilidade](#section_32) "
   ]
  },
  {
   "cell_type": "markdown",
   "id": "2274fa39-2f99-461b-ade1-0d87790ef766",
   "metadata": {},
   "source": [
    "### 3.2.5 - Distribuição Binomial Negativa <a name=\"section_325\"></a>"
   ]
  },
  {
   "cell_type": "markdown",
   "id": "513e2204-83cc-470c-9008-40dc9b7c019e",
   "metadata": {},
   "source": [
    "* O __número de tentativas__ de Bernoulli necessárias  até a __k-ésima__ ocorrência de um evento é governado pela __Distribuição Binomial Negativa__.\n",
    "\n",
    "$$ P(T_k = t) = \\binom{t-1}{k-1} p^k q^{t-k} \\qquad para \\quad t = k, k+1, ...$$\n",
    "\n",
    "$$ P(T_k = t) = 0 \\qquad para \\quad t<k$$\n",
    "\n"
   ]
  },
  {
   "cell_type": "markdown",
   "id": "bee5f09f-2e03-4f16-bb61-e87c18728ce6",
   "metadata": {},
   "source": [
    "#### Exemplo 3.9 - Velocidade máxima do vento\n",
    "\n",
    "Uma torre de transmissão foi projetada para uma velocidade máxima de vento que ocorre 1 vez a cada 50 anos.  \n",
    "Qual a probabilidade desta velocidade ser excedida duas vezes nos primeiros 5 anos após a execução da estrutura?\n",
    "\n",
    "__Solução:__\n",
    "\n",
    "* A probabilidade de ocorrência de um vento de 50 anos é:\n",
    "\n",
    "$$ p = \\frac{1}{\\bar{T}} = \\frac{1}{50} = 0,02 $$\n",
    "\n",
    "* A probabilidade de que serão gastas 5 tentativas para obter-se 2 ocorrências é:\n",
    "\n",
    "$$ P(T_2 = 5) = \\binom{4}{1}(0,02)^2(0,98)^3 = 0,0015 = 0,15\\%$$\n"
   ]
  },
  {
   "cell_type": "markdown",
   "id": "f0374509-48ae-46d7-b1e6-b9d1307b3013",
   "metadata": {},
   "source": [
    "[Retornar à lista de distribuições de probabilidade](#section_32) "
   ]
  },
  {
   "cell_type": "markdown",
   "id": "7aadb857-1677-4b24-8f71-85bf81cd8125",
   "metadata": {},
   "source": [
    "### 3.2.6 - Distribuição de Poisson <a name=\"section_326\"></a>"
   ]
  },
  {
   "cell_type": "markdown",
   "id": "6711e62e-873a-4b7e-99d2-3adb58d45d65",
   "metadata": {},
   "source": [
    "* A distribuição de Poisson descreve a FMP do número de eventos que ocorrem em determinado intervalo (contínuo) de tempo ou de espaço.\n",
    "\n",
    "* É o resultado de um __processo de contagem__ $X(t)$ no tempo (ou espaço) __contínuo__ chamado  __Processo de Poisson__.\n",
    "\n",
    "#### Processo de Poisson:\n",
    "\n",
    "1. Em um instante de tempo qualquer, pode haver no máximo uma ocorrência de um evento.\n",
    "\n",
    "2. As ocorrências de um evento em intervalos de tempo não sobrepostos são estatisticamente independentes. \n",
    "\n",
    "3. A probabilidade de uma ocorrência em $(t, t + \\Delta t)$ é proporcional a $\\Delta t$, isto é:\n",
    "\n",
    "$$P\\left[X(\\Delta t) = 1 \\right] = \\nu \\Delta t$$\n",
    "\n",
    "Onde $\\nu$ é uma constante de proporcionalidade positiva.\n",
    "\n",
    "#### Função densidade de probabilidade:\n",
    "\n",
    "$$p_x(t) = \\frac{(\\nu t)^x}{x!} e^{-\\nu t} \\qquad x = 0,1,2,3,...$$\n",
    "\n",
    "\n",
    "#### Valor esperado:\n",
    "\n",
    "$$ E(X_t) = \\nu t$$\n",
    "\n",
    "#### Variância: \n",
    "\n",
    "$$Var(X_t) = E \\left( X_t^2 \\right) - \\left[E(X_t) \\right]^2 = \\nu t $$\n",
    "\n",
    "\n",
    "\n",
    "\n",
    "\n",
    "\n",
    "\n"
   ]
  },
  {
   "cell_type": "markdown",
   "id": "b02fd391-77da-47d6-9945-efcca1130d77",
   "metadata": {},
   "source": [
    "### Exemplo 3.10 - Tempestades no mar"
   ]
  },
  {
   "cell_type": "markdown",
   "id": "a3f8ac77-a11d-44ff-9239-64b0d148a625",
   "metadata": {},
   "source": [
    "<img src=\"./images3/tempestade.jpg\" alt=\"Tempestades no mar\" style=\"width:474px\"/>"
   ]
  },
  {
   "cell_type": "markdown",
   "id": "74870519-d366-4e45-9170-ac2b7aeedb58",
   "metadata": {},
   "source": [
    "Fonte: https://ite-prod-cdn-end.azureedge.net/sharedmedia/breakbulk/media/assets/oil-rig-storm_1.png"
   ]
  },
  {
   "cell_type": "markdown",
   "id": "23593f96-e49a-48cd-a4a0-676a1fc87a31",
   "metadata": {},
   "source": [
    "Em média ocorrem 4 tempestades por ano.\n",
    "A ocorrência de tempestades no mar pode ser representada um Processo de Poisson.\n",
    "a) Qual a probabilidade de não haver tempestades no próximo ano?\n",
    "\n",
    "__Solução:__\n",
    "\n",
    "\n",
    "$$P(X_t = 0) = \\frac{(4)^0}{0!} e^{-4} = 0,0183=1,83\\%$$\n",
    "\n",
    "b) Qual a probabilidade de ocorrerem exatamente 4 tempestades no próximo ano?\n",
    "\n",
    "$$P(X_t = 4) = \\frac{(4)^4}{4!} e^{-4} = 0,1954=19,54\\%$$\n",
    "\n",
    "c) A probabilidade de haver 2 ou mais tempestades no próximo ano?\n",
    "\n",
    "$$P(X_t \\geq 2) = \\sum_{X=2}^{\\infty} \\frac{(4)^x}{x!} e^{-4} = 1 - \\sum_{X=0}^{1} \\frac{(4)^x}{x!} e^{-4} = 1 - 0,0183 - 0,0733 = 0,9084 = 90,84\\%$$\n",
    "\n",
    "A FMP do número de tempestades no mar em 1 anos é mostrada na figura abaixo."
   ]
  },
  {
   "cell_type": "code",
   "execution_count": 109,
   "id": "371d9f39-f36f-4aab-9632-e6b23e9d3331",
   "metadata": {},
   "outputs": [
    {
     "data": {
      "image/png": "[encoded data removed]",
      "text/plain": [
       "<Figure size 540x324 with 1 Axes>"
      ]
     },
     "metadata": {
      "needs_background": "light"
     },
     "output_type": "display_data"
    }
   ],
   "source": [
    "# Parâmetros n e p da distribuição de Poisson\n",
    "nu = 4\n",
    "t = 1\n",
    "# Definindo os valores de x\n",
    "x_values = list(range(13))\n",
    "# Lista com os valores de pmf para cada valor de x\n",
    "dist = [poisson.pmf(x, nu) for x in x_values ]\n",
    "# Gerando o gráfico da distribuição binomial para n = 5 e p = 0,10\n",
    "fig, ax = plt.subplots(figsize=(7.5, 4.5))\n",
    "ax.bar(x_values, dist)\n",
    "ax.set_ylabel(r'$P(X_t=x)$', fontsize=14)\n",
    "ax.set_xlabel(r'$X_t$ = número de tempestades num ano', fontsize=14)\n",
    "ax.set_title('Distribuição de Poisson', fontsize=14)\n",
    "ax.text(8, 0.15, r'$ \\nu = 4 \\quad t = 1$', fontsize = 16)\n",
    "ax.text(8, 0.12, r'$ p_x(t) = \\frac{(\\nu t)^x}{x!} e^{-\\nu t} $', fontsize = 16)\n",
    "fig.tight_layout()"
   ]
  },
  {
   "cell_type": "markdown",
   "id": "21a593d1-4170-47a8-9d86-8a7b39384293",
   "metadata": {},
   "source": [
    "Cálculo usando uma rotina em Python:"
   ]
  },
  {
   "cell_type": "code",
   "execution_count": 110,
   "id": "cc4301d9-35f1-49bf-8898-b92be97e30d0",
   "metadata": {},
   "outputs": [
    {
     "name": "stdout",
     "output_type": "stream",
     "text": [
      "P(X=0) = 0.0183\n",
      "P(X=1) = 0.0733\n",
      "Probabilidade de  X maior ou igual a 2 no próximo ano = 0.9084\n"
     ]
    }
   ],
   "source": [
    "# Parâmetros n e p da distribuição de Poisson\n",
    "nu = 4\n",
    "t = 1\n",
    "# Definindo os valores de px\n",
    "px0 = poisson.pmf(0, nu)\n",
    "px1 = poisson.pmf(1, nu)\n",
    "px_ge_2 = 1 - px0 - px1\n",
    "print(\"P(X=0) = {0:0.4f}\".format(px0))\n",
    "print(\"P(X=1) = {0:0.4f}\".format(px1))\n",
    "print(\"Probabilidade de  X maior ou igual a 2 no próximo ano = {0:0.4f}\".format(px_ge_2))"
   ]
  },
  {
   "cell_type": "markdown",
   "id": "16086907-b6b4-4d08-9ee0-f1b6e88a32cf",
   "metadata": {},
   "source": [
    "Alternativamente, usando a DPA da Distribuição de Poisson:"
   ]
  },
  {
   "cell_type": "code",
   "execution_count": 111,
   "id": "6f470231-264e-4372-951b-1f57d9b5a71f",
   "metadata": {},
   "outputs": [
    {
     "name": "stdout",
     "output_type": "stream",
     "text": [
      "Probabilidade de  X maior ou igual a 2 no próximo ano = 0.9084\n"
     ]
    }
   ],
   "source": [
    "px_ge_2 = 1 - poisson.cdf(1, nu)\n",
    "print(\"Probabilidade de  X maior ou igual a 2 no próximo ano = {0:0.4f}\".format(px_ge_2))"
   ]
  },
  {
   "cell_type": "markdown",
   "id": "3dc22fb8-1aeb-442f-b086-c47ea3187bd0",
   "metadata": {},
   "source": [
    "[Retornar à lista de distribuições de probabilidade](#section_32) "
   ]
  },
  {
   "cell_type": "markdown",
   "id": "d3132bfa-a018-45fd-b5d7-12c8df70faff",
   "metadata": {},
   "source": [
    "### 3.2.7 - Distribuição Exponencial <a name=\"section_327\"></a>"
   ]
  },
  {
   "cell_type": "markdown",
   "id": "ba8823a7-6e13-47f9-be76-c69e06eba9c3",
   "metadata": {},
   "source": [
    "* Processo de Poisson: o tempo até a ocorrência do primeiro evento $(T_1)$ segue uma __distribuição exponencial__.\n",
    "\n",
    "$$ P(T_1 > t) = P(X_t = 0) = \\frac{\\nu t^0}{0!}e^{-\\nu t} = e^{-\\nu t} $$\n",
    "\n",
    "* Como as ocorrências em intervalos não sobrepostos são independentes, o valor de $T_1$ é igual ao __Tempo de Recorrência__.\n",
    "\n",
    "#### Função densidade de probabilidade acumulada:\n",
    "\n",
    "$$ F_{T_1}(t) = P(T_1 \\leq t) = 1 - e^{-\\nu t} $$\n",
    "\n",
    "#### Função densidade de probabilidade:\n",
    "\n",
    "$$f_{T_1}(t) = \\frac{dF_{T_1}(t)}{dt} = \\nu e^{-\\nu t} $$\n",
    "\n",
    "#### Período de retorno:\n",
    "\n",
    "$$ \\mu_{T_1} = \\frac{1}{\\nu}$$\n",
    "\n",
    "#### Confiabilidade:\n",
    "\n",
    "A vida média de um equipamento ou o tempo médio até a próxima falha será dado por:\n",
    "\n",
    "$$ E(T) = \\frac{1}{\\lambda} \\quad \\rm{onde} \\quad \\lambda = \\nu $$\n",
    "\n",
    "\n"
   ]
  },
  {
   "cell_type": "markdown",
   "id": "a96b7bf2-02db-40e3-a212-5a53611f7c20",
   "metadata": {},
   "source": [
    "#### Exemplo 3.11 - Geradores em uma  plataforma de petróleo"
   ]
  },
  {
   "cell_type": "markdown",
   "id": "a1742e87-19de-4aa8-8380-42c6914fe5c4",
   "metadata": {},
   "source": [
    "<img src=\"./images3/geradores.jpg\" alt=\"Geradores em uma plataforma offshore\" style=\"width:800px\"/>"
   ]
  },
  {
   "cell_type": "markdown",
   "id": "faf67d6d-f90c-414b-8ec1-a15ae114f56f",
   "metadata": {},
   "source": [
    "* Existem 4 geradores disponíveis.\n",
    "* Pelo menos 2 geradores devem estar funcionando em uma emergência.\n",
    "* Cada gerador possui uma vida útil média de 15 anos.\n",
    "* Qual a probabilidade de que 2 geradores estarão em funcionamento em uma emergência após 2 anos de operação da plataforma?\n",
    "\n",
    "__Solução:__\n",
    "\n",
    "* Taxa de falha dos geradores no tempo:\n",
    "\n",
    "$$ \\lambda = \\frac{1}{E(T)} = \\frac{1}{15} = 0,0667 $$\n",
    "\n",
    "* Probabilidade de que um gerador __não estará funcionando__ após 2 anos de uso $F_T(2)$:\n",
    "\n",
    "$$ P(T<2) = F_T(2) = 1 - \\exp{-2\\frac{1}{15}} = 1 - 0,8752 = 0,1248 \\rightarrow q$$\n",
    "\n",
    "* Probabilidade de que um gerador __estará funcionando__ após 2 anos de uso:\n",
    "\n",
    "$$ P(T \\geq 2) = 1 - P(T<2) = 1 - 0,1248 = 0,8752 \\rightarrow p$$\n",
    "\n",
    "* Probabilide de que um gerador falhará num período de 15 anos (tempo de recorrência):\n",
    "\n",
    "$$ P(T<15) = F_T(15) = 1 - \\exp{\\left(-15\\frac{1}{15}\\right)} = 1 - e^{-1} = 1 - 0,3679 = 0,6321 = 63,21\\%$$\n",
    "\n",
    "Ou seja, para um Processo de Poisson, a probabilidade de que um evento acontecerá dentro de seu __período de retorno__ também é de $63,21\\%$.\n"
   ]
  },
  {
   "cell_type": "markdown",
   "id": "578c39f2-3062-446f-87cd-636e070af423",
   "metadata": {},
   "source": [
    "Gráfico da distribuição exponencial do tempo até a próxima falha de um dos geradores:"
   ]
  },
  {
   "cell_type": "code",
   "execution_count": 112,
   "id": "488c8620-7509-49c5-b833-e59bb02e63c6",
   "metadata": {},
   "outputs": [
    {
     "data": {
      "image/png": "[encoded data removed]",
      "text/plain": [
       "<Figure size 540x324 with 1 Axes>"
      ]
     },
     "metadata": {
      "needs_background": "light"
     },
     "output_type": "display_data"
    }
   ],
   "source": [
    "# Dados de entrada:\n",
    "e_t = 15\n",
    "lambdat = 1/15\n",
    "t = np.linspace(0,100,1000)\n",
    "ft = 1- np.exp(-lambdat * t)\n",
    "# Gerar o gráfico de fT(t)\n",
    "fig, ax = plt.subplots(figsize=(7.5, 4.5))\n",
    "ax.plot(t, ft)\n",
    "ax.set_ylabel(r'$P(T<t)$', fontsize=14)\n",
    "ax.set_xlabel(r'$T$(anos)', fontsize=14)\n",
    "ax.set_title('Distribuição Exponencial', fontsize=14)\n",
    "ax.text(40, 0.8, r'$ \\lambda = \\frac{1}{15} $', fontsize = 16)\n",
    "ax.text(40, 0.6, r'$ P(T<t) = F_T(t) = 1 - \\exp\\left({-\\frac{1}{15}t}\\right)$', fontsize = 16)\n",
    "ax.text(10, 0.15, r'$ P(T<2) = F_T(2) = 0,1248$', fontsize = 16)\n",
    "ax.axhline(y=0.1248, color=\"gray\")\n",
    "ax.axvline(x=2, color=\"gray\")\n",
    "ax.set_xlim(0,100)\n",
    "ax.set_ylim(0,1.0)\n",
    "fig.tight_layout()\n"
   ]
  },
  {
   "cell_type": "markdown",
   "id": "b0e0bb77-977a-43fa-9c3d-f57d8e0d3f55",
   "metadata": {},
   "source": [
    "* Probabilidade de que 2 ou mais entre os 4 geradores disponíveis estejam funcionando após 2 anos:\n",
    "\n",
    "$$P(N \\geq 2) = \\sum_{x=2}^{4} \\binom{4}{x} p^x q^{4-x} = 0,0716 + 0,3374 + 0,5867 = 0,9957$$"
   ]
  },
  {
   "cell_type": "code",
   "execution_count": 113,
   "id": "b30a6ad9-e52b-4d3e-b089-17d1910c7413",
   "metadata": {},
   "outputs": [
    {
     "data": {
      "image/png": "[encoded data removed]",
      "text/plain": [
       "<Figure size 540x324 with 1 Axes>"
      ]
     },
     "metadata": {
      "needs_background": "light"
     },
     "output_type": "display_data"
    }
   ],
   "source": [
    "# Parâmetros n e p da distribuição binomial\n",
    "n = 4\n",
    "p = 0.8752\n",
    "# Definindo os valores de x\n",
    "x_values = list(range(n + 1))\n",
    "# Lista com os valores de pmf para cada valor de x\n",
    "dist = [binom.pmf(x, n, p) for x in x_values ]\n",
    "# Gerando o gráfico da distribuição binomial para n = 5 e p = 0,10\n",
    "fig, ax = plt.subplots(figsize=(7.5, 4.5))\n",
    "ax.bar(x_values, dist)\n",
    "ax.set_ylabel(r'$P(X=x)$', fontsize=14)\n",
    "ax.set_xlabel(r'$X$', fontsize=14)\n",
    "ax.set_title('Distribuição Binomial', fontsize=14)\n",
    "ax.text(0, 0.5, r'$ n = 4 \\quad p = 0,8752$', fontsize = 16)\n",
    "ax.text(0, 0.4, r'$ P(X=x) = C_{n}^{x} p^x (1-p)^{n-x}$', fontsize = 16)\n",
    "ax.text(1.7, 0.10, r'$0,0716$', fontsize=14)\n",
    "ax.text(2.7, 0.36, r'$0,3374$', fontsize=14)\n",
    "ax.text(3.7, 0.62, r'$0,5867$', fontsize=14)\n",
    "ax.set_ylim(0, 0.80)\n",
    "fig.tight_layout()"
   ]
  },
  {
   "cell_type": "markdown",
   "id": "c5ce0057-7fd5-4bbc-87c7-8adbdc7fb4f7",
   "metadata": {},
   "source": [
    "[Retornar à lista de distribuições de probabilidade](#section_32) "
   ]
  },
  {
   "cell_type": "markdown",
   "id": "361caa9c-684a-45f5-b21c-f33e8f74d5ff",
   "metadata": {},
   "source": [
    "### 3.2.8 - Distribuição Gama <a name=\"section_328\"> </a>"
   ]
  },
  {
   "cell_type": "markdown",
   "id": "e77ded4f-b3af-4180-b403-35be6c490f40",
   "metadata": {},
   "source": [
    "* A distribuição de probabilidade Gama governa o tempo necessário  até a _k-ésima_ ocorrência de um evento que segue um __Processo de Poisson__.\n",
    "\n",
    "* $T_k \\leq t$ : $k$ ou mais eventos ocorrem no tempo t.\n",
    "\n",
    "#### Função de distribuição de probabilidade acumulada para $T_k$:\n",
    "\n",
    "\n",
    "$$ F_{T_k}(t) = \\sum_{x=k}^{\\infty}P(X_t=x) = 1 - P(T_k>t) = 1 - \\sum_{x=0}^{k-1} \\frac{(\\nu t)^x}{x!}e^{-\\nu t}$$\n",
    "\n",
    "\n",
    "#### Função densidade de probabilidade da distribuição Gama:\n",
    "\n",
    "$$ f_{T{k}}(t) = \\frac{dF_{T_k}(t)}{dt} = \\frac{\\nu (\\nu t)^{k-1}}{(k-1)!}e^{-\\nu t}, \\quad t>0$$\n",
    "\n",
    "* A distribuição Gama com $k$ inteiro é conhecida como __distribuição de Erlang__.\n",
    "\n",
    "* O tempo médio para a ocorrência do _k-esimo_ evento é:\n",
    "\n",
    "$$E(T_k) = \\frac{k}{v}$$\n",
    "\n",
    "* A variância de $T_k$ é dada por:\n",
    "\n",
    "$$Var(T_k) = \\frac{k}{\\nu^2}$$\n",
    "\n",
    "* O nome distribuição Gama vem de que:\n",
    "\n",
    "$$(k-1)! = \\Gamma(k)$$\n",
    "\n",
    "* Onde $\\Gamma(k)$ é a função Gama de $k$, dada por:\n",
    "\n",
    "$$\\Gamma(k) = \\int_{0}^{\\infty}x^{k-1}e^{-x}dx, \\quad k>0$$\n"
   ]
  },
  {
   "cell_type": "markdown",
   "id": "3eaa294a-6678-4499-9d0c-392296b17ce8",
   "metadata": {},
   "source": [
    "### Exemplo 3.12 - Acidentes em um canal de navegação"
   ]
  },
  {
   "cell_type": "markdown",
   "id": "68466f6a-f0fa-4feb-8297-e8c122fa3cca",
   "metadata": {},
   "source": [
    "<img src=\"./images3/acidente_canal.jpg\" alt=\"Acidente em canal de navegação\" style=\"width:474px\"/>"
   ]
  },
  {
   "cell_type": "markdown",
   "id": "dad34636-b81f-477c-87a7-c184482b458e",
   "metadata": {},
   "source": [
    "Fonte: http://www.cargolaw.com/images/Tbone1.jpg"
   ]
  },
  {
   "cell_type": "markdown",
   "id": "46e385f8-bcec-4b3a-9ae4-95ce15049076",
   "metadata": {},
   "source": [
    "Acidentes em um canal de navegação ocorrem em média um a cada 6 meses. Ocorrência de acidentes em um canal de navegação podem ser modelados como um __Processo de Poisson__.\n",
    "\n",
    "* Tempo até a ocorrência do primeiro acidente:\n",
    "\n",
    "$$f_{T_1}(t) = \\frac{1}{6}\\exp{\\left(-\\frac{1}{6}t\\right)}$$\n",
    "\n",
    "* Tempo até a ocorrência do segundo acidente:\n",
    "\n",
    "$$f_{T_2}(t) = \\frac{1}{6} \\left(\\frac{1}{6}t\\right)\\exp{\\left(-\\frac{1}{6}t\\right)}$$\n",
    "\n",
    "* Tempo até a ocorrência do terceiro acidente:\n",
    "\n",
    "$$f_{T_2}(t) = \\frac{1}{6}\\frac{1}{2!}\\left(\\frac{1}{6}t\\right)^2\\exp{\\left(-\\frac{1}{6}t\\right)}$$\n",
    "\n",
    "* Valores esperados de $T_K$:\n",
    "\n",
    "1. $E(T_1) = 6 \\rm{meses}$\n",
    "\n",
    "2. $E(T_2) = 12 \\rm{meses}$\n",
    "\n",
    "3. $E(T_3) = 18 \\rm{meses}$\n",
    "\n",
    "O gráfico abaixo mostra as funções densidade de probabilidade para os tempos de ocorrência de 1, 2 e 3 acidentes em um canal de navegação."
   ]
  },
  {
   "cell_type": "code",
   "execution_count": 114,
   "id": "2990d46f-4da2-4982-b6a1-f2127e5db283",
   "metadata": {},
   "outputs": [
    {
     "data": {
      "image/png": "[encoded data removed]",
      "text/plain": [
       "<Figure size 540x324 with 1 Axes>"
      ]
     },
     "metadata": {
      "needs_background": "light"
     },
     "output_type": "display_data"
    }
   ],
   "source": [
    "# Dados de entrada\n",
    "nu = 1/6\n",
    "fact2 = np.math.factorial(2)\n",
    "t = np.linspace(0, 60, 1000)\n",
    "# Cálculo das funções de densidade de probabilidade\n",
    "ft1 = nu * np.exp(- nu * t)\n",
    "ft2 = nu * nu * t * np.exp(- nu * t)\n",
    "ft3 = nu * 1 / fact2 * (nu * t) ** 2 *np.exp(- nu * t)\n",
    "# Gerar o gráfico com estas funções\n",
    "fig, ax = plt.subplots(figsize=(7.5, 4.5))\n",
    "ax.plot(t, ft1, color=\"blue\", label=\"$T_1$\")\n",
    "ax.plot(t, ft2, color=\"red\", label=\"$T_2$\")\n",
    "ax.plot(t, ft3, color=\"orange\", label=\"$T_3$\")\n",
    "ax.set_xlabel(r'Tempo $t$ (meses)', fontsize=14)\n",
    "ax.set_ylabel(r'$f_{Tk}(t)$', fontsize=14)\n",
    "ax.set_title(r'Distribuição Gama - $\\nu = \\frac{1}{6}$', fontsize=14)\n",
    "ax.text(20, 0.125, r'$ f_{T{k}}(t) = \\frac{\\nu (\\nu t)^{k-1}}{(k-1)!}e^{-\\nu t}$', fontsize = 16)\n",
    "ax.set_xlim(0, 60)\n",
    "ax.set_ylim(0, 0.20)\n",
    "ax.legend(loc=\"upper right\")\n",
    "fig.tight_layout()"
   ]
  },
  {
   "cell_type": "markdown",
   "id": "c662de6a-a552-4e9b-a925-7eb5908a284a",
   "metadata": {},
   "source": [
    "As curvas das funções de densidade de probabilidade acumulada para os tempos de ocorrência de 1, 2 e 3 acidentes são mostrados na figura abaixo."
   ]
  },
  {
   "cell_type": "code",
   "execution_count": 115,
   "id": "1c7d879d-1422-41e8-9c35-dbea4b706b47",
   "metadata": {},
   "outputs": [
    {
     "data": {
      "image/png": "[encoded data removed]",
      "text/plain": [
       "<Figure size 540x324 with 1 Axes>"
      ]
     },
     "metadata": {
      "needs_background": "light"
     },
     "output_type": "display_data"
    }
   ],
   "source": [
    "# Dados de entrada\n",
    "nu = 1/6\n",
    "fact2 = np.math.factorial(2)\n",
    "t = np.linspace(0, 60, 1000)\n",
    "# Cálculo das funções de densidade de probabilidade acumulada\n",
    "fda_t1 = 1 - np.exp(- nu * t)\n",
    "fda_t2 = 1 - (1 + nu * t) * np.exp(- nu * t)\n",
    "fda_t3 = 1 - (1 + nu * t + (nu * t)**2 / fact2 ) * np.exp(- nu * t)\n",
    "# Gerar o gráfico com estas funções\n",
    "fig, ax = plt.subplots(figsize=(7.5, 4.5))\n",
    "ax.plot(t, fda_t1, color=\"blue\", label=\"$T_1$\")\n",
    "ax.plot(t, fda_t2, color=\"red\", label=\"$T_2$\")\n",
    "ax.plot(t, fda_t3, color=\"orange\", label=\"$T_3$\")\n",
    "ax.set_xlabel(r'Tempo $t$ (meses)', fontsize=14)\n",
    "ax.set_ylabel(r'$f_{Tk}(t)$', fontsize=14)\n",
    "ax.set_title(r'Distribuição Gama - $\\nu = \\frac{1}{6}$', fontsize=14)\n",
    "ax.text(20, 0.5, r'$ F_{T_k}(t) = 1 - \\sum_{x=0}^{k-1} \\frac{(\\nu t)^x}{x!}e^{-\\nu t}$', fontsize = 16)\n",
    "ax.set_xlim(0, 60)\n",
    "ax.set_ylim(0, 1.00)\n",
    "ax.set_xticks(np.arange(0, 65, 5))\n",
    "ax.set_yticks(np.arange(0, 1.1, 0.1))\n",
    "ax.grid()\n",
    "ax.legend(loc=\"upper right\")\n",
    "fig.tight_layout()"
   ]
  },
  {
   "cell_type": "markdown",
   "id": "abb514f8-11f1-4b8c-9f1e-279a78d67c8f",
   "metadata": {},
   "source": [
    "[Retornar à lista de distribuições de probabilidade](#section_32) "
   ]
  },
  {
   "cell_type": "markdown",
   "id": "d6dbb1e5-8cb8-4ec6-a146-0cba314ea91e",
   "metadata": {},
   "source": [
    "### 3.2.9 - Distribuição Hipergeométrica <a name=\"section_329\"> </a>"
   ]
  },
  {
   "cell_type": "markdown",
   "id": "78fc6f3c-3190-492f-aece-33f1ad111378",
   "metadata": {},
   "source": [
    "* Dada uma população com $N$ elementos.\n",
    "\n",
    "* Nesta população $m$ elementos são defeituosos.\n",
    "\n",
    "* Desta população é retirada uma amostra de $n$ elementos.\n",
    "\n",
    "* A probabilidade de que nesta amostra de $n$ elementos existam $x$ elementos defeituosos é governada pela __Distribuição Hipergeométrica__.\n",
    "\n",
    "* A função massa de probabilidade (FMP), $P(X=x)$, para a distribuição hipergeométrica é mostrada na figura abaixo."
   ]
  },
  {
   "cell_type": "markdown",
   "id": "52be704a-4a4b-42f2-8631-9bf9656c46a7",
   "metadata": {},
   "source": [
    "<img src=\"./images3/hipergeometrica.jpg\" alt=\"Distribuição Hipergeométrica\" style=\"width:474px\"/>"
   ]
  },
  {
   "cell_type": "markdown",
   "id": "26b2cea0-9955-42d8-b7db-3834625f0491",
   "metadata": {},
   "source": [
    "#### Exemplo 3.13 - Tetrapodes para molhe de proteção do porto"
   ]
  },
  {
   "cell_type": "markdown",
   "id": "00ee19ae-cc37-4d52-b1bf-526d585cdb08",
   "metadata": {},
   "source": [
    "<img src=\"./images3/tetrapodes.jpg\" alt=\"Tetrápodes\" style=\"width:474px\"/>"
   ]
  },
  {
   "cell_type": "markdown",
   "id": "5116847a-4098-4d64-8135-1500070c3a6a",
   "metadata": {},
   "source": [
    "Canteiro de obras de fabricação de tetrápodes para um molhe de proteção a um porto:\n",
    "* 100 corpos de prova retirados diariamente\n",
    "* Critério de aceitação:\n",
    "1. 10 corpos de prova são ensaiados\n",
    "2. Se ao menos 9 alcançarem a resistência mínima à compressão o lote é aceito.\n",
    "\n",
    "Pergunta: este critério é suficientemente rigoroso?\n",
    "\n",
    "* Se $d\\%$ dos corpos de prova são defeituosos, qual a probabilidade de um lote ruim ser detectado pelo critério?\n",
    "\n",
    "__Solução:__\n",
    "\n",
    "$$P(X>1) = 1 - P(X \\leq 1) = 1 - [P(X=0) + P(X=1)] = 1 - \\left[ \\frac{\\binom{100(1-d)}{10}}{\\binom{100}{10}} + \\frac{\\binom{100(d)}{1}\\binom{100(1-d)}{9}}{\\binom{100}{10}} \\right]$$\n",
    "\n",
    "* Se $d=15\\%$:\n",
    "\n",
    "$$P(X>1) = 1 - \\left[ \\frac{\\binom{85}{10}}{\\binom{100}{10}} + \\frac{\\binom{15}{1}\\binom{85}{9}}{\\binom{100}{10}} \\right] = 1 - [0,1808+0,3568]=0,4624$$\n",
    "\n",
    "Neste caso a chance de aparecer mais de um corpo de prova defeituoso em 10 é de $46,24\\%$, e o critério de aceitação é rigoroso o suficiente."
   ]
  },
  {
   "cell_type": "code",
   "execution_count": 116,
   "id": "42d39b1b-5417-4c2a-a0f0-e9b4f5a50f1d",
   "metadata": {},
   "outputs": [
    {
     "name": "stdout",
     "output_type": "stream",
     "text": [
      "d = 15.00%\n",
      "P(X=0)=0.1808\n",
      "P(X=1)=0.3568\n",
      "P(X>1)=0.4625\n"
     ]
    }
   ],
   "source": [
    "# É preciso importar o módulo: scipy.special como sp\n",
    "# Caso 1: d=15%\n",
    "d= 0.15\n",
    "px0 = sp.binom(100*(1-d), 10) / sp.binom(100, 10)\n",
    "px1 =  sp.binom(100*d, 1) * sp.binom(100*(1-d), 9) / sp.binom(100, 10)\n",
    "pxm1 = 1 - (px0 + px1)\n",
    "print(\"d = {0:0.2f}%\".format(100*d))\n",
    "print(\"P(X=0)={0:0.4f}\".format(px0))\n",
    "print(\"P(X=1)={0:0.4f}\".format(px1))\n",
    "print(\"P(X>1)={0:0.4f}\".format(pxm1))"
   ]
  },
  {
   "cell_type": "markdown",
   "id": "49b8f8e1-e5d4-45a3-88ad-2d6edb7ba707",
   "metadata": {},
   "source": [
    "* Se $d=2\\%$:\n",
    "\n",
    "$$P(X>1) = 1 - \\left[ \\frac{\\binom{98}{10}}{\\binom{100}{10}} + \\frac{\\binom{2}{1}\\binom{98}{9}}{\\binom{100}{10}} \\right] = 1 - [0,8091+0,1818]=0,0091$$\n",
    "\n",
    "Neste caso a chance de aparecer mais de um corpo de prova defeituoso em 10 é de apenas $0,91\\%$, e o critério de aceitação não é suficientemente rigoroso."
   ]
  },
  {
   "cell_type": "code",
   "execution_count": 117,
   "id": "3ffcdf7b-4760-405e-ab88-8be06daea861",
   "metadata": {},
   "outputs": [
    {
     "name": "stdout",
     "output_type": "stream",
     "text": [
      "d = 2.00%\n",
      "P(X=0)=0.8091\n",
      "P(X=1)=0.1818\n",
      "P(X>1)=0.0091\n"
     ]
    }
   ],
   "source": [
    "# É preciso importar o módulo: scipy.special como sp\n",
    "# Caso 2: d=2%\n",
    "d= 0.02\n",
    "px0 = sp.binom(100*(1-d), 10) / sp.binom(100, 10)\n",
    "px1 =  sp.binom(100*d, 1) * sp.binom(100*(1-d), 9) / sp.binom(100, 10)\n",
    "pxm1 = 1 - (px0 + px1)\n",
    "print(\"d = {0:0.2f}%\".format(100*d))\n",
    "print(\"P(X=0)={0:0.4f}\".format(px0))\n",
    "print(\"P(X=1)={0:0.4f}\".format(px1))\n",
    "print(\"P(X>1)={0:0.4f}\".format(pxm1))"
   ]
  },
  {
   "cell_type": "markdown",
   "id": "0fc55fb7-78e6-4ca4-b534-71c39061c496",
   "metadata": {},
   "source": [
    "[Retornar à lista de distribuições de probabilidade](#section_32) "
   ]
  },
  {
   "cell_type": "markdown",
   "id": "f0b43baf-e547-4a90-a115-27e3aa6ff0c7",
   "metadata": {},
   "source": [
    "### 3.2.10 - Distribuição Beta <a name=\"section_3210\"> </a>"
   ]
  },
  {
   "cell_type": "markdown",
   "id": "f2ad014e-01d5-438e-93b2-825606a5b84a",
   "metadata": {},
   "source": [
    "* A distribuição Beta é apropriada para uma variável aleatória cujos valores possíveis estão confinados entre os limites a e b.\n",
    "\n",
    "* A função densidade de probabilidade da distribuição Beta é dada por:\n",
    "\n",
    "$$f_X(x) = \\frac{1}{B(q,r)} \\frac{(x-a)^{q-1}(b-x)^{r-1}}{(b-a)^{q+r-1}}, \\quad a \\leq x \\leq b$$\n",
    "\n",
    "$$f_X(x) = 0, \\text{para outros valores de} x$$\n",
    "\n",
    "Onde:\n",
    "\n",
    "$a$ é o limite inferior da variável $x$;  \n",
    "$b$ é o limite superior da variável $x$;  \n",
    "$q$ e $r$ são os parâmetros da distribuição;  \n",
    "$B(q,r)$ é a função Beta, dada por:  \n",
    "\n",
    "$$B(q,r) = \\int_{0}^{1}x^{q-1}(x-1)^{r-1}dx$$\n",
    "\n",
    "* A função Beta está relacionada com a função Gama através da equação:\n",
    "\n",
    "$$ B(q,r) = \\frac{\\Gamma(q)\\Gamma(r)}{\\Gamma(q+r)}$$\n",
    "\n",
    "* A função densidade de probabilidade para a distribuição Beta padrão é dada por:\n",
    "\n",
    "$$f_X(x) = \\frac{1}{B(q,r)} x^{q-1}(1-x)^{r-1}, \\quad 0 \\leq x \\le 1$$\n",
    "\n",
    "$$f_X(x) = 0, \\text{para outros valores de} x$$\n",
    "\n",
    "A figura abaixo mostra o gráfico da função densidade de probabilidade da função Beta padrão para $0 \\leq x \\leq 1$, para diversos valores dos parâmetros, $q$ e $r$."
   ]
  },
  {
   "cell_type": "code",
   "execution_count": 64,
   "id": "beff0643-27da-4325-99b7-20136fea11c4",
   "metadata": {},
   "outputs": [
    {
     "data": {
      "image/png": "[encoded data removed]",
      "text/plain": [
       "<Figure size 540x324 with 1 Axes>"
      ]
     },
     "metadata": {
      "needs_background": "light"
     },
     "output_type": "display_data"
    }
   ],
   "source": [
    "# Dados de entrada\n",
    "a = 0\n",
    "b = 1\n",
    "loc = 0\n",
    "scale = 1\n",
    "x = np.arange (0, 1.001, 0.001)\n",
    "q =  1\n",
    "r = 4\n",
    "y1 = beta.pdf(x, q, r, loc, scale)\n",
    "q =  3\n",
    "r = 3\n",
    "y2 = beta.pdf(x, q, r, loc, scale)\n",
    "q =  4\n",
    "r = 2\n",
    "y3 = beta.pdf(x, q, r, loc, scale)\n",
    "q =  1\n",
    "r = 1\n",
    "y4 = beta.pdf(x, q, r, loc, scale)\n",
    "# Gerar o gráfico com estas funções\n",
    "fig, ax = plt.subplots(figsize=(7.5, 4.5))\n",
    "ax.plot(x, y1, color=\"blue\", label=\"$q = 1,0 \\quad r = 4,0$\")\n",
    "ax.plot(x, y2, color=\"red\", label=\"$q = r = 3,0$\")\n",
    "ax.plot(x, y3, color=\"orange\", label=\"$q = 4,0 \\quad r = 2,0$\")\n",
    "ax.plot(x, y4, color=\"green\", label=\"$q = r = 1,0$\")\n",
    "ax.set_xlabel(r'$x$', fontsize=14)\n",
    "ax.set_ylabel(r'$f_{X}(x)$', fontsize=14)\n",
    "ax.set_title(r'Distribuição Beta Padrão', fontsize=14)\n",
    "ax.text(0.1, 4.2, r'$ f_X(x) = \\frac{1}{B(q,r)} x^{q-1}(1-x)^{r-1}$', fontsize = 16)\n",
    "ax.set_xlim(0, 1.00)\n",
    "ax.set_ylim(0, 4.00)\n",
    "ax.set_xticks(np.arange(0, 1.1, 0.10))\n",
    "ax.set_yticks(np.arange(0, 5.5, 0.5))\n",
    "ax.grid()\n",
    "ax.legend(loc=\"upper right\")\n",
    "fig.tight_layout()"
   ]
  },
  {
   "cell_type": "markdown",
   "id": "198bc8bf-4b95-4b0d-b369-c11795e594c7",
   "metadata": {},
   "source": [
    "Abaixo é apresentado como exemplo o gráfico da distribuição Beta para $2 \\leq X \\leq 12$, e parâmetros $q = 20$ e $r = 6$."
   ]
  },
  {
   "cell_type": "code",
   "execution_count": 62,
   "id": "1fce81e4-89fb-4ec7-b120-048e2d0583cd",
   "metadata": {},
   "outputs": [
    {
     "data": {
      "image/png": "[encoded data removed]",
      "text/plain": [
       "<Figure size 540x324 with 1 Axes>"
      ]
     },
     "metadata": {
      "needs_background": "light"
     },
     "output_type": "display_data"
    }
   ],
   "source": [
    "# Dados de entrada\n",
    "a = 2\n",
    "b = 12\n",
    "x = np.arange (2, 12.01, 0.01)\n",
    "q =  2\n",
    "r = 6\n",
    "loc = a\n",
    "scale = (b-a) \n",
    "y = beta.pdf(x, q, r, loc, scale) \n",
    "# Gerar o gráfico com estas funções\n",
    "fig, ax = plt.subplots(figsize=(7.5, 4.5))\n",
    "ax.plot(x, y, color=\"blue\", label=\"$q = 2 \\quad r = 6$\")\n",
    "ax.set_xlabel(r'$x$', fontsize=14)\n",
    "ax.set_ylabel(r'$f_{X}(x)$', fontsize=14)\n",
    "ax.set_title(r'Distribuição Beta', fontsize=14)\n",
    "ax.text(7, 0.175, r'$ f_X(x) = \\frac{1}{B(q,r)} \\frac{(x-a)^{q-1}(b-x)^{r-1}}{(b-a)^{q+r-1}}$', fontsize = 16)\n",
    "ax.set_xlim(0, 13.00)\n",
    "ax.set_ylim(0, 0.25)\n",
    "ax.set_xticks(np.arange(0, 14, 1))\n",
    "ax.set_yticks(np.arange(0, 0.35, 0.05))\n",
    "ax.grid()\n",
    "ax.legend(loc=\"upper right\")\n",
    "fig.tight_layout()"
   ]
  },
  {
   "cell_type": "markdown",
   "id": "3979ce9b-7297-4544-aa51-5aee1810c9fd",
   "metadata": {},
   "source": [
    " * O cálculo da __probabilidade acumulada__ na distribuição Beta padrão pode ser realizado através da expressão:\n",
    " \n",
    " $$F_X(x) = \\frac{B_x(q,r)}{B(q,r)}$$,\n",
    " \n",
    " \n",
    "Onde $B_x(q,r)$ a chamada  __função Beta Incompleta__, dada por:\n",
    " \n",
    " $$B_x(q,r) = \\int_0^x y^{q-1}(1-y)^{r-1}dy, \\quad 0 \\leq x \\leq 1$$\n",
    " \n",
    "Por exemplo: para $q = 4$, $r = 2$ e $x = 0,50$ a probabilidade acumulada vale $P(X<x) = 0,68619$."
   ]
  },
  {
   "cell_type": "code",
   "execution_count": 79,
   "id": "cb3739e8-760f-4f65-8413-fc0e81f171a9",
   "metadata": {},
   "outputs": [
    {
     "name": "stdout",
     "output_type": "stream",
     "text": [
      "0.8125\n",
      "0.05\n",
      "FDA Beta de x =0.5000: P(X<x) =16.2500\n"
     ]
    }
   ],
   "source": [
    "x = 0.50\n",
    "q = 2\n",
    "r = 4\n",
    "print(sp.betainc(q, r, x))\n",
    "print(sp.beta(q,r))\n",
    "fda_x = sp.betainc(q,r,x) / sp.beta(q,r)\n",
    "\n",
    "print(\"FDA Beta de x ={0:0.4f}: P(X<x) ={1:0.4f}\".format(x,fda_x))\n"
   ]
  },
  {
   "cell_type": "markdown",
   "id": "7f680e6c-1815-4005-b40d-c0c6676195da",
   "metadata": {},
   "source": [
    "* Média da distribuição Beta:\n",
    "    \n",
    "$$\\mu_x = a + \\frac{q}{q+r}(b-a)$$\n",
    "\n",
    "* Variância da distribuição Beta:\n",
    "\n",
    "$$\\sigma_x^2 = \\frac{qr}{(q+r)^2(q+r+1)}(b-a)^2$$\n",
    "\n",
    "* Cálculo de probabilidade:\n",
    "\n",
    "$$P(x_1 \\leq x \\leq x_2) = \\frac{1}{B(q,r)}[B_v(q,r) - B_u(q,r)]$$\n",
    "\n",
    "onde:\n",
    "\n",
    "$$u= \\frac{(x_1 - a)}{(b-a)} \\quad e \\quad v= \\frac{(x_2 - a)}{(b-a)}$$\n",
    "\n",
    "sendo, $B_u(q,r)$ e $B_v(q,r)$ as funções Beta Incompletas de $u$ e de $v$, respectivamente."
   ]
  },
  {
   "cell_type": "markdown",
   "id": "69442b5f-0ce9-4e85-b3f3-2bb7807616b1",
   "metadata": {},
   "source": [
    "#### Exemplo 3.14 - Duração de atividade em obra portuária"
   ]
  },
  {
   "cell_type": "markdown",
   "id": "2018cc41-67d3-4d05-960f-a330494df66f",
   "metadata": {},
   "source": [
    "<img src=\"./images3/obra_porto.jpg\" alt=\"Estacas porto\" style=\"width:474px\"/>"
   ]
  },
  {
   "cell_type": "markdown",
   "id": "4db419e3-80b4-4302-98de-292643f05ff8",
   "metadata": {},
   "source": [
    "* Duração de uma atividade de construção em uma obra portuária:\n",
    "* Duração mínima = 5 dias\n",
    "* Duração máxima = 10 dias\n",
    "* Duração esperada = 7 dias\n",
    "* Coeficiente de variação = 10%\n",
    "* Qual a probabilidade de a atividade ser concluída em até 9 dias?\n",
    "\n",
    "__Solução:__\n",
    "\n",
    "* Parâmetros:\n",
    "\n",
    "$$ \\mu_x = 5 + \\frac{q}{q+r}(10 - 5) = 7$$\n",
    "\n",
    "$$ \\sigma_x^2 = \\frac{qr}{(q+r)^2(q+r+1)}(10-5)^2 = (0,10.7)^2$$"
   ]
  },
  {
   "cell_type": "markdown",
   "id": "ced6a590-b2da-450c-b3d8-76efecd2f4d5",
   "metadata": {},
   "source": [
    "## __Bibliografia__"
   ]
  },
  {
   "cell_type": "markdown",
   "id": "22843f6f-9513-4934-85e2-79f9121882c1",
   "metadata": {},
   "source": [
    "* __Livros__\n",
    "* ANG,  A.  H-S.; TANG,  W. H.. Probability concepts in engineering planning and design. Volume I:  basic principles. New  York, John Wiley & Sons, 1975.\n",
    "* ANG,  A.  H-S.; TANG,  W. H.. Probability concepts in engineering planning and pesign. Volume II: decision, risk and reliability. New  York, John Wiley & Sons, 1984.\n",
    "* ANG,  A.  H-S.; TANG,  W. H.. Probability concepts in engineering: Emphasis on applications to Civil and Enviromental Engineering.  2nd ed. Hoboken, NJ, John Wiley & Sons, 2007.\n",
    "* BECK, A. T. Confiabilidade e segurança das  estruturas. Rio de Janeiro, Elsevier, 2019.\n",
    "* HALDAR, A. MAHADEVAN, S. Probability, reliability, and statistical methods in engineering design. New York, Wiley, 2000.\n",
    "* MELCHERS, R.E., BECK, A. T.; Structural reliability analysis and prediction. 3rd ed. John Wiley and Sons, 2018, 514p."
   ]
  },
  {
   "cell_type": "markdown",
   "id": "663eee9d-d7fc-49f1-848a-7cb4379a2c1c",
   "metadata": {
    "tags": []
   },
   "source": [
    "[Voltar ao início do item 3.2](#section_32)"
   ]
  }
 ],
 "metadata": {
  "colab": {
   "name": "Capítulo_1.ipynb",
   "provenance": []
  },
  "kernelspec": {
   "display_name": "Python 3",
   "language": "python",
   "name": "python3"
  },
  "language_info": {
   "codemirror_mode": {
    "name": "ipython",
    "version": 3
   },
   "file_extension": ".py",
   "mimetype": "text/x-python",
   "name": "python",
   "nbconvert_exporter": "python",
   "pygments_lexer": "ipython3",
   "version": "3.8.5"
  }
 },
 "nbformat": 4,
 "nbformat_minor": 5
}
