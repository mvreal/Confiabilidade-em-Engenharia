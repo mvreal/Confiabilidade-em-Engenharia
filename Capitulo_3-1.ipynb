{
 "cells": [
  {
   "cell_type": "markdown",
   "id": "1dc445f3-8f0f-41b7-a0fa-541467a1d3db",
   "metadata": {
    "id": "1dc445f3-8f0f-41b7-a0fa-541467a1d3db"
   },
   "source": [
    "### Universidade Federal do Rio Grande - FURG"
   ]
  },
  {
   "cell_type": "markdown",
   "id": "27d28d81-ad30-4559-b52d-0fee9ac96cae",
   "metadata": {
    "id": "27d28d81-ad30-4559-b52d-0fee9ac96cae"
   },
   "source": [
    "### Escola de Engenharia - EE"
   ]
  },
  {
   "cell_type": "markdown",
   "id": "103a5401-6849-4ee0-a254-08a7f684a870",
   "metadata": {
    "id": "103a5401-6849-4ee0-a254-08a7f684a870"
   },
   "source": [
    "### Programa de Pós-graduação em Engenharia Oceânica - PPGEO"
   ]
  },
  {
   "cell_type": "markdown",
   "id": "547b79f5-d7a3-4b02-8ce9-7c1647bff36b",
   "metadata": {
    "id": "547b79f5-d7a3-4b02-8ce9-7c1647bff36b"
   },
   "source": [
    "### Disciplina: Confiabilidade em Engenharia"
   ]
  },
  {
   "cell_type": "markdown",
   "id": "189e93bb-f3e5-4536-9aec-d09046d6929b",
   "metadata": {
    "id": "189e93bb-f3e5-4536-9aec-d09046d6929b"
   },
   "source": [
    "### Professor: Dr. Mauro de Vasconcellos Real"
   ]
  },
  {
   "cell_type": "markdown",
   "id": "0f573eed-b149-49a0-bf9f-5a72b50d1815",
   "metadata": {},
   "source": [
    "# __Aula 05__"
   ]
  },
  {
   "cell_type": "markdown",
   "id": "ce78f794-4773-4210-bf0c-d89fd0e707f7",
   "metadata": {
    "id": "ce78f794-4773-4210-bf0c-d89fd0e707f7"
   },
   "source": [
    "# __Capítulo 3 - Modelos analíticos para fenômenos aleatórios__"
   ]
  },
  {
   "cell_type": "markdown",
   "id": "3ce4b88f-bb46-49e3-b43f-b2c43671b855",
   "metadata": {
    "id": "3ce4b88f-bb46-49e3-b43f-b2c43671b855"
   },
   "source": [
    "[3.1 - Variáveis aleatórias](#section_1)  \n",
    "[3.1.1 - Distribuição de probabilidade de uma variável aleatória](#section_11)  \n",
    "[3.1.2 - Características de uma variável aleatórias](#section_12)  "
   ]
  },
  {
   "cell_type": "markdown",
   "id": "3764b601-27f8-4189-a03c-e7c7c94f021d",
   "metadata": {
    "id": "3764b601-27f8-4189-a03c-e7c7c94f021d"
   },
   "source": [
    "## __3.1 - Variáveis aleatórias__ <a name=\"section_1\"></a>"
   ]
  },
  {
   "cell_type": "markdown",
   "id": "5bafba8c-efa5-4114-9f0e-603f32dbecc4",
   "metadata": {
    "id": "5bafba8c-efa5-4114-9f0e-603f32dbecc4"
   },
   "source": [
    "### 3.3.1 - Distribuição de probabilidade de uma variável aleatória  <a name=\"section_11\"></a>"
   ]
  },
  {
   "cell_type": "markdown",
   "id": "ec6594d5-de59-4224-b246-4145b51f644b",
   "metadata": {
    "tags": []
   },
   "source": [
    "__Variável aleatória__ é uma lei que relaciona eventos de um espaço amostral com a reta dos números reais.\n",
    "\n",
    "A figura abaixo serve para ilustrar esta relação.\n"
   ]
  },
  {
   "cell_type": "markdown",
   "id": "2ffd078c-c534-47a5-a4c0-b413f37c5160",
   "metadata": {},
   "source": [
    "<img src=\"./images3/variavel_aleatoria.jpg\" alta=\"Variável aleatória\" style=\"width:800px\"/>"
   ]
  },
  {
   "cell_type": "markdown",
   "id": "efb29985-b597-4cec-a3c7-17fb846bc513",
   "metadata": {},
   "source": [
    "__Distribuição de probabilidade__ é a lei ou regra que descreve as medidas de probabilidade associadas com todos os valores possíveis de uma variável aleatória."
   ]
  },
  {
   "cell_type": "markdown",
   "id": "6fed8a23-83cf-4ab0-ac2c-2bd0effe578c",
   "metadata": {
    "id": "6fed8a23-83cf-4ab0-ac2c-2bd0effe578c"
   },
   "source": [
    "#### Função de distribução acumulada"
   ]
  },
  {
   "cell_type": "markdown",
   "id": "c4dcba7a-615f-4964-96b4-124ff1a2a0eb",
   "metadata": {},
   "source": [
    "Se $X$ é uma variável aleatória, sua distribuição de probabilidade pode sempre ser descrita por sua __Função de Distribuição Acumulada (FDA)__, a qual é dada por:\n",
    "\n",
    "$$F_X(x) = P(x \\leq X), \\text{para todo } x.$$"
   ]
  },
  {
   "cell_type": "markdown",
   "id": "6277fa44-908a-40d9-bfe5-7d1ea81e3f4d",
   "metadata": {},
   "source": [
    "#### Variável aleatória discreta"
   ]
  },
  {
   "cell_type": "markdown",
   "id": "cb3e8786-74a7-41b8-8e89-70aa48428d8c",
   "metadata": {
    "id": "cb3e8786-74a7-41b8-8e89-70aa48428d8c"
   },
   "source": [
    "$X$ é uma variável aleatória __discreta__ se apenas alguns valores de $x$ possuem probabilidade positiva.  \n",
    "Exemplo: número de guindastes em funcionamento em um porto após 6 meses."
   ]
  },
  {
   "cell_type": "markdown",
   "id": "c956418a-b901-40f8-93bc-5a309004d74a",
   "metadata": {},
   "source": [
    "#### Função massa de probabilidade"
   ]
  },
  {
   "cell_type": "markdown",
   "id": "18f9f645-6b81-4167-b5a7-1a143c128248",
   "metadata": {},
   "source": [
    "__Função massa de probabilidade (FMP)__ é simplesmente uma função expressando $P(x=X)$, para todo $x$."
   ]
  },
  {
   "cell_type": "markdown",
   "id": "441b6369-7154-456b-9602-ed9e11bb1183",
   "metadata": {},
   "source": [
    "Ou seja a FMP de uma variável $X$, para um valor específico $x_i$, será dada por:\n",
    "\n",
    "$$p_X(x_i)=P(X=x_i)$$\n",
    "\n",
    "Já a FDA para uma variável discreta $X$, para um valor específico $x_i$, será dada na forma:\n",
    "\n",
    "$$F_X(x) = P(X \\leq x) = \\sum_{\\forall x_i \\leq x}{P(X=x_i)} = \\sum_{\\forall x_i \\leq x}{p_x(x_i)}$$\n",
    "\n",
    "\n",
    "A figura abaixo serve para ilustrar as funções FMP e FDA para uma variável discreta $X$.\n"
   ]
  },
  {
   "cell_type": "markdown",
   "id": "7b7f13b0-d618-48a7-8ad0-a34c603a0bb7",
   "metadata": {},
   "source": [
    "<img src=\"./images3/discreta.jpg\" alt=\"FMP e FDA para v.a. discreta\" style=\"width:474px\"/>"
   ]
  },
  {
   "cell_type": "markdown",
   "id": "c7accda0-5d6a-4b5a-ae81-1a161a3e72d7",
   "metadata": {},
   "source": [
    "Fonte: ANG,  A.  H-S.; TANG,  W. H.. Probability concepts in engineering: Emphasis on applications to Civil and Enviromental Engineering.  2nd ed. Hoboken, NJ, John Wiley & Sons, 2007."
   ]
  },
  {
   "cell_type": "markdown",
   "id": "31ce3c4d-56af-497c-afef-2cd2500eb190",
   "metadata": {},
   "source": [
    "#### Variável aleatória contínua"
   ]
  },
  {
   "cell_type": "markdown",
   "id": "95e4cc76-b7a3-4118-8e15-def68d27c881",
   "metadata": {},
   "source": [
    "Se $X$ é uma variável aleatória __contínua__, probabilidades são associadas com intervalos na reta real (uma vez que eventos são definidos como intervalos sobre a reta real).  \n",
    "\n",
    "Para um valor específico de $X$, tal como $X=x$, somente uma __Densidade de Probabilidade__ é definida."
   ]
  },
  {
   "cell_type": "markdown",
   "id": "7f3ed019-a800-4b96-b3f1-30ffaff041a5",
   "metadata": {},
   "source": [
    "#### Função densidade de probabilidade"
   ]
  },
  {
   "cell_type": "markdown",
   "id": "58083f81-27ce-4dff-bc54-dfef2f8b2b42",
   "metadata": {},
   "source": [
    "A __função densidade de probabilidade (FDP)__ é uma função tal que  se $f_X(x)$ é a FDP de $X$, a probabilidade de $X$ situar-se no intervalo $(a,b]$ é:\n",
    "\n",
    "$$P(a < X \\leq b) = \\int_a^b{f_X(x)dx}$$"
   ]
  },
  {
   "cell_type": "markdown",
   "id": "0cebbdd2-bf0b-46e0-9795-f335d882fc9a",
   "metadata": {},
   "source": [
    "A __função de distribuição de probabilidade acumulada (FDPA)__ é dada por:\n",
    "\n",
    "$$F_X(x) = P(X \\leq x) = \\int_{-\\infty}^x{f_X(x)dx}$$"
   ]
  },
  {
   "cell_type": "markdown",
   "id": "4a897e86-4bd8-49f2-99a6-48e2424481e5",
   "metadata": {},
   "source": [
    "Se a função $F_X(x)$ possui uma primeira derivada, então:\n",
    "\n",
    "$$ f_X(x) = \\frac{dF_X(x)}{dx}$$"
   ]
  },
  {
   "cell_type": "markdown",
   "id": "29031f2f-ad81-4bce-8004-27e6c7824f88",
   "metadata": {},
   "source": [
    "É importante frisar que $f_X(x)$ não é uma probabilidade!\n",
    "\n",
    "Contudo:\n",
    "\n",
    "$$f_X(x)dx = P(x < X \\leq x+dx)$$\n",
    "\n",
    "é a probabilidade de que valores de $X$ estarão contidos no  intervalo $(x, x+dx]$."
   ]
  },
  {
   "cell_type": "markdown",
   "id": "db030900-4723-40a0-a8ad-68070ed5d128",
   "metadata": {},
   "source": [
    "A figura abaixo apresenta o aspecto das funções FDPA e FDP para uma variável aleatória contínua."
   ]
  },
  {
   "cell_type": "markdown",
   "id": "a3ee14eb-5c9b-4fc3-8e96-545e31a3cc4d",
   "metadata": {},
   "source": [
    "<img src=\"./images3/continua.jpg\" alt=\"FDPA e FDP para uma variável aleatória contínua.\" style=\"width:474px\"/>"
   ]
  },
  {
   "cell_type": "markdown",
   "id": "8da27dec-68fd-4a2f-998b-ab62aec039b9",
   "metadata": {},
   "source": [
    "Fonte: ANG,  A.  H-S.; TANG,  W. H.. Probability concepts in engineering: Emphasis on applications to Civil and Enviromental Engineering.  2nd ed. Hoboken, NJ, John Wiley & Sons, 2007."
   ]
  },
  {
   "cell_type": "markdown",
   "id": "9a89bd8f-d83f-4d23-8d1e-7e8696678c89",
   "metadata": {},
   "source": [
    "#### Requisitos para uma FDPA"
   ]
  },
  {
   "cell_type": "markdown",
   "id": "fb33d3e9-40c8-4c24-9e82-1fbb70b31357",
   "metadata": {},
   "source": [
    "* a) $F_X(-\\infty) = 0$ e $F_X(+\\infty) = 1$.\n",
    "\n",
    "* b) $F_X(x) \\geq 0$ e $F_X(x)$ não é decrescente com $x$.\n",
    "\n",
    "* c) $F_X(x)$ é contínua."
   ]
  },
  {
   "cell_type": "markdown",
   "id": "8860e9a7-a097-45aa-95f1-be740d5d4d57",
   "metadata": {},
   "source": [
    "* __Consequências:__\n",
    "\n",
    "__Variável discreta__: $p_X(x_i) \\geq 0$, para todo $x_i$ e $\\sum_{\\forall{x_i}}{p(x_i)} = 1,0$.\n",
    "\n",
    "__Variável contínua__: $f_X(x_i) \\geq 0$, para todo $x$ e $\\int_{-\\infty}^x{f_X(x)dx} = 1,0$.\n"
   ]
  },
  {
   "cell_type": "markdown",
   "id": "d101221d-0697-45e5-83f2-364397c1bd8a",
   "metadata": {},
   "source": [
    "####  Probabilidade do evento: $(a < x \\leq b)$"
   ]
  },
  {
   "cell_type": "markdown",
   "id": "df72f5c7-223e-44a8-ab39-ef6f30f1d445",
   "metadata": {},
   "source": [
    "* $X$ é uma variável aleatória contínua: $P(a < x \\leq b) = \\int_{-\\infty}^b{f_X(x)dx} -  \\int_{-\\infty}^a{f_X(x)dx}$\n",
    "\n",
    "* $X$ é uma variável aleatória discreta: $P(a < x \\leq b) = \\sum_{\\forall{x_i\\leq b}}{p(x_i)} -  \\sum_{\\forall{x_i \\leq a}}{p(x_i)}$\n",
    "\n",
    "* Em qualquer caso:  $P(a < x \\leq b) = F_X(a) - F_X(b)$\n"
   ]
  },
  {
   "cell_type": "markdown",
   "id": "54a384d5-4608-4150-982d-89f78773058a",
   "metadata": {},
   "source": [
    "#### Exemplo 3.1 - Guindastes operando no porto após 6 meses"
   ]
  },
  {
   "cell_type": "markdown",
   "id": "cd3e3ffa-0e04-4925-a842-cea1b29f5e8c",
   "metadata": {
    "tags": []
   },
   "source": [
    "<img src=\"./images3/guindastes.jpg\" alt=\"Guindaste no TECON-RG\" style=\"width:474px\"/>"
   ]
  },
  {
   "cell_type": "markdown",
   "id": "1ab5bf6a-591b-4308-a754-6f059ebb018a",
   "metadata": {},
   "source": [
    "Fonte: https://www.caminhosdazonasul.com.br/wp-content/uploads/2017/03/tecon-770x513.jpg"
   ]
  },
  {
   "cell_type": "markdown",
   "id": "a539ff03-1eb9-459d-b8f7-1e7e80f4a748",
   "metadata": {},
   "source": [
    "Foi adquirido um grupo de três guindastes novos para um porto. A probabilidade de um guindaste estar funcionando, (G = good), após 6 meses é de $80\\%$. Já a probabilidade de um guindaste não estar operando, (B = bad), é de $20\\%$. Sendo $X$ a variável aleatória que representa o número de guindastes operando após 6 meses, determinar a função massa de probabilidade e a função de distribuição acumulada para $X$."
   ]
  },
  {
   "cell_type": "markdown",
   "id": "78ed07d5-45eb-4463-96de-1b3266501b70",
   "metadata": {},
   "source": [
    "<img src=\"./images3/good_bad.jpg\" alt=\"Good and Bad\" style=\"width:474px\"/>"
   ]
  },
  {
   "cell_type": "markdown",
   "id": "870658bb-027b-467b-8440-ea244cd05dfa",
   "metadata": {},
   "source": [
    "* __Solução:__\n",
    "\n",
    "Eventos:\n",
    "\n",
    "$X$ = número de guindastes operando após 6 meses, dentre 3 recém comprados.  \n",
    "$G(\\text{good})$ = guindaste operando, $P(G) = 0,80$.  \n",
    "$B(\\text{bad})$ = guindaste falhou, $P(B) = 0,20$.  \n",
    "\n",
    "1. Cálculo das probabilidades associadas a cada valor de $X$:\n",
    "\n",
    "* $P(X=0) = 0,20^3 = 0,008$\n",
    "\n",
    "* $P(X=1) = 3(0,80 . 0,20 . 0,20) = 0,096$\n",
    "\n",
    "* $P(X=2) = 3(0,80 . 0,80 . 0,20) = 0,384$\n",
    "\n",
    "* $P(X=3) = 0,80^3 = 0,512$\n",
    "\n",
    "\n",
    "2. Gráficos de FMP e de FDA para $X$:"
   ]
  },
  {
   "cell_type": "markdown",
   "id": "522197f3-4b2b-4d22-8bf1-988fb5d1d4d8",
   "metadata": {},
   "source": [
    "<img src=\"./images3/FMP_FDA_guindastes.jpg\" alt=\"FMP e FDA dos guindastes\" style=\"width:800px\"/>"
   ]
  },
  {
   "cell_type": "markdown",
   "id": "39fb6e0e-d79e-4777-a555-bc41e652fcac",
   "metadata": {},
   "source": [
    "Fonte: ANG,  A.  H-S.; TANG,  W. H.. Probability concepts in engineering: Emphasis on applications to Civil and Enviromental Engineering.  2nd ed. Hoboken, NJ, John Wiley & Sons, 2007."
   ]
  },
  {
   "cell_type": "markdown",
   "id": "61733df1-30b5-4d77-b022-e7d1cd1a8ad3",
   "metadata": {},
   "source": [
    "#### Exemplo 3.2 - Acidentes com navios na costa"
   ]
  },
  {
   "cell_type": "markdown",
   "id": "e3aab695-f651-4f5a-9f2e-c44a1fa80a06",
   "metadata": {},
   "source": [
    "<img src=\"./images3/acidente_navio.jpg\" alt=\"Acidente com navios na costa\" style=\"width:474px\"/>"
   ]
  },
  {
   "cell_type": "markdown",
   "id": "adea07c4-0532-402b-b6ae-39b9569a91c6",
   "metadata": {},
   "source": [
    "Seja o problema da ocorrência de acidentes com navios em um determinado trecho de $100 km$ de costa marítima. Como o trecho de costa é muito uniforme, todos os pontos são equiprováveis para a ocorrência de acidentes. A probabilidade de ocorrência de um acidente em um determinado trecho de costa é proporcional à extensão deste trecho. Determinar a FDP e a FDA para a extensão $X$ de costa onde pode ocorrer um acidente com navio. Calcular também a probabilidade de ocorrer um acidente entre os $km 20$ e $km 35$ desta costa."
   ]
  },
  {
   "cell_type": "markdown",
   "id": "9a714548-0af8-4ac1-b33a-3831848f1f2f",
   "metadata": {},
   "source": [
    "* __Solução:__\n",
    "    \n",
    "* $X$ = distância de $0$ a $100 km$ de costa onde os acidentes com navios ocorrem.\n",
    "\n",
    "* FDP de $X$: $f_X(x) = c$, para $0 \\leq x \\leq 100 km$; e $f_X(x) = 0$, em qualquer outro ponto.\n",
    "\n",
    "* $c = \\frac{1}{100}$, pois todos os pontos são equiprováveis.\n",
    "\n",
    "* FDA de $X$: $$F_X(x) = \\int_{-\\infty}^{x}{f_X(x)dx} = \\int_{0}^{x}{c dx} = cx = \\frac{x}{100}$$"
   ]
  },
  {
   "cell_type": "markdown",
   "id": "cc195e08-53c8-4096-9e07-01f0c2eeb9ba",
   "metadata": {},
   "source": [
    "As figuras abaixo ilustram as funções FDP e FDA para a variável aleatória contínua $X$."
   ]
  },
  {
   "cell_type": "markdown",
   "id": "4f1c1f22-2e69-4d03-aa8c-e277048d9262",
   "metadata": {},
   "source": [
    "<img src=\"./images3/costa.jpg\" alt=\"FDP e FDA de X para a costa\" style=\"width:800px\"/>"
   ]
  },
  {
   "cell_type": "markdown",
   "id": "2168a549-4379-4dd5-8244-cdffe27acaf0",
   "metadata": {},
   "source": [
    "* Cálculo da probabilidade de ocorrer um acidente com um navio entre os km 20 e km 35 da costa:\n",
    "\n",
    "$$P(20 \\leq X \\leq 35) = \\int_{20}^{35}{\\frac{1}{100}dx} = \\frac{1}{100}(35 - 20) = 0,15 = 15\\%$$\n",
    "\n",
    "$$P(20 \\leq X \\leq 35) = F_X(35) - F_X(20) = 0,35 - 0,20 = 0,15 = 15\\%$$"
   ]
  },
  {
   "cell_type": "markdown",
   "id": "ae7a3996-865a-43f1-8a84-352cb1830ca9",
   "metadata": {},
   "source": [
    "## __Bibliografia__"
   ]
  },
  {
   "cell_type": "markdown",
   "id": "22843f6f-9513-4934-85e2-79f9121882c1",
   "metadata": {},
   "source": [
    "* __Livros__\n",
    "* ANG,  A.  H-S.; TANG,  W. H.. Probability concepts in engineering planning and design. Volume I:  basic principles. New  York, John Wiley & Sons, 1975.\n",
    "* ANG,  A.  H-S.; TANG,  W. H.. Probability concepts in engineering planning and pesign. Volume II: decision, risk and reliability. New  York, John Wiley & Sons, 1984.\n",
    "* ANG,  A.  H-S.; TANG,  W. H.. Probability concepts in engineering: Emphasis on applications to Civil and Enviromental Engineering.  2nd ed. Hoboken, NJ, John Wiley & Sons, 2007.\n",
    "* BECK, A. T. Confiabilidade e segurança das  estruturas. Rio de Janeiro, Elsevier, 2019.\n",
    "* HALDAR, A. MAHADEVAN, S. Probability, reliability, and statistical methods in engineering design. New York, Wiley, 2000.\n",
    "* MELCHERS, R.E., BECK, A. T.; Structural reliability analysis and prediction. 3rd ed. John Wiley and Sons, 2018, 514p."
   ]
  },
  {
   "cell_type": "code",
   "execution_count": null,
   "id": "d6548269-ae51-45ef-bcd2-f266faf2099d",
   "metadata": {},
   "outputs": [],
   "source": []
  }
 ],
 "metadata": {
  "colab": {
   "name": "Capítulo_1.ipynb",
   "provenance": []
  },
  "kernelspec": {
   "display_name": "Python 3",
   "language": "python",
   "name": "python3"
  },
  "language_info": {
   "codemirror_mode": {
    "name": "ipython",
    "version": 3
   },
   "file_extension": ".py",
   "mimetype": "text/x-python",
   "name": "python",
   "nbconvert_exporter": "python",
   "pygments_lexer": "ipython3",
   "version": "3.8.5"
  }
 },
 "nbformat": 4,
 "nbformat_minor": 5
}
