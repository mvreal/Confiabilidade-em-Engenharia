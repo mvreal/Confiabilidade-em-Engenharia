{
 "cells": [
  {
   "cell_type": "markdown",
   "id": "ebd052e0",
   "metadata": {
    "id": "1dc445f3-8f0f-41b7-a0fa-541467a1d3db"
   },
   "source": [
    "### Universidade Federal do Rio Grande - FURG"
   ]
  },
  {
   "cell_type": "markdown",
   "id": "32a8467a",
   "metadata": {
    "id": "27d28d81-ad30-4559-b52d-0fee9ac96cae"
   },
   "source": [
    "### Escola de Engenharia - EE"
   ]
  },
  {
   "cell_type": "markdown",
   "id": "69825019",
   "metadata": {
    "id": "103a5401-6849-4ee0-a254-08a7f684a870"
   },
   "source": [
    "### Programa de Pós-graduação em Engenharia Oceânica - PPGEO"
   ]
  },
  {
   "cell_type": "markdown",
   "id": "5252d012",
   "metadata": {
    "id": "547b79f5-d7a3-4b02-8ce9-7c1647bff36b"
   },
   "source": [
    "### Disciplina: Confiabilidade em Engenharia"
   ]
  },
  {
   "cell_type": "markdown",
   "id": "897f5842",
   "metadata": {
    "id": "189e93bb-f3e5-4536-9aec-d09046d6929b"
   },
   "source": [
    "### Professor: Dr. Mauro de Vasconcellos Real"
   ]
  },
  {
   "cell_type": "markdown",
   "id": "868ca87f-48ee-493d-84ec-29d130abfedb",
   "metadata": {
    "tags": []
   },
   "source": [
    "# __Aula 13__"
   ]
  },
  {
   "cell_type": "code",
   "execution_count": 17,
   "id": "4743808b-ff9c-46a4-894c-326338165f75",
   "metadata": {},
   "outputs": [],
   "source": [
    "import numpy as np\n",
    "import matplotlib.pyplot as plt\n",
    "from scipy import linalg\n",
    "from scipy.stats import norm\n",
    "from scipy.stats import skew\n",
    "from scipy.stats import lognorm\n",
    "from scipy.stats import gumbel_r\n",
    "from scipy.stats import invweibull\n",
    "from scipy import optimize\n",
    "from scipy.special import gamma"
   ]
  },
  {
   "cell_type": "markdown",
   "id": "5b7adffe-4558-468c-b85f-18ecd68f2c0a",
   "metadata": {
    "id": "ce78f794-4773-4210-bf0c-d89fd0e707f7"
   },
   "source": [
    "# __Capítulo 7 - Confiabilidade e Projeto baseado em Confiabilidade__ <a name=\"section_6\"></a>"
   ]
  },
  {
   "cell_type": "markdown",
   "id": "01fbcc7e-2abf-4bc5-ac27-e153e42b4a31",
   "metadata": {
    "id": "3ce4b88f-bb46-49e3-b43f-b2c43671b855",
    "tags": []
   },
   "source": [
    "[7.3 - Algoritmo de Hasofer-Lind-Rackwitz-Fiessler](#section_73)  \n",
    "[7.4 - Método de Confiabilidade de Primeira Ordem (FORM)](#section_74)  "
   ]
  },
  {
   "cell_type": "markdown",
   "id": "4c33fb1b",
   "metadata": {
    "tags": []
   },
   "source": [
    "## __7.3 - Algoritmo de Hasofer-Lind-Rackwitz-Fiessler (HRLF)__  <a name=\"section_73\"></a>"
   ]
  },
  {
   "cell_type": "markdown",
   "id": "49b7ee4c-ff8b-407e-8c69-f53f87a3648a",
   "metadata": {},
   "source": [
    "* Conforme visto no item 7.2, que trata do método FOSM, o procedimento para a determinação do índice de confiabilidade $\\beta$ trata-se, na realidade, de um processo de otimização no espaço das variáveis padronizadas, estatísticamente independentes, $\\textbf{x}^{\\prime}$, dado na forma:\n",
    "\n",
    "1. Minimizar: $d = \\sqrt{\\textbf{x}^{\\prime T} \\textbf{x}^{\\prime}}$\n",
    "\n",
    "2. Sujeito à restrição: $g(\\text{x}^{\\prime}) = 0 $\n",
    "\n",
    "* O algoritmo mais utilizado para resolver este problema é o desenvolvido com as contribuições de Hasofer, Lind, Rackwitz e  Fiessler, por isso chamado de algoritmo HLRF. Ver BECK(2019), HASOFER e LIND(1974) e RACKWITZ e FIESSLER(1978).\n",
    "\n",
    "* Este algoritmo utiliza recursivamente a forma linearizada da superfície de falha na busca do ponto $\\textbf{x}^{\\prime *}$ tal que $g(\\text{x}^{\\prime *}) = 0 $. No entanto, um ponto fraco deste algoritmo é que não se poder garantir a sua convergência no caso de funções estado limite altamente não lineares (BECK, 2019).\n",
    "\n",
    "* O primeiro passo é fazer-se uma expansão  em série de Taylor da função estado limite  $g(\\text{x}^{\\prime *})$ retendo-se até o termo de derivadas de primeira ordem e igualar o mesmo a $0$:\n",
    "\n",
    "$$\\tilde{g}(\\text{x}_{k+1}^{\\prime}) = g(\\textbf{x}_{k}^{\\prime}) +  \\nabla{g}(\\textbf{x}_{k}^{\\prime})^{t}(\\textbf{x}_{k+1}^{\\prime}-\\textbf{x}_{k}^{\\prime}) = 0$$\n",
    "\n",
    "* Onde: $\\nabla{g}(\\textbf{x}_{k}^{\\prime})$ é o gradiente da função estado limite no espaço normal padronizado, avaliado no ponto $\\textbf{x}_{k}^{\\prime}$.\n",
    "\n",
    "* Esta equação pode ser rearranjada na forma:\n",
    "\n",
    "$$ \\nabla{g}(\\textbf{x}_{k}^{\\prime})^{t}\\textbf{x}_{k+1}^{\\prime} =    \\nabla{g}(\\textbf{x}_{k}^{\\prime})^{t}\\textbf{x}_{k}^{\\prime} - g(\\textbf{x}_{k}^{\\prime})$$\n",
    "\n",
    "* Lembrando o conceito de cossenos diretores\n",
    "\n",
    "$$\\boldsymbol{\\alpha}_k = \\frac{\\nabla{g}(\\textbf{x}_k^{\\prime})}{||\\nabla{g}(\\textbf{x}_k^{\\prime})||}$$\n",
    "\n",
    "* E que a soma dos quadrados dos cossenos diretores é igual a unidade: $\\boldsymbol{\\alpha}_k^T \\boldsymbol{\\alpha}_k = 1$\n",
    "\n",
    "* Então, é possível escrever-se:\n",
    "\n",
    "$$ \\nabla{g}(\\textbf{x}_{k}^{\\prime})^{t}\\textbf{x}_{k+1}^{\\prime} =    \\left[\\nabla{g}(\\textbf{x}_{k}^{\\prime})^{t}\\textbf{x}_{k}^{\\prime} - g(\\textbf{x}_{k}^{\\prime})\\right]\\boldsymbol{\\alpha}_k^T \\boldsymbol{\\alpha}_k  $$\n",
    "\n",
    "* Ou ainda:\n",
    "\n",
    "$$ \\nabla{g}(\\textbf{x}_{k}^{\\prime})^{t}\\textbf{x}_{k+1}^{\\prime} =    \\frac{\\left[\\nabla{g}(\\textbf{x}_{k}^{\\prime})^{t}\\textbf{x}_{k}^{\\prime} - g(\\textbf{x}_{k}^{\\prime})\\right]}{||\\nabla{g}(\\textbf{x}_k^{\\prime})||^2}\\nabla{g}(\\textbf{x}_{k}^{\\prime})^{t} \\nabla{g}(\\textbf{x}_{k}^{\\prime})  $$\n",
    "\n",
    "* Então, é possível eliminar-se o fator $\\nabla{g}(\\textbf{x}_{k}^{\\prime})^{t}$ dos dois lados da igualdade na equação anterior, resultando a forma recursiva do algoritimo Hasofer-Lind-Rackwitz-Fiessler (HLRF):\n",
    "\n",
    "$$ \\textbf{x}_{k+1}^{\\prime} =    \\frac{\\left[\\nabla{g}(\\textbf{x}_{k}^{\\prime})^{t}\\textbf{x}_{k}^{\\prime} - g(\\textbf{x}_{k}^{\\prime})\\right]}{||\\nabla{g}(\\textbf{x}_k^{\\prime})||^2}\\nabla{g}(\\textbf{x}_{k}^{\\prime})  $$\n",
    "\n",
    "* Esta equação envolve o gradiente da função estado limite e o valor da própria função estado limite calculados no ponto $\\textbf{x}_k^{\\prime}$.\n",
    "\n",
    "* Partindo-se de uma estimativa inicial $\\textbf{x}_0$ aplica-se a fórmula recursivamente até que haja convergência no valor de $\\textbf{x}^{\\prime}$ e no valor de $\\beta = \\sqrt{\\textbf{x}^{\\prime T} \\textbf{x}^{\\prime}}$.\n",
    "\n",
    "* Infelizmente não se pode garantir a convergência do método para o ponto de projeto (ponto mais provável de falha), nem que a distância mínima encontrada $d = \\sqrt{\\textbf{x}^{\\prime T} \\textbf{x}^{\\prime}}$ corresponda ao valor mínimo, ou seja, ao índice de confiabilidade $\\beta = d_{min}$.\n",
    "\n",
    "* Uma maneira de se checar os resultados alcançados é resolver o problema empregando-se dois pontos de partida $\\textbf{x}_0$ diferentes e verificar se as duas tentativas convergem para o mesmo resultado. \n"
   ]
  },
  {
   "cell_type": "markdown",
   "id": "cb8913fa-e64d-4f09-95bc-cb51d8ade3f7",
   "metadata": {},
   "source": [
    "#### Algoritmo numérico:\n",
    "\n",
    "1. Escolher os valores iniciais para $\\textbf{x}_0$, normalmente se utilizam os valores médios $\\boldsymbol{\\mu_{X}}$.\n",
    "\n",
    "2. Obter:\n",
    "\n",
    "$$\\textbf{x}_k^{\\prime} = \\boldsymbol{\\sigma}_{X}^{-1}(\\textbf{x}_k - \\boldsymbol{\\mu_{X}}), \\quad \\nabla{g}(\\textbf{x}_{k}^{\\prime}) \\quad \\text{e} \\quad g(\\textbf{x}_{k}^{\\prime}) $$\n",
    "\n",
    "Onde $\\boldsymbol{\\sigma}_{X}$ é a matriz de covariância dada por:\n",
    "\n",
    "$$\\boldsymbol{\\sigma}_{X} = \\left[ \\begin{array}{ccccc} \\sigma_{X_1} & 0 & 0  & ... & 0  \\\\\n",
    "                                                         0 & \\sigma_{X_2} & 0 & ... & 0   \\\\\n",
    "                                                         0 & ... & ... & ... & 0   \\\\\n",
    "                                                         0 & 0 & 0 & ... & \\sigma_{X_n}   \\\\ \\end{array} \\right]$$\n",
    "                                                         \n",
    "E $\\boldsymbol{\\mu_{X}}$ é um vetor contendo as médias das variáveis na forma:\n",
    "\n",
    "$$\\boldsymbol{\\mu_{X}} = \\left\\{ \\mu_{X_1},  \\mu_{X_2}, ...,  \\mu_{X_n} \\right\\}^T$$\n",
    "                                                         \n",
    "3. Calcular:\n",
    "\n",
    "$$ \\textbf{x}_{k+1}^{\\prime} =   - \\frac{\\left[\\nabla{g}(\\textbf{x}_{k}^{\\prime})^{t}\\textbf{x}_{k}^{\\prime} + g(\\textbf{x}_{k}^{\\prime})\\right]}{||\\nabla{g}(\\textbf{x}_k^{\\prime})||^2}\\nabla{g}(\\textbf{x}_{k}^{\\prime})  $$\n",
    "\n",
    "4. Calcular:  $\\beta_{k+1} = \\sqrt{\\textbf{x}_{k+1}^{\\prime T} \\textbf{x}_{k+1}^{\\prime}}$ \n",
    "\n",
    "5. Verificar a convergência:\n",
    "\n",
    "$$ \\frac{|| \\textbf{x}_{k+1}^{\\prime} - \\textbf{x}_{k}^{\\prime}||}{||\\textbf{x}_{k}^{\\prime}||} < \\epsilon \\quad \\text{e} \\quad |g(\\textbf{x}_k^{\\prime})|<\\delta $$\n",
    "\n",
    "Onde: $\\epsilon = 1\\times10^{-3}$ e $\\delta = 1\\times10^{-3}|g(\\textbf{x})|$\n",
    "\n",
    "6. Se as condições de convergência forem satisfeitas, então: $\\beta = \\beta_{k+1}$ e $\\textbf{x}^{\\prime *} = \\textbf{x}_{k+1}^{\\prime}$\n",
    "\n",
    "7. Caso contrário, repetir os passos de $(2)$ a $(5)$ até a convergência."
   ]
  },
  {
   "cell_type": "markdown",
   "id": "67069d53-624f-4055-af8b-43ac844a6941",
   "metadata": {
    "tags": []
   },
   "source": [
    "### Exemplo 7.5 - Capacidade de carga de uma viga - Solução com o algoritmo HRLF"
   ]
  },
  {
   "cell_type": "markdown",
   "id": "825b69fb-e347-4677-93c1-8945b02f4383",
   "metadata": {},
   "source": [
    "<img src=\"./images7/momento_plastico.jpg\" alt=\"Momento Plástico\" style=\"width:474px\" />"
   ]
  },
  {
   "cell_type": "markdown",
   "id": "ccb37f92-26bf-4465-ba38-e85c20cfe7b4",
   "metadata": {},
   "source": [
    "* O momento plástico (capacidade resistente última no regime plástico) de uma seção de uma viga de aço pode ser dado por: $M_p = YZ$\n",
    "\n",
    "* Onde:\n",
    "\n",
    "* $Y$ é a tensão de escoamento do aço.\n",
    "\n",
    "* $Z$ é o módulo plástico da seção transversal.\n",
    "\n",
    "* Se $M$ é o momento solicitante, a função performance será definida como: $g(\\textbf{X}) = YZ - M$\n",
    "\n",
    "* Admitindo-se que $Y$, $Z$ e $M$ são estatisticamente indenpendentes.\n",
    "\n",
    "* Parâmetros de projeto:\n",
    "\n",
    "* $Y$: $\\mu_Y = 40 kN/cm^2$, $\\delta_Y = 0,125$ e $\\sigma_Y = 5 kN/cm^2$\n",
    "\n",
    "* $Z$: $\\mu_Z = 50 cm^3$, $\\delta_Z = 0,05$ e $\\sigma_Z = 2,5 m^3$\n",
    "\n",
    "* $M$: $\\mu_M= 1.000 kNcm$, $\\delta_M = 0,20$ e $\\sigma_M = 200 kNcm$\n",
    "\n",
    "* __Solução 1:__\n",
    "\n",
    "* Ponto inicial $\\textbf{x}_0 = \\{y = 40, z = 50, m = 1000\\}^t$.\n",
    "\n",
    "* Após 4 iterações, com uma tolerância de $1\\times10^{-3}$, resulta o valor final de  $\\beta = 3,0491$\n",
    "\n",
    "* Ponto de falha $\\textbf{x}^*$: $y^* = 28,55 kN/cm^2$, $z^*=48,31 cm^3$ e $m^* = 1.379,24 kNcm$."
   ]
  },
  {
   "cell_type": "code",
   "execution_count": 18,
   "id": "40ec0dc8-6ef7-408d-813d-3e3b1e92b81f",
   "metadata": {},
   "outputs": [
    {
     "name": "stdout",
     "output_type": "stream",
     "text": [
      "Iter = 0, Beta = 2.9814, erro(x') =1000.0000, erro(g) =1000.0000\n",
      " x'[0]  = -2.2222, x[0]  = 28.8889, alpha[0]  = 0.7454\n",
      " x'[1]  = -0.8889, x[1]  = 47.7778, alpha[1]  = 0.2981\n",
      " x'[2]  = 1.7778, x[2]  = 1355.5556, alpha[2]  = -0.5963\n",
      "Iter = 1, Beta = 3.0496, erro(x') =0.0821, erro(g) =0.0821\n",
      " x'[0]  = -2.2779, x[0]  = 28.6106, alpha[0]  = 0.7470\n",
      " x'[1]  = -0.6887, x[1]  = 48.2783, alpha[1]  = 0.2258\n",
      " x'[2]  = 1.9071, x[2]  = 1381.4122, alpha[2]  = -0.6254\n",
      "Iter = 2, Beta = 3.0491, erro(x') =0.0061, erro(g) =0.0061\n",
      " x'[0]  = -2.2891, x[0]  = 28.5546, alpha[0]  = 0.7507\n",
      " x'[1]  = -0.6783, x[1]  = 48.3043, alpha[1]  = 0.2225\n",
      " x'[2]  = 1.8966, x[2]  = 1379.3130, alpha[2]  = -0.6220\n",
      "Iter = 3, Beta = 3.0491, erro(x') =0.0006, erro(g) =0.0006\n",
      " x'[0]  = -2.2898, x[0]  = 28.5508, alpha[0]  = 0.7510\n",
      " x'[1]  = -0.6768, x[1]  = 48.3080, alpha[1]  = 0.2220\n",
      " x'[2]  = 1.8962, x[2]  = 1379.2340, alpha[2]  = -0.6219\n"
     ]
    }
   ],
   "source": [
    "\"\"\"\n",
    "Exemplo 7.5 - Capacidade de cargas em vigas no regime plástico - Algoritmo HLRF\n",
    "\"\"\"\n",
    "# Função estado limite:\n",
    "\n",
    "\n",
    "def gfunction(xk):\n",
    "    gx = xk[0] * xk[1] - xk[2]\n",
    "    return gx\n",
    "\n",
    "\n",
    "# Dados de entrada\n",
    "mu_x = np.array([40.00, 50.00, 1000.00])\n",
    "sigma_x = np.array([5.00, 2.50, 200.00])\n",
    "D = sigma_x * np.eye(3)\n",
    "Jxx1 = np.copy(D)\n",
    "Jx1x = np.linalg.inv(D)\n",
    "\n",
    "# Valores iniciais:\n",
    "xk1 = np.copy(mu_x)\n",
    "#\n",
    "errox = 1000.00\n",
    "errog = 1000.00\n",
    "iter = -1\n",
    "toler = 1.00e-3\n",
    "epsilon = toler\n",
    "delta = toler * np.abs(gfunction(xk1))\n",
    "eps = 1.00e-6\n",
    "max_iter = 100\n",
    "# Processo iterativo:\n",
    "while (errox > epsilon or errog > delta) and iter < max_iter:\n",
    "    iter += 1\n",
    "    xk = np.copy(xk1)\n",
    "    # Transformação de xk para x'k:\n",
    "    x1k= Jx1x.dot(xk-mu_x)\n",
    "    normx1k = np.linalg.norm(x1k)\n",
    "    # Cálculo de g(xk):\n",
    "    gxk = gfunction(xk)\n",
    "    # Cálculo do gradiente de xk\n",
    "    gradxk = optimize.approx_fprime(xk, gfunction, eps)\n",
    "    # Cálculo das derivadas parciais em relação a x'k\n",
    "    gradx1k = np.transpose(Jxx1).dot(gradxk)\n",
    "    normgradx1k = np.linalg.norm(gradx1k)\n",
    "    # Cálculo dos cossenos diretores alpha:\n",
    "    alpha = gradx1k / normgradx1k\n",
    "    # Atualização do ponto de projeto xk através do algorítimo HLRF:\n",
    "    x1k1 = ((np.dot(gradx1k, x1k) - gxk) / normgradx1k ** 2) * gradx1k \n",
    "    # Transformação de x1k1 para xk1\n",
    "    xk1 = mu_x + Jxx1.dot(x1k1)\n",
    "    # Teste de convergência:\n",
    "    if iter != 0: errox = np.linalg.norm(x1k1-x1k) / np.linalg.norm(x1k)\n",
    "    errog = gfunction(xk1)\n",
    "    beta = beta = np.linalg.norm(x1k1)\n",
    "    print(\"Iter = {0:0d}, Beta = {1:0.4f}, erro(x') ={2:0.4f}, erro(g) ={2:0.4f}\".format(iter, beta, errox, errog))\n",
    "    for i in range(3):\n",
    "        print(\" x'[{0:0d}]  = {1:0.4f}, x[{0:0d}]  = {2:0.4f}, alpha[{0:0d}]  = {3:0.4f}\".format(i,x1k1[i],xk1[i],alpha[i]))\n",
    "        "
   ]
  },
  {
   "cell_type": "markdown",
   "id": "891a2ea5-e2ba-404e-a39b-a4d9cdb732e2",
   "metadata": {},
   "source": [
    "* __Solução 2:__\n",
    "\n",
    "* Ponto inicial $\\textbf{x}_0 = \\{y = 20, z = 25, m = 500\\}^t$.\n",
    "\n",
    "* Após 5 iterações, com uma tolerância de $1\\times10^{-3}$, resulta o valor final de  $\\beta = 3,0491$\n",
    "\n",
    "* Ponto de falha $\\textbf{x}^*$: $y^* = 28,55 kN/cm^2$, $z^*=48,31 cm^3$ e $m^* = 1.379,23 kNcm$."
   ]
  },
  {
   "cell_type": "code",
   "execution_count": 19,
   "id": "0c2a5840-a6a6-4025-9e46-26e063b32b33",
   "metadata": {},
   "outputs": [
    {
     "name": "stdout",
     "output_type": "stream",
     "text": [
      "Iter = 0, Beta = 2.0739, erro(x') =1000.0000, erro(g) =1000.0000\n",
      " x'[0]  = -1.0753, x[0]  = 34.6237, alpha[0]  = 0.5185\n",
      " x'[1]  = -0.4301, x[1]  = 48.9247, alpha[1]  = 0.2074\n",
      " x'[2]  = 1.7204, x[2]  = 1344.0860, alpha[2]  = -0.8296\n",
      "Iter = 1, Beta = 3.0347, erro(x') =0.6048, erro(g) =0.6048\n",
      " x'[0]  = -2.2659, x[0]  = 28.6704, alpha[0]  = 0.7467\n",
      " x'[1]  = -0.8018, x[1]  = 47.9955, alpha[1]  = 0.2642\n",
      " x'[2]  = 1.8526, x[2]  = 1370.5168, alpha[2]  = -0.6105\n",
      "Iter = 2, Beta = 3.0492, erro(x') =0.0432, erro(g) =0.0432\n",
      " x'[0]  = -2.2830, x[0]  = 28.5849, alpha[0]  = 0.7487\n",
      " x'[1]  = -0.6819, x[1]  = 48.2953, alpha[1]  = 0.2236\n",
      " x'[2]  = 1.9027, x[2]  = 1380.5399, alpha[2]  = -0.6240\n",
      "Iter = 3, Beta = 3.0491, erro(x') =0.0033, erro(g) =0.0033\n",
      " x'[0]  = -2.2895, x[0]  = 28.5524, alpha[0]  = 0.7509\n",
      " x'[1]  = -0.6776, x[1]  = 48.3061, alpha[1]  = 0.2222\n",
      " x'[2]  = 1.8963, x[2]  = 1379.2544, alpha[2]  = -0.6219\n",
      "Iter = 4, Beta = 3.0491, erro(x') =0.0003, erro(g) =0.0003\n",
      " x'[0]  = -2.2899, x[0]  = 28.5506, alpha[0]  = 0.7510\n",
      " x'[1]  = -0.6767, x[1]  = 48.3081, alpha[1]  = 0.2219\n",
      " x'[2]  = 1.8961, x[2]  = 1379.2276, alpha[2]  = -0.6219\n"
     ]
    }
   ],
   "source": [
    "\"\"\"\n",
    "Exemplo 7.5 - Capacidade de cargas em vigas no regime plástico - Algoritmo HLRF\n",
    "\"\"\"\n",
    "# Função estado limite:\n",
    "\n",
    "\n",
    "def gfunction(xk):\n",
    "    gx = xk[0] * xk[1] - xk[2]\n",
    "    return gx\n",
    "\n",
    "\n",
    "# Dados de entrada\n",
    "mu_x = np.array([40.00, 50.00, 1000.00])\n",
    "sigma_x = np.array([5.00, 2.50, 200.00])\n",
    "D = sigma_x * np.eye(3)\n",
    "Jxx1 = np.copy(D)\n",
    "Jx1x = np.linalg.inv(D)\n",
    "\n",
    "# Valores iniciais:\n",
    "xk1 = np.array([20.00, 25.00, 500.00])\n",
    "#\n",
    "errox = 1000.00\n",
    "errog = 1000.00\n",
    "iter = -1\n",
    "toler = 1.00e-3\n",
    "epsilon = toler\n",
    "delta = toler * np.abs(gfunction(xk1))\n",
    "eps = 1.00e-6\n",
    "max_iter = 100\n",
    "# Processo iterativo:\n",
    "while (errox > epsilon or errog > delta) and iter < max_iter:\n",
    "    iter += 1\n",
    "    xk = np.copy(xk1)\n",
    "    # Transformação de xk para x'k:\n",
    "    x1k= Jx1x.dot(xk-mu_x)\n",
    "    normx1k = np.linalg.norm(x1k)\n",
    "    # Cálculo de g(xk):\n",
    "    gxk = gfunction(xk)\n",
    "    # Cálculo do gradiente de xk\n",
    "    gradxk = optimize.approx_fprime(xk, gfunction, eps)\n",
    "    # Cálculo das derivadas parciais em relação a x'k\n",
    "    gradx1k = np.transpose(Jxx1).dot(gradxk)\n",
    "    normgradx1k = np.linalg.norm(gradx1k)\n",
    "    # Cálculo dos cossenos diretores alpha:\n",
    "    alpha = gradx1k / normgradx1k\n",
    "    # Atualização do ponto de projeto xk através do algorítimo HLRF:\n",
    "    x1k1 = ((np.dot(gradx1k, x1k) - gxk) / normgradx1k ** 2) * gradx1k \n",
    "    # Transformação de x1k1 para xk1\n",
    "    xk1 = mu_x + Jxx1.dot(x1k1)\n",
    "    # Teste de convergência:\n",
    "    if iter != 0: errox = np.linalg.norm(x1k1-x1k) / np.linalg.norm(x1k)\n",
    "    errog = gfunction(xk1)\n",
    "    beta = beta = np.linalg.norm(x1k1)\n",
    "    print(\"Iter = {0:0d}, Beta = {1:0.4f}, erro(x') ={2:0.4f}, erro(g) ={2:0.4f}\".format(iter, beta, errox, errog))\n",
    "    for i in range(3):\n",
    "        print(\" x'[{0:0d}]  = {1:0.4f}, x[{0:0d}]  = {2:0.4f}, alpha[{0:0d}]  = {3:0.4f}\".format(i,x1k1[i],xk1[i],alpha[i]))\n",
    "        "
   ]
  },
  {
   "cell_type": "markdown",
   "id": "862ded2f-77d9-4918-9798-56bb3cf31221",
   "metadata": {},
   "source": [
    "* Observe-se que mesmo partindo de pontos de projeto iniciais diferentes o algoritmo encontrou a resposta correta, o que pode ser confirmado examinando-se o Exemplo 7.4."
   ]
  },
  {
   "cell_type": "markdown",
   "id": "b0cc4683-e52b-478c-aa57-518ed1b7e33b",
   "metadata": {
    "tags": []
   },
   "source": [
    "[Retornar ao início da aula](#section_6)"
   ]
  },
  {
   "cell_type": "markdown",
   "id": "30a7fc90",
   "metadata": {},
   "source": [
    "## __Bibliografia__"
   ]
  },
  {
   "cell_type": "markdown",
   "id": "78e08737-5ad3-4386-8f3e-3b9f0f4d5b69",
   "metadata": {},
   "source": [
    "* __Livros__\n",
    "* ANG,  A.  H-S.; TANG,  W. H.. Probability concepts in engineering planning and design. Volume I:  basic principles. New  York, John Wiley & Sons, 1975.\n",
    "* ANG,  A.  H-S.; TANG,  W. H.. Probability concepts in engineering planning and design. Volume II: decision, risk and reliability. New  York, John Wiley & Sons, 1984.\n",
    "* ANG,  A.  H-S.; TANG,  W. H.. Probability concepts in engineering: Emphasis on applications to Civil and Enviromental Engineering.  2nd ed. Hoboken, NJ, John Wiley & Sons, 2007.\n",
    "* BECK, A. T. Confiabilidade e segurança das  estruturas. Rio de Janeiro, Elsevier, 2019.\n",
    "* HALDAR, A. MAHADEVAN, S. Probability, reliability, and statistical methods in engineering design. New York, Wiley, 2000.\n",
    "* MELCHERS, R.E., BECK, A. T.; Structural reliability analysis and prediction. 3rd ed. John Wiley and Sons, 2018, 514p.\n",
    "* __Artigos__\n",
    "* HASOFER, A.M.; LIND, N.C.; 1974: Exact and Invariant Second Moment Code Format, J. Eng. Mech. ASCE 100, 111-121.\n",
    "* RACKWITZ R.; FIESSLER, B.; 1978: Structural Reliability Under Combined Load Sequences, Computers & Structures 9,489-494."
   ]
  },
  {
   "cell_type": "markdown",
   "id": "e39c51bd-4a53-4a07-a27b-16a2c14cf9c8",
   "metadata": {
    "tags": []
   },
   "source": [
    "[Retornar ao início da aula](#section_6)"
   ]
  }
 ],
 "metadata": {
  "colab": {
   "name": "Capítulo_5.ipynb",
   "provenance": []
  },
  "interpreter": {
   "hash": "f189cad14bda9570c78e3484cdd4044273f5880bd3757c16e7bdbbda1060b186"
  },
  "kernelspec": {
   "display_name": "Python 3 (ipykernel)",
   "language": "python",
   "name": "python3"
  },
  "language_info": {
   "codemirror_mode": {
    "name": "ipython",
    "version": 3
   },
   "file_extension": ".py",
   "mimetype": "text/x-python",
   "name": "python",
   "nbconvert_exporter": "python",
   "pygments_lexer": "ipython3",
   "version": "3.8.5"
  }
 },
 "nbformat": 4,
 "nbformat_minor": 5
}
