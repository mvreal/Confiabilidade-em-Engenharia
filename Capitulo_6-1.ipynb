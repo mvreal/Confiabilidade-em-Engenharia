{
 "cells": [
  {
   "cell_type": "markdown",
   "id": "ebd052e0",
   "metadata": {
    "id": "1dc445f3-8f0f-41b7-a0fa-541467a1d3db"
   },
   "source": [
    "### Universidade Federal do Rio Grande - FURG"
   ]
  },
  {
   "cell_type": "markdown",
   "id": "32a8467a",
   "metadata": {
    "id": "27d28d81-ad30-4559-b52d-0fee9ac96cae"
   },
   "source": [
    "### Escola de Engenharia - EE"
   ]
  },
  {
   "cell_type": "markdown",
   "id": "69825019",
   "metadata": {
    "id": "103a5401-6849-4ee0-a254-08a7f684a870"
   },
   "source": [
    "### Programa de Pós-graduação em Engenharia Oceânica - PPGEO"
   ]
  },
  {
   "cell_type": "markdown",
   "id": "5252d012",
   "metadata": {
    "id": "547b79f5-d7a3-4b02-8ce9-7c1647bff36b"
   },
   "source": [
    "### Disciplina: Confiabilidade em Engenharia"
   ]
  },
  {
   "cell_type": "markdown",
   "id": "897f5842",
   "metadata": {
    "id": "189e93bb-f3e5-4536-9aec-d09046d6929b"
   },
   "source": [
    "### Professor: Dr. Mauro de Vasconcellos Real"
   ]
  },
  {
   "cell_type": "markdown",
   "id": "868ca87f-48ee-493d-84ec-29d130abfedb",
   "metadata": {
    "tags": []
   },
   "source": [
    "# __Aula 11__"
   ]
  },
  {
   "cell_type": "code",
   "execution_count": 2,
   "id": "4743808b-ff9c-46a4-894c-326338165f75",
   "metadata": {},
   "outputs": [],
   "source": [
    "import numpy as np\n",
    "import matplotlib.pyplot as plt\n",
    "from scipy import linalg\n",
    "from scipy.stats import norm\n",
    "from scipy.stats import skew\n",
    "from scipy.stats import lognorm\n",
    "from scipy.stats import gumbel_r\n",
    "from scipy.stats import invweibull\n",
    "from scipy import optimize\n",
    "from scipy.special import gamma"
   ]
  },
  {
   "cell_type": "markdown",
   "id": "5b7adffe-4558-468c-b85f-18ecd68f2c0a",
   "metadata": {
    "id": "ce78f794-4773-4210-bf0c-d89fd0e707f7"
   },
   "source": [
    "# __Capítulo 6 - Simulação numérica e o Método de Monte Carlo__ <a name=\"section_6\"></a>"
   ]
  },
  {
   "cell_type": "markdown",
   "id": "01fbcc7e-2abf-4bc5-ac27-e153e42b4a31",
   "metadata": {
    "id": "3ce4b88f-bb46-49e3-b43f-b2c43671b855"
   },
   "source": [
    "[6.1 - Introdução](#section_61)  \n",
    "[6.2 - O essencial do Método de Simulações de Monte Carlo](#section_62)  \n",
    "[6.3 - Geração de números aleatórios](#section_63)  \n",
    "[6.4 - Determinação da probabilidade de falha através do Método de Monte Carlo](#section_64)   \n",
    "[6.5 - Aplicações do Método de Monte Carlo](#section_65)   \n",
    "[6.6 - Amostragem por Importância](#section_66) "
   ]
  },
  {
   "cell_type": "markdown",
   "id": "4c33fb1b",
   "metadata": {},
   "source": [
    "## __6.1 - Introdução__  <a name=\"section_61\"></a>"
   ]
  },
  {
   "cell_type": "markdown",
   "id": "09ae05d3-425e-4889-bc88-eb350d8feecf",
   "metadata": {},
   "source": [
    "* Simulação consiste em se tentar reproduzir o comportamento de um sistema através de um modelo físico ou matemático."
   ]
  },
  {
   "cell_type": "markdown",
   "id": "784462bf-5912-4dca-b8b7-38146fb5eac2",
   "metadata": {},
   "source": [
    "<img src=\"./images6/simulations.jpg\" alt=\"Simulações numéricas\" style=\"width:474px\"/>"
   ]
  },
  {
   "cell_type": "markdown",
   "id": "60e934d8-4e94-4ff2-ba39-d908fb101f44",
   "metadata": {},
   "source": [
    "Fonte: https://www.researchgate.net/publication/333496524/figure/fig2/AS:764445592649728@1559269440601/Examples-of-the-models-theories-and-case-studies-in-the-accepted-papers_W640.jpg"
   ]
  },
  {
   "cell_type": "markdown",
   "id": "87962e6f-7739-46b8-a3a8-703f62e772c9",
   "metadata": {},
   "source": [
    "* O progresso dos computadores digitais tem incentivado cada vez mais o uso de modelos numéricos.\n",
    "\n",
    "* A resposta de um modelo depende de seus parâmetros de entrada.\n",
    "\n",
    "* Se os parâmetros de entrada de um modelo são variáveis aleatórias, que possuem determinadas distribuições de probabilidade;\n",
    "\n",
    "* Então, a resposta do modelo também será uma variável aleatória."
   ]
  },
  {
   "cell_type": "markdown",
   "id": "6c8b92f8-2158-47c6-946f-efb0c21e0cbd",
   "metadata": {},
   "source": [
    "<img src=\"./images6/monte_carlo.jpg\" alt=\"Simulações de Monte Carlo\" style=\"width:474px\"/>"
   ]
  },
  {
   "cell_type": "markdown",
   "id": "d80913cc-634d-4147-8572-b200d1778488",
   "metadata": {},
   "source": [
    "* Apenas em alguns poucos casos é possível obter-se analiticamente a distribuição de probabilidade da resposta do sistema em função das distribuições de probabilidade das variáveis de entrada (ver Capítulo 4), como por exemplo no caso em que a função $Y$ é igual ao logaritmo neperiano de uma variável aleatória lognormal, conforme a figura abaixo.\n"
   ]
  },
  {
   "cell_type": "markdown",
   "id": "697127fe-902c-4928-b71f-25b4be2e9cac",
   "metadata": {},
   "source": [
    "<img src=\"./images6/lognormal.jpg\" alt=\"Função logarítmica\" style=\"width:800px\"/>"
   ]
  },
  {
   "cell_type": "markdown",
   "id": "4b1ad4c8-2210-4df0-8397-6a08743f280c",
   "metadata": {},
   "source": [
    "* Em geral:\n",
    "* As variáveis de entrada do sistema possuem distribuições de probabilidade as mais diversas. \n",
    "* A resposta do sistema é governada por uma função altamente não-linear.\n",
    "* Não existe uma função $Y=g(X_1,X_2,...,X_n)$ na forma explícita.\n",
    "* Então, não é possível obter-se uma solução analítica para a distribuição de probabilidade da resposta do sistema.\n",
    "* Surge, então, a necessidade da utilização de métodos numéricos que permitam obter uma estimativa da forma da distribuição de probabilidade da resposta do sistema e seus principais momentos, em função das distribuições de probabilidade dos parâmetros de entrada.\n"
   ]
  },
  {
   "cell_type": "markdown",
   "id": "bf1dd074-3986-483e-ab47-f091eaae6063",
   "metadata": {
    "tags": []
   },
   "source": [
    "* O __Método de Monte Carlo__ consiste basicamente em obter-se uma estimativa da distribuição de probabilidade da resposta de um sistema através das seguintes etapas:\n",
    "1. Geração aleatória dos parâmetros de entrada, de acordo com as suas distribuições de probabilidade específicas;\n",
    "2. Realização de inúmeras simulações com um modelo numérico a partir destes dados; \n",
    "3. Análise estatística das diversas respostas encontradas.\n",
    "\n",
    "* A Figura abaixo ilustra o funcionamento do Método de Monte Carlo:"
   ]
  },
  {
   "cell_type": "markdown",
   "id": "90860d98-289b-4283-84b7-e9e4bc3d65b1",
   "metadata": {},
   "source": [
    "<img src=\"./images6/monte_carlo_fluxograma.jpg\" alt=\"Fluxograma do Método de Monte Carlo\" style=\"width:474px\"/>"
   ]
  },
  {
   "cell_type": "markdown",
   "id": "d3093832-d3ca-4ec5-9683-a185b49fbaac",
   "metadata": {
    "tags": []
   },
   "source": [
    "[Retornar ao início da aula](#section_6)"
   ]
  },
  {
   "cell_type": "markdown",
   "id": "5fdab05a-34f5-4a57-9a97-eb45db7c42d2",
   "metadata": {
    "tags": []
   },
   "source": [
    "## __6.2 - O essencial do Método de Simulação de Monte Carlo__  <a name=\"section_62\"></a>"
   ]
  },
  {
   "cell_type": "markdown",
   "id": "3c79edab-91cb-4851-8a7e-df1cf49fe567",
   "metadata": {},
   "source": [
    "* O princípio do Método de Monte Carlo é desenvolver um modelo numérico para representar o comportamento de um sistema de Engenharia."
   ]
  },
  {
   "cell_type": "markdown",
   "id": "65620d14-bf8f-45a9-8898-11fe51c7c2f4",
   "metadata": {},
   "source": [
    "<img src=\"./images6/modelo_plataforma.jpg\" alt=\"Modelo de plataforma\" style=\"width:600px\"/>"
   ]
  },
  {
   "cell_type": "markdown",
   "id": "2caf8c0b-5fe8-4ae8-853c-c628bad5b2bc",
   "metadata": {},
   "source": [
    "Fonte: (a) https://en.wikipedia.org/wiki/File:Gulf_Offshore_Platform.jpg"
   ]
  },
  {
   "cell_type": "markdown",
   "id": "034e58af-5b20-40e9-af7f-f29d7e4f644b",
   "metadata": {},
   "source": [
    "* Se os parâmetros de entrada do modelo forem variáveis aleatórias, suas distribuições de probabilidade devem ser especificadas."
   ]
  },
  {
   "cell_type": "markdown",
   "id": "ae6053ce-464f-41cc-ba83-f7698ab92a6c",
   "metadata": {},
   "source": [
    "<img src=\"./images6/probability_distributions.jpg\" alt=\"Distribuições de probabilidade\" style=\"width:600px\"/>"
   ]
  },
  {
   "cell_type": "markdown",
   "id": "41409cfc-20ba-4f40-bc0c-4c77b18ac5b3",
   "metadata": {},
   "source": [
    "* Um conjunto de dados de entrada deve ser gerado aleatoriamente a partir das distribuições de probabilidade especificadas.\n",
    "\n",
    "* Uma análise do sistema deve ser realizada através do modelo, utilizando os dados de entrada gerados aleatoriamente.  \n",
    "\n",
    "* Cada análise do sistema é chamada de simulação."
   ]
  },
  {
   "cell_type": "markdown",
   "id": "5609dd1e-7443-40d6-9138-54af96d63079",
   "metadata": {},
   "source": [
    "<img src=\"./images6/entrada_modelo_saida.jpg\" alt=\"Entrada-Modelo-Resposta\" style=\"width:600px\"/>"
   ]
  },
  {
   "cell_type": "markdown",
   "id": "1c0f2add-a0dc-4bd4-9da4-3d6dcca22b77",
   "metadata": {},
   "source": [
    "* As simulações são realizadas $n$ vezes.\n",
    "* Em cada simulação são empregados dados de entrada aleatórios diferentes.\n",
    "* No final tem-se uma amostra de $n$ respostas diferentes do sistema armazenada $(y_1, y_2,..., y_n)$.\n"
   ]
  },
  {
   "cell_type": "markdown",
   "id": "978e7f2b-348d-4fad-8536-8026b0c0a2e4",
   "metadata": {},
   "source": [
    "<img src=\"./images6/resposta_aleatoria.jpg\" alt=\"Resposta aleatória do sistema\" style=\"width:474px\"/>"
   ]
  },
  {
   "cell_type": "markdown",
   "id": "ae8b4e3a-110e-48a5-8e39-94b9ad991078",
   "metadata": {},
   "source": [
    "* Análise estatística da resposta do sistema.\n",
    "\n",
    "Média:\n",
    "\n",
    "$$\\mu_Y = \\frac{1}{N}\\sum_{i=1}^{n}y_i$$\n",
    "\n",
    "Desvio padrão:\n",
    "\n",
    "$$\\sigma_Y = \\sqrt{\\sum_{i=1}^{n}\\frac{(y_i-\\mu_Y)^2}{n-1}}$$"
   ]
  },
  {
   "cell_type": "markdown",
   "id": "484ae267-16d9-4a4e-be14-f4ae9c46c798",
   "metadata": {},
   "source": [
    "* A precisão do Método de Monte Carlo depende do número $n$ de simulações realizadas!\n",
    "\n",
    "* Quanto maior o número de simulações, maior o tempo de processamento numérico necessário."
   ]
  },
  {
   "cell_type": "markdown",
   "id": "21d49b16-372f-4905-9193-c9e4658845f2",
   "metadata": {},
   "source": [
    "#### Etapas do Método de Monte Carlo:\n",
    "\n",
    "1. Elaborar um modelo matemático para o sistema: $Y = g(X_1, X_2,..., X_n)$.\n",
    "\n",
    "2. Gerar um conjunto de dados de entrada aleatórios: $X = (X_1, X_2, ..., X_n)$\n",
    "\n",
    "3. Realizar a análise do sistema através do modelo e armazenar as respostas: $Y =(Y_1, Y_2, ..., Y_n)$\n",
    "\n",
    "4. Repetir os passos 2 e 3, para i =1 até N.\n",
    "\n",
    "5. Analisar os resultados obtidos para a resposta do sistema usando histogramas, estatística descritiva (média, desvio-padrão,...), intervalos de confiança, etc."
   ]
  },
  {
   "cell_type": "markdown",
   "id": "aa210e12",
   "metadata": {
    "tags": []
   },
   "source": [
    "[Retornar ao início da aula](#section_6)"
   ]
  },
  {
   "cell_type": "markdown",
   "id": "a4f45213-ae03-4087-bc28-26926067e077",
   "metadata": {
    "tags": []
   },
   "source": [
    "## __6.3 - Geração de números aleatórios__  <a name=\"section_63\"></a>"
   ]
  },
  {
   "cell_type": "markdown",
   "id": "586482a7-74e0-4abc-aec3-d921bf3cd942",
   "metadata": {
    "tags": []
   },
   "source": [
    "### 6.3.1 - Geração de números aleatórios de distribuição uniforme\n",
    "\n",
    "* A utilização do Método de Monte Carlo está vinculada à capacidade de se gerar números aleatórios no computador.\n",
    "\n",
    "* A geração de números aleatórios no computador normalmente está baseada em algoritmos recursivos capazes de gerar números uniformemente distribuídos entre $0$ e $1$. \n",
    "\n",
    "* Um dos algoritmos geradores de números aleatórios mais utilizados são os do tipo __gerador linear congruencial__. No entanto, a sequência de números fornecida por este tipo de gerador é, na realidade, determinística e reproduzível, dependendo apenas das constantes iniciais fornecidas ao gerador, por isto os números gerados por estes algoritmos são chamados de _pseudo-aleatórios_.\n",
    "\n",
    "* No entanto, a maioria das linguagens de programação atuais possuem geradores de números aleatórios pré-definidos, que são capazes de gerar sequências de números aleatórios suficientemente grandes para as principais aplicações práticas. Maiores detalhes sobre a geração de números randômicos podem ser encontrados no livro de BECK, listado na bibliografia abaixo."
   ]
  },
  {
   "cell_type": "markdown",
   "id": "3fe8fef2-5b83-4d35-bc78-d7890a8fc2bd",
   "metadata": {},
   "source": [
    "### 6.3.2 - Geração de números aleatórios - Técnica da Transformação Inversa\n",
    "\n",
    "* O __Método da Transformação Inversa__ para a geração de números aleatórios segundo uma distribução qualquer $F_X(x)$ consiste de quatro passos:\n",
    "\n",
    "1. Gerar um Gerar um número aleatório $u_i$, com distribuição uniforme entre $0$ e $1$.\n",
    "\n",
    "2. Este número pode ser considerado como igual à própria distribuição de probabilidade acumulada $F_U(u_i)$ de uma distribuição uniforme: $F_U(u_i) = u_i$.\n",
    "\n",
    "3. Igualar as probabilidades acumuladas: $F_X(x_i) = F_U(u_i)$\n",
    "\n",
    "4. Determinar o valor de $x_i$ correspondente: $x_i = F_X^{-1}(u_i)$\n",
    "\n",
    "Este procedimento é ilustrado na Figura abaixo."
   ]
  },
  {
   "cell_type": "markdown",
   "id": "27339ac7-378e-43db-b7ac-24dd1e6545a4",
   "metadata": {},
   "source": [
    "<img src=\"./images6/transformacao_inversa.jpg\" alt=\"Método da Transformação Inversa\" style=\"width:800px\"/>"
   ]
  },
  {
   "cell_type": "markdown",
   "id": "3c2a2477-3299-4034-8b21-a983eb2b1393",
   "metadata": {},
   "source": [
    "Fonte: HALDAR, A. MAHADEVAN, S. Probability, reliability, and statistical methods in engineering design. New York, Wiley, 2000."
   ]
  },
  {
   "cell_type": "markdown",
   "id": "a74bb286-38c0-4b58-abdf-c968b413497e",
   "metadata": {
    "tags": []
   },
   "source": [
    "#### Exemplo 6.1 - Distribuição de Valores Extremos do Tipo I - Gumbel\n",
    "\n",
    "* Se $Y_n$ é uma variável aleatória com distribuição de valores extremos do Tipo I (Gumbel) para valores máximos, então:\n",
    "\n",
    "$$F_{Y_n}(y) = \\exp{\\left[-\\exp{-\\alpha_n(y - u_n)}\\right]}$$\n",
    "\n",
    "* Gerar números aleatórios com esta distribuição a partir do Método da Transformação Inversa:\n",
    "\n",
    "1. Gerar um Gerar um número aleatório $u_i$, com distribuição uniforme entre $0$ e $1$.\n",
    "\n",
    "2. Admitir que: $F_U(u_i) = u_i$.\n",
    "\n",
    "3. Igualar as probabilidades acumuladas:\n",
    "\n",
    "$$u_i = F_U(u_i) = F_{Y_n}(y_i)$$\n",
    "\n",
    "$$u_i = F_U(u_i) = \\exp{\\left[-e^{-\\alpha_n(y_i - u_n)}\\right]}$$\n",
    "\n",
    "4. Determinar o valor de $y_i$ correspondente: $y_i = F_{Y_n}^{-1}(u_i)$\n",
    "\n",
    "$$\\ln(u_i) = -e^{-\\alpha_n(y - u_n)}$$\n",
    "\n",
    "$$\\ln\\left[\\frac{1}{\\ln\\left(\\frac{1}{u_i}\\right)}\\right] = \\alpha_n(y_i-u_i)$$\n",
    "\n",
    "$$y_i = u_n + \\frac{1}{\\alpha_n}\\ln\\left[\\frac{1}{\\ln\\left(\\frac{1}{u_i}\\right)}\\right]$$ \n",
    "\n",
    "\n",
    "* Dados: $\\mu_{Y_n} = 100$ e $\\sigma_{Y_n} = 20$\n",
    "\n",
    "* $u_n$ é o valor mais provável de $Y_n$ (moda).\n",
    "\n",
    "* $\\alpha_n$ é o inverso de uma medida de dispersão dos valores de $Y_n$.\n",
    "\n",
    "$$u_n = \\mu_{Y_n} - \\frac{\\gamma}{\\alpha_n} = 90,9989$$\n",
    "\n",
    "$$\\alpha_n = \\sqrt{\\frac{\\pi^2}{6\\sigma_{Y_n}^2}} = 0,0641$$\n",
    "\n",
    "* Onde $\\gamma = 0,577216$ é o número de Euler.\n",
    "\n",
    "* Fórmula geradora:\n",
    "\n",
    "$$y_i = 90,9989 + \\frac{1}{0,0641}\\ln\\left[\\frac{1}{\\ln\\left(\\frac{1}{u_i}\\right)}\\right]$$ "
   ]
  },
  {
   "cell_type": "code",
   "execution_count": 3,
   "id": "3c75f077-ff92-41bd-b08d-1148bfacb6bf",
   "metadata": {},
   "outputs": [
    {
     "data": {
      "image/png": "[encoded data removed]",
      "text/plain": [
       "<Figure size 612x432 with 1 Axes>"
      ]
     },
     "metadata": {
      "needs_background": "light"
     },
     "output_type": "display_data"
    }
   ],
   "source": [
    "\"\"\"\n",
    "Geração de números aleatórios com a distribuição de Gumbel\n",
    "\"\"\"\n",
    "# Dados de entrada\n",
    "n = 10_000\n",
    "mu_yn = 100.00 \n",
    "sigma_yn = 20.00\n",
    "gamma = 0.577216\n",
    "# Parâmetros da distribuição de Gumbel\n",
    "alpha_n = np.pi / (np.sqrt(6) * sigma_yn)\n",
    "u_n = mu_yn - gamma / alpha_n\n",
    "# Geração de números com distribuição uniforme entre 0 e 1\n",
    "u_i = np.random.rand(n)\n",
    "# Geração de número com distribuição de Gumbel\n",
    "y_i = u_n + 1 / alpha_n * np.log(1 / np.log(1 / u_i))\n",
    "# Histograma dos valores de yi\n",
    "plt.figure(figsize=(8.5, 6))\n",
    "fy = plt.hist(y_i, bins=40, density=True)\n",
    "# Exact pdf for Gumbel\n",
    "y = np.linspace(min(y_i),max(y_i), 1000)\n",
    "pdf_y = alpha_n * np.exp(- alpha_n * (y - u_n))*np.exp(- np.exp(- alpha_n*(y - u_n)))\n",
    "plt.plot(y, pdf_y, color='red', label=\"Exact\")\n",
    "plt.xlabel(r'$y_i$')\n",
    "plt.ylabel(r'$f_{Y_n}(y)$')\n",
    "plt.legend(loc='upper right', fontsize=\"14\")\n",
    "plt.title('Gumbel  Distribution')\n",
    "plt.text(150, 0.017, r\"$n$ = 10000\", fontsize=\"14\")\n",
    "plt.text(150, 0.015, r\"$u_n$ = 90,9989\", fontsize=\"14\")\n",
    "plt.text(150, 0.013, r\"$\\alpha_n$ = 0,0641\", fontsize=\"14\")\n",
    "plt.xlim(50, 250)\n",
    "plt.tight_layout()\n",
    "plt.show()"
   ]
  },
  {
   "cell_type": "markdown",
   "id": "1c098a2b-cc56-42e7-acd1-6acd96f14e72",
   "metadata": {
    "tags": []
   },
   "source": [
    "[Retornar ao início da aula](#section_6)"
   ]
  },
  {
   "cell_type": "markdown",
   "id": "74c39f3b-44e3-44f7-8dff-89da4e040d02",
   "metadata": {},
   "source": [
    "### 6.3.3 Geração de números aleatórios com distribuição conjunta\n",
    "\n",
    "* Seja  $X_1, X_2, ..., X_n$ um conjunto de $n$ varáveis aleatórias.\n",
    "\n",
    "#### Geração de variáveis estatisticamente independentes:\n",
    "\n",
    "* Se as variáveis forem __estatisticamente independentes__, a função densidade de probabilidade conjunta será:\n",
    "\n",
    "$$f_{X_1, X_2, ..., X_n}(x_1, x_2,..., x_n) = \\prod_{i=1}^n f_{X_i}(x_i)$$\n",
    "\n",
    "* Onde $f_{X_i}(x_i)$ é a função densidade marginal de $X_i$.\n",
    "\n",
    "* No caso de variáveis aleatórias independentes os números randômicos podem ser gerados separadamente e independentemente para cada variável, usando o Método da Transformação Inversa, por exemplo:\n",
    "\n",
    "* Para $i = 1$ até $n$: $x_i = F_{X_i}^{-1}(u_i)$\n",
    "\n",
    "#### Geração de variáveis aleatórias correlacionadas:\n",
    "\n",
    "* Se as variáveis $X_1, X_2, ..., X_n$ forem dependentes sua função densidade de probabilidade conjunta será dada por:\n",
    "\n",
    "$$f_{X_1, X_2, ..., X_n}(x_1, x_2,..., x_n) = f_{X_1}(x_1) f_{X_2}(x_2|x_1)...f_{X_n}(x_n|x_1,x_2,...,x_{n-1})$$\n",
    "\n",
    "Onde:\n",
    "\n",
    "$f_{X_1}(x_1)$ é a função densidade de probabilidade marginal de $X_1$;\n",
    "\n",
    "$f_{X_n}(x_n|x_1,x_2,...,x_{n-1}$ é a função densidade de probabilidade condicional $X_k$, dado que: $X_1 = x_1, X_2 = x_2,..., X_{k-1} = x_{k-1}$.\n",
    "\n",
    "* A função densidade de probabilidade acumulada conjunta será:\n",
    "\n",
    "$$F_{X_1, X_2, ..., X_n}(x_1, x_2,..., x_n) = F_{X_1}(x_1) F_{X_2}(x_2|x_1)...F_{X_n}(x_n|x_1,x_2,...,x_{n-1})$$\n",
    "\n",
    "Onde:\n",
    "\n",
    "$F_{X_1}(x_1)$ é a função densidade de probabilidade acumulada (FDPA) marginal de $X_1$;\n",
    "\n",
    "$F_{X_n}(x_n|x_1,x_2,...,x_{n-1}$ é a função densidade de probabilidade acumulada (FDPA) condicional $X_k$, dado que: $X_1 = x_1, X_2 = x_2,..., X_{k-1} = x_{k-1}$.\n",
    "\n",
    "* No caso de variáveis correlacionadas os números randômicos não podem ser gerados de forma independente para cada variável.\n",
    "\n",
    "* Em primeiro lugar é necessários gerar um conjunto de números aleatórios de distribuição uniforme: $(u_1, u_2, ..., u_n)$\n",
    "\n",
    "* O valor de $x_1$ pode ser determinado de forma independente: $x_1 = F_{X_1}(u_1)$\n",
    " \n",
    "* Conhecido o valor de $x_1$, a função FDPA condicional de $X_2$: $F_{X_2}(x_2|x_1)$ será uma função somente de $x_2$. Portanto, $x_2$ pode ser obtido a partir de: $x_2 = F_{X_2}^{-1}(u_2|x_1)$\n",
    "\n",
    "* Sucessivamente, com os valores $x_1, x_2,..., x_{k-1}$ já obtidos, determina-se o valor de $x_k$ através de: $x_{k} = F_{X_k}^{-1}(u_k|x_1, x_2,...,x_{k-1})$\n",
    "\n",
    "* O conjunto de valores  $(x_1, x_2,..., x_n)$ das variáveis correlacionadas são obtidos, então, de forma recursiva.\n",
    "\n",
    "* Este método será eficiente se as funções inversas de $F_{X_1}(x_1) \\rightarrow x_1 = F_{X_1}^{-1}(u_1)$ e de $F_{X_k}(x_k|x_1,x_2,...,x_{k-1}) \\rightarrow x_{k} = F_{X_k}^{-1}(u_k|x_1, x_2,...,x_{k-1})$, puderem ser obtidas de forma analítica. Como este usualmente não é o caso, é mais comum empregar-se o __Modelo de Nataf__ descrito a seguir."
   ]
  },
  {
   "cell_type": "markdown",
   "id": "f1eb823e-ec16-426b-9608-35a368fa6846",
   "metadata": {},
   "source": [
    "### 6.3.4 - Modelo de Nataf\n",
    "\n",
    "* O __Modelo de Nataf__ permite a geração de amostras de variáveis aleatórias correlacionadas, quando as distribuições de probabilidade condicionais necessárias a aplicação do método exposto no item 6.3.3 não estão disponíveis na forma analítica, ou quando suas funções inversas não podem ser obtidas de forma simples (BECK, 2019).\n",
    "\n",
    "* O __Modelo de Nataf__ pode ser descrito através da aplicação dos seguintes passos:\n",
    "\n",
    "1. Em primeiro lugar é gerada uma amostra de números aleatórios de distribuição normal padronizada, não correlacionados, de média zero e variância unitária, na forma de um vetor: $\\textbf{y}_k =\\{y_1,y_2,...,y_n\\}_k^t$.\n",
    "\n",
    "2. Monta-se uma matriz de correlação $\\textbf{R}_\\textbf{X}$, $n \\times n$, entre as variáveis $X_1, X_2, ..., X_n$ dada na forma:\n",
    "\n",
    "\n",
    "$$\\textbf{R}_\\textbf{X}=\\left[\\begin{array}{cccc} 1           & \\rho_{X_{12}} & ...  & \\rho_{X_{1n}} \\\\\n",
    "                                            \\rho_{X_{21}} & 1           & ... & \\rho_{X_{2n}} \\\\\n",
    "                                            ...         & ...         & ... & ...         \\\\\n",
    "                                            \\rho_{X_{n1}} & \\rho_{X_{n2}} & ... & 1 \\end{array}\\right]$$\n",
    "                                            \n",
    "Onde: $\\rho_{X_{ij}}$ é o coeficiente de correlação linear entre as variáveis $X_i$ e $X_j$, conforme mostrado  no Capítulo 4.\n",
    "\n",
    "3. Através da __Transformação de Nataf__ (ver BECK, 2019) é possível transformar-se a matriz de correlação $\\textbf{R}_\\textbf{X}$ , entre as variáveis $X_1, X_2, ..., X_n$, na matriz de covariância $\\textbf{C}_\\textbf{Z}$ entre as variáveis normais padronizadas correlacionadas $Z_1, Z_2, ..., Z_n$, de média zero e variância unitária, equivalentes. Na prática os valores dos coeficientes de correlação linear entre as variáveis correlacionadas $X_i$ e $X_j$ são estabelecidos a partir de poucas observações experimentais ou através da experiência do analista com este tipo de dados. Além disso, os valores dos coeficientes de correlação linear obtidos a partir da __Transformação de Nataf__, designados por $\\rho_{Z_{ij}}$, de um modo geral são muito próximos dos valores originais $\\rho_{X_{ij}}$. Com base nestas duas constatações, na maioria dos casos práticos, é possível fazer-se:\n",
    "\n",
    "$$\\textbf{C}_Z \\approxeq \\textbf{R}_X$$\n",
    "\n",
    "\n",
    "\n",
    "4. Através da __decomposição de Cholesky__ da matriz de covariância $\\textbf{C}_\\textbf{Z}$ é obtida uma matriz triangular inferior $\\textbf{L}$, que é igual a matriz jacobiana $\\textbf{J}_{zy}$, que permite transformar as variáveis normais padronizadas não correlacionadas $\\textbf{y}_k$ nas variáveis normais padronizadas correlacionadas $\\textbf{z}_k$:\n",
    "\n",
    "$$\\textbf{z}_k = \\textbf{J}_{zy} \\textbf{y}_k = \\textbf{L}\\textbf{ y}_k$$\n",
    "\n",
    "5. Conhecida a amostra $\\textbf{z}_k$ é possível obterem-se as probabilidades acumuladas correpondentes através de:\n",
    "\n",
    "$$\\textbf{u}_k = \\{u_1, u_2, ..., u_n\\}_k^t = \\{\\Phi(z_i)\\}_{i=1, 2, ..., n}^t$$\n",
    "\n",
    "6. A amostra de variáveis correlacionadas com distribuições quaisquer $\\textbf{x}_k$ é obtida através da aplicação do __Método da Transformação Inversa__, a cada um dos elementos do vetor de probabilidades acumuladas $\\textbf{u}_k$, na forma:\n",
    "\n",
    "$$\\textbf{x}_k = \\{x_1, x_2, ..., x_n\\}_k^t = \\{F_X^{-1}(u_i)\\}_{i=1,2,...,n}^t = \\{F_X^{-1}\\left[\\Phi(z_i)\\right]\\}_{i=1,2,...,n}^t$$"
   ]
  },
  {
   "cell_type": "markdown",
   "id": "44b61526-a963-42b8-bf1b-c4c0ae297436",
   "metadata": {
    "tags": []
   },
   "source": [
    "#### Exemplo 6.2 - Variáveis aleatórias normais correlacionadas\n",
    "\n",
    "* Sejam X e Y duas variáveis aleatórias de distribuição normal correlacionadas.\n",
    "\n",
    "* A função densidade de probabilidade conjunta pode ser escrita na forma:\n",
    "\n",
    "$$f_{XY}(x,y) = f_{Y|X}(y|x)f_X(x)$$\n",
    "\n",
    "* Onde a função densidade de probabilidade marginal de $X$ é dada por:\n",
    "\n",
    "$$f_X(x) = \\frac{1}{\\sqrt{2\\pi}\\sigma_X}\\exp{\\left[-\\frac{1}{2}\\left(\\frac{x-\\mu_X}{\\sigma_X}\\right)^2\\right]}$$\n",
    "\n",
    "\n",
    "* E a função densidade condicional conjunta é dada por:\n",
    "\n",
    "$$f_{Y|X}(y|x) = \\frac{1}{\\sqrt{2\\pi}\\sigma_Y\\sqrt{1-\\rho^2}}\\exp{\\left\\{-\\frac{1}{2}\\left[\\frac{y-\\mu_y-\\rho\\frac{\\sigma_X}{\\sigma_Y}(x-\\mu_x)}{\\sigma_Y\\sqrt{1-\\rho^2}}\\right]^2\\right\\}}$$\n",
    "\n",
    "* A média condicional de $Y$, se $X=x$, será:\n",
    "\n",
    "$$E(Y|X=x)= y-\\mu_y-\\rho\\frac{\\sigma_X}{\\sigma_Y}(x-\\mu_x)$$\n",
    "\n",
    "O desvio padrão condicional de $Y$, se $X=x$, será:\n",
    "\n",
    "$$\\sigma(Y|X=x) = \\sigma_Y\\sqrt{1-\\rho^2}$$\n",
    "\n",
    "##### Geração de variáveis normais correlacionadas:\n",
    "\n",
    "1. Geram-se dois números aleatórios de distribuição uniforme $u_1$ e $u_2$.\n",
    "\n",
    "2. O valor de x pode ser obtido a partir de:\n",
    "\n",
    "$$ x = \\mu_X + \\sigma_X \\sqrt{-2\\ln(u_1)}\\cos(2\\pi u_2)$$\n",
    "\n",
    "3. O valor de $y$ pode ser obtido a partir de :\n",
    "\n",
    "$$ y = \\mu_{Y|X} + \\sigma_{Y|X}\\sqrt{-2\\ln(u_1)}\\sin(2\\pi u_2)$$\n",
    "\n",
    "##### Exemplo:\n",
    "\n",
    "* Dados:\n",
    "\n",
    "* $mu_X = 150$ e $\\sigma_X = 20$\n",
    "* $mu_Y = 120$ e $\\sigma_Y = 25$\n",
    "* $\\rho = 0,75$\n",
    "\n",
    "* Solução:\n",
    "\n",
    "$$x = 150 + 20\\sqrt{-2\\ln(u_1)}\\cos(2\\pi u_2)$$\n",
    "\n",
    "$$\\mu_{Y|X} = \\mu_Y + \\rho\\frac{\\sigma_Y}{\\sigma_X}(x - \\mu_X) = 120 + 0,75\\frac{25}{20}(x-150)$$\n",
    "\n",
    "$$\\sigma_{Y|X} = \\sigma_Y\\sqrt{1-\\rho^2} = 25\\sqrt{1-0,75^2} = 16,5359$$\n",
    "\n",
    "$$y = \\mu_{Y|X} + 16,5359\\sqrt{-2\\ln(u_1)}\\sin(2\\pi u_2)$$\n",
    "\n",
    "* A Figura abaixo mostra o gráfico de dispersão entre as variáveis correlacionadas $X$ e $Y$. Observe-se a elevada correlação positiva entre as variáveis aleatórias geradas. O coeficiente de correlação linear $\\rho$ se aproxima do valor especificado de $0,75$."
   ]
  },
  {
   "cell_type": "code",
   "execution_count": 4,
   "id": "6f36ce6f-fa42-47bd-a6d1-d304fe57cd88",
   "metadata": {},
   "outputs": [
    {
     "data": {
      "image/png": "[encoded data removed]",
      "text/plain": [
       "<Figure size 612x432 with 1 Axes>"
      ]
     },
     "metadata": {
      "needs_background": "light"
     },
     "output_type": "display_data"
    }
   ],
   "source": [
    "\"\"\"\n",
    "Geração de variáveis normais correlacionadas\n",
    "\"\"\"\n",
    "#Dados de entrada:\n",
    "n = 1000\n",
    "mu_x = 150\n",
    "sigma_x = 20\n",
    "mu_y = 120\n",
    "sigma_y = 25\n",
    "rho = 0.75\n",
    "# Geração de números randômicos de distribuição uniforme\n",
    "u1 = np.random.rand(n)\n",
    "u2 = np.random.rand(n)\n",
    "# Geração de variáveis normais correlacionadas x e y\n",
    "x = mu_x + sigma_x * np.sqrt(- 2 * np.log(u1)) * np.cos(2 * np.pi * u2)\n",
    "mu_yx = mu_y + rho * sigma_y / sigma_x * (x - mu_x)\n",
    "sigma_yx = sigma_y * np.sqrt(1 - rho ** 2)\n",
    "y = mu_yx + sigma_yx * np.sqrt(- 2 * np.log(u1)) * np.sin(2 * np.pi * u2)\n",
    "corr = np.corrcoef(x, y)\n",
    "rho_xy = corr[0, 1]\n",
    "# Gráfico de dispersão entre X e Y\n",
    "plt.figure(1, figsize=(8.5, 6))\n",
    "plt.scatter(x,y)\n",
    "plt.xlabel(r'$x$')\n",
    "plt.ylabel(r'$y$')\n",
    "plt.title('Gráfico de dispersão entre $X$ e $Y$')\n",
    "plt.text(100, 180, r\"$\\rho$ = {0:0.4f}\".format(rho_xy), fontsize=\"14\")\n",
    "plt.tight_layout()\n",
    "plt.show()"
   ]
  },
  {
   "cell_type": "markdown",
   "id": "150132a9-2f57-41c4-903b-29b00fc1f8d2",
   "metadata": {},
   "source": [
    "* O código abaixo mostra o mesmo problema resolvido através do __Modelo de Nataf__.\n",
    "* Observe-se que esta formulação é mais genérica e pode ser aplicada $nvar$ variáveis com quaisquer distribuição de probabilidade."
   ]
  },
  {
   "cell_type": "code",
   "execution_count": 5,
   "id": "4acf9b6b-42f1-4660-815d-052ca53ba675",
   "metadata": {},
   "outputs": [
    {
     "data": {
      "image/png": "[encoded data removed]",
      "text/plain": [
       "<Figure size 612x432 with 1 Axes>"
      ]
     },
     "metadata": {
      "needs_background": "light"
     },
     "output_type": "display_data"
    }
   ],
   "source": [
    "\"\"\"\n",
    "Geração de variáveis aleatórias correlacionadas com o modelo de Nataf\n",
    "\n",
    "\"\"\"\n",
    "# Dados de entrada das variáveis X1 e X2\n",
    "n = 1000\n",
    "nvar = 2\n",
    "mu_x1 = 150\n",
    "sigma_x1 = 20\n",
    "mu_x2 = 120\n",
    "sigma_x2 = 25\n",
    "rho = 0.75\n",
    "# Geração de números randômicos de distribuição uniforme\n",
    "u = np.random.rand(n,nvar)\n",
    "# Decomposição de Cholesky da matriz de correlação Rz\n",
    "rzmat = np.array([[1.00, 0.75],[0.75, 1.00]])\n",
    "lmat = linalg.cholesky(rzmat, lower=True)\n",
    "Jzy = np.copy(lmat)\n",
    "# Geração de variáveis normais padronizadas não correlacionadas\n",
    "y = norm.ppf(u)\n",
    "# Aplicação da correlação nas variáveis \"y\" gerando as variáveis normais correlacionadas \"z\"\n",
    "z = np.dot(Jzy, y.T).T\n",
    "# Cálculo da probabilidade acumulada da variável \"z\" = uz\n",
    "uz = norm.cdf(z)\n",
    "# Geração das variáveis normais correlacionadas X1 e X2: Método da Transformação Inversa\n",
    "x1= norm.ppf(uz[:, 0], mu_x1, sigma_x1)\n",
    "x2= norm.ppf(uz[:, 1], mu_x2, sigma_x2)\n",
    "corr = np.corrcoef(x1, x2)\n",
    "rho_x1x2 = corr[0, 1]\n",
    "# Gráfico de dispersão entre X1 e X2\n",
    "plt.figure(1, figsize=(8.5, 6))\n",
    "plt.scatter(x1, x2, color=\"red\")\n",
    "plt.xlabel(r'$x_1$')\n",
    "plt.ylabel(r'$x_2$')\n",
    "plt.title('Gráfico de dispersão entre $X_1$ e $X_2$')\n",
    "plt.text(100, 170, r\"$\\rho$ = {0:0.4f}\".format(rho_x1x2), fontsize=\"14\")\n",
    "plt.tight_layout()\n",
    "plt.show()"
   ]
  },
  {
   "cell_type": "markdown",
   "id": "f26cf4f9-2da5-4aef-b691-6afde70fff4f",
   "metadata": {
    "tags": []
   },
   "source": [
    "[Retornar ao início da aula](#section_6)"
   ]
  },
  {
   "cell_type": "markdown",
   "id": "fb2b20f6-b05f-4c8f-b3f0-c15e1d002a69",
   "metadata": {},
   "source": [
    "## __6.4 - Determinação de probabilidade de falha através do Método de Monte Carlo__  <a name=\"section_64\"></a>"
   ]
  },
  {
   "cell_type": "markdown",
   "id": "a6018a2e-3141-4bd3-998e-43bbe02c9ae7",
   "metadata": {},
   "source": [
    "#### Função Performance ou Função Estado Limite:\n",
    "\n",
    "* Em primeiro lugar é preciso definir uma função de performance do sistema: $g(X_1, X_2, ..., X_n) = 0$\n",
    "\n",
    "* Forma típica da função performance: $g(X_1, X_2, ..., X_n) = R(X_1, X_2, ..., X_n) - S(X_1, X_2, ..., X_n) = 0$\n",
    "\n",
    "* Onde:\n",
    "* $R(X_1, X_2, ..., X_n)$ é a capacidade do sistema\n",
    "* $S(X_1, X_2, ..., X_n)$ é a demanda do sistema\n",
    "\n",
    "* Situações possíveis:\n",
    "1. Se $g(X_1, X_2, ..., X_n) > 0 \\rightarrow$ __segurança__\n",
    "2. Se $g(X_1, X_2, ..., X_n) = 0 \\rightarrow$ __estado limite__\n",
    "3. Se $g(X_1, X_2, ..., X_n) < 0 \\rightarrow$ __falha__\n",
    "\n",
    "* A Figura abaixo ilustra estas três possibilidades, para o caso de uma função estado limite de duas variáveis aleatórias $X_1$ e $X_2$."
   ]
  },
  {
   "cell_type": "markdown",
   "id": "9c02e075-b79b-411b-babb-ab7c818ec571",
   "metadata": {},
   "source": [
    "<img src=\"./images6/funcao_performance.jpg\" alt=\"Função Performance ou Estado Limite\" style=\"width:600px\"/>"
   ]
  },
  {
   "cell_type": "markdown",
   "id": "122816b8-a011-4a24-898a-288d10fe3853",
   "metadata": {},
   "source": [
    "#### Probabilidade de falha:\n",
    "\n",
    "* A probabilidade de falha do sistema será dada por: $P_f = P[g(X_1, X_2, ..., X_n) < 0]$\n",
    "\n",
    "* Forma integral:\n",
    "\n",
    "$$P_f = \\int_{\\Omega_f} f_{X_1,X_2,...,X_n}(x_1,x_2,...,x_n)dx_1,dx_2,...,dx_n$$\n",
    "\n",
    "* Onde $\\Omega_f$ é o domínio da região de falha.\n",
    "\n",
    "* Esta integral pode ser reescrita na forma:\n",
    "\n",
    "$$P_f = \\int_{\\Omega}I_g(x_1,x_2,...,x_n) f_{X_1,X_2,...,X_n}(x_1,x_2,...,x_n)dx_1,dx_2,...,dx_n$$\n",
    "\n",
    "* Onde $\\Omega$ é o domínio completo da função $g(X_1,X_2,...,X_n)$, englobando a região segura e a região de falha.\n",
    "\n",
    "* $I_g(x_1,x_2,...,x_n)$ é a __função indicadora de falha__ definida como:\n",
    "\n",
    "$$ I_g(x_1,x_2,...,x_n) = \\left\\{\\begin{array}{ll} 1 \\quad \\text{se} \\quad g(X_1,X_2,...,X_n) \\leq 0 \\\\\n",
    "                                                   0 \\quad \\text{se} \\quad g(X_1,X_2,...,X_n) > 0  \n",
    "                           \\end{array} \\right.$$\n",
    "                           \n",
    "* Observe-se que cada avaliação da função indicadora $I_g(x_1,x_2,...,x_n)$ implica uma avaliação da função estado limite $g(X_1,X_2,...,X_n)$.\n",
    "\n",
    "* Além disso, nota-se que:\n",
    "\n",
    "$$P_f = \\int_{\\Omega}I_g(x_1,x_2,...,x_n) f_{X_1,X_2,...,X_n}(x_1,x_2,...,x_n)dx_1,dx_2,...,dx_n = E\\left\\{I_g(x_1,x_2,...,x_n)\\right\\}$$\n",
    "\n",
    "* Ou seja, a probabilidade de falha do sistema é igual ao valor esperado da função indicadora $I_g(\\textbf{x})$ , onde $\\textbf{x}=\\{x_1,x_2,...,x_n\\}^t$.\n",
    "\n",
    "* Então, para uma amostra formada por um número de simulações finito igual a $n_s$, a probabilidade de falha poderá ser estimada por:\n",
    "\n",
    "$$P_f \\approxeq \\hat{P}_f = \\frac{1}{n_s}\\sum_{i=1}^{n_s} I_g(\\textbf{x}_k) = \\frac{n_f}{n_s}$$\n",
    "\n",
    "* Onde o chapéu (^) indica que se trata de uma estimativa, e não do valor exato, $n_f$ é o número de falhas e $n_s$ é o número total de simulações.\n",
    "\n",
    "* A variância da probabilidade de falha corresponde ao erro estatístico cometido na sua avaliação através da equação anterior e será dada por:\n",
    "\n",
    "$$Var[\\hat{P}_f] =\\frac{1}{n_s} \\frac{1}{n_s-1}\\sum_{i=1}^{n_s}(I_g(\\textbf{x}_k)-\\hat{P}_f)^2$$\n",
    "\n",
    "* O coeficiente de variação de $\\hat{P}_f$ é calculado através da equação (HALDAR e MAHADEVAN, 2000):\n",
    "\n",
    "$$\\delta_{\\hat{P}_f} = \\frac{\\sqrt{Var[\\hat{P}_f]}}{E[\\hat{P}_f]} \\approxeq \\sqrt{\\frac{1 - P_f}{n_s P_f}} \\implies n_s \\approxeq \\frac{1}{P_f \\delta_{\\hat{P}_f}^2}$$\n",
    "\n",
    "* A equação anterior indica que o coeficiente de variação da probabilidade de falha $\\delta_{\\hat{P}_f}$ será tanto menor, quanto maior for o número de simulações $n_s$. Então, para uma probabilidade de falha da ordem de $10^{-p}$, para se garantir um coeficiente de variação $\\delta_{\\hat{P}_f}$ de no máximo $10\\%$ é necessário realizar-se pelo menos $10^{p+2}$ simulações (BECK, 2019).\n",
    "\n",
    "* O erro percentual cometido ao se avaliar uma probabilidade de falha $P_f$ através de $n_s$ simulações, empregando-se o Método de Monte Carlo Força Bruta, pode ser calculado através da equação (HALDAR e MAHADEVAN, 2000):\n",
    "\n",
    "$$\\text{erro(%)} = 200 \\sqrt{\\frac{1 - P_f}{n_s P_f}}$$ \n",
    "\n",
    "* Para sistemas complexos, com probabilidades de falha muito pequenas, o número de simulações necessárias será muito elevado, levando a um custo computacional proibitivo. Por este motivo, muitas vezes será necessário empregar as chamadas __técnicas de redução de variância__, que permitem reduzir o número de simulações necessárias para estimar a probabilidade de falha.\n",
    "\n",
    "#### Algoritmo para o Método de Monte Carlo Força Bruta\n",
    "\n",
    "* O Método de Monte Carlo conforme exposto neste item é conhecido como Método de Monte Carlo Direto ou Força Bruta, por não empregar técnicas de redução de variância. O algoritmo do Método de Monte Carlo Força Bruta pode ser descrito através dos seguintes passos:\n",
    "\n",
    "1. Gerar $n_s$ amostras das variáveis aleatórias básicas do problema $\\textbf{x}_k =\\{x_1, x_2, ..., x_n\\}_k^t$, empregando-se a função densidade de probabilidade conjunta $f_{X_1,X_2,...,X_n}(x_1,x_2,...,x_n)$\n",
    "\n",
    "2. Avaliar a função indicadora de falha $I_g(\\textbf{x}_k)$ para cada amostra.\n",
    "\n",
    "3. Calcular a média da probabilidade de falha através da equação:\n",
    "\n",
    "$$P_f \\approxeq \\hat{P}_f = \\frac{1}{n_s}\\sum_{i=1}^{n_s} I_g(\\textbf{x}_k) = \\frac{n_f}{n_s}$$\n",
    "\n",
    "4. Calcular a variância da probabilidade de falha usando a expressão:\n",
    "\n",
    "$$Var[\\hat{P}_f] = \\frac{1}{ns}\\frac{1}{n_s-1}\\sum_{i=1}^{n_s}(I_g(\\textbf{x}_k)-\\hat{P}_f)^2$$\n",
    "\n",
    "5. Calcular o coeficiente de variação da probabilidade de falha:\n",
    "\n",
    "$$\\delta_{\\hat{P}_f} = \\frac{\\sqrt{Var[\\hat{P}_f]}}{E[\\hat{P}_f]}$$\n",
    "\n",
    "6. Se o coeficiente de variação obtido no passo 5, for menor que o limite de tolerância estabelecido, encerrar o processo. Caso contrário, será necessário aumentar o número de simulações até que seja atingido o limite máximo estabelecido para o coeficiente de variação da probabilidade de falha."
   ]
  },
  {
   "cell_type": "markdown",
   "id": "d6e39f7d-5815-4c23-b3d2-bca137bee85d",
   "metadata": {
    "tags": []
   },
   "source": [
    "#### Cálculo do índice de confiabilidade $\\beta$ através do Método de Monte Carlo\n",
    "\n",
    "* Um vez estimada a probabilidade de falha do sistema dentro de um coeficiente de variação previamente estabelecido, o índice de confiabilidade correspondente a esta probabilidade de falha pode ser calculado através da expressão:\n",
    "\n",
    "$$\\beta = \\Phi^{-1}(\\hat{P}_f)$$\n",
    "\n",
    "* Onde $\\Phi^{-1}()$ é a função inversa da distribuição de probabilidade acumulada de uma variável normal padronizada de média zero e variância unitária $N(0,1)$."
   ]
  },
  {
   "cell_type": "markdown",
   "id": "cadb2bc2-913a-4c26-a7fe-9b75c9fa9c3b",
   "metadata": {
    "tags": []
   },
   "source": [
    "[Retornar ao início da aula](#section_6)"
   ]
  },
  {
   "cell_type": "markdown",
   "id": "004a9517-7732-4074-ba7b-853038df65a3",
   "metadata": {
    "tags": []
   },
   "source": [
    "## __6.5 - Aplicações do Método de Monte Carlo__  <a name=\"section_65\"></a>"
   ]
  },
  {
   "cell_type": "markdown",
   "id": "7dbdc019-07c9-4e4f-be51-1b781166234c",
   "metadata": {
    "tags": []
   },
   "source": [
    "### Exemplo 6.3 - Função não-linear\n",
    "\n",
    "* Sejam três variáveis gaussianas:\n",
    "* $X_1=N(500,75)$, \n",
    "* $X2=N(600,120)$, \n",
    "* $X3=N(700,210)$.\n",
    "* Qual a distribuição de probabilidade da função:\n",
    "\n",
    "$$Y = g(X_1,X_2,X_3) = \\frac{X_1 X_3}{X_2}$$\n",
    "\n",
    "* __Solução:__\n",
    "\n",
    "* A distribuição de Y não será normal nem lognormal (ver Capítulo 4).\n",
    "* Para determinar a distribuição de probabilidade de $Y$ será empregado o Método de Monte Carlo com a realização de 10.000 simulações."
   ]
  },
  {
   "cell_type": "code",
   "execution_count": 6,
   "id": "54a80a18-276d-4568-9803-90b73ba6ff0a",
   "metadata": {},
   "outputs": [
    {
     "data": {
      "image/png": "[encoded data removed]",
      "text/plain": [
       "<Figure size 612x432 with 1 Axes>"
      ]
     },
     "metadata": {
      "needs_background": "light"
     },
     "output_type": "display_data"
    }
   ],
   "source": [
    "\"\"\"\n",
    "Determinação da forma da distribuição de probabilidade de uma função não-linear\n",
    "\"\"\"\n",
    "# Dados de entrada\n",
    "n = 10_0000\n",
    "mu_x1 = 500.00\n",
    "sigma_x1 = 75.00\n",
    "mu_x2= 600.00\n",
    "sigma_x2 = 120.00\n",
    "mu_x3 = 700.00\n",
    "sigma_x3 = 210.00\n",
    "# Geração das amostras de X1, X2 e X3:\n",
    "x1 = np.random.normal(mu_x1, sigma_x1, n)\n",
    "x2 = np.random.normal(mu_x2, sigma_x2, n)\n",
    "x3 = np.random.normal(mu_x3, sigma_x3, n)\n",
    "# Cálculo da função y\n",
    "y = x1 * x3 / x2\n",
    "# Estatísticas da função y\n",
    "mu_y = np.mean(y)\n",
    "sigma_y = np.std(y)\n",
    "theta_y = skew(y,bias=False)\n",
    "# Histograma dos valores de y\n",
    "plt.figure(figsize=(8.5, 6))\n",
    "fy = plt.hist(y, bins=50, density=True)\n",
    "plt.xlabel(r'$y$')\n",
    "plt.ylabel(r'$f_{Y}(y)$')\n",
    "plt.title('Função não-linear')\n",
    "plt.text(1500, 0.0012, r\"$Y =\\frac{X_1 X_3}{X_2}$\", fontsize=\"18\")\n",
    "plt.text(1500, 0.0009, r\"$\\mu_y$ = {0:0.2f}\".format(mu_y), fontsize=\"14\")\n",
    "plt.text(1500, 0.0008, r\"$\\sigma_y$ = {0:0.2f}\".format(sigma_y), fontsize=\"14\")\n",
    "plt.text(1500, 0.0007, r\"$\\theta_y$ = {0:0.2f}\".format(theta_y), fontsize=\"14\")\n",
    "plt.xlim(-500, 2500)\n",
    "plt.tight_layout()\n",
    "plt.show()"
   ]
  },
  {
   "cell_type": "markdown",
   "id": "02262ee5-7b94-4648-8b84-bc9c70fabb35",
   "metadata": {},
   "source": [
    "### Exemplo 6.4 - Capacidade de carga de um grupo de estacas"
   ]
  },
  {
   "cell_type": "markdown",
   "id": "2e99ce39-9d12-423c-9b55-81c7a3064a50",
   "metadata": {},
   "source": [
    "<img src=\"./images6/grupo_estacas.jpg\" alt=\"Grupo de Estacas\" style=\"width:300px\"/>"
   ]
  },
  {
   "cell_type": "markdown",
   "id": "00d5ccc4-6b01-4db4-940b-5b7dd25c5b3e",
   "metadata": {
    "tags": []
   },
   "source": [
    "* Capacidade de carga das estacas $R$: distribuição normal com média $\\mu_R = 5.000 kN$ e desvio padrão $\\sigma_R=1500 kN$.\n",
    "\n",
    "* Carga aplicada $S$: distribuição lognormal, com mediana $S_m = 3000 kN$ e coeficiente de variação igual a $\\delta_S=0,33$.\n",
    "\n",
    "* A probabilidade de falha do grupo de estacas sob as cargas aplicadas será dada por: $P_f = P(R-S<0)$\n",
    "\n",
    "* A distribuição de probabilidade de $(R-S)$ não será normal, nem lognormal.\n",
    "\n",
    "* É necessário usar simulações de Monte Carlo para calcular $P_f$.\n",
    "\n",
    "* A probabilidade de falha, após $n_s$ simulações será dada por:\n",
    "\n",
    "$$P_f = \\frac{n_f}{n_s}$$\n",
    "\n",
    "* Onde $n_f$ é o número de vezes em que ocorre $(R_i – S_i)<0$."
   ]
  },
  {
   "cell_type": "code",
   "execution_count": 7,
   "id": "96bef2a0-1ae8-4b1f-85e7-8490c26a1b03",
   "metadata": {},
   "outputs": [
    {
     "name": "stdout",
     "output_type": "stream",
     "text": [
      "pf = 1.54e-01\n",
      "delta_pf = 0.0074\n",
      "erro(%) = 1.48\n"
     ]
    }
   ],
   "source": [
    "\"\"\"\n",
    "Cálculo da probabilidade de falha de um grupo de estacas\n",
    "\"\"\"\n",
    "# Dados de entrada\n",
    "mu_r = 5000.00\n",
    "sigma_r= 1500.00\n",
    "sm = 3000.00\n",
    "delta_s = 0.33\n",
    "ns = 100_000\n",
    "# Geração das amostras de R e de S\n",
    "r = np.random.normal(mu_r, sigma_r, ns)\n",
    "#\n",
    "mu_s = sm * np.sqrt(delta_s ** 2 + 1)\n",
    "zeta_s = np.sqrt(np.log(delta_s ** 2 + 1))\n",
    "lambda_s = np.log(mu_s) - 0.5 * zeta_s ** 2\n",
    "s = np.random.lognormal(lambda_s, zeta_s, ns)\n",
    "# Cálculo da probabilidade de falha\n",
    "gx = r - s\n",
    "igx = np.where(gx <= 0.00, 1.00, 0.00)\n",
    "pf = np.mean(igx)\n",
    "sigma_pf = np.std(igx) / np.sqrt(ns)\n",
    "delta_pf = sigma_pf / pf\n",
    "erro = 200 * np.sqrt((1 - pf) / (ns * pf))\n",
    "#\n",
    "print(\"pf = {0:0.2e}\".format(pf))\n",
    "print(\"delta_pf = {0:0.4f}\".format(delta_pf))\n",
    "print(\"erro(%) = {0:0.2f}\".format(erro))"
   ]
  },
  {
   "cell_type": "markdown",
   "id": "067637d3-2317-4073-af24-9bd3474dc7ed",
   "metadata": {},
   "source": [
    "### Exemplo 6.5 - Deslocamento horizontal em uma plataforma"
   ]
  },
  {
   "cell_type": "markdown",
   "id": "0cf20dbb-206f-471d-8a47-e0ab29ac93be",
   "metadata": {},
   "source": [
    "<img src=\"./images6/deslocamento_plataforma.jpg\" alt=\"Deslocamento horizontal em plataforma\" style=\"width:474px\"/>"
   ]
  },
  {
   "cell_type": "markdown",
   "id": "c1887a14-2fa7-4fe0-96a1-c1cacc134628",
   "metadata": {},
   "source": [
    "Fonte: https://www.ecmwf.int"
   ]
  },
  {
   "cell_type": "markdown",
   "id": "40055118-01bd-48a9-a38a-21c7bf949758",
   "metadata": {},
   "source": [
    "* Deslocamento  horizontal $D$ em cm em uma plataforma marítima: $D = AF + BF^2 + \\epsilon$\n",
    "\n",
    "Onde:\n",
    "$A$ e $B$ são constantes;\n",
    "$F$ é a força máxima exercida pelas ondas;\n",
    "$\\epsilon$ = erro do modelo.\n",
    "\n",
    "* Os dados estatísticos da variáveis do problema se encontram na tabela abaixo:\n",
    "\n",
    "| Variável | Média | Coef.Var. | Distribuição |\n",
    "|:--------:|:-----:|:---------:|:------------:|\n",
    "| $F$ | 25 | 0,23 | Lognormal |\n",
    "| $A$ | 0,0113 | 0,30 | Normal |\n",
    "| $B$ | 0,0006 | 0,30 | Normal |\n",
    "| $\\epsilon$ | 0 | $\\sigma$ = 0,10 | Normal |\n",
    "\n",
    "* Para um desempenho satisfatório $D$ deve ser menor que $1 cm$.\n",
    "\n",
    "* Calcular a probabilidade de falha $P_f$.\n",
    "\n",
    "* Função performance: $g(A,B,F,\\epsilon) = 1 - (AF + BF^2 + \\epsilon)$\n",
    "\n",
    "* Condição de falha: $g(A,B,F,\\epsilon) < 0$\n",
    "\n",
    "* Número de simulações $n_s = 100.000$"
   ]
  },
  {
   "cell_type": "code",
   "execution_count": 8,
   "id": "32704a3c-db0a-4eec-a7a5-ebab2da7876a",
   "metadata": {},
   "outputs": [
    {
     "name": "stdout",
     "output_type": "stream",
     "text": [
      "pf = 1.47e-01\n",
      "delta_pf = 0.0076\n",
      "erro(%) = 1.53\n"
     ]
    },
    {
     "data": {
      "image/png": "[encoded data removed]",
      "text/plain": [
       "<Figure size 612x432 with 1 Axes>"
      ]
     },
     "metadata": {
      "needs_background": "light"
     },
     "output_type": "display_data"
    }
   ],
   "source": [
    "\"\"\"\n",
    "Deslocamento horizontal em plataforma: cálculo da probabilidade de falha\n",
    "\"\"\"\n",
    "# Dados de entrada:\n",
    "ns = 100_000\n",
    "#\n",
    "mu_f = 25.00\n",
    "delta_f = 0.25\n",
    "sigma_f = delta_f * mu_f\n",
    "#\n",
    "mu_a = 0.0113\n",
    "delta_a = 0.30\n",
    "sigma_a = delta_a * mu_a\n",
    "#\n",
    "mu_b = 0.0006\n",
    "delta_b = 0.30\n",
    "sigma_b = delta_b * mu_b\n",
    "#\n",
    "mu_e = 0.00\n",
    "sigma_e = 0.10\n",
    "# Geração das amostras para f, a, b e epsilon\n",
    "# f = lognormal\n",
    "zeta_f = np.sqrt(np.log(1 + delta_f ** 2))\n",
    "lambda_f = np.log(mu_f) - 0.5 * zeta_f ** 2\n",
    "f = np.random.lognormal(lambda_f, zeta_f, ns)\n",
    "# a = normal\n",
    "a = np.random.normal(mu_a, sigma_a, ns)\n",
    "# b = normal\n",
    "b = np.random.normal(mu_b, sigma_b, ns)\n",
    "# e = normal\n",
    "e = np.random.normal(mu_e, sigma_e, ns)\n",
    "# Cálculo da probabilidade de falha\n",
    "gx = 1.00 - a * f - b * f ** 2 - e\n",
    "igx = np.where(gx <= 0.00, 1.00, 0.00)\n",
    "pf = np.mean(igx)\n",
    "sigma_pf = np.std(igx) / np.sqrt(ns)\n",
    "delta_pf = sigma_pf / pf\n",
    "erro = 200 * np.sqrt((1 - pf) / (ns * pf))\n",
    "#\n",
    "print(\"pf = {0:0.2e}\".format(pf))\n",
    "print(\"delta_pf = {0:0.4f}\".format(delta_pf))\n",
    "print(\"erro(%) = {0:0.2f}\".format(erro))\n",
    "# Histograma dos valores de y\n",
    "plt.figure(figsize=(8.5, 6))\n",
    "fy = plt.hist(gx, bins=50, density=True)\n",
    "plt.xlabel(r'$g(x)$')\n",
    "plt.ylabel(r'$f_{G}(g)$')\n",
    "plt.title('Função Estado Limite')\n",
    "plt.text(-2.5, 1.3, r\"$g(A,B,F,\\epsilon) = 1 - (AF + BF^2 + \\epsilon)$\", fontsize=\"18\")\n",
    "plt.text(-2.5, 1.1, r\"$P_f = P(g<0)$\", fontsize=\"14\")\n",
    "plt.text(-2.5, 1.0, r\"$n_s$ = {0:0d}\".format(ns), fontsize=\"14\")\n",
    "plt.text(-2.5, 0.9, r\"$P_f = $ = {0:0.2e}\".format(pf), fontsize=\"14\")\n",
    "plt.text(-2.5, 0.8, r\"$erro = $ = {0:0.2f}%\".format(erro), fontsize=\"14\")\n",
    "plt.text(-2.5, 0.7, r\"$\\delta(P_f) = $ = {0:0.4f}\".format(delta_pf), fontsize=\"14\")\n",
    "plt.xlim(-3, 1.5)\n",
    "plt.tight_layout()\n",
    "plt.show()"
   ]
  },
  {
   "cell_type": "markdown",
   "id": "74330328-4762-4f47-98c1-004ddc26050a",
   "metadata": {
    "tags": []
   },
   "source": [
    "[Retornar ao início da aula](#section_6)"
   ]
  },
  {
   "cell_type": "markdown",
   "id": "6fca24c0-3197-4524-9fdc-88ba5a51f126",
   "metadata": {},
   "source": [
    "## __6.6 - Amostragem por importância__  <a name=\"section_66\"></a>"
   ]
  },
  {
   "cell_type": "markdown",
   "id": "e0eac86d-68f8-4079-b8f7-741fd66f0e55",
   "metadata": {
    "tags": []
   },
   "source": [
    "* De uma forma geral, a probabilidade de falha de um sistema de engenharia pode ser calculada através da expressão:\n",
    "\n",
    "$$P_f = \\int_{\\Omega}I_g(\\textbf{x})f_{\\textbf{X}}(\\textbf{x})d\\textbf{x}$$\n",
    "\n",
    "onde $\\Omega$ é o domínio completo das variáveis $\\textbf{X}$, incluindo as regiões segura e de falha, $I_g(\\textbf{x})$ é a função indicadora de falha e $f_{\\textbf{X}}(\\textbf{x})$ é a função de densidade de probabilidade conjunta das variáveis $\\textbf{X}$.\n",
    "\n",
    "* A técnica da amostragem por importância consiste em introduzir-se no problema uma função de amostragem $h_{\\textbf{X}}(\\textbf{x})$, gerando-se os valores das variáveis aleatórias a partir dela. Assim, consegue-se gerar valores aleatórios das variáveis na região de maior importância, ou seja, a região de falha.\n",
    "\n",
    "\n",
    "* Multipliando-se e dividindo-se a equação da probabilidade de falha $P_f$ pela função $h_{\\textbf{X}}(\\textbf{x})$ resulta:\n",
    "\n",
    "$$P_f = \\int_{\\Omega}I_g(\\textbf{x})\\frac{f_{\\textbf{X}}(\\textbf{x})}{h_{\\textbf{X}}(\\textbf{x})}h_{\\textbf{X}}(\\textbf{x})d\\textbf{x}$$\n",
    "\n",
    "*  Esta expressão representa o cálculo do valor esperado da função $I_g(\\textbf{x})\\frac{f_{\\textbf{X}}(\\textbf{x})}{h_{\\textbf{X}}(\\textbf{x})}$ sobre a função de densidade de probabilidade de amostragem $h_{\\textbf{X}}(\\textbf{x})$.\n",
    "\n",
    "* Realizando-se o cálculo deste valor esperado sobre uma amostra finita de tamanho $n_s$, a estimativa da probabilidade de falha será dada por:\n",
    "\n",
    "$$P_f \\approxeq \\hat{P}_f = \\frac{1}{n_s}\\sum_{k=1}^{n_s}I_g(\\textbf{x}_k)\\frac{f_{\\textbf{X}}(\\textbf{x}_k)}{h_{\\textbf{X}}(\\textbf{x}_k)}$$\n",
    "\n",
    "* Como a função de amostragem $h_{\\textbf{X}}(\\textbf{x})$ gera um número de pontos muito maior no domínio de falha o somatório da função indicadora $I_g(\\textbf{x})$ será muito superior ao obtido pela função densidade de probabilidade conjunta original $f_{\\textbf{X}}(\\textbf{x})$.\n",
    "\n",
    "* Este resultado é corrigido ao multiplicar-se os valores da função $I_g(\\textbf{x}_k)$ por um fator peso $w_k$, muito menor que a unidade, dado por:\n",
    "\n",
    "$$w_k = \\frac{f_{\\textbf{X}}(\\textbf{x}_k)}{h_{\\textbf{X}}(\\textbf{x}_k)}$$\n",
    "\n",
    "* Note-se, conforme visto no Capítulo 4, se as variáveis $\\textbf{X}$ forem estatisticamente independentes tem-se que:\n",
    "\n",
    "$$f_{\\textbf{X}}(\\textbf{x}) = \\prod_{i=1}^{n} f_{Xi}(x_i) \\quad \\text{e} \\quad h_{\\textbf{X}}(\\textbf{x}) = \\prod_{i=1}^{n} h_{Xi}(x_i)$$\n",
    "\n",
    "* A variância da estimativa da probabilidade de falha calculada com a técnica de amostragem por importância será dada por:\n",
    "\n",
    "$$Var[\\hat{P}_f] = \\frac{1}{ns}\\frac{1}{n_s-1}\\sum_{i=1}^{n_s}(I_g(\\textbf{x}_k)w_k-\\hat{P}_f)^2$$\n",
    "\n",
    "* A eficiência da técnica de amostragem por importância está diretamente relacionada à escolha da função de amostragem $h_{\\textbf{X}}(\\textbf{x})$. A escolha de uma função inadequada pode tornar a convergência para a probabilidade de falha exata mais lenta que a do Método de Monte Carlo Força Bruta.\n",
    "\n",
    "* Naturalmente que a função ideal seria aquela dada por:\n",
    "\n",
    "$$h_{\\textbf{X}}(\\textbf{x}_k) = \\frac{f_{\\textbf{X}}(\\textbf{x}_k)}{P_f}$$\n",
    "\n",
    "* Observe-se que com esta função de amostragem a probabilidade de falha seria encontrada com apenas uma simulação. No entanto, esta função é apenas hipotética, pois depende da probabilidade de falha $P_f$, que é justamente a incógnita do problema que se deseja resolver.\n",
    "\n",
    "* No entanto, esta equação nos mostra que a função de amostragem $h_{\\textbf{X}}(\\textbf{x}_k)$ a ser escolhida deve ser proporcional à função densidade de probabilidade conjunta original $f_{\\textbf{X}}(\\textbf{x}_k)$ na região do domínio de falha (BECK, 2019). Na bibliografia indicada abaixo encontram-se diversas estratégias para a escolha da função de amostragem.\n",
    "\n",
    "* O algoritmo para o Método de Monte Carlo com a técnica de __Amostragem por Importância__ é formado pelos seguintes passos:\n",
    "\n",
    "1. Gerar $n_s$ amostras das variáveis aleatórias básicas do problema $\\textbf{x}_k =\\{x_1, x_2, ..., x_n\\}_k^t$, empregando-se a função de amostragem $h_{\\textbf{X}}(x_1,x_2,...,x_n)$\n",
    "\n",
    "2. Avaliar a função indicadora de falha $I_g(\\textbf{x}_k)$ para cada amostra.\n",
    "\n",
    "3. Calcular o peso de cada valor da amostra dado por:\n",
    "\n",
    "$$w_k = \\frac{f_{\\textbf{X}}(\\textbf{x}_k)}{h_{\\textbf{X}}(\\textbf{x}_k)}$$\n",
    "\n",
    "4. Calcular a média da probabilidade de falha através da equação:\n",
    "\n",
    "$$P_f \\approxeq \\hat{P}_f = \\frac{1}{n_s}\\sum_{i=1}^{n_s} I_g(\\textbf{x}_k)w_k $$\n",
    "\n",
    "5. Calcular a variância da probabilidade de falha usando a expressão:\n",
    "\n",
    "$$Var[\\hat{P}_f] = \\frac{1}{ns}\\frac{1}{n_s-1}\\sum_{i=1}^{n_s}(I_g(\\textbf{x}_k)-\\hat{P}_f)^2$$\n",
    "\n",
    "6. Calcular o coeficiente de variação da probabilidade de falha:\n",
    "\n",
    "$$\\delta_{\\hat{P}_f} = \\frac{\\sqrt{Var[\\hat{P}_f]}}{E[\\hat{P}_f]}$$\n",
    "\n",
    "7. Se o coeficiente de variação obtido no passo 5, for menor que o limite de tolerância estabelecido, encerrar o processo. Caso contrário, será necessário aumentar o número de simulações até que seja atingido o limite máximo estabelecido para o coeficiente de variação da probabilidade de falha, ou então escolher uma nova função de amostragem $h_{\\textbf{X}}(\\textbf{x}_k)$ de forma a melhorar a convergência do Método de Monte Carlo.\n",
    "\n"
   ]
  },
  {
   "cell_type": "markdown",
   "id": "ebfa0f49-aca3-475d-999b-a478701b4bbc",
   "metadata": {
    "tags": []
   },
   "source": [
    "#### Exemplo 6.6 - Probabilidade de falha de uma barra tracionada"
   ]
  },
  {
   "cell_type": "markdown",
   "id": "9c99f52b-515a-4455-9de8-fcc793e39569",
   "metadata": {},
   "source": [
    "<img src=\"./images6/tensioned_bar.jpg\" alt=\"Barra tracionada\" style=\"width:474px\"/>"
   ]
  },
  {
   "cell_type": "markdown",
   "id": "cc92ccb6-e757-4b60-8b1b-5389f0c30795",
   "metadata": {},
   "source": [
    "* Empregando-se os mesmos dados apresentados no item 1.5 do Capítulo 1, deseja-se avaliar a probabilidade de falha de uma tracionada empregando-se o Método de Monte Carlo com a técnica de Amostragem por Importância.\n",
    "\n",
    "* Dados:\n",
    "\n",
    "* A tensão de escoamento do aço possui um valor médio $f_{ym} = 275 MPa$, com um coeficiente de variação $\\delta_{fy} = 0,10$;\n",
    "* A carga permanente possui um valor médio de $G_m = 60 kN$, com um coeficiente de variação $\\delta_g = 0,10$;\n",
    "* A carga permanente possui um valor médio de $Q_m =70 kN$, com um coeficiente de variação $\\delta_g = 0,30$;\n",
    "* Todas estas variáveis possuam distribuição normal de probabilidade. \n",
    "\n",
    "* A função estado limite será dada por: $g(x) = f_y A_s - G - Q = 0$\n",
    "\n",
    "* Para uma barra de $32 mm$ de diâmetro, a área de seção transversal $A_s$ vale $804,25 mm^2$\n",
    "\n",
    "* Da solução do problema no Capítulo 1, sabe-se que o valor exato de $P_f$ é igual a $1,6782\\times 10^{-3}$, e que este valor corresponde a um índice de confiabilidade $\\beta = 2,93$.\n",
    "\n",
    "* __Solução__:\n",
    "\n",
    "* Dado que todas as variáveis possuem distribuição normal de probabilidade, uma primeira opção para as funções de amostragem seria adotar-se também uma distribuição normal de probabilidade, mas com os seus valores médios deslocados de dois desvios padrões no sentido mais desfavorável.\n",
    "\n",
    "* Variável da capacidade resistente: tensão de escoamento do aço: $\\mu_{h-fy} = 275 - 2 \\times 0,10 \\times 275 = 220 MPa$\n",
    "* Variável da solicitação: carga permanente: $\\mu_{h-g} = 60 + 2 \\times 0,10 \\times 60 = 72 kN$\n",
    "* Variável da solicitação: carga permanente: $\\mu_{h-q} = 70 + 2 \\times 0,30 \\times 70 = 91 kN$\n",
    "* Os desvios padrões de todas as variáveis aleatórias do probelma serão mantidos constantes.\n",
    "\n",
    "* Em primeiro lugar será realizada a solução com o método de Monte Carlo Força Bruta, empregando-se $10^6$ simulações."
   ]
  },
  {
   "cell_type": "code",
   "execution_count": 13,
   "id": "043616e9-7ec2-46f0-a831-707b5f580377",
   "metadata": {},
   "outputs": [
    {
     "name": "stdout",
     "output_type": "stream",
     "text": [
      "pf = 1.68e-03\n",
      "delta_pf = 0.0244\n",
      "erro(%) = 4.88\n"
     ]
    }
   ],
   "source": []
  },
  {
   "cell_type": "markdown",
   "id": "43a361cd-e8fa-4abb-8e41-daaecac8349d",
   "metadata": {},
   "source": [
    "* Observa-se que são necessárias $10^6$ simulações para que a solução exata seja aproximada com boa precisão.\n",
    "\n",
    "* Abaixo segue a solução com a técnica de Amostragem por Importância em que um resultado praticamente idêntico é alcançado com 10.000 simulações."
   ]
  },
  {
   "cell_type": "code",
   "execution_count": 27,
   "id": "41f0bf89-d544-461d-bb51-2f3368d7a18a",
   "metadata": {},
   "outputs": [
    {
     "name": "stdout",
     "output_type": "stream",
     "text": [
      "pf = 2.42e-03\n",
      "delta_pf = 0.4059\n"
     ]
    }
   ],
   "source": [
    "\"\"\"\n",
    "Probabilidade de falha de uma barra tracionada - Amostragem por importância\n",
    "\"\"\"\n",
    "# Dados de entrada:\n",
    "ns = 20_000\n",
    "#\n",
    "mu_fy = 275.00  # MPa\n",
    "delta_fy = 0.10\n",
    "sigma_fy = delta_fy * mu_fy\n",
    "muh_fy = mu_fy - 3 * sigma_fy\n",
    "sigmah_fy = sigma_fy\n",
    "#\n",
    "mu_g = 60.00  # kN\n",
    "delta_g = 0.10\n",
    "sigma_g = delta_g * mu_g\n",
    "muh_g = mu_g + 3 * sigma_g\n",
    "sigmah_g = sigma_g\n",
    "#\n",
    "mu_q = 70.00  # kN\n",
    "delta_q = 0.30\n",
    "sigma_q = delta_q * mu_q\n",
    "muh_q = mu_q +  3 * sigma_q\n",
    "sigmah_q = sigma_q\n",
    "#\n",
    "ast= 804.25  # mm2\n",
    "# Geração das amostras para fy, g e q usando a função de amostragem h(x)\n",
    "# fy = normal\n",
    "fy = np.random.normal(muh_fy, sigmah_fy, ns)\n",
    "# b = normal\n",
    "g = np.random.normal(muh_g, sigmah_g, ns)\n",
    "# e = normal\n",
    "q = np.random.normal(muh_q, sigmah_q, ns)\n",
    "# Cálculo dos pesos wk\n",
    "fx = norm.pdf(fy, mu_fy, sigma_fy) * norm.pdf(g, mu_g, sigma_g) * norm.pdf(q, mu_q, sigma_q)\n",
    "hx = norm.pdf(fy, muh_fy, sigmah_fy) * norm.pdf(g, muh_g, sigmah_g) * norm.pdf(q, muh_q, sigmah_q)\n",
    "wk = fx / hx\n",
    "# Cálculo da probabilidade de falha\n",
    "gx = 1e-3 * ast * fy - g - q\n",
    "igx = np.where(gx <= 0.00, 1.00, 0.00)\n",
    "pf = np.mean(igx * wk)\n",
    "sigma_pf = np.std(igx * wk) / np.sqrt(ns)\n",
    "delta_pf = sigma_pf / pf\n",
    "#\n",
    "print(\"pf = {0:0.2e}\".format(pf))\n",
    "print(\"delta_pf = {0:0.4f}\".format(delta_pf))"
   ]
  },
  {
   "cell_type": "code",
   "execution_count": null,
   "id": "2bf65cec-f2ac-4344-9d84-607b3b893258",
   "metadata": {},
   "outputs": [],
   "source": []
  },
  {
   "cell_type": "markdown",
   "id": "30a7fc90",
   "metadata": {},
   "source": [
    "## __Bibliografia__"
   ]
  },
  {
   "cell_type": "markdown",
   "id": "e8f44e93",
   "metadata": {},
   "source": [
    "* __Livros__\n",
    "* ANG,  A.  H-S.; TANG,  W. H.. Probability concepts in engineering planning and design. Volume I:  basic principles. New  York, John Wiley & Sons, 1975.\n",
    "* ANG,  A.  H-S.; TANG,  W. H.. Probability concepts in engineering planning and design. Volume II: decision, risk and reliability. New  York, John Wiley & Sons, 1984.\n",
    "* ANG,  A.  H-S.; TANG,  W. H.. Probability concepts in engineering: Emphasis on applications to Civil and Enviromental Engineering.  2nd ed. Hoboken, NJ, John Wiley & Sons, 2007.\n",
    "* BECK, A. T. Confiabilidade e segurança das  estruturas. Rio de Janeiro, Elsevier, 2019.\n",
    "* HALDAR, A. MAHADEVAN, S. Probability, reliability, and statistical methods in engineering design. New York, Wiley, 2000.\n",
    "* MELCHERS, R.E., BECK, A. T.; Structural reliability analysis and prediction. 3rd ed. John Wiley and Sons, 2018, 514p."
   ]
  },
  {
   "cell_type": "code",
   "execution_count": null,
   "id": "05e0db64-032f-4715-92f5-172b916c979e",
   "metadata": {},
   "outputs": [],
   "source": []
  }
 ],
 "metadata": {
  "colab": {
   "name": "Capítulo_5.ipynb",
   "provenance": []
  },
  "interpreter": {
   "hash": "f189cad14bda9570c78e3484cdd4044273f5880bd3757c16e7bdbbda1060b186"
  },
  "kernelspec": {
   "display_name": "Python 3 (ipykernel)",
   "language": "python",
   "name": "python3"
  },
  "language_info": {
   "codemirror_mode": {
    "name": "ipython",
    "version": 3
   },
   "file_extension": ".py",
   "mimetype": "text/x-python",
   "name": "python",
   "nbconvert_exporter": "python",
   "pygments_lexer": "ipython3",
   "version": "3.8.5"
  }
 },
 "nbformat": 4,
 "nbformat_minor": 5
}
