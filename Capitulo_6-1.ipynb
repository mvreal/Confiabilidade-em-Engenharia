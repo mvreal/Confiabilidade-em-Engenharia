{
 "cells": [
  {
   "cell_type": "markdown",
   "id": "ebd052e0",
   "metadata": {
    "id": "1dc445f3-8f0f-41b7-a0fa-541467a1d3db"
   },
   "source": [
    "### Universidade Federal do Rio Grande - FURG"
   ]
  },
  {
   "cell_type": "markdown",
   "id": "32a8467a",
   "metadata": {
    "id": "27d28d81-ad30-4559-b52d-0fee9ac96cae"
   },
   "source": [
    "### Escola de Engenharia - EE"
   ]
  },
  {
   "cell_type": "markdown",
   "id": "69825019",
   "metadata": {
    "id": "103a5401-6849-4ee0-a254-08a7f684a870"
   },
   "source": [
    "### Programa de Pós-graduação em Engenharia Oceânica - PPGEO"
   ]
  },
  {
   "cell_type": "markdown",
   "id": "5252d012",
   "metadata": {
    "id": "547b79f5-d7a3-4b02-8ce9-7c1647bff36b"
   },
   "source": [
    "### Disciplina: Confiabilidade em Engenharia"
   ]
  },
  {
   "cell_type": "markdown",
   "id": "897f5842",
   "metadata": {
    "id": "189e93bb-f3e5-4536-9aec-d09046d6929b"
   },
   "source": [
    "### Professor: Dr. Mauro de Vasconcellos Real"
   ]
  },
  {
   "cell_type": "markdown",
   "id": "868ca87f-48ee-493d-84ec-29d130abfedb",
   "metadata": {
    "tags": []
   },
   "source": [
    "# __Aula 11__"
   ]
  },
  {
   "cell_type": "code",
   "execution_count": 2,
   "id": "4743808b-ff9c-46a4-894c-326338165f75",
   "metadata": {},
   "outputs": [],
   "source": [
    "import numpy as np\n",
    "import matplotlib.pyplot as plt"
   ]
  },
  {
   "cell_type": "markdown",
   "id": "5b7adffe-4558-468c-b85f-18ecd68f2c0a",
   "metadata": {
    "id": "ce78f794-4773-4210-bf0c-d89fd0e707f7"
   },
   "source": [
    "# __Capítulo 6 - Simulação numérica e o Método de Monte Carlo__ <a name=\"section_6\"></a>"
   ]
  },
  {
   "cell_type": "markdown",
   "id": "01fbcc7e-2abf-4bc5-ac27-e153e42b4a31",
   "metadata": {
    "id": "3ce4b88f-bb46-49e3-b43f-b2c43671b855"
   },
   "source": [
    "[6.1 - Introdução](#section_61)  \n",
    "[6.2 - O essencial do Método de Simulações de Monte Carlo](#section_62)  \n",
    "[6.3 - Geração de números aleatórios](#section_63)  \n",
    "[6.4 - Determinação da probabilidade de falha através do Método de Monte Carlo](#section_64)   \n",
    "[6.5 - Aplicações do Método de Monte Carlo](#section_65)   \n",
    "[6.6 - Técnicas de redução de variância](#section_66)   \n",
    "[6.7 - Amostragem por importância](#section_67)   "
   ]
  },
  {
   "cell_type": "markdown",
   "id": "4c33fb1b",
   "metadata": {},
   "source": [
    "## __6.1 - Introdução__  <a name=\"section_61\"></a>"
   ]
  },
  {
   "cell_type": "markdown",
   "id": "09ae05d3-425e-4889-bc88-eb350d8feecf",
   "metadata": {},
   "source": [
    "* Simulação consiste em se tentar reproduzir o comportamento de um sistema através de um modelo físico ou matemático."
   ]
  },
  {
   "cell_type": "markdown",
   "id": "784462bf-5912-4dca-b8b7-38146fb5eac2",
   "metadata": {},
   "source": [
    "<img src=\"./images6/simulations.jpg\" alt=\"Simulações numéricas\" style=\"width:474px\"/>"
   ]
  },
  {
   "cell_type": "markdown",
   "id": "60e934d8-4e94-4ff2-ba39-d908fb101f44",
   "metadata": {},
   "source": [
    "Fonte: https://www.researchgate.net/publication/333496524/figure/fig2/AS:764445592649728@1559269440601/Examples-of-the-models-theories-and-case-studies-in-the-accepted-papers_W640.jpg"
   ]
  },
  {
   "cell_type": "markdown",
   "id": "87962e6f-7739-46b8-a3a8-703f62e772c9",
   "metadata": {},
   "source": [
    "* O progresso dos computadores digitais tem incentivado cada vez mais o uso de modelos numéricos.\n",
    "\n",
    "* A resposta de um modelo depende de seus parâmetros de entrada.\n",
    "\n",
    "* Se os parâmetros de entrada de um modelo são variáveis aleatórias, que possuem determinadas distribuições de probabilidade;\n",
    "\n",
    "* Então, a resposta do modelo também será uma variável aleatória."
   ]
  },
  {
   "cell_type": "markdown",
   "id": "6c8b92f8-2158-47c6-946f-efb0c21e0cbd",
   "metadata": {},
   "source": [
    "<img src=\"./images6/monte_carlo.jpg\" alt=\"Simulações de Monte Carlo\" style=\"width:474px\"/>"
   ]
  },
  {
   "cell_type": "markdown",
   "id": "d80913cc-634d-4147-8572-b200d1778488",
   "metadata": {},
   "source": [
    "* Apenas em alguns poucos casos é possível obter-se analiticamente a distribuição de probabilidade da resposta do sistema em função das distribuições de probabilidade das variáveis de entrada (ver Capítulo 4), como por exemplo no caso em que a função $Y$ é igual ao logaritmo neperiano de uma variável aleatória lognormal, conforme a figura abaixo.\n"
   ]
  },
  {
   "cell_type": "markdown",
   "id": "697127fe-902c-4928-b71f-25b4be2e9cac",
   "metadata": {},
   "source": [
    "<img src=\"./images6/lognormal.jpg\" alt=\"Função logarítmica\" style=\"width:800px\"/>"
   ]
  },
  {
   "cell_type": "markdown",
   "id": "4b1ad4c8-2210-4df0-8397-6a08743f280c",
   "metadata": {},
   "source": [
    "* Em geral:\n",
    "* As variáveis de entrada do sistema possuem distribuições de probabilidade as mais diversas. \n",
    "* A resposta do sistema é governada por uma função altamente não-linear.\n",
    "* Não existe uma função $Y=g(X_1,X_2,...,X_n)$ na forma explícita.\n",
    "* Então, não é possível obter-se uma solução analítica para a distribuição de probabilidade da resposta do sistema.\n",
    "* Surge, então, a necessidade da utilização de métodos numéricos que permitam obter uma estimativa da forma da distribuição de probabilidade da resposta do sistema e seus principais momentos, em função das distribuições de probabilidade dos parâmetros de entrada.\n"
   ]
  },
  {
   "cell_type": "markdown",
   "id": "bf1dd074-3986-483e-ab47-f091eaae6063",
   "metadata": {
    "tags": []
   },
   "source": [
    "* O __Método de Monte Carlo__ consiste basicamente em obter-se uma estimativa da distribuição de probabilidade da resposta de um sistema através das seguintes etapas:\n",
    "1. Geração aleatória dos parâmetros de entrada, de acordo com as suas distribuições de probabilidade específicas;\n",
    "2. Realização de inúmeras simulações com um modelo numérico a partir destes dados; \n",
    "3. Análise estatística das diversas respostas encontradas.\n",
    "\n",
    "* A Figura abaixo ilustra o funcionamento do Método de Monte Carlo:"
   ]
  },
  {
   "cell_type": "markdown",
   "id": "90860d98-289b-4283-84b7-e9e4bc3d65b1",
   "metadata": {},
   "source": [
    "<img src=\"./images6/monte_carlo_fluxograma.jpg\" alt=\"Fluxograma do Método de Monte Carlo\" style=\"width:474px\"/>"
   ]
  },
  {
   "cell_type": "markdown",
   "id": "d3093832-d3ca-4ec5-9683-a185b49fbaac",
   "metadata": {
    "tags": []
   },
   "source": [
    "[Retornar ao início da aula](#section_6)"
   ]
  },
  {
   "cell_type": "markdown",
   "id": "5fdab05a-34f5-4a57-9a97-eb45db7c42d2",
   "metadata": {
    "tags": []
   },
   "source": [
    "## __6.2 - O essencial do Método de Simulação de Monte Carlo__  <a name=\"section_62\"></a>"
   ]
  },
  {
   "cell_type": "markdown",
   "id": "3c79edab-91cb-4851-8a7e-df1cf49fe567",
   "metadata": {},
   "source": [
    "* O princípio do Método de Monte Carlo é desenvolver um modelo numérico para representar o comportamento de um sistema de Engenharia."
   ]
  },
  {
   "cell_type": "markdown",
   "id": "65620d14-bf8f-45a9-8898-11fe51c7c2f4",
   "metadata": {},
   "source": [
    "<img src=\"./images6/modelo_plataforma.jpg\" alt=\"Modelo de plataforma\" style=\"width:600px\"/>"
   ]
  },
  {
   "cell_type": "markdown",
   "id": "2caf8c0b-5fe8-4ae8-853c-c628bad5b2bc",
   "metadata": {},
   "source": [
    "Fonte: (a) https://en.wikipedia.org/wiki/File:Gulf_Offshore_Platform.jpg"
   ]
  },
  {
   "cell_type": "markdown",
   "id": "034e58af-5b20-40e9-af7f-f29d7e4f644b",
   "metadata": {},
   "source": [
    "* Se os parâmetros de entrada do modelo forem variáveis aleatórias, suas distribuições de probabilidade devem ser especificadas."
   ]
  },
  {
   "cell_type": "markdown",
   "id": "ae6053ce-464f-41cc-ba83-f7698ab92a6c",
   "metadata": {},
   "source": [
    "<img src=\"./images6/probability_distributions.jpg\" alt=\"Distribuições de probabilidade\" style=\"width:600px\"/>"
   ]
  },
  {
   "cell_type": "markdown",
   "id": "41409cfc-20ba-4f40-bc0c-4c77b18ac5b3",
   "metadata": {},
   "source": [
    "* Um conjunto de dados de entrada deve ser gerado aleatoriamente a partir das distribuições de probabilidade especificadas.\n",
    "\n",
    "* Uma análise do sistema deve ser realizada através do modelo, utilizando os dados de entrada gerados aleatoriamente.  \n",
    "\n",
    "* Cada análise do sistema é chamada de simulação."
   ]
  },
  {
   "cell_type": "markdown",
   "id": "5609dd1e-7443-40d6-9138-54af96d63079",
   "metadata": {},
   "source": [
    "<img src=\"./images6/entrada_modelo_saida.jpg\" alt=\"Entrada-Modelo-Resposta\" style=\"width:600px\"/>"
   ]
  },
  {
   "cell_type": "markdown",
   "id": "1c0f2add-a0dc-4bd4-9da4-3d6dcca22b77",
   "metadata": {},
   "source": [
    "* As simulações são realizadas $n$ vezes.\n",
    "* Em cada simulação são empregados dados de entrada aleatórios diferentes.\n",
    "* No final tem-se uma amostra de $n$ respostas diferentes do sistema armazenada $(y_1, y_2,..., y_n)$.\n"
   ]
  },
  {
   "cell_type": "markdown",
   "id": "978e7f2b-348d-4fad-8536-8026b0c0a2e4",
   "metadata": {},
   "source": [
    "<img src=\"./images6/resposta_aleatoria.jpg\" alt=\"Resposta aleatória do sistema\" style=\"width:474px\"/>"
   ]
  },
  {
   "cell_type": "markdown",
   "id": "ae8b4e3a-110e-48a5-8e39-94b9ad991078",
   "metadata": {},
   "source": [
    "* Análise estatística da resposta do sistema.\n",
    "\n",
    "Média:\n",
    "\n",
    "$$\\mu_Y = \\frac{1}{N}\\sum_{i=1}^{n}y_i$$\n",
    "\n",
    "Desvio padrão:\n",
    "\n",
    "$$\\sigma_Y = \\sqrt{\\sum_{i=1}^{n}\\frac{(y_i-\\mu_Y)^2}{n-1}}$$"
   ]
  },
  {
   "cell_type": "markdown",
   "id": "484ae267-16d9-4a4e-be14-f4ae9c46c798",
   "metadata": {},
   "source": [
    "* A precisão do Método de Monte Carlo depende do número $n$ de simulações realizadas!\n",
    "\n",
    "* Quanto maior o número de simulações, maior o tempo de processamento numérico necessário."
   ]
  },
  {
   "cell_type": "markdown",
   "id": "21d49b16-372f-4905-9193-c9e4658845f2",
   "metadata": {},
   "source": [
    "#### Etapas do Método de Monte Carlo:\n",
    "\n",
    "1. Elaborar um modelo matemático para o sistema: $Y = g(X_1, X_2,..., X_n)$.\n",
    "\n",
    "2. Gerar um conjunto de dados de entrada aleatórios: $X = (X_1, X_2, ..., X_n)$\n",
    "\n",
    "3. Realizar a análise do sistema através do modelo e armazenar as respostas: $Y =(Y_1, Y_2, ..., Y_n)$\n",
    "\n",
    "4. Repetir os passos 2 e 3, para i =1 até N.\n",
    "\n",
    "5. Analisar os resultados obtidos para a resposta do sistema usando histogramas, estatística descritiva (média, desvio-padrão,...), intervalos de confiança, etc."
   ]
  },
  {
   "cell_type": "markdown",
   "id": "aa210e12",
   "metadata": {
    "tags": []
   },
   "source": [
    "[Retornar ao início da aula](#section_6)"
   ]
  },
  {
   "cell_type": "markdown",
   "id": "a4f45213-ae03-4087-bc28-26926067e077",
   "metadata": {
    "tags": []
   },
   "source": [
    "## __6.3 - Geração de números aleatórios__  <a name=\"section_63\"></a>"
   ]
  },
  {
   "cell_type": "markdown",
   "id": "586482a7-74e0-4abc-aec3-d921bf3cd942",
   "metadata": {
    "tags": []
   },
   "source": [
    "### 6.3.1 - Geração de números aleatórios de distribuição uniforme\n",
    "\n",
    "* A utilização do Método de Monte Carlo está vinculada à capacidade de se gerar números aleatórios no computador.\n",
    "\n",
    "* A geração de números aleatórios no computador normalmente está baseada em algoritmos recursivos capazes de gerar números uniformemente distribuídos entre $0$ e $1$. \n",
    "\n",
    "* Um dos algoritmos geradores de números aleatórios mais utilizados são os do tipo __gerador linear congruencial__. No entanto, a sequência de números fornecida por este tipo de gerador é, na realidade, determinística e reproduzível, dependendo apenas das constantes iniciais fornecidas ao gerador, por isto os números gerados por estes algoritmos são chamados de _pseudo-aleatórios_.\n",
    "\n",
    "* No entanto, a maioria das linguagens de programação atuais possuem geradores de números aleatórios pré-definidos, que são capazes de gerar sequências de números aleatórios suficientemente grandes para as principais aplicações práticas. Maiores detalhes sobre a geração de números randômicos podem ser encontrados no livro de BECK, listado na bibliografia abaixo."
   ]
  },
  {
   "cell_type": "markdown",
   "id": "3fe8fef2-5b83-4d35-bc78-d7890a8fc2bd",
   "metadata": {},
   "source": [
    "### 6.3.2 - Geração de números aleatórios - Técnica da Transformação Inversa\n",
    "\n",
    "* O __Método da Transformação Inversa__ para a geração de números aleatórios segundo uma distribução qualquer $F_X(x)$ consiste de quatro passos:\n",
    "\n",
    "1. Gerar um Gerar um número aleatório $u_i$, com distribuição uniforme entre $0$ e $1$.\n",
    "\n",
    "2. Este número pode ser considerado como igual à própria distribuição de probabilidade acumulada $F_U(u_i)$ de uma distribuição uniforme: $F_U(u_i) = u_i$.\n",
    "\n",
    "3. Igualar as probabilidades acumuladas: $F_X(x_i) = F_U(u_i)$\n",
    "\n",
    "4. Determinar o valor de $x_i$ correspondente: $x_i = F_X^{-1}(u_i)$\n",
    "\n",
    "Este procedimento é ilustrado na Figura abaixo."
   ]
  },
  {
   "cell_type": "markdown",
   "id": "27339ac7-378e-43db-b7ac-24dd1e6545a4",
   "metadata": {},
   "source": [
    "<img src=\"./images6/transformacao_inversa.jpg\" alt=\"Método da Transformação Inversa\" style=\"width:800px\"/>"
   ]
  },
  {
   "cell_type": "markdown",
   "id": "3c2a2477-3299-4034-8b21-a983eb2b1393",
   "metadata": {},
   "source": [
    "Fonte: HALDAR, A. MAHADEVAN, S. Probability, reliability, and statistical methods in engineering design. New York, Wiley, 2000."
   ]
  },
  {
   "cell_type": "markdown",
   "id": "a74bb286-38c0-4b58-abdf-c968b413497e",
   "metadata": {
    "tags": []
   },
   "source": [
    "#### Exemplo 6.1 - Distribuição de Valores Extremos do Tipo I - Gumbel\n",
    "\n",
    "* Se $Y_n$ é uma variável aleatória com distribuição de valores extremos do Tipo I (Gumbel) para valores máximos, então:\n",
    "\n",
    "$$F_{Y_n}(y) = \\exp{\\left[-\\exp{-\\alpha_n(y - u_n)}\\right]}$$\n",
    "\n",
    "* Gerar números aleatórios com esta distribuição a partir do Método da Transformação Inversa:\n",
    "\n",
    "1. Gerar um Gerar um número aleatório $u_i$, com distribuição uniforme entre $0$ e $1$.\n",
    "\n",
    "2. Admitir que: $F_U(u_i) = u_i$.\n",
    "\n",
    "3. Igualar as probabilidades acumuladas:\n",
    "\n",
    "$$u_i = F_U(u_i) = F_{Y_n}(y_i)$$\n",
    "\n",
    "$$u_i = F_U(u_i) = \\exp{\\left[-e^{-\\alpha_n(y_i - u_n)}\\right]}$$\n",
    "\n",
    "4. Determinar o valor de $y_i$ correspondente: $y_i = F_{Y_n}^{-1}(u_i)$\n",
    "\n",
    "$$\\ln(u_i) = -e^{-\\alpha_n(y - u_n)}$$\n",
    "\n",
    "$$\\ln\\left[\\frac{1}{\\ln\\left(\\frac{1}{u_i}\\right)}\\right] = \\alpha_n(y_i-u_i)$$\n",
    "\n",
    "$$y_i = u_n + \\frac{1}{\\alpha_n}\\ln\\left[\\frac{1}{\\ln\\left(\\frac{1}{u_i}\\right)}\\right]$$ \n",
    "\n",
    "\n",
    "* Dados: $\\mu_{Y_n} = 100$ e $\\sigma_{Y_n} = 20$\n",
    "\n",
    "* $u_n$ é o valor mais provável de $Y_n$ (moda).\n",
    "\n",
    "* $\\alpha_n$ é o inverso de uma medida de dispersão dos valores de $Y_n$.\n",
    "\n",
    "$$u_n = \\mu_{Y_n} - \\frac{\\gamma}{\\alpha_n} = 90,9989$$\n",
    "\n",
    "$$\\alpha_n = \\sqrt{\\frac{\\pi^2}{6\\sigma_{Y_n}^2}} = 0,0641$$\n",
    "\n",
    "* Onde $\\gamma = 0,577216$ é o número de Euler.\n",
    "\n",
    "* Fórmula geradora:\n",
    "\n",
    "$$y_i = 90,9989 + \\frac{1}{0,0641}\\ln\\left[\\frac{1}{\\ln\\left(\\frac{1}{u_i}\\right)}\\right]$$ "
   ]
  },
  {
   "cell_type": "code",
   "execution_count": 13,
   "id": "3c75f077-ff92-41bd-b08d-1148bfacb6bf",
   "metadata": {},
   "outputs": [
    {
     "data": {
      "image/png": "[encoded data removed]",
      "text/plain": [
       "<Figure size 612x432 with 1 Axes>"
      ]
     },
     "metadata": {
      "needs_background": "light"
     },
     "output_type": "display_data"
    }
   ],
   "source": [
    "\"\"\"\n",
    "Geração de números aleatórios com a distribuição de Gumbel\n",
    "\"\"\"\n",
    "# Dados de entrada\n",
    "n = 10_000\n",
    "mu_yn = 100.00 \n",
    "sigma_yn = 20.00\n",
    "gamma = 0.577216\n",
    "# Parâmetros da distribuição de Gumbel\n",
    "alpha_n = np.pi / (np.sqrt(6) * sigma_yn)\n",
    "u_n = mu_yn - gamma / alpha_n\n",
    "# Geração de números com distribuição uniforme entre 0 e 1\n",
    "u_i = np.random.rand(n)\n",
    "# Geração de número com distribuição de Gumbel\n",
    "y_i = u_n + 1 / alpha_n * np.log(1 / np.log(1 / u_i))\n",
    "# Histograma dos valores de yi\n",
    "plt.figure(figsize=(8.5, 6))\n",
    "fy = plt.hist(y_i, bins=40, density=True)\n",
    "# Exact pdf for Gumbel\n",
    "y = np.linspace(min(y_i),max(y_i), 1000)\n",
    "pdf_y = alpha_n * np.exp(- alpha_n * (y - u_n))*np.exp(- np.exp(- alpha_n*(y - u_n)))\n",
    "plt.plot(y, pdf_y, color='red', label=\"Exact\")\n",
    "plt.xlabel(r'$y_i$')\n",
    "plt.ylabel(r'$f_{Y_n}(y)$')\n",
    "plt.legend(loc='upper right', fontsize=\"14\")\n",
    "plt.title('Gumbel  Distribution')\n",
    "plt.text(150, 0.017, r\"$n$ = 10000\", fontsize=\"14\")\n",
    "plt.text(150, 0.015, r\"$u_n$ = 90,9989\", fontsize=\"14\")\n",
    "plt.text(150, 0.013, r\"$\\alpha_n$ = 0,0641\", fontsize=\"14\")\n",
    "plt.xlim(50, 250)\n",
    "plt.tight_layout()\n",
    "plt.show()"
   ]
  },
  {
   "cell_type": "markdown",
   "id": "74c39f3b-44e3-44f7-8dff-89da4e040d02",
   "metadata": {},
   "source": [
    "### 6.3.3 Geração de números aleatórios com distribuição conjunta\n",
    "\n",
    "* Seja  $X_1, X_2, ..., X_n$ um conjunto de $n$ varáveis aleatórias.\n",
    "\n",
    "#### Geração de variáveis estatisticamente independentes:\n",
    "\n",
    "* Se as variáveis forem __estatisticamente independentes__, a função densidade de probabilidade conjunta será:\n",
    "\n",
    "$$f_{X_1, X_2, ..., X_n}(x_1, x_2,..., x_n) = \\prod_{i=1}^n f_{X_i}(x_i)$$\n",
    "\n",
    "* Onde $f_{X_i}(x_i)$ é a função densidade marginal de $X_i$.\n",
    "\n",
    "* No caso de variáveis aleatórias independentes os números randômicos podem ser gerados separadamente e independentemente para cada variável, usando o Método da Transformação Inversa, por exemplo:\n",
    "\n",
    "* Para $i = 1$ até $n$: $x_i = F_{X_i}^{-1}(u_i)$\n",
    "\n",
    "#### Geração de variáveis aleatórias correlacionadas:\n",
    "\n",
    "* Se as variáveis $X_1, X_2, ..., X_n$ forem dependentes sua função densidade de probabilidade conjunta será dada por:\n",
    "\n",
    "$$f_{X_1, X_2, ..., X_n}(x_1, x_2,..., x_n) = f_{X_1}(x_1) f_{X_2}(x_2|x_1)...f_{X_n}(x_n|x_1,x_2,...,x_{n-1})$$\n",
    "\n",
    "Onde:\n",
    "\n",
    "$f_{X_1}(x_1)$ é a função densidade de probabilidade marginal de $X_1$;\n",
    "\n",
    "$f_{X_n}(x_n|x_1,x_2,...,x_{n-1}$ é a função densidade de probabilidade condicional $X_k$, dado que: $X_1 = x_1, X_2 = x_2,..., X_{k-1} = x_{k-1}$.\n",
    "\n",
    "* A função densidade de probabilidade acumulada conjunta será:\n",
    "\n",
    "$$F_{X_1, X_2, ..., X_n}(x_1, x_2,..., x_n) = F_{X_1}(x_1) F_{X_2}(x_2|x_1)...F_{X_n}(x_n|x_1,x_2,...,x_{n-1})$$\n",
    "\n",
    "Onde:\n",
    "\n",
    "$F_{X_1}(x_1)$ é a função densidade de probabilidade acumulada (FDPA) marginal de $X_1$;\n",
    "\n",
    "$F_{X_n}(x_n|x_1,x_2,...,x_{n-1}$ é a função densidade de probabilidade acumulada (FDPA) condicional $X_k$, dado que: $X_1 = x_1, X_2 = x_2,..., X_{k-1} = x_{k-1}$.\n",
    "\n",
    "* No caso de variáveis correlacionadas os números randômicos não podem ser gerados de forma independente para cada variável.\n",
    "\n",
    "* Em primeiro lugar é necessários gerar um conjunto de números aleatórios de distribuição uniforme: $(u_1, u_2, ..., u_n)$\n",
    "\n",
    "* O valor de $x_1$ pode ser determinado de forma independente: $x_1 = F_{X_1}(u_1)$\n",
    " \n",
    "* Conhecido o valor de $x_1$, a função FDPA condicional de $X_2$: $F_{X_2}(x_2|x_1)$ será uma função somente de $x_2$. Portanto, $x_2$ pode ser obtido a partir de: $x_2 = F_{X_2}^{-1}(u_2|x_1)$\n",
    "\n",
    "* Sucessivamente, com os valores $x_1, x_2,..., x_{k-1}$ já obtidos, determina-se o valor de $x_k$ através de: $x_{k} = F_{X_k}^{-1}(u_k|x_1, x_2,...,x_{k-1})$\n",
    "\n",
    "* O conjunto de valores  $(x_1, x_2,..., x_n)$ das variáveis correlacionadas são obtidos, então, de forma recursiva.\n",
    "\n",
    "* Este método será eficiente se as funções inversas de $F_{X_1}(x_1) \\rightarrow x_1 = F_{X_1}^{-1}(u_1)$ e de $F_{X_k}(x_k|x_1,x_2,...,x_{k-1}) \\rightarrow x_{k} = F_{X_k}^{-1}(u_k|x_1, x_2,...,x_{k-1})$, puderem ser obtidas de forma analítica. Como este usualmente não é o caso, é mais comum empregar-se o __Modelo de Nataf__ descrito a seguir."
   ]
  },
  {
   "cell_type": "markdown",
   "id": "f1eb823e-ec16-426b-9608-35a368fa6846",
   "metadata": {},
   "source": [
    "### 6.3.4 - Modelo de Nataf\n",
    "\n",
    "* O __Modelo de Nataf__ permite a geração de amostras de variáveis aleatórias correlacionadas, quando as distribuições de probabilidade condicionais necessárias a aplicação do método exposto no item 6.3.3 não estão disponíveis na forma analítica, ou quando suas funções inversas não podem ser obtidas de forma simples (BECK, 2019).\n",
    "\n",
    "* O __Modelo de Nataf__ pode ser descrito através da aplicação dos seguintes passos:\n",
    "\n",
    "1. Em primeiro lugar é gerada uma amostra de números aleatórios de distribuição normal padronizada, não correlacionados, de média zero e variância unitária, na forma de um vetor: $\\textbf{y}_k =\\{y_1,y_2,...,y_n\\}_k^t$.\n",
    "\n",
    "2. Monta-se uma matriz de correlação $\\textbf{R}_\\textbf{X}$, $n \\times n$, entre as variáveis $X_1, X_2, ..., X_n$ dada na forma:\n",
    "\n",
    "\n",
    "$$\\textbf{R}_\\textbf{X}=\\left[\\begin{array}{cccc} 1           & \\rho_{X_{12}} & ...  & \\rho_{X_{1n}} \\\\\n",
    "                                            \\rho_{X_{21}} & 1           & ... & \\rho_{X_{2n}} \\\\\n",
    "                                            ...         & ...         & ... & ...         \\\\\n",
    "                                            \\rho_{X_{n1}} & \\rho_{X_{n2}} & ... & 1 \\end{array}\\right]$$\n",
    "                                            \n",
    "Onde: $\\rho_{X_{ij}}$ é o coeficiente de correlação linear entre as variáveis $X_i$ e $X_j$, conforme mostrado  no Capítulo 4.\n",
    "\n",
    "3. Através da __Transformação de Nataf__ (ver BECK, 2019) é possível transformar-se a matriz de correlação $\\textbf{R}_\\textbf{X}$ , entre as variáveis $X_1, X_2, ..., X_n$, na matriz de covariância $\\textbf{C}_\\textbf{Z}$ entre as variáveis normais padronizadas correlacionadas $Z_1, Z_2, ..., Z_n$, de média zero e variância unitária, equivalentes. Na prática os valores dos coeficientes de correlação linear entre as variáveis correlacionadas $X_i$ e $X_j$ são estabelecidos a partir de poucas observações experimentais ou através da experiência do analista com este tipo de dados. Além disso, os valores dos coeficientes de correlação linear obtidos a partir da __Transformação de Nataf__, designados por $\\rho_{Z_{ij}}$, de um modo geral são muito próximos dos valores originais $\\rho_{X_{ij}}$. Com base nestas duas constatações, na maioria dos casos práticos, é possível fazer-se:\n",
    "\n",
    "$$\\textbf{C}_Z \\approxeq \\textbf{R}_X$$\n",
    "\n",
    "\n",
    "\n",
    "4. Através da __decomposição de Cholesky__ da matriz de covariância $\\textbf{C}_\\textbf{Z}$ é obtida uma matriz triangular inferior $\\textbf{L}$, que é igual a matriz jacobiana $\\textbf{J}_{zy}$, que permite transformar as variáveis normais padronizadas não correlacionadas $\\textbf{y}_k$ nas variáveis normais padronizadas correlacionadas $\\textbf{z}_k$:\n",
    "\n",
    "$$\\textbf{z}_k = \\textbf{J}_{zy} \\textbf{y}_k = \\textbf{L}\\textbf{ y}_k$$\n",
    "\n",
    "5. Conhecida a amostra $\\textbf{z}_k$ é possível obterem-se as probabilidades acumuladas correpondentes através de:\n",
    "\n",
    "$$\\textbf{u}_k = \\{u_1, u_2, ..., u_n\\}_k^t = \\{\\Phi(z_i)\\}_{i=1, 2, ..., n}^t$$\n",
    "\n",
    "6. A amostra de variáveis correlacionadas com distribuições quaisquer $\\textbf{x}_k$ é obtida através da aplicação do __Método da Transformação Inversa__, a cada um dos elementos do vetor de probabilidades acumuladas $\\textbf{u}_k$, na forma:\n",
    "\n",
    "$$\\textbf{x}_k = \\{x_1, x_2, ..., x_n\\}_k^t = \\{F_X^{-1}(u_i)\\}_{i=1,2,...,n}^t = \\{F_X^{-1}\\left[\\Phi(z_i)\\right]\\}_{i=1,2,...,n}^t$$"
   ]
  },
  {
   "cell_type": "markdown",
   "id": "44b61526-a963-42b8-bf1b-c4c0ae297436",
   "metadata": {
    "tags": []
   },
   "source": [
    "#### Exemplo 6.2 - Variáveis aleatórias normais correlacionadas\n",
    "\n",
    "* Sejam X e Y duas variáveis aleatórias de distribuição normal correlacionadas.\n",
    "\n",
    "* A função densidade de probabilidade conjunta pode ser escrita na forma:\n",
    "\n",
    "$$f_{XY}(x,y) = f_{Y|X}(y|x)f_X(x)$$\n",
    "\n",
    "* Onde a função densidade de probabilidade marginal de $X$ é dada por:\n",
    "\n",
    "$$f_X(x) = \\frac{1}{\\sqrt{2\\pi}\\sigma_X}\\exp{\\left[-\\frac{1}{2}\\left(\\frac{x-\\mu_X}{\\sigma_X}\\right)^2\\right]}$$\n",
    "\n",
    "\n",
    "* E a função densidade condicional conjunta é dada por:\n",
    "\n",
    "$$f_{Y|X}(y|x) = \\frac{1}{\\sqrt{2\\pi}\\sigma_Y\\sqrt{1-\\rho^2}}\\exp{\\left\\{-\\frac{1}{2}\\left[\\frac{y-\\mu_y-\\rho\\frac{\\sigma_X}{\\sigma_Y}(x-\\mu_x)}{\\sigma_Y\\sqrt{1-\\rho^2}}\\right]^2\\right\\}}$$\n",
    "\n",
    "* A média condicional de $Y$, se $X=x$, será:\n",
    "\n",
    "$$E(Y|X=x)= y-\\mu_y-\\rho\\frac{\\sigma_X}{\\sigma_Y}(x-\\mu_x)$$\n",
    "\n",
    "O desvio padrão condicional de $Y$, se $X=x$, será:\n",
    "\n",
    "$$\\sigma(Y|X=x) = \\sigma_Y\\sqrt{1-\\rho^2}$$\n",
    "\n",
    "##### Geração de variáveis normais correlacionadas:\n",
    "\n",
    "1. Geram-se dois números aleatórios de distribuição uniforme $u_1$ e $u_2$.\n",
    "\n",
    "2. O valor de x pode ser obtido a partir de:\n",
    "\n",
    "$$ x = \\mu_X + \\sigma_X \\sqrt{-2\\ln(u_1)}\\cos(2\\pi u_2)$$\n",
    "\n",
    "3. O valor de $y$ pode ser obtido a partir de :\n",
    "\n",
    "$$ y = \\mu_{Y|X} + \\sigma_{Y|X}\\sqrt{-2\\ln(u_1)}\\sin(2\\pi u_2)$$\n",
    "\n",
    "##### Exemplo:\n",
    "\n",
    "* Dados:\n",
    "\n",
    "* $mu_X = 150$ e $\\sigma_X = 20$\n",
    "* $mu_Y = 120$ e $\\sigma_Y = 25$\n",
    "* $\\rho = 0,75$\n",
    "\n",
    "* Solução:\n",
    "\n",
    "$$x = 150 + 20\\sqrt{-2\\ln(u_1)}\\cos(2\\pi u_2)$$\n",
    "\n",
    "$$\\mu_{Y|X} = \\mu_Y + \\rho\\frac{\\sigma_Y}{\\sigma_X}(x - \\mu_X) = 120 + 0,75\\frac{25}{20}(x-150)$$\n",
    "\n",
    "$$\\sigma_{Y|X} = \\sigma_Y\\sqrt{1-\\rho^2} = 25\\sqrt{1-0,75^2} = 16,5359$$\n",
    "\n",
    "$$y = \\mu_{Y|X} + 16,5359\\sqrt{-2\\ln(u_1)}\\sin(2\\pi u_2)$$"
   ]
  },
  {
   "cell_type": "code",
   "execution_count": 15,
   "id": "6f36ce6f-fa42-47bd-a6d1-d304fe57cd88",
   "metadata": {},
   "outputs": [
    {
     "data": {
      "image/png": "[encoded data removed]",
      "text/plain": [
       "<Figure size 684x288 with 2 Axes>"
      ]
     },
     "metadata": {
      "needs_background": "light"
     },
     "output_type": "display_data"
    }
   ],
   "source": [
    "\"\"\"\n",
    "Geração de variáveis normais correlacionadas\n",
    "\"\"\"\n",
    "#Dados de entrada:\n",
    "n = 100000\n",
    "mu_x = 150\n",
    "sigma_x = 20\n",
    "mu_y = 120\n",
    "sigma_y = 25\n",
    "rho = 0.75\n",
    "# Geração de números randômicos de distribuição uniforme\n",
    "u1 = np.random.rand(n)\n",
    "u2 = np.random.rand(n)\n",
    "# Geração de variáveis normais correlacionadas x e y\n",
    "x = mu_x + sigma_x * np.sqrt(- 2 * np.log(u1)) * np.cos(2 * np.pi * u2)\n",
    "mu_yx = mu_y + rho * sigma_y / sigma_x * (x - mu_x)\n",
    "sigma_yx = sigma_y * np.sqrt(1 - rho ** 2)\n",
    "y = mu_yx + sigma_yx * np.sqrt(- 2 * np.log(u1)) * np.sin(2 * np.pi * u2)\n",
    "# Histogramas \n",
    "# Histograma dos valores de yi\n",
    "plt.figure(1, figsize=(9.5, 4))\n",
    "plt.subplot(1, 2, 1)\n",
    "fx = plt.hist(x, bins=40, density=True)\n",
    "plt.xlabel(r'$x$')\n",
    "plt.ylabel(r'$f_{X}(x)$')\n",
    "plt.title('Variável $X$')\n",
    "plt.subplot(1, 2, 2)\n",
    "fx = plt.hist(y, bins=40, density=True, color=\"red\")\n",
    "plt.xlabel(r'$y$')\n",
    "plt.ylabel(r'$f_{Y|X}(y)$')\n",
    "plt.title('Variável $Y$')\n",
    "plt.tight_layout()\n",
    "plt.show()"
   ]
  },
  {
   "cell_type": "markdown",
   "id": "30a7fc90",
   "metadata": {},
   "source": [
    "## __Bibliografia__"
   ]
  },
  {
   "cell_type": "markdown",
   "id": "e8f44e93",
   "metadata": {},
   "source": [
    "* __Livros__\n",
    "* ANG,  A.  H-S.; TANG,  W. H.. Probability concepts in engineering planning and design. Volume I:  basic principles. New  York, John Wiley & Sons, 1975.\n",
    "* ANG,  A.  H-S.; TANG,  W. H.. Probability concepts in engineering planning and design. Volume II: decision, risk and reliability. New  York, John Wiley & Sons, 1984.\n",
    "* ANG,  A.  H-S.; TANG,  W. H.. Probability concepts in engineering: Emphasis on applications to Civil and Enviromental Engineering.  2nd ed. Hoboken, NJ, John Wiley & Sons, 2007.\n",
    "* BECK, A. T. Confiabilidade e segurança das  estruturas. Rio de Janeiro, Elsevier, 2019.\n",
    "* HALDAR, A. MAHADEVAN, S. Probability, reliability, and statistical methods in engineering design. New York, Wiley, 2000.\n",
    "* MELCHERS, R.E., BECK, A. T.; Structural reliability analysis and prediction. 3rd ed. John Wiley and Sons, 2018, 514p."
   ]
  },
  {
   "cell_type": "code",
   "execution_count": null,
   "id": "90237a3a-dbfd-48a8-97c0-8f01b0c2cc5b",
   "metadata": {},
   "outputs": [],
   "source": []
  }
 ],
 "metadata": {
  "colab": {
   "name": "Capítulo_5.ipynb",
   "provenance": []
  },
  "interpreter": {
   "hash": "f189cad14bda9570c78e3484cdd4044273f5880bd3757c16e7bdbbda1060b186"
  },
  "kernelspec": {
   "display_name": "Python 3 (ipykernel)",
   "language": "python",
   "name": "python3"
  },
  "language_info": {
   "codemirror_mode": {
    "name": "ipython",
    "version": 3
   },
   "file_extension": ".py",
   "mimetype": "text/x-python",
   "name": "python",
   "nbconvert_exporter": "python",
   "pygments_lexer": "ipython3",
   "version": "3.8.5"
  }
 },
 "nbformat": 4,
 "nbformat_minor": 5
}
