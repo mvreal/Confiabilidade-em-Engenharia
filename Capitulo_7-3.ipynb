{
 "cells": [
  {
   "cell_type": "markdown",
   "id": "ebd052e0",
   "metadata": {
    "id": "1dc445f3-8f0f-41b7-a0fa-541467a1d3db"
   },
   "source": [
    "### Universidade Federal do Rio Grande - FURG"
   ]
  },
  {
   "cell_type": "markdown",
   "id": "32a8467a",
   "metadata": {
    "id": "27d28d81-ad30-4559-b52d-0fee9ac96cae"
   },
   "source": [
    "### Escola de Engenharia - EE"
   ]
  },
  {
   "cell_type": "markdown",
   "id": "69825019",
   "metadata": {
    "id": "103a5401-6849-4ee0-a254-08a7f684a870"
   },
   "source": [
    "### Programa de Pós-graduação em Engenharia Oceânica - PPGEO"
   ]
  },
  {
   "cell_type": "markdown",
   "id": "5252d012",
   "metadata": {
    "id": "547b79f5-d7a3-4b02-8ce9-7c1647bff36b"
   },
   "source": [
    "### Disciplina: Confiabilidade em Engenharia"
   ]
  },
  {
   "cell_type": "markdown",
   "id": "897f5842",
   "metadata": {
    "id": "189e93bb-f3e5-4536-9aec-d09046d6929b"
   },
   "source": [
    "### Professor: Dr. Mauro de Vasconcellos Real"
   ]
  },
  {
   "cell_type": "markdown",
   "id": "868ca87f-48ee-493d-84ec-29d130abfedb",
   "metadata": {
    "tags": []
   },
   "source": [
    "# __Aula 14__"
   ]
  },
  {
   "cell_type": "code",
   "execution_count": 1,
   "id": "4743808b-ff9c-46a4-894c-326338165f75",
   "metadata": {},
   "outputs": [],
   "source": [
    "import numpy as np\n",
    "import matplotlib.pyplot as plt\n",
    "from scipy import linalg\n",
    "from scipy.stats import norm\n",
    "from scipy.stats import skew\n",
    "from scipy.stats import lognorm\n",
    "from scipy.stats import gumbel_r\n",
    "from scipy.stats import invweibull\n",
    "from scipy import optimize\n",
    "from scipy.special import gamma"
   ]
  },
  {
   "cell_type": "markdown",
   "id": "5b7adffe-4558-468c-b85f-18ecd68f2c0a",
   "metadata": {
    "id": "ce78f794-4773-4210-bf0c-d89fd0e707f7"
   },
   "source": [
    "# __Capítulo 7 - Confiabilidade e Projeto baseado em Confiabilidade__ <a name=\"section_7\"></a>"
   ]
  },
  {
   "cell_type": "markdown",
   "id": "01fbcc7e-2abf-4bc5-ac27-e153e42b4a31",
   "metadata": {
    "id": "3ce4b88f-bb46-49e3-b43f-b2c43671b855",
    "tags": []
   },
   "source": [
    "[7.5 - Algoritmo de Hasofer-Lind-Rackwitz-Fiessler melhorado (iHLRF)](#section_75)  "
   ]
  },
  {
   "cell_type": "markdown",
   "id": "4c33fb1b",
   "metadata": {
    "tags": []
   },
   "source": [
    "## __7.5 - Algoritmo de Hasofer-Lind-Rackwitz-Fiessler melhorado (iHLRF)__  <a name=\"section_75\"></a>"
   ]
  },
  {
   "cell_type": "markdown",
   "id": "49b7ee4c-ff8b-407e-8c69-f53f87a3648a",
   "metadata": {},
   "source": [
    "* O algoritmo de Hasofer-Lind-Rackwitz-Fiessler (HLRF), visto no item 7.3, pode ser aperfeiçoado através da utilização de uma busca linear para ajuste do tamanho do passo na direção do ponto de projeto $\\textbf{x}^{\\prime *}$, conforme ZHANG e DER KIUREGHIAN (1997) e SUDRET e DER KIUREGHIAN (2000).\n",
    "\n",
    "* Inicialmente a direção de busca é dada pela equação abaixo, conforme o algoritmo HLRF original:\n",
    "\n",
    "$$ \\textbf{d}_k = \\textbf{x}_{k+1}^{\\prime} - \\textbf{x}_{k}^{\\prime} =   \\frac{\\left[\\nabla{g}(\\textbf{x}_{k}^{\\prime})^{t}\\textbf{x}_{k}^{\\prime} - g(\\textbf{x}_{k}^{\\prime})\\right]}{||\\nabla{g}(\\textbf{x}_k^{\\prime})||^2}\\nabla{g}(\\textbf{x}_{k}^{\\prime}) - \\textbf{x}_{k}^{\\prime}$$\n",
    "\n",
    "* O novo ponto de projeto (ponto mais provável de falha) $\\textbf{x}_{k+1}^{\\prime}$ será dado por:\n",
    "\n",
    "$$\\textbf{x}_{k+1}^{\\prime} = \\textbf{x}_{k}^{\\prime} + \\lambda_k \\textbf{d}_k$$\n",
    "\n",
    "* Onde no algoritmo original o escalar $\\lambda_k$, que regula o tamanho do passo na direção de busca do ponto de projeto, assume um valor unitário, ou seja, $\\lambda_k = 1$.\n",
    "\n",
    "* No algoritmo iHLRF ( sendo o _i_ do inglês _improved_ = melhorado) é introduzida uma busca linear por um passo ótimo $\\lambda_k$, que minimiza uma função de mérito $m(\\textbf{x}^{\\prime})$, ou seja:\n",
    "\n",
    "$$\\lambda_k = \\text{arg} \\{ \\text{min}[m(\\textbf{x}_k^{\\prime} + \\lambda \\textbf{d}_k)]\\}$$\n",
    "\n",
    "\n",
    "* Segundo BECK (2019) a busca linear é realizada de forma aproximada, utilizando a regra de Armijo, e impondo uma redução suficiente na função mérito dada por:\n",
    "\n",
    "$$\\lambda_k  = \\text{max}[m(\\textbf{x}_k^{\\prime} + \\lambda \\textbf{d}_k) - m(\\textbf{x}_k^{\\prime}) \\leq a b^n \\nabla m(\\textbf{x}_k^{\\prime})^T \\textbf{d}_k], \\quad n \\in \\mathbb{N} \\quad \\text{e} \\quad a, b \\in (0,1)$$\n",
    "\n",
    "\n",
    "* A função de mérito $m(\\textbf{x}^{\\prime})$, proposta por ZHANG e DER KIUREGHIAN (1997), é dada na forma:\n",
    "\n",
    "$$m(\\textbf{x}^{\\prime}) = \\frac{1}{2}||\\textbf{x}^{\\prime}||^2 + c|g(\\textbf{x}^{\\prime})|$$\n",
    "\n",
    "* Esta função de mérito possui duas propriedades importantes:\n",
    "\n",
    "1. A direção de busca $\\textbf{d}_k$ é uma direção de descida da função de mérito, desde que:\n",
    "\n",
    "$$c > \\frac{||\\textbf{x}^{\\prime}||}{||\\nabla g(\\textbf{x}^{\\prime})||}$$.\n",
    "\n",
    "\n",
    "2. A convergência para o ponto de projeto é garantida, desde que seja mantida a mesma restrição ao escalar $c$.\n",
    "\n",
    "* Segundo BECK (2019) estas duas propriedades são suficientes para garantir  a convergência incondicional para o ponto de projeto."
   ]
  },
  {
   "cell_type": "markdown",
   "id": "cb8913fa-e64d-4f09-95bc-cb51d8ade3f7",
   "metadata": {},
   "source": [
    "#### Algoritmo do método iHLRF (_improved_ HLRF):\n",
    "\n",
    "0. Estabelecer os parâmetros: $a, b \\in (0,1)$, $\\epsilon > 0$, $\\delta >0$ e $\\gamma > 0$.\n",
    "\n",
    "1. Escolher os valores iniciais para $\\textbf{x}_0^{\\prime}$, para $k = 0$.\n",
    "\n",
    "2. Avaliação da função estado limite $g(\\textbf{x}_k^{\\prime})$ e de seu gradiente $\\nabla g(\\textbf{x}_k^{\\prime})$ e verificação da condição de otimalidade. Se as condições de convergência abaixo forem satisfeitas o algoritmo é interrompido; caso contrário segue:\n",
    "\n",
    "$$1 - \\frac{|\\nabla g(\\textbf{x}_k^{\\prime})^T \\textbf{x}_k^{\\prime}|}{||\\nabla g(\\textbf{x}_k^{\\prime})|||| \\textbf{x}_k^{\\prime}||} < \\epsilon \\quad \\text{e} \\quad |g(\\textbf{x}_k^{\\prime})| < \\delta$$\n",
    "\n",
    "3. Avaliação da direção de busca:\n",
    "\n",
    "$$ \\textbf{d}_k = \\textbf{x}_{k+1}^{\\prime} - \\textbf{x}_{k}^{\\prime} =   \\frac{\\left[\\nabla{g}(\\textbf{x}_{k}^{\\prime})^{t}\\textbf{x}_{k}^{\\prime} - g(\\textbf{x}_{k}^{\\prime})\\right]}{||\\nabla{g}(\\textbf{x}_k^{\\prime})||^2}\\nabla{g}(\\textbf{x}_{k}^{\\prime}) - \\textbf{x}_{k}^{\\prime}$$\n",
    "\n",
    "4. Determinação do fator de penalidade da função de mérito. \n",
    "\n",
    "* Se $|g(\\textbf{x}_k^{\\prime})| > \\gamma$:\n",
    "\n",
    "$$c_k = \\gamma \\, \\text{max} \\left[\\frac{||\\textbf{x}_k^{\\prime}||}{||\\nabla{g}(\\textbf{x}_{k}^{\\prime})||}, \\frac{1}{2}\\frac{||\\textbf{x}_{k}^{\\prime}+\\textbf{d}_k ||^2}{|g(\\textbf{x}_{k}^{\\prime})|}\\right]$$\n",
    "\n",
    "* Caso contrário:\n",
    "\n",
    "$$c_k = \\gamma \\, \\frac{||\\textbf{x}_k^{\\prime}||}{||\\nabla g(\\textbf{x}_k^{\\prime})||}$$\n",
    "\n",
    "5. Busca linear:\n",
    "\n",
    "$$\\lambda_k  = \\text{max}[m(\\textbf{x}_k^{\\prime} + \\lambda \\textbf{d}_k) - m(\\textbf{x}_k^{\\prime}) \\leq a b^n \\nabla m(\\textbf{x}_k^{\\prime})^T \\textbf{d}_k], \\quad n \\in \\mathbb{N} \\quad \\text{e} \\quad a, b \\in (0,1)$$\n",
    "\n",
    "6. Atualização do ponto de projeto $\\textbf{x}^{\\prime}$:\n",
    "\n",
    "$$\\textbf{x}_{k+1}^{\\prime} = \\textbf{x}_{k}^{\\prime} + \\lambda_k \\textbf{d}_k$$\n",
    "\n",
    "7. Incremento do número de iterações: $k = k + 1$ e retorno ao passo $2$.\n"
   ]
  },
  {
   "cell_type": "markdown",
   "id": "14f79433-82bb-417a-9448-104ac0d0a202",
   "metadata": {},
   "source": [
    "##### Observações importantes para o funcionamento do algoritmo iHLRF:\n",
    "\n",
    "\n",
    "1. Os parâmetros $\\epsilon$ e $\\delta$ correspondem à tolerância nas condições de otimalidade, podendo-se adotar os valores típicos: $\\epsilon = 10^{-3}$ e $\\delta = 10^{-3}|g(\\textbf{x}_{0}^{\\prime})|$, pois a tolerância $\\delta$ depende da escala da função $g(\\textbf{x}^{\\prime})$.\n",
    "\n",
    "2. Os valores usuais para os parâmetros $a$, $b$ e $\\gamma$ são: $a = 0$, $b = 0,5$ e $\\gamma = 2$.\n",
    "\n",
    "3. Dentro do passo $4$, o valor fator de penalização $c_k$ é ajustado de modo  a equilibrar a eficiência e a convergência do algoritmo. Conforme BECK (2019), para $ |g(\\textbf{x}_k^{\\prime})| \\geq \\delta$, o segundo termo de ajuste dentro dos colchetes impõe um valor suficientemente grande para $c_k$ de forma que um passo inteiro, $(\\lambda_k = 1)$, posso ser adotado, caso a função $g(\\textbf{x}^{\\prime})$ seja aproximadamente linear. Contudo, a adoção deste critério pode fazer com que o algoritmo perca a sua garantia de convergência condicional.\n",
    "\n",
    "4. No passo $5$, o valor inicial de $n$ é geralmente igual a $0$."
   ]
  },
  {
   "cell_type": "markdown",
   "id": "fa04482e-dbc0-4d76-be29-9dfd3ffda9d8",
   "metadata": {
    "tags": []
   },
   "source": [
    "[Retornar ao início da aula](#section_7)"
   ]
  },
  {
   "cell_type": "markdown",
   "id": "67069d53-624f-4055-af8b-43ac844a6941",
   "metadata": {
    "tags": []
   },
   "source": [
    "### Exemplo 7.8 - Deflexão máxima em uma viga contínua - Solução com o algoritmo iHRLF"
   ]
  },
  {
   "cell_type": "markdown",
   "id": "825b69fb-e347-4677-93c1-8945b02f4383",
   "metadata": {},
   "source": [
    "<img src=\"./images7/continuous_beam.jpg\" alt=\"Viga_contínua\" style=\"width:474px\" />"
   ]
  },
  {
   "cell_type": "markdown",
   "id": "ccb37f92-26bf-4465-ba38-e85c20cfe7b4",
   "metadata": {},
   "source": [
    "* Este exemplo extraído de ROUDAK et al. (2017), trata da função estado limite da máxima deflexão em serviço de uma viga contínua de três vãos iguais a $7 m$, submetida a uma carga uniformemente distribuída $w$, dada na forma:\n",
    "\n",
    "$$ g(\\textbf{X}) = \\frac{7}{360} - 360 \\frac{w}{E h ^4}$$\n",
    "\n",
    "* Onde:\n",
    "\n",
    "* $w$ é a carga uniformemente distribuída em $kN/m$.\n",
    "\n",
    "* $E$ é o módulo de elasticidade do material em $kN/m$.\n",
    "\n",
    "* $h$ é altura da seção transversal em $m$.\n",
    "\n",
    "* Admitindo-se que $w$, $E$ e $h$ possuem distribuição normal e são estatisticamente independentes.\n",
    "\n",
    "* Parâmetros de projeto:\n",
    "\n",
    "* $w$: $\\mu_w = 10 kN/m$, $\\delta_w = 0,04$ e $\\sigma_w = 0,4 kN/m$\n",
    "\n",
    "* $E$: $\\mu_E = 2\\times10^{7} kN/m^2$, $\\delta_E = 0,25$ e $\\sigma_E = 0,5\\times10^{7} kN/m^2$\n",
    "\n",
    "* $h$: $\\mu_h= 0,4 m$, $\\delta_h = 0,025$ e $\\sigma_h = 0.01 m$\n",
    "\n",
    "* __Solução 1: Método HRLF original__\n",
    "\n",
    "* Ponto inicial $\\textbf{x}_0 = \\{w = 10 kN/m, E = 2\\times10^{7} kN/m^2, h = 0,4 m\\}^t$.\n",
    "\n",
    "* Após 5 iterações, com uma tolerância $\\epsilon = 1\\times10^{-3}$, o algoritmo diverge e não é capaz de encontrar a resposta correta."
   ]
  },
  {
   "cell_type": "code",
   "execution_count": 2,
   "id": "40ec0dc8-6ef7-408d-813d-3e3b1e92b81f",
   "metadata": {},
   "outputs": [
    {
     "name": "stdout",
     "output_type": "stream",
     "text": [
      "Iter = 0, Beta = 6.4675, erro(x') =1000.0000, erro(g) =1000.0000\n",
      " x'[0]  = 0.9477, x[0]  = 10.3791, alpha[0]  = -0.1465\n",
      " x'[1]  = -5.9428, x[1]  = -9713980.4144, alpha[1]  = 0.9189\n",
      " x'[2]  = -2.3693, x[2]  = 0.3763, alpha[2]  = 0.3663\n",
      "Iter = 1, Beta = 9.0648, erro(x') =0.1866, erro(g) =0.1866\n",
      " x'[0]  = -0.6599, x[0]  = 9.7360, alpha[0]  = 0.0728\n",
      " x'[1]  = -8.8556, x[1]  = -24278104.1140, alpha[1]  = 0.9769\n",
      " x'[2]  = 1.8201, x[2]  = 0.4182, alpha[2]  = -0.2008\n",
      "Iter = 2, Beta = 30.9446, erro(x') =0.0318, erro(g) =0.0318\n",
      " x'[0]  = -5.5049, x[0]  = 7.7980, alpha[0]  = 0.1779\n",
      " x'[1]  = -27.6228, x[1]  = -118114159.0837, alpha[1]  = 0.8927\n",
      " x'[2]  = 12.8157, x[2]  = 0.5282, alpha[2]  = -0.4142\n",
      "Iter = 3, Beta = 626.4938, erro(x') =0.1527, erro(g) =0.1527\n",
      " x'[0]  = -298.3379, x[0]  = -109.3351, alpha[0]  = 0.4762\n",
      " x'[1]  = -330.8544, x[1]  = -1634272154.0762, alpha[1]  = 0.5281\n",
      " x'[2]  = 440.4819, x[2]  = 4.8048, alpha[2]  = -0.7031\n",
      "Iter = 4, Beta = 47327539.0101, erro(x') =1000.0000, erro(g) =1000.0000\n",
      " x'[0]  = -19024056.2003, x[0]  = -7609612.4801, alpha[0]  = 0.4020\n",
      " x'[1]  = -0.0000, x[1]  = 20000000.0000, alpha[1]  = 0.0000\n",
      " x'[2]  = -43335680.8466, x[2]  = -433356.4085, alpha[2]  = 0.9157\n"
     ]
    }
   ],
   "source": [
    "\"\"\"\n",
    "Exemplo 7.8 - Deflexão em uma viga contínua - Algoritmo HLRF\n",
    "\"\"\"\n",
    "# Função estado limite:\n",
    "\n",
    "\n",
    "def gfunction(xk):\n",
    "    gx = 7./360. - 360. * xk[0] / (xk[1] * xk[2] ** 4)\n",
    "    return gx\n",
    "\n",
    "\n",
    "# Dados de entrada\n",
    "mu_x = np.array([10.00, 2.00e7, 0.40])\n",
    "sigma_x = np.array([0.40, 0.50e7, 0.01])\n",
    "D = sigma_x * np.eye(3)\n",
    "Jxx1 = np.copy(D)\n",
    "Jx1x = np.linalg.inv(D)\n",
    "\n",
    "# Valores iniciais:\n",
    "xk1 = np.copy(mu_x)\n",
    "#\n",
    "errox = 1000.00\n",
    "errog = 1000.00\n",
    "iter = -1\n",
    "toler = 1.00e-3\n",
    "epsilon = toler\n",
    "delta = toler * np.abs(gfunction(xk1))\n",
    "eps = 1.00e-6\n",
    "max_iter = 100\n",
    "# Processo iterativo:\n",
    "while (errox > epsilon or errog > delta) and iter < max_iter:\n",
    "    iter += 1\n",
    "    xk = np.copy(xk1)\n",
    "    # Transformação de xk para x'k:\n",
    "    x1k= Jx1x.dot(xk-mu_x)\n",
    "    normx1k = np.linalg.norm(x1k)\n",
    "    # Cálculo de g(xk):\n",
    "    gxk = gfunction(xk)\n",
    "    # Cálculo do gradiente de xk\n",
    "    gradxk = optimize.approx_fprime(xk, gfunction, eps)\n",
    "    # Cálculo das derivadas parciais em relação a x'k\n",
    "    gradx1k = np.transpose(Jxx1).dot(gradxk)\n",
    "    normgradx1k = np.linalg.norm(gradx1k)\n",
    "    # Cálculo dos cossenos diretores alpha:\n",
    "    alpha = gradx1k / normgradx1k\n",
    "    # Atualização do ponto de projeto xk através do algorítimo HLRF:\n",
    "    x1k1 = ((np.dot(gradx1k, x1k) - gxk) / normgradx1k ** 2) * gradx1k \n",
    "    # Transformação de x1k1 para xk1\n",
    "    xk1 = mu_x + Jxx1.dot(x1k1)\n",
    "    # Teste de convergência:\n",
    "    prod = normgradx1k * normx1k\n",
    "    # Cálculo do erro no vetor x'k\n",
    "    if np.abs(prod) > eps:\n",
    "        errox = 1. - np.abs(np.dot(gradx1k, x1k) / (normgradx1k * normx1k))\n",
    "    else:\n",
    "        errox = 1000.00\n",
    "    # Cálculo do erro na função estado limite g(x)\n",
    "    errog = np.abs(gfunction(xk1))\n",
    "    beta = np.linalg.norm(x1k1)\n",
    "    print(\"Iter = {0:0d}, Beta = {1:0.4f}, erro(x') ={2:0.4f}, erro(g) ={2:0.4f}\".format(iter, beta, errox, errog))\n",
    "    for i in range(3):\n",
    "        print(\" x'[{0:0d}]  = {1:0.4f}, x[{0:0d}]  = {2:0.4f}, alpha[{0:0d}]  = {3:0.4f}\".format(i,x1k1[i],xk1[i],alpha[i]))\n",
    "    if iter >1 and errox == 1000: break\n",
    "    "
   ]
  },
  {
   "cell_type": "markdown",
   "id": "891a2ea5-e2ba-404e-a39b-a4d9cdb732e2",
   "metadata": {},
   "source": [
    "* __Solução 2:__\n",
    "\n",
    "* Ponto inicial $\\textbf{x}_0 = \\{w = 10 kN/m, E = 2\\times10^{7} kN/m^2, h = 0,4 m\\}^t$.\n",
    "\n",
    "* Após 4 iterações, com uma tolerância $\\epsilon = 1\\times10^{-3}$, o algoritmo converge para a resposta correta com $\\beta = 2,52$.\n",
    "\n",
    "* Ponto de falha $\\textbf{x}^*$: $w^* = 10,06 kN/m$, $E^*=7.553.267 kN/m^2$ e $h^* = 0,3962 m$."
   ]
  },
  {
   "cell_type": "code",
   "execution_count": 3,
   "id": "0c2a5840-a6a6-4025-9e46-26e063b32b33",
   "metadata": {
    "tags": []
   },
   "outputs": [
    {
     "name": "stdout",
     "output_type": "stream",
     "text": [
      "Iter = 0, Beta = 1.6169, erro(x') =1000.0000, erro(g) =1000.0000\n",
      " x'[0]  = 0.2369, x[0]  = 10.0948, alpha[0]  = -0.1465\n",
      " x'[1]  = -1.4857, x[1]  = 12571504.8964, alpha[1]  = 0.9189\n",
      " x'[2]  = -0.5923, x[2]  = 0.3941, alpha[2]  = 0.3663\n",
      "Iter = 1, Beta = 2.3595, erro(x') =0.0095, erro(g) =0.0095\n",
      " x'[0]  = 0.2682, x[0]  = 10.1073, alpha[0]  = -0.0962\n",
      " x'[1]  = -2.2436, x[1]  = 8782234.3469, alpha[1]  = 0.9644\n",
      " x'[2]  = -0.6797, x[2]  = 0.3932, alpha[2]  = 0.2465\n",
      "Iter = 2, Beta = 2.5516, erro(x') =0.0078, erro(g) =0.0078\n",
      " x'[0]  = 0.1745, x[0]  = 10.0698, alpha[0]  = -0.0684\n",
      " x'[1]  = -2.5058, x[1]  = 7470819.9370, alpha[1]  = 0.9821\n",
      " x'[2]  = -0.4485, x[2]  = 0.3955, alpha[2]  = 0.1758\n",
      "Iter = 3, Beta = 2.5220, erro(x') =0.0004, erro(g) =0.0004\n",
      " x'[0]  = 0.1478, x[0]  = 10.0591, alpha[0]  = -0.0586\n",
      " x'[1]  = -2.4893, x[1]  = 7553266.9958, alpha[1]  = 0.9871\n",
      " x'[2]  = -0.3763, x[2]  = 0.3962, alpha[2]  = 0.1492\n"
     ]
    }
   ],
   "source": [
    "\"\"\"\n",
    "Exemplo 7.8 - Deflexão em uma viga contínua - Algoritmo iHLRF = HRLF melhorado\n",
    "\"\"\"\n",
    "\n",
    "import numpy as np\n",
    "from scipy import optimize\n",
    "\n",
    "\n",
    "# Função estado limite:\n",
    "\n",
    "\n",
    "def gfunction(xk):\n",
    "    gx = 7. / 360. - 360. * xk[0] / (xk[1] * xk[2] ** 4)\n",
    "    return gx\n",
    "\n",
    "\n",
    "#\n",
    "# Função de penalidade m(x') para o algoritmo iHRLF\n",
    "#\n",
    "\n",
    "def mfunc(normy, g, c):\n",
    "    my = 1. / 2. * normy ** 2 + c * np.abs(g)\n",
    "    return my\n",
    "\n",
    "\n",
    "# Dados de entrada\n",
    "mu_x = np.array([10.00, 2.00e7, 0.40])\n",
    "sigma_x = np.array([0.40, 0.50e7, 0.01])\n",
    "D = sigma_x * np.eye(3)\n",
    "Jxx1 = np.copy(D)\n",
    "Jx1x = np.linalg.inv(D)\n",
    "\n",
    "# Valores iniciais:\n",
    "xk1 = np.copy(mu_x)\n",
    "#\n",
    "errox = 1000.00\n",
    "errog = 1000.00\n",
    "iter = -1\n",
    "toler = 1.00e-3\n",
    "epsilon = toler\n",
    "delta = toler * np.abs(gfunction(xk1))\n",
    "eps = 1.00e-6\n",
    "max_iter = 100\n",
    "# Processo iterativo:\n",
    "while (errox > epsilon or errog > delta) and iter < max_iter:\n",
    "    iter += 1\n",
    "    xk = np.copy(xk1)\n",
    "    # Transformação de xk para x'k:\n",
    "    x1k = Jx1x.dot(xk - mu_x)\n",
    "    normx1k = np.linalg.norm(x1k)\n",
    "    # Cálculo de g(xk):\n",
    "    gxk = gfunction(xk)\n",
    "    # Cálculo do gradiente de xk\n",
    "    gradxk = optimize.approx_fprime(xk, gfunction, eps)\n",
    "    # Cálculo das derivadas parciais em relação a x'k\n",
    "    gradx1k = np.transpose(Jxx1).dot(gradxk)\n",
    "    normgradx1k = np.linalg.norm(gradx1k)\n",
    "    # Cálculo dos cossenos diretores alpha:\n",
    "    alpha = gradx1k / normgradx1k\n",
    "    # Atualização do ponto de projeto xk através do algorítimo HLRF:\n",
    "    dk = ((np.dot(gradx1k, x1k) - gxk) / normgradx1k ** 2) * gradx1k - x1k\n",
    "    lambdak = 1.00\n",
    "    x1k1 = x1k + lambdak * dk\n",
    "    #\n",
    "    # Parâmetros of iHLRF method\n",
    "    #\n",
    "    iHLRF = True\n",
    "    if iHLRF:\n",
    "        gamma0 = 2.0\n",
    "        a = 0.1\n",
    "        b = 0.5\n",
    "        #\n",
    "        normx1k = np.linalg.norm(x1k)\n",
    "        normx1k1 = np.linalg.norm(x1k1)\n",
    "        erro2 = gxk\n",
    "        c1 = normx1k / normgradx1k\n",
    "        #\n",
    "        if erro2 > delta:\n",
    "            c2 = 0.5 * normx1k1 ** 2 / np.abs(gxk)\n",
    "            ck = gamma0 * np.max([c1, c2])\n",
    "        else:\n",
    "            ck = gamma0 * c1\n",
    "        #\n",
    "        k = -1\n",
    "        f1 = 1.00\n",
    "        f2 = 0.00\n",
    "        while f1 > f2 and k < 10:\n",
    "            k += 1\n",
    "            lambdak = b ** k\n",
    "            x1k1 = x1k + lambdak * dk\n",
    "            xk1 = mu_x + Jxx1.dot(x1k1)\n",
    "            gxk1 = gfunction(xk1)\n",
    "            normx1k1 = np.linalg.norm(x1k1)\n",
    "            f1 = mfunc(normx1k1, gxk1, ck) - mfunc(normx1k, gxk, ck)\n",
    "            gradm = x1k + ck * gradx1k * np.sign(gxk)\n",
    "            normgradm = np.linalg.norm(gradm)\n",
    "            f2 = a * lambdak * np.dot(gradm, dk)\n",
    "    #\n",
    "    x1k1 = x1k + lambdak * dk\n",
    "    # Transformação de x1k1 para xk1\n",
    "    xk1 = mu_x + Jxx1.dot(x1k1)\n",
    "    # Teste de convergência:\n",
    "    prod = normgradx1k * normx1k\n",
    "    # Cálculo do erro no vetor x'k\n",
    "    if np.abs(prod) > eps:\n",
    "        errox = 1. - np.abs(np.dot(gradx1k, x1k) / (normgradx1k * normx1k))\n",
    "    else:\n",
    "        errox = 1000.00\n",
    "    # Cálculo do erro na função estado limite g(x)\n",
    "    errog = np.abs(gfunction(xk1))\n",
    "    beta = np.linalg.norm(x1k1)\n",
    "    print(\"Iter = {0:0d}, Beta = {1:0.4f}, erro(x') ={2:0.4f}, erro(g) ={2:0.4f}\".format(iter, beta, errox, errog))\n",
    "    for i in range(3):\n",
    "        print(\" x'[{0:0d}]  = {1:0.4f}, x[{0:0d}]  = {2:0.4f}, alpha[{0:0d}]  = {3:0.4f}\".format(i,x1k1[i],xk1[i],alpha[i]))\n",
    "    if iter > 1 and errox == 1000: break"
   ]
  },
  {
   "cell_type": "markdown",
   "id": "0c9c19f5-94f1-4231-92b2-81569c012093",
   "metadata": {
    "tags": []
   },
   "source": [
    "[Retornar ao início da aula](#section_7)"
   ]
  },
  {
   "cell_type": "markdown",
   "id": "bf344191-3f68-4a3b-bd0e-8a62c21a4879",
   "metadata": {
    "tags": []
   },
   "source": [
    "### Exemplo 7.9 - Capacidade de carga de viga no regime plástico - Solução com o algoritmo iHRLF"
   ]
  },
  {
   "cell_type": "markdown",
   "id": "63094000-4775-42cb-9288-dedd3e921e6a",
   "metadata": {},
   "source": [
    "<img src=\"./images7/momento_plastico.jpg\" alt=\"Momento Plástico\" style=\"width:474px\" />"
   ]
  },
  {
   "cell_type": "markdown",
   "id": "066efd03-1f26-4f03-ad15-3c1d6d2dead4",
   "metadata": {},
   "source": [
    "* O momento plástico (capacidade resistente última no regime plástico) de uma seção de uma viga de aço pode ser dado por: $M_p = YZ$\n",
    "\n",
    "* Onde:\n",
    "\n",
    "* $Y$ é a tensão de escoamento do aço.\n",
    "\n",
    "* $Z$ é o módulo plástico da seção transversal.\n",
    "\n",
    "* Se $M$ é o momento solicitante, a função performance será definida como: $g(\\textbf{X}) = YZ - M$\n",
    "\n",
    "* Admitindo-se que $Y$, $Z$ e $M$ são estatisticamente indenpendentes.\n",
    "\n",
    "* A __diferença em relação ao Exemplo 7.5__ está em que agora as variáveis $Y$, $Z$ e $M$ possuem __distribuição de probabilidade diferente da normal__.\n",
    "\n",
    "* Parâmetros de projeto:\n",
    "\n",
    "* $Y$: distribuição lognormal - $\\mu_Y = 40 kN/cm^2$, $\\delta_Y = 0,125$ e $\\sigma_Y = 5 kN/cm^2$\n",
    "\n",
    "* $Z$: distribuição lognormal -$\\mu_Z = 50 cm^3$, $\\delta_Z = 0,05$ e $\\sigma_Z = 2,5 m^3$\n",
    "\n",
    "* $M$: distribuição de valores extremos do tipo I - Gumbel - $\\mu_M= 1.000 kNcm$, $\\delta_M = 0,20$ e $\\sigma_M = 200 kNcm$\n",
    "\n",
    "\n",
    "* O algoritmo converge para a solução correta após 4 iterações com $\\beta = 2,74$."
   ]
  },
  {
   "cell_type": "code",
   "execution_count": 4,
   "id": "b2edc5dd-5b06-41d2-9250-33d15ab4db6f",
   "metadata": {},
   "outputs": [
    {
     "name": "stdout",
     "output_type": "stream",
     "text": [
      "Iter = 0, Beta = 3.0831, erro(x') =0.7453, erro(g) =0.7453\n",
      " x'[0]  = -2.3302, x[0]  = 28.0842, alpha[0]  = 0.7558\n",
      " x'[1]  = -0.9351, x[1]  = 47.6013, alpha[1]  = 0.3033\n",
      " x'[2]  = 1.7893, x[2]  = 1308.2627, alpha[2]  = -0.5804\n",
      "Iter = 1, Beta = 2.8073, erro(x') =0.1669, erro(g) =0.1669\n",
      " x'[0]  = -1.3167, x[0]  = 33.1947, alpha[0]  = 0.4690\n",
      " x'[1]  = -0.5284, x[1]  = 48.6253, alpha[1]  = 0.1882\n",
      " x'[2]  = 2.4224, x[2]  = 1608.8677, alpha[2]  = -0.8629\n",
      "Iter = 2, Beta = 2.7433, erro(x') =0.0058, erro(g) =0.0058\n",
      " x'[0]  = -1.1853, x[0]  = 34.2286, alpha[0]  = 0.4321\n",
      " x'[1]  = -0.4757, x[1]  = 48.7645, alpha[1]  = 0.1734\n",
      " x'[2]  = 2.4279, x[2]  = 1668.9973, alpha[2]  = -0.8850\n",
      "Iter = 3, Beta = 2.7422, erro(x') =0.0000, erro(g) =0.0000\n",
      " x'[0]  = -1.1731, x[0]  = 34.2968, alpha[0]  = 0.4278\n",
      " x'[1]  = -0.4708, x[1]  = 48.7766, alpha[1]  = 0.1717\n",
      " x'[2]  = 2.4335, x[2]  = 1672.8800, alpha[2]  = -0.8874\n"
     ]
    }
   ],
   "source": [
    "\"\"\"\n",
    "Exemplo 7.9 - Capacidade de cargas em vigas no regime plástico - Algoritmo iHLRF\n",
    "\"\"\"\n",
    "import numpy as np\n",
    "from scipy import optimize\n",
    "from scipy.stats import norm\n",
    "\n",
    "# Função estado limite:\n",
    "\n",
    "\n",
    "def gfunction(xk):\n",
    "    gx = xk[0] * xk[1] - xk[2]\n",
    "    return gx\n",
    "\n",
    "#\n",
    "# Função de penalidade m(x') para o algoritmo iHRLF\n",
    "#\n",
    "\n",
    "def mfunc(normy, g, c):\n",
    "    my = 1. / 2. * normy ** 2 + c * np.abs(g)\n",
    "    return my\n",
    "\n",
    "# Dados de entrada\n",
    "mu_x = np.array([40.00, 50.00, 1000.00])\n",
    "sigma_x = np.array([5.00, 2.50, 200.00])\n",
    "\n",
    "\n",
    "# Valores iniciais:\n",
    "xk1 = np.array([40.00, 50.00, 1000.00])\n",
    "#\n",
    "errox = 1000.00\n",
    "errog = 1000.00\n",
    "iter = -1\n",
    "toler = 1.00e-3\n",
    "epsilon = toler\n",
    "delta = toler * np.abs(gfunction(xk1))\n",
    "eps = 1.00e-6\n",
    "max_iter = 100\n",
    "# Processo iterativo:\n",
    "while (errox > epsilon or errog > delta) and iter < max_iter:\n",
    "    iter += 1\n",
    "    xk = np.copy(xk1)\n",
    "    # Variáveis normais equivalentes\n",
    "    # Y = lognormal\n",
    "    y = xk[0]\n",
    "    mu_y = mu_x[0]\n",
    "    sigma_y = sigma_x[0]\n",
    "    zeta_y = np.sqrt(np.log(1.00 + (sigma_y / mu_y) ** 2))\n",
    "    lambda_y = np.log(mu_y) - 0.5 * zeta_y ** 2\n",
    "    sigma_yn = zeta_y * y\n",
    "    mu_yn = y * (1.00 - np.log(y) + lambda_y)\n",
    "    # Z = lognormal\n",
    "    z = xk[1]\n",
    "    mu_z = mu_x[1]\n",
    "    sigma_z = sigma_x[1]\n",
    "    zeta_z = np.sqrt(np.log(1.00 + (sigma_z / mu_z) ** 2))\n",
    "    lambda_z = np.log(mu_z) - 0.5 * zeta_z ** 2\n",
    "    sigma_zn = zeta_z * z\n",
    "    mu_zn = z * (1.00 - np.log(z) + lambda_z)\n",
    "    # M = valores extremos tipo I - Gumbel\n",
    "    m = xk[2]\n",
    "    mu_m = mu_x[2]\n",
    "    sigma_m = sigma_x[2]\n",
    "    alpha_m = np.pi / np.sqrt(6) / sigma_m\n",
    "    u_m = mu_m - np.euler_gamma / alpha_m\n",
    "    fdp_m = alpha_m * np.exp(-alpha_m * (m - u_m)) * np.exp(-np.exp(-alpha_m * (m - u_m)))\n",
    "    fdpa_m = np.exp(-np.exp(-alpha_m * (m - u_m)))\n",
    "    zm = norm.ppf(fdpa_m, 0, 1)\n",
    "    fdp_nzm = norm.pdf(zm, 0, 1)\n",
    "    sigma_mn = fdp_nzm / fdp_m\n",
    "    mu_mn = m - sigma_mn * zm\n",
    "    # Transformação de xk para x'k:\n",
    "    mu_xn = np.array([mu_yn, mu_zn, mu_mn])\n",
    "    sigma_xn = np.array([sigma_yn, sigma_zn, sigma_mn])\n",
    "    D = sigma_xn * np.eye(3)\n",
    "    Jxx1 = np.copy(D)\n",
    "    Jx1x = np.linalg.inv(D)\n",
    "    x1k = Jx1x.dot(xk - mu_xn)\n",
    "    normx1k = np.linalg.norm(x1k)\n",
    "    # Cálculo de g(xk):\n",
    "    gxk = gfunction(xk)\n",
    "    # Cálculo do gradiente de xk\n",
    "    gradxk = optimize.approx_fprime(xk, gfunction, eps)\n",
    "    # Cálculo das derivadas parciais em relação a x'k\n",
    "    gradx1k = np.transpose(Jxx1).dot(gradxk)\n",
    "    normgradx1k = np.linalg.norm(gradx1k)\n",
    "    # Cálculo dos cossenos diretores alpha:\n",
    "    alpha = gradx1k / normgradx1k\n",
    "    # Atualização do ponto de projeto xk através do algorítimo HLRF:\n",
    "    dk = ((np.dot(gradx1k, x1k) - gxk) / normgradx1k ** 2) * gradx1k - x1k\n",
    "    lambdak = 1.00\n",
    "    x1k1 = x1k + lambdak * dk\n",
    "    #\n",
    "    # Parâmetros of iHLRF method\n",
    "    #\n",
    "    iHLRF = True\n",
    "    if iHLRF:\n",
    "        gamma0 = 2.0\n",
    "        a = 0.1\n",
    "        b = 0.5\n",
    "        #\n",
    "        normx1k = np.linalg.norm(x1k)\n",
    "        normx1k1 = np.linalg.norm(x1k1)\n",
    "        erro2 = gxk\n",
    "        c1 = normx1k / normgradx1k\n",
    "        #\n",
    "        if erro2 > delta:\n",
    "            c2 = 0.5 * normx1k1 ** 2 / np.abs(gxk)\n",
    "            ck = gamma0 * np.max([c1, c2])\n",
    "        else:\n",
    "            ck = gamma0 * c1\n",
    "        #\n",
    "        k = -1\n",
    "        f1 = 1.00\n",
    "        f2 = 0.00\n",
    "        while f1 > f2 and k < 10:\n",
    "            k += 1\n",
    "            lambdak = b ** k\n",
    "            x1k1 = x1k + lambdak * dk\n",
    "            xk1 = mu_xn + Jxx1.dot(x1k1)\n",
    "            gxk1 = gfunction(xk1)\n",
    "            normx1k1 = np.linalg.norm(x1k1)\n",
    "            f1 = mfunc(normx1k1, gxk1, ck) - mfunc(normx1k, gxk, ck)\n",
    "            gradm = x1k + ck * gradx1k * np.sign(gxk)\n",
    "            normgradm = np.linalg.norm(gradm)\n",
    "            f2 = a * lambdak * np.dot(gradm, dk)\n",
    "    #\n",
    "    x1k1 = x1k + lambdak * dk\n",
    "    # Transformação de x1k1 para xk1\n",
    "    xk1 = mu_xn + Jxx1.dot(x1k1)\n",
    "    # Teste de convergência:\n",
    "    prod = normgradx1k * normx1k\n",
    "    # Cálculo do erro no vetor x'k\n",
    "    if np.abs(prod) > eps:\n",
    "        errox = 1. - np.abs(np.dot(gradx1k, x1k) / (normgradx1k * normx1k))\n",
    "    else:\n",
    "        errox = 1000.00\n",
    "    # Cálculo do erro na função estado limite g(x)\n",
    "    errog = np.abs(gfunction(xk1))\n",
    "    beta = np.linalg.norm(x1k1)\n",
    "    print(\"Iter = {0:0d}, Beta = {1:0.4f}, erro(x') ={2:0.4f}, erro(g) ={2:0.4f}\".format(iter, beta, errox, errog))\n",
    "    for i in range(3):\n",
    "        print(\" x'[{0:0d}]  = {1:0.4f}, x[{0:0d}]  = {2:0.4f}, alpha[{0:0d}]  = {3:0.4f}\".format(i,x1k1[i],xk1[i],alpha[i]))\n",
    "    if iter > 1 and errox == 1000: break\n"
   ]
  },
  {
   "cell_type": "markdown",
   "id": "a8a1f87c-0693-447a-8cf6-8e4a283753a7",
   "metadata": {
    "tags": []
   },
   "source": [
    "[Retornar ao início da aula](#section_7)"
   ]
  },
  {
   "cell_type": "markdown",
   "id": "30a7fc90",
   "metadata": {
    "tags": []
   },
   "source": [
    "## __Bibliografia__"
   ]
  },
  {
   "cell_type": "markdown",
   "id": "78e08737-5ad3-4386-8f3e-3b9f0f4d5b69",
   "metadata": {},
   "source": [
    "* __Livros__\n",
    "* ANG,  A.  H-S.; TANG,  W. H.. Probability concepts in engineering planning and design. Volume I:  basic principles. New  York, John Wiley & Sons, 1975.\n",
    "* ANG,  A.  H-S.; TANG,  W. H.. Probability concepts in engineering planning and design. Volume II: decision, risk and reliability. New  York, John Wiley & Sons, 1984.\n",
    "* ANG,  A.  H-S.; TANG,  W. H.. Probability concepts in engineering: Emphasis on applications to Civil and Enviromental Engineering.  2nd ed. Hoboken, NJ, John Wiley & Sons, 2007.\n",
    "* BECK, A. T. Confiabilidade e segurança das  estruturas. Rio de Janeiro, Elsevier, 2019.\n",
    "* HALDAR, A. MAHADEVAN, S. Probability, reliability, and statistical methods in engineering design. New York, Wiley, 2000.\n",
    "* MELCHERS, R.E., BECK, A. T.; Structural reliability analysis and prediction. 3rd ed. John Wiley and Sons, 2018, 514p.\n",
    "* __Artigos__\n",
    "* HASOFER, A.M.; LIND, N.C.; 1974: Exact and Invariant Second Moment Code Format, J. Eng. Mech. ASCE 100, 111-121.\n",
    "* LIU, P-L.; DER KIUREGHIAN, A. Multivariate distribution models with prescribed marginals and covariances. Probabilistic Engineering Mechanics, 1986, v.1, n.2, p.105-112.\n",
    "* RACKWITZ R.; FIESSLER, B.; 1978: Structural Reliability Under Combined Load Sequences, Computers & Structures 9,489-494.\n",
    "* ROUDAK, M.A.; SHAYANFAR, M.A.; BARKHORDARI, M.A.; KARAMLOO, M.; 2017: A robust approximation method for nonlinear cases of structural reliability analylis. International Journal of Mechanical Sciences, 133, 11-20.  "
   ]
  },
  {
   "cell_type": "markdown",
   "id": "e39c51bd-4a53-4a07-a27b-16a2c14cf9c8",
   "metadata": {
    "tags": []
   },
   "source": [
    "[Retornar ao início da aula](#section_7)"
   ]
  }
 ],
 "metadata": {
  "colab": {
   "name": "Capítulo_5.ipynb",
   "provenance": []
  },
  "interpreter": {
   "hash": "f189cad14bda9570c78e3484cdd4044273f5880bd3757c16e7bdbbda1060b186"
  },
  "kernelspec": {
   "display_name": "Python 3 (ipykernel)",
   "language": "python",
   "name": "python3"
  },
  "language_info": {
   "codemirror_mode": {
    "name": "ipython",
    "version": 3
   },
   "file_extension": ".py",
   "mimetype": "text/x-python",
   "name": "python",
   "nbconvert_exporter": "python",
   "pygments_lexer": "ipython3",
   "version": "3.10.9"
  }
 },
 "nbformat": 4,
 "nbformat_minor": 5
}
