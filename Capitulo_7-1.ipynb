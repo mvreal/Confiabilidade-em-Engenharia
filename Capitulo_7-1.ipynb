{
 "cells": [
  {
   "cell_type": "markdown",
   "id": "ebd052e0",
   "metadata": {
    "id": "1dc445f3-8f0f-41b7-a0fa-541467a1d3db"
   },
   "source": [
    "### Universidade Federal do Rio Grande - FURG"
   ]
  },
  {
   "cell_type": "markdown",
   "id": "32a8467a",
   "metadata": {
    "id": "27d28d81-ad30-4559-b52d-0fee9ac96cae"
   },
   "source": [
    "### Escola de Engenharia - EE"
   ]
  },
  {
   "cell_type": "markdown",
   "id": "69825019",
   "metadata": {
    "id": "103a5401-6849-4ee0-a254-08a7f684a870"
   },
   "source": [
    "### Programa de Pós-graduação em Engenharia Oceânica - PPGEO"
   ]
  },
  {
   "cell_type": "markdown",
   "id": "5252d012",
   "metadata": {
    "id": "547b79f5-d7a3-4b02-8ce9-7c1647bff36b"
   },
   "source": [
    "### Disciplina: Confiabilidade em Engenharia"
   ]
  },
  {
   "cell_type": "markdown",
   "id": "897f5842",
   "metadata": {
    "id": "189e93bb-f3e5-4536-9aec-d09046d6929b"
   },
   "source": [
    "### Professor: Dr. Mauro de Vasconcellos Real"
   ]
  },
  {
   "cell_type": "markdown",
   "id": "868ca87f-48ee-493d-84ec-29d130abfedb",
   "metadata": {
    "tags": []
   },
   "source": [
    "# __Aula 12__"
   ]
  },
  {
   "cell_type": "code",
   "execution_count": 74,
   "id": "4743808b-ff9c-46a4-894c-326338165f75",
   "metadata": {},
   "outputs": [],
   "source": [
    "import numpy as np\n",
    "import matplotlib.pyplot as plt\n",
    "from scipy import linalg\n",
    "from scipy.stats import norm\n",
    "from scipy.stats import skew\n",
    "from scipy.stats import lognorm\n",
    "from scipy.stats import gumbel_r\n",
    "from scipy.stats import invweibull\n",
    "from scipy import optimize\n",
    "from scipy.special import gamma"
   ]
  },
  {
   "cell_type": "markdown",
   "id": "5b7adffe-4558-468c-b85f-18ecd68f2c0a",
   "metadata": {
    "id": "ce78f794-4773-4210-bf0c-d89fd0e707f7"
   },
   "source": [
    "# __Capítulo 7 - Confiabilidade e Projeto baseado em Confiabilidade__ <a name=\"section_6\"></a>"
   ]
  },
  {
   "cell_type": "markdown",
   "id": "01fbcc7e-2abf-4bc5-ac27-e153e42b4a31",
   "metadata": {
    "id": "3ce4b88f-bb46-49e3-b43f-b2c43671b855"
   },
   "source": [
    "[7.1 - Confiabilidade em projetos de Engenharia](#section_71)  \n",
    "[7.2 - Método de Primeira Ordem e Segundo Momento (FOSM)](#section_72)  \n",
    "[7.3 - Método de Confiabilidade de Primeira Ordem (FORM)](#section_73)  "
   ]
  },
  {
   "cell_type": "markdown",
   "id": "4c33fb1b",
   "metadata": {},
   "source": [
    "## __7.1 - Confiabilidade em projetos de Engenharia__  <a name=\"section_71\"></a>"
   ]
  },
  {
   "cell_type": "markdown",
   "id": "49b7ee4c-ff8b-407e-8c69-f53f87a3648a",
   "metadata": {},
   "source": [
    "* Conforme visto no Capítulo 1, todo projeto de engenharia é elaborado sem que se tenha informações precisas e completas dos dados necessários a sua realização.\n",
    "\n",
    "* Assim, sempre existe alguma incerteza sobre as resistências dos materiais que se vai empregar, as cargas que vão atuar sobre a estrutura não podem ser previstas com exatidão e as dimensões finais da estrutura após a sua construção sempre estão sujeitas a uma certa variabilidade.\n",
    "\n",
    "* Então, dada a presença de __incertezas__ nos parâmetros de projeto, a segurança de um sistema de engenharia somente pode ser estabelecida em termos de __probabilidade__.\n",
    "\n",
    "* A __confiabilidade__ $C$ de um sistema de engenharia é a __probabilidade__ de que este sistema __desempenhará a função__ para a qual foi projetado, dentro das __condições estabelecidas__ para o seu funcionamento, e durante a sua __vida útil__ prevista em projeto.\n",
    "\n",
    "* A __probabilidade de falha__ $P_f$ de um sistema de engenharia é a __probabilidade__ de que este sistema __não desempenhará a função__ para a qual foi projetado. A probabilidade de falha é a probabilidade complementar da confiabilidade, ou seja:\n",
    "\n",
    "$$P_f = 1 - C$$\n",
    "\n",
    "* A performance ou não de um sistema de engenharia pode ser estabelecida através de uma __função performance__ ou __função estado limite__ $g(X)$ dada na forma:\n",
    "\n",
    "$$g(X) = R - S$$\n",
    "\n",
    "onde $R$ é a capacidade ou resistência do sistema e $S$ é a demanda pelo sistema ou solicitação.\n",
    "\n",
    "* A confiabilidade de um sistema de engenharia pode envolver diversas variáveis. Então, o problema __capacidade x demanda__, já mostrado no Capítulo 1, deve ser estabelecido de forma mais generalizada, em termos das variáveis básicas de projeto $(X_1, X_2,..., X_n)$:\n",
    "\n",
    "$$g(\\textbf{X})= g(X_1, X_2,..., X_n)$$\n",
    "\n",
    "* Então, tem-se três situações possíveis:\n",
    "\n",
    "* $g(\\textbf{X}) > 0 \\rightarrow$ __estado de segurança__\n",
    "\n",
    "* $g(\\textbf{X}) = 0 \\rightarrow$ __estado limite__\n",
    "\n",
    "* $g(\\textbf{X}) < 0 \\rightarrow$ __estado de falha__\n",
    "\n",
    "* A função estado limite $g(\\textbf{X}) = 0$ é uma superfície $n$-dimensional, chamada __superfície de falha__, como mostrada na figura abaixo para o caso bidimensional."
   ]
  },
  {
   "cell_type": "markdown",
   "id": "d810852c-afe4-42ad-be87-13f1fe429aa5",
   "metadata": {},
   "source": [
    "<img src=\"./images7/superficie_de_falha.jpg\" alt=\"Superfície de Falha\" style=\"width:474px\"/>"
   ]
  },
  {
   "cell_type": "markdown",
   "id": "71103d7c-1a1f-438d-9924-d6f3b255054d",
   "metadata": {},
   "source": [
    "* A função densidade de probabilidade conjunta das variáveis $\\textbf{X} = (X_1, X_2,...,X_n)$ é dada por: $f_{X_1, X_2,...,X_n}(x_1, x_2, ..., X_n)$."
   ]
  },
  {
   "cell_type": "markdown",
   "id": "299f8b08-a571-429a-a817-e63adc066a41",
   "metadata": {},
   "source": [
    "<img src=\"./images7/joint_pdf.jpg\" alt=\"Função densidade de probabilidade conjunta\" style=\"width:474px\"/>"
   ]
  },
  {
   "cell_type": "markdown",
   "id": "c7fbfb2c-a4b1-46dc-8847-8497871cd104",
   "metadata": {},
   "source": [
    "* Então, a confiabilidade do sistema será dada por:\n",
    "    \n",
    "$$C = \\int_{g(\\textbf{X})>0}f_{X_1,X_2,...,X_n}(x_1,x_2,...,x_n)dx_1dx_2...dx_n$$\n",
    "\n",
    "* A probabilidade de falha do sistema será dada pela expressão:\n",
    "\n",
    "$$P_f = \\int_{g(\\textbf{X})<0}f_{X_1,X_2,...,X_n}(x_1,x_2,...,x_n)dx_1dx_2...dx_n$$\n",
    "\n",
    "* O cálculo da confiabilidade $C$ ou da probabilidade de falha $P_f$ através das integrais anteriores é muito difícil.\n",
    "\n",
    "* Métodos alternativos para o cálculo da probabilidade de falha $P_f$:\n",
    "\n",
    "* Métodos de Simulação de Monte Carlo (já estudados no Capítulo 6).\n",
    "\n",
    "* Método de Primeira Ordem e Segundo Momento (_First Order Second Moment method = FOSM_).\n",
    "\n",
    "* Método de Confiabilidade de Primeira Ordem (_First Order Reliability Method = FORM_).\n",
    "\n",
    "* Na bibliografia indicada abaixo e nas revistas especializadas podem ser encontrados outros métodos de avaliação da confiabilidade ou probabilidade de falha."
   ]
  },
  {
   "cell_type": "markdown",
   "id": "c016286c-7ba0-468e-afd3-944b32bc9bb8",
   "metadata": {
    "tags": []
   },
   "source": [
    "[Retornar ao início da aula](#section_6)"
   ]
  },
  {
   "cell_type": "markdown",
   "id": "a2909747-8f98-4c31-9003-3142b9711e83",
   "metadata": {},
   "source": [
    "## __7.2 - Método de Primeira Ordem e Segundo Momento__  <a name=\"section_72\"></a>"
   ]
  },
  {
   "cell_type": "markdown",
   "id": "be8fdddb-20af-436c-9042-790b6a93ae28",
   "metadata": {},
   "source": [
    "* Este método deriva o seu nome por aproximar a função performance $g(\\textbf{X})$ por uma expansão em Série de Taylor até o termo de primeira ordem.\n",
    "\n",
    "* Este método emprega somente estatísticas até o segundo momento das variáveis básicas, ou seja, apenas a média e o desvio padrão são necessários.\n",
    "\n",
    "* Sejam $n$ variáveis básicas estatisticamente independentes: $\\textbf{X} = (X_1,X_2,...,X_n)$.\n",
    "\n",
    "* Estas variáveis podem ser padronizadas em função da média $\\mu_{Xi}$ e do desvio padrão $\\sigma_{Xi}$ na forma:\n",
    "\n",
    "$$X_i^\\prime = \\frac{X_i - \\mu_{X_i}}{\\sigma_{X_i}}, \\quad i = 1, 2,...,n$$\n",
    "\n",
    "* Então:\n",
    "\n",
    "$$X_i = X_i^\\prime \\sigma_{X_i} + \\mu_{X_i}$$\n",
    "\n",
    "* A função estado limite $g(\\textbf{X})$ pode ser expressa em termos das variáveis padronizadas, ou seja:\n",
    "\n",
    "$$g(X_1^\\prime \\sigma_{X_1} + \\mu_{X_1}, X_2^\\prime \\sigma_{X_2} + \\mu_{X_2},...,X_n^\\prime \\sigma_{X_n} + \\mu_{X_n}) = 0$$\n",
    "\n",
    "\n"
   ]
  },
  {
   "cell_type": "markdown",
   "id": "14632398-01ca-4cde-b346-1258c9fe4165",
   "metadata": {},
   "source": [
    "### Medida da confiabilidade"
   ]
  },
  {
   "cell_type": "markdown",
   "id": "7dce1424-d1be-4d59-83c5-c09a99b42d39",
   "metadata": {},
   "source": [
    "<img src=\"./images7/padronizada.jpg\" alt=\"Superfície de Falha no espaço de variáveis padronizadas\" style=\"width:474px\"/>"
   ]
  },
  {
   "cell_type": "markdown",
   "id": "d53b4b3a-ff90-47f0-a1bd-19fbeb9b702a",
   "metadata": {},
   "source": [
    "* Conforme se observa na figura acima, no espaço das variáveis padronizadas, quanto maior for a distância da superfície de falha $g(\\textbf{X}^\\prime)=0$ em relação à origem do sistema de coordenadas, maior será a zona de segurança e, consequentemente, menor será a probabilidade de falha do sistema.\n",
    "\n",
    "* A posição da superfície de falha pode ser representada pela menor distância $D$ da superfície $g(\\textbf{X}^\\prime)=0$, em relação à origem, no espaço das variáveis padronizadas, conforme mostrado na figura abaixo."
   ]
  },
  {
   "cell_type": "markdown",
   "id": "75fd8d8c-6521-4a4c-a897-74db00ec9e22",
   "metadata": {},
   "source": [
    "<img src=\"./images7/distancia.jpg\" alt=\"Distância da Superfície de Falha à origem no espaço de variáveis padronizadas\" style=\"width:474px\"/>"
   ]
  },
  {
   "cell_type": "markdown",
   "id": "2e08219a-b4c7-40ca-8d39-6a11c518adb2",
   "metadata": {},
   "source": [
    "* O ponto da superfície que corresponde a distância mínima em relação à origem no espaço das variáveis padronizadas é chamado de ponto mais provável de falha.\n",
    "\n",
    "* A distância mínima de $g(\\textbf{X}^\\prime)=0$, em relação à origem do espaço das variáveis padronizadas pode ser considerada como uma medida da confiabilidade de um sistema.\n"
   ]
  },
  {
   "cell_type": "markdown",
   "id": "8b5c3186-cadc-493f-bd26-52694c67bfec",
   "metadata": {},
   "source": [
    "### Determinação da confiabilidade"
   ]
  },
  {
   "cell_type": "markdown",
   "id": "33f865db-8f38-4db0-81cc-b3e671eb71ad",
   "metadata": {},
   "source": [
    "* A distância de um ponto $\\textbf{X}^\\prime = (X_1^\\prime,X_2^\\prime,...,X_n^\\prime,)$ em relação à origem será dada por:\n",
    "\n",
    "$$D = \\sqrt{(X_1^\\prime)^2 + (X_2^\\prime)^2 + ... + (X_n^\\prime)^2}$$\n",
    "\n",
    "* Ou ainda:\n",
    "\n",
    "$$D =(\\textbf{X}^{\\prime T}\\textbf{X}^{\\prime})^{\\frac{1}{2}}$$\n",
    "\n",
    "* O ponto sobre a superfície de falha que corresponde à menor distância em relação à origem $(x_1^{\\prime *}, x_2^{\\prime *},..., x_n^{\\prime *})$ pode ser encontrado a partir de:\n",
    "\n",
    "1. __Minimizar__ $D$\n",
    "2. __Submetido à restrição:__ $g(\\textbf{X})=0$\n"
   ]
  },
  {
   "cell_type": "markdown",
   "id": "9764bacb-69c6-4411-bbf0-62b1b3f46d7a",
   "metadata": {},
   "source": [
    "### Método do multiplicador de Lagrange\n",
    "\n",
    "* Seja: $L = D + \\lambda g(\\textbf{X})$\n",
    "\n",
    "* Ou: $L = (\\textbf{X}^{\\prime T}\\textbf{X}^{\\prime})^{\\frac{1}{2}} + \\lambda g(\\textbf{X})$\n",
    "\n",
    "* Em notação escalar:\n",
    "\n",
    "$$L = \\sqrt{(X_1^{\\prime})^2 + (X_2^{\\prime})^2 + ... + (X_n^{\\prime})^2} + \\lambda g(X_1, X_2, ..., X_n)$$\n",
    "\n",
    "Onde: $X_i = X_i^{\\prime} \\sigma_{X_i} + \\mu_{X_i}; \\quad i = 1,2,...,n$"
   ]
  },
  {
   "cell_type": "markdown",
   "id": "02133005-2315-4c63-b4c8-74c10f0c9faa",
   "metadata": {
    "tags": []
   },
   "source": [
    "### Minimização de $L$:\n",
    "\n",
    "* Minimizando-se $L$, chega-se a um sistema de $n+1$ equações com $n+1$ incógnitas.\n",
    "\n",
    "$$\\frac{\\partial{L}}{\\partial{X_i^{\\prime}}} = \\frac{X_i^{\\prime}}{\\sqrt{(X_1^{\\prime})^2 + (X_2^{\\prime})^2 + ... + (X_n^{\\prime})^2}} + \\lambda \\frac{\\partial{g}}{\\partial{X_i^{\\prime}}} = 0$$\n",
    "\n",
    "* para $i = 1,2,...,n$\n",
    "\n",
    "* e\n",
    "\n",
    "$$\\frac{\\partial{L}}{\\partial{\\lambda}} = g(X_1, X_2, ..., X_n) = 0$$\n",
    "\n",
    "\n",
    "* A solução deste sistema de equações deve levar ao __ponto mais provável de falha__ $(x_1^{\\prime *}, x_2^{\\prime *},...,x_n^{\\prime *})$.\n",
    "\n",
    "* Introduzindo-se o vetor gradiente:\n",
    "\n",
    "$$\\textbf{G} = \\left\\{\\frac{\\partial g}{\\partial{X_1^{\\prime}}}, \\frac{\\partial g}{\\partial{X_1^{\\prime}}}, ..., \\frac{\\partial g}{\\partial{X_1^{\\prime}}}\\right\\}^{T}$$\n",
    "\n",
    "* Onde: \n",
    "\n",
    "$$ \\frac{\\partial g}{\\partial{X_i^{\\prime}}} = \\frac{\\partial g}{\\partial{X_i}} \\frac{dX_i}{dX_i^{\\prime}} = \\sigma_{X_i} \\frac{\\partial g}{\\partial{X_i}}$$"
   ]
  },
  {
   "cell_type": "markdown",
   "id": "b8586078-a2ed-4c62-9ce0-6efde6c69b27",
   "metadata": {},
   "source": [
    "### Solução do sistema de equações:\n",
    "\n",
    "* O sistema de $n$ equações pode ser escrito na forma:\n",
    "\n",
    "$$ \\frac{ \\textbf{X} ^ {\\prime} } { (\\textbf{X}^{\\prime T} \\textbf{X}^{\\prime} ) ^ {\\frac{1}{2}} } +\\lambda \\textbf{G} = 0$$\n",
    "\n",
    "* Donde: $\\textbf{X}^{\\prime} = - \\lambda D \\textbf{G}$\n",
    "\n",
    "* e: $D = [(\\lambda D \\textbf{G}^T)(\\lambda D \\textbf{G})]^{\\frac{1}{2}} = \\lambda D (\\textbf{G}^T\\textbf{G})^{\\frac{1}{2}}$\n",
    "\n",
    "* Portanto: $\\lambda = (\\textbf{G}^T \\textbf{G})^{-\\frac{1}{2}}$\n",
    "\n",
    "* Então: \n",
    "\n",
    "$$ \\textbf{X}^{\\prime} = \\frac{-\\textbf{G}}{(\\textbf{G}^T \\textbf{G})^{\\frac{1}{2}}} D$$\n",
    "\n",
    "* Fazendo-se:\n",
    "\n",
    "\n",
    "$$ \\textbf{G}^T \\textbf{X}^{\\prime} = \\frac{-\\textbf{G}^T\\textbf{G}}{(\\textbf{G}^T \\textbf{G})^{\\frac{1}{2}}} D = - D (\\textbf{G}^T \\textbf{G})^{\\frac{1}{2}} $$\n",
    "\n",
    "* Resulta:\n",
    "\n",
    "$$ D = \\frac{-\\textbf{G}^T \\textbf{X}^{\\prime}}{(\\textbf{G}^T \\textbf{G})^{\\frac{1}{2}}}$$\n",
    "\n",
    "* Introduzindo-se a definição de cossenos diretores:\n",
    "\n",
    "$$\\boldsymbol\\alpha = \\frac{-\\textbf{G}}{(\\textbf{G}^T \\textbf{G})^{\\frac{1}{2}}}$$\n",
    "\n",
    "* Ou seja:\n",
    "\n",
    "$$\\alpha_i = \\frac{ \\frac{ \\partial{g} }{ \\partial{X_i^{\\prime} } } } { \\sqrt{ \\sum_{j=1}^{n} (\\frac{ \\partial{g} }{ \\partial{X_j^{\\prime} } })^2 } }$$\n",
    "\n",
    "* Tem-se que: $\\textbf{X}^{\\prime} = - \\boldsymbol \\alpha D$\n",
    "\n",
    "* Substituindo-se a equação anterior  na equação $n+1$:\n",
    "\n",
    "$$ \\frac{\\partial{L}}{\\partial{\\lambda}} = g(\\textbf{X}) = 0 $$\n",
    "\n",
    "* Onde: $\\textbf{X} = \\boldsymbol{\\sigma}_X \\textbf{X}^{\\prime} + \\boldsymbol{\\mu}_X =  \\boldsymbol{\\mu}_X  - \\boldsymbol{\\sigma}_X \\boldsymbol \\alpha D$\n",
    "\n",
    "* Obtém-se, finalmente:\n",
    "\n",
    "$$g(\\boldsymbol{\\mu}_X  - \\boldsymbol{\\sigma}_X \\boldsymbol \\alpha D) = 0$$\n",
    "\n",
    "* Nesta última equação a única incógnita é o valor da distância $D$.\n",
    "\n",
    "* O valor de $D$ encontrado será: $d_{min} = \\beta$.\n",
    "\n",
    "* Logo:\n",
    "\n",
    "$$ \\beta = \\frac{-\\textbf{G}^{*T} \\textbf{X}^{\\prime *}}{(\\textbf{G}^{*T} \\textbf{G}^{*})^{\\frac{1}{2}}}$$\n",
    "\n",
    "* Onde $\\textbf{G}^{*}$ é o vetor gradiente calculado no ponto mais provável de falha $\\textbf{X}^{*} = (x_1^*,x_2^*,...,x_n^*)$.\n",
    "\n",
    "* Na forma escalar:\n",
    "\n",
    "$$\\beta = -\\frac{\\sum_{i=1}^{n}x_i^{\\prime *} (\\frac{ \\partial{g} }{ \\partial{X_i^{\\prime} } } )_*} { \\sqrt{ \\sum_{j=1}^{n} (\\frac{ \\partial{g} }{ \\partial{X_j^{\\prime} } })_*^2 } }$$\n",
    "\n",
    "* Com as derivadas $\\left( \\frac{ \\partial{g} }{ \\partial{X_i^{\\prime} } }\\right)_*$ são calculadas no no ponto mais provável de falha $\\textbf{X}^{*} = (x_1^*,x_2^*,...,x_n^*)$.\n",
    "\n",
    "* A figura abaixo ilustra o significado geométrico do índice de confiabilidade $\\beta$ e dos cossenos diretores $\\alpha_i$, no plano das variáveis normais padronizadas $X_i^{\\prime}$."
   ]
  },
  {
   "cell_type": "markdown",
   "id": "19298769-b3d0-42e5-a2de-4b2e24e00f49",
   "metadata": {},
   "source": [
    "<img src=\"./images7/beta_cos.jpg\" alt=\"Beta e cossenos diretores\" style=\"width:474px\"/>"
   ]
  },
  {
   "cell_type": "markdown",
   "id": "bb8c4be8-625d-4e4c-bb6f-b8c087c24fe3",
   "metadata": {
    "tags": []
   },
   "source": [
    "[Retornar ao início da aula](#section_6)"
   ]
  },
  {
   "cell_type": "markdown",
   "id": "30a7fc90",
   "metadata": {},
   "source": [
    "## __Bibliografia__"
   ]
  },
  {
   "cell_type": "markdown",
   "id": "78e08737-5ad3-4386-8f3e-3b9f0f4d5b69",
   "metadata": {},
   "source": [
    "* __Livros__\n",
    "* ANG,  A.  H-S.; TANG,  W. H.. Probability concepts in engineering planning and design. Volume I:  basic principles. New  York, John Wiley & Sons, 1975.\n",
    "* ANG,  A.  H-S.; TANG,  W. H.. Probability concepts in engineering planning and design. Volume II: decision, risk and reliability. New  York, John Wiley & Sons, 1984.\n",
    "* ANG,  A.  H-S.; TANG,  W. H.. Probability concepts in engineering: Emphasis on applications to Civil and Enviromental Engineering.  2nd ed. Hoboken, NJ, John Wiley & Sons, 2007.\n",
    "* BECK, A. T. Confiabilidade e segurança das  estruturas. Rio de Janeiro, Elsevier, 2019.\n",
    "* HALDAR, A. MAHADEVAN, S. Probability, reliability, and statistical methods in engineering design. New York, Wiley, 2000.\n",
    "* MELCHERS, R.E., BECK, A. T.; Structural reliability analysis and prediction. 3rd ed. John Wiley and Sons, 2018, 514p."
   ]
  },
  {
   "cell_type": "markdown",
   "id": "e39c51bd-4a53-4a07-a27b-16a2c14cf9c8",
   "metadata": {
    "tags": []
   },
   "source": [
    "[Retornar ao início da aula](#section_6)"
   ]
  }
 ],
 "metadata": {
  "colab": {
   "name": "Capítulo_5.ipynb",
   "provenance": []
  },
  "interpreter": {
   "hash": "f189cad14bda9570c78e3484cdd4044273f5880bd3757c16e7bdbbda1060b186"
  },
  "kernelspec": {
   "display_name": "Python 3 (ipykernel)",
   "language": "python",
   "name": "python3"
  },
  "language_info": {
   "codemirror_mode": {
    "name": "ipython",
    "version": 3
   },
   "file_extension": ".py",
   "mimetype": "text/x-python",
   "name": "python",
   "nbconvert_exporter": "python",
   "pygments_lexer": "ipython3",
   "version": "3.8.5"
  }
 },
 "nbformat": 4,
 "nbformat_minor": 5
}
