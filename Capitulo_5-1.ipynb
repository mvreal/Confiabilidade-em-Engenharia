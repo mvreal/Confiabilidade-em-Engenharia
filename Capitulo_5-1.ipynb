{
 "cells": [
  {
   "cell_type": "markdown",
   "id": "ebd052e0",
   "metadata": {
    "id": "1dc445f3-8f0f-41b7-a0fa-541467a1d3db"
   },
   "source": [
    "### Universidade Federal do Rio Grande - FURG"
   ]
  },
  {
   "cell_type": "markdown",
   "id": "32a8467a",
   "metadata": {
    "id": "27d28d81-ad30-4559-b52d-0fee9ac96cae"
   },
   "source": [
    "### Escola de Engenharia - EE"
   ]
  },
  {
   "cell_type": "markdown",
   "id": "69825019",
   "metadata": {
    "id": "103a5401-6849-4ee0-a254-08a7f684a870"
   },
   "source": [
    "### Programa de Pós-graduação em Engenharia Oceânica - PPGEO"
   ]
  },
  {
   "cell_type": "markdown",
   "id": "5252d012",
   "metadata": {
    "id": "547b79f5-d7a3-4b02-8ce9-7c1647bff36b"
   },
   "source": [
    "### Disciplina: Confiabilidade em Engenharia"
   ]
  },
  {
   "cell_type": "markdown",
   "id": "897f5842",
   "metadata": {
    "id": "189e93bb-f3e5-4536-9aec-d09046d6929b"
   },
   "source": [
    "### Professor: Dr. Mauro de Vasconcellos Real"
   ]
  },
  {
   "cell_type": "markdown",
   "id": "3b2e21fe",
   "metadata": {},
   "source": [
    "# __Aula 10__"
   ]
  },
  {
   "cell_type": "code",
   "execution_count": 1,
   "id": "85c117e4",
   "metadata": {},
   "outputs": [],
   "source": [
    "import numpy as np\n",
    "import matplotlib.pyplot as plt\n",
    "from scipy.stats import norm\n",
    "from scipy.stats import rayleigh\n",
    "from scipy.stats import weibull_min"
   ]
  },
  {
   "cell_type": "markdown",
   "id": "a83e8149",
   "metadata": {
    "id": "ce78f794-4773-4210-bf0c-d89fd0e707f7"
   },
   "source": [
    "# __Capítulo 5 - Distribuições de valores extremos__ <a name=\"section_5\"></a>"
   ]
  },
  {
   "cell_type": "markdown",
   "id": "25b23890",
   "metadata": {
    "id": "3ce4b88f-bb46-49e3-b43f-b2c43671b855"
   },
   "source": [
    "[5.1 - Introdução](#section_51)  \n",
    "[5.2 - Distribuições exatas](#section_52)  \n",
    "[5.3 - Distribuições assintóticas](#section_53)  \n",
    "[5.4 - Parâmetros das distribuições de valores extremos](#section_54) "
   ]
  },
  {
   "cell_type": "markdown",
   "id": "4c33fb1b",
   "metadata": {},
   "source": [
    "## __5.1 - Introdução__  <a name=\"section_51\"></a>"
   ]
  },
  {
   "cell_type": "markdown",
   "id": "9a422815",
   "metadata": {},
   "source": [
    "* O valores extremos (máximos e mínimos) de fenômenos naturais são de especial interesse e importância para a Engenharia.\n",
    "\n",
    "Exemplos:  \n",
    "Altura máxima de onda em 50 anos;  \n",
    "Velocidade máxima do vento em 50 anos;  \n",
    "Vazão anual máxima (ou mínima) de um rio.  \n",
    "\n",
    "* Quando se fala em valores extremos, trata-se do máximo $Y_n$ (ou do mínimo $Y_1$) de uma amostra de $n$ elementos, dentro de uma população com distribuição de probabilidade conhecida $F_X(x)$.\n",
    "\n",
    "* Neste caso, cada valor extremo, máximo ou mínimo, será uma variável aleatória, $Y_n$ ou $Y_1$, com sua distribuição de probabilidade própria, que poderá ser exata ou assintótica, $F_Y(y)$.\n",
    "\n"
   ]
  },
  {
   "cell_type": "markdown",
   "id": "6ea00f7e",
   "metadata": {
    "tags": []
   },
   "source": [
    "[Retornar ao início da aula](#section_5)"
   ]
  },
  {
   "cell_type": "markdown",
   "id": "ee7936a4",
   "metadata": {},
   "source": [
    "## __5.2 - Distribuições exatas__  <a name=\"section_52\"></a>"
   ]
  },
  {
   "cell_type": "markdown",
   "id": "a8df0e75",
   "metadata": {},
   "source": [
    "* Seja uma variável aleatória $X$ (população) com distribuição de probabilidade $F_X(x)$.\n",
    "\n",
    "* Uma amostra de tamanho $n$ desta população terá um valor máximo e um valor mínimo.\n",
    "\n",
    "* Este valores extremos variam de uma amostra para outra e possuem uma distribuição de probabilidade própria que se relaciona com $F_X(x)$."
   ]
  },
  {
   "cell_type": "markdown",
   "id": "4559f6f6",
   "metadata": {},
   "source": [
    "### Amostra de tamanho $n$:\n",
    "\n",
    "* Uma amostra de tamanho n equivale a um conjunto de observações $(x_1, x_2,...,x_n)$.\n",
    "* Cada elemento da amostra não pode ser previsto, sendo cada um uma variável aleatória.\n",
    "* Uma amostra pode ser vista como um conjunto de variáveis aleatórias $(X_1,X_2,...,X_n)$.\n",
    "\n",
    "* Dada uma amostra: $(X_1,X_2,...,X_n)$.\n",
    "\n",
    "* O valor máximo será dado por: $Y_n = m\\acute ax(X_1,X_2,...,X_n)$\n",
    "\n",
    "* O valor mínimo será dado por: $Y_1 = m\\acute in(X_1,X_2,...,X_n)$"
   ]
  },
  {
   "cell_type": "markdown",
   "id": "154962b5",
   "metadata": {},
   "source": [
    "### Distribuição de $Y_n$ (máximos):\n",
    "\n",
    "* Hipótese: as variáveis $X_1,X_2,...,X_n$ são estatisticamente independentes e possuem a mesma distribuição: $F_{X_1}(x) = F_{X_2}(x) =...=F_{X_n}(x) =F_{X}(x)$\n",
    "\n",
    "* Se $Y_n$ for menor que um certo valor $y$;\n",
    "\n",
    "* Então, cada um dos valores $X_1,X_2,...,X_n$ deve ser menor que $y$;\n",
    "\n",
    "* Logo a distribuição acumulada de $Y_n$ será: $F_{Y_n} = P(X_1 \\leq y, X_2 \\leq y, ..., X_n \\leq y)$;\n",
    "\n",
    "* Portanto:\n",
    "\n",
    "$$ F_{Y_n} = \\left[F_{X}(y)\\right]^n$$\n",
    "\n",
    "* A função densidade de probabilidade acumulada de $Y_n$ será, então:\n",
    "\n",
    "$$f_{Y_n}(y) = \\frac{dF_{Y_n}(y)}{dy} = \\frac{d}{dy}[F_X(y)]^n$$\n",
    "\n",
    "$$f_{Y_n}(y) = n[F_X(y)]^{n-1}f_X(y)$$"
   ]
  },
  {
   "cell_type": "markdown",
   "id": "276cedfe",
   "metadata": {},
   "source": [
    "### Distribuição de $Y_1$ (mínimos):\n",
    "\n",
    "* Hipótese: as variáveis $X_1,X_2,...,X_n$ são estatisticamente independentes e possuem a mesma distribuição: $F_{X_1}(x) = F_{X_2}(x) =...=F_{X_n}(x) =F_{X}(x)$\n",
    "\n",
    "* Se $Y_1$ for maior que um certo valor $y$;\n",
    "\n",
    "* Então, cada um dos valores $X_1,X_2,...,X_n$ deve ser maior que $y$;\n",
    "\n",
    "* Logo a distribuição acumulada de $Y_1$ será: $1 - F_{Y_1} = P(X_1 > y, X_2 > y, ..., X_n > y)$;\n",
    "\n",
    "* Portanto:\n",
    "\n",
    "$$1 - F_{Y_1}(y) = \\left[1 - F_{X}(y)\\right]^n$$\n",
    "\n",
    "$$F_{Y_1}(y) = 1 - \\left[1 - F_{X}(y)\\right]^n$$\n",
    "\n",
    "* A função densidade de probabilidade acumulada de $Y_1$ será, então:\n",
    "\n",
    "$$f_{Y_1}(y) = \\frac{dF_{Y_1}(y)}{dy} = \\frac{d}{dy}\\left\\{1 - [1 - F_X(y)]^n\\right\\}$$\n",
    "\n",
    "$$f_{Y_1}(y) = n[1 - F_X(y)]^{n-1}f_X(y)$$\n"
   ]
  },
  {
   "cell_type": "markdown",
   "id": "15bed772",
   "metadata": {},
   "source": [
    "### Distribuições exatas de $Y_n$ e $Y_1$:\n",
    "\n",
    "* As distribuições de probabilidade exatas dos valores máximo $Y_n$  e  mínimo $Y_1$ de amostras de tamanho $n$ são uma função da distribuição de probabilidade da variável aleatória inicial $X$."
   ]
  },
  {
   "cell_type": "markdown",
   "id": "883a67d8",
   "metadata": {},
   "source": [
    "#### Exemplo 5.1 - Distribuição exponencial"
   ]
  },
  {
   "cell_type": "code",
   "execution_count": 2,
   "id": "e81e38ec",
   "metadata": {},
   "outputs": [
    {
     "data": {
      "image/png": "[encoded data removed]",
      "text/plain": [
       "<Figure size 648x324 with 2 Axes>"
      ]
     },
     "metadata": {
      "needs_background": "light"
     },
     "output_type": "display_data"
    }
   ],
   "source": [
    "# Dados de entrada\n",
    "lambdax = 1.00\n",
    "x = np.linspace(0.00, 5.00, 1000)\n",
    "# Cálculo de fX(x)\n",
    "pdfx = lambdax * np.exp(-lambdax * x)\n",
    "cdfx = 1 - np.exp(-lambdax * x)\n",
    "# Geração do gráfico de fX(x)\n",
    "plt.figure(1, figsize=(9, 4.5))\n",
    "plt.subplot(1, 2, 1)\n",
    "plt.plot(x, pdfx, color='blue')\n",
    "plt.xlabel('variável aleatória $x$')\n",
    "plt.ylabel(r'densidade de probabilidade $f_X(x)$')\n",
    "plt.title('Distribuição Exponencial')\n",
    "plt.xlim(0,5)\n",
    "plt.ylim(0,1.00)\n",
    "plt.text(2, 0.5, r\"$f_X(x) = \\lambda e^{\\left(-\\lambda x\\right)}$\", fontsize=\"16\")\n",
    "plt.text(2, 0.4, r\"$\\lambda = 1.0$\", fontsize=\"16\")\n",
    "# Gráfico FX(x)\n",
    "plt.subplot(1, 2, 2)\n",
    "plt.plot(x, cdfx, color='red')\n",
    "plt.xlabel('variável aleatória $x$')\n",
    "plt.ylabel('distribuição acumulada $F_X(x)$')\n",
    "plt.title('Distribuição Exponencial')\n",
    "plt.xlim(0,5)\n",
    "plt.ylim(0,1)\n",
    "plt.text(2, 0.5, r\"$F_X(x) = 1 - e^{\\left(-\\lambda x\\right)}$\", fontsize=\"16\")\n",
    "plt.text(2, 0.4, r\"$\\lambda = 1.0$\", fontsize=\"16\")\n",
    "plt.tight_layout()\n",
    "plt.show()"
   ]
  },
  {
   "cell_type": "markdown",
   "id": "11513656",
   "metadata": {},
   "source": [
    "* Variável $X$ com distribuição exponencial:  \n",
    "\n",
    "* Função densidade de probabilidade de $X$:  \n",
    "\n",
    "$$f_X(x) = \\lambda e^{-\\lambda x}$$\n",
    "\n",
    "\n",
    "* Função densidade de probabilidade acumulada de $X$:\n",
    "\n",
    "$$F_X(x) = 1 - e_{-\\lambda x}$$\n",
    "\n",
    "* Distribuição de probabilidade acumulada de $Y_n$:\n",
    "\n",
    "$$F_{Y_n}(y) = \\left(1 - e^{-\\lambda y}\\right)^n$$\n",
    "\n",
    "* Função densidade de probabilidade de $Y_n$:\n",
    "\n",
    "$$f_{Y_n}(y)=\\lambda n\\left(1-e^{-\\lambda y}\\right)^{n-1}e^{-\\lambda y}$$\n",
    "\n"
   ]
  },
  {
   "cell_type": "code",
   "execution_count": null,
   "id": "1876d02b",
   "metadata": {},
   "outputs": [],
   "source": [
    "# Dados de entrada\n",
    "lbd = 1.0\n",
    "y = np.linspace(0.00, 10.00, 1000)\n",
    "ny = [1, 2, 5, 10, 25, 50, 100]\n",
    "pdfy = np.zeros((len(ny), 1000))\n",
    "cdfy = np.zeros((len(ny), 1000))\n",
    "# Cálculo de fYn(y) e FYn(y)\n",
    "for i in range(len(ny)):\n",
    "    n = ny[i]\n",
    "    pdfy[i,:] = lbd * n * (1 - np.exp(- lbd * y))**(n - 1) * np.exp(- lbd * y)\n",
    "    cdfy[i,:] = (1.00 - np.exp(-lbd * y))**n\n",
    "# Geração do gráfico de fYn(y)\n",
    "plt.figure(1, figsize=(10, 5))\n",
    "plt.subplot(1, 2, 1)\n",
    "for i in range(len(ny)):\n",
    "    n = ny[i]\n",
    "    plt.plot(y, pdfy[i,:], label=\"n = {0:d}\".format(ny[i]))\n",
    "plt.xlabel('variável aleatória $y$')\n",
    "plt.ylabel(r'$f_{Y_n}(y)$')\n",
    "plt.title('(a) Densidade de probabilidade de $Y_n$')\n",
    "plt.xlim(0, 10)\n",
    "plt.ylim(0, 1.00)\n",
    "plt.xticks(np.arange(min(y), max(y)+1, 1.0))\n",
    "plt.yticks(np.arange(0, 1.10, 0.10))\n",
    "plt.text(1, 0.8, r\"$f_{Y_n}=\\lambda n\\left(1-e^{-\\lambda y}\\right)^{n-1}e^{-\\lambda y}$\", fontsize=\"14\")\n",
    "plt.legend()\n",
    "\n",
    "# Gráfico FX(x)\n",
    "plt.subplot(1, 2, 2)\n",
    "for i in range(len(ny)):\n",
    "    n = ny[i]\n",
    "    plt.plot(y, cdfy[i,:], label=\"n = {0:d}\".format(ny[i]))\n",
    "plt.xlabel('variável aleatória $y$')\n",
    "plt.ylabel('$F_{Y_n}(y)$')\n",
    "plt.title('(b) Distribuição acumulada de $Y_n$')\n",
    "plt.xlim(0, 10)\n",
    "plt.ylim(0, 1.00)\n",
    "plt.xticks(np.arange(min(y), max(y)+1, 1.0))\n",
    "plt.yticks(np.arange(0, 1.10, 0.10))\n",
    "plt.text(6, 0.5, r\"$F_{Y_n} = \\left(1 - e^{-\\lambda y}\\right)^n$\", fontsize=\"14\")\n",
    "plt.legend()\n",
    "plt.tight_layout()\n",
    "plt.show()"
   ]
  },
  {
   "cell_type": "markdown",
   "id": "06b0ac4d",
   "metadata": {},
   "source": [
    "* A Figura acima mostra as distribuições exatas para os valores máximos de uma distribuição inicial exponencial com $\\lambda = 1,0$, para $n = 1, 2, 5, 10, 25, 50 \\quad \\text{e} \\quad 100$.\n",
    "\n",
    "* Observe-se que no gráfico de densidade de probabilidade de $Y_n$, na Figura (a), que a moda (valor mais provável) de $Y_n$ cresce com o valor de $n$.  \n",
    "\n",
    "\n",
    "* Na Figura (b), que mostra a distribuição de probabilidade acumulada de $Y_n$, nota-se que a $P(Y_n \\leq y)$ diminui quando o valor de $n$ cresce.\n",
    "\n",
    "* Expandindo-se $$F_{Y_n} em uma série binomial:\n",
    "\n",
    "$$\\left(1-e^{-\\lambda y}\\right) = 1 - n e^{-\\lambda y} + \\frac{n(n-1)}{2!}e^{-2\\lambda y}-...$$\n",
    "\n",
    "* Para valores grande de $n$ a série se aproxima de uma dupla função exponencial:\n",
    "\n",
    "$$F_{Y_n}(y) = \\exp{\\left(-ne^{-\\lambda y}\\right)}$$"
   ]
  },
  {
   "cell_type": "markdown",
   "id": "b3074d0a",
   "metadata": {
    "tags": []
   },
   "source": [
    "[Retornar ao início da aula](#section_5)"
   ]
  },
  {
   "cell_type": "markdown",
   "id": "287c71b5",
   "metadata": {},
   "source": [
    "### Distribuições assintóticas\n",
    "\n",
    "* No Exemplo 5.1 a distribuição de probabilidade acumulada para o valor máximo tende para uma distribuição exponencial dupla quando $n$ cresce.\n",
    "\n",
    "* Então, a distribuição exponencial dupla é a distribuição assintótica para o valor máximo de uma distribuição exponencial."
   ]
  },
  {
   "cell_type": "code",
   "execution_count": null,
   "id": "bd6724ba",
   "metadata": {},
   "outputs": [],
   "source": [
    "# Dados de entrada\n",
    "lbd = 1.0\n",
    "y = np.linspace(0.00, 10.00, 1000)\n",
    "ny = [10, 25, 50, 100]\n",
    "pdfy = np.zeros((len(ny), 1000))\n",
    "cdfy = np.zeros((len(ny), 1000))\n",
    "pdfa = np.zeros((len(ny), 1000))\n",
    "cdfa = np.zeros((len(ny), 1000))\n",
    "# Cálculo de fYn(y) e FYn(y) e das distribuições assintóticas\n",
    "for i in range(len(ny)):\n",
    "    n = ny[i]\n",
    "    pdfy[i,:] = lbd * n * (1 - np.exp(- lbd * y))**(n - 1) * np.exp(- lbd * y)\n",
    "    cdfy[i,:] = (1.00 - np.exp(-lbd * y))**n\n",
    "    pdfa[i,:] = lbd * n *  np.exp(- lbd * y) * np.exp(- n * np.exp(-lbd * y))\n",
    "    cdfa[i,:] = np.exp(-n * np.exp(-lbd * y))\n",
    "# Geração do gráfico de fYn(y)\n",
    "plt.figure(1, figsize=(10, 5))\n",
    "plt.subplot(1, 2, 1)\n",
    "for i in range(len(ny)):\n",
    "    n = ny[i]\n",
    "    plt.plot(y, pdfy[i,:], color='blue', linestyle=\"dashed\" )\n",
    "    plt.plot(y, pdfa[i,:], color='blue')\n",
    "plt.xlabel('variável aleatória $y$')\n",
    "plt.ylabel(r'$f_{Y_n}(y)$')\n",
    "plt.title('(a) Densidade de probabilidade assintótica de $Y_n$')\n",
    "plt.xlim(0, 10)\n",
    "plt.ylim(0, 1.00)\n",
    "plt.xticks(np.arange(min(y), max(y)+1, 1.0))\n",
    "plt.yticks(np.arange(0, 1.10, 0.10))\n",
    "plt.text(2, 0.8, r\"$f_{Y_n}= \\lambda n \\exp \\left(- n e^{-\\lambda y}\\right)e^{-\\lambda y}$\", fontsize=\"14\")\n",
    "plt.text(0.2, 0.3, r\"$n = 10$\", fontsize=\"14\")\n",
    "plt.text(5.5, 0.3, r\"$n = 100$\", fontsize=\"14\")\n",
    "# Gráfico FX(x)\n",
    "plt.subplot(1, 2, 2)\n",
    "for i in range(len(ny)):\n",
    "    n = ny[i]\n",
    "    plt.plot(y, cdfy[i,:], color='red', linestyle=\"dashed\")\n",
    "    plt.plot(y, cdfa[i,:], color='red')\n",
    "plt.xlabel('variável aleatória $y$')\n",
    "plt.ylabel('$F_{Y_n}(y)$')\n",
    "plt.title('(b) Distribuição acumulada assintótica de $Y_n$')\n",
    "plt.xlim(0, 10)\n",
    "plt.ylim(0, 1.00)\n",
    "plt.xticks(np.arange(min(y), max(y)+1, 1.0))\n",
    "plt.yticks(np.arange(0, 1.10, 0.10))\n",
    "plt.text(5, 0.4, r\"$F_{Y_n} = \\exp \\left(- n e^{-\\lambda y}\\right)$\", fontsize=\"14\")\n",
    "plt.text(2.0, 0.8, r\"$n = 10$\", fontsize=\"14\")\n",
    "plt.text(6.5, 0.8, r\"$n = 100$\", fontsize=\"14\")\n",
    "plt.tight_layout()\n",
    "plt.show()"
   ]
  },
  {
   "cell_type": "markdown",
   "id": "dcf35e15",
   "metadata": {},
   "source": [
    "* A Figura acima mostra as distribuições exatas em linha tracejada e as distribuições assintóticas  em linha cheia, para os valores máximos de uma distribuição inicial exponencial com $\\lambda=1,00$, para $n = 10, 25, 50 \\quad \\text{e} \\quad 100$.\n",
    "\n",
    "* Observe-se que, tanto no gráfico de densidade de probabilidade de $Y_n$, na Figura (a), como na Figura (b), que mostra a distribuição de probabilidade acumulada de $Y_n$, as curvas são praticamente coincidentes já para $n = 10$."
   ]
  },
  {
   "cell_type": "markdown",
   "id": "d1e0d8e1",
   "metadata": {},
   "source": [
    "### Tipos de distribuições assintóticas:\n",
    "\n",
    "*  __Tipo I__: A forma exponencial dupla (__Gumbel__)\n",
    "* __Tipo II__: A forma exponencial simples (__Fisher-Tippet ou Fréchet__)\n",
    "* __Tipo III__: A forma exponencial com um limite superior $\\omega$ (ou inferior) (__Weibull__)"
   ]
  },
  {
   "cell_type": "markdown",
   "id": "01112eaf",
   "metadata": {},
   "source": [
    "### __Tipo I__: A forma exponencial dupla (__Gumbel__)\n",
    "\n",
    "* Se a distribuição inicial possuir uma cauda exponencial decrescente (na direção do valor extremo) irá convergir assintoticamente para uma forma limite do __Tipo I__ (Gumbel).\n",
    "\n",
    "$$F_Y(y) = \\exp{\\left\\{-\\exp{\\left[-A(n)y\\right]}\\right\\}}$$\n",
    "\n",
    "### __Tipo II__: A forma exponencial simples (__Fisher-Tippet__)\n",
    "\n",
    "* Se a distribuição inicial possui uma cauda polinomial decrescente (na direção do valor extremo) irá convergir assintoticamente para uma forma limite do __Tipo II__ (Fisher-Tippett).\n",
    "\n",
    "$$F_Y(y) = \\exp\\left[-A(n)y\\right]$$\n",
    "\n",
    "### __Tipo III__: A forma exponencial com um limite superior $\\omega$ (ou inferior) (__Weibull__)\n",
    "\n",
    "* Se o valor extremo possuir um limite superior $\\omega$ (ou inferior)  irá convergir assintoticamente para uma forma limite do __Tipo III__ (Weibull).\n",
    "\n",
    "\n",
    "$$F_Y(y) = \\exp\\left[-A(n)(\\omega - y)\\right]$$"
   ]
  },
  {
   "cell_type": "markdown",
   "id": "47ae312f-d5f4-4871-9e6c-16c9213fb24a",
   "metadata": {},
   "source": [
    "## 5.4 - Parâmetros das distribuições de valores extremos <a name=\"section_54\"></a>\n",
    "\n",
    "* A forma da distribuição assintótica não depende da forma da distribuição da variável inicial $X$, mas somente da forma da sua cauda na direção do extremo.\n",
    "\n",
    "* Porém, os parâmetros da distribuição de valores extremos dependem da forma da distribuição da variável inicial $X$."
   ]
  },
  {
   "cell_type": "markdown",
   "id": "30ba592e",
   "metadata": {},
   "source": [
    "$.\n",
    "\n",
    "### 5.4.1 - A distribuição de Tipo I - Gumbel\n",
    "\n",
    "* A distribuição de valores extremos do Tipo I é conhecida com distribuição de Gumbel:  \n",
    "\n",
    "\n",
    "\n",
    "* Distribuição de probabilidade acumulada:\n",
    "\n",
    "$$ F_{Y_n}(y) = \\exp{\\left[e^{-\\alpha_n(y-u_n)}\\right]}$$\n",
    "\n",
    "\n",
    "* Função densidade de probabilidade:\n",
    "\n",
    "\n",
    "$$ f_{Y_n}(y) = \\alpha_n e^{-\\alpha_n(y-u_n)}\\exp{\\left[e^{-\\alpha_n(y-u_n)}\\right]}$$\n",
    "\n",
    "#### Parâmetros da distribuição de Gumbel: valores máximos $Y_n$\n",
    "\n",
    "* $u_n$ é o valor mais provável de $Y_n$ (moda):\n",
    "\n",
    "$$\\mu_{Y_n} = u_n + \\frac{\\gamma}{\\alpha_n}$$\n",
    "\n",
    "* $\\alpha_n$ é o inverso de uma medida de dispersão dos valores de $Y_n$:\n",
    "\n",
    "$$\\sigma_{Y_n}^2 = \\frac{\\pi^2}{6\\alpha_n^2}$$\n",
    "\n",
    "onde: $\\gamma = 0,577216$ é o número de Euler.\n",
    "\n",
    "#### Parâmetros da distribuição de Gumbel: valores mínimos $Y_1$\n",
    "\n",
    "* $u_n$ é o valor mais provável de $Y_1$ (moda):\n",
    "\n",
    "$$\\mu_{Y_1} = u_n - \\frac{\\gamma}{\\alpha_1}$$\n",
    "\n",
    "* $\\alpha_n$ é o inverso de uma medida de dispersão dos valores de $Y_1$:\n",
    "\n",
    "$$\\sigma_{Y_1}^2 = \\frac{\\pi^2}{6\\alpha_1^2}$$\n",
    "\n",
    "onde: $\\gamma = 0,577216$ é o número de Euler.\n"
   ]
  },
  {
   "cell_type": "markdown",
   "id": "ee124b38",
   "metadata": {},
   "source": [
    "#### Exemplo 5.2 - $Z$ = distribuição normal padrão"
   ]
  },
  {
   "cell_type": "code",
   "execution_count": null,
   "id": "b30d9ff4",
   "metadata": {},
   "outputs": [],
   "source": [
    "#Dados de entrada\n",
    "z = np.linspace(-3, 3, 1000)\n",
    "# Cálculo da curva de Gauss padrão\n",
    "fz = 1 / np.sqrt(2 * np.pi) * np.exp(- 0.5 * z ** 2)\n",
    "# Geração do gráfico\n",
    "plt.figure(1, figsize=(6, 5))\n",
    "plt.plot(z, fz, color='blue' )\n",
    "plt.xlabel('variável aleatória $z$')\n",
    "plt.ylabel(r'$f_{Z}(z)$')\n",
    "plt.title('Densidade de probabilidade normal padrão')\n",
    "plt.xlim(-3, 3)\n",
    "plt.ylim(0, 0.50)\n",
    "plt.xticks(np.arange(min(z), max(z)+1, 1.0))\n",
    "plt.yticks(np.arange(0, 0.60, 0.10))\n",
    "plt.text(0.8, 0.35, r\"$f_{Z}(z)= \\frac{1}{\\sqrt{2\\pi}}e^{-\\frac{1}{2}z^2}$\", fontsize=\"16\")\n",
    "plt.tight_layout()\n",
    "plt.show()"
   ]
  },
  {
   "cell_type": "markdown",
   "id": "9be8dc5b",
   "metadata": {},
   "source": [
    "* Z = variável inicial com distribuição normal padrão $N(0,1)$\n",
    "\n",
    "$$f_{Z}(z)= \\frac{1}{\\sqrt{2\\pi}}e^{-\\frac{1}{2}z^2}$$\n",
    "\n",
    "* A cauda da distribuição é exponencial na direção dos valores máximos = Tipo I\n",
    "\n",
    "  \n",
    "* Distribuição de valores extremos (máximos) do Tipo I – Gumbel  \n",
    "  \n",
    "* Distribuição de probabilidade acumulada:  \n",
    "\n",
    "$$ F_{Y_n}(y) = -\\exp{\\left[-e^{-\\alpha_n(y-u_n)}\\right]}$$\n",
    "  \n",
    "\n",
    "* Função densidade de probabilidade:  \n",
    "  \n",
    "\n",
    "$$ f_{Y_n}(y) = \\alpha_n e^{-\\alpha_n(y-u_n)}\\exp{\\left[-e^{-\\alpha_n(y-u_n)}\\right]}$$\n",
    "\n",
    "#### Parâmetros para $Y_n$:\n",
    "\n",
    "$$u_n = \\sqrt{2\\ln(n)} - \\frac{\\ln[\\ln(n)]+\\ln(4\\pi)}{2\\sqrt{2\\ln(n)}}$$\n",
    "\n",
    "$$\\alpha_n = \\sqrt{2\\ln(n)}$$\n",
    "\n",
    "* Ver demonstração em Ang & Tang, Probability Concepts in Engineering Planning and Design, Vol. 2, 1984. \n",
    "\n",
    "* A média $\\mu_{Y_n}$ e a variância $\\sigma_{Y_n}$ de $Y_n$ são calculados usando-se:\n",
    "\n",
    "$$\\mu_{Y_n} = u_n + \\frac{\\gamma}{\\alpha_n}$$\n",
    "\n",
    "\n",
    "$$\\sigma_{Y_n}^2 = \\frac{\\pi^2}{6\\alpha_n^2}$$"
   ]
  },
  {
   "cell_type": "markdown",
   "id": "8531028c",
   "metadata": {},
   "source": [
    "### Distribuição de valores extremos exata para a distribuição normal padrão\n",
    "\n",
    "* Para a distribuição normal padrão, a distribuição acumulada de valores máximos exata para uma amostra de tamanho $n$ será:\n",
    "\n",
    "$$F_{Y_n} = [F_X(y)]^n = [\\Phi(y)]^2$$\n",
    "\n",
    "Onde $\\Phi()$ é a função densidade de probabilidade acumulada para a distribuição normal padrão, cuja integral não possui uma solução analítica e deve ser calculada numericamente.\n",
    "\n",
    "* Função densidade de probabilidade exata, para uma amostra de tamanho $n$ será:\n",
    "\n",
    "$$f_{Y_n}(y) = \\frac{dF_{Y_n}(y)}{dy} = \\frac{n}{\\sqrt{2\\pi}}[\\Phi(y)]^{n-1}e^{-\\frac{1}{2}y^2}$$"
   ]
  },
  {
   "cell_type": "code",
   "execution_count": 11,
   "id": "7a16e773",
   "metadata": {},
   "outputs": [
    {
     "data": {
      "image/png": "[encoded data removed]",
      "text/plain": [
       "<Figure size 720x360 with 2 Axes>"
      ]
     },
     "metadata": {
      "needs_background": "light"
     },
     "output_type": "display_data"
    }
   ],
   "source": [
    "# Dados de entrada\n",
    "y = np.linspace(0, 6, 1000)\n",
    "ny = [10, 20, 50, 100, 500, 1000]\n",
    "pdfy = np.zeros((len(ny), 1000))\n",
    "cdfy = np.zeros((len(ny), 1000))\n",
    "pdfa = np.zeros((len(ny), 1000))\n",
    "cdfa = np.zeros((len(ny), 1000))\n",
    "# Cálculo de fYn(y) e FYn(y) e das distribuições assintóticas\n",
    "for i in range(len(ny)):\n",
    "    n = ny[i]\n",
    "    un = np.sqrt(2*np.log(n)) - (np.log(np.log(n)) + np.log(4*np.pi))/(2*np.sqrt(2*np.log(n)))\n",
    "    alphan = np.sqrt(2*np.log(n))\n",
    "    pdfy[i,:] =  n / np.sqrt(2 * np.pi)*(norm.cdf(y))**(n - 1) * np.exp(- 0.5 * y ** 2)\n",
    "    cdfy[i,:] = (norm.cdf(y))**n\n",
    "    pdfa[i,:] = alphan*np.exp(-alphan*(y - un))*np.exp(-np.exp(-alphan*(y - un)))\n",
    "    cdfa[i,:] = np.exp(- np.exp(-alphan*(y - un)))\n",
    "# Geração do gráfico de fYn(y)\n",
    "plt.figure(1, figsize=(10, 5))\n",
    "plt.subplot(1, 2, 1)\n",
    "for i in range(len(ny)):\n",
    "    n = ny[i]\n",
    "    plt.plot(y, pdfy[i,:], color='blue', linestyle=\"dashed\" )\n",
    "    plt.plot(y, pdfa[i,:], color='blue')\n",
    "plt.xlabel('variável aleatória $y$')\n",
    "plt.ylabel(r'$f_{Y_n}(y)$')\n",
    "plt.title('(a) Densidade de probabilidade assintótica de $Y_n$')\n",
    "plt.xlim(0, 6)\n",
    "plt.ylim(0, 1.4)\n",
    "plt.xticks(np.arange(min(y), max(y)+1, 1.0))\n",
    "plt.yticks(np.arange(0, 1.50, 0.10))\n",
    "plt.grid()\n",
    "# Gráfico FX(x)\n",
    "plt.subplot(1, 2, 2)\n",
    "for i in range(len(ny)):\n",
    "    n = ny[i]\n",
    "    plt.plot(y, cdfy[i,:], color='red', linestyle=\"dashed\")\n",
    "    plt.plot(y, cdfa[i,:], color='red')\n",
    "plt.xlabel('variável aleatória $y$')\n",
    "plt.ylabel('$F_{Y_n}(y)$')\n",
    "plt.title('(b) Distribuição acumulada assintótica de $Y_n$')\n",
    "plt.xlim(0, 6)\n",
    "plt.ylim(0, 1.00)\n",
    "plt.xticks(np.arange(min(y), max(y)+1, 1.0))\n",
    "plt.yticks(np.arange(0, 1.10, 0.10))\n",
    "plt.grid()\n",
    "plt.tight_layout()\n",
    "plt.show()"
   ]
  },
  {
   "cell_type": "markdown",
   "id": "30dd95cc",
   "metadata": {},
   "source": [
    "Os gráficos acima mostram que tanto a função densidade de probabilidade exata, Figura (a), como a função densidade de probabilidade acumulada, Figura (b), tendem para a distribuição assintótica na medida em que $n$ cresce."
   ]
  },
  {
   "cell_type": "markdown",
   "id": "d4209e38",
   "metadata": {},
   "source": [
    "* Se a variável aleatória $X$ possui uma distribuição normal $N(\\mu,\\sigma)$, a variável $Z = (x - \\mu)/\\sigma$ terá distribuição normal $N(0,1)$.\n",
    "\n",
    "* Os parâmetros para a distribuição de valores extremos (máximos) para $(x - \\mu)/\\sigma$ serão $u_n$ e $\\alpha_n$\n",
    "\n",
    "* Se $Y_n^\\prime$ é o o valor máximo da variável inicial Gaussiana $X$, $N(\\mu,\\sigma)$, então: $Y_n = (Y_n^\\prime - \\mu)/\\sigma$ é o valor máximo de $(x - \\mu)/\\sigma$.\n",
    "\n",
    "* Então:\n",
    "\n",
    "$$F_{Y_n^\\prime}(y^\\prime) = F\\left(\\frac{y^\\prime - \\mu}{\\sigma}\\right) = \\exp{\\left\\{-\\exp{\\left[-\\alpha_n \\left(\\frac{y^\\prime - \\mu - \\sigma u_n}{\\sigma}\\right)\\right]}\\right\\}}$$\n",
    "\n",
    "$$F_{Y_n^\\prime}(y^\\prime) =  \\exp{\\left\\{-\\exp{\\left[-\\frac{\\alpha_n}{\\sigma} \\left(y^\\prime - \\mu - \\sigma u_n\\right)\\right]}\\right\\}}$$\n",
    "\n",
    "* $Y_n^\\prime$ é o valor máximo de $X$ com:\n",
    "\n",
    "$$F_{Y_n^\\prime}(y^\\prime) =  \\exp{\\left\\{-\\exp{\\left[-\\alpha_n^\\prime \\left(y^\\prime - u_n^\\prime\\right)\\right]}\\right\\}}$$\n",
    "\n",
    "* Onde: \n",
    "$$u_n^\\prime = \\sigma u_n + \\mu \\quad \\text{e}  \\quad  \\alpha_n^\\prime = \\alpha_n / \\sigma$$\n",
    "\n",
    "\n",
    "\n"
   ]
  },
  {
   "cell_type": "markdown",
   "id": "50c484a1",
   "metadata": {},
   "source": [
    "#### Distribuição do Tipo I: mínimos $Y_1$\n",
    "\n",
    "* A moda de Y1 desloca-se para a esquerda na medida em que $n$ cresce.\n",
    "* A $P( Y_1 \\leq y )$ aumenta na medida em que $n$ cresce.\n",
    "* A distribuição exata de valores mínimos também convergirá para um dos três tipos de __distribuição assintótica__, quando $n$ cresce, de acordo com a forma da cauda da distribuição da variável original."
   ]
  },
  {
   "cell_type": "markdown",
   "id": "e7af6bd4",
   "metadata": {},
   "source": [
    "#### Exemplo 5.3 - Distribuição normal padrão: valores mínimos\n",
    "\n",
    "* $Z$ = distribuição normal padrão $N(0,1)$.\n",
    "* A cauda da distribuição normal padrão na direção dos valores mínimos tem uma forma exponencial.\n",
    "* Então a distribuição de valores mínimos convergirá para uma distribuição assintótica do Tipo I – Gumbel, quando $n$ crescer.\n",
    "\n",
    "* Distribuição assintótica do Tipo I – valores mínimos:\n",
    "\n",
    "$$ F_{Y_1}(y) = 1 - \\exp{\\left[-e^{\\alpha_1(y-u_1)}\\right]}$$\n",
    "\n",
    "\n",
    "* Função densidade de probabilidade para valores mínimos do Tipo I:\n",
    "\n",
    "$$ f_{Y_1}(y) = \\alpha_1 e^{\\alpha_1(y-u_1)}\\exp{\\left[-e^{\\alpha_n(y-u_1)}\\right]}$$\n",
    "\n",
    "* Parâmetros de $Y_1$ para $Z$ com distribuição normal padrão $N(0,1)$:\n",
    "\n",
    "\n",
    "#### Parâmetros para $Y_1$:\n",
    "\n",
    "$$u_1 = -\\sqrt{2\\ln(n)} + \\frac{\\ln[\\ln(n)]+\\ln(4\\pi)}{2\\sqrt{2\\ln(n)}}$$\n",
    "\n",
    "$$\\alpha_1 = \\sqrt{2\\ln(n)}$$\n",
    "\n",
    "* Ver demonstração em Ang & Tang, Probability Concepts in Engineering Planning and Design, Vol. 2, 1984. \n",
    "\n"
   ]
  },
  {
   "cell_type": "markdown",
   "id": "f633793c",
   "metadata": {},
   "source": [
    "#### Exemplo 5.4 - Distribuição de Rayleigh: valores máximos $Y_n$\n",
    "\n",
    "* A variável $X$ obedece a uma distribuição de Rayleigh dada na forma:\n",
    "\n",
    "$$f_X(x) = \\frac{x}{\\sigma^2}\\exp{\\left[-\\frac{1}{2}\\left(\\frac{x}{\\sigma}\\right)^2\\right]}, \\quad x \\geq 0$$\n",
    "\n",
    "* Onde $\\sigma$ é o valor modal (valor mais provável de $X$ )."
   ]
  },
  {
   "cell_type": "code",
   "execution_count": null,
   "id": "3c36835b",
   "metadata": {},
   "outputs": [],
   "source": [
    "# Dados de entrada\n",
    "x = np.linspace(0, 10, 1000)\n",
    "sx= [0.5, 1.0, 2.0, 3.0, 4.0]\n",
    "pdfx = np.zeros((len(sx), 1000))\n",
    "cdfx = np.zeros((len(sx), 1000))\n",
    "# Cálculo de fYn(y) e FYn(y) e das distribuições assintóticas\n",
    "for i in range(len(sx)):\n",
    "    sigma = sx[i]\n",
    "    loc = 0.00\n",
    "    scale = sigma\n",
    "    pdfx[i,:] =  rayleigh.pdf(x, loc, scale)\n",
    "    cdfx[i,:] = rayleigh.cdf(x, loc, scale)\n",
    "    # Geração do gráfico de fYn(y)\n",
    "plt.figure(1, figsize=(10, 5))\n",
    "plt.subplot(1, 2, 1)\n",
    "for i in range(len(sx)):\n",
    "    sigma = sx[i]\n",
    "    plt.plot(x, pdfx[i,:], label=r'$\\sigma$ = {0:0.1f}'.format(sx[i]))\n",
    "plt.xlabel('variável aleatória $x$')\n",
    "plt.ylabel(r'$f_{X}(x)$')\n",
    "plt.title('(a) Densidade de probabilidade de Rayleigh de $X$')\n",
    "plt.xlim(0, 10)\n",
    "plt.ylim(0, 1.3)\n",
    "plt.xticks(np.arange(min(x), max(x)+1, 1.0))\n",
    "plt.yticks(np.arange(0, 1.40, 0.10))\n",
    "plt.legend()\n",
    "# Gráfico FX(x)\n",
    "plt.subplot(1, 2, 2)\n",
    "for i in range(len(sx)):\n",
    "    sigma = sx[i]\n",
    "    plt.plot(x, cdfx[i,:], label=r'$\\sigma$ = {0:0.1f}'.format(sx[i]))\n",
    "plt.xlabel('variável aleatória $x$')\n",
    "plt.ylabel('$F_{X}(x)$')\n",
    "plt.title('(b) Distribuição acumulada de Rayleigh de $X$')\n",
    "plt.xlim(0, 10)\n",
    "plt.ylim(0, 1.00)\n",
    "plt.xticks(np.arange(min(x), max(x)+1, 1.0))\n",
    "plt.yticks(np.arange(0, 1.10, 0.10))\n",
    "plt.legend()\n",
    "plt.tight_layout()\n",
    "plt.show()"
   ]
  },
  {
   "cell_type": "markdown",
   "id": "8d5fd44d",
   "metadata": {},
   "source": [
    "A Figura (a) acima mostra o aspecto da função densidade de probabilidade para a distribuição de Rayleigh, para valores de $\\sigma$ entre $0,5$ e $1,0$, enquanto que a Figura (b) mostra a forma da função densidade de probabilidade acumulada para estes mesmos valores."
   ]
  },
  {
   "cell_type": "markdown",
   "id": "6296cd65",
   "metadata": {},
   "source": [
    "* A forma da cauda da distribuição na direção dos máximos é exponencial.\n",
    "* Logo, a distribuição de máximos convergirá assintoticamente para uma distribuição do Tipo I para máximos.\n",
    "* Parâmetros:\n",
    "\n",
    "$$ u_n = \\sigma \\sqrt{2\\ln(n)} \\quad \\text{e} \\quad \\alpha_n=\\frac{\\sqrt{2\\ln(n)}}{\\sigma}$$\n",
    "\n",
    "* A média $\\mu_{Y_n}$ e o desvio padrão $\\sigma_{Y_n}$ da variável $Y_n$ (máximos) serão:\n",
    "\n",
    "$$\\mu_{Y_n} = \\sigma \\sqrt{2\\ln(n)} + 0,5772\\left(\\frac{\\sigma}{\\sqrt{2\\ln(n)}}\\right)$$\n",
    "\n",
    "$$\\sigma_{Y_n} = \\frac{\\pi}{\\sqrt{6}}\\frac{\\sigma}{\\sqrt{2\\ln(n)}} = \\frac{\\pi\\sigma}{2\\sqrt{3\\ln(n)}}$$\n"
   ]
  },
  {
   "cell_type": "markdown",
   "id": "b5d5a5ad",
   "metadata": {},
   "source": [
    "### 5.4.2 - A distribuição do Tipo II - Fisher-Tippett (Fréchet)\n",
    "\n",
    "* A distribuição assintótica do Tipo II é conhecida como distribuição de Fisher-Tippett ou de Fréchet.\n",
    "* Distribuição de probabilidade acumulada:\n",
    "\n",
    "$$F_{Y_n}(y)=\\exp{\\left[-\\left(\\frac{v_n}{y}\\right)^k\\right]}$$\n",
    "\n",
    "\n",
    "* Função densidade de probabilidade:\n",
    "\n",
    "$$f_{Y_n}(y)=\\frac{k}{v_n}\\left(\\frac{v_n}{y}\\right)^{k+1}\\exp{\\left[-\\left(\\frac{v_n}{y}\\right)^k\\right]}$$\n",
    "\n",
    "* $v_n$ é o valor mais provável de $Y_n$.\n",
    "\n",
    "* $k$ é o parâmetro de forma, o qual é o inverso de uma medida de dispersão de $Y_n$.\n",
    "\n",
    "#### Parâmetros da distribuição de Fisher-Tippett: valores máximos $Y_n$\n",
    "\n",
    "* A média $\\mu_{Y_n}$ e o desvio padrão $\\sigma_{Y_n}$ de $Y_n$ se relacionam com os parâmetros   $v_n$    e   $k$    a partir das expressões: \n",
    "\n",
    "$$\\mu_{Y_n} = v_n \\Gamma\\left(1-\\frac{1}{k}\\right)$$\n",
    "\n",
    "e\n",
    "\n",
    "$$\\sigma_{Y_n}= v_n\\sqrt{\\Gamma\\left(1-\\frac{2}{k}\\right)-\\Gamma^2\\left(1-\\frac{1}{k}\\right)}$$\n",
    "\n",
    "onde $\\Gamma()$ é a função Gama calculada em função do parâmetro $k$."
   ]
  },
  {
   "cell_type": "markdown",
   "id": "f09a9f68",
   "metadata": {},
   "source": [
    "#### Transformação logarítmica\n",
    "\n",
    "* Se $Y_n$ é uma distribuição de valores extremos do Tipo II, com parâmetros $v_n$ e $k$, a distribuição de $\\ln(Y_n)$ terá uma distribuição assintótica do Tipo I com parâmetros: $u_n = \\ln(v_n)$ e $\\alpha_n = k$.\n",
    "\n",
    "* Esta transformação também se aplica aos valores mínimos $Y_1$ e $\\ln(Y_1)$"
   ]
  },
  {
   "cell_type": "markdown",
   "id": "e0f01232",
   "metadata": {},
   "source": [
    "#### Exemplo 5.5 - $X$ é lognormal\n",
    "\n",
    "* Se a variável inicial $X$ é lognormal, com parâmetros: $\\mu_X$ e $\\sigma_X$.\n",
    "\n",
    "* Então, $\\ln(X)$ é normal com parâmetros: $\\mu = \\lambda_X$ e $\\sigma = \\zeta_X$.\n",
    "\n",
    "* Logo os valores máximos de $\\ln(X)$ irão convergir para uma distribuição assintótica do Tipo I.\n",
    "\n",
    "* Os parâmetros da distribuição de valores máximos de $\\ln(X)$ serão, então:\n",
    "\n",
    "$$u_n = \\zeta_X\\left\\{\\sqrt{2\\ln(n)}-\\frac{\\ln[\\ln(X)]+\\ln(4\\pi)}{2\\sqrt{2\\ln(n)}}\\right\\}+\\lambda_X$$\n",
    "\n",
    "$$\\alpha_n = \\frac{\\sqrt{2\\ln(n)}}{\\lambda_X}$$  \n",
    "\n",
    "* Ver Exemplo 5.3.\n",
    "\n",
    "* Aplicando a __transformação logarítmica__  os valores máximos da variável inicial lognormal $X$ irão convergir para uma  distribuição assintótica do Tipo II, com parâmetros: $v_n = \\exp(u_n)$ e $k = \\alpha_n$\n",
    "\n",
    "* Se $Z_n$ de $\\ln(X)$ é do Tipo I, então $Y_n$ de $X$ é do Tipo II.\n",
    "\n",
    "\n",
    "\n",
    "\n",
    "\n",
    "\n"
   ]
  },
  {
   "cell_type": "markdown",
   "id": "90cdef0f",
   "metadata": {},
   "source": [
    "### 5.4.3 - A distribuição de Tipo III - Weibull\n",
    "\n",
    "* A distribuição assintótica do Tipo III é conhecida como distribuição de Weibull.\n",
    "* Em Engenharia a distribuição assintótica do Tipo III de maior interesse é a distribuição de valores mínimos.\n",
    "* Está distribuição foi descoberta por Weibull para modelar a resistência à fratura de materiais.\n",
    "\n",
    "* Distribuição de probabilidade acumulada:\n",
    "\n",
    "$$F_{Y_1}(y)=1 - \\exp{\\left[-\\left(\\frac{y-\\epsilon}{\\omega_1 - \\epsilon}\\right)^{k}\\right], \\quad y \\geq \\epsilon}$$\n",
    "\n",
    "* onde:\n",
    "* $\\omega_1$ é ovalor mínimo mais provável (moda);\n",
    "* $k$ é o fator de forma;\n",
    "* $\\epsilon$ é o limite inferior para $y$.\n"
   ]
  },
  {
   "cell_type": "code",
   "execution_count": null,
   "id": "a807989f",
   "metadata": {},
   "outputs": [],
   "source": [
    "\"\"\"\n",
    "Weibull distribution graphs\n",
    "\n",
    "\"\"\"\n",
    "import numpy as np\n",
    "import matplotlib.pyplot as plt\n",
    "from scipy.stats import weibull_min\n",
    "\n",
    "\n",
    "# Dados de entrada\n",
    "y = np.linspace(0, 5, 500)\n",
    "lambdax = [0.5, 1.0, 1.5, 3.0]\n",
    "kx = [2, 2, 3, 4]\n",
    "n = len(lambdax)\n",
    "pdfy = np.zeros((n, 500))\n",
    "cdfy = np.zeros((n, 500))\n",
    "# Cálculo de fYn(y) e FYn(y) e das distribuições assintóticas\n",
    "for i in range(n):\n",
    "    lambday = lambdax[i]\n",
    "    k = kx[i]\n",
    "    loc = 0.00\n",
    "    scale = lambday\n",
    "    pdfy[i, :] = weibull_min.pdf(y, k, loc, scale)\n",
    "    cdfy[i, :] = weibull_min.cdf(y, k, loc, scale)\n",
    "# Geração do gráfico de fY1(y)\n",
    "plt.figure(1, figsize=(10, 5))\n",
    "plt.subplot(1, 2, 1)\n",
    "for i in range(n):\n",
    "    lambday = lambdax[i]\n",
    "    k = kx[i]\n",
    "    plt.plot(y, pdfy[i,:], label=r'$\\lambda$ = {0:0.1f} k = {1:0.1f}'.format(lambdax[i], kx[i]))\n",
    "plt.xlabel('variável aleatória $y$')\n",
    "plt.ylabel(r'$f_{Y_1}(y)$')\n",
    "plt.title('(a) Densidade de probabilidade de Weibull de $Y_1$')\n",
    "plt.xlim(0, 5)\n",
    "plt.ylim(0, 2.0)\n",
    "plt.xticks(np.arange(min(y), max(y)+1, 1.0))\n",
    "plt.yticks(np.arange(0, 2.10, 0.10))\n",
    "plt.legend()\n",
    "# Gráfico FY1(y)\n",
    "plt.subplot(1, 2, 2)\n",
    "for i in range(len(lambdax)):\n",
    "    lambday = lambdax[i]\n",
    "    plt.plot(y, cdfy[i,:], label=r'$\\lambda$ = {0:0.1f} k = {1:0.1f}'.format(lambdax[i], kx[i]))\n",
    "plt.xlabel('variável aleatória $y$')\n",
    "plt.ylabel('$F_{Y_1}(y)$')\n",
    "plt.title('(b) Distribuição acumulada de Weibull de $Y_1$')\n",
    "plt.xlim(0, 5)\n",
    "plt.ylim(0, 1.00)\n",
    "plt.xticks(np.arange(min(y), max(y)+1, 1.0))\n",
    "plt.yticks(np.arange(0, 1.10, 0.10))\n",
    "plt.legend()\n",
    "plt.tight_layout()\n",
    "plt.show()"
   ]
  },
  {
   "cell_type": "markdown",
   "id": "77f71b2b",
   "metadata": {},
   "source": [
    "Os gráficos acima ilustram os formatos das curvas da função de densidade de probabilidade, Figura (a), e da distribuição de probabilidade acumulada, Figura(b) para diversos valores dos parâmetros $\\lambda = \\omega_1 - \\epsilon$ e $k$. Observe-se que quanto maior forem estes parâmetros, mais as curvas se deslocam para a direita, ou seja, as probabilidades de maiores valoes de y crescem."
   ]
  },
  {
   "cell_type": "markdown",
   "id": "c1bc34b3",
   "metadata": {},
   "source": [
    "A média $\\mu_{Y_1}$ e o desvio padrão $\\sigma_{Y_1}$ se relacionam com os parâmetros $k$, $\\omega_{1}$ e $\\epsilon$ através das equações:\n",
    "\n",
    "$$\\mu_{Y_1} = \\epsilon + (\\omega_1 - \\epsilon)\\Gamma\\left(1+\\frac{1}{k}\\right)$$\n",
    "\n",
    "$$\\sigma_{Y_1} = (\\omega_1 - \\epsilon)\\sqrt{\\Gamma\\left(1+\\frac{2}{k}\\right) + \\Gamma^2\\left(1+\\frac{1}{k}\\right)}$$"
   ]
  },
  {
   "cell_type": "markdown",
   "id": "92dd5316",
   "metadata": {},
   "source": [
    "#### Exemplo 5.6 - Distribuição de Weibull: valores mínimos $Y_1$"
   ]
  },
  {
   "cell_type": "markdown",
   "id": "f8b90af7",
   "metadata": {},
   "source": [
    "<img src=\"./images5/junta_soldada.jpg\" alt=\"Junta soldada\" style=\"width:474px\"/>"
   ]
  },
  {
   "cell_type": "markdown",
   "id": "c1e8a94a",
   "metadata": {},
   "source": [
    "Fonte: http://2.bp.blogspot.com/_92UYg8fc9cE/TOitetNGUYI/AAAAAAAAACA/TYcAA7HMjQ8/s1600/Spannturm8.jpg"
   ]
  },
  {
   "cell_type": "markdown",
   "id": "2c483143",
   "metadata": {},
   "source": [
    "##### Fratura de juntas soldadas:\n",
    "\n",
    "* A tensão limite inferior de fratura de uma junta soldada é igual a $\\epsilon = 30 MPa$\n",
    "* A resistência da junta $Y_1$ é modelada por uma distribuição assintótica do Tipo III para valores mínimos.\n",
    "* Os parâmetros da distribuição são: $\\omega_1 = 105 MPa$ e $k=1,75$.\n",
    "* Qual a probabilidade de que a resistência da junta soldada ser no mínimo $115 MPa$?\n",
    "\n",
    "Trata-se de calcular a probabilidade de $Y_1 \\geq 115 MPa$: P(Y_1 \\ge 115MPa) = 1 - P(Y_1 < 115 MPa) = 1 - F_{Y_1}(115)$\n",
    "\n",
    "$$P(Y_1 \\ge 115 MPa) = 1 - \\left\\{ 1 - \\exp{\\left[-\\left(\\frac{115 -30}{105 - 30}\\right)^{1,75}\\right]}\\right\\} = 0,2880$$\n",
    "\n",
    "* A média e o desvio padrão da resistência da junta soldada serão dados por:\n",
    "\n",
    "$$\\mu_{Y_1} = 30 + (105-30)\\Gamma\\left(1+\\frac{1}{1,75}\\right)= 30 + 75[\\Gamma(1,5714)] = 30 + 75(0,8906)=96,80 MPa$$\n",
    "\n",
    "$$\\sigma_{Y_1} = (105-30)\\sqrt{\\Gamma\\left(1+\\frac{2}{1,75}\\right)+\\Gamma^2\\left(1+\\frac{1}{1,75}\\right)}=75\\sqrt{0,9354-(0,8906)^2}=28,30 MPa$$"
   ]
  },
  {
   "cell_type": "markdown",
   "id": "aa210e12",
   "metadata": {
    "tags": []
   },
   "source": [
    "[Retornar ao início da aula](#section_5)"
   ]
  },
  {
   "cell_type": "markdown",
   "id": "30a7fc90",
   "metadata": {},
   "source": [
    "## __Bibliografia__"
   ]
  },
  {
   "cell_type": "markdown",
   "id": "e8f44e93",
   "metadata": {},
   "source": [
    "* __Livros__\n",
    "* ANG,  A.  H-S.; TANG,  W. H.. Probability concepts in engineering planning and design. Volume I:  basic principles. New  York, John Wiley & Sons, 1975.\n",
    "* ANG,  A.  H-S.; TANG,  W. H.. Probability concepts in engineering planning and design. Volume II: decision, risk and reliability. New  York, John Wiley & Sons, 1984.\n",
    "* ANG,  A.  H-S.; TANG,  W. H.. Probability concepts in engineering: Emphasis on applications to Civil and Enviromental Engineering.  2nd ed. Hoboken, NJ, John Wiley & Sons, 2007.\n",
    "* BECK, A. T. Confiabilidade e segurança das  estruturas. Rio de Janeiro, Elsevier, 2019.\n",
    "* HALDAR, A. MAHADEVAN, S. Probability, reliability, and statistical methods in engineering design. New York, Wiley, 2000.\n",
    "* MELCHERS, R.E., BECK, A. T.; Structural reliability analysis and prediction. 3rd ed. John Wiley and Sons, 2018, 514p."
   ]
  }
 ],
 "metadata": {
  "colab": {
   "name": "Capítulo_5.ipynb",
   "provenance": []
  },
  "interpreter": {
   "hash": "f189cad14bda9570c78e3484cdd4044273f5880bd3757c16e7bdbbda1060b186"
  },
  "kernelspec": {
   "display_name": "Python 3 (ipykernel)",
   "language": "python",
   "name": "python3"
  },
  "language_info": {
   "codemirror_mode": {
    "name": "ipython",
    "version": 3
   },
   "file_extension": ".py",
   "mimetype": "text/x-python",
   "name": "python",
   "nbconvert_exporter": "python",
   "pygments_lexer": "ipython3",
   "version": "3.8.5"
  }
 },
 "nbformat": 4,
 "nbformat_minor": 5
}
