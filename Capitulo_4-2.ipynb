{
 "cells": [
  {
   "cell_type": "markdown",
   "id": "1dc445f3-8f0f-41b7-a0fa-541467a1d3db",
   "metadata": {
    "id": "1dc445f3-8f0f-41b7-a0fa-541467a1d3db"
   },
   "source": [
    "### Universidade Federal do Rio Grande - FURG"
   ]
  },
  {
   "cell_type": "markdown",
   "id": "27d28d81-ad30-4559-b52d-0fee9ac96cae",
   "metadata": {
    "id": "27d28d81-ad30-4559-b52d-0fee9ac96cae"
   },
   "source": [
    "### Escola de Engenharia - EE"
   ]
  },
  {
   "cell_type": "markdown",
   "id": "103a5401-6849-4ee0-a254-08a7f684a870",
   "metadata": {
    "id": "103a5401-6849-4ee0-a254-08a7f684a870"
   },
   "source": [
    "### Programa de Pós-graduação em Engenharia Oceânica - PPGEO"
   ]
  },
  {
   "cell_type": "markdown",
   "id": "547b79f5-d7a3-4b02-8ce9-7c1647bff36b",
   "metadata": {
    "id": "547b79f5-d7a3-4b02-8ce9-7c1647bff36b"
   },
   "source": [
    "### Disciplina: Confiabilidade em Engenharia"
   ]
  },
  {
   "cell_type": "markdown",
   "id": "189e93bb-f3e5-4536-9aec-d09046d6929b",
   "metadata": {
    "id": "189e93bb-f3e5-4536-9aec-d09046d6929b"
   },
   "source": [
    "### Professor: Dr. Mauro de Vasconcellos Real"
   ]
  },
  {
   "cell_type": "markdown",
   "id": "0f573eed-b149-49a0-bf9f-5a72b50d1815",
   "metadata": {},
   "source": [
    "# __Aula 09__"
   ]
  },
  {
   "cell_type": "code",
   "execution_count": 3,
   "id": "aae74c59-c562-4c6b-b548-02568c399dd9",
   "metadata": {},
   "outputs": [],
   "source": [
    "import numpy as np\n",
    "import matplotlib.pyplot as plt\n",
    "from scipy.stats import norm"
   ]
  },
  {
   "cell_type": "markdown",
   "id": "ce78f794-4773-4210-bf0c-d89fd0e707f7",
   "metadata": {
    "id": "ce78f794-4773-4210-bf0c-d89fd0e707f7"
   },
   "source": [
    "# __Capítulo 4 - Funções de variáveis aleatórias__ <a name=\"section_4\"></a>"
   ]
  },
  {
   "cell_type": "markdown",
   "id": "9fe80ac0-158e-4bb7-b298-5704288afa5d",
   "metadata": {
    "id": "3ce4b88f-bb46-49e3-b43f-b2c43671b855"
   },
   "source": [
    "[4.3 - Momentos de uma função de variável aleatória](#section_43)  \n",
    "[4.3.1 - Introdução](#section_431)  \n",
    "[4.3.2 - Média e variância de uma função linear](#section_432)  \n",
    "[4.3.3 - Produto de variáveis independentes](#section_433)  \n",
    "[4.3.4 - Média e variância de uma função genérica](#section_434) \n",
    "\n",
    "[4.4 - Considerações conclusivas](#section_44)"
   ]
  },
  {
   "cell_type": "markdown",
   "id": "363aab30-f03b-4ade-9787-42f520b93182",
   "metadata": {},
   "source": [
    "## __4.3 - Momentos de uma função de variável aleatória__  <a name=\"section_43\"></a>"
   ]
  },
  {
   "cell_type": "markdown",
   "id": "18c962ac-c9ac-4fea-a401-1e33bab0d52d",
   "metadata": {},
   "source": [
    "### 4.3.1 -Introdução <a name=\"section_431\"></a>"
   ]
  },
  {
   "cell_type": "markdown",
   "id": "a99647b0-c5aa-4b93-a9bb-0718c9c316fe",
   "metadata": {},
   "source": [
    "* A distribuição de probabilidade de uma função de variáveis aleatórias $Y$ pode, em geral, ser obtida em através das distribuições de probabilidade das variáveis independentes $X_1, X_2,...,X_n$.\n",
    "\n",
    "* Porém, se a função $Y=g(X_1, X_2,...,X_n)$ for não-linear a determinação da expressão analítica para sua função densidade de probabilidade $f_Y (X_1, X_2,...,X_n)$ pode ser muito difícil ou mesmo inviável.\n"
   ]
  },
  {
   "cell_type": "markdown",
   "id": "69d5e1e0-38fb-4561-8c81-97de07303b0d",
   "metadata": {},
   "source": [
    "#### Esperança Matemática\n",
    "\n",
    "* Em muitos casos somente é possível a determinação dos primeiros momentos da distribuição: a média e a variância.\n",
    "\n",
    "* A esperança matemática de uma função Z de n variáveis aleatórias Z=g(X1, X2,...,Xn) é dada por:\n",
    "\n",
    "$$ E(Z) = E[g(X_1,X_2,...,X_n)] = \\int_{-\\infty}^{+\\infty}... \\int_{-\\infty}^{+\\infty}g(x_1,x_2,...,x_n)f_{X_1,X_2,...,X_n}(x_1,x_2,...,x_n)dx_1dx_2...dx_n$$"
   ]
  },
  {
   "cell_type": "markdown",
   "id": "94727872-f7f6-486b-939e-12268ddf43de",
   "metadata": {
    "tags": []
   },
   "source": [
    "[Retornar ao início da aula](#section_4)"
   ]
  },
  {
   "cell_type": "markdown",
   "id": "467185b8-10b7-4bca-86a9-2eddda0e134a",
   "metadata": {},
   "source": [
    "### 4.3.2 - Média e variância de uma função linear <a name=\"section_432\"></a>"
   ]
  },
  {
   "cell_type": "markdown",
   "id": "15d138bc-defc-4db7-9aba-72907fc1b45e",
   "metadata": {},
   "source": [
    "* Função linear: $Y = aX + b$\n",
    "\n",
    "* Média (esperança matemática) de $Y$:\n",
    "\n",
    "$$E(Y) = E(aX+b) = \\int_{-\\infty}^{+\\infty}(ax+b)f_X(x)dx = a \\int_{-\\infty}^{+\\infty}xf_X(x)dx + b \\int_{-\\infty}^{+\\infty}f_X(x)dx = a E(x) + b$$\n",
    "\n",
    "* Variância de $Y = aX + b$:\n",
    "\n",
    "$$Var(Y) = E[(Y-\\mu_Y)^2] = E[(aX+b-a\\mu_X-b)^2] = a^2\\int_{-\\infty}^{+\\infty}(x-\\mu_X)^2f_X(x)dx = a^2Var(X)$$\n",
    "\n",
    "* Média (esperança matemática) de $Y = a_1X_1+a_2X_2$:\n",
    "\n",
    "$$E(Y) = E(a_1X_1+a_2X_2) = \\int_{-\\infty}^{+\\infty}\\int_{-\\infty}^{+\\infty}(a_1X_1+a_2X_2)f_{X_1,X_2}(x_1,x_2)dx_1dx_2 $$ \n",
    "\n",
    "$$E(Y) = a_1\\int_{-\\infty}^{+\\infty}x_1\\left[\\int_{-\\infty}^{+\\infty}f_{X_1,X_2}(x_1,x_2)dx_2\\right]dx_1 + a_2\\int_{-\\infty}^{+\\infty}x_2\\left[\\int_{-\\infty}^{+\\infty}f_{X_1,X_2}(x_1,x_2)dx_1\\right]dx_2$$\n",
    "\n",
    "$$E(Y) = a_1\\int_{-\\infty}^{+\\infty}x_1 f_{X_1}(x_1)dx_1 + a_2\\int_{-\\infty}^{+\\infty}x_2 f_{X_2}(x_2)dx_2 $$\n",
    "\n",
    "$$E(Y) = a_1E(X_1)+a_2E(X_2)$$\n",
    "\n",
    "* Variância de $Y = a_1X_1+a_2X_2$:\n",
    "\n",
    "$$ Var(Y) = Var(a_1X_1 + a_2X_2) = E\\{[(a_1X_1 + a_2X_2)-(a_1\\mu_{X_1}+a_2\\mu_{X_2})]^2\\} = E\\{[a_1(X_1-\\mu_{X_1}) + a_2(X_2-\\mu_{X_2})]^2\\}$$\n",
    "\n",
    "$$ Var(Y) = E[a_1^2(X_1-\\mu_{X_1})^2 + 2a_1a_2(X_1-\\mu_{X_1})(X_2-\\mu_{X_2}) + a_2^2(X_2-\\mu_{X_2})^2]$$\n",
    "\n",
    "$$ Var(Y) = a_1^2 Var(X_1) +  2 a_1 a_2 Cov(X_1,X_2) + a_2^2 Var(X_2) $$\n",
    "\n",
    "Logo:\n",
    "\n",
    "$$ Var(Y) = a_1^2 \\sigma_{X_1}^2 + a_2^2 \\sigma_{X_2}^2 + 2 a_1 a_2 Cov(X_1,X_2)$$  \n",
    "\n",
    "\n",
    "* Se as variáveis $X_1$ e $X_2$ forem estatisticamente independentes, tem-se que: $Cov(X_1,X_2) = 0$\n",
    "\n",
    "Logo:\n",
    "\n",
    "$$ Var(Y) = a_1^2 \\sigma_{X_1}^2 + a_2^2 \\sigma_{X_2}^2 $$"
   ]
  },
  {
   "cell_type": "markdown",
   "id": "cc9db1bd-1925-4301-b159-3f91ede6d191",
   "metadata": {},
   "source": [
    "#### Generalização:\n",
    "\n",
    "* Função linear: $$Y = \\sum_{i=1}^{n} a_iX_i$$\n",
    "\n",
    "* Média: \n",
    "\n",
    "$$ E(Y) = \\sum_{i=1}^{n} a_iE(X_i) = \\sum_{i=1}^{n} a_i\\mu_{X_i}  $$\n",
    "\n",
    "* Variância:\n",
    "\n",
    "$$ Var(Y) = \\sum_{i=1}^{n} a_i^2Var(X_i) + \\sum_{i \\neq j}^{n}\\sum^{n} a_ia_jCov{X_iX_j}  $$\n",
    "\n",
    "$$ Var(Y) = \\sum_{i=1}^{n} a_i^2\\sigma_{X_i}^2 + \\sum_{i \\neq j}^{n}\\sum^{n} a_ia_j\\rho_{ij}\\sigma_{X_i}{X_j}  $$\n"
   ]
  },
  {
   "cell_type": "markdown",
   "id": "2d1c6f54-da2d-4edc-8f1b-aa4e0dc0dcea",
   "metadata": {
    "tags": []
   },
   "source": [
    "[Retornar ao início da aula](#section_4)"
   ]
  },
  {
   "cell_type": "markdown",
   "id": "1d456a80-f962-4337-9e66-73affd0f163b",
   "metadata": {},
   "source": [
    "### 4.3.3 - Produto de variáveis independentes <a name=\"section_433\"></a>"
   ]
  },
  {
   "cell_type": "markdown",
   "id": "d38d2fc5-6f70-4872-98a4-78b357a8f9a7",
   "metadata": {},
   "source": [
    "* Seja: $Z = X_1X_2...X_n$\n",
    "\n",
    "* Média:\n",
    "\n",
    "$$E(Z) = \\int_{-\\infty}^{+\\infty}...\\int_{-\\infty}^{+\\infty}x_1...x_n f_{X_1}(x_1)...f_{X_n}(x_n)dx_1...dx_n$$  \n",
    "\n",
    "\n",
    "$$ E(Z) = \\int_{-\\infty}^{+\\infty}x_1f_{X_1}(x_1)dx_1\\int_{-\\infty}^{+\\infty}x_2f_{X_2}(x_2)dx_2...\\int_{-\\infty}^{+\\infty}x_nf_{X_n}(x_n)dx_n$$  \n",
    "\n",
    "\n",
    "$$E(Z) = E(X_1)E(X_2)...E(X_n)$$\n",
    "\n",
    "$$\\mu_Z = \\mu_{X_1}\\mu_{X_2}...\\mu_{X_n}$$\n",
    "\n",
    "* Variância:\n",
    "\n",
    "$$Var(Z) = E(Z^2) - \\mu_Z^2$$\n",
    "\n",
    "$$Var(Z) = E[(X_1X_2...X_n)^2] - (\\mu_{X_1}\\mu_{X_2}...\\mu_{X_n})^2$$\n",
    "\n",
    "$$Var(Z) = E(X_1^2)E(X_2^2)...E(X_n^2) - (\\mu_{X_1}\\mu_{X_2}...\\mu_{X_n})^2$$\n",
    "\n",
    "$$\\sigma_Z^2 =  E(X_1^2)E(X_2^2)...E(X_n^2) - (\\mu_{X_1}\\mu_{X_2}...\\mu_{X_n})^2$$\n"
   ]
  },
  {
   "cell_type": "markdown",
   "id": "8d5c71bd-e50f-41bb-80ef-13d1605109ee",
   "metadata": {
    "tags": []
   },
   "source": [
    "[Retornar ao início da aula](#section_4)"
   ]
  },
  {
   "cell_type": "markdown",
   "id": "20ebf1a4-fc5b-428c-8b32-ef0d55bc3cb3",
   "metadata": {},
   "source": [
    "### 4.3.4 - Média e variância de uma função genérica <a name=\"section_434\"></a>"
   ]
  },
  {
   "cell_type": "markdown",
   "id": "c48b5065-3ec7-4fca-b042-40caba50dfc3",
   "metadata": {},
   "source": [
    "* Seja a função genérica: $Y = g(X)$\n",
    "\n",
    "* Momentos exatos:\n",
    "\n",
    "$$E(Y) = \\int_{-\\infty}^{+\\infty}g(x)f(x)dx$$\n",
    "\n",
    "$$Var(Y) = \\int_{-\\infty}^{+\\infty}[g(x)-E(Y)]^2f(x)dx$$\n",
    "\n",
    "* Para o cálculo da média $E(Y)$ e da variância $Var(Y)$ de forma exata é necessário conhecer a função densidade de probabilidade $f_X(x)$ e poder fazer a integração analítica."
   ]
  },
  {
   "cell_type": "markdown",
   "id": "fd0ef178-54dc-4cdf-95e1-1324016b81e3",
   "metadata": {},
   "source": [
    "#### Fórmulas aproximadas para a média e o desvio padrão\n",
    "\n",
    "* Expandindo-se a função $Y=g(X)$ em __Série de Taylor__ em torno da média $\\mu_X$:\n",
    "\n",
    "$$Y = g(\\mu_X) + \\frac{dg}{dx}(X-\\mu_X) + \\frac{1}{2}\\frac{d^2g}{dx^2}(X-\\mu_X)^2+...$$\n",
    "\n",
    "onde as derivadas são calculadas para o ponto $X = \\mu_X$.\n",
    "\n",
    "#### Aproximação de primeira ordem\n",
    "\n",
    "* Truncando-se a série no termo linear (primeira ordem):\n",
    "\n",
    "$$Y \\approxeq g(\\mu_X) + \\frac{dg}{dx}\\Bigr\\rvert_{X=\\mu_X}(X-\\mu_X)$$ \n",
    "\n",
    "* Cálculo do __valor esperado__ $E(Y)$ aproximado:\n",
    "\n",
    "$$E(Y) \\approxeq E[g(\\mu_X)] + E\\left[\\frac{dg}{dx}\\Bigr\\rvert_{X=\\mu_X}(X-\\mu_X)\\right]$$ \n",
    "\n",
    "$$E(Y) \\approxeq E[g(\\mu_X)] + \\frac{dg}{dx}\\Bigr\\rvert_{X=\\mu_X}E\\left[(X-\\mu_X)\\right]$$ \n",
    "\n",
    "$$E(Y) \\approxeq E[g(\\mu_X)] + \\frac{dg}{dx}\\Bigr\\rvert_{X=\\mu_X}[E(X)-E(\\mu_X)]$$ \n",
    "\n",
    "$$E(Y) \\approxeq E[g(\\mu_X)] $$\n",
    "\n",
    "* Cálculo da __variância__ aproximada $Var(Y)$:\n",
    "\n",
    "$$Var(Y) \\approxeq E[(Y-\\mu_Y)^2]$$\n",
    "\n",
    "$$Var(Y) \\approxeq E\\left\\{\\left[g(\\mu_X) + \\frac{dg}{dx}\\Bigr\\rvert_{X=\\mu_X}(X-\\mu_X) - g(\\mu_X)\\right]^2\\right\\}$$ \n",
    "\n",
    "$$Var(Y) \\approxeq E\\left[\\frac{dg}{dx}\\Bigr\\rvert_{X=\\mu_X}^2(X-\\mu_X)^2\\right] = \\frac{dg}{dx}\\Bigr\\rvert_{X=\\mu_X}^2E\\left[(X-\\mu_X)^2\\right] $$ \n",
    "\n",
    "$$Var(Y) \\approxeq Var(X)\\frac{dg}{dx}\\Bigr\\rvert_{X=\\mu_X}^2$$\n",
    "\n",
    "$$Var(Y) \\approxeq \\sigma_X^2 \\frac{dg}{dx}\\Bigr\\rvert_{X=\\mu_X}^2$$\n",
    "\n",
    "#### Validade da aproximação:\n",
    "\n",
    "* A aproximação de 1ª ordem será boa se a função $g(x)$ for aproximadamente linear.\n",
    "\n",
    "* Se a variância de $X$, $Var(X)$, for pequena em relação a $g(\\mu_X)$ a aproximação será boa, para muitas aplicações práticas, mesmo se a função $g(X)$ for não-linear.\n",
    "\n",
    "#### Aproximação de segunda ordem:\n",
    "\n",
    "* Retendo-se até o termo de segunda ordem na Série de Taylor, resulta:\n",
    "\n",
    "* Valor esperado $E(Y)$:\n",
    "\n",
    "$$E(Y) \\approxeq g(\\mu_X) + \\frac{1}{2}Var(X)\\frac{d^2g}{dx^2}\\Bigr\\rvert_{X=\\mu_X}$$\n",
    "\n",
    "$$E(Y) \\approxeq g(\\mu_X) + \\frac{1}{2}\\sigma_X^2\\frac{d^2g}{dx^2}\\Bigr\\rvert_{X=\\mu_X}$$\n",
    "\n",
    "\n",
    "* Variância $Var(Y)$:\n",
    "\n",
    "$$Var(Y) \\approxeq Var(X)\\frac{dg}{dx}\\Bigr\\rvert_{X=\\mu_X}^2 + \\frac{1}{4}[Var(X)]^2\\frac{d^2g}{dx^2}\\Bigr\\rvert_{X=\\mu_X}^2 + E[(X-\\mu_X)^3]\\frac{dg}{dx}\\Bigr\\rvert_{X=\\mu_X}\\frac{d^2g}{dx^2}\\Bigr\\rvert_{X=\\mu_X} + \\frac{1}{4}E[(X-\\mu_X)^4]\\frac{d^2g}{dx^2}\\Bigr\\rvert_{X=\\mu_X}^2$$\n",
    "\n",
    "* Observe-se que a aproximação de segunda ordem da variância $Var(Y)$ exige o conhecimento de momentos de terceira e quarta ordem da variável $X$, o que torna a sua utilização dificultosa.\n",
    "\n",
    "* Por este motivo é comum empregar-se uma aproximação de segunda ordem para a média e uma aproximação de primeira ordem para a variância da função $Y$."
   ]
  },
  {
   "cell_type": "markdown",
   "id": "9d1a8488-efef-4a38-b679-bfb35d3fe493",
   "metadata": {},
   "source": [
    "#### Exemplo 4.6 - Pressão de impacto de onda marítima"
   ]
  },
  {
   "cell_type": "markdown",
   "id": "f0e228b5-58c3-4f91-aa50-924b2456134e",
   "metadata": {},
   "source": [
    "<img src=\"./images4/impacto_onda.jpg\" alt=\"Impacto de onda\" style=\"width:474px\"/>"
   ]
  },
  {
   "cell_type": "markdown",
   "id": "74d70fc7-255d-4326-a1a9-90273be73159",
   "metadata": {},
   "source": [
    "Fonte: https://www.deepbv.nl/wp-content/uploads/2017/05/pier_breakwater_sea_wave_blow_ocean_storm_stone_54973_1920x1080.jpg"
   ]
  },
  {
   "cell_type": "markdown",
   "id": "4ca980b4-4f24-4254-9449-6c9f8cdf733a",
   "metadata": {},
   "source": [
    "* A pressão de impacto de uma onda marítima pode ser calculada a partir da expressão:\n",
    "\n",
    "$$ p_{m\\acute ax} = 2,7 \\rho \\frac{K}{D}U^2$$\n",
    "\n",
    "Onde:\n",
    "\n",
    "$p_{m\\acute ax}$ é a pressão máxima em $N/m^2$;  \n",
    "$\\rho$ é a massa específica da água do mar em $kg/m^3$;  \n",
    "$K/D$ é uma relação paramétrica;  \n",
    "$U$ é a velocidade horizontal da onda em $m/s$  \n",
    "\n",
    "* Considerar:\n",
    "\n",
    "Valor esperado da velocidade horizontal: $E(U) = 1,37 m/s$\n",
    "Coeficiente de variação da velocidade horizontal: $\\delta_U = 20\\%$\n",
    "Massa específica da água do mar: $\\rho = 1.010 kg/m^3$\n",
    "Relação paramétrica: $K/D = 35$\n",
    "\n",
    "* Valor esperado de $p_{m\\acute ax}$ com aproximação de primeira ordem:\n",
    "\n",
    "$$E(p_{max}) = \\mu_{p_{m\\acute ax}} = p_{m\\acute ax}[E(U)] = 2,7 \\rho \\frac{K}{D}[E(U)]^2 = 2,7(1.010)(35)(1,37)^2 = 179,14 \\frac{kN}{m^2}$$\n",
    "\n",
    "* Variância de $p_{m\\acute ax}$ com aproximação de primeira ordem:\n",
    "\n",
    "$$Var(p_{m\\acute ax}) = Var(U)\\left(\\frac{dp_{m\\acute ax}}{dU}\\Bigr\\rvert_{U=1,37}\\right)^2$$\n",
    "\n",
    "$$\\frac{dp_{m\\acute ax}}{dU} = 5,4 \\rho \\frac{K}{D}U \\quad \\rightarrow \\quad \\frac{dp_{m\\acute ax}}{dU}\\Bigr\\rvert_{U=1,37} = 261.519,30$$\n",
    "\n",
    "$$Var(U) = [(0,20)(1,37)]^2 = 0,0751$$\n",
    "\n",
    "$$Var(p_{m\\acute ax}) = 0,0751(261.519,30)^2 = 5,136\\times10^9$$\n",
    "\n",
    "$$\\sigma_{p_{m\\acute ax}} = \\sqrt{Var(p_{m\\acute ax})} = 71,66 \\frac{kN}{m^2}$$\n",
    "\n",
    "$$\\delta_{p_{m\\acute ax}} = \\frac{\\mu_{p_{m\\acute ax}}}{\\sigma_{p_{m\\acute ax}}} = 0,40$$\n",
    "\n",
    "* Valor esperado de $p_{m\\acute ax}$ com aproximação de segunda ordem:\n",
    "\n",
    "\n",
    "$$E(p_{m\\acute ax}) = g(\\mu_U) + \\frac{1}{2}Var(U)\\frac{d^2p_{m\\acute ax}}{dU^2}\\Bigr\\rvert_{U=\\mu_U}$$\n",
    "\n",
    "$$ \\frac{d^2p_{m\\acute ax}}{dU^2} = 5,4 \\rho \\frac{K}{D}$$\n",
    "\n",
    "$$ \\frac{d^2p_{m\\acute ax}}{dU^2}\\Bigr\\rvert_{U=\\mu_U} = 5,4(1.010)(35) = 190,89$$\n",
    "\n",
    "$$ E(p_{max}) = \\mu_{p_{m\\acute ax}} = 179,14 + \\frac{1}{2}(0,0751)(190,89) = 186,31 \\frac{kN}{m^2}$$\n",
    "\n",
    "Neste caso, a diferença em relação ao valor esperado obtido com uma aproximação de primeira ordem é de apenas $4\\%$.\n",
    "\n"
   ]
  },
  {
   "cell_type": "markdown",
   "id": "90bcc7d0-821b-4dcd-a2c7-cbd76399edb2",
   "metadata": {},
   "source": [
    "#### Funções de várias variáveis\n",
    "\n",
    "* Seja: $Y = g(X_1, X_2,...,X_n)$\n",
    "\n",
    "* Expandindo-se em Série de Taylor:\n",
    "\n",
    "$$Y  = g(X_1, X_2,...,X_n) + \\sum_{i=1}^n \\frac{\\partial g}{\\partial X_i}(X_i - \\mu_{X_i}) + \\frac{1}{2}\\sum_{i=1}^n \\sum_{j=1}^n\\frac{\\partial^2 g}{\\partial X_i X_j}(X_i - \\mu_{X_i})(X_j - \\mu_{X_j})...$$\n",
    "\n",
    "* Média ou valor esperado de $Y$ com aproximação de primeira ordem:\n",
    "\n",
    "$$E(Y) = \\mu_Y =  g(\\mu_{X_1},\\mu_{X_2},...,\\mu_{X_n})$$\n",
    "\n",
    "* Variância de $Y$ com aproximação de primeira ordem:\n",
    "\n",
    "$$ Var(Y) = \\sum_{i=1}^n c_i^2 Var(X_i) + \\sum_{i=1}^n \\sum_{j=1}^n c_i c_j Cov(X_i, X_j)$$\n",
    "\n",
    "Onde:\n",
    "\n",
    "$$c_i = \\frac{\\partial  g(\\mu_{X_1},\\mu_{X_2},...,\\mu_{X_n})}{\\partial X_i}$$\n",
    "\n",
    "$$c_j = \\frac{\\partial  g(\\mu_{X_1},\\mu_{X_2},...,\\mu_{X_n})}{\\partial X_j}$$\n",
    "\n",
    "* Se as variáveis $X_i$ forem estatisticamente independentes: $Cov(X_i,X_j) = 0,00$, então, resulta:\n",
    "\n",
    "$$ Var(Y) = \\sum_{i=1}^n c_i^2 Var(X_i)$$\n",
    "\n",
    "* Média ou valor esperado de $Y$ com aproximação de segunda ordem para variáveis estatisticamente independentes:\n",
    "\n",
    "$$E(Y) = \\mu_Y =  g(\\mu_{X_1},\\mu_{X_2},...,\\mu_{X_n}) +  \\frac{1}{2}\\sum_{i=1}^n \\frac{\\partial^2  g(\\mu_{X_1},\\mu_{X_2},...,\\mu_{X_n})}{\\partial X_i^2} Var(X_i)$$\n",
    "\n",
    "* As condições de validade da aproximação são as mesmas que para uma função de uma variável. \n",
    "\n",
    "* Média ou valor esperado de $Y$ com aproximação de segunda ordem para variáveis correlacionadas:\n",
    "\n",
    "$$E(Y) = \\mu_Y =  g(\\mu_{X_1},\\mu_{X_2},...,\\mu_{X_n}) +  \\frac{1}{2}\\sum_{i=1}^n \\sum_{j=1}^n \\frac{\\partial^2  g(\\mu_{X_1},\\mu_{X_2},...,\\mu_{X_n})}{\\partial X_i X_j} Cov(X_i, X_j)$$\n",
    "\n",
    "\n",
    "Onde: $Cov(X_i,X_j) = \\rho_{X_i,X_j} \\sigma_{X_i} \\sigma_{X_j}$"
   ]
  },
  {
   "cell_type": "markdown",
   "id": "bf8a48e6-a017-44ac-b7f8-9ffee5e43cb8",
   "metadata": {},
   "source": [
    "#### Exemplo 4.7 - Coluna com carga inclinada"
   ]
  },
  {
   "cell_type": "markdown",
   "id": "f56f5a5d-cd10-40fb-b7d3-2780696a74f2",
   "metadata": {},
   "source": [
    "<img src=\"./images4/carga_inclinada.jpg\" alt=\"Coluna com carga inclinada\" style=\"width:250px\"/>"
   ]
  },
  {
   "cell_type": "markdown",
   "id": "a6a8acc8-e081-42d9-9bf0-def073178733",
   "metadata": {},
   "source": [
    "Seja a coluna da figura acima, submetida a uma carga $S$, que forma um ângulo $\\theta$ com a vertical. Admite-se que $S$ e $\\theta$ são duas variáveis aleatórias  estatisticamente independentes com os seguintes parâmetros:  \n",
    "\n",
    "* $S$: $\\mu_S = 100 kN$ e $\\sigma_S = 20 kN$\n",
    "* $\\theta$: $\\mu_{\\theta} = 30^°(0,524 rad)$ e $\\sigma_{\\theta} = 5^°(0,087 rad)$\n",
    "\n",
    "Determinar a média e o desvio padrão para o momento fletor $M$ na base da coluna.\n",
    "\n",
    "__Solução:__\n",
    "\n",
    "* Equação do momento fletor na base: $M = sen(\\theta)Sh$\n",
    "\n",
    "* Média ou valor esperado de $M$:\n",
    "\n",
    "$$E(M) \\approxeq M(\\mu_S,\\mu_{\\theta})$$\n",
    "\n",
    "$$E(M) \\approxeq sen(\\mu_{theta})\\mu_Sh$$\n",
    "\n",
    "$$E(M) \\approxeq sen(30^°)(100)(5) = 250 kN$$\n",
    "\n",
    "* Variância de $M$:\n",
    "\n",
    "$$Var(M) \\approxeq \\left(\\frac{\\partial M}{\\partial S}\\right)^2 Var(S) + \\left(\\frac{\\partial M}{\\partial \\theta}\\right)^2 Var(\\theta)$$\n",
    "\n",
    "$$ \\frac{\\partial M}{\\partial S} = sen(\\theta)h \\quad \\rightarrow \\quad \\frac{\\partial M}{\\partial S}\\Bigr\\rvert_{S=\\mu_S,\\theta = \\mu_{\\theta}} = 2,50$$\n",
    "\n",
    "$$ \\frac{\\partial M}{\\partial \\theta} = cos(\\theta)Sh \\quad \\rightarrow \\quad \\frac{\\partial M}{\\partial \\theta}\\Bigr\\rvert_{S=\\mu_S,\\theta = \\mu_{\\theta}} = 433,01$$\n",
    "\n",
    "$$Var(M) = (2,50)^2(20)^2 + (433,01)^2(0,087)^2 = 3.919,16$$\n",
    "\n",
    "$$\\sigma_M = \\sqrt{Var(M)} = 62,60 kNm$$\n",
    "\n",
    "* Cáculo da média de $M$ com uma aproximação de segunda ordem:\n",
    "\n",
    "$$E(M) \\approxeq M(\\mu_S,\\mu_{\\theta}) + \\frac{1}{2}\\left[\\frac{\\partial^2 M}{\\partial S^2} Var(S) + \\frac{\\partial^2 M}{\\partial \\theta^2} Var(\\theta)\\right]$$\n",
    "\n",
    "$$ \\frac{\\partial^2 M}{\\partial S^2} = 0,00$$\n",
    "\n",
    "$$ \\frac{\\partial^2 M}{\\partial \\theta^2} = -sen(\\theta)Sh \\quad \\rightarrow \\quad \\frac{\\partial^2 M}{\\partial \\theta^2}\\Bigr\\rvert_{S=\\mu_S,\\theta = \\mu_{\\theta}} = -250,00$$\n",
    "\n",
    "$$E(M) \\approxeq 250 + \\frac{1}{2}\\left[(0,00)(20)^2 + (-250,00)(0,087)^2\\right] = 249,05 kNm$$\n",
    "\n",
    "Para este problema a diferença entre a aproximação de segunda ordem para a de primeira ordem foi de apenas $0,38\\%$.\n",
    "\n",
    "\n",
    "\n"
   ]
  },
  {
   "cell_type": "markdown",
   "id": "88791feb-b15e-4b14-b744-b3856ff7afda",
   "metadata": {
    "tags": []
   },
   "source": [
    "[Retornar ao início da aula](#section_4)"
   ]
  },
  {
   "cell_type": "markdown",
   "id": "7fdad920-37fc-48ff-a42d-cc06a7f187ad",
   "metadata": {},
   "source": [
    "### 4.4 - Observações conclusivas <a name=\"section_44\"></a>"
   ]
  },
  {
   "cell_type": "markdown",
   "id": "35eab558-7532-475b-8d49-006b43fb49b9",
   "metadata": {},
   "source": [
    "* As características estatísticas de uma função de variáveis aleatórias podem ser obtidas a partir das propriedades estatísticas das variáveis independentes.\n",
    "\n",
    "* As principais características são a distribuição de probabilidade, a média e a variância (ou o desvio padrão).\n",
    "\n",
    "* A função densidade de probabilidade pode ser difícil de se obter, especialmente para funções não-lineares.\n",
    "\n",
    "* Então, a função deverá ser caracterizada apenas pelos seus primeiros momentos, ou seja, a média e o desvio padrão.\n",
    "\n",
    "* Quando não for possível a determinação exata destes momentos, aproximações de primeira e segunda ordem pode ser utilizadas."
   ]
  },
  {
   "cell_type": "markdown",
   "id": "669afcb0-b718-4a2b-a337-71b531ddbabd",
   "metadata": {
    "tags": []
   },
   "source": [
    "[Retornar ao início da aula](#section_4)"
   ]
  },
  {
   "cell_type": "markdown",
   "id": "ced6a590-b2da-450c-b3d8-76efecd2f4d5",
   "metadata": {},
   "source": [
    "## __Bibliografia__"
   ]
  },
  {
   "cell_type": "markdown",
   "id": "22843f6f-9513-4934-85e2-79f9121882c1",
   "metadata": {},
   "source": [
    "* __Livros__\n",
    "* ANG,  A.  H-S.; TANG,  W. H.. Probability concepts in engineering planning and design. Volume I:  basic principles. New  York, John Wiley & Sons, 1975.\n",
    "* ANG,  A.  H-S.; TANG,  W. H.. Probability concepts in engineering planning and design. Volume II: decision, risk and reliability. New  York, John Wiley & Sons, 1984.\n",
    "* ANG,  A.  H-S.; TANG,  W. H.. Probability concepts in engineering: Emphasis on applications to Civil and Enviromental Engineering.  2nd ed. Hoboken, NJ, John Wiley & Sons, 2007.\n",
    "* BECK, A. T. Confiabilidade e segurança das  estruturas. Rio de Janeiro, Elsevier, 2019.\n",
    "* HALDAR, A. MAHADEVAN, S. Probability, reliability, and statistical methods in engineering design. New York, Wiley, 2000.\n",
    "* MELCHERS, R.E., BECK, A. T.; Structural reliability analysis and prediction. 3rd ed. John Wiley and Sons, 2018, 514p."
   ]
  }
 ],
 "metadata": {
  "colab": {
   "name": "Capítulo_1.ipynb",
   "provenance": []
  },
  "kernelspec": {
   "display_name": "Python 3 (ipykernel)",
   "language": "python",
   "name": "python3"
  },
  "language_info": {
   "codemirror_mode": {
    "name": "ipython",
    "version": 3
   },
   "file_extension": ".py",
   "mimetype": "text/x-python",
   "name": "python",
   "nbconvert_exporter": "python",
   "pygments_lexer": "ipython3",
   "version": "3.8.5"
  }
 },
 "nbformat": 4,
 "nbformat_minor": 5
}
