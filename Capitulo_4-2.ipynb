{
 "cells": [
  {
   "cell_type": "markdown",
   "id": "1dc445f3-8f0f-41b7-a0fa-541467a1d3db",
   "metadata": {
    "id": "1dc445f3-8f0f-41b7-a0fa-541467a1d3db"
   },
   "source": [
    "### Universidade Federal do Rio Grande - FURG"
   ]
  },
  {
   "cell_type": "markdown",
   "id": "27d28d81-ad30-4559-b52d-0fee9ac96cae",
   "metadata": {
    "id": "27d28d81-ad30-4559-b52d-0fee9ac96cae"
   },
   "source": [
    "### Escola de Engenharia - EE"
   ]
  },
  {
   "cell_type": "markdown",
   "id": "103a5401-6849-4ee0-a254-08a7f684a870",
   "metadata": {
    "id": "103a5401-6849-4ee0-a254-08a7f684a870"
   },
   "source": [
    "### Programa de Pós-graduação em Engenharia Oceânica - PPGEO"
   ]
  },
  {
   "cell_type": "markdown",
   "id": "547b79f5-d7a3-4b02-8ce9-7c1647bff36b",
   "metadata": {
    "id": "547b79f5-d7a3-4b02-8ce9-7c1647bff36b"
   },
   "source": [
    "### Disciplina: Confiabilidade em Engenharia"
   ]
  },
  {
   "cell_type": "markdown",
   "id": "189e93bb-f3e5-4536-9aec-d09046d6929b",
   "metadata": {
    "id": "189e93bb-f3e5-4536-9aec-d09046d6929b"
   },
   "source": [
    "### Professor: Dr. Mauro de Vasconcellos Real"
   ]
  },
  {
   "cell_type": "markdown",
   "id": "0f573eed-b149-49a0-bf9f-5a72b50d1815",
   "metadata": {},
   "source": [
    "# __Aula 09__"
   ]
  },
  {
   "cell_type": "code",
   "execution_count": 2,
   "id": "aae74c59-c562-4c6b-b548-02568c399dd9",
   "metadata": {},
   "outputs": [],
   "source": [
    "import numpy as np\n",
    "import matplotlib.pyplot as plt\n",
    "from scipy.stats import norm"
   ]
  },
  {
   "cell_type": "markdown",
   "id": "ce78f794-4773-4210-bf0c-d89fd0e707f7",
   "metadata": {
    "id": "ce78f794-4773-4210-bf0c-d89fd0e707f7"
   },
   "source": [
    "# __Capítulo 4 - Funções de variáveis aleatórias__"
   ]
  },
  {
   "cell_type": "markdown",
   "id": "363aab30-f03b-4ade-9787-42f520b93182",
   "metadata": {},
   "source": [
    "## __4.3 - Momentos de uma função de variável aleatória__  <a name=\"section_43\"></a>"
   ]
  },
  {
   "cell_type": "markdown",
   "id": "81e235ec-da21-4c33-87e8-53af2266c836",
   "metadata": {
    "id": "3ce4b88f-bb46-49e3-b43f-b2c43671b855"
   },
   "source": [
    "[4.3.1 - Introdução](#section_431)  \n",
    "[4.3.2 - Média e variância de uma função linear](#section_432)  \n",
    "[4.3.3 - Produto de variáveis independentes](#section_433)  \n",
    "[4.3.4 - Média e variância de uma função genérica](#section_434)"
   ]
  },
  {
   "cell_type": "markdown",
   "id": "18c962ac-c9ac-4fea-a401-1e33bab0d52d",
   "metadata": {},
   "source": [
    "### 4.3.1 -Introdução <a name=\"section_431\"></a>"
   ]
  },
  {
   "cell_type": "markdown",
   "id": "a99647b0-c5aa-4b93-a9bb-0718c9c316fe",
   "metadata": {},
   "source": [
    "* A distribuição de probabilidade de uma função de variáveis aleatórias $Y$ pode, em geral, ser obtida em através das distribuições de probabilidade das variáveis independentes $X_1, X_2,...,X_n$.\n",
    "\n",
    "* Porém, se a função $Y=g(X_1, X_2,...,X_n)$ for não-linear a determinação da expressão analítica para sua função densidade de probabilidade $f_Y (X_1, X_2,...,X_n)$ pode ser muito difícil ou mesmo inviável.\n"
   ]
  },
  {
   "cell_type": "markdown",
   "id": "69d5e1e0-38fb-4561-8c81-97de07303b0d",
   "metadata": {},
   "source": [
    "#### Esperança Matemática\n",
    "\n",
    "* Em muitos casos somente é possível a determinação dos primeiros momentos da distribuição: a média e a variância.\n",
    "\n",
    "* A esperança matemática de uma função Z de n variáveis aleatórias Z=g(X1, X2,...,Xn) é dada por:\n",
    "\n",
    "$$ E(Z) = E[g(X_1,X_2,...,X_n)] = \\int_{-\\infty}^{+\\infty}... \\int_{-\\infty}^{+\\infty}g(x_1,x_2,...,x_n)f_{X_1,X_2,...,X_n}(x_1,x_2,...,x_n)dx_1dx_2...dx_n$$"
   ]
  },
  {
   "cell_type": "markdown",
   "id": "669afcb0-b718-4a2b-a337-71b531ddbabd",
   "metadata": {},
   "source": [
    "[Retornar ao início da aula](#section_43)"
   ]
  },
  {
   "cell_type": "markdown",
   "id": "ced6a590-b2da-450c-b3d8-76efecd2f4d5",
   "metadata": {},
   "source": [
    "## __Bibliografia__"
   ]
  },
  {
   "cell_type": "markdown",
   "id": "22843f6f-9513-4934-85e2-79f9121882c1",
   "metadata": {},
   "source": [
    "* __Livros__\n",
    "* ANG,  A.  H-S.; TANG,  W. H.. Probability concepts in engineering planning and design. Volume I:  basic principles. New  York, John Wiley & Sons, 1975.\n",
    "* ANG,  A.  H-S.; TANG,  W. H.. Probability concepts in engineering planning and design. Volume II: decision, risk and reliability. New  York, John Wiley & Sons, 1984.\n",
    "* ANG,  A.  H-S.; TANG,  W. H.. Probability concepts in engineering: Emphasis on applications to Civil and Enviromental Engineering.  2nd ed. Hoboken, NJ, John Wiley & Sons, 2007.\n",
    "* BECK, A. T. Confiabilidade e segurança das  estruturas. Rio de Janeiro, Elsevier, 2019.\n",
    "* HALDAR, A. MAHADEVAN, S. Probability, reliability, and statistical methods in engineering design. New York, Wiley, 2000.\n",
    "* MELCHERS, R.E., BECK, A. T.; Structural reliability analysis and prediction. 3rd ed. John Wiley and Sons, 2018, 514p."
   ]
  }
 ],
 "metadata": {
  "colab": {
   "name": "Capítulo_1.ipynb",
   "provenance": []
  },
  "kernelspec": {
   "display_name": "Python 3",
   "language": "python",
   "name": "python3"
  },
  "language_info": {
   "codemirror_mode": {
    "name": "ipython",
    "version": 3
   },
   "file_extension": ".py",
   "mimetype": "text/x-python",
   "name": "python",
   "nbconvert_exporter": "python",
   "pygments_lexer": "ipython3",
   "version": "3.8.5"
  }
 },
 "nbformat": 4,
 "nbformat_minor": 5
}
