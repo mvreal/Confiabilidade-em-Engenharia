{
 "cells": [
  {
   "cell_type": "markdown",
   "id": "1dc445f3-8f0f-41b7-a0fa-541467a1d3db",
   "metadata": {
    "id": "1dc445f3-8f0f-41b7-a0fa-541467a1d3db"
   },
   "source": [
    "### Universidade Federal do Rio Grande - FURG"
   ]
  },
  {
   "cell_type": "markdown",
   "id": "27d28d81-ad30-4559-b52d-0fee9ac96cae",
   "metadata": {
    "id": "27d28d81-ad30-4559-b52d-0fee9ac96cae"
   },
   "source": [
    "### Escola de Engenharia - EE"
   ]
  },
  {
   "cell_type": "markdown",
   "id": "103a5401-6849-4ee0-a254-08a7f684a870",
   "metadata": {
    "id": "103a5401-6849-4ee0-a254-08a7f684a870"
   },
   "source": [
    "### Programa de Pós-graduação em Engenharia Oceânica - PPGEO"
   ]
  },
  {
   "cell_type": "markdown",
   "id": "547b79f5-d7a3-4b02-8ce9-7c1647bff36b",
   "metadata": {
    "id": "547b79f5-d7a3-4b02-8ce9-7c1647bff36b"
   },
   "source": [
    "### Disciplina: Confiabilidade em Engenharia"
   ]
  },
  {
   "cell_type": "markdown",
   "id": "e0725446-5506-4354-8b96-fd5f60cf025c",
   "metadata": {
    "id": "189e93bb-f3e5-4536-9aec-d09046d6929b"
   },
   "source": [
    "### Professor: Dr. Mauro de Vasconcellos Real"
   ]
  },
  {
   "cell_type": "markdown",
   "id": "0f573eed-b149-49a0-bf9f-5a72b50d1815",
   "metadata": {},
   "source": [
    "# __Aula 07__"
   ]
  },
  {
   "cell_type": "markdown",
   "id": "ce78f794-4773-4210-bf0c-d89fd0e707f7",
   "metadata": {
    "id": "ce78f794-4773-4210-bf0c-d89fd0e707f7"
   },
   "source": [
    "# __Capítulo 3 - Modelos analíticos para fenômenos aleatórios__"
   ]
  },
  {
   "cell_type": "markdown",
   "id": "b887beac-b455-45e3-b61e-94df1b6aa93b",
   "metadata": {
    "id": "3764b601-27f8-4189-a03c-e7c7c94f021d"
   },
   "source": [
    "## __3.3 - Variáveis aleatórias múltiplas__ <a name=\"section_33\"></a>"
   ]
  },
  {
   "cell_type": "markdown",
   "id": "3ce4b88f-bb46-49e3-b43f-b2c43671b855",
   "metadata": {
    "id": "3ce4b88f-bb46-49e3-b43f-b2c43671b855"
   },
   "source": [
    "[3.3.1 - Distribuições de probabilidade conjunta e condicional](#section_331)  \n",
    "[3.2.2 - Covariância e correlação](#section_332)    "
   ]
  },
  {
   "cell_type": "markdown",
   "id": "af112f71-ab39-409d-9d35-26b39f8f7178",
   "metadata": {},
   "source": [
    "* Variáveis aleatórias múltiplas surgem da necessidade de se identificar eventos que resultam de dois ou mais processos físicos.\n",
    "\n",
    "* Eventos de um espaço amostral podem ser representados em duas ou mais dimensões do espaço dos números reais $\\mathbb{R}^{n}$. \n"
   ]
  },
  {
   "cell_type": "markdown",
   "id": "3c2404ff-1e8a-46ce-b6e9-4767daa430e1",
   "metadata": {
    "tags": []
   },
   "source": [
    "* Exemplo:\n",
    "\n",
    "X = velocidade máxima do vento em uma região do mar.  \n",
    "Y = altura máxima das ondas nesta mesma região.\n",
    "\n",
    "$$  \\left\\{ \\begin{array} (X=x, Y=y) \\\\ (X \\leq x, Y \\leq y) \\end{array} \\right\\} \\text{eventos conjuntos}  \\left\\{ \\begin{array} (X=x \\cap Y=y) \\\\ (X \\leq x \\cap Y \\leq y) \\end{array} \\right\\} $$ \n"
   ]
  },
  {
   "cell_type": "markdown",
   "id": "5bafba8c-efa5-4114-9f0e-603f32dbecc4",
   "metadata": {
    "id": "5bafba8c-efa5-4114-9f0e-603f32dbecc4"
   },
   "source": [
    "### 3.3.1 - Distribuições de probabilidade conjunta e condicional  <a name=\"section_331\"></a>"
   ]
  },
  {
   "cell_type": "markdown",
   "id": "37189460-17af-4c04-8aff-799a9352ac77",
   "metadata": {},
   "source": [
    "#### Função de distribuição de probabilidade acumulada conjunta:"
   ]
  },
  {
   "cell_type": "markdown",
   "id": "ec6594d5-de59-4224-b246-4145b51f644b",
   "metadata": {
    "tags": []
   },
   "source": [
    "* Função distribuição de probabilidade conjunta: é uma função que descreve as probabilidades de ocorrência para todos os pares possíveis  $x$ e $y$ das variáveis aleatórias $X$ e $Y$, respectivamente:\n",
    "\n",
    "$$F_{X,Y}(x,y) = P(X \\leq x, Y \\leq y)$$\n",
    "\n",
    "* É a probabilidade acumulada da  ocorrência conjunta dos eventos $X \\leq x$ e $Y \\leq y$.\n"
   ]
  },
  {
   "cell_type": "markdown",
   "id": "6fed8a23-83cf-4ab0-ac2c-2bd0effe578c",
   "metadata": {
    "id": "6fed8a23-83cf-4ab0-ac2c-2bd0effe578c"
   },
   "source": [
    "#### Condições necessárias:\n",
    "\n",
    "a) $F_{X,Y}(-\\infty, -\\infty) = 0; \\quad F_{X,Y}(+\\infty, +\\infty) = 1$  \n",
    "\n",
    "b) $F_{X,Y}(-\\infty, y) = 0; \\quad F_{X,Y}(x, -\\infty) = 0$ \n",
    "\n",
    "c) $F_{X,Y}(+\\infty, y) = F_{Y}(y); \\quad F_{X,Y}(x, +\\infty) =  F_{X}(x)$\n",
    "\n",
    "d) $F_{X,Y}(x,y)$ é uma função não-negativa e não-decrescente de $x$ e de $y$."
   ]
  },
  {
   "cell_type": "markdown",
   "id": "71e3ca7f-acb6-4da8-9f52-befee3f70ac8",
   "metadata": {},
   "source": []
  },
  {
   "cell_type": "markdown",
   "id": "c4dcba7a-615f-4964-96b4-124ff1a2a0eb",
   "metadata": {},
   "source": [
    "#### Para duas variáveis aleatórias $X$ e $Y$:\n",
    "\n",
    "$$ f_{X,Y}(x,y)dxdy = P(x < X \\leq x+dx, y < Y \\leq y+dy) $$.\n",
    "\n",
    "Onde $f_{X,Y}$ é a __função densidade de probabilidade conjunta__ de $X$ e de $Y$.\n",
    "\n",
    "A __função densidade de probabilidade acumulada conjunta__ de $X$ e de $Y$ será dada por:\n",
    "\n",
    "$$F_{X,Y}(x,y) = P(X \\leq x, Y \\leq y) = \\int_{-\\infty}^{x}\\int_{-\\infty}^{y}f_{X,Y}(x,y)dxdy$$\n",
    "\n",
    "#### Relação importante:\n",
    "\n",
    "$$f_{X,Y} = \\frac{\\partial^2 F_{X,Y}}{\\partial x \\partial y}$$\n",
    "\n",
    "Um exemplo de função densidade de proababilidade conjunta entre duas variáveis $f_{X,Y}(x,y)$ é mostrado na figura abaixo."
   ]
  },
  {
   "cell_type": "markdown",
   "id": "40e82241-6795-488f-b4c2-dd43949bb332",
   "metadata": {},
   "source": [
    "<img src=\"./images3/fxy.jpg\" alta=\"Função densidade de probabilidade fxy\" style=\"width:474px\"/>"
   ]
  },
  {
   "cell_type": "markdown",
   "id": "d0b84a6d-f93a-4ea5-9fcf-e38cde968fd0",
   "metadata": {},
   "source": [
    "#### Cálculo de probabilidade:\n",
    "\n",
    "$$ P(a < X \\leq b, c < Y \\leq d) = \\int_{a}^{b}\\int_{c}^{d}f_{X,Y}(x,y)dxdy$$\n",
    "\n",
    "Ou seja, conforme mostra a figura abaixo, a probabilidade $ P(a < X \\leq b, c < Y \\leq d) $ é igual ao volume sob a superfície $f_{X,Y}(x,y)$, delimitado pelos planos seccionais $x=a$, $x=b$, $y=c$ e $y=d$."
   ]
  },
  {
   "cell_type": "markdown",
   "id": "152d3ab3-ca71-42fc-959f-562a8d278416",
   "metadata": {
    "tags": []
   },
   "source": [
    "<img src=\"./images3/volume_fxy.jpg\" alta=\"Volume sob fxy\" style=\"width:474px\"/>"
   ]
  },
  {
   "cell_type": "markdown",
   "id": "a1dff21a-c10a-4851-8a38-bc11a8ccd68d",
   "metadata": {
    "tags": []
   },
   "source": [
    "Fonte: Adaptada de ANG,  A.  H-S.; TANG,  W. H.. Probability concepts in engineering: Emphasis on applications to Civil and Enviromental Engineering.  2nd ed. Hoboken, NJ, John Wiley & Sons, 2007."
   ]
  },
  {
   "cell_type": "markdown",
   "id": "cb3e8786-74a7-41b8-8e89-70aa48428d8c",
   "metadata": {
    "id": "cb3e8786-74a7-41b8-8e89-70aa48428d8c"
   },
   "source": [
    "#### Função densidade de probabilidade condicional:\n",
    "\n",
    "* Probabilidade de ocorrer $x$, uma vez que tenha ocorrido $y$:\n",
    "\n",
    "$$f_{X|Y}(x|y) = \\frac{f_{X,Y}(x,y)}{f_Y(y)}$$\n",
    "\n",
    "* Em geral:\n",
    "\n",
    "$$f_{X,Y}(x,y) = f_{X|Y}(x|y)f_Y(y) $$\n",
    "\n",
    "$$f_{X,Y}(x,y) = f_{Y|X}(y|x)f_X(x) $$\n",
    "\n",
    "* Se as variáveis aleatórias $X$ e $Y$ forem estatisticamente independentes:\n",
    "\n",
    "$$ f_{X|Y}(x,y) = f_X(x) \\quad \\text{e} \\quad f_{Y|X}(x,y) = f_Y(y) $$\n",
    "\n",
    "* Portanto:\n",
    "\n",
    "$$ f_{X,Y} = f_X(x) f_X(y) $$\n"
   ]
  },
  {
   "cell_type": "markdown",
   "id": "a4bf18c2-6c66-4ccb-b18a-a623b6c1e3c8",
   "metadata": {},
   "source": [
    "#### Função densidade de probabilidade marginal:\n",
    "\n",
    "Aplicando-se o Teorema da Probabilidade Total, resulta:\n",
    "\n",
    "$$ f_X(x) = \\int_{-\\infty}^{+\\infty} f_{X|Y}(x|y)f_Y(y)dy = \\int_{-\\infty}^{+\\infty} f_{X,Y}(x,y)dy$$\n",
    "\n",
    "e\n",
    "\n",
    "$$ f_Y(y) = \\int_{-\\infty}^{+\\infty} f_{Y|X}(y|x)f_X(x)dx = \\int_{-\\infty}^{+\\infty} f_{X,Y}(x,y)dx$$"
   ]
  },
  {
   "cell_type": "markdown",
   "id": "c956418a-b901-40f8-93bc-5a309004d74a",
   "metadata": {},
   "source": [
    "#### Exemplo 3.15 - Distribuição normal conjunta:\n",
    "\n",
    "* A função densidade de probabilidade conjunta normal de duas variáveis é dada por:\n",
    "\n",
    "\n",
    "$$ f_{X,Y}(x,y) = \\frac{1}{2\\pi\\sigma_X\\sigma_Y\\sqrt{1-\\rho^2}} \\exp\\left\\{-\\frac{1}{2(1-\\rho^2)}\\left[\\left(\\frac{x-\\mu_X}{\\sigma_X}\\right)^2 - 2 \\rho\\left(\\frac{x-\\mu_X}{\\sigma_X}\\right)\\left(\\frac{y-\\mu_Y}{\\sigma_Y}\\right)+\\left(\\frac{y-\\mu_Y}{\\sigma_Y}\\right)^2\\right]\\right\\}$$\n",
    "\n",
    "* Para $-\\infty < x < +\\infty$ e  $-\\infty < y < +\\infty$.\n",
    "\n",
    "* Onde: $\\rho$ é o coeficiente de correlação entre as variáveis $X$ e $Y$, a ser definido a seguir.\n",
    "\n",
    "* Forma alternativa de expressar a mesma função densidade de probabilidade:\n",
    "\n",
    "\n",
    "$$f_{X,Y}(x,y) = f_{Y|X}(y|x) f_X(x)  =  \\frac{1}{\\sqrt{2\\pi}\\sigma_Y\\sqrt{1-\\rho^2}} \\exp{-\\frac{1}{2}\\left[\\frac{y-\\mu_Y-\\rho\\frac{\\sigma_X}{\\sigma_Y}(x-\\mu_X)}{\\sigma_Y\\sqrt{1-\\rho^2}}\\right]^2} \\frac{1}{\\sqrt{2\\pi}\\sigma_X} \\exp{-\\frac{1}{2}\\left(\\frac{x-\\mu_X}{\\sigma_X}\\right)^2}$$\n",
    "\n",
    "* Probabilidade condicional $f_{Y|X}(x,y)$:\n",
    "\n",
    "$$ f_{Y|X}(x,y) = \\frac{f_{X,Y}(x,y)}{f_X(x)} = \\frac{1}{\\sqrt{2\\pi}\\sigma_Y\\sqrt{1-\\rho^2}} \\exp{-\\frac{1}{2}\\left[\\frac{y-\\mu_Y-\\rho\\frac{\\sigma_X}{\\sigma_Y}(x-\\mu_X)}{\\sigma_Y\\sqrt{1-\\rho^2}}\\right]^2}$$\n",
    "\n",
    "* Densidadde de probabilidade marginal de $X$:\n",
    "\n",
    "$$ f_{X} = \\frac{1}{\\sqrt{2\\pi}\\sigma_X} \\exp{-\\frac{1}{2}\\left(\\frac{x-\\mu_X}{\\sigma_X}\\right)^2}$$\n",
    "\n",
    "\n",
    "* Valor esperado da distribuição condicional:\n",
    "\n",
    "$$E(Y|X=x) = \\mu_Y + \\rho \\frac{\\sigma_Y}{\\sigma_X}(x - \\mu_X)$$\n",
    "\n",
    "\n",
    "* Variância da distribuição condicional:\n",
    "\n",
    "$$ Var(Y|X=x) = \\sigma_Y^2(1-\\rho^2)$$\n",
    "\n"
   ]
  },
  {
   "cell_type": "code",
   "execution_count": null,
   "id": "94ea2888-1805-44aa-a97b-37676732b97f",
   "metadata": {},
   "outputs": [],
   "source": [
    "\"\"\"\n",
    "Geração da distribuição normal para duas variáveis X e Y correlacionadas.\n",
    "\n",
    "Fonte: https://www.geeksforgeeks.org/visualizing-the-bivariate-gaussian-distribution-in-python/\n",
    "\n",
    "\"\"\"\n",
    "# Importing the necessary modules\n",
    "import numpy as np\n",
    "import matplotlib.pyplot as plt\n",
    "from scipy.stats import multivariate_normal\n",
    "\n",
    "plt.style.use('seaborn-dark')\n",
    "plt.rcParams['figure.figsize'] = 14, 6\n",
    "fig = plt.figure()\n",
    "\n",
    "# Initializing the random seed\n",
    "random_seed = 1000\n",
    "\n",
    "# List containing the variance\n",
    "# covariance values\n",
    "cov_val = [-0.8, 0, 0.8]\n",
    "\n",
    "# Setting mean of the distributino\n",
    "# to be at (0,0)\n",
    "mean = np.array([0, 0])\n",
    "\n",
    "# Storing density function values for\n",
    "# further analysis\n",
    "pdf_list = []\n",
    "\n",
    "# Iterating over different covariance values\n",
    "for idx, val in enumerate(cov_val):\n",
    "\n",
    "    # Initializing the covariance matrix\n",
    "    cov = np.array([[1, val], [val, 1]])\n",
    "\n",
    "    # Generating a Gaussian bivariate distribution\n",
    "    # with given mean and covariance matrix\n",
    "    distr = multivariate_normal(cov=cov, mean=mean,\n",
    "                                seed=random_seed)\n",
    "\n",
    "    # Generating a meshgrid complacent with\n",
    "    # the 3-sigma boundary\n",
    "    mean_1, mean_2 = mean[0], mean[1]\n",
    "    sigma_1, sigma_2 = cov[0, 0], cov[1, 1]\n",
    "\n",
    "    x = np.linspace(-3 * sigma_1, 3 * sigma_1, num=100)\n",
    "    y = np.linspace(-3 * sigma_2, 3 * sigma_2, num=100)\n",
    "    X, Y = np.meshgrid(x, y)\n",
    "\n",
    "    # Generating the density function\n",
    "    # for each point in the meshgrid\n",
    "    pdf = np.zeros(X.shape)\n",
    "    for i in range(X.shape[0]):\n",
    "        for j in range(X.shape[1]):\n",
    "            pdf[i, j] = distr.pdf([X[i, j], Y[i, j]])\n",
    "\n",
    "    # Plotting the density function values\n",
    "    key = 131 + idx\n",
    "    ax = fig.add_subplot(key, projection='3d')\n",
    "    ax.plot_surface(X, Y, pdf, cmap='viridis')\n",
    "    plt.xlabel(\"x1\")\n",
    "    plt.ylabel(\"x2\")\n",
    "    plt.title(f'Covariance between x1 and x2 = {val}')\n",
    "    pdf_list.append(pdf)\n",
    "    ax.axes.zaxis.set_ticks([])\n",
    "\n",
    "plt.tight_layout()\n",
    "plt.show()\n",
    "# Plotting contour plots\n",
    "for idx, val in enumerate(pdf_list):\n",
    "    plt.subplot(1, 3, idx + 1)\n",
    "    plt.contourf(X, Y, val, cmap='viridis')\n",
    "    plt.xlabel(\"x1\")\n",
    "    plt.ylabel(\"x2\")\n",
    "    plt.title(f'Covariance between x1 and x2 = {cov_val[idx]}')\n",
    "plt.tight_layout()\n",
    "plt.show()"
   ]
  },
  {
   "cell_type": "markdown",
   "id": "cc4c4efd-f227-49b4-9c85-ddd055bad5c2",
   "metadata": {},
   "source": [
    "[Retornar ao ínicio do item 3.3](#section_33) "
   ]
  },
  {
   "cell_type": "markdown",
   "id": "31ce3c4d-56af-497c-afef-2cd2500eb190",
   "metadata": {},
   "source": [
    "### 3.3.2 - Covariância e correlação  <a name=\"section_332\"></a>"
   ]
  },
  {
   "cell_type": "markdown",
   "id": "d857d8f4-636b-4be7-919a-1f1c3428e9bc",
   "metadata": {},
   "source": [
    "* Segundo momento conjunto de $X$ e de $Y$:\n",
    "\n",
    "$$ E(XY) = \\int_{-\\infty}^{+\\infty} \\int_{-\\infty}^{+\\infty} xyf_{X,Y}(x,y)dxdy$$\n",
    "\n",
    "* Se $X$ e $Y$ forem estatísticamente independentes:\n",
    "\n",
    "$$ E(XY) = \\int_{-\\infty}^{+\\infty} \\int_{-\\infty}^{+\\infty} xyf_{X}(x)f_Y(y)dxdy =\\int_{-\\infty}^{+\\infty} xf_{X}(x)dx \\int_{-\\infty}^{+\\infty} yf_{Y}(y)dy = E(X)E(Y)  $$\n",
    "\n",
    "#### Covariância:\n",
    "\n",
    "* A __covariância__ é o segundo momento conjunto de x e y, em relação às médias $\\mu_X$ e $\\mu_Y$:\n",
    "\n",
    "$$Cov(X,Y) = E[(X-\\mu_X)(Y-\\mu_Y)] = \\int_{-\\infty}^{+\\infty} \\int_{-\\infty}^{+\\infty} (x-\\mu_X)(y-\\mu_Y)yf_{X}(x)f_Y(y)dxdy$$\n",
    "\n",
    "* Ou ainda:\n",
    "\n",
    "$$Cov(X,Y) = E[(X-\\mu_X)(Y-\\mu_Y)] = E(XY) - E(X)E(Y)$$\n",
    "\n",
    "* Se $X$ e $Y$ forem estatisticamente independentes:\n",
    "\n",
    "$$Cov(X,Y) = 0$$\n",
    "\n",
    "#### Significado da covariância:"
   ]
  },
  {
   "cell_type": "markdown",
   "id": "fdd57c0d-6e33-454d-abf1-7347f6f6ac97",
   "metadata": {},
   "source": [
    "| $Cov(X,Y)$ | Relação entre $X$ e $Y$|\n",
    "|:----------:|:----------------------|\n",
    "|grande e positiva | $X$ e $Y$ são ambos grandes ou pequenos em relação a $\\mu_X$ e $\\mu_Y$.|                             \n",
    "| grande e negativa | $X$ é grande em relação a $\\mu_X$ e $Y$ é pequeno em relação a $\\mu_Y$, ou vice-versa.|                    \n",
    "| pequena ou nula    | Há uma pequena ou nenhuma __relação linear__ entre $X$ e $Y$ (pode haver uma forte relação não linear).|  "
   ]
  },
  {
   "cell_type": "markdown",
   "id": "c13e91a2-fce8-42dc-8795-2cd583a97aa5",
   "metadata": {},
   "source": [
    "#### Coeficiente de correlação linear\n",
    "\n",
    "* A covariância é uma medida do grau de relação linear que existe entre $X$ e $Y$.\n",
    "\n",
    "* A covariância normalizada é chamada de __coeficiente de correlação linear__:\n",
    "\n",
    "$$ \\rho = \\frac{Cov(X,Y)}{\\sigma_X \\sigma_Y}$$\n",
    "\n",
    "* Pode-se mostrar que: \n",
    "\n",
    "$$ -1 \\leq \\rho \\leq +1 $$"
   ]
  },
  {
   "cell_type": "markdown",
   "id": "1843fdc7-0e8a-4ac2-94c5-ffac54229298",
   "metadata": {},
   "source": [
    "<img src=\"./images3/coef_correlacao_linear.jpg\" alt=\"Coeficiente de correlação linear\" style=\"width:600px\"/>"
   ]
  },
  {
   "cell_type": "markdown",
   "id": "3430caf2-40b2-4961-81e5-d9abcc1a8576",
   "metadata": {
    "tags": []
   },
   "source": [
    "Fonte: Adaptada de ANG,  A.  H-S.; TANG,  W. H.. Probability concepts in engineering: Emphasis on applications to Civil and Enviromental Engineering.  2nd ed. Hoboken, NJ, John Wiley & Sons, 2007."
   ]
  },
  {
   "cell_type": "markdown",
   "id": "156a1e86-4752-48f1-a8da-d259df765df9",
   "metadata": {},
   "source": [
    "#### Exemplo 3.15 - Esforços em vigas"
   ]
  },
  {
   "cell_type": "markdown",
   "id": "8f02e2da-bf93-4092-b562-787d4b51950f",
   "metadata": {},
   "source": [
    "<img src=\"./images3/viga_balanco.jpg\" alt=\"Viga em balanço\" style=\"width:474px\"/>"
   ]
  },
  {
   "cell_type": "markdown",
   "id": "bd278bde-4e96-492e-b4c6-fb603a3b64d3",
   "metadata": {
    "tags": []
   },
   "source": [
    "Fonte: Adaptada de ANG,  A.  H-S.; TANG,  W. H.. Probability concepts in engineering: Emphasis on applications to Civil and Enviromental Engineering.  2nd ed. Hoboken, NJ, John Wiley & Sons, 2007."
   ]
  },
  {
   "cell_type": "markdown",
   "id": "204e9bf7-d286-4f6c-858b-58eadd531078",
   "metadata": {},
   "source": [
    "* Viga engastada e em balanço:\n",
    "* Cargas concentradas $S_1$ e $S_2$ aleatórias.\n",
    "* $S_1$ e $S_2$ são estatisticamente independentes.\n",
    "* $S_1$: média $\\mu_1$ e desvio padrão \"\\sigma_1\".\n",
    "* $S_1$: média $\\mu_2$ e desvio padrão \"\\sigma_2\".\n",
    "\n",
    "* Esforços solicitantes na seção do engaste:\n",
    "\n",
    "* Esforço cortante: $V = S_1 + S_2$\n",
    "\n",
    "* Momento fletor:  $M = a S_1 + 2 a S_2$\n",
    "\n",
    "* Cálculo das médias:\n",
    "\n",
    "$$ \\mu_V = \\mu_1 + \\mu_2 $$\n",
    "\n",
    "$$ \\mu_M = a \\mu_1 + 2a \\mu_2 $$\n",
    "\n",
    "* Cálculo das variâncias:\n",
    "\n",
    "$$ \\sigma_V^2 = \\sigma_1^2 + \\sigma_2^2 $$\n",
    "\n",
    "$$ \\sigma_M^2 = a^2 ( \\sigma_1^2 + 4 \\sigma_2^2 )$$\n",
    "\n",
    "* Cálculo da covariância:\n",
    "\n",
    "$$ Cov(V,M) = E[(V-\\mu_V)(M-\\mu_M)] = E(VM) - \\mu_V \\mu_M$$  \n",
    "\n",
    "\n",
    "\n",
    "\n",
    "Porém: $E(VM) = E[(S_1 + S_2)(a S_1 + 2 a S_2)] = aE(S_1^2) + 3aE(S_1S_2) + 2aE(S_2^2)$\n",
    "\n",
    "Como $S_1$ e $S_2$ são estatísticamente independentes: $E(S_1S_2) = E(S_1)E(S_2)$\n",
    "\n",
    "Além disso, tem-se que: $E(S_1^2) = \\sigma_1^2 + \\mu_1^2$ e $E(S_2^2) = \\sigma_2^2 + \\mu_2^2$\n",
    "\n",
    "Logo: \n",
    "\n",
    "$$E(VM) = a(\\sigma_1^2 + \\mu_1^2) + 3a\\mu_1\\mu_2 +2a(\\sigma_2^2 + \\mu_2^2)$$\n",
    "\n",
    "$$E(VM) = a(\\sigma_1^2 + 2 \\sigma_2^2) + (a\\mu_1^2 + 3a \\mu_1\\mu_2 + 2a\\mu_2^2) = a(\\sigma_1^2 + 2 \\sigma_2^2) + \\mu_V \\mu_M$$\n",
    "\n",
    "Portanto:\n",
    "\n",
    "$$Cov(V,M) = a(\\sigma_1^2 + 2 \\sigma_2^2) $$\n",
    "\n",
    "* Cálculo do coeficiente de correlação linear entre $V$ e $M$:\n",
    "\n",
    "$$ \\rho_{V,M} = \\frac{Cov(V,M)}{\\sigma_V \\sigma_M} = \\frac{\\sigma_1^2 + 2 \\sigma_2^2}{\\sqrt{(\\sigma_1^2 + \\sigma_2^2)(\\sigma_1^2 + 4 \\sigma_2^2)}}$$\n",
    "\n",
    "Admitindo-se a hipótese de que $\\sigma_1 = \\sigma_2$:\n",
    "\n",
    "$$ \\rho_{V,M} = \\frac{3}{\\sqrt{10}} = 0,9487$$\n",
    "\n",
    "Portanto, há uma forte correlação linear entre $V$ e $M$ na seção do engaste. Esta correlação existe porque tanto $V$ como $M$ são funções das mesmas cargas $S_1$ e $S_2$.\n"
   ]
  },
  {
   "cell_type": "markdown",
   "id": "145e02cf-0471-40a2-89b4-0432b86b07f6",
   "metadata": {},
   "source": [
    "[Retornar ao ínicio do item 3.3](#section_33) "
   ]
  },
  {
   "cell_type": "markdown",
   "id": "ced6a590-b2da-450c-b3d8-76efecd2f4d5",
   "metadata": {},
   "source": [
    "## __Bibliografia__"
   ]
  },
  {
   "cell_type": "markdown",
   "id": "22843f6f-9513-4934-85e2-79f9121882c1",
   "metadata": {},
   "source": [
    "* __Livros__\n",
    "* ANG,  A.  H-S.; TANG,  W. H.. Probability concepts in engineering planning and design. Volume I:  basic principles. New  York, John Wiley & Sons, 1975.\n",
    "* ANG,  A.  H-S.; TANG,  W. H.. Probability concepts in engineering planning and pesign. Volume II: decision, risk and reliability. New  York, John Wiley & Sons, 1984.\n",
    "* ANG,  A.  H-S.; TANG,  W. H.. Probability concepts in engineering: Emphasis on applications to Civil and Enviromental Engineering.  2nd ed. Hoboken, NJ, John Wiley & Sons, 2007.\n",
    "* BECK, A. T. Confiabilidade e segurança das  estruturas. Rio de Janeiro, Elsevier, 2019.\n",
    "* HALDAR, A. MAHADEVAN, S. Probability, reliability, and statistical methods in engineering design. New York, Wiley, 2000.\n",
    "* MELCHERS, R.E., BECK, A. T.; Structural reliability analysis and prediction. 3rd ed. John Wiley and Sons, 2018, 514p."
   ]
  },
  {
   "cell_type": "markdown",
   "id": "663eee9d-d7fc-49f1-848a-7cb4379a2c1c",
   "metadata": {
    "tags": []
   },
   "source": [
    "[Voltar ao início do item 3.3](#section_33)"
   ]
  }
 ],
 "metadata": {
  "colab": {
   "name": "Capítulo_1.ipynb",
   "provenance": []
  },
  "kernelspec": {
   "display_name": "Python 3",
   "language": "python",
   "name": "python3"
  },
  "language_info": {
   "codemirror_mode": {
    "name": "ipython",
    "version": 3
   },
   "file_extension": ".py",
   "mimetype": "text/x-python",
   "name": "python",
   "nbconvert_exporter": "python",
   "pygments_lexer": "ipython3",
   "version": "3.8.5"
  }
 },
 "nbformat": 4,
 "nbformat_minor": 5
}
