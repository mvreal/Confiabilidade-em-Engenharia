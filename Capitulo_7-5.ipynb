{
 "cells": [
  {
   "cell_type": "markdown",
   "id": "ebd052e0",
   "metadata": {
    "id": "1dc445f3-8f0f-41b7-a0fa-541467a1d3db"
   },
   "source": [
    "### Universidade Federal do Rio Grande - FURG"
   ]
  },
  {
   "cell_type": "markdown",
   "id": "32a8467a",
   "metadata": {
    "id": "27d28d81-ad30-4559-b52d-0fee9ac96cae"
   },
   "source": [
    "### Escola de Engenharia - EE"
   ]
  },
  {
   "cell_type": "markdown",
   "id": "69825019",
   "metadata": {
    "id": "103a5401-6849-4ee0-a254-08a7f684a870"
   },
   "source": [
    "### Programa de Pós-graduação em Engenharia Oceânica - PPGEO"
   ]
  },
  {
   "cell_type": "markdown",
   "id": "5252d012",
   "metadata": {
    "id": "547b79f5-d7a3-4b02-8ce9-7c1647bff36b"
   },
   "source": [
    "### Disciplina: Confiabilidade em Engenharia"
   ]
  },
  {
   "cell_type": "markdown",
   "id": "897f5842",
   "metadata": {
    "id": "189e93bb-f3e5-4536-9aec-d09046d6929b"
   },
   "source": [
    "### Professor: Dr. Mauro de Vasconcellos Real"
   ]
  },
  {
   "cell_type": "markdown",
   "id": "868ca87f-48ee-493d-84ec-29d130abfedb",
   "metadata": {
    "tags": []
   },
   "source": [
    "# __Aula 16__"
   ]
  },
  {
   "cell_type": "code",
   "execution_count": 1,
   "id": "4743808b-ff9c-46a4-894c-326338165f75",
   "metadata": {},
   "outputs": [],
   "source": [
    "import numpy as np\n",
    "import matplotlib.pyplot as plt\n",
    "from scipy import linalg\n",
    "from scipy.stats import norm\n",
    "from scipy.stats import skew\n",
    "from scipy.stats import lognorm\n",
    "from scipy.stats import gumbel_r\n",
    "from scipy.stats import invweibull\n",
    "from scipy import optimize\n",
    "from scipy.special import gamma"
   ]
  },
  {
   "cell_type": "markdown",
   "id": "5b7adffe-4558-468c-b85f-18ecd68f2c0a",
   "metadata": {
    "id": "ce78f794-4773-4210-bf0c-d89fd0e707f7"
   },
   "source": [
    "# __Capítulo 7 - Confiabilidade e Projeto baseado em Confiabilidade__ <a name=\"section_7\"></a>"
   ]
  },
  {
   "cell_type": "markdown",
   "id": "01fbcc7e-2abf-4bc5-ac27-e153e42b4a31",
   "metadata": {
    "id": "3ce4b88f-bb46-49e3-b43f-b2c43671b855",
    "tags": []
   },
   "source": [
    "[7.7 - Projeto baseado em Confiabilidade](#section_77)  \n",
    "[7.7.1 - Segurança no projeto estrutural](#section_771)  \n",
    "[7.7.2 - Método das tensões admissíveis](#section_772)  \n",
    "[7.7.3 - Método da carga de ruptura](#section_773)  \n",
    "[7.7.4 - Método dos coeficientes parciais de segurança - LRFD](#section_774)  \n",
    "[7.7.5 - Critério de projeto de segundo momento](#section_775)  \n",
    "[7.7.6 - Calibração usando o método FORM](#section_776)  "
   ]
  },
  {
   "cell_type": "markdown",
   "id": "cc933f52-650c-4b2c-a437-95c2df8621f7",
   "metadata": {},
   "source": [
    "## __7.7 - Projeto baseado em Confiabilidade__  <a name=\"section_77\"></a>"
   ]
  },
  {
   "cell_type": "markdown",
   "id": "0a70bed2-6523-47e8-950e-06a96c5890a8",
   "metadata": {},
   "source": [
    "### 7.7.1 - Segurança no projeto estrutural <a name=\"section_771\"></a>\n",
    "\n",
    "* O objetivo principal de um projeto de Engenharia é garantir que um determinado sistema vai desempenhar a função para a qual foi projetado durante sua vida útil (peformance).\n",
    "\n",
    "* Contudo, em todo projeto de Engenharia existem __incertezas__ quanto aos materiais, às cargas e as dimensões finais do sistema. \n",
    "\n",
    "* Além disso, os próprios modelos de cálculo contêm aproximações que levam a imprecisões no dimensionamento.\n",
    "\n",
    "* Uma maneira de garantir a performance de um sistema na presença de incertezas consiste em se adotar __coeficientes de segurança__.\n",
    "\n",
    "* Os coeficientes de segurança permitem estabelecer uma certa margem (afastamento) entre a mínima resistência do sistema e a máxima solicitação conforme mostrado na figura abaixo."
   ]
  },
  {
   "cell_type": "markdown",
   "id": "6b73356e-7e7d-40e1-9d70-dd016b44a5bd",
   "metadata": {},
   "source": [
    "<img src=\"./images7/safety_factors.jpg\" alt=\"Fatores de segurança\" style=\"width:600px\" />"
   ]
  },
  {
   "cell_type": "markdown",
   "id": "3f063d53-d150-4103-b2ae-b918dc77652c",
   "metadata": {},
   "source": [
    "[Retornar ao início da aula](#section_7)"
   ]
  },
  {
   "cell_type": "markdown",
   "id": "d392a2b5-2699-4d79-9716-7add1c209a74",
   "metadata": {},
   "source": [
    "### 7.7.2 - Método das tensões admissíveis <a name=\"section_772\"></a>\n",
    "\n",
    "* Em Estruturas, no Método das Tensões Admissíveis, a tensão limite do material é dividida por um fator de segurança, normalmente entre 2 e 3, para garantir a performance do sistema.\n",
    "                       \n",
    "* Desvantagem: todas as incertezas são atribuídas a uma única propriedade do material.\n",
    "\n",
    "* A figura abaixo ilustra uma aplicação do método das Tensões Admissíveis para o caso de dimensionamento de uma barra sob tração ou compressão axial."
   ]
  },
  {
   "cell_type": "markdown",
   "id": "a09b4401-f207-4524-a97c-2a4674164eef",
   "metadata": {},
   "source": [
    "<img src=\"./images7/admissible_stress.jpg\" alt=\"Método das Tensões Admissíveis\" style=\"width:600px\"/>"
   ]
  },
  {
   "cell_type": "markdown",
   "id": "5b167e84-efd7-4d53-81fb-233cdcee17c9",
   "metadata": {},
   "source": [
    "### 7.7.3 - Método da Carga de Ruptura <a name=\"section_773\"></a>\n",
    "\n",
    "* Nos métodos baseados na __Teoria da Plasticidade__, a carga de colapso do sistema é estabelecida com os materiais atingindo o escoamento.\n",
    "\n",
    "* A carga admissível para o sistema é obtida dividindo-se a carga de colapso por um fator de segurança.\n",
    "\n",
    "* Desvantagem: todas as incertezas são incluídas nas cargas."
   ]
  },
  {
   "cell_type": "markdown",
   "id": "e42a9d65-1e7b-4ff6-a793-d8e381eed02e",
   "metadata": {},
   "source": [
    "<img src=\"./images7/rupture_load.jpg\" alt=\"Método da Carga de Ruptura\" style=\"width:600px\" />"
   ]
  },
  {
   "cell_type": "markdown",
   "id": "0b03b702-5aa4-4d0f-8f13-d392735f4d2f",
   "metadata": {},
   "source": [
    "### 7.7.4 - Método dos Coeficientes de Segurança Parciais - LRFD <a name=\"section_773\"></a>\n",
    "\n",
    "* Hoje em dia é empregado o Método dos Coeficientes de Segurança Parciais.\n",
    "\n",
    "* São aplicados coeficientes de segurança diferentes nas resistências dos materiais e nas cargas atuantes.\n",
    "\n",
    "* As resistências dos materiais são minoradas.\n",
    "                                             \n",
    "* As cargas atuantes são majoradas.\n",
    "\n",
    "* Vantagem: as diferentes fontes de incertezas recebem coeficientes de segurança específicos.\n",
    "\n",
    "* Vantagem: quanto maior a incerteza maior o coeficiente de segurança. Quanto menor a incerteza, menor o coeficiente de segurança.\n",
    "\n",
    "* Vantagem: coeficientes de segurança individuais conseguem cobrir uma boa margem de variação das variáveis básicas.\n",
    "\n",
    "* Em inglês: _LRFD: Load Resistance Factors Design_ (Projeto com coeficientes de segurança diferentes para as resistências e as cargas).\n",
    "\n",
    "* A equação abaixo mostra uma aplicação do método dos coeficientes de segurança parciais em uma situação bem simples de dimensionamento:\n",
    "\n",
    "$$\\phi R_k = \\gamma_G G_k + \\gamma_Q Q_k$$\n",
    "\n",
    "* Onde $\\phi$ é um fator de minoração da resistência característica $R_k$, ou seja, $\\phi < 1,00$.\n",
    "\n",
    "* O coeficiente $\\gamma_G$ é o fator de majoração da carga permanente característica $G_k$ $(\\gamma_G > 1,00)$.\n",
    "\n",
    "* O coeficiente $\\gamma_G$ é o fator de majoração da carga acidental característica $Q_k$ $(\\gamma_Q > 1,00)$..\n",
    "\n",
    "* Como usualmente a carga acidental $Q$ possui uma variabilidade maior que a carga permanente $G$, normalmente tem-se que $\\gamma_Q > \\gamma_G$.\n",
    "\n",
    "* Além disso, o método dos coeficientes parciais de segurança prevê a utilização de fatores de ponderação $\\Psi < 1,00$, para levar em conta a menor probabilidade de ocorrência simultânea de alguns carregamentos com sua máxima intensidade em certas combinações de ações."
   ]
  },
  {
   "cell_type": "markdown",
   "id": "918ea11a-9044-49c3-a8dc-0d153de44677",
   "metadata": {},
   "source": [
    "### 7.7.5 - Critério de projeto de segundo momento <a name=\"section_774\"></a>\n",
    "\n",
    "* No projeto baseado em Confiabilidade, uma determinada confiabilidade $(P_s)$, o probabilidade de falha limite $(P_f)$ é estabelecida como meta.\n",
    "\n",
    "* Os coeficientes de segurança parciais $\\gamma_i$, para as variáveis básicas $X_i$, são estabelecidos de forma a garantir a confiabilidade estabelecida como meta $(P_s)$, ou o índice de confiabilidade $\\beta_{alvo}$ correspondente.\n",
    "\n",
    "* Na prática, em uma primeira aproximação, o cálculo dos coeficientes de segurança parciais $\\gamma_i$ pode ser feito com base apenas na média $\\mu_{X_i}$ e no desvio padrão $\\sigma_{X_i}$ das variáveis básicas $X_i$.\n",
    "\n",
    "* Por isto este método é chamado de __Critério de Projeto de Segundo Momento__.\n",
    "\n",
    "* No espaço das variáveis normais padronizadas $X_i^{\\prime}$ projetos com diferentes níveis de segurança são equivalentes a superfícies de falha com diferentes distâncias em relação à origem, conforme ilustrado na figura abaixo.\n",
    "\n",
    "* Os coeficientes parciais de segurança podem ser aplicados aos valores médios das variáveis:\n",
    "\n",
    "$$\\bar{\\gamma}_i = \\frac{x_i^*}{\\mu_{X_i}} \\quad \\text{ou} x_i^* = \\bar{\\gamma}_i \\mu_{X_i}$$\n",
    "\n",
    "* A superfície de falha será dada por:\n",
    "\n",
    "$$g(\\bar{\\gamma}_1 \\mu_{X_1},\\bar{\\gamma}_2 \\mu_{X_2},...,\\bar{\\gamma}_n \\mu_{X_n}) = 0$$"
   ]
  },
  {
   "cell_type": "markdown",
   "id": "c8fd5454-b36e-4e5b-8d10-51458217ad0c",
   "metadata": {},
   "source": [
    "<img src=\"./images7/failure_surfaces.jpg\" alt=\"Superfícies de falha\" style=\"width:474px\" />"
   ]
  },
  {
   "cell_type": "markdown",
   "id": "255f3b6d-cc99-45ae-aaae-297a5d791ea3",
   "metadata": {},
   "source": [
    "* No espaço das variáveis padronizadas, o ponto mais provável de falha será dado por:\n",
    "\n",
    "$$ x_i^{\\prime *} = \\alpha_i^* \\beta$$\n",
    "\n",
    "* Onde:\n",
    "\n",
    "$$\\alpha_i = \\frac{\\left( \\frac{ \\partial{g} }{ \\partial{X_i^{\\prime} } } \\right)_*} { \\sqrt{ \\sum_{j=1}^{n} \\left(\\frac{ \\partial{g} }{ \\partial{X_j^{\\prime} } }\\right)_*^2 } }$$\n",
    "\n",
    "* Para as variáveis originais tem-se que:\n",
    "\n",
    "$$x_i^*=\\mu_{X_i} - \\alpha_i^* \\beta \\sigma_{X_i} = \\mu_{X_i}(1-\\alpha_i^* \\beta \\delta_{X_i})$$\n",
    "\n",
    "* Onde:\n",
    "\n",
    "$$\\delta_{X_i} = \\frac{ \\sigma_{X_i}}{\\mu_{X_i}}$$\n",
    "\n",
    "* Os coeficientes de segurança parciais serão dados por:\n",
    "\n",
    "$$\\bar{\\gamma}_{X_i} = 1-\\alpha_i^* \\beta \\delta_{X_i}$$"
   ]
  },
  {
   "cell_type": "markdown",
   "id": "15a6ec2a-3ac7-4de7-935b-1a8594ed2534",
   "metadata": {
    "tags": []
   },
   "source": [
    "#### Procedimento iterativo para a determinação dos coeficientes de segurança parciais:\n",
    "\n",
    "__1.__ Adotar um valor para $x_i^*$ e fazer:\n",
    "\n",
    "$$x_i^{\\prime *} = \\frac{x_i^*-\\mu_{X_i}}{\\sigma_{X_i}}$$\n",
    "\n",
    "__2.__ Calcular:\n",
    "\n",
    "$$\\left( \\frac{ \\partial{g} }{ \\partial{X_i^{\\prime} } } \\right)_* \\quad \\text{e} \\quad \\alpha_i^*$$\n",
    "\n",
    "__3.__ Obter:\n",
    "\n",
    "$$x_i^* = \\mu_{X_i} - \\alpha_i^* \\beta \\sigma_{X_i}$$\n",
    "\n",
    "__4.__ Repetir os passos de $1$ a $3$ até ser atingida a convergência:\n",
    "\n",
    "$$\\bar{\\gamma}_{X_i} = 1 - \\alpha_i^* \\beta \\sigma_{X_i}$$"
   ]
  },
  {
   "cell_type": "markdown",
   "id": "56762c0a-0381-4088-b829-509e85799c5c",
   "metadata": {},
   "source": [
    "#### Função performance linear\n",
    "\n",
    "* Para uma função performance linear os coeficientes parciais são tais que:\n",
    "\n",
    "$$a_0 + \\sum\\limits_{i=1}^n a_i\\bar{\\gamma}_i\\mu_{X_i} = 0$$\n",
    "\n",
    "* Desta forma, as derivadas serão independentes de $x_i$:\n",
    "\n",
    "$$\\frac{\\partial{g}}{\\partial{X_i^{\\prime}}} = a_i \\sigma_{X_i}$$\n",
    "\n",
    "* Os cossenos diretores serão dados por:\n",
    "\n",
    "$$\\alpha_i = \\frac{a_i \\sigma_{X_i}}{\\sqrt{\\sum\\limits_{i=1}^n (a_i \\sigma_{X_i})^2}}$$\n",
    "\n",
    "* Os coeficientes de segurança serão:\n",
    "\n",
    "$$\\bar{\\gamma}_i= 1 - \\frac{a_i \\sigma_{X_i}}{\\sqrt{\\sum\\limits_{i=1}^n (a_i \\sigma_{X_i})^2}} \\beta \\delta_{X_i}$$\n"
   ]
  },
  {
   "cell_type": "markdown",
   "id": "059af055-00ad-45b7-8d6a-61eb96e37b94",
   "metadata": {},
   "source": [
    "#### Fatores de segurança em relação aos valores nominais ou característicos das variáveis básicas:\n",
    "\n",
    "* Os fatores de segurança $\\bar{\\gamma}_{X_i}$ surgem da razão entre os valores de projeto $x^*$ das variáveis básicas e seus valores médios $\\mu_{X_i}$, tal que $x^* = \\bar{\\gamma}_{X_i} \\mu_{X_i}$.\n",
    "\n",
    "* Na prática, buscam-se os fatores de segurança $\\gamma_{X_i}$ que relacionam os valores de projeto $x^*$ com os valores característicos $x_k$, ou nominais $x_n$, na forma: $x^* = \\bar{\\gamma}_{X_i} x_k$.\n",
    "\n",
    "* Admitindo-se uma distribuição normal para as variáveis básicas a relação entre um valor nominal e um valor médio de uma variável será dada por: $x_k = \\mu_{X_i}(1 + k_{X_i} \\delta{X_i})$, onde $k_{X_i}$ é um fator associado a um determinado quantil da curva normal, sendo por exemplo igual a $+1,65$ para o quantil de $95\\%$ e igual a $-1,65$ para o quantil de $5\\%$. Normalmente se utiliza o sinal posivo para as variáveis do lado da solicitação ou carga, e valores negativos para as variáveis do lado da resistência.\n",
    "\n",
    "* Então, para uma variável do lado da capacidade resistente $R$, tem-se que:\n",
    "\n",
    "$$\\frac{1}{\\gamma_{X_i}} = \\frac{x_i^*}{x_{ik}} = \\frac{1 - \\alpha_i \\beta \\delta_{X_i}}{1 - k_{X_i} \\delta{X_i}}$$\n",
    "\n",
    "* Conforme ilustrado na figura abaixo, onde $R_d = x_i^*$:\n",
    "\n",
    "<img src=\"./images7/resistance.jpg\" alt=\"Resistência de cálculo\" style=\"width:474px\" />\n",
    "\n",
    "* Já para uma variável do lado da solicitação $S$, tem-se que:\n",
    "\n",
    "$$\\gamma_{X_i} = \\frac{x_i^*}{x_{ik}} = \\frac{1 - \\alpha_i \\beta \\delta_{X_i}}{1 + k_{X_i} \\delta{X_i}}$$\n",
    "\n",
    "* A figura abaixo serve  para ilustrar o valor da solicitação de cálculo,  onde $S_d = x_i^*$:\n",
    "\n",
    "<img src=\"./images7/loads.jpg\" alt=\"Solicitação de cálculo\" style=\"width:474px\" />"
   ]
  },
  {
   "cell_type": "markdown",
   "id": "ff0dc2fb-dea0-45c3-8ebd-6d546bced26a",
   "metadata": {},
   "source": [
    "### Exemplo 7.11 - Pilar de concreto armado: determinação dos fatores de segurança de projeto"
   ]
  },
  {
   "cell_type": "markdown",
   "id": "fbdef968-3a44-4571-a499-792f52f72c98",
   "metadata": {},
   "source": [
    "<img src=\"./images7/pilares.jpg\" alt=\"Cargas em pilares\" style=\"width:474px\" />"
   ]
  },
  {
   "cell_type": "markdown",
   "id": "261677f0-5a6e-456c-b685-c28c235ad4d4",
   "metadata": {},
   "source": [
    "* Dado um pilar de concreto armado submetido às cargas descritas abaixo, supondo uma situação de compressão centrada:\n",
    "\n",
    "* Cargas:\n",
    "\n",
    "* Carga permanente $G$: $\\mu_G = 200 kN \\quad \\sigma_G = 14 kN \\quad \\delta_G = 7\\%$\n",
    "\n",
    "* Carga acidental $Q$: $\\mu_Q = 300 kN \\quad \\sigma_Q = 36 kN \\quad \\delta_Q = 12\\%$\n",
    "\n",
    "* Carga do vento $W$: $\\mu_W = 150 kN \\quad \\sigma_W = 30 kN \\quad \\delta_G = 20\\%$\n",
    "\n",
    "* Carga total: $S = G + Q + W$\n",
    "\n",
    "* Resistência $R \\geq S$: $\\mu_R = 975 kN \\quad \\sigma_R = 146,25 kN \\quad \\delta_G = 15\\%$\n",
    "\n",
    "* No __Exemplo 7.3__, para estas variáveis de solicitação e resistência foi determinado um índice de confiabilidade $\\beta = 2,11$, que é considerado baixo para fins de projeto estrutural.\n",
    "\n",
    "* Pede-se determinar quais devem ser os fatores de segurança parciais $\\gamma_G$, $\\gamma_Q$, $\\gamma_W$ e $\\gamma_R$, tal que se obtenha um índice de confiabilidade $\\beta_{alvo} = 4,00$.\n",
    "\n",
    "* __Solução__:\n",
    "\n",
    "* Parte-se de uma condição de equilíbrio com os valores médios, ou seja: $\\mu_R = \\mu_G + \\mu_Q + \\mu_R = 650 kN$\n",
    "\n",
    "* Logo $\\sigma_R = \\delta_R \\mu_R = 0,15 \\times 650 = 97,5 kN$\n",
    "\n",
    "#### Cálculo dos cossenos diretores:\n",
    "\n",
    "* Denominador:\n",
    "\n",
    "$$ D = \\sqrt{ \\left(\\frac{\\partial{g}}{\\partial{R^{\\prime}}}\\right)^2 + \\left(\\frac{\\partial{g}}{\\partial{G^{\\prime}}}\\right)^2 + \\left(\\frac{\\partial{g}}{\\partial{Q^{\\prime}}}\\right)^2 + \\left(\\frac{\\partial{g}}{\\partial{W^{\\prime}}}\\right)^2 }$$\n",
    "\n",
    "$$ D = \\sqrt{ \\sigma_R^2 + \\sigma_G^2 + \\sigma_Q^2 + \\sigma_W^2 }$$\n",
    "\n",
    "* Cossenos diretores:\n",
    "\n",
    "$$ \\alpha_R = \\frac{\\sigma_R}{D}, \\quad \\alpha_G = -\\frac{\\sigma_G}{D}, \\quad \\alpha_Q = -\\frac{\\sigma_Q}{D}, \\quad \\alpha_W = -\\frac{\\sigma_W}{D} $$\n",
    "\n",
    "#### Ponto mais provável de falha em função de $\\beta_{alvo}$:\n",
    "\n",
    "$$ g^{*} = \\mu_G - \\alpha_G \\beta_{alvo} \\sigma_G$$\n",
    "\n",
    "$$ q^{*} = \\mu_Q - \\alpha_Q \\beta_{alvo} \\sigma_Q$$\n",
    "\n",
    "$$ w^{*} = \\mu_W - \\alpha_W \\beta_{alvo} \\sigma_W$$\n",
    "\n",
    "* Por equilíbrio, de modo a satisfazer $g(\\textbf{x*})=0$: \n",
    "\n",
    "$$r^* = g^* + q^* + w^*$$ \n",
    "\n",
    "\n",
    "#### Cálculo dos fatores de segurança médios:\n",
    "\n",
    "* $\\bar{\\gamma}_R = 1 - \\alpha_R \\beta \\sigma_R$\n",
    "\n",
    "* $\\bar{\\gamma}_G = 1 - \\alpha_G \\beta \\sigma_G$\n",
    "\n",
    "* $\\bar{\\gamma}_Q = 1 - \\alpha_Q \\beta \\sigma_Q$\n",
    "\n",
    "* $\\bar{\\gamma}_W = 1 - \\alpha_W \\beta \\sigma_W$\n",
    "\n",
    "#### Cálculo dos fatores de segurança médios após duas iterações:\n",
    "\n",
    "* $\\bar{\\gamma}_R = 0,41  \\rightarrow 1/\\bar{\\gamma}_R =2,43$\n",
    "\n",
    "* $\\bar{\\gamma}_G = 1,02$\n",
    "\n",
    "* $\\bar{\\gamma}_Q = 1,07$\n",
    "\n",
    "* $\\bar{\\gamma}_W = 1,10$\n",
    "\n",
    "* Observe-se que a variável dominante do problema é a resistência $R$ com $\\alpha_R = 0,9796$.\n",
    "\n",
    "* O valor final para $\\mu_R = 1.672 kN$, bastante superior aos $975 kN$ do __Exemplo 7.3__."
   ]
  },
  {
   "cell_type": "code",
   "execution_count": 16,
   "id": "af68b16f-ccc0-46ae-ac19-faae06bebf6a",
   "metadata": {},
   "outputs": [
    {
     "name": "stdout",
     "output_type": "stream",
     "text": [
      "Iter = 1 Beta = 3.8627 g(x) = 0.0000\n",
      "Rd = 301.3998 Gd = 207.1874 Qd = 347.5251 Wd = 183.0036\n",
      "alpha_R = 0.8938 alpha_G = -0.1283 alpha_Q = -0.3300 alpha_W = -0.2750\n",
      "gamma_Rm = 0.4637 gamma_Gm = 1.0359 gamma_Qm = 1.1584 gamma_Wm = 1.2200\n",
      "\n",
      "Iter = 2 Beta = 3.9998 g(x) = 0.0000\n",
      "Rd = 655.8211 Gd = 203.2183 Qd = 321.2804 Wd = 164.7781\n",
      "alpha_R = 0.9796 alpha_G = -0.0575 alpha_Q = -0.1478 alpha_W = -0.1232\n",
      "gamma_Rm = 0.4122 gamma_Gm = 1.0161 gamma_Qm = 1.0709 gamma_Wm = 1.0985\n",
      "\n",
      "Pf = 3.17e-05\n"
     ]
    }
   ],
   "source": [
    "\"\"\"\n",
    "Pilar de concreto armado sob compressão axial\n",
    "Cálculo dos fatores de segurança\n",
    "Autor: Mauro Real\n",
    "\"\"\"\n",
    "import numpy as np\n",
    "from scipy.stats import norm\n",
    "from numpy import linalg as LA\n",
    "\n",
    "def funcaogx(gammam, ux):\n",
    "#    \n",
    "    gx=(gammam[0]*ux[0])-((gammam[1]*ux[1])+(gammam[2]*ux[2])+(gammam[3]*ux[3]))\n",
    "#   \n",
    "    return gx\n",
    "#\n",
    "# Dados\n",
    "#\n",
    "#\n",
    "# R: normal\n",
    "vR=0.15\n",
    "Rm=650.00\n",
    "sR=vR*Rm\n",
    "# G: normal\n",
    "vG=0.07\n",
    "Gm=200.00\n",
    "sG=vG*Gm\n",
    "# Q: normal\n",
    "vQ=0.12\n",
    "Qm=300.00\n",
    "sQ=vQ*Qm\n",
    "# W: normal\n",
    "vW=0.20\n",
    "Wm=150.00\n",
    "sW=vW*Wm\n",
    "#Valores iniciais\n",
    "erro=1000\n",
    "Beta=4.00\n",
    "#Ciclo iterativo\n",
    "dgxlk=np.zeros(4)\n",
    "xd=np.zeros(4)\n",
    "ux=np.zeros(4)\n",
    "sx=np.zeros(4)\n",
    "cosdk=np.zeros(4)\n",
    "gammam=np.zeros(4)\n",
    "kiter=0\n",
    "xd[0]=Rm\n",
    "xd[1]=Gm\n",
    "xd[2]=Qm\n",
    "xd[3]=Wm\n",
    "#R: \n",
    "ux[0]=Rm\n",
    "sx[0]=sR\n",
    "#G: \n",
    "ux[1]=Gm\n",
    "sx[1]=sG\n",
    "#R: \n",
    "ux[2]=Qm\n",
    "sx[2]=sQ\n",
    "#R: \n",
    "ux[3]=Wm\n",
    "sx[3]=sW\n",
    "#\n",
    "while (erro>0.001):\n",
    "    kiter=kiter+1\n",
    "\n",
    "#Derivadas\n",
    "    dgxlk[0]=sx[0] #dgR\n",
    "    dgxlk[1]=-sx[1] #dgG\n",
    "    dgxlk[2]=-sx[2] #dgQ\n",
    "    dgxlk[3]=-sx[3] #dgW\n",
    "#Cossenos diretores\n",
    "    D2=np.inner(dgxlk,dgxlk)\n",
    "    D=np.sqrt(D2)\n",
    "    cosdk=dgxlk/D\n",
    "#Calculo do ponto de falha\n",
    "#\n",
    "    xd=ux-cosdk*Beta*sx\n",
    "# Coeficientes de segurança médios: gammam\n",
    "    gammam=xd/ux\n",
    "    ux[0]=((gammam[1]*ux[1])+(gammam[2]*ux[2])+(gammam[3]*ux[3]))/gammam[0]\n",
    "    sx[0] = vR * ux[0]\n",
    "\n",
    "#g(x)=R - G - Q - W;\n",
    "    gxlk=funcaogx(gammam, ux)\n",
    "    \n",
    "    Beta1=(ux[0]-ux[1]-ux[2]-ux[3])/LA.norm(sx)\n",
    "    erro=np.abs(Beta1-Beta)/Beta\n",
    "#\n",
    "    print(\"Iter = {0:0d} Beta = {1:0.4f} g(x) = {2:0.4f}\".format(kiter,Beta1,gxlk))\n",
    "    print(\"Rd = {0:0.4f} Gd = {1:0.4f} Qd = {2:0.4f} Wd = {3:0.4f}\".format(xd[0],xd[1],xd[2],xd[3]))\n",
    "    print(\"alpha_R = {0:0.4f} alpha_G = {1:0.4f} alpha_Q = {2:0.4f} alpha_W = {3:0.4f}\".format(cosdk[0],cosdk[1],cosdk[2],cosdk[3]))\n",
    "    print(\"gamma_Rm = {0:0.4f} gamma_Gm = {1:0.4f} gamma_Qm = {2:0.4f} gamma_Wm = {3:0.4f}\".format(gammam[0],gammam[1],gammam[2],gammam[3]), end=\"\\n\\n\")\n",
    "    \n",
    "pf=norm.cdf(-Beta)\n",
    "print(\"Pf = {0:0.2e}\".format(pf))\n"
   ]
  },
  {
   "cell_type": "markdown",
   "id": "82e58ed5-208b-4a7a-8841-248826743fac",
   "metadata": {},
   "source": [
    "[Retornar ao início da aula](#section_7)"
   ]
  },
  {
   "cell_type": "markdown",
   "id": "3a57ae77-8714-4a47-a9c2-e0797fe8f4df",
   "metadata": {},
   "source": [
    "### 7.7.6 - Calibração usando o método FORM <a name=\"section_776\"></a>\n",
    "\n",
    "* O método FORM pode ser utilizado iterativamente para a calibração dos coeficientes parciais de segurança de uma norma de projeto estrutural.\n",
    "\n"
   ]
  },
  {
   "cell_type": "markdown",
   "id": "4569a37d-5d84-49e0-843c-45ebfd98e6af",
   "metadata": {},
   "source": [
    "[Retornar ao início da aula](#section_7)"
   ]
  },
  {
   "cell_type": "markdown",
   "id": "30a7fc90",
   "metadata": {
    "tags": []
   },
   "source": [
    "## __Bibliografia__"
   ]
  },
  {
   "cell_type": "markdown",
   "id": "78e08737-5ad3-4386-8f3e-3b9f0f4d5b69",
   "metadata": {},
   "source": [
    "* __Livros__\n",
    "* ANG,  A.  H-S.; TANG,  W. H.. Probability concepts in engineering planning and design. Volume I:  basic principles. New  York, John Wiley & Sons, 1975.\n",
    "* ANG,  A.  H-S.; TANG,  W. H.. Probability concepts in engineering planning and design. Volume II: decision, risk and reliability. New  York, John Wiley & Sons, 1984.\n",
    "* ANG,  A.  H-S.; TANG,  W. H.. Probability concepts in engineering: Emphasis on applications to Civil and Enviromental Engineering.  2nd ed. Hoboken, NJ, John Wiley & Sons, 2007.\n",
    "* BECK, A. T. Confiabilidade e segurança das  estruturas. Rio de Janeiro, Elsevier, 2019.\n",
    "* HALDAR, A. MAHADEVAN, S. Probability, reliability, and statistical methods in engineering design. New York, Wiley, 2000.\n",
    "* MELCHERS, R.E., BECK, A. T.; Structural reliability analysis and prediction. 3rd ed. John Wiley and Sons, 2018, 514p.\n",
    "* __Artigos__\n",
    "* HASOFER, A.M.; LIND, N.C.; 1974: Exact and Invariant Second Moment Code Format, J. Eng. Mech. ASCE 100, 111-121.\n",
    "* LIU, P-L.; DER KIUREGHIAN, A. Multivariate distribution models with prescribed marginals and covariances. Probabilistic Engineering Mechanics, 1986, v.1, n.2, p.105-112.\n",
    "* RACKWITZ R.; FIESSLER, B.; 1978: Structural Reliability Under Combined Load Sequences, Computers & Structures 9,489-494.\n",
    "* ROUDAK, M.A.; SHAYANFAR, M.A.; BARKHORDARI, M.A.; KARAMLOO, M.; 2017: A robust approximation method for nonlinear cases of structural reliability analylis. International Journal of Mechanical Sciences, 133, 11-20.  "
   ]
  },
  {
   "cell_type": "markdown",
   "id": "e39c51bd-4a53-4a07-a27b-16a2c14cf9c8",
   "metadata": {
    "tags": []
   },
   "source": [
    "$$\\alpha_i = \\frac{ \\frac{ \\partial{g} }{ \\partial{X_i^{\\prime} } } } { \\sqrt{ \\sum_{j=1}^{n} (\\frac{ \\partial{g} }{ \\partial{X_j^{\\prime} } })^2 } }$$[Retornar ao início da aula](#section_7)"
   ]
  }
 ],
 "metadata": {
  "colab": {
   "name": "Capítulo_5.ipynb",
   "provenance": []
  },
  "interpreter": {
   "hash": "f189cad14bda9570c78e3484cdd4044273f5880bd3757c16e7bdbbda1060b186"
  },
  "kernelspec": {
   "display_name": "Python 3 (ipykernel)",
   "language": "python",
   "name": "python3"
  },
  "language_info": {
   "codemirror_mode": {
    "name": "ipython",
    "version": 3
   },
   "file_extension": ".py",
   "mimetype": "text/x-python",
   "name": "python",
   "nbconvert_exporter": "python",
   "pygments_lexer": "ipython3",
   "version": "3.8.5"
  }
 },
 "nbformat": 4,
 "nbformat_minor": 5
}
