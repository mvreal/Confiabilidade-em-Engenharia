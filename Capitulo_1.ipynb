{
 "cells": [
  {
   "cell_type": "markdown",
   "id": "1dc445f3-8f0f-41b7-a0fa-541467a1d3db",
   "metadata": {
    "id": "1dc445f3-8f0f-41b7-a0fa-541467a1d3db"
   },
   "source": [
    "### Universidade Federal do Rio Grande - FURG"
   ]
  },
  {
   "cell_type": "markdown",
   "id": "27d28d81-ad30-4559-b52d-0fee9ac96cae",
   "metadata": {
    "id": "27d28d81-ad30-4559-b52d-0fee9ac96cae"
   },
   "source": [
    "### Escola de Engenharia - EE"
   ]
  },
  {
   "cell_type": "markdown",
   "id": "103a5401-6849-4ee0-a254-08a7f684a870",
   "metadata": {
    "id": "103a5401-6849-4ee0-a254-08a7f684a870"
   },
   "source": [
    "### Programa de Pós-graduação em Engenharia Oceânica - PPGEO"
   ]
  },
  {
   "cell_type": "markdown",
   "id": "547b79f5-d7a3-4b02-8ce9-7c1647bff36b",
   "metadata": {
    "id": "547b79f5-d7a3-4b02-8ce9-7c1647bff36b"
   },
   "source": [
    "### Disciplina: Confiabilidade em Engenharia"
   ]
  },
  {
   "cell_type": "markdown",
   "id": "189e93bb-f3e5-4536-9aec-d09046d6929b",
   "metadata": {
    "id": "189e93bb-f3e5-4536-9aec-d09046d6929b"
   },
   "source": [
    "### Professor: Dr. Mauro de Vasconcellos Real"
   ]
  },
  {
   "cell_type": "markdown",
   "id": "ce78f794-4773-4210-bf0c-d89fd0e707f7",
   "metadata": {
    "id": "ce78f794-4773-4210-bf0c-d89fd0e707f7"
   },
   "source": [
    "# __Capítulo 1 - Conceitos fundamentais de confiabilidade__"
   ]
  },
  {
   "cell_type": "markdown",
   "id": "e4c7f828-335f-42ac-b316-e8fd6c4a263c",
   "metadata": {
    "id": "e4c7f828-335f-42ac-b316-e8fd6c4a263c"
   },
   "source": [
    "## [1.1 - Introdução: sucessos e desastres na Engenharia](#section_1)"
   ]
  },
  {
   "cell_type": "markdown",
   "id": "f51781d3-f3d2-425f-a7ae-fb5bcf16942f",
   "metadata": {
    "id": "f51781d3-f3d2-425f-a7ae-fb5bcf16942f"
   },
   "source": [
    "## [1.2 - Incertezas na Engenharia](#section_2)"
   ]
  },
  {
   "cell_type": "markdown",
   "id": "3ce4b88f-bb46-49e3-b43f-b2c43671b855",
   "metadata": {
    "id": "3ce4b88f-bb46-49e3-b43f-b2c43671b855"
   },
   "source": [
    "## [1.3 - Análise e avaliação da segurança: A Teoria da Confiabilidade](#section_3)"
   ]
  },
  {
   "cell_type": "markdown",
   "id": "3e17ec2c-ec34-4711-bf48-764dc8f98e6d",
   "metadata": {
    "id": "3e17ec2c-ec34-4711-bf48-764dc8f98e6d"
   },
   "source": [
    "## [1.4 - Projeto de sistemas de engenharia com base na  Teoria da Confiabilidade](#section_4)"
   ]
  },
  {
   "cell_type": "markdown",
   "id": "65bd6cbc-1bc3-4659-9745-fa7e58be371f",
   "metadata": {
    "id": "65bd6cbc-1bc3-4659-9745-fa7e58be371f"
   },
   "source": [
    "## [1.5 - Aplicação: Projeto de um pilar curto de concreto](#section_5)"
   ]
  },
  {
   "cell_type": "markdown",
   "id": "e35e22ac-13fd-4c43-917c-65a143bdce53",
   "metadata": {
    "id": "e35e22ac-13fd-4c43-917c-65a143bdce53"
   },
   "source": [
    "## [1.6 - Observações e conclusões](#section_6)"
   ]
  },
  {
   "cell_type": "markdown",
   "id": "3764b601-27f8-4189-a03c-e7c7c94f021d",
   "metadata": {
    "id": "3764b601-27f8-4189-a03c-e7c7c94f021d"
   },
   "source": [
    "# __1.1 - Introdução: sucessos e desastres na Engenharia__ <a name=\"section_1\"></a>"
   ]
  },
  {
   "cell_type": "markdown",
   "id": "5bafba8c-efa5-4114-9f0e-603f32dbecc4",
   "metadata": {
    "id": "5bafba8c-efa5-4114-9f0e-603f32dbecc4"
   },
   "source": [
    "## Grandes _sucessos_ da Engenharia"
   ]
  },
  {
   "cell_type": "markdown",
   "id": "157432c3-c6ac-4105-b5b2-45e3ad381233",
   "metadata": {
    "id": "157432c3-c6ac-4105-b5b2-45e3ad381233"
   },
   "source": [
    "* Barragem das Três Gargantas - Rio Amarelo - China\n",
    "* Golden Gate Bridge - San Francisco Bay - EUA\n",
    "* Túnel do Canal da Mancha\n",
    "* Burj Khalifa - Dubai - Emirados Árabes Unidos\n",
    "* Ponte de Qingdao Haiwan - China\n",
    "* Hidrelétrica de Itaipu - Rio Paraná - Brasil\n",
    "* Ponte Rio Niterói - Baía da Guanabara - Brasil\n",
    "* Viaduto do Exército - Vespasiano Corrêa - RS - Brasil\n",
    "* Edifício Millennium Palace - Balneário Camboriú - SC - Brasil\n",
    "* Ponte Otávio Frias de Oliveira - Rio Pinheiros - São Paulo - SP - Brasil"
   ]
  },
  {
   "cell_type": "markdown",
   "id": "0b8c3d99-64a5-44e9-9200-89c81286e8e6",
   "metadata": {
    "id": "0b8c3d99-64a5-44e9-9200-89c81286e8e6"
   },
   "source": [
    "### Golden Gate Bridge - San Francisco Bay - EUA - 1937"
   ]
  },
  {
   "cell_type": "markdown",
   "id": "4e3eb7d3-b94e-42a7-9967-eb43d228c585",
   "metadata": {
    "id": "4e3eb7d3-b94e-42a7-9967-eb43d228c585"
   },
   "source": [
    "<img src=\"./images/golden_gate_bridge.jpg\" alt=\"golden_gate_bridge\" style=\"width:474px\"/>"
   ]
  },
  {
   "cell_type": "markdown",
   "id": "470432e7-4165-4e98-91c6-7ea2c80a89e6",
   "metadata": {
    "id": "470432e7-4165-4e98-91c6-7ea2c80a89e6"
   },
   "source": [
    "Fonte: http://4.bp.blogspot.com/-3hCtUe_fsms/UyIfOGOlxbI/AAAAAAAAAQA/8inyRrUNGWk/s1600/aphoto49721.jpg"
   ]
  },
  {
   "cell_type": "markdown",
   "id": "44de5aac-973b-4f8c-80e4-d7ce8e9fdf69",
   "metadata": {
    "id": "44de5aac-973b-4f8c-80e4-d7ce8e9fdf69"
   },
   "source": [
    "* Extensão = 2.100 m\n",
    "* Vão central = 1.280 m!\n",
    "* Ventos fortes!\n",
    "* Terremotos!"
   ]
  },
  {
   "cell_type": "markdown",
   "id": "6fed8a23-83cf-4ab0-ac2c-2bd0effe578c",
   "metadata": {
    "id": "6fed8a23-83cf-4ab0-ac2c-2bd0effe578c"
   },
   "source": [
    "### Túnel do Canal da Mancha - Reino Unido - França - 1994"
   ]
  },
  {
   "cell_type": "markdown",
   "id": "138ddbbf-122f-44bc-ba8f-a656a7b7c5cd",
   "metadata": {
    "id": "138ddbbf-122f-44bc-ba8f-a656a7b7c5cd"
   },
   "source": [
    "<img src=\"./images/channel-tunnel.jpg\" alt=\"channel-tunnel\" style=\"width:474px\"/>"
   ]
  },
  {
   "cell_type": "markdown",
   "id": "5e6d2217-f1ef-407f-97d5-9b965d4f7bf5",
   "metadata": {
    "id": "5e6d2217-f1ef-407f-97d5-9b965d4f7bf5"
   },
   "source": [
    "Fonte: https://www.ice.org.uk/ICEDevelopmentWebPortal/media/what-is-civil-engineering/projects/channel-tunnel.jpg?ext=.jpg"
   ]
  },
  {
   "cell_type": "markdown",
   "id": "f2f917a9-9329-465e-8b58-b8da595961c7",
   "metadata": {
    "id": "f2f917a9-9329-465e-8b58-b8da595961c7"
   },
   "source": [
    "* Extensão = 50 km\n",
    "* Profundidade = 76 m"
   ]
  },
  {
   "cell_type": "markdown",
   "id": "7a7b14ca-0cbb-47d8-bc07-361e9b814407",
   "metadata": {
    "id": "7a7b14ca-0cbb-47d8-bc07-361e9b814407"
   },
   "source": [
    "### Barragem das Três Gargantas - Rio Amarelo - China - 2003"
   ]
  },
  {
   "cell_type": "markdown",
   "id": "a77caf87-a588-418f-b4b9-ec1831e6c009",
   "metadata": {
    "id": "a77caf87-a588-418f-b4b9-ec1831e6c009"
   },
   "source": [
    "<img src=\"./images/three_gorges_dam.jpg\" alt=\"three_gorges_dam\" style=\"width:474px\"/>"
   ]
  },
  {
   "cell_type": "markdown",
   "id": "b4390256-adab-4421-a3df-8fb27dcfb188",
   "metadata": {
    "id": "b4390256-adab-4421-a3df-8fb27dcfb188"
   },
   "source": [
    "Fonte:https://upload.wikimedia.org/wikipedia/commons/thumb/a/ab/ThreeGorgesDam-China2009.jpg/260px-ThreeGorgesDam-China2009.jpg"
   ]
  },
  {
   "cell_type": "markdown",
   "id": "409eacc5-78a9-47ea-93e9-3a7e9c3d8585",
   "metadata": {
    "id": "409eacc5-78a9-47ea-93e9-3a7e9c3d8585"
   },
   "source": [
    "* Maior barragem hidrelétrica do mundo!\n",
    "* Extensão = 2.335 m\n",
    "* Altura = 185 m (um prédio de 62 andares!)\n",
    "* Geração de 22.500 MW/h\n",
    "* Concreto = 27,2 milhões de metros cúbicos."
   ]
  },
  {
   "cell_type": "markdown",
   "id": "945bfd7a-f624-4eb9-88b0-495debce43f0",
   "metadata": {
    "id": "945bfd7a-f624-4eb9-88b0-495debce43f0"
   },
   "source": [
    "###  Burj Khalifa - Dubai - Emirados Árabes Unidos - 2010"
   ]
  },
  {
   "cell_type": "markdown",
   "id": "096fe238-3a51-44e1-bccd-d3e603d49a42",
   "metadata": {
    "id": "096fe238-3a51-44e1-bccd-d3e603d49a42"
   },
   "source": [
    "<img src=\"./images/burj_khalifa.jpg\" alt=\"burj_khalifa\" style=\"width:474px\"/>"
   ]
  },
  {
   "cell_type": "markdown",
   "id": "93c11e03-a614-446e-94a1-eef9ec6225bf",
   "metadata": {
    "id": "93c11e03-a614-446e-94a1-eef9ec6225bf"
   },
   "source": [
    "Fonte: https://3.bp.blogspot.com/-6eF_qNggXJk/T-EcOkOEOpI/AAAAAAAAI3U/9-CVWJ5o3FU/s320/BurjDubai1.jpg"
   ]
  },
  {
   "cell_type": "markdown",
   "id": "cbc08c8c-6d69-4a2d-8619-717624e9a325",
   "metadata": {
    "id": "cbc08c8c-6d69-4a2d-8619-717624e9a325"
   },
   "source": [
    "* Edifício mais alto do mundo!\n",
    "* Altura = 828 m!\n",
    "* 163 andares\n",
    "* Ventos de 160 km/h!\n"
   ]
  },
  {
   "cell_type": "markdown",
   "id": "f42c98c5",
   "metadata": {
    "id": "f42c98c5"
   },
   "source": [
    "### Qingdao-Haiwan Bridge - China - 2011"
   ]
  },
  {
   "cell_type": "markdown",
   "id": "231b0e2b-f34a-413e-b5e7-2760d2ba26a8",
   "metadata": {
    "id": "231b0e2b-f34a-413e-b5e7-2760d2ba26a8"
   },
   "source": [
    "<img src=\"./images/qingdao-haiwan_bridge.jpg\" alt=\"qingdao-haiwan_bridge\" style=\"width:474px\"/>"
   ]
  },
  {
   "cell_type": "markdown",
   "id": "ee193200-923d-49a3-8e3e-1598391906f0",
   "metadata": {
    "id": "ee193200-923d-49a3-8e3e-1598391906f0"
   },
   "source": [
    "Fonte: https://i.pinimg.com/originals/be/fb/a8/befba8392bccebffd6d02e2079df062c.jpg"
   ]
  },
  {
   "cell_type": "markdown",
   "id": "61135cfa-05ca-492c-98d6-58875ace357d",
   "metadata": {
    "id": "61135cfa-05ca-492c-98d6-58875ace357d"
   },
   "source": [
    "* A maior ponte em extensão no mundo!\n",
    "* Extensão = 42,5 km\n",
    "* Resistente a furacões!\n",
    "* Pode suportar terremotos de até 8 graus na Escala Richter!\n",
    "* Resistente ao impacto de um navio de até 300 mil toneladas!\n"
   ]
  },
  {
   "cell_type": "markdown",
   "id": "33103ddb-1c97-4216-add8-917e52ca46c8",
   "metadata": {
    "id": "33103ddb-1c97-4216-add8-917e52ca46c8"
   },
   "source": [
    "### Ponte Rio-Niterói - Baía da Guanabara - RJ - Brasil - 1974"
   ]
  },
  {
   "cell_type": "markdown",
   "id": "cc8905f6-b946-42ab-822c-439d86255004",
   "metadata": {
    "id": "cc8905f6-b946-42ab-822c-439d86255004"
   },
   "source": [
    "<img src=\"./images/ponte_rio-niteroi.jpg\" alt=\"ponte_rio-niteroi\" style=\"width:474px\"/>"
   ]
  },
  {
   "cell_type": "markdown",
   "id": "e057c9be-a7c5-48d1-ad7b-28fef64572da",
   "metadata": {
    "id": "e057c9be-a7c5-48d1-ad7b-28fef64572da"
   },
   "source": [
    "Fonte: https://queromoraremniteroi.com.br/wp-content/uploads/2016/03/ponte_rio_niteroi.png"
   ]
  },
  {
   "cell_type": "markdown",
   "id": "2f6cb82c-2963-4bbb-82e7-6b6035c55e84",
   "metadata": {
    "id": "2f6cb82c-2963-4bbb-82e7-6b6035c55e84"
   },
   "source": [
    "* Extensão = 13,29 km\n",
    "* Altura máxima = 72 m (um edifício de 24 andares)\n",
    "* Vão central = 300 m (vigas de aço).\n",
    "* Ventos fortes!"
   ]
  },
  {
   "cell_type": "markdown",
   "id": "1ec8bd58-5d80-46c0-8b1c-893186113dbb",
   "metadata": {
    "id": "1ec8bd58-5d80-46c0-8b1c-893186113dbb"
   },
   "source": [
    "### Hidrelétrica de Itaipu - Rio Paraná - Brasil-Paraguai - 1975-1982"
   ]
  },
  {
   "cell_type": "markdown",
   "id": "f7c0a17e-d975-45c2-bfb6-828f42130286",
   "metadata": {
    "id": "f7c0a17e-d975-45c2-bfb6-828f42130286"
   },
   "source": [
    "<img src=\"./images/hidreletrica_itaipu.jpg\" alt=\"hidreletrica_itaipu\" style=\"width:474px\"/>"
   ]
  },
  {
   "cell_type": "markdown",
   "id": "5ec731b9-27e0-4668-9170-a03937adab1a",
   "metadata": {
    "id": "5ec731b9-27e0-4668-9170-a03937adab1a"
   },
   "source": [
    "Fonte: https://clickpetroleoegas.com.br/wp-content/uploads/2021/01/Usina-hidreletrica-de-Itaipu-registra-o-seu-maior-indice-de-produtividade-em-2020.jpg"
   ]
  },
  {
   "cell_type": "markdown",
   "id": "cb3e8786-74a7-41b8-8e89-70aa48428d8c",
   "metadata": {
    "id": "cb3e8786-74a7-41b8-8e89-70aa48428d8c"
   },
   "source": [
    "* A segunda maior barragem do mundo!\n",
    "* Extensão = 7.919 m\n",
    "* Altura máxima = 196 m\n",
    "* Equivalente a um prédio de 65 andares!\n",
    "* Volume de concreto = 12,3 milhões de m3!\n",
    "* Geração de 14 mil MW/h"
   ]
  },
  {
   "cell_type": "markdown",
   "id": "af98d9ba-9f6e-465d-9acc-452c52a7e818",
   "metadata": {
    "id": "af98d9ba-9f6e-465d-9acc-452c52a7e818",
    "tags": []
   },
   "source": [
    "### Viaduto do Exército - Vespasiano Corrêa - RS - Brasil - 1978"
   ]
  },
  {
   "cell_type": "markdown",
   "id": "89c11cb0-de55-4454-8591-e665a2b4e18e",
   "metadata": {
    "id": "89c11cb0-de55-4454-8591-e665a2b4e18e"
   },
   "source": [
    "<img src=\"./images/viaduto_do_exercito.jpg\" alt=\"viaduto_do_exercito\" style=\"width:474px\"/>"
   ]
  },
  {
   "cell_type": "markdown",
   "id": "b47ddcc8-f627-4404-8c6b-8ccffa587896",
   "metadata": {
    "id": "b47ddcc8-f627-4404-8c6b-8ccffa587896"
   },
   "source": [
    "Fonte: https://upload.wikimedia.org/wikipedia/commons/thumb/5/55/Viaduto_13.JPG/1200px-Viaduto_13.JPG"
   ]
  },
  {
   "cell_type": "markdown",
   "id": "b1a75ac9-58a6-44f2-a35c-5333d8bb11da",
   "metadata": {
    "id": "b1a75ac9-58a6-44f2-a35c-5333d8bb11da"
   },
   "source": [
    "* Extensão = 509 m\n",
    "* Altura máxima = 143 m (um edifício de 48 andares)\n",
    "* Viaduto ferroviário em concreto armado!\n",
    "* Situado em Vespasiano Corrêa (RS).\n",
    "* Também chamado de Viaduto 13."
   ]
  },
  {
   "cell_type": "markdown",
   "id": "66d183a8-5e84-402c-a8a3-3cb6915a9abc",
   "metadata": {
    "id": "66d183a8-5e84-402c-a8a3-3cb6915a9abc"
   },
   "source": [
    "### Pontes Otávio Frias de Oliveira - Rio Pinheiros - São Paulo - SP - Brasil - 2008"
   ]
  },
  {
   "cell_type": "markdown",
   "id": "b44db252-fc2f-44ab-87ff-0dbc3eede541",
   "metadata": {
    "id": "b44db252-fc2f-44ab-87ff-0dbc3eede541"
   },
   "source": [
    "<img src=\"./images/ponte_estaiada.jpg\" alt=\"ponte_estaiada\" style=\"width:474px\"/>"
   ]
  },
  {
   "cell_type": "markdown",
   "id": "68a4194e-b447-420d-b92d-784150079023",
   "metadata": {
    "id": "68a4194e-b447-420d-b92d-784150079023"
   },
   "source": [
    "Fonte: https://images.alphacoders.com/581/581842.jpg"
   ]
  },
  {
   "cell_type": "markdown",
   "id": "54394f66-2e92-4185-a70b-09dee943aea2",
   "metadata": {
    "id": "54394f66-2e92-4185-a70b-09dee943aea2"
   },
   "source": [
    "* Extensão = 1600 m\n",
    "* Vão central = 290 m!\n",
    "* Altura máxima = 138 m (um edifício de 46 andares)\n",
    "* Ponte estaiada em curva!\n",
    "* Pode suportar ventos de até 250 km/h."
   ]
  },
  {
   "cell_type": "markdown",
   "id": "7b432101-95f6-4f55-9ee0-38202cd8618d",
   "metadata": {
    "id": "7b432101-95f6-4f55-9ee0-38202cd8618d"
   },
   "source": [
    "### Edifício Milenium Palace - Balneário Camboriú - SC - Brasil"
   ]
  },
  {
   "cell_type": "markdown",
   "id": "a11a3d4f-449c-4cb7-bf9a-8b5e83021474",
   "metadata": {
    "id": "a11a3d4f-449c-4cb7-bf9a-8b5e83021474"
   },
   "source": [
    "<img src=\"./images/millennium_palace.jpg\" alt=\"./images/millennium_palace.jpg\" style=\"width:474px\"/>"
   ]
  },
  {
   "cell_type": "markdown",
   "id": "48a9d1b3-e02e-45ce-90bd-52b3caf36388",
   "metadata": {
    "id": "48a9d1b3-e02e-45ce-90bd-52b3caf36388"
   },
   "source": [
    "Fonte: https://3.bp.blogspot.com/-Ag_k_2ZYVOk/VNNPLVz4KCI/AAAAAAABDjs/rhrIZBiuVx4/s1600/Millennium-Palace-Camboriu_predio-mais-alto-do-Brasil.JPG"
   ]
  },
  {
   "cell_type": "markdown",
   "id": "9a437c4c-3cce-499e-8c68-9b0c8a5a56ed",
   "metadata": {
    "id": "9a437c4c-3cce-499e-8c68-9b0c8a5a56ed"
   },
   "source": [
    "* Edifício mais alto do Brasil!\n",
    "* Altura = 177 m!\n",
    "* 46 andares."
   ]
  },
  {
   "cell_type": "markdown",
   "id": "18f3c66e-38a4-4834-a6eb-6a72c377c6f3",
   "metadata": {
    "id": "18f3c66e-38a4-4834-a6eb-6a72c377c6f3"
   },
   "source": [
    "## Grandes _desastres_ da Engenharia"
   ]
  },
  {
   "cell_type": "markdown",
   "id": "1ee591c1-30db-40f2-82d0-e065dd3d4176",
   "metadata": {
    "id": "1ee591c1-30db-40f2-82d0-e065dd3d4176"
   },
   "source": [
    "* A Ponte de Tacoma Narrows\n",
    "* Central Nuclear de Chernobyl\n",
    "* Sistema de Canais e Diques de Nova Orleães\n",
    "* Explosão da Plataforma Deep Water Horizon\n",
    "* Falha da Barragem de Banqiao\n",
    "* Queda do Pavilhão da Gameleira\n",
    "* Desabamento do Edifício Rio Palace\n",
    "* Desmoronamento no Metro Linha 4 \n",
    "* Ruptura da Barragem de Mariana\n",
    "* Desabamento de Edifício em Belém do Pará\n"
   ]
  },
  {
   "cell_type": "markdown",
   "id": "97e1b4a3-dfb7-4bb2-934c-5fce9759c5eb",
   "metadata": {
    "id": "97e1b4a3-dfb7-4bb2-934c-5fce9759c5eb"
   },
   "source": [
    "### A ponte de Tacoma Narrows - WA - EUA - 1940"
   ]
  },
  {
   "cell_type": "markdown",
   "id": "782ede7a-6c40-4574-80e1-fc80bdb5d01e",
   "metadata": {
    "id": "782ede7a-6c40-4574-80e1-fc80bdb5d01e"
   },
   "source": [
    "<img src=\"./images/tacoma-narrows-bridge.jpg\" alt=\"tacoma-narrows-bridge\" style=\"width:474px;\"/>"
   ]
  },
  {
   "cell_type": "markdown",
   "id": "256c8658-9438-4711-8c20-c8800d9c6aa2",
   "metadata": {
    "id": "256c8658-9438-4711-8c20-c8800d9c6aa2"
   },
   "source": [
    "Fonte: https://buildingcue.it/wp-content/uploads/2016/06/tacoma-narrows-bridge.jpg"
   ]
  },
  {
   "cell_type": "markdown",
   "id": "9471f6c0-43ab-435e-afec-7e7fbd249e1b",
   "metadata": {
    "id": "9471f6c0-43ab-435e-afec-7e7fbd249e1b"
   },
   "source": [
    "* Extensão = 1.810 m\n",
    "* Vão central = 853,4 m!\n",
    "* Altura do tabuleiro = 59 m (um edifício de 20 andares)\n",
    "* Ponte pênsil\n",
    "* Entrou em colapso com um vento de 64 km/h.\n",
    "* O tabuleiro, muito esbelto, entrou em ressonância no modo de vibração por torção!"
   ]
  },
  {
   "cell_type": "markdown",
   "id": "c5ae61ad-6255-42e8-a5f6-e5c247bd3618",
   "metadata": {
    "id": "c5ae61ad-6255-42e8-a5f6-e5c247bd3618"
   },
   "source": [
    "### Ruptura da barragem de Banqiao -  Província de Henan - China - 1975"
   ]
  },
  {
   "cell_type": "markdown",
   "id": "e4be03bc-934d-490d-af36-2aaf3b29f215",
   "metadata": {
    "id": "e4be03bc-934d-490d-af36-2aaf3b29f215"
   },
   "source": [
    "<img src=\"./images/banqiao_dam.png \" alt=\"banqiao_dam\" style=\"width:474px;\"/>"
   ]
  },
  {
   "cell_type": "markdown",
   "id": "0a72b7c7-ff62-46ad-98b5-8c89efa99b4b",
   "metadata": {
    "id": "0a72b7c7-ff62-46ad-98b5-8c89efa99b4b"
   },
   "source": [
    "Fonte: https://vtwp-media.s3-accelerate.amazonaws.com/2019/03/Banqiao-Dam-Failure-of-1975-2-20-screenshot.png"
   ]
  },
  {
   "cell_type": "markdown",
   "id": "2aee5e09-4b7e-4b84-8396-558554305bcd",
   "metadata": {
    "id": "2aee5e09-4b7e-4b84-8396-558554305bcd"
   },
   "source": [
    "* A Barragem de Banqiao é uma barragem no meio de outras 62 barragens, na província de Henan, na China.\n",
    "* O colapso da barragem de Banqiao, resultado das chuvas fortes causadas pelo tufão Nina em 1975.\n",
    "* Causou um dos maiores desastres naturais da história registrada, resultando na morte de cerca de 171.000 pessoas.\n"
   ]
  },
  {
   "cell_type": "markdown",
   "id": "a59f82b1-bf9d-4623-baf3-9721fdaf1f78",
   "metadata": {
    "id": "a59f82b1-bf9d-4623-baf3-9721fdaf1f78"
   },
   "source": [
    "### Desastre Nuclear de Chernobyl - Ucrânia - URSS - 1986"
   ]
  },
  {
   "cell_type": "markdown",
   "id": "a3ab69b6-45f8-4274-b9ef-efe313dba322",
   "metadata": {
    "id": "a3ab69b6-45f8-4274-b9ef-efe313dba322"
   },
   "source": [
    "<img src=\"./images/chernobyl.jpg\" alt=\"chernobyl\" style=\"width:474px;\"/>"
   ]
  },
  {
   "cell_type": "markdown",
   "id": "68e72910-9b6e-442d-b15f-57e09ba8f033",
   "metadata": {
    "id": "68e72910-9b6e-442d-b15f-57e09ba8f033"
   },
   "source": [
    "Fonte: https://www.filo.news/img/2020/04/26/chernobyl-2_1.jpg"
   ]
  },
  {
   "cell_type": "markdown",
   "id": "6cf9116c-85e0-4278-86c2-d2684337148e",
   "metadata": {
    "id": "6cf9116c-85e0-4278-86c2-d2684337148e"
   },
   "source": [
    "* Maior desastre em uma usina termo nuclear do mundo!\n",
    "* Ocorreu uma explosão inesperada do reator da durante um teste para avaliação da segurança no caso de falta de energia na usina.\n",
    "* Havia falhas de projeto no reator e o teste de segurança foi mal conduzido pelos operadores."
   ]
  },
  {
   "cell_type": "markdown",
   "id": "253028d6-4e6b-4b51-805f-37942e75fb3c",
   "metadata": {
    "id": "253028d6-4e6b-4b51-805f-37942e75fb3c"
   },
   "source": [
    "### Falha dos diques de proteção de New Orleãs - Lousiana - EUA - 2005"
   ]
  },
  {
   "cell_type": "markdown",
   "id": "e5035531-278f-4a50-b21d-b61e65a847f6",
   "metadata": {
    "id": "e5035531-278f-4a50-b21d-b61e65a847f6"
   },
   "source": [
    "<img src=\"./images/new_orleans.png\" alt=\"new_orleans\" style=\"width:474px;\"/>"
   ]
  },
  {
   "cell_type": "markdown",
   "id": "ebddba88-3178-4e3e-838d-80f0262d9a6d",
   "metadata": {
    "id": "ebddba88-3178-4e3e-838d-80f0262d9a6d"
   },
   "source": [
    "Fonte: https://www.researchgate.net/profile/Nathaniel_Bergman/publication/237512978/figure/fig2/AS:298737051160578@1448235871336/New-Orleans-levee-failure-by-Hurricane-Katrina-a-Category-3-hurricane-on-August-29.png"
   ]
  },
  {
   "cell_type": "markdown",
   "id": "0816c920-ea6d-435e-b030-328f4ee8e56d",
   "metadata": {
    "id": "0816c920-ea6d-435e-b030-328f4ee8e56d"
   },
   "source": [
    "* O furacão Katrina atingiu a costa na madrugada de 29 de agosto de 2005, no sudeste da Louisiana, a leste de Nova Orleans. \n",
    "* Em toda a área, diques e paredes de inundação falharam ou foram rompidos em mais de 50 locais.\n",
    "* Oitenta por cento da cidade de Nova Orleans foi inundada, a uma profundidade de mais de 3 m em alguns bairros."
   ]
  },
  {
   "cell_type": "markdown",
   "id": "935a9921-8414-4fbe-9a4c-45252dec3bbf",
   "metadata": {
    "id": "935a9921-8414-4fbe-9a4c-45252dec3bbf"
   },
   "source": [
    "### Explosão da plataforma Deepwater Horizon - Golfo do México - EUA - 2010"
   ]
  },
  {
   "cell_type": "markdown",
   "id": "87ba83ab-cb2d-46b4-b480-c62400f5ca9c",
   "metadata": {
    "id": "87ba83ab-cb2d-46b4-b480-c62400f5ca9c"
   },
   "source": [
    "<img src=\"./images/deepwater_horizon.jpg\" alt=\"deepwater_horizon\" style=\"width:474px\"/>"
   ]
  },
  {
   "cell_type": "markdown",
   "id": "dfce549c-321d-4488-b761-575b29f2d994",
   "metadata": {
    "id": "dfce549c-321d-4488-b761-575b29f2d994"
   },
   "source": [
    "Fonte: https://www.fatosdesconhecidos.com.br/wp-content/uploads/2019/10/AM-BH230_BPCASE_M_20150118161036-1-600x400.jpg"
   ]
  },
  {
   "cell_type": "markdown",
   "id": "0c4ac66b-f187-4d15-ba0d-8836064c2342",
   "metadata": {
    "id": "0c4ac66b-f187-4d15-ba0d-8836064c2342"
   },
   "source": [
    "* A sonda estava na fase final da perfuração de um poço no Golfo do México.\n",
    "* Uma falha no revestimento do poço possibilitou que os fluidos inflamáveis fossem liberados descontroladamente.\n",
    "* Morreram onze pessoas em consequência deste acidente.\n",
    "* O derrame de petróleo resultante prejudicou o habitat de centenas de espécies de animais."
   ]
  },
  {
   "cell_type": "markdown",
   "id": "d25471a5-5481-436d-9cd2-5430db70cd62",
   "metadata": {
    "id": "d25471a5-5481-436d-9cd2-5430db70cd62"
   },
   "source": [
    "### Queda do Pavilhão da Gameleira - Belo Horizonte - MG - Brasil - 1971"
   ]
  },
  {
   "cell_type": "markdown",
   "id": "5553999c-8606-4d79-b01f-6f8d23649f5c",
   "metadata": {
    "id": "5553999c-8606-4d79-b01f-6f8d23649f5c"
   },
   "source": [
    "<img src=\"./images/gameleira.png\" alt=\"gameleira\" style=\"width:474px\"/>"
   ]
  },
  {
   "cell_type": "markdown",
   "id": "f4fc871a-04db-4bc5-b7af-b4ad925ff7fc",
   "metadata": {
    "id": "f4fc871a-04db-4bc5-b7af-b4ad925ff7fc"
   },
   "source": [
    "Fonte: https://4.bp.blogspot.com/-1AK_Exf8oSI/Un6XquM3ALI/AAAAAAAAHrA/XA2Xpe3KOIs/s1600/Gameleira+1.PNG"
   ]
  },
  {
   "cell_type": "markdown",
   "id": "6783f301-eee0-4514-aa0b-dc3a95933225",
   "metadata": {
    "id": "6783f301-eee0-4514-aa0b-dc3a95933225"
   },
   "source": [
    "* Em 4 de fevereiro de 1971, morreram 69 operários e 50 ficaram feridos no desabamento do Pavilhão de Exposições da Gameleira.\n",
    "* É tido como o maior acidente da construção civil brasileira.\n",
    "* Ignorando a opinião de operários, que alertaram os engenheiros sobre fissuras e estalos nos alicerces, foi dada ordem para a retirada do escoramento da obra.\n"
   ]
  },
  {
   "cell_type": "markdown",
   "id": "ae030a05-41db-4199-8186-8d2876ecb498",
   "metadata": {
    "id": "ae030a05-41db-4199-8186-8d2876ecb498"
   },
   "source": [
    "### Queda do Edifício Palace II - Rio de Janeiro - RJ - Brasil - 1998"
   ]
  },
  {
   "cell_type": "markdown",
   "id": "fee02b8c-5bfe-40ea-a5c5-c5b265a4b459",
   "metadata": {
    "id": "fee02b8c-5bfe-40ea-a5c5-c5b265a4b459"
   },
   "source": [
    "<img src=\"./images/palaceii.jpg\" alt=\"palaceii\" style=\"width:474px\"/>"
   ]
  },
  {
   "cell_type": "markdown",
   "id": "dba4f0b8-19f8-417e-b9f3-94395bbd1d72",
   "metadata": {
    "id": "dba4f0b8-19f8-417e-b9f3-94395bbd1d72"
   },
   "source": [
    "Fonte: https://ogimg.infoglobo.com.br/in/22423721-27b-b80/FT1086A/652/40700851_24021998DOMINGOS-PEIXOTORIPREDIO-PALACE-IIQUE-DESABOU-NA-BARRA-DA-TIJUCA-OS.jpg"
   ]
  },
  {
   "cell_type": "markdown",
   "id": "43fed19a-d4d8-4abf-aba5-10c49f7177f6",
   "metadata": {
    "id": "43fed19a-d4d8-4abf-aba5-10c49f7177f6"
   },
   "source": [
    "* Palace II foi um edifício residencial de 22 andares, construído na Barra da Tijuca, Rio de Janeiro.\n",
    "* Foi implodido no dia 28 de fevereiro de 1998.\n",
    "* As investigações encontraram como causa da tragédia um erro estrutural de cálculo (assinado pelo engenheiro responsável) nas colunas de sustentação do prédio.\n",
    "* Também foram detectados erros de construção."
   ]
  },
  {
   "cell_type": "markdown",
   "id": "70b44e89-fcc5-4b1a-a333-b38848767cd1",
   "metadata": {
    "id": "70b44e89-fcc5-4b1a-a333-b38848767cd1"
   },
   "source": [
    "### Desabamento no Metrô Linha 4 - São Paulo - SP - 2007"
   ]
  },
  {
   "cell_type": "markdown",
   "id": "e3ae9f32-8f50-4eeb-afe6-b67ba8394915",
   "metadata": {
    "id": "e3ae9f32-8f50-4eeb-afe6-b67ba8394915"
   },
   "source": [
    "<img src=\"./images/metro_linha_4.jpg\" alt=\"metro_linha_4\" style=\"width:474px\"/>"
   ]
  },
  {
   "cell_type": "markdown",
   "id": "7688e09e-69d5-4ced-8065-7e63fd3670b6",
   "metadata": {
    "id": "7688e09e-69d5-4ced-8065-7e63fd3670b6"
   },
   "source": [
    "Fonte: https://www.esquerdadiario.com.br/local/cache-vignettes/L720xH481/arton12149-643d4.jpg?1626324725"
   ]
  },
  {
   "cell_type": "markdown",
   "id": "9d2195c4-ca70-4cf7-8d01-495ba0fed658",
   "metadata": {
    "id": "9d2195c4-ca70-4cf7-8d01-495ba0fed658"
   },
   "source": [
    "* Em 12 de janeiro de 2007, a população de São Paulo foi surpreendida por um desabamento repentino e assustador.\n",
    "* Aconteceu no canteiro de obras da estação Pinheiros da Linha 4-Amarela.\n",
    "* Abriu uma cratera com cerca de 80 m de diâmetro e vários metros de profundidade, arrastando quatro caminhões, um micro‑ônibus, dois carros e matando sete pessoas.\n"
   ]
  },
  {
   "cell_type": "markdown",
   "id": "6cae3c7c-b772-4c9d-8a8e-e8598ad57281",
   "metadata": {
    "id": "6cae3c7c-b772-4c9d-8a8e-e8598ad57281"
   },
   "source": [
    "### Queda do Edifício Real Class - Belém do Pará - PA - Brasil - 2011"
   ]
  },
  {
   "cell_type": "markdown",
   "id": "48d1550a-168a-4f56-a26b-b87f8946e363",
   "metadata": {
    "id": "48d1550a-168a-4f56-a26b-b87f8946e363"
   },
   "source": [
    "<img src=\"./images/real_class.jpg\" alt=\"real_class\" style=\"width:474px\"/>"
   ]
  },
  {
   "cell_type": "markdown",
   "id": "4092487e-1288-4846-a38d-10bd727681eb",
   "metadata": {
    "id": "4092487e-1288-4846-a38d-10bd727681eb"
   },
   "source": [
    "Fonte: http://1.bp.blogspot.com/-OWlPIDUVpiU/TyXU9hXpqdI/AAAAAAAAJTI/qxhAUw4ryH4/s320/Real-Class.jpg"
   ]
  },
  {
   "cell_type": "markdown",
   "id": "ebbc5161-9636-472f-be57-9b47193c2403",
   "metadata": {
    "id": "ebbc5161-9636-472f-be57-9b47193c2403"
   },
   "source": [
    "* O edifício Real Class, de 35 andares, em Belém, desabou no dia 29 de janeiro de 2011.\n",
    "* Três pessoas morreram: dois operários e uma mulher idosa, que estava em uma casa vizinha quando o prédio caiu.\n",
    "* Concepção estrutural inadequada levou ao colapso do prédio quando a estrutura foi submetida a uma combinação elevada de carregamentos verticais e horizontais. \n",
    "* Fundações foram corretamente projetadas."
   ]
  },
  {
   "cell_type": "markdown",
   "id": "d7a9893d-74e7-4936-be53-1162bd0a9b00",
   "metadata": {
    "id": "d7a9893d-74e7-4936-be53-1162bd0a9b00"
   },
   "source": [
    "### Ruptura da barragem de Brumadinho - MG - Brasil - 2019"
   ]
  },
  {
   "cell_type": "markdown",
   "id": "827eb7f9-f826-46e7-b993-76ca4c4c4148",
   "metadata": {
    "id": "827eb7f9-f826-46e7-b993-76ca4c4c4148"
   },
   "source": [
    "<img src=\"./images/brumadinho.png\" alt=\"brumadinho\" style=\"width:474px\"/>"
   ]
  },
  {
   "cell_type": "markdown",
   "id": "54c73035-a3fb-46a9-b82f-2edaf9c349ad",
   "metadata": {
    "id": "54c73035-a3fb-46a9-b82f-2edaf9c349ad"
   },
   "source": [
    "Fonte: https://ogimg.infoglobo.com.br/in/23420350-121-173/FT1086A/652/Screenshot_6.png"
   ]
  },
  {
   "cell_type": "markdown",
   "id": "fcb77f16-426e-4e07-9fe3-8dc142e679bc",
   "metadata": {
    "id": "fcb77f16-426e-4e07-9fe3-8dc142e679bc"
   },
   "source": [
    "* A ruptura da barragem de Brumadinho, em 25 de janeiro de 2019, foi o maior acidente com barragens no Brasil em perda de vidas humanas.\n",
    "* A barragem servia para a contenção de rejeitos de mineração.\n",
    "* Foi um dos maiores desastres ambientais da mineração do país, após o rompimento da barragem em Mariana, MG, em 2015.\n",
    "* Este desastre industrial, humanitário e ambiental provocou a morte de 270 pessoas, incluindo dez desaparecidas."
   ]
  },
  {
   "cell_type": "markdown",
   "id": "8706e630-e4e5-439c-9bde-62dfa36456f9",
   "metadata": {
    "id": "8706e630-e4e5-439c-9bde-62dfa36456f9"
   },
   "source": [
    "# __Por quê??__"
   ]
  },
  {
   "cell_type": "markdown",
   "id": "5f2c6f09-6d0b-468d-80ee-af7624a2f167",
   "metadata": {
    "id": "5f2c6f09-6d0b-468d-80ee-af7624a2f167"
   },
   "source": [
    "<img src=\"./images/why_buildings_fall_down.jpg\" alt=\"why_buildings_fall_down\" style=\"width:474px\"/>"
   ]
  },
  {
   "cell_type": "markdown",
   "id": "df5ef7c3-b36d-40ec-bc47-027fe2c0dc77",
   "metadata": {
    "id": "df5ef7c3-b36d-40ec-bc47-027fe2c0dc77"
   },
   "source": [
    "<img src=\"./images/salvadori_mother-in-law.jpg\" alt=\"salvadori_mother-in-law\" style=\"width:474px\"/>"
   ]
  },
  {
   "cell_type": "markdown",
   "id": "109d3f29-9d9b-403e-bc72-51380431152d",
   "metadata": {
    "id": "109d3f29-9d9b-403e-bc72-51380431152d"
   },
   "source": [
    "# __1.2 - Incertezas no projeto de Engenharia__ <a name=\"section_1\"></a>"
   ]
  },
  {
   "cell_type": "markdown",
   "id": "82cfd8ff-e1c6-4d9e-8115-920f670e2f42",
   "metadata": {
    "id": "82cfd8ff-e1c6-4d9e-8115-920f670e2f42"
   },
   "source": [
    "<img src=\"./images/projeto_em_engenharia.jpg\" alt=\"projeto_em_engenharia\" style=\"width:474px\"/>"
   ]
  },
  {
   "cell_type": "markdown",
   "id": "03a891f9-183e-496e-97b9-11fb843485b4",
   "metadata": {
    "id": "03a891f9-183e-496e-97b9-11fb843485b4"
   },
   "source": [
    "Fonte: adaptada de http://www.gpskal.com.br/wp-content/uploads/2015/11/engenharia-001.jpg"
   ]
  },
  {
   "cell_type": "markdown",
   "id": "89f992fd-045a-4494-b30d-420d65d88beb",
   "metadata": {
    "id": "89f992fd-045a-4494-b30d-420d65d88beb"
   },
   "source": [
    "### Projetos de Engenharia devem ser realizados sem informações completas sobre o sistema a ser criado.\n",
    "\n",
    "### Em todo o projeto existem __incertezas__: propriedades dos materiais, dimensões, cargas, métodos de cálculo, etc.\n"
   ]
  },
  {
   "cell_type": "markdown",
   "id": "1790c94a-ef3b-4eca-a721-de5fd2cdbcad",
   "metadata": {
    "id": "1790c94a-ef3b-4eca-a721-de5fd2cdbcad"
   },
   "source": [
    "## __Incertezas__: aquilo que não sabemos ao certo."
   ]
  },
  {
   "cell_type": "markdown",
   "id": "c384cee6-7b50-4db8-b924-b198fe8da222",
   "metadata": {
    "id": "c384cee6-7b50-4db8-b924-b198fe8da222"
   },
   "source": [
    "### a) Incertezas físicas: geralmente presente nas dimensões, ações, propriedades dos materiais, etc;\n"
   ]
  },
  {
   "cell_type": "markdown",
   "id": "81eb23fe-3294-4b6b-9ebd-16df4fdf3b65",
   "metadata": {
    "id": "81eb23fe-3294-4b6b-9ebd-16df4fdf3b65"
   },
   "source": [
    "<img src=\"./images/fc_estacas_porto_rg.jpg\" alt=\"fc_estacas_porto_rg\" style=\"width:474.px\"/>"
   ]
  },
  {
   "cell_type": "markdown",
   "id": "5a37fee5-618a-49ff-a8a7-5a826acfe224",
   "metadata": {
    "id": "5a37fee5-618a-49ff-a8a7-5a826acfe224"
   },
   "source": [
    "A figura acima mostra a variação da resistência à compressão do concreto utilizado na fabricação de estacas pré-moldadas de concreto protendido no porto de Rio Grande - RS, com $f_{ck}$ = 40 MPa."
   ]
  },
  {
   "cell_type": "markdown",
   "id": "05dc4962-eaf5-48a1-b8ac-26aeca829dc1",
   "metadata": {
    "id": "05dc4962-eaf5-48a1-b8ac-26aeca829dc1"
   },
   "source": [
    "### b) Incertezas  estatísticas:  provenientes  da  extrapolação  de  parâmetros  estatísticos  de populações finitas do modelo empregado;\n"
   ]
  },
  {
   "cell_type": "markdown",
   "id": "81b15a35-f634-4250-a855-42160b153c99",
   "metadata": {
    "id": "81b15a35-f634-4250-a855-42160b153c99"
   },
   "source": [
    "<img src=\"./images/fck_fcm.jpg\" alt=\"fck_fcm\" style=\"width:474px\"/>"
   ]
  },
  {
   "cell_type": "markdown",
   "id": "8773af23-63c8-4fc8-b8ba-51fa8077be0b",
   "metadata": {
    "id": "8773af23-63c8-4fc8-b8ba-51fa8077be0b"
   },
   "source": [
    "Os parâmetros resistência característica à compressão $f_{ck}$, resistência média à compressão $f_{cm}$ e coeficiente de variação $V_{fc}$ de um concreto deve ser determinados a partir de uma amostra de poucos exemplares de corpos de prova cilíndricos."
   ]
  },
  {
   "cell_type": "markdown",
   "id": "f9180a64-79e6-4f52-85e1-3c124ebf7d20",
   "metadata": {
    "id": "f9180a64-79e6-4f52-85e1-3c124ebf7d20"
   },
   "source": [
    "### c) Incertezas  devido  a  fatores  humanos:  ação  do  homem,  intencional  ou  não,  no comportamento do sistema estrutural (ex.: medições em laboratório);"
   ]
  },
  {
   "cell_type": "markdown",
   "id": "942f7eea-1953-4125-b27b-5a3c2d0dd77e",
   "metadata": {
    "id": "942f7eea-1953-4125-b27b-5a3c2d0dd77e"
   },
   "source": [
    "<img src=\"./images/ensaio_compressão.jpg\" alt=\"ensaio_compressão\" style=\"width:474px\"/>"
   ]
  },
  {
   "cell_type": "markdown",
   "id": "fbb06d8d-1a35-4ed7-b6aa-7c031d9a6fbe",
   "metadata": {},
   "source": [
    "Fonte: http://www.paulofilhoengenharia.com.br/images/atuacao/Lab-concreto/Laboratorio_05.jpg"
   ]
  },
  {
   "cell_type": "markdown",
   "id": "2480b272-4e0a-4112-b3d4-547fc4d86010",
   "metadata": {
    "id": "2480b272-4e0a-4112-b3d4-547fc4d86010"
   },
   "source": [
    "O resultado de um ensaio de resistência à compressão do concreto em laboratório depende também do nível de treinamento do laboratorista."
   ]
  },
  {
   "cell_type": "markdown",
   "id": "a2029a84-d4e0-4b31-9194-cad464439836",
   "metadata": {
    "id": "a2029a84-d4e0-4b31-9194-cad464439836"
   },
   "source": [
    "### d) Incertezas de cunho fenomenológico: existência de eventos não previsíveis e não levados em consideração;"
   ]
  },
  {
   "cell_type": "markdown",
   "id": "af79a44a-2351-4fae-a4e4-1f4bda73c0e8",
   "metadata": {
    "id": "af79a44a-2351-4fae-a4e4-1f4bda73c0e8"
   },
   "source": [
    "<img src=\"./images/tacoma-narrows-bridge.jpg\" alt=\"tacoma-narrows-bridge\" style=\"width:474px;\"/>"
   ]
  },
  {
   "cell_type": "markdown",
   "id": "04379f5c-4c39-4e49-9bed-138190d44238",
   "metadata": {
    "id": "04379f5c-4c39-4e49-9bed-138190d44238"
   },
   "source": [
    "O fênomeno aerodinâmico de ressonância em tabuleiros esbeltos de pontes pênseis não era perfeitamente conhecido na época da construção da ponte de Tacoma Narrows, e sua ocorrência não foi prevista no projeto da ponte."
   ]
  },
  {
   "cell_type": "markdown",
   "id": "a3d03033-fd95-404c-9cc9-3f00a33a60f6",
   "metadata": {
    "id": "a3d03033-fd95-404c-9cc9-3f00a33a60f6"
   },
   "source": [
    "### e) Incertezas  de  modelamento:  proveniente  das  simplificações  e  das  hipóteses  adotadas para a modelagem do comportamento estrutural, etc."
   ]
  },
  {
   "cell_type": "markdown",
   "id": "f7753343-88ef-4e29-928f-742f004d9860",
   "metadata": {
    "id": "f7753343-88ef-4e29-928f-742f004d9860"
   },
   "source": [
    "![Modelo Navio-Ondas](./images/modelo_navio_ondas.jpg \"Incertezas de Modelo\")"
   ]
  },
  {
   "cell_type": "markdown",
   "id": "d158888e-916d-4270-b2a9-9fc7d5630a42",
   "metadata": {
    "id": "d158888e-916d-4270-b2a9-9fc7d5630a42"
   },
   "source": [
    "Modelo simplificado de ação das ondas do mar sobre um navio."
   ]
  },
  {
   "cell_type": "markdown",
   "id": "01d189bf-2d29-4973-a211-23bd028766c8",
   "metadata": {
    "id": "01d189bf-2d29-4973-a211-23bd028766c8"
   },
   "source": [
    "## __Garantia de performance de um sistema de Engenharia__"
   ]
  },
  {
   "cell_type": "markdown",
   "id": "2f60a7ff-a496-4b3a-8f7b-9e9543dd1ddc",
   "metadata": {
    "id": "2f60a7ff-a496-4b3a-8f7b-9e9543dd1ddc"
   },
   "source": [
    "* Como existem __incertezas__ no projeto existe sempre algum __risco__ de o sistema não atingir a performance estabelecida.\n",
    "* Então, a garantia de performance do sistema não pode ser estabelecida  com 100% de segurança.\n"
   ]
  },
  {
   "cell_type": "markdown",
   "id": "05bcf307-a6d8-41c1-88cb-32a83a362b78",
   "metadata": {
    "id": "05bcf307-a6d8-41c1-88cb-32a83a362b78"
   },
   "source": [
    "![Incerteza x Risco](./images/incerteza_risco.jpg \"Incerteza x Risco\")"
   ]
  },
  {
   "cell_type": "markdown",
   "id": "6c9e0d50-b0a6-4d99-9ad2-1d5a0311c943",
   "metadata": {
    "id": "6c9e0d50-b0a6-4d99-9ad2-1d5a0311c943"
   },
   "source": [
    "## Exemplo: projeto de uma estrutura offshore"
   ]
  },
  {
   "cell_type": "markdown",
   "id": "ccbff9a2-0709-4fd9-8186-7f183e03fe08",
   "metadata": {
    "id": "ccbff9a2-0709-4fd9-8186-7f183e03fe08"
   },
   "source": [
    "<img src=\"./images/offshore_structure.jpg\" alt=\"offshore_structure\" style=\"width:474px\"/>"
   ]
  },
  {
   "cell_type": "markdown",
   "id": "f1f45803-0c7f-4c0c-85a0-ea62b1d9e80e",
   "metadata": {},
   "source": [
    "Fonte: https://www.copper.org/applications/marine/cuni/images/cuandni03.gif"
   ]
  },
  {
   "cell_type": "markdown",
   "id": "9031dc8b-22f2-4b99-bd6c-15744c5af420",
   "metadata": {
    "id": "9031dc8b-22f2-4b99-bd6c-15744c5af420"
   },
   "source": [
    "### __Incertezas:__\n",
    "* Qual o máximo valor da __carga__ que vai atuar sobre a estrutura durante sua vida útil?\n",
    "* Qual será o mínimo valor da __resistência do material__  empregado na estrutura?\n",
    "* Quais as __dimensões reais__ das peças estruturais após a construção?\n",
    "* Qual a precisão do __modelo de análise estrutural__?\n"
   ]
  },
  {
   "cell_type": "markdown",
   "id": "42b0b2fe-cd30-4ac5-be52-28226efaa58d",
   "metadata": {
    "id": "42b0b2fe-cd30-4ac5-be52-28226efaa58d"
   },
   "source": [
    "## __Risco em Engenharia:__"
   ]
  },
  {
   "cell_type": "markdown",
   "id": "54604485-18b2-40f6-b75a-4408826dcdbb",
   "metadata": {
    "id": "54604485-18b2-40f6-b75a-4408826dcdbb"
   },
   "source": [
    "Onde existe __incerteza__ existirá __risco__!\n",
    "O risco de falha em sistemas de Engenharia é frequentemente inevitável!\n"
   ]
  },
  {
   "cell_type": "markdown",
   "id": "37103105-a930-433e-b304-d85af3b0d79e",
   "metadata": {
    "id": "37103105-a930-433e-b304-d85af3b0d79e"
   },
   "source": [
    "> Failure is central to engineering. Every single calculation that an engineer makes is a failure calculation. Successful engineering is all about understanding how things break or fail. Henry Petroski"
   ]
  },
  {
   "cell_type": "code",
   "execution_count": null,
   "id": "162b3627-6407-4526-b18b-01bcb92e4a46",
   "metadata": {
    "id": "162b3627-6407-4526-b18b-01bcb92e4a46"
   },
   "outputs": [],
   "source": []
  }
 ],
 "metadata": {
  "colab": {
   "name": "Capítulo_1.ipynb",
   "provenance": []
  },
  "kernelspec": {
   "display_name": "Python 3",
   "language": "python",
   "name": "python3"
  },
  "language_info": {
   "codemirror_mode": {
    "name": "ipython",
    "version": 3
   },
   "file_extension": ".py",
   "mimetype": "text/x-python",
   "name": "python",
   "nbconvert_exporter": "python",
   "pygments_lexer": "ipython3",
   "version": "3.8.5"
  }
 },
 "nbformat": 4,
 "nbformat_minor": 5
}
