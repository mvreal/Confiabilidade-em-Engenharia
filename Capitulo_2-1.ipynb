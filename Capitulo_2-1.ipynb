{
 "cells": [
  {
   "cell_type": "markdown",
   "id": "1dc445f3-8f0f-41b7-a0fa-541467a1d3db",
   "metadata": {
    "id": "1dc445f3-8f0f-41b7-a0fa-541467a1d3db"
   },
   "source": [
    "### Universidade Federal do Rio Grande - FURG"
   ]
  },
  {
   "cell_type": "markdown",
   "id": "27d28d81-ad30-4559-b52d-0fee9ac96cae",
   "metadata": {
    "id": "27d28d81-ad30-4559-b52d-0fee9ac96cae"
   },
   "source": [
    "### Escola de Engenharia - EE"
   ]
  },
  {
   "cell_type": "markdown",
   "id": "103a5401-6849-4ee0-a254-08a7f684a870",
   "metadata": {
    "id": "103a5401-6849-4ee0-a254-08a7f684a870"
   },
   "source": [
    "### Programa de Pós-graduação em Engenharia Oceânica - PPGEO"
   ]
  },
  {
   "cell_type": "markdown",
   "id": "547b79f5-d7a3-4b02-8ce9-7c1647bff36b",
   "metadata": {
    "id": "547b79f5-d7a3-4b02-8ce9-7c1647bff36b"
   },
   "source": [
    "### Disciplina: Confiabilidade em Engenharia"
   ]
  },
  {
   "cell_type": "markdown",
   "id": "189e93bb-f3e5-4536-9aec-d09046d6929b",
   "metadata": {
    "id": "189e93bb-f3e5-4536-9aec-d09046d6929b"
   },
   "source": [
    "### Professor: Dr. Mauro de Vasconcellos Real"
   ]
  },
  {
   "cell_type": "markdown",
   "id": "b1c045d3-78f9-4f40-bc55-a4c3988c42c8",
   "metadata": {},
   "source": [
    "# __Aula 03__"
   ]
  },
  {
   "cell_type": "markdown",
   "id": "ce78f794-4773-4210-bf0c-d89fd0e707f7",
   "metadata": {
    "id": "ce78f794-4773-4210-bf0c-d89fd0e707f7"
   },
   "source": [
    "# __Capítulo 2 - Conceitos básicos de probabilidade__ <a name=\"section_2\"></a>"
   ]
  },
  {
   "cell_type": "markdown",
   "id": "e4c7f828-335f-42ac-b316-e8fd6c4a263c",
   "metadata": {
    "id": "e4c7f828-335f-42ac-b316-e8fd6c4a263c"
   },
   "source": [
    "[2.1 - Eventos e probabilidade](#section_221)"
   ]
  },
  {
   "cell_type": "markdown",
   "id": "f51781d3-f3d2-425f-a7ae-fb5bcf16942f",
   "metadata": {
    "id": "f51781d3-f3d2-425f-a7ae-fb5bcf16942f"
   },
   "source": [
    "[2.2 - Elementos da Teoria dos Conjuntos](#section_222)"
   ]
  },
  {
   "cell_type": "markdown",
   "id": "3764b601-27f8-4189-a03c-e7c7c94f021d",
   "metadata": {
    "id": "3764b601-27f8-4189-a03c-e7c7c94f021d"
   },
   "source": [
    "## __2.1 - Eventos e probabilidade__ <a name=\"section_221\"></a>"
   ]
  },
  {
   "cell_type": "markdown",
   "id": "5bafba8c-efa5-4114-9f0e-603f32dbecc4",
   "metadata": {
    "id": "5bafba8c-efa5-4114-9f0e-603f32dbecc4"
   },
   "source": [
    "### 2.1.1 - Características dos problemas de probabilidade"
   ]
  },
  {
   "cell_type": "markdown",
   "id": "157432c3-c6ac-4105-b5b2-45e3ad381233",
   "metadata": {
    "id": "157432c3-c6ac-4105-b5b2-45e3ad381233"
   },
   "source": [
    "* __Probabilidade__ pode ser considerada como uma __medida numérica da possibilidade de ocorrência de um evento__ relativo a um conjunto de eventos alternativos.\n",
    "* Identificar o conjunto de todas as possibilidades (espaço de probabilidades) e o evento de interesse. "
   ]
  },
  {
   "cell_type": "markdown",
   "id": "2ffd078c-c534-47a5-a4c0-b413f37c5160",
   "metadata": {},
   "source": [
    "<img src=\"./images2/probabilidade.jpg\" alta=\"Probabilidade\" style=\"width:474px\"/>"
   ]
  },
  {
   "cell_type": "markdown",
   "id": "0b8c3d99-64a5-44e9-9200-89c81286e8e6",
   "metadata": {
    "id": "0b8c3d99-64a5-44e9-9200-89c81286e8e6"
   },
   "source": [
    "#### Características observadas:"
   ]
  },
  {
   "cell_type": "markdown",
   "id": "44de5aac-973b-4f8c-80e4-d7ce8e9fdf69",
   "metadata": {
    "id": "44de5aac-973b-4f8c-80e4-d7ce8e9fdf69"
   },
   "source": [
    "* Cada problema é definido com relação a um determinado espaço de possibilidades (contendo mais de uma probabilidade), e os eventos são compostos de uma ou mais ocorrências possíveis, no espaço de possibilidades.\n",
    "* A probabilidade de um evento depende das probabilidades individuais das ocorrências, dentro do espaço de possibilidades."
   ]
  },
  {
   "cell_type": "markdown",
   "id": "6fed8a23-83cf-4ab0-ac2c-2bd0effe578c",
   "metadata": {
    "id": "6fed8a23-83cf-4ab0-ac2c-2bd0effe578c"
   },
   "source": [
    "#### Exemplo 2.1 - Número de bulldozers em operação após 6 meses"
   ]
  },
  {
   "cell_type": "markdown",
   "id": "138ddbbf-122f-44bc-ba8f-a656a7b7c5cd",
   "metadata": {
    "id": "138ddbbf-122f-44bc-ba8f-a656a7b7c5cd"
   },
   "source": [
    "<img src=\"./images2/bulldozer.png\" alt=\"Bulldozer\" style=\"width:474px\"/>"
   ]
  },
  {
   "cell_type": "markdown",
   "id": "5e6d2217-f1ef-407f-97d5-9b965d4f7bf5",
   "metadata": {
    "id": "5e6d2217-f1ef-407f-97d5-9b965d4f7bf5"
   },
   "source": [
    "Fonte:http://www.tm10.ru/upload/iblock/27f/27f6a8b3da742a801e01c9cea128d764.png"
   ]
  },
  {
   "cell_type": "markdown",
   "id": "f2f917a9-9329-465e-8b58-b8da595961c7",
   "metadata": {
    "id": "f2f917a9-9329-465e-8b58-b8da595961c7"
   },
   "source": [
    "Um empreiteiro esta adquirindo máquinas de terraplenagem (bulldozer) para uma obra.\n",
    "As máquinas tem 50% de chance de não quebrar durante 6 meses de uso.\n",
    "Se forem comprados 3 bulldozers, qual a probabilidade de apenas um estar funcionando após 6 meses?  \n",
    "\n",
    "__Solução:__ \n",
    "* Em 6 meses, o número de máquinas funcionando será igual a 0, 1, 2 ou 3.\n",
    "* Montagem do conjunto de  possibilidades:\n",
    "* G = Bulldozer operando (Good)\n",
    "* B = Bulldozer estragado (Bad)\n",
    "* Existem 8 alternativas, com a mesma possibilidade de ocorrência.\n",
    "* Porém apenas uma poderá ocorrer, pois as alternativas são mutuamente exclusivas.  \n",
    "* Evento: apenas um bulldozer funcionando: 3 ocorrências em 8 possibilidades"
   ]
  },
  {
   "cell_type": "markdown",
   "id": "e4cdd628-713d-46d8-8339-1e38b3726c50",
   "metadata": {},
   "source": [
    "$$ Probabilidade\\_do\\_evento = \\frac{3}{8} = 0,375 = 37,5\\%$$"
   ]
  },
  {
   "cell_type": "markdown",
   "id": "a77caf87-a588-418f-b4b9-ec1831e6c009",
   "metadata": {
    "id": "a77caf87-a588-418f-b4b9-ec1831e6c009"
   },
   "source": [
    "<img src=\"./images2/good_bad.jpg\" alt=\"Good and bad\" style=\"width:474px\"/>"
   ]
  },
  {
   "cell_type": "markdown",
   "id": "cec12fdc-0b8b-4892-b9b7-eaf1a7ace8d3",
   "metadata": {},
   "source": [
    "#### Exemplo 2.2 - Reações de uma viga biapoiada sob carga uniforme P"
   ]
  },
  {
   "cell_type": "markdown",
   "id": "096fe238-3a51-44e1-bccd-d3e603d49a42",
   "metadata": {
    "id": "096fe238-3a51-44e1-bccd-d3e603d49a42"
   },
   "source": [
    "<img src=\"./images2/viga_biapoiada.jpg\" alt=\"Viga biapoiada\" style=\"width:800px\"/>"
   ]
  },
  {
   "cell_type": "markdown",
   "id": "cbc08c8c-6d69-4a2d-8619-717624e9a325",
   "metadata": {
    "id": "cbc08c8c-6d69-4a2d-8619-717624e9a325"
   },
   "source": [
    "* Eventos possíveis:\n",
    "* $E_1: 10 kN \\leq R_a \\leq 20 kN$\n",
    "* $E_2: R_a \\geq 50 kN$\n",
    "* Hipótese: qualquer posição $x$ da carga $P$ sobre a viga tem a mesma possibilidade de ocorrer (eventos equiprováveis).\n",
    "* Nestas condições, a probabilidade de cada evento será proporcional ao intervalo ocupado pelo mesmo, dentro do espaço total de possibilidades, que é o intervalo de $0$ a $100kN$.\n"
   ]
  },
  {
   "cell_type": "markdown",
   "id": "231b0e2b-f34a-413e-b5e7-2760d2ba26a8",
   "metadata": {
    "id": "231b0e2b-f34a-413e-b5e7-2760d2ba26a8"
   },
   "source": [
    "<img src=\"./images2/intervalo.jpg\" alt=\"Intervalo reação de apoio\" style=\"width:474px\"/>"
   ]
  },
  {
   "cell_type": "markdown",
   "id": "ee193200-923d-49a3-8e3e-1598391906f0",
   "metadata": {
    "id": "ee193200-923d-49a3-8e3e-1598391906f0"
   },
   "source": [
    "Probabilidade do evento $E_1$:\n",
    "$$ P(E_1)=\\frac{10}{100}=0,10=10\\%$$"
   ]
  },
  {
   "cell_type": "markdown",
   "id": "61135cfa-05ca-492c-98d6-58875ace357d",
   "metadata": {
    "id": "61135cfa-05ca-492c-98d6-58875ace357d"
   },
   "source": [
    "Probabilidade do evento $E_2$:\n",
    "$$ P(E_2)=\\frac{50}{100}=0,50=50\\%$$"
   ]
  },
  {
   "cell_type": "markdown",
   "id": "33103ddb-1c97-4216-add8-917e52ca46c8",
   "metadata": {
    "id": "33103ddb-1c97-4216-add8-917e52ca46c8"
   },
   "source": [
    "### 2.1.2 - Cálculo de probabilidade"
   ]
  },
  {
   "cell_type": "markdown",
   "id": "2f6cb82c-2963-4bbb-82e7-6b6035c55e84",
   "metadata": {
    "id": "2f6cb82c-2963-4bbb-82e7-6b6035c55e84"
   },
   "source": [
    "* Para calcular a probabilidade de um evento é necessário atribuir __medidas de probabilidade__ às várias __ocorrências possíveis__.\n",
    "* Bases para a atribuição de medidas de probabilidade:\n",
    "\n",
    "__1. Hipóteses prévias.__\n",
    "A validade do cálculo irá depender da consistência e racionalidade da hipótese formulada.\n",
    "* Exemplos:  \n",
    "a) No Exemplo 2.1: Cada bulldozer tem 50% de chances de estar funcionando após 6 meses.  \n",
    "b) No Exemplo 2.2: Todas as posições da carga são equiprováveis. A probabilidade do evento é proporcional ao intervalo.\n",
    "\n",
    "__2. Observações empíricas.__\n",
    "A frequência relativa  deve estar baseada em um grande número de observações para ser válida. É preciso realizar ou observar muitos experimentos e calcular a frequência relativa dos eventos.\n",
    "* Exemplo:  \n",
    "Frequência relativa de carros aguardando para dobrar a esquerda em um cruzamento de vias urbanas (para determinar a necessidade de um semáforo no cruzamento).\n",
    "\n",
    "__3. Combinação de hipóteses prévias e observações empíricas.__\n",
    "Aplicação do [Teorema de Bayes](#section_5) que resulta em uma probabilidade bayesiana. A realização de testes (experimentos) melhora o conhecimento de uma probabilidade teórica.\n",
    "\n",
    "* Conceitos filosóficos sobre a definição de probabilidade não serão discutidos neste capítulo.\n",
    "* A Teoria da Probabilidade permite dar um tratamenteo matemático a problemas de engenharia onde existem incertezas.\n"
   ]
  },
  {
   "cell_type": "markdown",
   "id": "3167bedb-1b7b-43e0-878b-c4c746312431",
   "metadata": {},
   "source": [
    "[Voltar ao ínicio da aula](#section_2)"
   ]
  },
  {
   "cell_type": "markdown",
   "id": "1ec8bd58-5d80-46c0-8b1c-893186113dbb",
   "metadata": {
    "id": "1ec8bd58-5d80-46c0-8b1c-893186113dbb"
   },
   "source": [
    "## __2.2 - Elementos da Teoria dos Conjuntos__ <a name=\"section_222\"></a>"
   ]
  },
  {
   "cell_type": "markdown",
   "id": "716758dd-7625-45de-b12f-d51a08b9206a",
   "metadata": {},
   "source": [
    "### 2.2.1 - Definições básicas:"
   ]
  },
  {
   "cell_type": "markdown",
   "id": "cb3e8786-74a7-41b8-8e89-70aa48428d8c",
   "metadata": {
    "id": "cb3e8786-74a7-41b8-8e89-70aa48428d8c"
   },
   "source": [
    "* __Espaço amostral__: é o conjunto de todas as possibilidades em um problema probabilístico.\n",
    "* __Ponto amostral__: é cada uma das possibilidades de forma individual.\n",
    "* __Evento__: é um subconjunto do espaço amostral\n",
    "* Espaço amostral __discreto__ : os pontos amostrais são entidades individualmente discretas e contáveis.\n",
    "* Espaço amostral __contínuo__ : é formado por um contínuo de pontos amostrais. \n",
    "\n",
    "Um __espaço amostral discreto__ pode ser:\n",
    "* finito = número finito de pontos amostrais (determinado).\n",
    "* infinito = número infinito de pontos amostrais (indeterminado).\n",
    "\n",
    "Exemplos de espaços amostrais __discretos finitos__:  \n",
    "a) No Ex. 2.1, o número de situações possíveis para os 3 bulldozers é igual a 8.  \n",
    "b) O número de dias por ano de temperatura congelante em Juneau, Alaska. Cada dia do ano, isoladamente, é um ponto amostral. O espaço amostral é formado pelos 365 dias do ano.\n",
    "\n",
    "Exemplos de espaços amostrais __discretos infinitos__:\n",
    "a) O número de falhas em um filete de solda.  \n",
    "b) O número de carros cruzando uma ponte até a ocorrência do próximo acidente.\n",
    "\n",
    "* Em um espaço amostral contínuo o número de pontos amostrais é efetivamente infinito.\n",
    "Exemplos:\n",
    "a) A posição de um carro sobre uma ponte quando ocorre um acidente de trânsito (contínuo do início ao final da ponte).\n",
    "b) Capacidade de carga de um depósito de argila que pode variar entre $150 \\frac{kN}{m^2}$ a $400 \\frac{kN}{m^2}$. (Intervalo:$[150,400]$)\n",
    "\n",
    "* Evento = subconjunto do espaço amostral, contendo um ou mais pontos amostrais.\n",
    "* A realização de um  desses pontos amostrais constitui uma __ocorrência__ deste evento.\n",
    "\n",
    "* A Probabilidade de um evento pode ser calculada para um evento bem definido que ocorre dentro de um espaço amostral determinado.\n"
   ]
  },
  {
   "cell_type": "markdown",
   "id": "26bb391a-eac6-4d14-8f4e-4a1e68b694d1",
   "metadata": {},
   "source": [
    "* __Eventos especiais__:\n",
    "\n",
    "1. __Evento impossível__($\\emptyset$):  \n",
    "Evento que não contém nenhum ponto amostral. É um conjunto vazio no espaço amostral.\n",
    "\n",
    "2. __Evento certo__($S$):  \n",
    "Evento que contém todos os pontos do espaço amostral. É, então, igual ao próprio espaço amostral.\n",
    "\n",
    "3. __Evento complementar__($\\overline{E}$):   \n",
    "Evento que contém todos os pontos amostrais em $S$, que não estão contidos em $E$.\n"
   ]
  },
  {
   "cell_type": "markdown",
   "id": "af98d9ba-9f6e-465d-9acc-452c52a7e818",
   "metadata": {
    "id": "af98d9ba-9f6e-465d-9acc-452c52a7e818",
    "tags": []
   },
   "source": [
    "### Diagrama de Venn"
   ]
  },
  {
   "cell_type": "markdown",
   "id": "89c11cb0-de55-4454-8591-e665a2b4e18e",
   "metadata": {
    "id": "89c11cb0-de55-4454-8591-e665a2b4e18e"
   },
   "source": [
    "<img src=\"./images2/diagram_venn.jpg\" alt=\"Diagrama de Venn\" style=\"width:474px\"/>"
   ]
  },
  {
   "cell_type": "markdown",
   "id": "b1a75ac9-58a6-44f2-a35c-5333d8bb11da",
   "metadata": {
    "id": "b1a75ac9-58a6-44f2-a35c-5333d8bb11da"
   },
   "source": [
    "* Espaço amostral $S$ = retângulo.\n",
    "* Evento $E$ = região fechada no interior do retângulo.\n",
    "* Evento $\\overline{E}$ = região fora do evento $E$, mas dentro do evento $S$."
   ]
  },
  {
   "cell_type": "markdown",
   "id": "66d183a8-5e84-402c-a8a3-3cb6915a9abc",
   "metadata": {
    "id": "66d183a8-5e84-402c-a8a3-3cb6915a9abc"
   },
   "source": [
    "### 2.2.2 - Combinação de eventos"
   ]
  },
  {
   "cell_type": "markdown",
   "id": "3db84e5d-1f2d-403e-a1ce-358ce28a7e7f",
   "metadata": {
    "tags": []
   },
   "source": [
    "#### União de eventos:"
   ]
  },
  {
   "cell_type": "markdown",
   "id": "1f437eec-5a0e-4cb0-93ab-215b3cce5783",
   "metadata": {
    "tags": []
   },
   "source": [
    "* A __União__ de dois eventos $E_1$ e $E_2$, designada por$E_1 \\cup E_2$, é um outro evento que significa a ocorrência de $E_1$ ou $E_2$, ou de ambos. \n",
    "* $E_1 \\cup E_2$ é o subconjunto de pontos amostrais que pertencem a $E_1$ e/ou a $E_2$.  \n",
    "A figura abaixo mostra o diagrama de Venn para o evento $E_1 \\cup E_2$"
   ]
  },
  {
   "cell_type": "markdown",
   "id": "b44db252-fc2f-44ab-87ff-0dbc3eede541",
   "metadata": {
    "id": "b44db252-fc2f-44ab-87ff-0dbc3eede541"
   },
   "source": [
    "<img src=\"./images2/uniao.jpg\" alt=\"União\" style=\"width:474px\"/>"
   ]
  },
  {
   "cell_type": "markdown",
   "id": "54394f66-2e92-4185-a70b-09dee943aea2",
   "metadata": {
    "id": "54394f66-2e92-4185-a70b-09dee943aea2"
   },
   "source": [
    "* Exemplos:\n",
    "\n",
    "1. Situação do fornecimento de materiais de construção:  \n",
    "$E_1$ = falta de concreto.  \n",
    "$E_2$ = falta de aço.  \n",
    "$E_1 \\cup E_2$ = falta somente de concreto, ou somente de aço, ou dos dois materiais ao mesmo tempo.  \n",
    "\n",
    "2. Em um oleoduto de $20 km$:  \n",
    "$E_1$ = vazamento no trecho de $0$ a $15 km$.  \n",
    "$E_2$ = vazamento no trecho de $10 km$ a $20 km$.  \n",
    "$E_1 \\cup E_2$ = vazamento no trecho de $0$ a $20 km$.  "
   ]
  },
  {
   "cell_type": "markdown",
   "id": "83e3a865-51df-4641-852a-8188790eca7d",
   "metadata": {
    "tags": []
   },
   "source": [
    "#### Intersecção de eventos:"
   ]
  },
  {
   "cell_type": "markdown",
   "id": "a10f695b-7df5-4381-b708-4fa10c323d47",
   "metadata": {
    "tags": []
   },
   "source": [
    "* A __Intersecção__ de dois eventos $E_1$ e $E_2$, simbolizada por$E_1 \\cap E_2$, é um outro evento que significa a ocorrência conjunta de $E_1$ e $E_2$. \n",
    "* $E_1 \\cap E_2$ é o subconjunto de pontos amostrais que pertencem a $E_1$ e a $E_2$.  \n",
    "A figura abaixo mostra o diagrama de Venn para o evento $E_1 \\cap E_2$"
   ]
  },
  {
   "cell_type": "markdown",
   "id": "7855df0c-ff11-42f2-989d-d282a5605441",
   "metadata": {
    "id": "b44db252-fc2f-44ab-87ff-0dbc3eede541"
   },
   "source": [
    "<img src=\"./images2/interseccao.jpg\" alt=\"Intrersecção\" style=\"width:474px\"/>"
   ]
  },
  {
   "cell_type": "markdown",
   "id": "9f858f0e-9a48-4c0f-8f8c-97f4f1514f5e",
   "metadata": {
    "id": "54394f66-2e92-4185-a70b-09dee943aea2"
   },
   "source": [
    "* Exemplos:\n",
    "\n",
    "1. Situação do fornecimento de materiais de construção:  \n",
    "$E_1$ = falta de concreto.  \n",
    "$E_2$ = falta de aço.  \n",
    "$E_1 \\cap E_2$ = falta de concreto e aço ao mesmo tempo.  \n",
    "\n",
    "2. Em um oleoduto de $20 km$:  \n",
    "$E_1$ = vazamento no trecho de $0$ a $15 km$.  \n",
    "$E_2$ = vazamento no trecho de $10 km$ a $20 km$.  \n",
    "$E_1 \\cap E_2$ = vazamento no trecho de $10$ a $15 km$.  "
   ]
  },
  {
   "cell_type": "markdown",
   "id": "54e7c2d8-d352-486b-b03d-6204979f3c63",
   "metadata": {
    "tags": []
   },
   "source": [
    "#### Eventos mutuamente exclusivos:"
   ]
  },
  {
   "cell_type": "markdown",
   "id": "ee65dc9f-8fca-4cff-8f26-916af89e386f",
   "metadata": {
    "tags": []
   },
   "source": [
    "* Dois eventos $E_1$ e $E_2$ são mutuamente exclusivos se  a ocorrência de $E_1$ exclui (impede) a ocorrência de $E_2$. \n",
    "* Não há sobreposição de $E_1$ e $E_2$ no diagrama de Venn.\n",
    "* Diz-se que os eventos $E_1$ e $E_2$ são disjuntos.\n",
    "* A intersecção de $E_1$ e $E_2$ é um evento impossível: $E_1 \\cap E_2 = \\emptyset$ (conjunto vazio).\n",
    "\n",
    "A figura abaixo mostra o diagrama de Venn para dois eventos mutuamente exclusivos $E_1$ e $E_2$."
   ]
  },
  {
   "cell_type": "markdown",
   "id": "56fbd9e1-ee20-4735-91a7-e5b6f3b8e5d9",
   "metadata": {
    "id": "b44db252-fc2f-44ab-87ff-0dbc3eede541"
   },
   "source": [
    "<img src=\"./images2/exclusivos.jpg\" alt=\"Mutuamente exclusivos\" style=\"width:474px\"/>"
   ]
  },
  {
   "cell_type": "markdown",
   "id": "ae61a810-7561-49ad-b144-b661b30a3b76",
   "metadata": {
    "id": "54394f66-2e92-4185-a70b-09dee943aea2"
   },
   "source": [
    "* Exemplos:\n",
    "\n",
    "1. Enchente e seca em um rio ao mesmo tempo.\n",
    "2. Ruptura e resistência de uma estrutura a um terremoto ao mesmo tempo.\n"
   ]
  },
  {
   "cell_type": "markdown",
   "id": "ac606e62-5c0b-44d5-a1f3-a347f8ea92cb",
   "metadata": {
    "tags": []
   },
   "source": [
    "#### Eventos coletivamente exaustivos:"
   ]
  },
  {
   "cell_type": "markdown",
   "id": "2cf1dbf9-31a7-4cb0-af34-c5ce79137cb4",
   "metadata": {
    "tags": []
   },
   "source": [
    "* Dois ou mais eventos $E_1, E_2...E_n$ são coletivamente exaustivos se  a união de todos estes eventos forma o espaço amostral $S$.  \n",
    "A figura abaixo mostra o diagrama de Venn para dois eventos coletivamente exaustivos $A$ e $B$."
   ]
  },
  {
   "cell_type": "markdown",
   "id": "4d520bc4-92fe-4c7d-8fc9-48d5a89b2c95",
   "metadata": {
    "id": "b44db252-fc2f-44ab-87ff-0dbc3eede541"
   },
   "source": [
    "<img src=\"./images2/exaustivos.jpg\" alt=\"Coletivamente exaustivos\" style=\"width:474px\"/>"
   ]
  },
  {
   "cell_type": "markdown",
   "id": "58414511-5f54-43e0-9776-874fee90affd",
   "metadata": {
    "id": "54394f66-2e92-4185-a70b-09dee943aea2"
   },
   "source": [
    "#### Exemplos de aplicação:"
   ]
  },
  {
   "cell_type": "markdown",
   "id": "7b432101-95f6-4f55-9ee0-38202cd8618d",
   "metadata": {
    "id": "7b432101-95f6-4f55-9ee0-38202cd8618d"
   },
   "source": [
    "* Duas companhias construturas $a$ e $b$.\n",
    "* Evento $A$: a companhia $a$ ganha uma obra.\n",
    "* Evento $B$: a companhia $b$ ganha uma obra.\n",
    "\n",
    "1. A companhia $a$ está em uma concorrência e a companhia $b$ está em __outra__ concorrência.  \n",
    "A figura abaixo mostra um diagrama de Venn para esta situação. Observa-se pelo diagrama que os eventos $A$ e $B$ __não são mutuamente exclusivos__."
   ]
  },
  {
   "cell_type": "markdown",
   "id": "a11a3d4f-449c-4cb7-bf9a-8b5e83021474",
   "metadata": {
    "id": "a11a3d4f-449c-4cb7-bf9a-8b5e83021474"
   },
   "source": [
    "<img src=\"./images2/concorrencias_diferentes.jpg\" alt=\"Concorrências diferentes\" style=\"width:474px\"/>"
   ]
  },
  {
   "cell_type": "markdown",
   "id": "9a437c4c-3cce-499e-8c68-9b0c8a5a56ed",
   "metadata": {
    "id": "9a437c4c-3cce-499e-8c68-9b0c8a5a56ed"
   },
   "source": [
    "2. As duas companhias $a$ e $b$ estão em uma __mesma__ concorrência.  \n",
    "Neste caso, conforme o diagrama de Venn abaixo, os eventos $A$ e $B$ são __mutuamente exclusivos__ e a intersecção entre eles é um evento impossível: $A \\cap B = \\emptyset$."
   ]
  },
  {
   "cell_type": "markdown",
   "id": "da6ca135-8fd4-4dcb-93f2-ffc9860ab53b",
   "metadata": {
    "id": "a11a3d4f-449c-4cb7-bf9a-8b5e83021474"
   },
   "source": [
    "<img src=\"./images2/mesma_concorrencia.jpg\" alt=\"Mesma concorrência\" style=\"width:474px\"/>"
   ]
  },
  {
   "cell_type": "markdown",
   "id": "769a0e26-9902-4828-a9c3-22232233eabd",
   "metadata": {},
   "source": [
    "3. Somente as companhias $a$ e $b$ disputam a __mesma__ concorrência.  \n",
    "O diagrama de Venn abaixo mostra que, nesta situação, os eventos $A$ e $B$ são __coletivamente exaustivos__ e que  a união entre eles é o evento certo $S$: $A \\cup B = S$."
   ]
  },
  {
   "cell_type": "markdown",
   "id": "557f83d2-db5f-4179-9d65-b11161d46391",
   "metadata": {},
   "source": [
    "<img src=\"./images2/coletivamente_exaustivos.jpg\" alt=\"Coletivamente exaustivos\" style=\"width:474px\"/>"
   ]
  },
  {
   "cell_type": "markdown",
   "id": "18f3c66e-38a4-4834-a6eb-6a72c377c6f3",
   "metadata": {
    "id": "18f3c66e-38a4-4834-a6eb-6a72c377c6f3"
   },
   "source": [
    "### 2.2.3 - Regras de operação"
   ]
  },
  {
   "cell_type": "markdown",
   "id": "1ee591c1-30db-40f2-82d0-e065dd3d4176",
   "metadata": {
    "id": "1ee591c1-30db-40f2-82d0-e065dd3d4176"
   },
   "source": [
    "__Simbologia:__\n",
    "* $\\emptyset$ - Evento impossível, conjunto vazio\n",
    "* $\\cup$ - União\n",
    "* $\\cap$ - Intersecção\n",
    "* $\\subset$ - Está contido em\n",
    "* $\\supset$ - Contém\n",
    "* $\\overline{E}$ - Evento complementar de\n",
    "\n",
    "__Operações:__\n",
    "* $E_1 \\cup E_2$ - União\n",
    "* $E_2 \\cap E_2$ - Intersecção\n",
    "* $\\overline{E}$ - Complemento"
   ]
  },
  {
   "cell_type": "markdown",
   "id": "3dd9a358-7ece-46ff-a40d-df763a92ff9d",
   "metadata": {},
   "source": [
    "#### Igualdade entre dois eventos"
   ]
  },
  {
   "cell_type": "markdown",
   "id": "d4616db1-e586-46c6-81a3-f5dde46b2da8",
   "metadata": {},
   "source": [
    "* Dois conjuntos são iguais se, e somente se, contêm os mesmos pontos amostrais."
   ]
  },
  {
   "cell_type": "markdown",
   "id": "bc63f8ed-1aaa-4750-bb50-c9e4a14e03d7",
   "metadata": {},
   "source": [
    "Então, com base na figura abaixo, pode-se estabelecer que:"
   ]
  },
  {
   "cell_type": "markdown",
   "id": "47bbe125-7fe0-4c1d-8058-2306ed4be7c8",
   "metadata": {},
   "source": [
    "<img src=\"./images2/conjunto_a.jpg\" alt=\"conjunto_A\" style=\"width:474px\"/>"
   ]
  },
  {
   "cell_type": "markdown",
   "id": "bcf77fe5-e2b2-4c98-b49d-d8f3bec5f9f2",
   "metadata": {},
   "source": [
    "* $A \\cup \\emptyset = A$\n",
    "* $A \\cap \\emptyset = \\emptyset$\n",
    "* $A \\cup A = A$\n",
    "* $A \\cap A = A$\n",
    "* $A \\cup S = S$\n",
    "* $A \\cap S = A$"
   ]
  },
  {
   "cell_type": "markdown",
   "id": "b3306037-ac13-4e62-adb3-3dcd337a48f2",
   "metadata": {},
   "source": [
    "### Conjuntos complementares"
   ]
  },
  {
   "cell_type": "markdown",
   "id": "a0e294df-889d-4aaf-840c-eb50c1679e92",
   "metadata": {},
   "source": [
    "De acordo com a figura abaixo, tem-se que:"
   ]
  },
  {
   "cell_type": "markdown",
   "id": "0755760f-3f23-45df-87f8-3fb062ab5602",
   "metadata": {},
   "source": [
    "<img src=\"./images2/complementares.jpg\" alt=\"Eventos complementares\" style=\"width:474px\"/>"
   ]
  },
  {
   "cell_type": "markdown",
   "id": "4601e7a9-c697-4d5a-bd9e-4435f67d7b9a",
   "metadata": {},
   "source": [
    "* $E \\cup \\overline{E} = S$\n",
    "* $E \\cap \\overline{E} = \\emptyset$\n",
    "* $ \\overline{\\left(\\overline{E} \\right)} = E$"
   ]
  },
  {
   "cell_type": "markdown",
   "id": "f3b72ec8-f58f-43a5-befe-693235d1f6ae",
   "metadata": {},
   "source": [
    "### Regra comutativa"
   ]
  },
  {
   "cell_type": "markdown",
   "id": "05e9a37a-7ab2-454b-b7bb-7e95a8c1e34d",
   "metadata": {},
   "source": [
    "De acordo com o diagrama de Venn abaixo, tem-se que:"
   ]
  },
  {
   "cell_type": "markdown",
   "id": "90da4b2c-83cd-4a5f-8ccd-86232a75f2c7",
   "metadata": {},
   "source": [
    "<img src=\"./images2/comutativa.jpg\" alt=\"Regra comutativa\" style=\"width:474px\"/>"
   ]
  },
  {
   "cell_type": "markdown",
   "id": "fccae7fe-3d40-4f6a-93d1-99ed42b2212a",
   "metadata": {},
   "source": [
    "* $A \\cup B = B \\cup A$\n",
    "* $A \\cap B = B \\cap A$"
   ]
  },
  {
   "cell_type": "markdown",
   "id": "99ac565d-ca68-4575-bb95-b429a7702b26",
   "metadata": {
    "tags": []
   },
   "source": [
    "### Regra associativa"
   ]
  },
  {
   "cell_type": "markdown",
   "id": "15db76aa-17a0-443e-8c86-2d9f5c209d70",
   "metadata": {},
   "source": [
    "De acordo com a figura abaixo, tem-se que:"
   ]
  },
  {
   "cell_type": "markdown",
   "id": "8e38195f-1e30-46a0-909c-c6bc81b675be",
   "metadata": {},
   "source": [
    "<img src=\"./images2/associativa.jpg\" alt=\"Regra associativa\" style=\"width:474px\"/>"
   ]
  },
  {
   "cell_type": "markdown",
   "id": "14842538-bbf6-4345-b054-f4a3b9942cbe",
   "metadata": {},
   "source": [
    "* $\\left(A \\cup B \\right) \\cup C = A  \\cup \\left(B \\cup C \\right)$\n",
    "* $\\left(A \\cap B \\right) \\cap C = A \\cap \\left(B \\cap C \\right)$"
   ]
  },
  {
   "cell_type": "markdown",
   "id": "d01d3ead-d6f9-41f1-9207-39fb5c9b08c3",
   "metadata": {},
   "source": [
    "### Regra distributiva 1"
   ]
  },
  {
   "cell_type": "markdown",
   "id": "5340143b-2983-46fe-96a4-c0d94a99dc05",
   "metadata": {},
   "source": [
    "De acordo com o diagrama de Venn abaixo, para os conjuntos $A$, $B$ e $C$, tem-se que a área em preto é igual a:"
   ]
  },
  {
   "cell_type": "markdown",
   "id": "3c0d3af4-7b1b-4089-8f9e-bde459a7141b",
   "metadata": {},
   "source": [
    "<img src=\"./images2/distributiva1.jpg\" alt=\"Propriedade distributiva\" style=\"width:474px\"/>"
   ]
  },
  {
   "cell_type": "markdown",
   "id": "33608cd6-7446-42d8-9695-5e8121f30368",
   "metadata": {},
   "source": [
    "* $\\left(A \\cup B \\right) \\cap C = \\left(A  \\cap C \\right) \\cup \\left(B \\cup C \\right)$"
   ]
  },
  {
   "cell_type": "markdown",
   "id": "238e3dba-f4b9-42ba-acfc-664fdea9331b",
   "metadata": {},
   "source": [
    "### Regra distributiva 2"
   ]
  },
  {
   "cell_type": "markdown",
   "id": "f2911ade-250a-46c8-a226-2dde3c4d34c1",
   "metadata": {},
   "source": [
    "De acordo com a figura abaixo, tem-se. para os conjuntos $A$, $B$ e $C$,  que a área em preto é igual a:"
   ]
  },
  {
   "cell_type": "markdown",
   "id": "5b81c586-9524-486d-941b-55f1d86b7c98",
   "metadata": {},
   "source": [
    "<img src=\"./images2/distributiva2.jpg\" alt=\"Propriedade distributiva 2\" style=\"width:474px\"/>"
   ]
  },
  {
   "cell_type": "markdown",
   "id": "24c1ac55-7b54-47e6-82c1-3a87a2dd8a9a",
   "metadata": {},
   "source": [
    "* $\\left(A \\cap B \\right) \\cup C = \\left(A  \\cup C \\right) \\cap \\left(B \\cup C \\right)$"
   ]
  },
  {
   "cell_type": "markdown",
   "id": "e146fbc4-90de-4c8e-8dd4-4b48395093f4",
   "metadata": {},
   "source": [
    "### Regra de Morgan"
   ]
  },
  {
   "cell_type": "markdown",
   "id": "1a8543d7-2595-4c75-ab61-53fefc206106",
   "metadata": {},
   "source": [
    "Para dois eventos $E_1$ e $E_2$ quaisquer, vale a relação:\n",
    "\n",
    "$$ \\overline{E_1 \\cup E_2} = \\overline{E_1} \\cap \\overline{E_2}$$  \n",
    "\n",
    "__O complemento da união é igual à intersecção dos respectivos complementos.__\n",
    "\n",
    "Uma demonstração gráfica da Regra de Morgan pode ser visualizada na figura abaixo."
   ]
  },
  {
   "cell_type": "markdown",
   "id": "ebcbf220-dc67-4c57-830b-d2eec114de2d",
   "metadata": {},
   "source": [
    "<img src=\"./images2/regra_de_Morgan.jpg\" alt=\"Regra de Morgan\" style=\"width:800px\"/>"
   ]
  },
  {
   "cell_type": "markdown",
   "id": "62898f99-505b-4511-a656-af7458ac3a19",
   "metadata": {},
   "source": [
    "#### Generalização da Regra de Morgan:"
   ]
  },
  {
   "cell_type": "markdown",
   "id": "14eadae7-2335-43f1-981c-0bb25343cd38",
   "metadata": {},
   "source": [
    "$$ \\overline{E_1 \\cup E_2 \\cup ... \\cup E_n} = \\overline{E_1} \\cap \\overline{E_2} \\cap ... \\cap \\overline{E_n}$$ "
   ]
  },
  {
   "cell_type": "markdown",
   "id": "5534bc14-f944-4492-8fdf-def63bd10920",
   "metadata": {},
   "source": [
    "Ou ainda:"
   ]
  },
  {
   "cell_type": "markdown",
   "id": "2d8ed2f9-d701-47b3-be15-87527c35320e",
   "metadata": {},
   "source": [
    "$$\\overline{\\overline{E_1} \\cup \\overline{E_2} \\cup ... \\cup \\overline{E_n}} = E_1 \\cap E_2 \\cap ... \\cap E_n$$"
   ]
  },
  {
   "cell_type": "markdown",
   "id": "a4ebb5ed-c137-4728-be3b-9a19d54f6770",
   "metadata": {},
   "source": [
    "E tomando-se o complemento dos dois lados da igualdade:"
   ]
  },
  {
   "cell_type": "markdown",
   "id": "d6ba6be0-2edf-41fe-9c55-a93ff2ff4558",
   "metadata": {},
   "source": [
    "$$ \\overline{E_1 \\cap E_2 \\cap ... \\cap E_n} = \\overline{E_1} \\cup \\overline{E_2} \\cup ... \\cup \\overline{E_n}$$ "
   ]
  },
  {
   "cell_type": "markdown",
   "id": "7f3ed019-a800-4b96-b3f1-30ffaff041a5",
   "metadata": {},
   "source": [
    "#### Aplicação prática da regra de Morgan"
   ]
  },
  {
   "cell_type": "markdown",
   "id": "58083f81-27ce-4dff-bc54-dfef2f8b2b42",
   "metadata": {},
   "source": [
    "Uma cadeia consiste de dois elos, como mostrado na figura abaixo. A cadeia irá sofrer ruptura se um dos elos se quebrar, ou se os dois elos se quebrarem simultaneamente."
   ]
  },
  {
   "cell_type": "markdown",
   "id": "0a344f48-eabf-48ce-8bd0-acd22ac11c82",
   "metadata": {},
   "source": [
    "<img src=\"./images2/elos_em_cadeia.jpg\" alt=\"cadeia de elos\" style=\"width:474px\"/>"
   ]
  },
  {
   "cell_type": "markdown",
   "id": "9e5bbb30-806d-469d-972f-efd6f3d0cfdc",
   "metadata": {},
   "source": [
    "Fonte: ANG,  A.  H-S.; TANG,  W. H.. Probability concepts in engineering: Emphasis on applications to Civil and Enviromental Engineering.  2nd ed. Hoboken, NJ, John Wiley & Sons, 2007."
   ]
  },
  {
   "cell_type": "markdown",
   "id": "0cebbdd2-bf0b-46e0-9795-f335d882fc9a",
   "metadata": {},
   "source": [
    "* Evento $E_1$ = falha no elo 1."
   ]
  },
  {
   "cell_type": "markdown",
   "id": "4a897e86-4bd8-49f2-99a6-48e2424481e5",
   "metadata": {},
   "source": [
    "* Evento $E_2$ = falha no elo 2."
   ]
  },
  {
   "cell_type": "markdown",
   "id": "29031f2f-ad81-4bce-8004-27e6c7824f88",
   "metadata": {},
   "source": [
    "* Evento falha na cadeia = $E_1 \\cup E_2$"
   ]
  },
  {
   "cell_type": "markdown",
   "id": "2be0e350-abf3-4822-9191-355776dfcab3",
   "metadata": {},
   "source": [
    "* A não falha da cadeia corresponde ao evento: $\\overline{E_1 \\cup E_2}$"
   ]
  },
  {
   "cell_type": "markdown",
   "id": "d7ff39d3-5012-4b1e-b3f8-3199bc664200",
   "metadata": {},
   "source": [
    "* Aliás, a não ruptura da cadeia também significa que ambos os elos se mantêm intactos simultaneamente, isto é, corresponde ao evento: $\\overline{E_1} \\cap \\overline{E_2}$"
   ]
  },
  {
   "cell_type": "markdown",
   "id": "644279e4-5c74-4d1c-bbff-d7675e466732",
   "metadata": {},
   "source": [
    "* Vale, então, a __Regra de Morgan__: $$\\overline{E_1 \\cup E_2} = \\overline{E_1} \\cap \\overline{E_2}$$"
   ]
  },
  {
   "cell_type": "markdown",
   "id": "b508baa9-4a6d-4610-8105-f619bbb54157",
   "metadata": {},
   "source": [
    "[Voltar ao ínicio da aula](#section_2)"
   ]
  },
  {
   "cell_type": "markdown",
   "id": "cd3e3ffa-0e04-4925-a842-cea1b29f5e8c",
   "metadata": {
    "tags": []
   },
   "source": [
    "## __Bibliografia__"
   ]
  },
  {
   "cell_type": "markdown",
   "id": "22843f6f-9513-4934-85e2-79f9121882c1",
   "metadata": {},
   "source": [
    "* __Livros__\n",
    "* ANG,  A.  H-S.; TANG,  W. H.. Probability concepts in engineering planning and design. Volume I:  basic principles. New  York, John Wiley & Sons, 1975.\n",
    "* ANG,  A.  H-S.; TANG,  W. H.. Probability concepts in engineering planning and design. Volume II: decision, risk and reliability. New  York, John Wiley & Sons, 1984.\n",
    "* ANG,  A.  H-S.; TANG,  W. H.. Probability concepts in engineering: Emphasis on applications to Civil and Enviromental Engineering.  2nd ed. Hoboken, NJ, John Wiley & Sons, 2007.\n",
    "* BECK, A. T. Confiabilidade e segurança das  estruturas. Rio de Janeiro, Elsevier, 2019.\n",
    "* HALDAR, A. MAHADEVAN, S. Probability, reliability, and statistical methods in engineering design. New York, Wiley, 2000.\n",
    "* MELCHERS, R.E., BECK, A. T.; Structural reliability analysis and prediction. 3rd ed. John Wiley and Sons, 2018, 514p.\n",
    "* __Revistas:__\n",
    "* Structural Safety\n",
    "* Probabilistic Engineering Mechanics\n",
    "* Boletins CEB-FIP (agora fib)\n",
    "* Revista IBRACON de Estruturas e Materiais"
   ]
  },
  {
   "cell_type": "code",
   "execution_count": null,
   "id": "d6548269-ae51-45ef-bcd2-f266faf2099d",
   "metadata": {},
   "outputs": [],
   "source": []
  }
 ],
 "metadata": {
  "colab": {
   "name": "Capítulo_1.ipynb",
   "provenance": []
  },
  "kernelspec": {
   "display_name": "Python 3 (ipykernel)",
   "language": "python",
   "name": "python3"
  },
  "language_info": {
   "codemirror_mode": {
    "name": "ipython",
    "version": 3
   },
   "file_extension": ".py",
   "mimetype": "text/x-python",
   "name": "python",
   "nbconvert_exporter": "python",
   "pygments_lexer": "ipython3",
   "version": "3.10.12"
  }
 },
 "nbformat": 4,
 "nbformat_minor": 5
}
